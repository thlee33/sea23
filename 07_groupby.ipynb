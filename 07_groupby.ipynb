{
 "cells": [
  {
   "cell_type": "code",
   "execution_count": 1,
   "id": "5ff99438",
   "metadata": {},
   "outputs": [],
   "source": [
    "import matplotlib.pyplot as plt\n",
    "%matplotlib inline\n",
    "plt.rc('font', family='Malgun Gothic') #한글 폰트 적용시"
   ]
  },
  {
   "cell_type": "code",
   "execution_count": 2,
   "id": "26f3c656",
   "metadata": {},
   "outputs": [
    {
     "name": "stderr",
     "output_type": "stream",
     "text": [
      "c:\\Users\\leesh\\AppData\\Local\\Programs\\Python\\Python311\\Lib\\site-packages\\geopandas\\_compat.py:124: UserWarning: The Shapely GEOS version (3.10.1-CAPI-1.16.0) is incompatible with the GEOS version PyGEOS was compiled with (3.10.4-CAPI-1.16.2). Conversions between both will be slow.\n",
      "  warnings.warn(\n"
     ]
    }
   ],
   "source": [
    "import pandas as pd\n",
    "import geopandas as gpd"
   ]
  },
  {
   "cell_type": "code",
   "execution_count": 3,
   "id": "c9678138",
   "metadata": {},
   "outputs": [
    {
     "name": "stdout",
     "output_type": "stream",
     "text": [
      "<class 'geopandas.geodataframe.GeoDataFrame'>\n",
      "RangeIndex: 220833 entries, 0 to 220832\n",
      "Data columns (total 21 columns):\n",
      " #   Column        Non-Null Count   Dtype   \n",
      "---  ------        --------------   -----   \n",
      " 0   spc_scitf_nm  220833 non-null  object  \n",
      " 1   comm_kor_nm   163598 non-null  object  \n",
      " 2   genus         220681 non-null  object  \n",
      " 3   genus_nm      164667 non-null  object  \n",
      " 4   family        220727 non-null  object  \n",
      " 5   family_nm     163772 non-null  object  \n",
      " 6   order_        220742 non-null  object  \n",
      " 7   order_nm      162672 non-null  object  \n",
      " 8   class         220809 non-null  object  \n",
      " 9   class_nm      171786 non-null  object  \n",
      " 10  phylum        220811 non-null  object  \n",
      " 11  phylum_nm     206406 non-null  object  \n",
      " 12  kingdom       220833 non-null  object  \n",
      " 13  kingdom_nm    220833 non-null  object  \n",
      " 14  lati_val      220833 non-null  float64 \n",
      " 15  loti_val      220833 non-null  float64 \n",
      " 16  col_bg_dt     220833 non-null  object  \n",
      " 17  ssea_id       220833 non-null  object  \n",
      " 18  sstrnc_no     218990 non-null  object  \n",
      " 19  kind          220833 non-null  object  \n",
      " 20  geometry      220833 non-null  geometry\n",
      "dtypes: float64(2), geometry(1), object(18)\n",
      "memory usage: 35.4+ MB\n"
     ]
    },
    {
     "data": {
      "text/html": [
       "<div>\n",
       "<style scoped>\n",
       "    .dataframe tbody tr th:only-of-type {\n",
       "        vertical-align: middle;\n",
       "    }\n",
       "\n",
       "    .dataframe tbody tr th {\n",
       "        vertical-align: top;\n",
       "    }\n",
       "\n",
       "    .dataframe thead th {\n",
       "        text-align: right;\n",
       "    }\n",
       "</style>\n",
       "<table border=\"1\" class=\"dataframe\">\n",
       "  <thead>\n",
       "    <tr style=\"text-align: right;\">\n",
       "      <th></th>\n",
       "      <th>spc_scitf_nm</th>\n",
       "      <th>comm_kor_nm</th>\n",
       "      <th>genus</th>\n",
       "      <th>genus_nm</th>\n",
       "      <th>family</th>\n",
       "      <th>family_nm</th>\n",
       "      <th>order_</th>\n",
       "      <th>order_nm</th>\n",
       "      <th>class</th>\n",
       "      <th>class_nm</th>\n",
       "      <th>...</th>\n",
       "      <th>phylum_nm</th>\n",
       "      <th>kingdom</th>\n",
       "      <th>kingdom_nm</th>\n",
       "      <th>lati_val</th>\n",
       "      <th>loti_val</th>\n",
       "      <th>col_bg_dt</th>\n",
       "      <th>ssea_id</th>\n",
       "      <th>sstrnc_no</th>\n",
       "      <th>kind</th>\n",
       "      <th>geometry</th>\n",
       "    </tr>\n",
       "  </thead>\n",
       "  <tbody>\n",
       "    <tr>\n",
       "      <th>0</th>\n",
       "      <td>Mucor circinelloides</td>\n",
       "      <td>None</td>\n",
       "      <td>Mucor</td>\n",
       "      <td>None</td>\n",
       "      <td>Mucoraceae</td>\n",
       "      <td>None</td>\n",
       "      <td>Mucorales</td>\n",
       "      <td>None</td>\n",
       "      <td>Mucoromycetes</td>\n",
       "      <td>None</td>\n",
       "      <td>...</td>\n",
       "      <td>None</td>\n",
       "      <td>Fungi</td>\n",
       "      <td>균계</td>\n",
       "      <td>38.481861</td>\n",
       "      <td>128.438194</td>\n",
       "      <td>20160802</td>\n",
       "      <td>EM</td>\n",
       "      <td>5055-3</td>\n",
       "      <td>mbris</td>\n",
       "      <td>POINT (128.43819 38.48186)</td>\n",
       "    </tr>\n",
       "    <tr>\n",
       "      <th>1</th>\n",
       "      <td>Paralinhomoeus gerlachi</td>\n",
       "      <td>None</td>\n",
       "      <td>Paralinhomoeus</td>\n",
       "      <td>None</td>\n",
       "      <td>Linhomoeidae</td>\n",
       "      <td>None</td>\n",
       "      <td>Monhysterida</td>\n",
       "      <td>None</td>\n",
       "      <td>Chromadorea</td>\n",
       "      <td>None</td>\n",
       "      <td>...</td>\n",
       "      <td>선형동물문</td>\n",
       "      <td>Animalia</td>\n",
       "      <td>동물계</td>\n",
       "      <td>38.269869</td>\n",
       "      <td>128.557564</td>\n",
       "      <td>20160415</td>\n",
       "      <td>EM</td>\n",
       "      <td>55-4</td>\n",
       "      <td>mbris</td>\n",
       "      <td>POINT (128.55756 38.26987)</td>\n",
       "    </tr>\n",
       "    <tr>\n",
       "      <th>2</th>\n",
       "      <td>Aplysia kurodai</td>\n",
       "      <td>군소</td>\n",
       "      <td>Aplysia</td>\n",
       "      <td>군소속</td>\n",
       "      <td>Aplysiidae</td>\n",
       "      <td>군소과</td>\n",
       "      <td>Aplysiida</td>\n",
       "      <td>None</td>\n",
       "      <td>Gastropoda</td>\n",
       "      <td>복족강</td>\n",
       "      <td>...</td>\n",
       "      <td>연체동물문</td>\n",
       "      <td>Animalia</td>\n",
       "      <td>동물계</td>\n",
       "      <td>38.271903</td>\n",
       "      <td>128.558261</td>\n",
       "      <td>20190522</td>\n",
       "      <td>EM</td>\n",
       "      <td>55-4</td>\n",
       "      <td>mbris</td>\n",
       "      <td>POINT (128.55826 38.27190)</td>\n",
       "    </tr>\n",
       "    <tr>\n",
       "      <th>3</th>\n",
       "      <td>Botrytis cinerea</td>\n",
       "      <td>None</td>\n",
       "      <td>Botrytis</td>\n",
       "      <td>None</td>\n",
       "      <td>Sclerotiniaceae</td>\n",
       "      <td>None</td>\n",
       "      <td>Helotiales</td>\n",
       "      <td>None</td>\n",
       "      <td>Leotiomycetes</td>\n",
       "      <td>None</td>\n",
       "      <td>...</td>\n",
       "      <td>None</td>\n",
       "      <td>Fungi</td>\n",
       "      <td>균계</td>\n",
       "      <td>38.153361</td>\n",
       "      <td>128.608306</td>\n",
       "      <td>19000100</td>\n",
       "      <td>EM</td>\n",
       "      <td>55-7</td>\n",
       "      <td>mbris</td>\n",
       "      <td>POINT (128.60831 38.15336)</td>\n",
       "    </tr>\n",
       "    <tr>\n",
       "      <th>4</th>\n",
       "      <td>Trichoderma</td>\n",
       "      <td>None</td>\n",
       "      <td>Trichoderma</td>\n",
       "      <td>None</td>\n",
       "      <td>Hypocreaceae</td>\n",
       "      <td>None</td>\n",
       "      <td>Hypocreales</td>\n",
       "      <td>None</td>\n",
       "      <td>Sordariomycetes</td>\n",
       "      <td>None</td>\n",
       "      <td>...</td>\n",
       "      <td>None</td>\n",
       "      <td>Fungi</td>\n",
       "      <td>균계</td>\n",
       "      <td>37.858556</td>\n",
       "      <td>128.854389</td>\n",
       "      <td>20160926</td>\n",
       "      <td>EM</td>\n",
       "      <td>62-3</td>\n",
       "      <td>mbris</td>\n",
       "      <td>POINT (128.85439 37.85856)</td>\n",
       "    </tr>\n",
       "  </tbody>\n",
       "</table>\n",
       "<p>5 rows × 21 columns</p>\n",
       "</div>"
      ],
      "text/plain": [
       "              spc_scitf_nm comm_kor_nm           genus genus_nm  \\\n",
       "0     Mucor circinelloides        None           Mucor     None   \n",
       "1  Paralinhomoeus gerlachi        None  Paralinhomoeus     None   \n",
       "2          Aplysia kurodai          군소         Aplysia      군소속   \n",
       "3         Botrytis cinerea        None        Botrytis     None   \n",
       "4              Trichoderma        None     Trichoderma     None   \n",
       "\n",
       "            family family_nm        order_ order_nm            class class_nm  \\\n",
       "0       Mucoraceae      None     Mucorales     None    Mucoromycetes     None   \n",
       "1     Linhomoeidae      None  Monhysterida     None      Chromadorea     None   \n",
       "2       Aplysiidae       군소과     Aplysiida     None       Gastropoda      복족강   \n",
       "3  Sclerotiniaceae      None    Helotiales     None    Leotiomycetes     None   \n",
       "4     Hypocreaceae      None   Hypocreales     None  Sordariomycetes     None   \n",
       "\n",
       "   ... phylum_nm   kingdom kingdom_nm   lati_val    loti_val  col_bg_dt  \\\n",
       "0  ...      None     Fungi         균계  38.481861  128.438194   20160802   \n",
       "1  ...     선형동물문  Animalia        동물계  38.269869  128.557564   20160415   \n",
       "2  ...     연체동물문  Animalia        동물계  38.271903  128.558261   20190522   \n",
       "3  ...      None     Fungi         균계  38.153361  128.608306   19000100   \n",
       "4  ...      None     Fungi         균계  37.858556  128.854389   20160926   \n",
       "\n",
       "  ssea_id sstrnc_no   kind                    geometry  \n",
       "0      EM    5055-3  mbris  POINT (128.43819 38.48186)  \n",
       "1      EM      55-4  mbris  POINT (128.55756 38.26987)  \n",
       "2      EM      55-4  mbris  POINT (128.55826 38.27190)  \n",
       "3      EM      55-7  mbris  POINT (128.60831 38.15336)  \n",
       "4      EM      62-3  mbris  POINT (128.85439 37.85856)  \n",
       "\n",
       "[5 rows x 21 columns]"
      ]
     },
     "execution_count": 3,
     "metadata": {},
     "output_type": "execute_result"
    }
   ],
   "source": [
    "# 종분포 데이터\n",
    "gdf_pt = gpd.read_file('../data/geo_mbris_obis_edu_light.gpkg', encoding=\"UTF-8\")\n",
    "gdf_pt.info()\n",
    "gdf_pt.head()"
   ]
  },
  {
   "cell_type": "code",
   "execution_count": 4,
   "id": "51f55431",
   "metadata": {},
   "outputs": [
    {
     "name": "stdout",
     "output_type": "stream",
     "text": [
      "<class 'geopandas.geodataframe.GeoDataFrame'>\n",
      "RangeIndex: 94 entries, 0 to 93\n",
      "Data columns (total 9 columns):\n",
      " #   Column      Non-Null Count  Dtype   \n",
      "---  ------      --------------  -----   \n",
      " 0   gid_1       94 non-null     int64   \n",
      " 1   sarea_korn  94 non-null     object  \n",
      " 2   ssea_id     94 non-null     object  \n",
      " 3   gid_2       94 non-null     int64   \n",
      " 4   lyr_nm      94 non-null     object  \n",
      " 5   zn_nm       94 non-null     object  \n",
      " 6   appn_year   94 non-null     object  \n",
      " 7   mng_inst_n  94 non-null     object  \n",
      " 8   geometry    94 non-null     geometry\n",
      "dtypes: geometry(1), int64(2), object(6)\n",
      "memory usage: 6.7+ KB\n"
     ]
    },
    {
     "data": {
      "text/html": [
       "<div>\n",
       "<style scoped>\n",
       "    .dataframe tbody tr th:only-of-type {\n",
       "        vertical-align: middle;\n",
       "    }\n",
       "\n",
       "    .dataframe tbody tr th {\n",
       "        vertical-align: top;\n",
       "    }\n",
       "\n",
       "    .dataframe thead th {\n",
       "        text-align: right;\n",
       "    }\n",
       "</style>\n",
       "<table border=\"1\" class=\"dataframe\">\n",
       "  <thead>\n",
       "    <tr style=\"text-align: right;\">\n",
       "      <th></th>\n",
       "      <th>gid_1</th>\n",
       "      <th>sarea_korn</th>\n",
       "      <th>ssea_id</th>\n",
       "      <th>gid_2</th>\n",
       "      <th>lyr_nm</th>\n",
       "      <th>zn_nm</th>\n",
       "      <th>appn_year</th>\n",
       "      <th>mng_inst_n</th>\n",
       "      <th>geometry</th>\n",
       "    </tr>\n",
       "  </thead>\n",
       "  <tbody>\n",
       "    <tr>\n",
       "      <th>0</th>\n",
       "      <td>5</td>\n",
       "      <td>동해남부</td>\n",
       "      <td>ES</td>\n",
       "      <td>283</td>\n",
       "      <td>국립공원</td>\n",
       "      <td>경주</td>\n",
       "      <td>1968</td>\n",
       "      <td>환경부</td>\n",
       "      <td>MULTIPOLYGON (((129.49301 35.75017, 129.49384 ...</td>\n",
       "    </tr>\n",
       "    <tr>\n",
       "      <th>1</th>\n",
       "      <td>4</td>\n",
       "      <td>남해동부</td>\n",
       "      <td>SE</td>\n",
       "      <td>47</td>\n",
       "      <td>군립공원</td>\n",
       "      <td>상족암</td>\n",
       "      <td>1983</td>\n",
       "      <td>환경부</td>\n",
       "      <td>POLYGON ((128.18058 34.88437, 128.18035 34.884...</td>\n",
       "    </tr>\n",
       "    <tr>\n",
       "      <th>2</th>\n",
       "      <td>4</td>\n",
       "      <td>남해동부</td>\n",
       "      <td>SE</td>\n",
       "      <td>63</td>\n",
       "      <td>습지보호지역</td>\n",
       "      <td>낙동강하구</td>\n",
       "      <td>1999</td>\n",
       "      <td>환경부</td>\n",
       "      <td>POLYGON ((128.92425 35.03872, 128.91541 35.040...</td>\n",
       "    </tr>\n",
       "    <tr>\n",
       "      <th>3</th>\n",
       "      <td>4</td>\n",
       "      <td>남해동부</td>\n",
       "      <td>SE</td>\n",
       "      <td>100</td>\n",
       "      <td>해양보호구역</td>\n",
       "      <td>경남 고성군 상괭이 해역</td>\n",
       "      <td>2019</td>\n",
       "      <td>해양수산부</td>\n",
       "      <td>POLYGON ((128.11805 34.88966, 128.12032 34.887...</td>\n",
       "    </tr>\n",
       "    <tr>\n",
       "      <th>4</th>\n",
       "      <td>4</td>\n",
       "      <td>남해동부</td>\n",
       "      <td>SE</td>\n",
       "      <td>120</td>\n",
       "      <td>습지보호지역-갯벌</td>\n",
       "      <td>마산만 봉암갯벌</td>\n",
       "      <td>2011</td>\n",
       "      <td>해양수산부</td>\n",
       "      <td>POLYGON ((128.62651 35.21694, 128.62694 35.217...</td>\n",
       "    </tr>\n",
       "  </tbody>\n",
       "</table>\n",
       "</div>"
      ],
      "text/plain": [
       "   gid_1 sarea_korn ssea_id  gid_2     lyr_nm          zn_nm appn_year  \\\n",
       "0      5       동해남부      ES    283       국립공원             경주      1968   \n",
       "1      4       남해동부      SE     47       군립공원            상족암      1983   \n",
       "2      4       남해동부      SE     63     습지보호지역          낙동강하구      1999   \n",
       "3      4       남해동부      SE    100     해양보호구역  경남 고성군 상괭이 해역      2019   \n",
       "4      4       남해동부      SE    120  습지보호지역-갯벌       마산만 봉암갯벌      2011   \n",
       "\n",
       "  mng_inst_n                                           geometry  \n",
       "0        환경부  MULTIPOLYGON (((129.49301 35.75017, 129.49384 ...  \n",
       "1        환경부  POLYGON ((128.18058 34.88437, 128.18035 34.884...  \n",
       "2        환경부  POLYGON ((128.92425 35.03872, 128.91541 35.040...  \n",
       "3      해양수산부  POLYGON ((128.11805 34.88966, 128.12032 34.887...  \n",
       "4      해양수산부  POLYGON ((128.62651 35.21694, 128.62694 35.217...  "
      ]
     },
     "execution_count": 4,
     "metadata": {},
     "output_type": "execute_result"
    }
   ],
   "source": [
    "# 해양보호구역\n",
    "gdf_zone = gpd.read_file('result/protect_zone2.shp', encoding=\"UTF-8\")\n",
    "gdf_zone.info()\n",
    "gdf_zone.head()"
   ]
  },
  {
   "cell_type": "markdown",
   "id": "768b69ee",
   "metadata": {},
   "source": [
    "### 종분포와 보호구역을 공간조인"
   ]
  },
  {
   "cell_type": "code",
   "execution_count": 5,
   "id": "a60dd438",
   "metadata": {},
   "outputs": [
    {
     "name": "stdout",
     "output_type": "stream",
     "text": [
      "<class 'geopandas.geodataframe.GeoDataFrame'>\n",
      "Index: 43090 entries, 41 to 214848\n",
      "Data columns (total 30 columns):\n",
      " #   Column         Non-Null Count  Dtype   \n",
      "---  ------         --------------  -----   \n",
      " 0   spc_scitf_nm   43090 non-null  object  \n",
      " 1   comm_kor_nm    34989 non-null  object  \n",
      " 2   genus          43011 non-null  object  \n",
      " 3   genus_nm       33807 non-null  object  \n",
      " 4   family         43025 non-null  object  \n",
      " 5   family_nm      34497 non-null  object  \n",
      " 6   order_         43028 non-null  object  \n",
      " 7   order_nm       34213 non-null  object  \n",
      " 8   class          43060 non-null  object  \n",
      " 9   class_nm       35798 non-null  object  \n",
      " 10  phylum         43062 non-null  object  \n",
      " 11  phylum_nm      40801 non-null  object  \n",
      " 12  kingdom        43090 non-null  object  \n",
      " 13  kingdom_nm     43090 non-null  object  \n",
      " 14  lati_val       43090 non-null  float64 \n",
      " 15  loti_val       43090 non-null  float64 \n",
      " 16  col_bg_dt      43090 non-null  object  \n",
      " 17  ssea_id_left   43090 non-null  object  \n",
      " 18  sstrnc_no      43084 non-null  object  \n",
      " 19  kind           43090 non-null  object  \n",
      " 20  geometry       43090 non-null  geometry\n",
      " 21  index_right    43090 non-null  int64   \n",
      " 22  gid_1          43090 non-null  int64   \n",
      " 23  sarea_korn     43090 non-null  object  \n",
      " 24  ssea_id_right  43090 non-null  object  \n",
      " 25  gid_2          43090 non-null  int64   \n",
      " 26  lyr_nm         43090 non-null  object  \n",
      " 27  zn_nm          43090 non-null  object  \n",
      " 28  appn_year      43090 non-null  object  \n",
      " 29  mng_inst_n     43090 non-null  object  \n",
      "dtypes: float64(2), geometry(1), int64(3), object(24)\n",
      "memory usage: 10.2+ MB\n"
     ]
    },
    {
     "data": {
      "text/html": [
       "<div>\n",
       "<style scoped>\n",
       "    .dataframe tbody tr th:only-of-type {\n",
       "        vertical-align: middle;\n",
       "    }\n",
       "\n",
       "    .dataframe tbody tr th {\n",
       "        vertical-align: top;\n",
       "    }\n",
       "\n",
       "    .dataframe thead th {\n",
       "        text-align: right;\n",
       "    }\n",
       "</style>\n",
       "<table border=\"1\" class=\"dataframe\">\n",
       "  <thead>\n",
       "    <tr style=\"text-align: right;\">\n",
       "      <th></th>\n",
       "      <th>spc_scitf_nm</th>\n",
       "      <th>comm_kor_nm</th>\n",
       "      <th>genus</th>\n",
       "      <th>genus_nm</th>\n",
       "      <th>family</th>\n",
       "      <th>family_nm</th>\n",
       "      <th>order_</th>\n",
       "      <th>order_nm</th>\n",
       "      <th>class</th>\n",
       "      <th>class_nm</th>\n",
       "      <th>...</th>\n",
       "      <th>geometry</th>\n",
       "      <th>index_right</th>\n",
       "      <th>gid_1</th>\n",
       "      <th>sarea_korn</th>\n",
       "      <th>ssea_id_right</th>\n",
       "      <th>gid_2</th>\n",
       "      <th>lyr_nm</th>\n",
       "      <th>zn_nm</th>\n",
       "      <th>appn_year</th>\n",
       "      <th>mng_inst_n</th>\n",
       "    </tr>\n",
       "  </thead>\n",
       "  <tbody>\n",
       "    <tr>\n",
       "      <th>41</th>\n",
       "      <td>Tripos teres</td>\n",
       "      <td>None</td>\n",
       "      <td>Tripos</td>\n",
       "      <td>None</td>\n",
       "      <td>Ceratiaceae</td>\n",
       "      <td>None</td>\n",
       "      <td>Gonyaulacales</td>\n",
       "      <td>None</td>\n",
       "      <td>Dinophyceae</td>\n",
       "      <td>None</td>\n",
       "      <td>...</td>\n",
       "      <td>POINT (126.30163 33.18501)</td>\n",
       "      <td>67</td>\n",
       "      <td>2</td>\n",
       "      <td>남해서부</td>\n",
       "      <td>SW</td>\n",
       "      <td>127</td>\n",
       "      <td>도립공원</td>\n",
       "      <td>마라해양</td>\n",
       "      <td>2008</td>\n",
       "      <td>환경부</td>\n",
       "    </tr>\n",
       "    <tr>\n",
       "      <th>42</th>\n",
       "      <td>Tripos teres</td>\n",
       "      <td>None</td>\n",
       "      <td>Tripos</td>\n",
       "      <td>None</td>\n",
       "      <td>Ceratiaceae</td>\n",
       "      <td>None</td>\n",
       "      <td>Gonyaulacales</td>\n",
       "      <td>None</td>\n",
       "      <td>Dinophyceae</td>\n",
       "      <td>None</td>\n",
       "      <td>...</td>\n",
       "      <td>POINT (126.30163 33.18501)</td>\n",
       "      <td>67</td>\n",
       "      <td>2</td>\n",
       "      <td>남해서부</td>\n",
       "      <td>SW</td>\n",
       "      <td>127</td>\n",
       "      <td>도립공원</td>\n",
       "      <td>마라해양</td>\n",
       "      <td>2008</td>\n",
       "      <td>환경부</td>\n",
       "    </tr>\n",
       "    <tr>\n",
       "      <th>43</th>\n",
       "      <td>Tripos muelleri</td>\n",
       "      <td>None</td>\n",
       "      <td>Tripos</td>\n",
       "      <td>None</td>\n",
       "      <td>Ceratiaceae</td>\n",
       "      <td>None</td>\n",
       "      <td>Gonyaulacales</td>\n",
       "      <td>None</td>\n",
       "      <td>Dinophyceae</td>\n",
       "      <td>None</td>\n",
       "      <td>...</td>\n",
       "      <td>POINT (126.30163 33.18501)</td>\n",
       "      <td>67</td>\n",
       "      <td>2</td>\n",
       "      <td>남해서부</td>\n",
       "      <td>SW</td>\n",
       "      <td>127</td>\n",
       "      <td>도립공원</td>\n",
       "      <td>마라해양</td>\n",
       "      <td>2008</td>\n",
       "      <td>환경부</td>\n",
       "    </tr>\n",
       "    <tr>\n",
       "      <th>44</th>\n",
       "      <td>Tripos muelleri</td>\n",
       "      <td>None</td>\n",
       "      <td>Tripos</td>\n",
       "      <td>None</td>\n",
       "      <td>Ceratiaceae</td>\n",
       "      <td>None</td>\n",
       "      <td>Gonyaulacales</td>\n",
       "      <td>None</td>\n",
       "      <td>Dinophyceae</td>\n",
       "      <td>None</td>\n",
       "      <td>...</td>\n",
       "      <td>POINT (126.30163 33.18501)</td>\n",
       "      <td>67</td>\n",
       "      <td>2</td>\n",
       "      <td>남해서부</td>\n",
       "      <td>SW</td>\n",
       "      <td>127</td>\n",
       "      <td>도립공원</td>\n",
       "      <td>마라해양</td>\n",
       "      <td>2008</td>\n",
       "      <td>환경부</td>\n",
       "    </tr>\n",
       "    <tr>\n",
       "      <th>45</th>\n",
       "      <td>Shewanella kaireitica</td>\n",
       "      <td>None</td>\n",
       "      <td>Shewanella</td>\n",
       "      <td>None</td>\n",
       "      <td>Shewanellaceae</td>\n",
       "      <td>None</td>\n",
       "      <td>Alteromonadales</td>\n",
       "      <td>None</td>\n",
       "      <td>Gammaproteobacteria</td>\n",
       "      <td>None</td>\n",
       "      <td>...</td>\n",
       "      <td>POINT (126.29147 33.16946)</td>\n",
       "      <td>67</td>\n",
       "      <td>2</td>\n",
       "      <td>남해서부</td>\n",
       "      <td>SW</td>\n",
       "      <td>127</td>\n",
       "      <td>도립공원</td>\n",
       "      <td>마라해양</td>\n",
       "      <td>2008</td>\n",
       "      <td>환경부</td>\n",
       "    </tr>\n",
       "  </tbody>\n",
       "</table>\n",
       "<p>5 rows × 30 columns</p>\n",
       "</div>"
      ],
      "text/plain": [
       "             spc_scitf_nm comm_kor_nm       genus genus_nm          family  \\\n",
       "41           Tripos teres        None      Tripos     None     Ceratiaceae   \n",
       "42           Tripos teres        None      Tripos     None     Ceratiaceae   \n",
       "43        Tripos muelleri        None      Tripos     None     Ceratiaceae   \n",
       "44        Tripos muelleri        None      Tripos     None     Ceratiaceae   \n",
       "45  Shewanella kaireitica        None  Shewanella     None  Shewanellaceae   \n",
       "\n",
       "   family_nm           order_ order_nm                class class_nm  ...  \\\n",
       "41      None    Gonyaulacales     None          Dinophyceae     None  ...   \n",
       "42      None    Gonyaulacales     None          Dinophyceae     None  ...   \n",
       "43      None    Gonyaulacales     None          Dinophyceae     None  ...   \n",
       "44      None    Gonyaulacales     None          Dinophyceae     None  ...   \n",
       "45      None  Alteromonadales     None  Gammaproteobacteria     None  ...   \n",
       "\n",
       "                      geometry index_right gid_1 sarea_korn  ssea_id_right  \\\n",
       "41  POINT (126.30163 33.18501)          67     2       남해서부             SW   \n",
       "42  POINT (126.30163 33.18501)          67     2       남해서부             SW   \n",
       "43  POINT (126.30163 33.18501)          67     2       남해서부             SW   \n",
       "44  POINT (126.30163 33.18501)          67     2       남해서부             SW   \n",
       "45  POINT (126.29147 33.16946)          67     2       남해서부             SW   \n",
       "\n",
       "    gid_2 lyr_nm zn_nm appn_year mng_inst_n  \n",
       "41    127   도립공원  마라해양      2008        환경부  \n",
       "42    127   도립공원  마라해양      2008        환경부  \n",
       "43    127   도립공원  마라해양      2008        환경부  \n",
       "44    127   도립공원  마라해양      2008        환경부  \n",
       "45    127   도립공원  마라해양      2008        환경부  \n",
       "\n",
       "[5 rows x 30 columns]"
      ]
     },
     "execution_count": 5,
     "metadata": {},
     "output_type": "execute_result"
    }
   ],
   "source": [
    "# 종분포(포인트)에  보호구역을 공간조인  \n",
    "gdf_pt2 = gpd.sjoin(gdf_pt, gdf_zone )\n",
    "gdf_pt2.info()\n",
    "gdf_pt2.head()"
   ]
  },
  {
   "cell_type": "markdown",
   "id": "bca3c059",
   "metadata": {},
   "source": [
    "### 보호구역별 oder_별 개체 수 집계"
   ]
  },
  {
   "cell_type": "code",
   "execution_count": 6,
   "id": "a80529c9",
   "metadata": {},
   "outputs": [
    {
     "name": "stdout",
     "output_type": "stream",
     "text": [
      "<class 'pandas.core.frame.DataFrame'>\n",
      "RangeIndex: 2317 entries, 0 to 2316\n",
      "Data columns (total 3 columns):\n",
      " #   Column  Non-Null Count  Dtype \n",
      "---  ------  --------------  ----- \n",
      " 0   zn_nm   2317 non-null   object\n",
      " 1   order_  2317 non-null   object\n",
      " 2   size    2317 non-null   int64 \n",
      "dtypes: int64(1), object(2)\n",
      "memory usage: 54.4+ KB\n"
     ]
    },
    {
     "data": {
      "text/html": [
       "<div>\n",
       "<style scoped>\n",
       "    .dataframe tbody tr th:only-of-type {\n",
       "        vertical-align: middle;\n",
       "    }\n",
       "\n",
       "    .dataframe tbody tr th {\n",
       "        vertical-align: top;\n",
       "    }\n",
       "\n",
       "    .dataframe thead th {\n",
       "        text-align: right;\n",
       "    }\n",
       "</style>\n",
       "<table border=\"1\" class=\"dataframe\">\n",
       "  <thead>\n",
       "    <tr style=\"text-align: right;\">\n",
       "      <th></th>\n",
       "      <th>zn_nm</th>\n",
       "      <th>order_</th>\n",
       "      <th>size</th>\n",
       "    </tr>\n",
       "  </thead>\n",
       "  <tbody>\n",
       "    <tr>\n",
       "      <th>0</th>\n",
       "      <td>가거도 주변해역</td>\n",
       "      <td>Actiniaria</td>\n",
       "      <td>3</td>\n",
       "    </tr>\n",
       "    <tr>\n",
       "      <th>1</th>\n",
       "      <td>가거도 주변해역</td>\n",
       "      <td>Alcyonacea</td>\n",
       "      <td>11</td>\n",
       "    </tr>\n",
       "    <tr>\n",
       "      <th>2</th>\n",
       "      <td>가거도 주변해역</td>\n",
       "      <td>Amphilepidida</td>\n",
       "      <td>16</td>\n",
       "    </tr>\n",
       "    <tr>\n",
       "      <th>3</th>\n",
       "      <td>가거도 주변해역</td>\n",
       "      <td>Amphipoda</td>\n",
       "      <td>6</td>\n",
       "    </tr>\n",
       "    <tr>\n",
       "      <th>4</th>\n",
       "      <td>가거도 주변해역</td>\n",
       "      <td>Anthoathecata</td>\n",
       "      <td>2</td>\n",
       "    </tr>\n",
       "  </tbody>\n",
       "</table>\n",
       "</div>"
      ],
      "text/plain": [
       "      zn_nm         order_  size\n",
       "0  가거도 주변해역     Actiniaria     3\n",
       "1  가거도 주변해역     Alcyonacea    11\n",
       "2  가거도 주변해역  Amphilepidida    16\n",
       "3  가거도 주변해역      Amphipoda     6\n",
       "4  가거도 주변해역  Anthoathecata     2"
      ]
     },
     "execution_count": 6,
     "metadata": {},
     "output_type": "execute_result"
    }
   ],
   "source": [
    "# 보호구역 - order_ 별 건수 집계\n",
    "df_size = gdf_pt2.groupby(['zn_nm', 'order_'], as_index=False ).size() \n",
    "df_size.info()\n",
    "df_size.head()"
   ]
  },
  {
   "cell_type": "code",
   "execution_count": 7,
   "id": "223e7fcb",
   "metadata": {},
   "outputs": [
    {
     "name": "stdout",
     "output_type": "stream",
     "text": [
      "<class 'pandas.core.frame.DataFrame'>\n",
      "Index: 2317 entries, 2128 to 1876\n",
      "Data columns (total 3 columns):\n",
      " #   Column  Non-Null Count  Dtype \n",
      "---  ------  --------------  ----- \n",
      " 0   zn_nm   2317 non-null   object\n",
      " 1   order_  2317 non-null   object\n",
      " 2   size    2317 non-null   int64 \n",
      "dtypes: int64(1), object(2)\n",
      "memory usage: 72.4+ KB\n"
     ]
    },
    {
     "data": {
      "text/html": [
       "<div>\n",
       "<style scoped>\n",
       "    .dataframe tbody tr th:only-of-type {\n",
       "        vertical-align: middle;\n",
       "    }\n",
       "\n",
       "    .dataframe tbody tr th {\n",
       "        vertical-align: top;\n",
       "    }\n",
       "\n",
       "    .dataframe thead th {\n",
       "        text-align: right;\n",
       "    }\n",
       "</style>\n",
       "<table border=\"1\" class=\"dataframe\">\n",
       "  <thead>\n",
       "    <tr style=\"text-align: right;\">\n",
       "      <th></th>\n",
       "      <th>zn_nm</th>\n",
       "      <th>order_</th>\n",
       "      <th>size</th>\n",
       "    </tr>\n",
       "  </thead>\n",
       "  <tbody>\n",
       "    <tr>\n",
       "      <th>2128</th>\n",
       "      <td>한려해상</td>\n",
       "      <td>Perciformes</td>\n",
       "      <td>916</td>\n",
       "    </tr>\n",
       "    <tr>\n",
       "      <th>538</th>\n",
       "      <td>다도해해상</td>\n",
       "      <td>Perciformes</td>\n",
       "      <td>797</td>\n",
       "    </tr>\n",
       "    <tr>\n",
       "      <th>1014</th>\n",
       "      <td>서귀포해양</td>\n",
       "      <td>Cheilostomatida</td>\n",
       "      <td>661</td>\n",
       "    </tr>\n",
       "    <tr>\n",
       "      <th>1013</th>\n",
       "      <td>서귀포해양</td>\n",
       "      <td>Ceramiales</td>\n",
       "      <td>642</td>\n",
       "    </tr>\n",
       "    <tr>\n",
       "      <th>2151</th>\n",
       "      <td>한려해상</td>\n",
       "      <td>Scorpaeniformes</td>\n",
       "      <td>599</td>\n",
       "    </tr>\n",
       "  </tbody>\n",
       "</table>\n",
       "</div>"
      ],
      "text/plain": [
       "      zn_nm           order_  size\n",
       "2128   한려해상      Perciformes   916\n",
       "538   다도해해상      Perciformes   797\n",
       "1014  서귀포해양  Cheilostomatida   661\n",
       "1013  서귀포해양       Ceramiales   642\n",
       "2151   한려해상  Scorpaeniformes   599"
      ]
     },
     "execution_count": 7,
     "metadata": {},
     "output_type": "execute_result"
    }
   ],
   "source": [
    "# 집계 결과 정렬 - 건수가 많은 순서대로 정렬\n",
    "df_size_sort = df_size.sort_values(by='size', ascending=False)\n",
    "df_size_sort.info()\n",
    "df_size_sort.head()"
   ]
  },
  {
   "cell_type": "code",
   "execution_count": 8,
   "id": "9848d806",
   "metadata": {},
   "outputs": [],
   "source": [
    "# pip install plotly로 패키지를 설치해 주십시오 \n",
    "# pip install --upgrade nbformat\n",
    "import plotly.express as px"
   ]
  },
  {
   "cell_type": "code",
   "execution_count": 9,
   "id": "62c0294a",
   "metadata": {},
   "outputs": [
    {
     "data": {
      "application/vnd.plotly.v1+json": {
       "config": {
        "plotlyServerURL": "https://plot.ly"
       },
       "data": [
        {
         "alignmentgroup": "True",
         "hovertemplate": "order_=Perciformes<br>zn_nm=%{x}<br>size=%{y}<extra></extra>",
         "legendgroup": "Perciformes",
         "marker": {
          "color": "#636efa",
          "pattern": {
           "shape": ""
          }
         },
         "name": "Perciformes",
         "offsetgroup": "Perciformes",
         "orientation": "v",
         "showlegend": true,
         "textposition": "auto",
         "type": "bar",
         "x": [
          "한려해상",
          "다도해해상",
          "득량만",
          "마라해양",
          "여자만",
          "태안해안",
          "한산만",
          "순천만갯벌",
          "서귀포해양",
          "진동만",
          "문섬 등 주변해역",
          "변산반도",
          "가막만",
          "남해통영I",
          "완도-도암만",
          "완도도암만",
          "가거도 주변해역",
          "신안갯벌"
         ],
         "xaxis": "x",
         "y": [
          916,
          797,
          234,
          207,
          191,
          164,
          138,
          119,
          114,
          104,
          87,
          77,
          77,
          63,
          62,
          62,
          56,
          52
         ],
         "yaxis": "y"
        },
        {
         "alignmentgroup": "True",
         "hovertemplate": "order_=Cheilostomatida<br>zn_nm=%{x}<br>size=%{y}<extra></extra>",
         "legendgroup": "Cheilostomatida",
         "marker": {
          "color": "#EF553B",
          "pattern": {
           "shape": ""
          }
         },
         "name": "Cheilostomatida",
         "offsetgroup": "Cheilostomatida",
         "orientation": "v",
         "showlegend": true,
         "textposition": "auto",
         "type": "bar",
         "x": [
          "서귀포해양",
          "문섬 등 주변해역",
          "마라해양",
          "다도해해상",
          "가거도 주변해역"
         ],
         "xaxis": "x",
         "y": [
          661,
          484,
          218,
          108,
          105
         ],
         "yaxis": "y"
        },
        {
         "alignmentgroup": "True",
         "hovertemplate": "order_=Ceramiales<br>zn_nm=%{x}<br>size=%{y}<extra></extra>",
         "legendgroup": "Ceramiales",
         "marker": {
          "color": "#00cc96",
          "pattern": {
           "shape": ""
          }
         },
         "name": "Ceramiales",
         "offsetgroup": "Ceramiales",
         "orientation": "v",
         "showlegend": true,
         "textposition": "auto",
         "type": "bar",
         "x": [
          "서귀포해양",
          "문섬 등 주변해역",
          "다도해해상",
          "태안해안",
          "추자해양",
          "우도해양",
          "완도-도암만",
          "울릉도 주변해역",
          "가거도 주변해역",
          "완도도암만",
          "가막만",
          "마라해양",
          "변산반도",
          "한산만",
          "청산도 주변해역",
          "성산일출해양"
         ],
         "xaxis": "x",
         "y": [
          642,
          499,
          406,
          196,
          179,
          156,
          131,
          110,
          110,
          102,
          96,
          86,
          85,
          79,
          58,
          58
         ],
         "yaxis": "y"
        },
        {
         "alignmentgroup": "True",
         "hovertemplate": "order_=Scorpaeniformes<br>zn_nm=%{x}<br>size=%{y}<extra></extra>",
         "legendgroup": "Scorpaeniformes",
         "marker": {
          "color": "#ab63fa",
          "pattern": {
           "shape": ""
          }
         },
         "name": "Scorpaeniformes",
         "offsetgroup": "Scorpaeniformes",
         "orientation": "v",
         "showlegend": true,
         "textposition": "auto",
         "type": "bar",
         "x": [
          "한려해상",
          "다도해해상",
          "득량만",
          "한산만"
         ],
         "xaxis": "x",
         "y": [
          599,
          149,
          74,
          57
         ],
         "yaxis": "y"
        },
        {
         "alignmentgroup": "True",
         "hovertemplate": "order_=Dictyotales<br>zn_nm=%{x}<br>size=%{y}<extra></extra>",
         "legendgroup": "Dictyotales",
         "marker": {
          "color": "#FFA15A",
          "pattern": {
           "shape": ""
          }
         },
         "name": "Dictyotales",
         "offsetgroup": "Dictyotales",
         "orientation": "v",
         "showlegend": true,
         "textposition": "auto",
         "type": "bar",
         "x": [
          "서귀포해양",
          "문섬 등 주변해역",
          "추자해양",
          "다도해해상",
          "마라해양",
          "울릉도 주변해역",
          "우도해양"
         ],
         "xaxis": "x",
         "y": [
          441,
          320,
          97,
          94,
          85,
          67,
          53
         ],
         "yaxis": "y"
        },
        {
         "alignmentgroup": "True",
         "hovertemplate": "order_=Gigartinales<br>zn_nm=%{x}<br>size=%{y}<extra></extra>",
         "legendgroup": "Gigartinales",
         "marker": {
          "color": "#19d3f3",
          "pattern": {
           "shape": ""
          }
         },
         "name": "Gigartinales",
         "offsetgroup": "Gigartinales",
         "orientation": "v",
         "showlegend": true,
         "textposition": "auto",
         "type": "bar",
         "x": [
          "서귀포해양",
          "문섬 등 주변해역",
          "다도해해상",
          "추자해양",
          "태안해안",
          "우도해양",
          "한려해상",
          "한산만",
          "가거도 주변해역",
          "성산일출해양"
         ],
         "xaxis": "x",
         "y": [
          424,
          322,
          241,
          105,
          90,
          82,
          63,
          59,
          57,
          51
         ],
         "yaxis": "y"
        },
        {
         "alignmentgroup": "True",
         "hovertemplate": "order_=Bryopsidales<br>zn_nm=%{x}<br>size=%{y}<extra></extra>",
         "legendgroup": "Bryopsidales",
         "marker": {
          "color": "#FF6692",
          "pattern": {
           "shape": ""
          }
         },
         "name": "Bryopsidales",
         "offsetgroup": "Bryopsidales",
         "orientation": "v",
         "showlegend": true,
         "textposition": "auto",
         "type": "bar",
         "x": [
          "서귀포해양",
          "문섬 등 주변해역",
          "태안해안",
          "마라해양",
          "추자해양",
          "다도해해상",
          "우도해양"
         ],
         "xaxis": "x",
         "y": [
          391,
          300,
          131,
          128,
          104,
          95,
          51
         ],
         "yaxis": "y"
        },
        {
         "alignmentgroup": "True",
         "hovertemplate": "order_=Vibrionales<br>zn_nm=%{x}<br>size=%{y}<extra></extra>",
         "legendgroup": "Vibrionales",
         "marker": {
          "color": "#B6E880",
          "pattern": {
           "shape": ""
          }
         },
         "name": "Vibrionales",
         "offsetgroup": "Vibrionales",
         "orientation": "v",
         "showlegend": true,
         "textposition": "auto",
         "type": "bar",
         "x": [
          "다도해해상"
         ],
         "xaxis": "x",
         "y": [
          233
         ],
         "yaxis": "y"
        },
        {
         "alignmentgroup": "True",
         "hovertemplate": "order_=Cladophorales<br>zn_nm=%{x}<br>size=%{y}<extra></extra>",
         "legendgroup": "Cladophorales",
         "marker": {
          "color": "#FF97FF",
          "pattern": {
           "shape": ""
          }
         },
         "name": "Cladophorales",
         "offsetgroup": "Cladophorales",
         "orientation": "v",
         "showlegend": true,
         "textposition": "auto",
         "type": "bar",
         "x": [
          "서귀포해양",
          "문섬 등 주변해역",
          "다도해해상",
          "변산반도",
          "태안해안",
          "마라해양",
          "우도해양"
         ],
         "xaxis": "x",
         "y": [
          228,
          152,
          117,
          104,
          97,
          62,
          60
         ],
         "yaxis": "y"
        },
        {
         "alignmentgroup": "True",
         "hovertemplate": "order_=Fucales<br>zn_nm=%{x}<br>size=%{y}<extra></extra>",
         "legendgroup": "Fucales",
         "marker": {
          "color": "#FECB52",
          "pattern": {
           "shape": ""
          }
         },
         "name": "Fucales",
         "offsetgroup": "Fucales",
         "orientation": "v",
         "showlegend": true,
         "textposition": "auto",
         "type": "bar",
         "x": [
          "다도해해상",
          "서귀포해양",
          "태안해안",
          "문섬 등 주변해역",
          "추자해양",
          "한산만",
          "마라해양",
          "울릉도 주변해역",
          "변산반도",
          "가막만"
         ],
         "xaxis": "x",
         "y": [
          227,
          184,
          130,
          106,
          103,
          91,
          73,
          56,
          54,
          51
         ],
         "yaxis": "y"
        },
        {
         "alignmentgroup": "True",
         "hovertemplate": "order_=Rotaliida<br>zn_nm=%{x}<br>size=%{y}<extra></extra>",
         "legendgroup": "Rotaliida",
         "marker": {
          "color": "#636efa",
          "pattern": {
           "shape": ""
          }
         },
         "name": "Rotaliida",
         "offsetgroup": "Rotaliida",
         "orientation": "v",
         "showlegend": true,
         "textposition": "auto",
         "type": "bar",
         "x": [
          "다도해해상",
          "청산도 주변해역",
          "완도도암만",
          "완도-도암만",
          "진도갯벌",
          "진동만",
          "천수만"
         ],
         "xaxis": "x",
         "y": [
          221,
          145,
          124,
          124,
          76,
          70,
          62
         ],
         "yaxis": "y"
        },
        {
         "alignmentgroup": "True",
         "hovertemplate": "order_=Rhodymeniales<br>zn_nm=%{x}<br>size=%{y}<extra></extra>",
         "legendgroup": "Rhodymeniales",
         "marker": {
          "color": "#EF553B",
          "pattern": {
           "shape": ""
          }
         },
         "name": "Rhodymeniales",
         "offsetgroup": "Rhodymeniales",
         "orientation": "v",
         "showlegend": true,
         "textposition": "auto",
         "type": "bar",
         "x": [
          "서귀포해양",
          "문섬 등 주변해역",
          "다도해해상"
         ],
         "xaxis": "x",
         "y": [
          221,
          182,
          88
         ],
         "yaxis": "y"
        },
        {
         "alignmentgroup": "True",
         "hovertemplate": "order_=Tetraodontiformes<br>zn_nm=%{x}<br>size=%{y}<extra></extra>",
         "legendgroup": "Tetraodontiformes",
         "marker": {
          "color": "#00cc96",
          "pattern": {
           "shape": ""
          }
         },
         "name": "Tetraodontiformes",
         "offsetgroup": "Tetraodontiformes",
         "orientation": "v",
         "showlegend": true,
         "textposition": "auto",
         "type": "bar",
         "x": [
          "한려해상",
          "다도해해상",
          "마라해양"
         ],
         "xaxis": "x",
         "y": [
          190,
          93,
          65
         ],
         "yaxis": "y"
        },
        {
         "alignmentgroup": "True",
         "hovertemplate": "order_=Gonyaulacales<br>zn_nm=%{x}<br>size=%{y}<extra></extra>",
         "legendgroup": "Gonyaulacales",
         "marker": {
          "color": "#ab63fa",
          "pattern": {
           "shape": ""
          }
         },
         "name": "Gonyaulacales",
         "offsetgroup": "Gonyaulacales",
         "orientation": "v",
         "showlegend": true,
         "textposition": "auto",
         "type": "bar",
         "x": [
          "성산일출해양",
          "한려해상",
          "마라해양"
         ],
         "xaxis": "x",
         "y": [
          190,
          83,
          81
         ],
         "yaxis": "y"
        },
        {
         "alignmentgroup": "True",
         "hovertemplate": "order_=Ectocarpales<br>zn_nm=%{x}<br>size=%{y}<extra></extra>",
         "legendgroup": "Ectocarpales",
         "marker": {
          "color": "#FFA15A",
          "pattern": {
           "shape": ""
          }
         },
         "name": "Ectocarpales",
         "offsetgroup": "Ectocarpales",
         "orientation": "v",
         "showlegend": true,
         "textposition": "auto",
         "type": "bar",
         "x": [
          "추자해양",
          "다도해해상",
          "추자도 주변해역",
          "마라해양",
          "가막만",
          "상족암",
          "한려해상",
          "서귀포해양",
          "변산반도"
         ],
         "xaxis": "x",
         "y": [
          187,
          150,
          111,
          103,
          65,
          61,
          54,
          53,
          51
         ],
         "yaxis": "y"
        },
        {
         "alignmentgroup": "True",
         "hovertemplate": "order_=Gelidiales<br>zn_nm=%{x}<br>size=%{y}<extra></extra>",
         "legendgroup": "Gelidiales",
         "marker": {
          "color": "#19d3f3",
          "pattern": {
           "shape": ""
          }
         },
         "name": "Gelidiales",
         "offsetgroup": "Gelidiales",
         "orientation": "v",
         "showlegend": true,
         "textposition": "auto",
         "type": "bar",
         "x": [
          "서귀포해양",
          "문섬 등 주변해역",
          "다도해해상",
          "태안해안"
         ],
         "xaxis": "x",
         "y": [
          187,
          154,
          72,
          67
         ],
         "yaxis": "y"
        },
        {
         "alignmentgroup": "True",
         "hovertemplate": "order_=Ulvales<br>zn_nm=%{x}<br>size=%{y}<extra></extra>",
         "legendgroup": "Ulvales",
         "marker": {
          "color": "#FF6692",
          "pattern": {
           "shape": ""
          }
         },
         "name": "Ulvales",
         "offsetgroup": "Ulvales",
         "orientation": "v",
         "showlegend": true,
         "textposition": "auto",
         "type": "bar",
         "x": [
          "서귀포해양",
          "문섬 등 주변해역",
          "변산반도",
          "태안해안",
          "마라해양"
         ],
         "xaxis": "x",
         "y": [
          186,
          155,
          89,
          83,
          74
         ],
         "yaxis": "y"
        },
        {
         "alignmentgroup": "True",
         "hovertemplate": "order_=Nemaliales<br>zn_nm=%{x}<br>size=%{y}<extra></extra>",
         "legendgroup": "Nemaliales",
         "marker": {
          "color": "#B6E880",
          "pattern": {
           "shape": ""
          }
         },
         "name": "Nemaliales",
         "offsetgroup": "Nemaliales",
         "orientation": "v",
         "showlegend": true,
         "textposition": "auto",
         "type": "bar",
         "x": [
          "서귀포해양",
          "문섬 등 주변해역"
         ],
         "xaxis": "x",
         "y": [
          174,
          144
         ],
         "yaxis": "y"
        },
        {
         "alignmentgroup": "True",
         "hovertemplate": "order_=Clupeiformes<br>zn_nm=%{x}<br>size=%{y}<extra></extra>",
         "legendgroup": "Clupeiformes",
         "marker": {
          "color": "#FF97FF",
          "pattern": {
           "shape": ""
          }
         },
         "name": "Clupeiformes",
         "offsetgroup": "Clupeiformes",
         "orientation": "v",
         "showlegend": true,
         "textposition": "auto",
         "type": "bar",
         "x": [
          "다도해해상",
          "한려해상"
         ],
         "xaxis": "x",
         "y": [
          173,
          106
         ],
         "yaxis": "y"
        },
        {
         "alignmentgroup": "True",
         "hovertemplate": "order_=Halymeniales<br>zn_nm=%{x}<br>size=%{y}<extra></extra>",
         "legendgroup": "Halymeniales",
         "marker": {
          "color": "#FECB52",
          "pattern": {
           "shape": ""
          }
         },
         "name": "Halymeniales",
         "offsetgroup": "Halymeniales",
         "orientation": "v",
         "showlegend": true,
         "textposition": "auto",
         "type": "bar",
         "x": [
          "서귀포해양",
          "다도해해상",
          "문섬 등 주변해역",
          "태안해안",
          "한려해상"
         ],
         "xaxis": "x",
         "y": [
          172,
          114,
          114,
          54,
          50
         ],
         "yaxis": "y"
        },
        {
         "alignmentgroup": "True",
         "hovertemplate": "order_=Peridiniales<br>zn_nm=%{x}<br>size=%{y}<extra></extra>",
         "legendgroup": "Peridiniales",
         "marker": {
          "color": "#636efa",
          "pattern": {
           "shape": ""
          }
         },
         "name": "Peridiniales",
         "offsetgroup": "Peridiniales",
         "orientation": "v",
         "showlegend": true,
         "textposition": "auto",
         "type": "bar",
         "x": [
          "성산일출해양",
          "마라해양"
         ],
         "xaxis": "x",
         "y": [
          160,
          80
         ],
         "yaxis": "y"
        },
        {
         "alignmentgroup": "True",
         "hovertemplate": "order_=Laminariales<br>zn_nm=%{x}<br>size=%{y}<extra></extra>",
         "legendgroup": "Laminariales",
         "marker": {
          "color": "#EF553B",
          "pattern": {
           "shape": ""
          }
         },
         "name": "Laminariales",
         "offsetgroup": "Laminariales",
         "orientation": "v",
         "showlegend": true,
         "textposition": "auto",
         "type": "bar",
         "x": [
          "마라해양",
          "한려해상",
          "다도해해상",
          "서귀포해양"
         ],
         "xaxis": "x",
         "y": [
          157,
          96,
          58,
          53
         ],
         "yaxis": "y"
        },
        {
         "alignmentgroup": "True",
         "hovertemplate": "order_=Neogastropoda<br>zn_nm=%{x}<br>size=%{y}<extra></extra>",
         "legendgroup": "Neogastropoda",
         "marker": {
          "color": "#00cc96",
          "pattern": {
           "shape": ""
          }
         },
         "name": "Neogastropoda",
         "offsetgroup": "Neogastropoda",
         "orientation": "v",
         "showlegend": true,
         "textposition": "auto",
         "type": "bar",
         "x": [
          "다도해해상",
          "서귀포해양",
          "문섬 등 주변해역"
         ],
         "xaxis": "x",
         "y": [
          156,
          114,
          103
         ],
         "yaxis": "y"
        },
        {
         "alignmentgroup": "True",
         "hovertemplate": "order_=Chaetocerotales<br>zn_nm=%{x}<br>size=%{y}<extra></extra>",
         "legendgroup": "Chaetocerotales",
         "marker": {
          "color": "#ab63fa",
          "pattern": {
           "shape": ""
          }
         },
         "name": "Chaetocerotales",
         "offsetgroup": "Chaetocerotales",
         "orientation": "v",
         "showlegend": true,
         "textposition": "auto",
         "type": "bar",
         "x": [
          "한려해상",
          "남해통영I",
          "남해통영II",
          "변산반도",
          "한산만"
         ],
         "xaxis": "x",
         "y": [
          141,
          106,
          55,
          52,
          51
         ],
         "yaxis": "y"
        },
        {
         "alignmentgroup": "True",
         "hovertemplate": "order_=Alteromonadales<br>zn_nm=%{x}<br>size=%{y}<extra></extra>",
         "legendgroup": "Alteromonadales",
         "marker": {
          "color": "#FFA15A",
          "pattern": {
           "shape": ""
          }
         },
         "name": "Alteromonadales",
         "offsetgroup": "Alteromonadales",
         "orientation": "v",
         "showlegend": true,
         "textposition": "auto",
         "type": "bar",
         "x": [
          "다도해해상"
         ],
         "xaxis": "x",
         "y": [
          137
         ],
         "yaxis": "y"
        },
        {
         "alignmentgroup": "True",
         "hovertemplate": "order_=Enoplida<br>zn_nm=%{x}<br>size=%{y}<extra></extra>",
         "legendgroup": "Enoplida",
         "marker": {
          "color": "#19d3f3",
          "pattern": {
           "shape": ""
          }
         },
         "name": "Enoplida",
         "offsetgroup": "Enoplida",
         "orientation": "v",
         "showlegend": true,
         "textposition": "auto",
         "type": "bar",
         "x": [
          "울릉도 주변해역"
         ],
         "xaxis": "x",
         "y": [
          131
         ],
         "yaxis": "y"
        },
        {
         "alignmentgroup": "True",
         "hovertemplate": "order_=Plocamiales<br>zn_nm=%{x}<br>size=%{y}<extra></extra>",
         "legendgroup": "Plocamiales",
         "marker": {
          "color": "#FF6692",
          "pattern": {
           "shape": ""
          }
         },
         "name": "Plocamiales",
         "offsetgroup": "Plocamiales",
         "orientation": "v",
         "showlegend": true,
         "textposition": "auto",
         "type": "bar",
         "x": [
          "서귀포해양",
          "문섬 등 주변해역"
         ],
         "xaxis": "x",
         "y": [
          129,
          107
         ],
         "yaxis": "y"
        },
        {
         "alignmentgroup": "True",
         "hovertemplate": "order_=Thalassiosirales<br>zn_nm=%{x}<br>size=%{y}<extra></extra>",
         "legendgroup": "Thalassiosirales",
         "marker": {
          "color": "#B6E880",
          "pattern": {
           "shape": ""
          }
         },
         "name": "Thalassiosirales",
         "offsetgroup": "Thalassiosirales",
         "orientation": "v",
         "showlegend": true,
         "textposition": "auto",
         "type": "bar",
         "x": [
          "한려해상",
          "남해통영I",
          "남해통영II"
         ],
         "xaxis": "x",
         "y": [
          129,
          100,
          53
         ],
         "yaxis": "y"
        },
        {
         "alignmentgroup": "True",
         "hovertemplate": "order_=Decapoda<br>zn_nm=%{x}<br>size=%{y}<extra></extra>",
         "legendgroup": "Decapoda",
         "marker": {
          "color": "#FF97FF",
          "pattern": {
           "shape": ""
          }
         },
         "name": "Decapoda",
         "offsetgroup": "Decapoda",
         "orientation": "v",
         "showlegend": true,
         "textposition": "auto",
         "type": "bar",
         "x": [
          "한려해상",
          "서귀포해양",
          "다도해해상",
          "문섬 등 주변해역",
          "함평만"
         ],
         "xaxis": "x",
         "y": [
          104,
          102,
          80,
          77,
          73
         ],
         "yaxis": "y"
        },
        {
         "alignmentgroup": "True",
         "hovertemplate": "order_=Coscinodiscales<br>zn_nm=%{x}<br>size=%{y}<extra></extra>",
         "legendgroup": "Coscinodiscales",
         "marker": {
          "color": "#FECB52",
          "pattern": {
           "shape": ""
          }
         },
         "name": "Coscinodiscales",
         "offsetgroup": "Coscinodiscales",
         "orientation": "v",
         "showlegend": true,
         "textposition": "auto",
         "type": "bar",
         "x": [
          "한려해상",
          "남해통영I",
          "가막만"
         ],
         "xaxis": "x",
         "y": [
          103,
          75,
          53
         ],
         "yaxis": "y"
        },
        {
         "alignmentgroup": "True",
         "hovertemplate": "order_=Bacillariales<br>zn_nm=%{x}<br>size=%{y}<extra></extra>",
         "legendgroup": "Bacillariales",
         "marker": {
          "color": "#636efa",
          "pattern": {
           "shape": ""
          }
         },
         "name": "Bacillariales",
         "offsetgroup": "Bacillariales",
         "orientation": "v",
         "showlegend": true,
         "textposition": "auto",
         "type": "bar",
         "x": [
          "한려해상",
          "남해통영I",
          "한산만"
         ],
         "xaxis": "x",
         "y": [
          101,
          58,
          51
         ],
         "yaxis": "y"
        },
        {
         "alignmentgroup": "True",
         "hovertemplate": "order_=Monstrilloida<br>zn_nm=%{x}<br>size=%{y}<extra></extra>",
         "legendgroup": "Monstrilloida",
         "marker": {
          "color": "#EF553B",
          "pattern": {
           "shape": ""
          }
         },
         "name": "Monstrilloida",
         "offsetgroup": "Monstrilloida",
         "orientation": "v",
         "showlegend": true,
         "textposition": "auto",
         "type": "bar",
         "x": [
          "가막만"
         ],
         "xaxis": "x",
         "y": [
          99
         ],
         "yaxis": "y"
        },
        {
         "alignmentgroup": "True",
         "hovertemplate": "order_=Pleuronectiformes<br>zn_nm=%{x}<br>size=%{y}<extra></extra>",
         "legendgroup": "Pleuronectiformes",
         "marker": {
          "color": "#00cc96",
          "pattern": {
           "shape": ""
          }
         },
         "name": "Pleuronectiformes",
         "offsetgroup": "Pleuronectiformes",
         "orientation": "v",
         "showlegend": true,
         "textposition": "auto",
         "type": "bar",
         "x": [
          "다도해해상",
          "한려해상"
         ],
         "xaxis": "x",
         "y": [
          94,
          70
         ],
         "yaxis": "y"
        },
        {
         "alignmentgroup": "True",
         "hovertemplate": "order_=Sporochnales<br>zn_nm=%{x}<br>size=%{y}<extra></extra>",
         "legendgroup": "Sporochnales",
         "marker": {
          "color": "#ab63fa",
          "pattern": {
           "shape": ""
          }
         },
         "name": "Sporochnales",
         "offsetgroup": "Sporochnales",
         "orientation": "v",
         "showlegend": true,
         "textposition": "auto",
         "type": "bar",
         "x": [
          "서귀포해양",
          "문섬 등 주변해역"
         ],
         "xaxis": "x",
         "y": [
          86,
          51
         ],
         "yaxis": "y"
        },
        {
         "alignmentgroup": "True",
         "hovertemplate": "order_=Micrococcales<br>zn_nm=%{x}<br>size=%{y}<extra></extra>",
         "legendgroup": "Micrococcales",
         "marker": {
          "color": "#FFA15A",
          "pattern": {
           "shape": ""
          }
         },
         "name": "Micrococcales",
         "offsetgroup": "Micrococcales",
         "orientation": "v",
         "showlegend": true,
         "textposition": "auto",
         "type": "bar",
         "x": [
          "다도해해상"
         ],
         "xaxis": "x",
         "y": [
          84
         ],
         "yaxis": "y"
        },
        {
         "alignmentgroup": "True",
         "hovertemplate": "order_=Nudibranchia<br>zn_nm=%{x}<br>size=%{y}<extra></extra>",
         "legendgroup": "Nudibranchia",
         "marker": {
          "color": "#19d3f3",
          "pattern": {
           "shape": ""
          }
         },
         "name": "Nudibranchia",
         "offsetgroup": "Nudibranchia",
         "orientation": "v",
         "showlegend": true,
         "textposition": "auto",
         "type": "bar",
         "x": [
          "서귀포해양",
          "문섬 등 주변해역",
          "다도해해상"
         ],
         "xaxis": "x",
         "y": [
          82,
          60,
          57
         ],
         "yaxis": "y"
        },
        {
         "alignmentgroup": "True",
         "hovertemplate": "order_=Rhodobacterales<br>zn_nm=%{x}<br>size=%{y}<extra></extra>",
         "legendgroup": "Rhodobacterales",
         "marker": {
          "color": "#FF6692",
          "pattern": {
           "shape": ""
          }
         },
         "name": "Rhodobacterales",
         "offsetgroup": "Rhodobacterales",
         "orientation": "v",
         "showlegend": true,
         "textposition": "auto",
         "type": "bar",
         "x": [
          "남형제섬 주변해역",
          "다도해해상"
         ],
         "xaxis": "x",
         "y": [
          81,
          65
         ],
         "yaxis": "y"
        },
        {
         "alignmentgroup": "True",
         "hovertemplate": "order_=Corallinales<br>zn_nm=%{x}<br>size=%{y}<extra></extra>",
         "legendgroup": "Corallinales",
         "marker": {
          "color": "#B6E880",
          "pattern": {
           "shape": ""
          }
         },
         "name": "Corallinales",
         "offsetgroup": "Corallinales",
         "orientation": "v",
         "showlegend": true,
         "textposition": "auto",
         "type": "bar",
         "x": [
          "서귀포해양"
         ],
         "xaxis": "x",
         "y": [
          81
         ],
         "yaxis": "y"
        },
        {
         "alignmentgroup": "True",
         "hovertemplate": "order_=Oceanospirillales<br>zn_nm=%{x}<br>size=%{y}<extra></extra>",
         "legendgroup": "Oceanospirillales",
         "marker": {
          "color": "#FF97FF",
          "pattern": {
           "shape": ""
          }
         },
         "name": "Oceanospirillales",
         "offsetgroup": "Oceanospirillales",
         "orientation": "v",
         "showlegend": true,
         "textposition": "auto",
         "type": "bar",
         "x": [
          "다도해해상"
         ],
         "xaxis": "x",
         "y": [
          79
         ],
         "yaxis": "y"
        },
        {
         "alignmentgroup": "True",
         "hovertemplate": "order_=Caryophanales<br>zn_nm=%{x}<br>size=%{y}<extra></extra>",
         "legendgroup": "Caryophanales",
         "marker": {
          "color": "#FECB52",
          "pattern": {
           "shape": ""
          }
         },
         "name": "Caryophanales",
         "offsetgroup": "Caryophanales",
         "orientation": "v",
         "showlegend": true,
         "textposition": "auto",
         "type": "bar",
         "x": [
          "다도해해상"
         ],
         "xaxis": "x",
         "y": [
          79
         ],
         "yaxis": "y"
        },
        {
         "alignmentgroup": "True",
         "hovertemplate": "order_=Ulotrichales<br>zn_nm=%{x}<br>size=%{y}<extra></extra>",
         "legendgroup": "Ulotrichales",
         "marker": {
          "color": "#636efa",
          "pattern": {
           "shape": ""
          }
         },
         "name": "Ulotrichales",
         "offsetgroup": "Ulotrichales",
         "orientation": "v",
         "showlegend": true,
         "textposition": "auto",
         "type": "bar",
         "x": [
          "다도해해상"
         ],
         "xaxis": "x",
         "y": [
          77
         ],
         "yaxis": "y"
        },
        {
         "alignmentgroup": "True",
         "hovertemplate": "order_=Eurotiales<br>zn_nm=%{x}<br>size=%{y}<extra></extra>",
         "legendgroup": "Eurotiales",
         "marker": {
          "color": "#EF553B",
          "pattern": {
           "shape": ""
          }
         },
         "name": "Eurotiales",
         "offsetgroup": "Eurotiales",
         "orientation": "v",
         "showlegend": true,
         "textposition": "auto",
         "type": "bar",
         "x": [
          "함평만",
          "무안갯벌"
         ],
         "xaxis": "x",
         "y": [
          76,
          76
         ],
         "yaxis": "y"
        },
        {
         "alignmentgroup": "True",
         "hovertemplate": "order_=Peyssonneliales<br>zn_nm=%{x}<br>size=%{y}<extra></extra>",
         "legendgroup": "Peyssonneliales",
         "marker": {
          "color": "#00cc96",
          "pattern": {
           "shape": ""
          }
         },
         "name": "Peyssonneliales",
         "offsetgroup": "Peyssonneliales",
         "orientation": "v",
         "showlegend": true,
         "textposition": "auto",
         "type": "bar",
         "x": [
          "서귀포해양",
          "문섬 등 주변해역"
         ],
         "xaxis": "x",
         "y": [
          74,
          58
         ],
         "yaxis": "y"
        },
        {
         "alignmentgroup": "True",
         "hovertemplate": "order_=Trochida<br>zn_nm=%{x}<br>size=%{y}<extra></extra>",
         "legendgroup": "Trochida",
         "marker": {
          "color": "#ab63fa",
          "pattern": {
           "shape": ""
          }
         },
         "name": "Trochida",
         "offsetgroup": "Trochida",
         "orientation": "v",
         "showlegend": true,
         "textposition": "auto",
         "type": "bar",
         "x": [
          "서귀포해양",
          "다도해해상",
          "문섬 등 주변해역"
         ],
         "xaxis": "x",
         "y": [
          72,
          69,
          60
         ],
         "yaxis": "y"
        },
        {
         "alignmentgroup": "True",
         "hovertemplate": "order_=Sebdeniales<br>zn_nm=%{x}<br>size=%{y}<extra></extra>",
         "legendgroup": "Sebdeniales",
         "marker": {
          "color": "#FFA15A",
          "pattern": {
           "shape": ""
          }
         },
         "name": "Sebdeniales",
         "offsetgroup": "Sebdeniales",
         "orientation": "v",
         "showlegend": true,
         "textposition": "auto",
         "type": "bar",
         "x": [
          "서귀포해양",
          "문섬 등 주변해역"
         ],
         "xaxis": "x",
         "y": [
          67,
          52
         ],
         "yaxis": "y"
        },
        {
         "alignmentgroup": "True",
         "hovertemplate": "order_=Naviculales<br>zn_nm=%{x}<br>size=%{y}<extra></extra>",
         "legendgroup": "Naviculales",
         "marker": {
          "color": "#19d3f3",
          "pattern": {
           "shape": ""
          }
         },
         "name": "Naviculales",
         "offsetgroup": "Naviculales",
         "orientation": "v",
         "showlegend": true,
         "textposition": "auto",
         "type": "bar",
         "x": [
          "한려해상",
          "한산만"
         ],
         "xaxis": "x",
         "y": [
          65,
          52
         ],
         "yaxis": "y"
        },
        {
         "alignmentgroup": "True",
         "hovertemplate": "order_=Gracilariales<br>zn_nm=%{x}<br>size=%{y}<extra></extra>",
         "legendgroup": "Gracilariales",
         "marker": {
          "color": "#FF6692",
          "pattern": {
           "shape": ""
          }
         },
         "name": "Gracilariales",
         "offsetgroup": "Gracilariales",
         "orientation": "v",
         "showlegend": true,
         "textposition": "auto",
         "type": "bar",
         "x": [
          "변산반도",
          "다도해해상"
         ],
         "xaxis": "x",
         "y": [
          63,
          51
         ],
         "yaxis": "y"
        },
        {
         "alignmentgroup": "True",
         "hovertemplate": "order_=Ishigeales<br>zn_nm=%{x}<br>size=%{y}<extra></extra>",
         "legendgroup": "Ishigeales",
         "marker": {
          "color": "#B6E880",
          "pattern": {
           "shape": ""
          }
         },
         "name": "Ishigeales",
         "offsetgroup": "Ishigeales",
         "orientation": "v",
         "showlegend": true,
         "textposition": "auto",
         "type": "bar",
         "x": [
          "추자해양",
          "변산반도"
         ],
         "xaxis": "x",
         "y": [
          59,
          53
         ],
         "yaxis": "y"
        },
        {
         "alignmentgroup": "True",
         "hovertemplate": "order_=Amphipoda<br>zn_nm=%{x}<br>size=%{y}<extra></extra>",
         "legendgroup": "Amphipoda",
         "marker": {
          "color": "#FF97FF",
          "pattern": {
           "shape": ""
          }
         },
         "name": "Amphipoda",
         "offsetgroup": "Amphipoda",
         "orientation": "v",
         "showlegend": true,
         "textposition": "auto",
         "type": "bar",
         "x": [
          "남형제섬 주변해역"
         ],
         "xaxis": "x",
         "y": [
          58
         ],
         "yaxis": "y"
        },
        {
         "alignmentgroup": "True",
         "hovertemplate": "order_=Centrospermales<br>zn_nm=%{x}<br>size=%{y}<extra></extra>",
         "legendgroup": "Centrospermales",
         "marker": {
          "color": "#FECB52",
          "pattern": {
           "shape": ""
          }
         },
         "name": "Centrospermales",
         "offsetgroup": "Centrospermales",
         "orientation": "v",
         "showlegend": true,
         "textposition": "auto",
         "type": "bar",
         "x": [
          "다도해해상"
         ],
         "xaxis": "x",
         "y": [
          55
         ],
         "yaxis": "y"
        },
        {
         "alignmentgroup": "True",
         "hovertemplate": "order_=Littorinimorpha<br>zn_nm=%{x}<br>size=%{y}<extra></extra>",
         "legendgroup": "Littorinimorpha",
         "marker": {
          "color": "#636efa",
          "pattern": {
           "shape": ""
          }
         },
         "name": "Littorinimorpha",
         "offsetgroup": "Littorinimorpha",
         "orientation": "v",
         "showlegend": true,
         "textposition": "auto",
         "type": "bar",
         "x": [
          "서귀포해양"
         ],
         "xaxis": "x",
         "y": [
          54
         ],
         "yaxis": "y"
        },
        {
         "alignmentgroup": "True",
         "hovertemplate": "order_=Not assigned<br>zn_nm=%{x}<br>size=%{y}<extra></extra>",
         "legendgroup": "Not assigned",
         "marker": {
          "color": "#EF553B",
          "pattern": {
           "shape": ""
          }
         },
         "name": "Not assigned",
         "offsetgroup": "Not assigned",
         "orientation": "v",
         "showlegend": true,
         "textposition": "auto",
         "type": "bar",
         "x": [
          "다도해해상"
         ],
         "xaxis": "x",
         "y": [
          54
         ],
         "yaxis": "y"
        },
        {
         "alignmentgroup": "True",
         "hovertemplate": "order_=Desmoscolecida<br>zn_nm=%{x}<br>size=%{y}<extra></extra>",
         "legendgroup": "Desmoscolecida",
         "marker": {
          "color": "#00cc96",
          "pattern": {
           "shape": ""
          }
         },
         "name": "Desmoscolecida",
         "offsetgroup": "Desmoscolecida",
         "orientation": "v",
         "showlegend": true,
         "textposition": "auto",
         "type": "bar",
         "x": [
          "성산일출해양"
         ],
         "xaxis": "x",
         "y": [
          53
         ],
         "yaxis": "y"
        },
        {
         "alignmentgroup": "True",
         "hovertemplate": "order_=Urostylida<br>zn_nm=%{x}<br>size=%{y}<extra></extra>",
         "legendgroup": "Urostylida",
         "marker": {
          "color": "#ab63fa",
          "pattern": {
           "shape": ""
          }
         },
         "name": "Urostylida",
         "offsetgroup": "Urostylida",
         "orientation": "v",
         "showlegend": true,
         "textposition": "auto",
         "type": "bar",
         "x": [
          "한산만"
         ],
         "xaxis": "x",
         "y": [
          52
         ],
         "yaxis": "y"
        },
        {
         "alignmentgroup": "True",
         "hovertemplate": "order_=Tintinnida<br>zn_nm=%{x}<br>size=%{y}<extra></extra>",
         "legendgroup": "Tintinnida",
         "marker": {
          "color": "#FFA15A",
          "pattern": {
           "shape": ""
          }
         },
         "name": "Tintinnida",
         "offsetgroup": "Tintinnida",
         "orientation": "v",
         "showlegend": true,
         "textposition": "auto",
         "type": "bar",
         "x": [
          "한산만"
         ],
         "xaxis": "x",
         "y": [
          52
         ],
         "yaxis": "y"
        },
        {
         "alignmentgroup": "True",
         "hovertemplate": "order_=Flavobacteriales<br>zn_nm=%{x}<br>size=%{y}<extra></extra>",
         "legendgroup": "Flavobacteriales",
         "marker": {
          "color": "#19d3f3",
          "pattern": {
           "shape": ""
          }
         },
         "name": "Flavobacteriales",
         "offsetgroup": "Flavobacteriales",
         "orientation": "v",
         "showlegend": true,
         "textposition": "auto",
         "type": "bar",
         "x": [
          "다도해해상"
         ],
         "xaxis": "x",
         "y": [
          52
         ],
         "yaxis": "y"
        },
        {
         "alignmentgroup": "True",
         "hovertemplate": "order_=Mytiloida<br>zn_nm=%{x}<br>size=%{y}<extra></extra>",
         "legendgroup": "Mytiloida",
         "marker": {
          "color": "#FF6692",
          "pattern": {
           "shape": ""
          }
         },
         "name": "Mytiloida",
         "offsetgroup": "Mytiloida",
         "orientation": "v",
         "showlegend": true,
         "textposition": "auto",
         "type": "bar",
         "x": [
          "다도해해상"
         ],
         "xaxis": "x",
         "y": [
          52
         ],
         "yaxis": "y"
        },
        {
         "alignmentgroup": "True",
         "hovertemplate": "order_=Bonnemaisoniales<br>zn_nm=%{x}<br>size=%{y}<extra></extra>",
         "legendgroup": "Bonnemaisoniales",
         "marker": {
          "color": "#B6E880",
          "pattern": {
           "shape": ""
          }
         },
         "name": "Bonnemaisoniales",
         "offsetgroup": "Bonnemaisoniales",
         "orientation": "v",
         "showlegend": true,
         "textposition": "auto",
         "type": "bar",
         "x": [
          "서귀포해양"
         ],
         "xaxis": "x",
         "y": [
          51
         ],
         "yaxis": "y"
        }
       ],
       "layout": {
        "barmode": "relative",
        "legend": {
         "title": {
          "text": "order_"
         },
         "tracegroupgap": 0
        },
        "margin": {
         "t": 60
        },
        "template": {
         "data": {
          "bar": [
           {
            "error_x": {
             "color": "#2a3f5f"
            },
            "error_y": {
             "color": "#2a3f5f"
            },
            "marker": {
             "line": {
              "color": "#E5ECF6",
              "width": 0.5
             },
             "pattern": {
              "fillmode": "overlay",
              "size": 10,
              "solidity": 0.2
             }
            },
            "type": "bar"
           }
          ],
          "barpolar": [
           {
            "marker": {
             "line": {
              "color": "#E5ECF6",
              "width": 0.5
             },
             "pattern": {
              "fillmode": "overlay",
              "size": 10,
              "solidity": 0.2
             }
            },
            "type": "barpolar"
           }
          ],
          "carpet": [
           {
            "aaxis": {
             "endlinecolor": "#2a3f5f",
             "gridcolor": "white",
             "linecolor": "white",
             "minorgridcolor": "white",
             "startlinecolor": "#2a3f5f"
            },
            "baxis": {
             "endlinecolor": "#2a3f5f",
             "gridcolor": "white",
             "linecolor": "white",
             "minorgridcolor": "white",
             "startlinecolor": "#2a3f5f"
            },
            "type": "carpet"
           }
          ],
          "choropleth": [
           {
            "colorbar": {
             "outlinewidth": 0,
             "ticks": ""
            },
            "type": "choropleth"
           }
          ],
          "contour": [
           {
            "colorbar": {
             "outlinewidth": 0,
             "ticks": ""
            },
            "colorscale": [
             [
              0,
              "#0d0887"
             ],
             [
              0.1111111111111111,
              "#46039f"
             ],
             [
              0.2222222222222222,
              "#7201a8"
             ],
             [
              0.3333333333333333,
              "#9c179e"
             ],
             [
              0.4444444444444444,
              "#bd3786"
             ],
             [
              0.5555555555555556,
              "#d8576b"
             ],
             [
              0.6666666666666666,
              "#ed7953"
             ],
             [
              0.7777777777777778,
              "#fb9f3a"
             ],
             [
              0.8888888888888888,
              "#fdca26"
             ],
             [
              1,
              "#f0f921"
             ]
            ],
            "type": "contour"
           }
          ],
          "contourcarpet": [
           {
            "colorbar": {
             "outlinewidth": 0,
             "ticks": ""
            },
            "type": "contourcarpet"
           }
          ],
          "heatmap": [
           {
            "colorbar": {
             "outlinewidth": 0,
             "ticks": ""
            },
            "colorscale": [
             [
              0,
              "#0d0887"
             ],
             [
              0.1111111111111111,
              "#46039f"
             ],
             [
              0.2222222222222222,
              "#7201a8"
             ],
             [
              0.3333333333333333,
              "#9c179e"
             ],
             [
              0.4444444444444444,
              "#bd3786"
             ],
             [
              0.5555555555555556,
              "#d8576b"
             ],
             [
              0.6666666666666666,
              "#ed7953"
             ],
             [
              0.7777777777777778,
              "#fb9f3a"
             ],
             [
              0.8888888888888888,
              "#fdca26"
             ],
             [
              1,
              "#f0f921"
             ]
            ],
            "type": "heatmap"
           }
          ],
          "heatmapgl": [
           {
            "colorbar": {
             "outlinewidth": 0,
             "ticks": ""
            },
            "colorscale": [
             [
              0,
              "#0d0887"
             ],
             [
              0.1111111111111111,
              "#46039f"
             ],
             [
              0.2222222222222222,
              "#7201a8"
             ],
             [
              0.3333333333333333,
              "#9c179e"
             ],
             [
              0.4444444444444444,
              "#bd3786"
             ],
             [
              0.5555555555555556,
              "#d8576b"
             ],
             [
              0.6666666666666666,
              "#ed7953"
             ],
             [
              0.7777777777777778,
              "#fb9f3a"
             ],
             [
              0.8888888888888888,
              "#fdca26"
             ],
             [
              1,
              "#f0f921"
             ]
            ],
            "type": "heatmapgl"
           }
          ],
          "histogram": [
           {
            "marker": {
             "pattern": {
              "fillmode": "overlay",
              "size": 10,
              "solidity": 0.2
             }
            },
            "type": "histogram"
           }
          ],
          "histogram2d": [
           {
            "colorbar": {
             "outlinewidth": 0,
             "ticks": ""
            },
            "colorscale": [
             [
              0,
              "#0d0887"
             ],
             [
              0.1111111111111111,
              "#46039f"
             ],
             [
              0.2222222222222222,
              "#7201a8"
             ],
             [
              0.3333333333333333,
              "#9c179e"
             ],
             [
              0.4444444444444444,
              "#bd3786"
             ],
             [
              0.5555555555555556,
              "#d8576b"
             ],
             [
              0.6666666666666666,
              "#ed7953"
             ],
             [
              0.7777777777777778,
              "#fb9f3a"
             ],
             [
              0.8888888888888888,
              "#fdca26"
             ],
             [
              1,
              "#f0f921"
             ]
            ],
            "type": "histogram2d"
           }
          ],
          "histogram2dcontour": [
           {
            "colorbar": {
             "outlinewidth": 0,
             "ticks": ""
            },
            "colorscale": [
             [
              0,
              "#0d0887"
             ],
             [
              0.1111111111111111,
              "#46039f"
             ],
             [
              0.2222222222222222,
              "#7201a8"
             ],
             [
              0.3333333333333333,
              "#9c179e"
             ],
             [
              0.4444444444444444,
              "#bd3786"
             ],
             [
              0.5555555555555556,
              "#d8576b"
             ],
             [
              0.6666666666666666,
              "#ed7953"
             ],
             [
              0.7777777777777778,
              "#fb9f3a"
             ],
             [
              0.8888888888888888,
              "#fdca26"
             ],
             [
              1,
              "#f0f921"
             ]
            ],
            "type": "histogram2dcontour"
           }
          ],
          "mesh3d": [
           {
            "colorbar": {
             "outlinewidth": 0,
             "ticks": ""
            },
            "type": "mesh3d"
           }
          ],
          "parcoords": [
           {
            "line": {
             "colorbar": {
              "outlinewidth": 0,
              "ticks": ""
             }
            },
            "type": "parcoords"
           }
          ],
          "pie": [
           {
            "automargin": true,
            "type": "pie"
           }
          ],
          "scatter": [
           {
            "fillpattern": {
             "fillmode": "overlay",
             "size": 10,
             "solidity": 0.2
            },
            "type": "scatter"
           }
          ],
          "scatter3d": [
           {
            "line": {
             "colorbar": {
              "outlinewidth": 0,
              "ticks": ""
             }
            },
            "marker": {
             "colorbar": {
              "outlinewidth": 0,
              "ticks": ""
             }
            },
            "type": "scatter3d"
           }
          ],
          "scattercarpet": [
           {
            "marker": {
             "colorbar": {
              "outlinewidth": 0,
              "ticks": ""
             }
            },
            "type": "scattercarpet"
           }
          ],
          "scattergeo": [
           {
            "marker": {
             "colorbar": {
              "outlinewidth": 0,
              "ticks": ""
             }
            },
            "type": "scattergeo"
           }
          ],
          "scattergl": [
           {
            "marker": {
             "colorbar": {
              "outlinewidth": 0,
              "ticks": ""
             }
            },
            "type": "scattergl"
           }
          ],
          "scattermapbox": [
           {
            "marker": {
             "colorbar": {
              "outlinewidth": 0,
              "ticks": ""
             }
            },
            "type": "scattermapbox"
           }
          ],
          "scatterpolar": [
           {
            "marker": {
             "colorbar": {
              "outlinewidth": 0,
              "ticks": ""
             }
            },
            "type": "scatterpolar"
           }
          ],
          "scatterpolargl": [
           {
            "marker": {
             "colorbar": {
              "outlinewidth": 0,
              "ticks": ""
             }
            },
            "type": "scatterpolargl"
           }
          ],
          "scatterternary": [
           {
            "marker": {
             "colorbar": {
              "outlinewidth": 0,
              "ticks": ""
             }
            },
            "type": "scatterternary"
           }
          ],
          "surface": [
           {
            "colorbar": {
             "outlinewidth": 0,
             "ticks": ""
            },
            "colorscale": [
             [
              0,
              "#0d0887"
             ],
             [
              0.1111111111111111,
              "#46039f"
             ],
             [
              0.2222222222222222,
              "#7201a8"
             ],
             [
              0.3333333333333333,
              "#9c179e"
             ],
             [
              0.4444444444444444,
              "#bd3786"
             ],
             [
              0.5555555555555556,
              "#d8576b"
             ],
             [
              0.6666666666666666,
              "#ed7953"
             ],
             [
              0.7777777777777778,
              "#fb9f3a"
             ],
             [
              0.8888888888888888,
              "#fdca26"
             ],
             [
              1,
              "#f0f921"
             ]
            ],
            "type": "surface"
           }
          ],
          "table": [
           {
            "cells": {
             "fill": {
              "color": "#EBF0F8"
             },
             "line": {
              "color": "white"
             }
            },
            "header": {
             "fill": {
              "color": "#C8D4E3"
             },
             "line": {
              "color": "white"
             }
            },
            "type": "table"
           }
          ]
         },
         "layout": {
          "annotationdefaults": {
           "arrowcolor": "#2a3f5f",
           "arrowhead": 0,
           "arrowwidth": 1
          },
          "autotypenumbers": "strict",
          "coloraxis": {
           "colorbar": {
            "outlinewidth": 0,
            "ticks": ""
           }
          },
          "colorscale": {
           "diverging": [
            [
             0,
             "#8e0152"
            ],
            [
             0.1,
             "#c51b7d"
            ],
            [
             0.2,
             "#de77ae"
            ],
            [
             0.3,
             "#f1b6da"
            ],
            [
             0.4,
             "#fde0ef"
            ],
            [
             0.5,
             "#f7f7f7"
            ],
            [
             0.6,
             "#e6f5d0"
            ],
            [
             0.7,
             "#b8e186"
            ],
            [
             0.8,
             "#7fbc41"
            ],
            [
             0.9,
             "#4d9221"
            ],
            [
             1,
             "#276419"
            ]
           ],
           "sequential": [
            [
             0,
             "#0d0887"
            ],
            [
             0.1111111111111111,
             "#46039f"
            ],
            [
             0.2222222222222222,
             "#7201a8"
            ],
            [
             0.3333333333333333,
             "#9c179e"
            ],
            [
             0.4444444444444444,
             "#bd3786"
            ],
            [
             0.5555555555555556,
             "#d8576b"
            ],
            [
             0.6666666666666666,
             "#ed7953"
            ],
            [
             0.7777777777777778,
             "#fb9f3a"
            ],
            [
             0.8888888888888888,
             "#fdca26"
            ],
            [
             1,
             "#f0f921"
            ]
           ],
           "sequentialminus": [
            [
             0,
             "#0d0887"
            ],
            [
             0.1111111111111111,
             "#46039f"
            ],
            [
             0.2222222222222222,
             "#7201a8"
            ],
            [
             0.3333333333333333,
             "#9c179e"
            ],
            [
             0.4444444444444444,
             "#bd3786"
            ],
            [
             0.5555555555555556,
             "#d8576b"
            ],
            [
             0.6666666666666666,
             "#ed7953"
            ],
            [
             0.7777777777777778,
             "#fb9f3a"
            ],
            [
             0.8888888888888888,
             "#fdca26"
            ],
            [
             1,
             "#f0f921"
            ]
           ]
          },
          "colorway": [
           "#636efa",
           "#EF553B",
           "#00cc96",
           "#ab63fa",
           "#FFA15A",
           "#19d3f3",
           "#FF6692",
           "#B6E880",
           "#FF97FF",
           "#FECB52"
          ],
          "font": {
           "color": "#2a3f5f"
          },
          "geo": {
           "bgcolor": "white",
           "lakecolor": "white",
           "landcolor": "#E5ECF6",
           "showlakes": true,
           "showland": true,
           "subunitcolor": "white"
          },
          "hoverlabel": {
           "align": "left"
          },
          "hovermode": "closest",
          "mapbox": {
           "style": "light"
          },
          "paper_bgcolor": "white",
          "plot_bgcolor": "#E5ECF6",
          "polar": {
           "angularaxis": {
            "gridcolor": "white",
            "linecolor": "white",
            "ticks": ""
           },
           "bgcolor": "#E5ECF6",
           "radialaxis": {
            "gridcolor": "white",
            "linecolor": "white",
            "ticks": ""
           }
          },
          "scene": {
           "xaxis": {
            "backgroundcolor": "#E5ECF6",
            "gridcolor": "white",
            "gridwidth": 2,
            "linecolor": "white",
            "showbackground": true,
            "ticks": "",
            "zerolinecolor": "white"
           },
           "yaxis": {
            "backgroundcolor": "#E5ECF6",
            "gridcolor": "white",
            "gridwidth": 2,
            "linecolor": "white",
            "showbackground": true,
            "ticks": "",
            "zerolinecolor": "white"
           },
           "zaxis": {
            "backgroundcolor": "#E5ECF6",
            "gridcolor": "white",
            "gridwidth": 2,
            "linecolor": "white",
            "showbackground": true,
            "ticks": "",
            "zerolinecolor": "white"
           }
          },
          "shapedefaults": {
           "line": {
            "color": "#2a3f5f"
           }
          },
          "ternary": {
           "aaxis": {
            "gridcolor": "white",
            "linecolor": "white",
            "ticks": ""
           },
           "baxis": {
            "gridcolor": "white",
            "linecolor": "white",
            "ticks": ""
           },
           "bgcolor": "#E5ECF6",
           "caxis": {
            "gridcolor": "white",
            "linecolor": "white",
            "ticks": ""
           }
          },
          "title": {
           "x": 0.05
          },
          "xaxis": {
           "automargin": true,
           "gridcolor": "white",
           "linecolor": "white",
           "ticks": "",
           "title": {
            "standoff": 15
           },
           "zerolinecolor": "white",
           "zerolinewidth": 2
          },
          "yaxis": {
           "automargin": true,
           "gridcolor": "white",
           "linecolor": "white",
           "ticks": "",
           "title": {
            "standoff": 15
           },
           "zerolinecolor": "white",
           "zerolinewidth": 2
          }
         }
        },
        "xaxis": {
         "anchor": "y",
         "domain": [
          0,
          1
         ],
         "title": {
          "text": "zn_nm"
         }
        },
        "yaxis": {
         "anchor": "x",
         "domain": [
          0,
          1
         ],
         "title": {
          "text": "size"
         }
        }
       }
      }
     },
     "metadata": {},
     "output_type": "display_data"
    }
   ],
   "source": [
    "# 집계 결과 차트 시각화 \n",
    "df_size_sort2 = df_size_sort[0:200]\n",
    "\n",
    "fig = px.bar(df_size_sort2, x=\"zn_nm\", y=\"size\", color=\"order_\")\n",
    "fig.show()"
   ]
  },
  {
   "cell_type": "code",
   "execution_count": 10,
   "id": "24e177e0",
   "metadata": {},
   "outputs": [],
   "source": [
    "# 집계 결과를 csv로 저장 \n",
    "df_size_sort.to_csv('result/df_size_sort.csv', encoding='UTF-8')"
   ]
  },
  {
   "cell_type": "markdown",
   "id": "cc1f6c67",
   "metadata": {},
   "source": [
    "#### 보호구역의 크기가 다르므로, 면적/ 체적으로 나누는 등의 추가적인 작업 필요....."
   ]
  }
 ],
 "metadata": {
  "kernelspec": {
   "display_name": "Python 3 (ipykernel)",
   "language": "python",
   "name": "python3"
  },
  "language_info": {
   "codemirror_mode": {
    "name": "ipython",
    "version": 3
   },
   "file_extension": ".py",
   "mimetype": "text/x-python",
   "name": "python",
   "nbconvert_exporter": "python",
   "pygments_lexer": "ipython3",
   "version": "3.11.5"
  }
 },
 "nbformat": 4,
 "nbformat_minor": 5
}
