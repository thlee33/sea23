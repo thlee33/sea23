{
 "cells": [
  {
   "cell_type": "code",
   "execution_count": 1,
   "id": "96e6648f",
   "metadata": {},
   "outputs": [],
   "source": [
    "import matplotlib.pyplot as plt\n",
    "%matplotlib inline\n",
    "plt.rc('font', family='Malgun Gothic') #한글 폰트 적용시"
   ]
  },
  {
   "cell_type": "code",
   "execution_count": 2,
   "id": "26f3c656",
   "metadata": {},
   "outputs": [
    {
     "name": "stderr",
     "output_type": "stream",
     "text": [
      "c:\\Users\\leesh\\AppData\\Local\\Programs\\Python\\Python311\\Lib\\site-packages\\geopandas\\_compat.py:124: UserWarning: The Shapely GEOS version (3.10.1-CAPI-1.16.0) is incompatible with the GEOS version PyGEOS was compiled with (3.10.4-CAPI-1.16.2). Conversions between both will be slow.\n",
      "  warnings.warn(\n"
     ]
    }
   ],
   "source": [
    "import pandas as pd\n",
    "import geopandas as gpd"
   ]
  },
  {
   "cell_type": "code",
   "execution_count": 3,
   "id": "34061751",
   "metadata": {},
   "outputs": [
    {
     "name": "stdout",
     "output_type": "stream",
     "text": [
      "<class 'pandas.core.frame.DataFrame'>\n",
      "RangeIndex: 303 entries, 0 to 302\n",
      "Data columns (total 6 columns):\n",
      " #   Column  Non-Null Count  Dtype  \n",
      "---  ------  --------------  -----  \n",
      " 0   번호      303 non-null    int64  \n",
      " 1   위도      303 non-null    float64\n",
      " 2   경도      303 non-null    float64\n",
      " 3   일자      303 non-null    object \n",
      " 4   시간      303 non-null    object \n",
      " 5   감도      303 non-null    object \n",
      "dtypes: float64(2), int64(1), object(3)\n",
      "memory usage: 14.3+ KB\n"
     ]
    },
    {
     "data": {
      "text/html": [
       "<div>\n",
       "<style scoped>\n",
       "    .dataframe tbody tr th:only-of-type {\n",
       "        vertical-align: middle;\n",
       "    }\n",
       "\n",
       "    .dataframe tbody tr th {\n",
       "        vertical-align: top;\n",
       "    }\n",
       "\n",
       "    .dataframe thead th {\n",
       "        text-align: right;\n",
       "    }\n",
       "</style>\n",
       "<table border=\"1\" class=\"dataframe\">\n",
       "  <thead>\n",
       "    <tr style=\"text-align: right;\">\n",
       "      <th></th>\n",
       "      <th>번호</th>\n",
       "      <th>위도</th>\n",
       "      <th>경도</th>\n",
       "      <th>일자</th>\n",
       "      <th>시간</th>\n",
       "      <th>감도</th>\n",
       "    </tr>\n",
       "  </thead>\n",
       "  <tbody>\n",
       "    <tr>\n",
       "      <th>0</th>\n",
       "      <td>1</td>\n",
       "      <td>35.29256</td>\n",
       "      <td>129.29920</td>\n",
       "      <td>2015-10-29</td>\n",
       "      <td>8:25:22</td>\n",
       "      <td>B</td>\n",
       "    </tr>\n",
       "    <tr>\n",
       "      <th>1</th>\n",
       "      <td>2</td>\n",
       "      <td>35.24668</td>\n",
       "      <td>129.24129</td>\n",
       "      <td>2015-10-30</td>\n",
       "      <td>3:57:15</td>\n",
       "      <td>B</td>\n",
       "    </tr>\n",
       "    <tr>\n",
       "      <th>2</th>\n",
       "      <td>3</td>\n",
       "      <td>35.16076</td>\n",
       "      <td>129.22356</td>\n",
       "      <td>2015-10-31</td>\n",
       "      <td>3:46:59</td>\n",
       "      <td>1</td>\n",
       "    </tr>\n",
       "    <tr>\n",
       "      <th>3</th>\n",
       "      <td>4</td>\n",
       "      <td>35.20085</td>\n",
       "      <td>129.27685</td>\n",
       "      <td>2015-11-01</td>\n",
       "      <td>9:29:36</td>\n",
       "      <td>B</td>\n",
       "    </tr>\n",
       "    <tr>\n",
       "      <th>4</th>\n",
       "      <td>5</td>\n",
       "      <td>35.28637</td>\n",
       "      <td>129.42136</td>\n",
       "      <td>2015-11-02</td>\n",
       "      <td>12:21:42</td>\n",
       "      <td>A</td>\n",
       "    </tr>\n",
       "  </tbody>\n",
       "</table>\n",
       "</div>"
      ],
      "text/plain": [
       "   번호        위도         경도          일자        시간 감도\n",
       "0   1  35.29256  129.29920  2015-10-29   8:25:22  B\n",
       "1   2  35.24668  129.24129  2015-10-30   3:57:15  B\n",
       "2   3  35.16076  129.22356  2015-10-31   3:46:59  1\n",
       "3   4  35.20085  129.27685  2015-11-01   9:29:36  B\n",
       "4   5  35.28637  129.42136  2015-11-02  12:21:42  A"
      ]
     },
     "execution_count": 3,
     "metadata": {},
     "output_type": "execute_result"
    }
   ],
   "source": [
    "# 종분포 데이터\n",
    "df = pd.read_csv('../data/turtle_route.csv', encoding=\"EUC-KR\")\n",
    "df.info()\n",
    "df.head()"
   ]
  },
  {
   "cell_type": "code",
   "execution_count": 4,
   "id": "039a5d76",
   "metadata": {},
   "outputs": [],
   "source": [
    "# \"일자\"를 날짜형으로 변환\n",
    "df['date'] = pd.to_datetime(df['일자'], errors='coerce')"
   ]
  },
  {
   "cell_type": "code",
   "execution_count": 5,
   "id": "c843a7eb",
   "metadata": {},
   "outputs": [],
   "source": [
    "# date순으로 데이터 재정렬 \n",
    "df2 = df.sort_values(by='date', ascending=True)\n",
    "df2.index=df2.date"
   ]
  },
  {
   "cell_type": "code",
   "execution_count": 6,
   "id": "51f55431",
   "metadata": {},
   "outputs": [],
   "source": [
    "# 좌표 항목을 가지고 지오메트리 데이터를 생성\n",
    "geom = gpd.points_from_xy(df2.경도, df2.위도)"
   ]
  },
  {
   "cell_type": "code",
   "execution_count": 7,
   "id": "ab94836c",
   "metadata": {},
   "outputs": [],
   "source": [
    "# df에서 가져올 항목 리스트\n",
    "columns = ['date']"
   ]
  },
  {
   "cell_type": "code",
   "execution_count": 8,
   "id": "b6a414bd",
   "metadata": {},
   "outputs": [
    {
     "name": "stdout",
     "output_type": "stream",
     "text": [
      "<class 'geopandas.geodataframe.GeoDataFrame'>\n",
      "DatetimeIndex: 303 entries, 2015-10-29 to 2016-10-29\n",
      "Data columns (total 2 columns):\n",
      " #   Column    Non-Null Count  Dtype         \n",
      "---  ------    --------------  -----         \n",
      " 0   date      303 non-null    datetime64[ns]\n",
      " 1   geometry  303 non-null    geometry      \n",
      "dtypes: datetime64[ns](1), geometry(1)\n",
      "memory usage: 7.1 KB\n"
     ]
    },
    {
     "data": {
      "text/html": [
       "<div>\n",
       "<style scoped>\n",
       "    .dataframe tbody tr th:only-of-type {\n",
       "        vertical-align: middle;\n",
       "    }\n",
       "\n",
       "    .dataframe tbody tr th {\n",
       "        vertical-align: top;\n",
       "    }\n",
       "\n",
       "    .dataframe thead th {\n",
       "        text-align: right;\n",
       "    }\n",
       "</style>\n",
       "<table border=\"1\" class=\"dataframe\">\n",
       "  <thead>\n",
       "    <tr style=\"text-align: right;\">\n",
       "      <th></th>\n",
       "      <th>date</th>\n",
       "      <th>geometry</th>\n",
       "    </tr>\n",
       "    <tr>\n",
       "      <th>date</th>\n",
       "      <th></th>\n",
       "      <th></th>\n",
       "    </tr>\n",
       "  </thead>\n",
       "  <tbody>\n",
       "    <tr>\n",
       "      <th>2015-10-29</th>\n",
       "      <td>2015-10-29</td>\n",
       "      <td>POINT (129.29920 35.29256)</td>\n",
       "    </tr>\n",
       "    <tr>\n",
       "      <th>2015-10-30</th>\n",
       "      <td>2015-10-30</td>\n",
       "      <td>POINT (129.24129 35.24668)</td>\n",
       "    </tr>\n",
       "    <tr>\n",
       "      <th>2015-10-31</th>\n",
       "      <td>2015-10-31</td>\n",
       "      <td>POINT (129.22356 35.16076)</td>\n",
       "    </tr>\n",
       "    <tr>\n",
       "      <th>2015-11-01</th>\n",
       "      <td>2015-11-01</td>\n",
       "      <td>POINT (129.27685 35.20085)</td>\n",
       "    </tr>\n",
       "    <tr>\n",
       "      <th>2015-11-02</th>\n",
       "      <td>2015-11-02</td>\n",
       "      <td>POINT (129.42136 35.28637)</td>\n",
       "    </tr>\n",
       "  </tbody>\n",
       "</table>\n",
       "</div>"
      ],
      "text/plain": [
       "                 date                    geometry\n",
       "date                                             \n",
       "2015-10-29 2015-10-29  POINT (129.29920 35.29256)\n",
       "2015-10-30 2015-10-30  POINT (129.24129 35.24668)\n",
       "2015-10-31 2015-10-31  POINT (129.22356 35.16076)\n",
       "2015-11-01 2015-11-01  POINT (129.27685 35.20085)\n",
       "2015-11-02 2015-11-02  POINT (129.42136 35.28637)"
      ]
     },
     "execution_count": 8,
     "metadata": {},
     "output_type": "execute_result"
    }
   ],
   "source": [
    "# 지오메트리를 붙인 공간데이터프레임 생성 \n",
    "gdf = gpd.GeoDataFrame(df2[columns], geometry=geom, crs=\"epsg:4326\")\n",
    "gdf.info()\n",
    "gdf.head()"
   ]
  },
  {
   "cell_type": "code",
   "execution_count": 9,
   "id": "771ae8d7",
   "metadata": {},
   "outputs": [],
   "source": [
    "import plotly.express as px  #pip install plotly"
   ]
  },
  {
   "cell_type": "code",
   "execution_count": 10,
   "id": "cd729e64",
   "metadata": {},
   "outputs": [
    {
     "data": {
      "application/vnd.plotly.v1+json": {
       "config": {
        "plotlyServerURL": "https://plot.ly"
       },
       "data": [
        {
         "hovertemplate": "감도=B<br>일자=2015-10-29<br>위도=%{lat}<br>경도=%{lon}<extra></extra>",
         "lat": [
          35.29256
         ],
         "legendgroup": "B",
         "lon": [
          129.2992
         ],
         "marker": {
          "color": "#636efa"
         },
         "mode": "markers",
         "name": "B",
         "showlegend": true,
         "subplot": "mapbox",
         "type": "scattermapbox"
        }
       ],
       "frames": [
        {
         "data": [
          {
           "hovertemplate": "감도=B<br>일자=2015-10-29<br>위도=%{lat}<br>경도=%{lon}<extra></extra>",
           "lat": [
            35.29256
           ],
           "legendgroup": "B",
           "lon": [
            129.2992
           ],
           "marker": {
            "color": "#636efa"
           },
           "mode": "markers",
           "name": "B",
           "showlegend": true,
           "subplot": "mapbox",
           "type": "scattermapbox"
          }
         ],
         "name": "2015-10-29"
        },
        {
         "data": [
          {
           "hovertemplate": "감도=B<br>일자=2015-10-30<br>위도=%{lat}<br>경도=%{lon}<extra></extra>",
           "lat": [
            35.24668
           ],
           "legendgroup": "B",
           "lon": [
            129.24129
           ],
           "marker": {
            "color": "#636efa"
           },
           "mode": "markers",
           "name": "B",
           "showlegend": true,
           "subplot": "mapbox",
           "type": "scattermapbox"
          }
         ],
         "name": "2015-10-30"
        },
        {
         "data": [
          {
           "hovertemplate": "감도=1<br>일자=2015-10-31<br>위도=%{lat}<br>경도=%{lon}<extra></extra>",
           "lat": [
            35.16076
           ],
           "legendgroup": "1",
           "lon": [
            129.22356
           ],
           "marker": {
            "color": "#EF553B"
           },
           "mode": "markers",
           "name": "1",
           "showlegend": true,
           "subplot": "mapbox",
           "type": "scattermapbox"
          }
         ],
         "name": "2015-10-31"
        },
        {
         "data": [
          {
           "hovertemplate": "감도=B<br>일자=2015-11-01<br>위도=%{lat}<br>경도=%{lon}<extra></extra>",
           "lat": [
            35.20085
           ],
           "legendgroup": "B",
           "lon": [
            129.27685
           ],
           "marker": {
            "color": "#636efa"
           },
           "mode": "markers",
           "name": "B",
           "showlegend": true,
           "subplot": "mapbox",
           "type": "scattermapbox"
          }
         ],
         "name": "2015-11-01"
        },
        {
         "data": [
          {
           "hovertemplate": "감도=A<br>일자=2015-11-02<br>위도=%{lat}<br>경도=%{lon}<extra></extra>",
           "lat": [
            35.28637
           ],
           "legendgroup": "A",
           "lon": [
            129.42136
           ],
           "marker": {
            "color": "#00cc96"
           },
           "mode": "markers",
           "name": "A",
           "showlegend": true,
           "subplot": "mapbox",
           "type": "scattermapbox"
          }
         ],
         "name": "2015-11-02"
        },
        {
         "data": [
          {
           "hovertemplate": "감도=A<br>일자=2015-11-03<br>위도=%{lat}<br>경도=%{lon}<extra></extra>",
           "lat": [
            35.28423
           ],
           "legendgroup": "A",
           "lon": [
            129.26121
           ],
           "marker": {
            "color": "#00cc96"
           },
           "mode": "markers",
           "name": "A",
           "showlegend": true,
           "subplot": "mapbox",
           "type": "scattermapbox"
          }
         ],
         "name": "2015-11-03"
        },
        {
         "data": [
          {
           "hovertemplate": "감도=2<br>일자=2015-11-04<br>위도=%{lat}<br>경도=%{lon}<extra></extra>",
           "lat": [
            35.24925
           ],
           "legendgroup": "2",
           "lon": [
            129.40186
           ],
           "marker": {
            "color": "#ab63fa"
           },
           "mode": "markers",
           "name": "2",
           "showlegend": true,
           "subplot": "mapbox",
           "type": "scattermapbox"
          }
         ],
         "name": "2015-11-04"
        },
        {
         "data": [
          {
           "hovertemplate": "감도=B<br>일자=2015-11-05<br>위도=%{lat}<br>경도=%{lon}<extra></extra>",
           "lat": [
            35.16876
           ],
           "legendgroup": "B",
           "lon": [
            129.20479
           ],
           "marker": {
            "color": "#636efa"
           },
           "mode": "markers",
           "name": "B",
           "showlegend": true,
           "subplot": "mapbox",
           "type": "scattermapbox"
          }
         ],
         "name": "2015-11-05"
        },
        {
         "data": [
          {
           "hovertemplate": "감도=B<br>일자=2015-11-06<br>위도=%{lat}<br>경도=%{lon}<extra></extra>",
           "lat": [
            35.08003
           ],
           "legendgroup": "B",
           "lon": [
            129.1083
           ],
           "marker": {
            "color": "#636efa"
           },
           "mode": "markers",
           "name": "B",
           "showlegend": true,
           "subplot": "mapbox",
           "type": "scattermapbox"
          }
         ],
         "name": "2015-11-06"
        },
        {
         "data": [
          {
           "hovertemplate": "감도=A<br>일자=2015-11-07<br>위도=%{lat}<br>경도=%{lon}<extra></extra>",
           "lat": [
            35.02555
           ],
           "legendgroup": "A",
           "lon": [
            129.07506
           ],
           "marker": {
            "color": "#00cc96"
           },
           "mode": "markers",
           "name": "A",
           "showlegend": true,
           "subplot": "mapbox",
           "type": "scattermapbox"
          }
         ],
         "name": "2015-11-07"
        },
        {
         "data": [
          {
           "hovertemplate": "감도=B<br>일자=2015-11-08<br>위도=%{lat}<br>경도=%{lon}<extra></extra>",
           "lat": [
            34.93991
           ],
           "legendgroup": "B",
           "lon": [
            129.16335
           ],
           "marker": {
            "color": "#636efa"
           },
           "mode": "markers",
           "name": "B",
           "showlegend": true,
           "subplot": "mapbox",
           "type": "scattermapbox"
          }
         ],
         "name": "2015-11-08"
        },
        {
         "data": [
          {
           "hovertemplate": "감도=B<br>일자=2015-11-09<br>위도=%{lat}<br>경도=%{lon}<extra></extra>",
           "lat": [
            34.63266
           ],
           "legendgroup": "B",
           "lon": [
            129.31692
           ],
           "marker": {
            "color": "#636efa"
           },
           "mode": "markers",
           "name": "B",
           "showlegend": true,
           "subplot": "mapbox",
           "type": "scattermapbox"
          }
         ],
         "name": "2015-11-09"
        },
        {
         "data": [
          {
           "hovertemplate": "감도=A<br>일자=2015-11-10<br>위도=%{lat}<br>경도=%{lon}<extra></extra>",
           "lat": [
            34.55539
           ],
           "legendgroup": "A",
           "lon": [
            129.30185
           ],
           "marker": {
            "color": "#00cc96"
           },
           "mode": "markers",
           "name": "A",
           "showlegend": true,
           "subplot": "mapbox",
           "type": "scattermapbox"
          }
         ],
         "name": "2015-11-10"
        },
        {
         "data": [
          {
           "hovertemplate": "감도=B<br>일자=2015-11-11<br>위도=%{lat}<br>경도=%{lon}<extra></extra>",
           "lat": [
            34.14991
           ],
           "legendgroup": "B",
           "lon": [
            129.1616
           ],
           "marker": {
            "color": "#636efa"
           },
           "mode": "markers",
           "name": "B",
           "showlegend": true,
           "subplot": "mapbox",
           "type": "scattermapbox"
          }
         ],
         "name": "2015-11-11"
        },
        {
         "data": [
          {
           "hovertemplate": "감도=2<br>일자=2015-11-12<br>위도=%{lat}<br>경도=%{lon}<extra></extra>",
           "lat": [
            33.97319
           ],
           "legendgroup": "2",
           "lon": [
            129.11484
           ],
           "marker": {
            "color": "#ab63fa"
           },
           "mode": "markers",
           "name": "2",
           "showlegend": true,
           "subplot": "mapbox",
           "type": "scattermapbox"
          }
         ],
         "name": "2015-11-12"
        },
        {
         "data": [
          {
           "hovertemplate": "감도=3<br>일자=2015-11-13<br>위도=%{lat}<br>경도=%{lon}<extra></extra>",
           "lat": [
            33.58086
           ],
           "legendgroup": "3",
           "lon": [
            129.00878
           ],
           "marker": {
            "color": "#FFA15A"
           },
           "mode": "markers",
           "name": "3",
           "showlegend": true,
           "subplot": "mapbox",
           "type": "scattermapbox"
          }
         ],
         "name": "2015-11-13"
        },
        {
         "data": [
          {
           "hovertemplate": "감도=B<br>일자=2015-11-14<br>위도=%{lat}<br>경도=%{lon}<extra></extra>",
           "lat": [
            33.13721
           ],
           "legendgroup": "B",
           "lon": [
            129.28353
           ],
           "marker": {
            "color": "#636efa"
           },
           "mode": "markers",
           "name": "B",
           "showlegend": true,
           "subplot": "mapbox",
           "type": "scattermapbox"
          }
         ],
         "name": "2015-11-14"
        },
        {
         "data": [
          {
           "hovertemplate": "감도=3<br>일자=2015-11-15<br>위도=%{lat}<br>경도=%{lon}<extra></extra>",
           "lat": [
            33.24994
           ],
           "legendgroup": "3",
           "lon": [
            129.0869
           ],
           "marker": {
            "color": "#FFA15A"
           },
           "mode": "markers",
           "name": "3",
           "showlegend": true,
           "subplot": "mapbox",
           "type": "scattermapbox"
          }
         ],
         "name": "2015-11-15"
        },
        {
         "data": [
          {
           "hovertemplate": "감도=B<br>일자=2015-11-16<br>위도=%{lat}<br>경도=%{lon}<extra></extra>",
           "lat": [
            33.25787
           ],
           "legendgroup": "B",
           "lon": [
            129.07926
           ],
           "marker": {
            "color": "#636efa"
           },
           "mode": "markers",
           "name": "B",
           "showlegend": true,
           "subplot": "mapbox",
           "type": "scattermapbox"
          }
         ],
         "name": "2015-11-16"
        },
        {
         "data": [
          {
           "hovertemplate": "감도=A<br>일자=2015-11-17<br>위도=%{lat}<br>경도=%{lon}<extra></extra>",
           "lat": [
            32.9714
           ],
           "legendgroup": "A",
           "lon": [
            128.99435
           ],
           "marker": {
            "color": "#00cc96"
           },
           "mode": "markers",
           "name": "A",
           "showlegend": true,
           "subplot": "mapbox",
           "type": "scattermapbox"
          }
         ],
         "name": "2015-11-17"
        },
        {
         "data": [
          {
           "hovertemplate": "감도=B<br>일자=2015-11-18<br>위도=%{lat}<br>경도=%{lon}<extra></extra>",
           "lat": [
            32.91665
           ],
           "legendgroup": "B",
           "lon": [
            129.00536
           ],
           "marker": {
            "color": "#636efa"
           },
           "mode": "markers",
           "name": "B",
           "showlegend": true,
           "subplot": "mapbox",
           "type": "scattermapbox"
          }
         ],
         "name": "2015-11-18"
        },
        {
         "data": [
          {
           "hovertemplate": "감도=2<br>일자=2015-11-19<br>위도=%{lat}<br>경도=%{lon}<extra></extra>",
           "lat": [
            32.84546
           ],
           "legendgroup": "2",
           "lon": [
            129.04124
           ],
           "marker": {
            "color": "#ab63fa"
           },
           "mode": "markers",
           "name": "2",
           "showlegend": true,
           "subplot": "mapbox",
           "type": "scattermapbox"
          }
         ],
         "name": "2015-11-19"
        },
        {
         "data": [
          {
           "hovertemplate": "감도=2<br>일자=2015-11-20<br>위도=%{lat}<br>경도=%{lon}<extra></extra>",
           "lat": [
            32.48091
           ],
           "legendgroup": "2",
           "lon": [
            129.56061
           ],
           "marker": {
            "color": "#ab63fa"
           },
           "mode": "markers",
           "name": "2",
           "showlegend": true,
           "subplot": "mapbox",
           "type": "scattermapbox"
          }
         ],
         "name": "2015-11-20"
        },
        {
         "data": [
          {
           "hovertemplate": "감도=A<br>일자=2015-11-21<br>위도=%{lat}<br>경도=%{lon}<extra></extra>",
           "lat": [
            32.21419
           ],
           "legendgroup": "A",
           "lon": [
            129.94821
           ],
           "marker": {
            "color": "#00cc96"
           },
           "mode": "markers",
           "name": "A",
           "showlegend": true,
           "subplot": "mapbox",
           "type": "scattermapbox"
          }
         ],
         "name": "2015-11-21"
        },
        {
         "data": [
          {
           "hovertemplate": "감도=B<br>일자=2015-11-22<br>위도=%{lat}<br>경도=%{lon}<extra></extra>",
           "lat": [
            32.00699
           ],
           "legendgroup": "B",
           "lon": [
            130.15634
           ],
           "marker": {
            "color": "#636efa"
           },
           "mode": "markers",
           "name": "B",
           "showlegend": true,
           "subplot": "mapbox",
           "type": "scattermapbox"
          }
         ],
         "name": "2015-11-22"
        },
        {
         "data": [
          {
           "hovertemplate": "감도=B<br>일자=2015-11-23<br>위도=%{lat}<br>경도=%{lon}<extra></extra>",
           "lat": [
            31.46109
           ],
           "legendgroup": "B",
           "lon": [
            130.20791
           ],
           "marker": {
            "color": "#636efa"
           },
           "mode": "markers",
           "name": "B",
           "showlegend": true,
           "subplot": "mapbox",
           "type": "scattermapbox"
          }
         ],
         "name": "2015-11-23"
        },
        {
         "data": [
          {
           "hovertemplate": "감도=A<br>일자=2015-11-24<br>위도=%{lat}<br>경도=%{lon}<extra></extra>",
           "lat": [
            31.34994
           ],
           "legendgroup": "A",
           "lon": [
            129.95513
           ],
           "marker": {
            "color": "#00cc96"
           },
           "mode": "markers",
           "name": "A",
           "showlegend": true,
           "subplot": "mapbox",
           "type": "scattermapbox"
          }
         ],
         "name": "2015-11-24"
        },
        {
         "data": [
          {
           "hovertemplate": "감도=B<br>일자=2015-11-25<br>위도=%{lat}<br>경도=%{lon}<extra></extra>",
           "lat": [
            31.13351
           ],
           "legendgroup": "B",
           "lon": [
            130.2791
           ],
           "marker": {
            "color": "#636efa"
           },
           "mode": "markers",
           "name": "B",
           "showlegend": true,
           "subplot": "mapbox",
           "type": "scattermapbox"
          }
         ],
         "name": "2015-11-25"
        },
        {
         "data": [
          {
           "hovertemplate": "감도=B<br>일자=2015-11-26<br>위도=%{lat}<br>경도=%{lon}<extra></extra>",
           "lat": [
            30.5055
           ],
           "legendgroup": "B",
           "lon": [
            130.70879
           ],
           "marker": {
            "color": "#636efa"
           },
           "mode": "markers",
           "name": "B",
           "showlegend": true,
           "subplot": "mapbox",
           "type": "scattermapbox"
          }
         ],
         "name": "2015-11-26"
        },
        {
         "data": [
          {
           "hovertemplate": "감도=B<br>일자=2015-11-27<br>위도=%{lat}<br>경도=%{lon}<extra></extra>",
           "lat": [
            30.44587
           ],
           "legendgroup": "B",
           "lon": [
            130.72038
           ],
           "marker": {
            "color": "#636efa"
           },
           "mode": "markers",
           "name": "B",
           "showlegend": true,
           "subplot": "mapbox",
           "type": "scattermapbox"
          }
         ],
         "name": "2015-11-27"
        },
        {
         "data": [
          {
           "hovertemplate": "감도=A<br>일자=2015-11-28<br>위도=%{lat}<br>경도=%{lon}<extra></extra>",
           "lat": [
            30.35906
           ],
           "legendgroup": "A",
           "lon": [
            130.67764
           ],
           "marker": {
            "color": "#00cc96"
           },
           "mode": "markers",
           "name": "A",
           "showlegend": true,
           "subplot": "mapbox",
           "type": "scattermapbox"
          }
         ],
         "name": "2015-11-28"
        },
        {
         "data": [
          {
           "hovertemplate": "감도=B<br>일자=2015-11-29<br>위도=%{lat}<br>경도=%{lon}<extra></extra>",
           "lat": [
            30.3858
           ],
           "legendgroup": "B",
           "lon": [
            130.71981
           ],
           "marker": {
            "color": "#636efa"
           },
           "mode": "markers",
           "name": "B",
           "showlegend": true,
           "subplot": "mapbox",
           "type": "scattermapbox"
          }
         ],
         "name": "2015-11-29"
        },
        {
         "data": [
          {
           "hovertemplate": "감도=B<br>일자=2015-11-30<br>위도=%{lat}<br>경도=%{lon}<extra></extra>",
           "lat": [
            30.67679
           ],
           "legendgroup": "B",
           "lon": [
            130.9391
           ],
           "marker": {
            "color": "#636efa"
           },
           "mode": "markers",
           "name": "B",
           "showlegend": true,
           "subplot": "mapbox",
           "type": "scattermapbox"
          }
         ],
         "name": "2015-11-30"
        },
        {
         "data": [
          {
           "hovertemplate": "감도=B<br>일자=2015-12-01<br>위도=%{lat}<br>경도=%{lon}<extra></extra>",
           "lat": [
            30.7551
           ],
           "legendgroup": "B",
           "lon": [
            130.86066
           ],
           "marker": {
            "color": "#636efa"
           },
           "mode": "markers",
           "name": "B",
           "showlegend": true,
           "subplot": "mapbox",
           "type": "scattermapbox"
          }
         ],
         "name": "2015-12-01"
        },
        {
         "data": [
          {
           "hovertemplate": "감도=B<br>일자=2015-12-02<br>위도=%{lat}<br>경도=%{lon}<extra></extra>",
           "lat": [
            30.75449
           ],
           "legendgroup": "B",
           "lon": [
            130.87382
           ],
           "marker": {
            "color": "#636efa"
           },
           "mode": "markers",
           "name": "B",
           "showlegend": true,
           "subplot": "mapbox",
           "type": "scattermapbox"
          }
         ],
         "name": "2015-12-02"
        },
        {
         "data": [
          {
           "hovertemplate": "감도=B<br>일자=2015-12-03<br>위도=%{lat}<br>경도=%{lon}<extra></extra>",
           "lat": [
            30.75953
           ],
           "legendgroup": "B",
           "lon": [
            130.86688
           ],
           "marker": {
            "color": "#636efa"
           },
           "mode": "markers",
           "name": "B",
           "showlegend": true,
           "subplot": "mapbox",
           "type": "scattermapbox"
          }
         ],
         "name": "2015-12-03"
        },
        {
         "data": [
          {
           "hovertemplate": "감도=B<br>일자=2015-12-04<br>위도=%{lat}<br>경도=%{lon}<extra></extra>",
           "lat": [
            30.75949
           ],
           "legendgroup": "B",
           "lon": [
            130.87089
           ],
           "marker": {
            "color": "#636efa"
           },
           "mode": "markers",
           "name": "B",
           "showlegend": true,
           "subplot": "mapbox",
           "type": "scattermapbox"
          }
         ],
         "name": "2015-12-04"
        },
        {
         "data": [
          {
           "hovertemplate": "감도=A<br>일자=2015-12-05<br>위도=%{lat}<br>경도=%{lon}<extra></extra>",
           "lat": [
            30.76837
           ],
           "legendgroup": "A",
           "lon": [
            130.85497
           ],
           "marker": {
            "color": "#00cc96"
           },
           "mode": "markers",
           "name": "A",
           "showlegend": true,
           "subplot": "mapbox",
           "type": "scattermapbox"
          }
         ],
         "name": "2015-12-05"
        },
        {
         "data": [
          {
           "hovertemplate": "감도=B<br>일자=2015-12-06<br>위도=%{lat}<br>경도=%{lon}<extra></extra>",
           "lat": [
            30.77707
           ],
           "legendgroup": "B",
           "lon": [
            130.88791
           ],
           "marker": {
            "color": "#636efa"
           },
           "mode": "markers",
           "name": "B",
           "showlegend": true,
           "subplot": "mapbox",
           "type": "scattermapbox"
          }
         ],
         "name": "2015-12-06"
        },
        {
         "data": [
          {
           "hovertemplate": "감도=B<br>일자=2015-12-07<br>위도=%{lat}<br>경도=%{lon}<extra></extra>",
           "lat": [
            30.81572
           ],
           "legendgroup": "B",
           "lon": [
            130.9476
           ],
           "marker": {
            "color": "#636efa"
           },
           "mode": "markers",
           "name": "B",
           "showlegend": true,
           "subplot": "mapbox",
           "type": "scattermapbox"
          }
         ],
         "name": "2015-12-07"
        },
        {
         "data": [
          {
           "hovertemplate": "감도=B<br>일자=2015-12-08<br>위도=%{lat}<br>경도=%{lon}<extra></extra>",
           "lat": [
            30.74974
           ],
           "legendgroup": "B",
           "lon": [
            130.88886
           ],
           "marker": {
            "color": "#636efa"
           },
           "mode": "markers",
           "name": "B",
           "showlegend": true,
           "subplot": "mapbox",
           "type": "scattermapbox"
          }
         ],
         "name": "2015-12-08"
        },
        {
         "data": [
          {
           "hovertemplate": "감도=B<br>일자=2015-12-09<br>위도=%{lat}<br>경도=%{lon}<extra></extra>",
           "lat": [
            30.7461
           ],
           "legendgroup": "B",
           "lon": [
            130.86462
           ],
           "marker": {
            "color": "#636efa"
           },
           "mode": "markers",
           "name": "B",
           "showlegend": true,
           "subplot": "mapbox",
           "type": "scattermapbox"
          }
         ],
         "name": "2015-12-09"
        },
        {
         "data": [
          {
           "hovertemplate": "감도=0<br>일자=2015-12-10<br>위도=%{lat}<br>경도=%{lon}<extra></extra>",
           "lat": [
            30.74399
           ],
           "legendgroup": "0",
           "lon": [
            130.88066
           ],
           "marker": {
            "color": "#19d3f3"
           },
           "mode": "markers",
           "name": "0",
           "showlegend": true,
           "subplot": "mapbox",
           "type": "scattermapbox"
          }
         ],
         "name": "2015-12-10"
        },
        {
         "data": [
          {
           "hovertemplate": "감도=A<br>일자=2015-12-11<br>위도=%{lat}<br>경도=%{lon}<extra></extra>",
           "lat": [
            30.72354
           ],
           "legendgroup": "A",
           "lon": [
            130.87191
           ],
           "marker": {
            "color": "#00cc96"
           },
           "mode": "markers",
           "name": "A",
           "showlegend": true,
           "subplot": "mapbox",
           "type": "scattermapbox"
          }
         ],
         "name": "2015-12-11"
        },
        {
         "data": [
          {
           "hovertemplate": "감도=B<br>일자=2015-12-12<br>위도=%{lat}<br>경도=%{lon}<extra></extra>",
           "lat": [
            30.76241
           ],
           "legendgroup": "B",
           "lon": [
            130.87061
           ],
           "marker": {
            "color": "#636efa"
           },
           "mode": "markers",
           "name": "B",
           "showlegend": true,
           "subplot": "mapbox",
           "type": "scattermapbox"
          }
         ],
         "name": "2015-12-12"
        },
        {
         "data": [
          {
           "hovertemplate": "감도=B<br>일자=2015-12-13<br>위도=%{lat}<br>경도=%{lon}<extra></extra>",
           "lat": [
            30.72802
           ],
           "legendgroup": "B",
           "lon": [
            130.86272
           ],
           "marker": {
            "color": "#636efa"
           },
           "mode": "markers",
           "name": "B",
           "showlegend": true,
           "subplot": "mapbox",
           "type": "scattermapbox"
          }
         ],
         "name": "2015-12-13"
        },
        {
         "data": [
          {
           "hovertemplate": "감도=A<br>일자=2015-12-14<br>위도=%{lat}<br>경도=%{lon}<extra></extra>",
           "lat": [
            30.74716
           ],
           "legendgroup": "A",
           "lon": [
            130.87149
           ],
           "marker": {
            "color": "#00cc96"
           },
           "mode": "markers",
           "name": "A",
           "showlegend": true,
           "subplot": "mapbox",
           "type": "scattermapbox"
          }
         ],
         "name": "2015-12-14"
        },
        {
         "data": [
          {
           "hovertemplate": "감도=B<br>일자=2015-12-15<br>위도=%{lat}<br>경도=%{lon}<extra></extra>",
           "lat": [
            30.75655
           ],
           "legendgroup": "B",
           "lon": [
            130.8489
           ],
           "marker": {
            "color": "#636efa"
           },
           "mode": "markers",
           "name": "B",
           "showlegend": true,
           "subplot": "mapbox",
           "type": "scattermapbox"
          }
         ],
         "name": "2015-12-15"
        },
        {
         "data": [
          {
           "hovertemplate": "감도=A<br>일자=2015-12-16<br>위도=%{lat}<br>경도=%{lon}<extra></extra>",
           "lat": [
            30.72836
           ],
           "legendgroup": "A",
           "lon": [
            130.86839
           ],
           "marker": {
            "color": "#00cc96"
           },
           "mode": "markers",
           "name": "A",
           "showlegend": true,
           "subplot": "mapbox",
           "type": "scattermapbox"
          }
         ],
         "name": "2015-12-16"
        },
        {
         "data": [
          {
           "hovertemplate": "감도=B<br>일자=2015-12-17<br>위도=%{lat}<br>경도=%{lon}<extra></extra>",
           "lat": [
            30.73619
           ],
           "legendgroup": "B",
           "lon": [
            130.86797
           ],
           "marker": {
            "color": "#636efa"
           },
           "mode": "markers",
           "name": "B",
           "showlegend": true,
           "subplot": "mapbox",
           "type": "scattermapbox"
          }
         ],
         "name": "2015-12-17"
        },
        {
         "data": [
          {
           "hovertemplate": "감도=B<br>일자=2015-12-18<br>위도=%{lat}<br>경도=%{lon}<extra></extra>",
           "lat": [
            30.75169
           ],
           "legendgroup": "B",
           "lon": [
            130.87137
           ],
           "marker": {
            "color": "#636efa"
           },
           "mode": "markers",
           "name": "B",
           "showlegend": true,
           "subplot": "mapbox",
           "type": "scattermapbox"
          }
         ],
         "name": "2015-12-18"
        },
        {
         "data": [
          {
           "hovertemplate": "감도=B<br>일자=2015-12-19<br>위도=%{lat}<br>경도=%{lon}<extra></extra>",
           "lat": [
            30.72518
           ],
           "legendgroup": "B",
           "lon": [
            130.8353
           ],
           "marker": {
            "color": "#636efa"
           },
           "mode": "markers",
           "name": "B",
           "showlegend": true,
           "subplot": "mapbox",
           "type": "scattermapbox"
          }
         ],
         "name": "2015-12-19"
        },
        {
         "data": [
          {
           "hovertemplate": "감도=A<br>일자=2015-12-20<br>위도=%{lat}<br>경도=%{lon}<extra></extra>",
           "lat": [
            30.7358
           ],
           "legendgroup": "A",
           "lon": [
            130.85903
           ],
           "marker": {
            "color": "#00cc96"
           },
           "mode": "markers",
           "name": "A",
           "showlegend": true,
           "subplot": "mapbox",
           "type": "scattermapbox"
          }
         ],
         "name": "2015-12-20"
        },
        {
         "data": [
          {
           "hovertemplate": "감도=B<br>일자=2015-12-21<br>위도=%{lat}<br>경도=%{lon}<extra></extra>",
           "lat": [
            30.742
           ],
           "legendgroup": "B",
           "lon": [
            130.86136
           ],
           "marker": {
            "color": "#636efa"
           },
           "mode": "markers",
           "name": "B",
           "showlegend": true,
           "subplot": "mapbox",
           "type": "scattermapbox"
          }
         ],
         "name": "2015-12-21"
        },
        {
         "data": [
          {
           "hovertemplate": "감도=B<br>일자=2015-12-22<br>위도=%{lat}<br>경도=%{lon}<extra></extra>",
           "lat": [
            30.74134
           ],
           "legendgroup": "B",
           "lon": [
            130.84798
           ],
           "marker": {
            "color": "#636efa"
           },
           "mode": "markers",
           "name": "B",
           "showlegend": true,
           "subplot": "mapbox",
           "type": "scattermapbox"
          }
         ],
         "name": "2015-12-22"
        },
        {
         "data": [
          {
           "hovertemplate": "감도=B<br>일자=2015-12-23<br>위도=%{lat}<br>경도=%{lon}<extra></extra>",
           "lat": [
            30.73692
           ],
           "legendgroup": "B",
           "lon": [
            130.86742
           ],
           "marker": {
            "color": "#636efa"
           },
           "mode": "markers",
           "name": "B",
           "showlegend": true,
           "subplot": "mapbox",
           "type": "scattermapbox"
          }
         ],
         "name": "2015-12-23"
        },
        {
         "data": [
          {
           "hovertemplate": "감도=B<br>일자=2015-12-24<br>위도=%{lat}<br>경도=%{lon}<extra></extra>",
           "lat": [
            30.73444
           ],
           "legendgroup": "B",
           "lon": [
            130.85753
           ],
           "marker": {
            "color": "#636efa"
           },
           "mode": "markers",
           "name": "B",
           "showlegend": true,
           "subplot": "mapbox",
           "type": "scattermapbox"
          }
         ],
         "name": "2015-12-24"
        },
        {
         "data": [
          {
           "hovertemplate": "감도=B<br>일자=2015-12-25<br>위도=%{lat}<br>경도=%{lon}<extra></extra>",
           "lat": [
            30.72622
           ],
           "legendgroup": "B",
           "lon": [
            130.86917
           ],
           "marker": {
            "color": "#636efa"
           },
           "mode": "markers",
           "name": "B",
           "showlegend": true,
           "subplot": "mapbox",
           "type": "scattermapbox"
          }
         ],
         "name": "2015-12-25"
        },
        {
         "data": [
          {
           "hovertemplate": "감도=A<br>일자=2015-12-26<br>위도=%{lat}<br>경도=%{lon}<extra></extra>",
           "lat": [
            30.74357
           ],
           "legendgroup": "A",
           "lon": [
            130.86384
           ],
           "marker": {
            "color": "#00cc96"
           },
           "mode": "markers",
           "name": "A",
           "showlegend": true,
           "subplot": "mapbox",
           "type": "scattermapbox"
          }
         ],
         "name": "2015-12-26"
        },
        {
         "data": [
          {
           "hovertemplate": "감도=B<br>일자=2015-12-27<br>위도=%{lat}<br>경도=%{lon}<extra></extra>",
           "lat": [
            30.75178
           ],
           "legendgroup": "B",
           "lon": [
            130.84463
           ],
           "marker": {
            "color": "#636efa"
           },
           "mode": "markers",
           "name": "B",
           "showlegend": true,
           "subplot": "mapbox",
           "type": "scattermapbox"
          }
         ],
         "name": "2015-12-27"
        },
        {
         "data": [
          {
           "hovertemplate": "감도=B<br>일자=2015-12-28<br>위도=%{lat}<br>경도=%{lon}<extra></extra>",
           "lat": [
            30.7613
           ],
           "legendgroup": "B",
           "lon": [
            130.88485
           ],
           "marker": {
            "color": "#636efa"
           },
           "mode": "markers",
           "name": "B",
           "showlegend": true,
           "subplot": "mapbox",
           "type": "scattermapbox"
          }
         ],
         "name": "2015-12-28"
        },
        {
         "data": [
          {
           "hovertemplate": "감도=B<br>일자=2015-12-29<br>위도=%{lat}<br>경도=%{lon}<extra></extra>",
           "lat": [
            30.74423
           ],
           "legendgroup": "B",
           "lon": [
            130.89709
           ],
           "marker": {
            "color": "#636efa"
           },
           "mode": "markers",
           "name": "B",
           "showlegend": true,
           "subplot": "mapbox",
           "type": "scattermapbox"
          }
         ],
         "name": "2015-12-29"
        },
        {
         "data": [
          {
           "hovertemplate": "감도=B<br>일자=2015-12-30<br>위도=%{lat}<br>경도=%{lon}<extra></extra>",
           "lat": [
            30.73916
           ],
           "legendgroup": "B",
           "lon": [
            130.89421
           ],
           "marker": {
            "color": "#636efa"
           },
           "mode": "markers",
           "name": "B",
           "showlegend": true,
           "subplot": "mapbox",
           "type": "scattermapbox"
          }
         ],
         "name": "2015-12-30"
        },
        {
         "data": [
          {
           "hovertemplate": "감도=B<br>일자=2015-12-31<br>위도=%{lat}<br>경도=%{lon}<extra></extra>",
           "lat": [
            30.66358
           ],
           "legendgroup": "B",
           "lon": [
            130.7872
           ],
           "marker": {
            "color": "#636efa"
           },
           "mode": "markers",
           "name": "B",
           "showlegend": true,
           "subplot": "mapbox",
           "type": "scattermapbox"
          }
         ],
         "name": "2015-12-31"
        },
        {
         "data": [
          {
           "hovertemplate": "감도=2<br>일자=2016-01-01<br>위도=%{lat}<br>경도=%{lon}<extra></extra>",
           "lat": [
            30.74125
           ],
           "legendgroup": "2",
           "lon": [
            130.87617
           ],
           "marker": {
            "color": "#ab63fa"
           },
           "mode": "markers",
           "name": "2",
           "showlegend": true,
           "subplot": "mapbox",
           "type": "scattermapbox"
          }
         ],
         "name": "2016-01-01"
        },
        {
         "data": [
          {
           "hovertemplate": "감도=B<br>일자=2016-01-02<br>위도=%{lat}<br>경도=%{lon}<extra></extra>",
           "lat": [
            30.75138
           ],
           "legendgroup": "B",
           "lon": [
            130.87949
           ],
           "marker": {
            "color": "#636efa"
           },
           "mode": "markers",
           "name": "B",
           "showlegend": true,
           "subplot": "mapbox",
           "type": "scattermapbox"
          }
         ],
         "name": "2016-01-02"
        },
        {
         "data": [
          {
           "hovertemplate": "감도=B<br>일자=2016-01-03<br>위도=%{lat}<br>경도=%{lon}<extra></extra>",
           "lat": [
            30.74768
           ],
           "legendgroup": "B",
           "lon": [
            130.86778
           ],
           "marker": {
            "color": "#636efa"
           },
           "mode": "markers",
           "name": "B",
           "showlegend": true,
           "subplot": "mapbox",
           "type": "scattermapbox"
          }
         ],
         "name": "2016-01-03"
        },
        {
         "data": [
          {
           "hovertemplate": "감도=B<br>일자=2016-01-04<br>위도=%{lat}<br>경도=%{lon}<extra></extra>",
           "lat": [
            30.76716
           ],
           "legendgroup": "B",
           "lon": [
            130.87823
           ],
           "marker": {
            "color": "#636efa"
           },
           "mode": "markers",
           "name": "B",
           "showlegend": true,
           "subplot": "mapbox",
           "type": "scattermapbox"
          }
         ],
         "name": "2016-01-04"
        },
        {
         "data": [
          {
           "hovertemplate": "감도=B<br>일자=2016-01-05<br>위도=%{lat}<br>경도=%{lon}<extra></extra>",
           "lat": [
            30.76257
           ],
           "legendgroup": "B",
           "lon": [
            130.89903
           ],
           "marker": {
            "color": "#636efa"
           },
           "mode": "markers",
           "name": "B",
           "showlegend": true,
           "subplot": "mapbox",
           "type": "scattermapbox"
          }
         ],
         "name": "2016-01-05"
        },
        {
         "data": [
          {
           "hovertemplate": "감도=B<br>일자=2016-01-06<br>위도=%{lat}<br>경도=%{lon}<extra></extra>",
           "lat": [
            30.75661
           ],
           "legendgroup": "B",
           "lon": [
            130.86948
           ],
           "marker": {
            "color": "#636efa"
           },
           "mode": "markers",
           "name": "B",
           "showlegend": true,
           "subplot": "mapbox",
           "type": "scattermapbox"
          }
         ],
         "name": "2016-01-06"
        },
        {
         "data": [
          {
           "hovertemplate": "감도=B<br>일자=2016-01-07<br>위도=%{lat}<br>경도=%{lon}<extra></extra>",
           "lat": [
            30.74903
           ],
           "legendgroup": "B",
           "lon": [
            130.8679
           ],
           "marker": {
            "color": "#636efa"
           },
           "mode": "markers",
           "name": "B",
           "showlegend": true,
           "subplot": "mapbox",
           "type": "scattermapbox"
          }
         ],
         "name": "2016-01-07"
        },
        {
         "data": [
          {
           "hovertemplate": "감도=B<br>일자=2016-01-08<br>위도=%{lat}<br>경도=%{lon}<extra></extra>",
           "lat": [
            30.74811
           ],
           "legendgroup": "B",
           "lon": [
            130.86466
           ],
           "marker": {
            "color": "#636efa"
           },
           "mode": "markers",
           "name": "B",
           "showlegend": true,
           "subplot": "mapbox",
           "type": "scattermapbox"
          }
         ],
         "name": "2016-01-08"
        },
        {
         "data": [
          {
           "hovertemplate": "감도=B<br>일자=2016-01-09<br>위도=%{lat}<br>경도=%{lon}<extra></extra>",
           "lat": [
            30.75053
           ],
           "legendgroup": "B",
           "lon": [
            130.89081
           ],
           "marker": {
            "color": "#636efa"
           },
           "mode": "markers",
           "name": "B",
           "showlegend": true,
           "subplot": "mapbox",
           "type": "scattermapbox"
          }
         ],
         "name": "2016-01-09"
        },
        {
         "data": [
          {
           "hovertemplate": "감도=B<br>일자=2016-01-14<br>위도=%{lat}<br>경도=%{lon}<extra></extra>",
           "lat": [
            30.75611
           ],
           "legendgroup": "B",
           "lon": [
            130.8594
           ],
           "marker": {
            "color": "#636efa"
           },
           "mode": "markers",
           "name": "B",
           "showlegend": true,
           "subplot": "mapbox",
           "type": "scattermapbox"
          }
         ],
         "name": "2016-01-14"
        },
        {
         "data": [
          {
           "hovertemplate": "감도=A<br>일자=2016-01-15<br>위도=%{lat}<br>경도=%{lon}<extra></extra>",
           "lat": [
            30.74519
           ],
           "legendgroup": "A",
           "lon": [
            130.87684
           ],
           "marker": {
            "color": "#00cc96"
           },
           "mode": "markers",
           "name": "A",
           "showlegend": true,
           "subplot": "mapbox",
           "type": "scattermapbox"
          }
         ],
         "name": "2016-01-15"
        },
        {
         "data": [
          {
           "hovertemplate": "감도=B<br>일자=2016-01-16<br>위도=%{lat}<br>경도=%{lon}<extra></extra>",
           "lat": [
            30.7799
           ],
           "legendgroup": "B",
           "lon": [
            130.86441
           ],
           "marker": {
            "color": "#636efa"
           },
           "mode": "markers",
           "name": "B",
           "showlegend": true,
           "subplot": "mapbox",
           "type": "scattermapbox"
          }
         ],
         "name": "2016-01-16"
        },
        {
         "data": [
          {
           "hovertemplate": "감도=B<br>일자=2016-01-17<br>위도=%{lat}<br>경도=%{lon}<extra></extra>",
           "lat": [
            30.75176
           ],
           "legendgroup": "B",
           "lon": [
            130.87153
           ],
           "marker": {
            "color": "#636efa"
           },
           "mode": "markers",
           "name": "B",
           "showlegend": true,
           "subplot": "mapbox",
           "type": "scattermapbox"
          }
         ],
         "name": "2016-01-17"
        },
        {
         "data": [
          {
           "hovertemplate": "감도=B<br>일자=2016-01-18<br>위도=%{lat}<br>경도=%{lon}<extra></extra>",
           "lat": [
            30.75832
           ],
           "legendgroup": "B",
           "lon": [
            130.86864
           ],
           "marker": {
            "color": "#636efa"
           },
           "mode": "markers",
           "name": "B",
           "showlegend": true,
           "subplot": "mapbox",
           "type": "scattermapbox"
          }
         ],
         "name": "2016-01-18"
        },
        {
         "data": [
          {
           "hovertemplate": "감도=B<br>일자=2016-01-19<br>위도=%{lat}<br>경도=%{lon}<extra></extra>",
           "lat": [
            30.76629
           ],
           "legendgroup": "B",
           "lon": [
            130.87417
           ],
           "marker": {
            "color": "#636efa"
           },
           "mode": "markers",
           "name": "B",
           "showlegend": true,
           "subplot": "mapbox",
           "type": "scattermapbox"
          }
         ],
         "name": "2016-01-19"
        },
        {
         "data": [
          {
           "hovertemplate": "감도=B<br>일자=2016-01-20<br>위도=%{lat}<br>경도=%{lon}<extra></extra>",
           "lat": [
            30.76282
           ],
           "legendgroup": "B",
           "lon": [
            130.87229
           ],
           "marker": {
            "color": "#636efa"
           },
           "mode": "markers",
           "name": "B",
           "showlegend": true,
           "subplot": "mapbox",
           "type": "scattermapbox"
          }
         ],
         "name": "2016-01-20"
        },
        {
         "data": [
          {
           "hovertemplate": "감도=B<br>일자=2016-01-24<br>위도=%{lat}<br>경도=%{lon}<extra></extra>",
           "lat": [
            30.76672
           ],
           "legendgroup": "B",
           "lon": [
            130.88419
           ],
           "marker": {
            "color": "#636efa"
           },
           "mode": "markers",
           "name": "B",
           "showlegend": true,
           "subplot": "mapbox",
           "type": "scattermapbox"
          }
         ],
         "name": "2016-01-24"
        },
        {
         "data": [
          {
           "hovertemplate": "감도=B<br>일자=2016-01-25<br>위도=%{lat}<br>경도=%{lon}<extra></extra>",
           "lat": [
            30.74758
           ],
           "legendgroup": "B",
           "lon": [
            130.85835
           ],
           "marker": {
            "color": "#636efa"
           },
           "mode": "markers",
           "name": "B",
           "showlegend": true,
           "subplot": "mapbox",
           "type": "scattermapbox"
          }
         ],
         "name": "2016-01-25"
        },
        {
         "data": [
          {
           "hovertemplate": "감도=B<br>일자=2016-01-26<br>위도=%{lat}<br>경도=%{lon}<extra></extra>",
           "lat": [
            30.75702
           ],
           "legendgroup": "B",
           "lon": [
            130.86269
           ],
           "marker": {
            "color": "#636efa"
           },
           "mode": "markers",
           "name": "B",
           "showlegend": true,
           "subplot": "mapbox",
           "type": "scattermapbox"
          }
         ],
         "name": "2016-01-26"
        },
        {
         "data": [
          {
           "hovertemplate": "감도=0<br>일자=2016-01-28<br>위도=%{lat}<br>경도=%{lon}<extra></extra>",
           "lat": [
            30.75905
           ],
           "legendgroup": "0",
           "lon": [
            130.88158
           ],
           "marker": {
            "color": "#19d3f3"
           },
           "mode": "markers",
           "name": "0",
           "showlegend": true,
           "subplot": "mapbox",
           "type": "scattermapbox"
          }
         ],
         "name": "2016-01-28"
        },
        {
         "data": [
          {
           "hovertemplate": "감도=B<br>일자=2016-01-29<br>위도=%{lat}<br>경도=%{lon}<extra></extra>",
           "lat": [
            30.75663
           ],
           "legendgroup": "B",
           "lon": [
            130.87353
           ],
           "marker": {
            "color": "#636efa"
           },
           "mode": "markers",
           "name": "B",
           "showlegend": true,
           "subplot": "mapbox",
           "type": "scattermapbox"
          }
         ],
         "name": "2016-01-29"
        },
        {
         "data": [
          {
           "hovertemplate": "감도=B<br>일자=2016-01-30<br>위도=%{lat}<br>경도=%{lon}<extra></extra>",
           "lat": [
            30.74358
           ],
           "legendgroup": "B",
           "lon": [
            130.87189
           ],
           "marker": {
            "color": "#636efa"
           },
           "mode": "markers",
           "name": "B",
           "showlegend": true,
           "subplot": "mapbox",
           "type": "scattermapbox"
          }
         ],
         "name": "2016-01-30"
        },
        {
         "data": [
          {
           "hovertemplate": "감도=B<br>일자=2016-01-31<br>위도=%{lat}<br>경도=%{lon}<extra></extra>",
           "lat": [
            30.74643
           ],
           "legendgroup": "B",
           "lon": [
            130.89542
           ],
           "marker": {
            "color": "#636efa"
           },
           "mode": "markers",
           "name": "B",
           "showlegend": true,
           "subplot": "mapbox",
           "type": "scattermapbox"
          }
         ],
         "name": "2016-01-31"
        },
        {
         "data": [
          {
           "hovertemplate": "감도=B<br>일자=2016-02-01<br>위도=%{lat}<br>경도=%{lon}<extra></extra>",
           "lat": [
            30.7508
           ],
           "legendgroup": "B",
           "lon": [
            130.89854
           ],
           "marker": {
            "color": "#636efa"
           },
           "mode": "markers",
           "name": "B",
           "showlegend": true,
           "subplot": "mapbox",
           "type": "scattermapbox"
          }
         ],
         "name": "2016-02-01"
        },
        {
         "data": [
          {
           "hovertemplate": "감도=A<br>일자=2016-02-02<br>위도=%{lat}<br>경도=%{lon}<extra></extra>",
           "lat": [
            30.75461
           ],
           "legendgroup": "A",
           "lon": [
            130.86862
           ],
           "marker": {
            "color": "#00cc96"
           },
           "mode": "markers",
           "name": "A",
           "showlegend": true,
           "subplot": "mapbox",
           "type": "scattermapbox"
          }
         ],
         "name": "2016-02-02"
        },
        {
         "data": [
          {
           "hovertemplate": "감도=A<br>일자=2016-02-04<br>위도=%{lat}<br>경도=%{lon}<extra></extra>",
           "lat": [
            30.75892
           ],
           "legendgroup": "A",
           "lon": [
            130.88288
           ],
           "marker": {
            "color": "#00cc96"
           },
           "mode": "markers",
           "name": "A",
           "showlegend": true,
           "subplot": "mapbox",
           "type": "scattermapbox"
          }
         ],
         "name": "2016-02-04"
        },
        {
         "data": [
          {
           "hovertemplate": "감도=B<br>일자=2016-02-05<br>위도=%{lat}<br>경도=%{lon}<extra></extra>",
           "lat": [
            30.74227
           ],
           "legendgroup": "B",
           "lon": [
            130.85077
           ],
           "marker": {
            "color": "#636efa"
           },
           "mode": "markers",
           "name": "B",
           "showlegend": true,
           "subplot": "mapbox",
           "type": "scattermapbox"
          }
         ],
         "name": "2016-02-05"
        },
        {
         "data": [
          {
           "hovertemplate": "감도=B<br>일자=2016-02-07<br>위도=%{lat}<br>경도=%{lon}<extra></extra>",
           "lat": [
            30.76148
           ],
           "legendgroup": "B",
           "lon": [
            130.87468
           ],
           "marker": {
            "color": "#636efa"
           },
           "mode": "markers",
           "name": "B",
           "showlegend": true,
           "subplot": "mapbox",
           "type": "scattermapbox"
          }
         ],
         "name": "2016-02-07"
        },
        {
         "data": [
          {
           "hovertemplate": "감도=B<br>일자=2016-02-08<br>위도=%{lat}<br>경도=%{lon}<extra></extra>",
           "lat": [
            30.76264
           ],
           "legendgroup": "B",
           "lon": [
            130.8742
           ],
           "marker": {
            "color": "#636efa"
           },
           "mode": "markers",
           "name": "B",
           "showlegend": true,
           "subplot": "mapbox",
           "type": "scattermapbox"
          }
         ],
         "name": "2016-02-08"
        },
        {
         "data": [
          {
           "hovertemplate": "감도=1<br>일자=2016-02-09<br>위도=%{lat}<br>경도=%{lon}<extra></extra>",
           "lat": [
            30.7516
           ],
           "legendgroup": "1",
           "lon": [
            130.87063
           ],
           "marker": {
            "color": "#EF553B"
           },
           "mode": "markers",
           "name": "1",
           "showlegend": true,
           "subplot": "mapbox",
           "type": "scattermapbox"
          }
         ],
         "name": "2016-02-09"
        },
        {
         "data": [
          {
           "hovertemplate": "감도=B<br>일자=2016-02-10<br>위도=%{lat}<br>경도=%{lon}<extra></extra>",
           "lat": [
            30.75573
           ],
           "legendgroup": "B",
           "lon": [
            130.869
           ],
           "marker": {
            "color": "#636efa"
           },
           "mode": "markers",
           "name": "B",
           "showlegend": true,
           "subplot": "mapbox",
           "type": "scattermapbox"
          }
         ],
         "name": "2016-02-10"
        },
        {
         "data": [
          {
           "hovertemplate": "감도=B<br>일자=2016-02-15<br>위도=%{lat}<br>경도=%{lon}<extra></extra>",
           "lat": [
            30.76179
           ],
           "legendgroup": "B",
           "lon": [
            130.8645
           ],
           "marker": {
            "color": "#636efa"
           },
           "mode": "markers",
           "name": "B",
           "showlegend": true,
           "subplot": "mapbox",
           "type": "scattermapbox"
          }
         ],
         "name": "2016-02-15"
        },
        {
         "data": [
          {
           "hovertemplate": "감도=B<br>일자=2016-02-16<br>위도=%{lat}<br>경도=%{lon}<extra></extra>",
           "lat": [
            30.76867
           ],
           "legendgroup": "B",
           "lon": [
            130.85752
           ],
           "marker": {
            "color": "#636efa"
           },
           "mode": "markers",
           "name": "B",
           "showlegend": true,
           "subplot": "mapbox",
           "type": "scattermapbox"
          }
         ],
         "name": "2016-02-16"
        },
        {
         "data": [
          {
           "hovertemplate": "감도=B<br>일자=2016-02-17<br>위도=%{lat}<br>경도=%{lon}<extra></extra>",
           "lat": [
            30.765
           ],
           "legendgroup": "B",
           "lon": [
            130.85988
           ],
           "marker": {
            "color": "#636efa"
           },
           "mode": "markers",
           "name": "B",
           "showlegend": true,
           "subplot": "mapbox",
           "type": "scattermapbox"
          }
         ],
         "name": "2016-02-17"
        },
        {
         "data": [
          {
           "hovertemplate": "감도=2<br>일자=2016-02-18<br>위도=%{lat}<br>경도=%{lon}<extra></extra>",
           "lat": [
            30.75044
           ],
           "legendgroup": "2",
           "lon": [
            130.87447
           ],
           "marker": {
            "color": "#ab63fa"
           },
           "mode": "markers",
           "name": "2",
           "showlegend": true,
           "subplot": "mapbox",
           "type": "scattermapbox"
          }
         ],
         "name": "2016-02-18"
        },
        {
         "data": [
          {
           "hovertemplate": "감도=B<br>일자=2016-02-19<br>위도=%{lat}<br>경도=%{lon}<extra></extra>",
           "lat": [
            30.75013
           ],
           "legendgroup": "B",
           "lon": [
            130.88163
           ],
           "marker": {
            "color": "#636efa"
           },
           "mode": "markers",
           "name": "B",
           "showlegend": true,
           "subplot": "mapbox",
           "type": "scattermapbox"
          }
         ],
         "name": "2016-02-19"
        },
        {
         "data": [
          {
           "hovertemplate": "감도=B<br>일자=2016-02-20<br>위도=%{lat}<br>경도=%{lon}<extra></extra>",
           "lat": [
            30.75754
           ],
           "legendgroup": "B",
           "lon": [
            130.8758
           ],
           "marker": {
            "color": "#636efa"
           },
           "mode": "markers",
           "name": "B",
           "showlegend": true,
           "subplot": "mapbox",
           "type": "scattermapbox"
          }
         ],
         "name": "2016-02-20"
        },
        {
         "data": [
          {
           "hovertemplate": "감도=A<br>일자=2016-02-21<br>위도=%{lat}<br>경도=%{lon}<extra></extra>",
           "lat": [
            30.77746
           ],
           "legendgroup": "A",
           "lon": [
            130.87359
           ],
           "marker": {
            "color": "#00cc96"
           },
           "mode": "markers",
           "name": "A",
           "showlegend": true,
           "subplot": "mapbox",
           "type": "scattermapbox"
          }
         ],
         "name": "2016-02-21"
        },
        {
         "data": [
          {
           "hovertemplate": "감도=2<br>일자=2016-02-22<br>위도=%{lat}<br>경도=%{lon}<extra></extra>",
           "lat": [
            30.74007
           ],
           "legendgroup": "2",
           "lon": [
            130.87087
           ],
           "marker": {
            "color": "#ab63fa"
           },
           "mode": "markers",
           "name": "2",
           "showlegend": true,
           "subplot": "mapbox",
           "type": "scattermapbox"
          }
         ],
         "name": "2016-02-22"
        },
        {
         "data": [
          {
           "hovertemplate": "감도=0<br>일자=2016-02-25<br>위도=%{lat}<br>경도=%{lon}<extra></extra>",
           "lat": [
            30.77308
           ],
           "legendgroup": "0",
           "lon": [
            130.97911
           ],
           "marker": {
            "color": "#19d3f3"
           },
           "mode": "markers",
           "name": "0",
           "showlegend": true,
           "subplot": "mapbox",
           "type": "scattermapbox"
          }
         ],
         "name": "2016-02-25"
        },
        {
         "data": [
          {
           "hovertemplate": "감도=B<br>일자=2016-02-26<br>위도=%{lat}<br>경도=%{lon}<extra></extra>",
           "lat": [
            30.74642
           ],
           "legendgroup": "B",
           "lon": [
            130.86698
           ],
           "marker": {
            "color": "#636efa"
           },
           "mode": "markers",
           "name": "B",
           "showlegend": true,
           "subplot": "mapbox",
           "type": "scattermapbox"
          }
         ],
         "name": "2016-02-26"
        },
        {
         "data": [
          {
           "hovertemplate": "감도=B<br>일자=2016-02-27<br>위도=%{lat}<br>경도=%{lon}<extra></extra>",
           "lat": [
            30.74782
           ],
           "legendgroup": "B",
           "lon": [
            130.86882
           ],
           "marker": {
            "color": "#636efa"
           },
           "mode": "markers",
           "name": "B",
           "showlegend": true,
           "subplot": "mapbox",
           "type": "scattermapbox"
          }
         ],
         "name": "2016-02-27"
        },
        {
         "data": [
          {
           "hovertemplate": "감도=0<br>일자=2016-03-01<br>위도=%{lat}<br>경도=%{lon}<extra></extra>",
           "lat": [
            30.73402
           ],
           "legendgroup": "0",
           "lon": [
            130.84552
           ],
           "marker": {
            "color": "#19d3f3"
           },
           "mode": "markers",
           "name": "0",
           "showlegend": true,
           "subplot": "mapbox",
           "type": "scattermapbox"
          }
         ],
         "name": "2016-03-01"
        },
        {
         "data": [
          {
           "hovertemplate": "감도=A<br>일자=2016-03-02<br>위도=%{lat}<br>경도=%{lon}<extra></extra>",
           "lat": [
            30.74949
           ],
           "legendgroup": "A",
           "lon": [
            130.86928
           ],
           "marker": {
            "color": "#00cc96"
           },
           "mode": "markers",
           "name": "A",
           "showlegend": true,
           "subplot": "mapbox",
           "type": "scattermapbox"
          }
         ],
         "name": "2016-03-02"
        },
        {
         "data": [
          {
           "hovertemplate": "감도=B<br>일자=2016-03-03<br>위도=%{lat}<br>경도=%{lon}<extra></extra>",
           "lat": [
            30.73575
           ],
           "legendgroup": "B",
           "lon": [
            130.87021
           ],
           "marker": {
            "color": "#636efa"
           },
           "mode": "markers",
           "name": "B",
           "showlegend": true,
           "subplot": "mapbox",
           "type": "scattermapbox"
          }
         ],
         "name": "2016-03-03"
        },
        {
         "data": [
          {
           "hovertemplate": "감도=A<br>일자=2016-03-04<br>위도=%{lat}<br>경도=%{lon}<extra></extra>",
           "lat": [
            30.75402
           ],
           "legendgroup": "A",
           "lon": [
            130.87109
           ],
           "marker": {
            "color": "#00cc96"
           },
           "mode": "markers",
           "name": "A",
           "showlegend": true,
           "subplot": "mapbox",
           "type": "scattermapbox"
          }
         ],
         "name": "2016-03-04"
        },
        {
         "data": [
          {
           "hovertemplate": "감도=A<br>일자=2016-03-06<br>위도=%{lat}<br>경도=%{lon}<extra></extra>",
           "lat": [
            30.75525
           ],
           "legendgroup": "A",
           "lon": [
            130.86665
           ],
           "marker": {
            "color": "#00cc96"
           },
           "mode": "markers",
           "name": "A",
           "showlegend": true,
           "subplot": "mapbox",
           "type": "scattermapbox"
          }
         ],
         "name": "2016-03-06"
        },
        {
         "data": [
          {
           "hovertemplate": "감도=B<br>일자=2016-03-07<br>위도=%{lat}<br>경도=%{lon}<extra></extra>",
           "lat": [
            30.76387
           ],
           "legendgroup": "B",
           "lon": [
            130.86754
           ],
           "marker": {
            "color": "#636efa"
           },
           "mode": "markers",
           "name": "B",
           "showlegend": true,
           "subplot": "mapbox",
           "type": "scattermapbox"
          }
         ],
         "name": "2016-03-07"
        },
        {
         "data": [
          {
           "hovertemplate": "감도=B<br>일자=2016-03-08<br>위도=%{lat}<br>경도=%{lon}<extra></extra>",
           "lat": [
            30.74909
           ],
           "legendgroup": "B",
           "lon": [
            130.86586
           ],
           "marker": {
            "color": "#636efa"
           },
           "mode": "markers",
           "name": "B",
           "showlegend": true,
           "subplot": "mapbox",
           "type": "scattermapbox"
          }
         ],
         "name": "2016-03-08"
        },
        {
         "data": [
          {
           "hovertemplate": "감도=B<br>일자=2016-03-11<br>위도=%{lat}<br>경도=%{lon}<extra></extra>",
           "lat": [
            30.77017
           ],
           "legendgroup": "B",
           "lon": [
            130.8633
           ],
           "marker": {
            "color": "#636efa"
           },
           "mode": "markers",
           "name": "B",
           "showlegend": true,
           "subplot": "mapbox",
           "type": "scattermapbox"
          }
         ],
         "name": "2016-03-11"
        },
        {
         "data": [
          {
           "hovertemplate": "감도=B<br>일자=2016-03-12<br>위도=%{lat}<br>경도=%{lon}<extra></extra>",
           "lat": [
            30.74236
           ],
           "legendgroup": "B",
           "lon": [
            130.85383
           ],
           "marker": {
            "color": "#636efa"
           },
           "mode": "markers",
           "name": "B",
           "showlegend": true,
           "subplot": "mapbox",
           "type": "scattermapbox"
          }
         ],
         "name": "2016-03-12"
        },
        {
         "data": [
          {
           "hovertemplate": "감도=B<br>일자=2016-03-13<br>위도=%{lat}<br>경도=%{lon}<extra></extra>",
           "lat": [
            30.74005
           ],
           "legendgroup": "B",
           "lon": [
            130.86563
           ],
           "marker": {
            "color": "#636efa"
           },
           "mode": "markers",
           "name": "B",
           "showlegend": true,
           "subplot": "mapbox",
           "type": "scattermapbox"
          }
         ],
         "name": "2016-03-13"
        },
        {
         "data": [
          {
           "hovertemplate": "감도=2<br>일자=2016-03-14<br>위도=%{lat}<br>경도=%{lon}<extra></extra>",
           "lat": [
            30.71604
           ],
           "legendgroup": "2",
           "lon": [
            130.86885
           ],
           "marker": {
            "color": "#ab63fa"
           },
           "mode": "markers",
           "name": "2",
           "showlegend": true,
           "subplot": "mapbox",
           "type": "scattermapbox"
          }
         ],
         "name": "2016-03-14"
        },
        {
         "data": [
          {
           "hovertemplate": "감도=2<br>일자=2016-03-15<br>위도=%{lat}<br>경도=%{lon}<extra></extra>",
           "lat": [
            30.7438
           ],
           "legendgroup": "2",
           "lon": [
            130.86546
           ],
           "marker": {
            "color": "#ab63fa"
           },
           "mode": "markers",
           "name": "2",
           "showlegend": true,
           "subplot": "mapbox",
           "type": "scattermapbox"
          }
         ],
         "name": "2016-03-15"
        },
        {
         "data": [
          {
           "hovertemplate": "감도=B<br>일자=2016-03-16<br>위도=%{lat}<br>경도=%{lon}<extra></extra>",
           "lat": [
            30.75439
           ],
           "legendgroup": "B",
           "lon": [
            130.85923
           ],
           "marker": {
            "color": "#636efa"
           },
           "mode": "markers",
           "name": "B",
           "showlegend": true,
           "subplot": "mapbox",
           "type": "scattermapbox"
          }
         ],
         "name": "2016-03-16"
        },
        {
         "data": [
          {
           "hovertemplate": "감도=B<br>일자=2016-03-17<br>위도=%{lat}<br>경도=%{lon}<extra></extra>",
           "lat": [
            30.74212
           ],
           "legendgroup": "B",
           "lon": [
            130.83619
           ],
           "marker": {
            "color": "#636efa"
           },
           "mode": "markers",
           "name": "B",
           "showlegend": true,
           "subplot": "mapbox",
           "type": "scattermapbox"
          }
         ],
         "name": "2016-03-17"
        },
        {
         "data": [
          {
           "hovertemplate": "감도=A<br>일자=2016-03-18<br>위도=%{lat}<br>경도=%{lon}<extra></extra>",
           "lat": [
            30.75436
           ],
           "legendgroup": "A",
           "lon": [
            130.84117
           ],
           "marker": {
            "color": "#00cc96"
           },
           "mode": "markers",
           "name": "A",
           "showlegend": true,
           "subplot": "mapbox",
           "type": "scattermapbox"
          }
         ],
         "name": "2016-03-18"
        },
        {
         "data": [
          {
           "hovertemplate": "감도=B<br>일자=2016-03-19<br>위도=%{lat}<br>경도=%{lon}<extra></extra>",
           "lat": [
            30.76067
           ],
           "legendgroup": "B",
           "lon": [
            130.82585
           ],
           "marker": {
            "color": "#636efa"
           },
           "mode": "markers",
           "name": "B",
           "showlegend": true,
           "subplot": "mapbox",
           "type": "scattermapbox"
          }
         ],
         "name": "2016-03-19"
        },
        {
         "data": [
          {
           "hovertemplate": "감도=B<br>일자=2016-03-20<br>위도=%{lat}<br>경도=%{lon}<extra></extra>",
           "lat": [
            30.77171
           ],
           "legendgroup": "B",
           "lon": [
            130.84818
           ],
           "marker": {
            "color": "#636efa"
           },
           "mode": "markers",
           "name": "B",
           "showlegend": true,
           "subplot": "mapbox",
           "type": "scattermapbox"
          }
         ],
         "name": "2016-03-20"
        },
        {
         "data": [
          {
           "hovertemplate": "감도=B<br>일자=2016-03-21<br>위도=%{lat}<br>경도=%{lon}<extra></extra>",
           "lat": [
            30.74664
           ],
           "legendgroup": "B",
           "lon": [
            130.8828
           ],
           "marker": {
            "color": "#636efa"
           },
           "mode": "markers",
           "name": "B",
           "showlegend": true,
           "subplot": "mapbox",
           "type": "scattermapbox"
          }
         ],
         "name": "2016-03-21"
        },
        {
         "data": [
          {
           "hovertemplate": "감도=A<br>일자=2016-03-22<br>위도=%{lat}<br>경도=%{lon}<extra></extra>",
           "lat": [
            30.75964
           ],
           "legendgroup": "A",
           "lon": [
            130.86327
           ],
           "marker": {
            "color": "#00cc96"
           },
           "mode": "markers",
           "name": "A",
           "showlegend": true,
           "subplot": "mapbox",
           "type": "scattermapbox"
          }
         ],
         "name": "2016-03-22"
        },
        {
         "data": [
          {
           "hovertemplate": "감도=3<br>일자=2016-03-23<br>위도=%{lat}<br>경도=%{lon}<extra></extra>",
           "lat": [
            30.75852
           ],
           "legendgroup": "3",
           "lon": [
            130.86814
           ],
           "marker": {
            "color": "#FFA15A"
           },
           "mode": "markers",
           "name": "3",
           "showlegend": true,
           "subplot": "mapbox",
           "type": "scattermapbox"
          }
         ],
         "name": "2016-03-23"
        },
        {
         "data": [
          {
           "hovertemplate": "감도=2<br>일자=2016-03-24<br>위도=%{lat}<br>경도=%{lon}<extra></extra>",
           "lat": [
            30.76166
           ],
           "legendgroup": "2",
           "lon": [
            130.8634
           ],
           "marker": {
            "color": "#ab63fa"
           },
           "mode": "markers",
           "name": "2",
           "showlegend": true,
           "subplot": "mapbox",
           "type": "scattermapbox"
          }
         ],
         "name": "2016-03-24"
        },
        {
         "data": [
          {
           "hovertemplate": "감도=A<br>일자=2016-03-25<br>위도=%{lat}<br>경도=%{lon}<extra></extra>",
           "lat": [
            30.76415
           ],
           "legendgroup": "A",
           "lon": [
            130.84914
           ],
           "marker": {
            "color": "#00cc96"
           },
           "mode": "markers",
           "name": "A",
           "showlegend": true,
           "subplot": "mapbox",
           "type": "scattermapbox"
          }
         ],
         "name": "2016-03-25"
        },
        {
         "data": [
          {
           "hovertemplate": "감도=A<br>일자=2016-03-26<br>위도=%{lat}<br>경도=%{lon}<extra></extra>",
           "lat": [
            30.7573
           ],
           "legendgroup": "A",
           "lon": [
            130.86539
           ],
           "marker": {
            "color": "#00cc96"
           },
           "mode": "markers",
           "name": "A",
           "showlegend": true,
           "subplot": "mapbox",
           "type": "scattermapbox"
          }
         ],
         "name": "2016-03-26"
        },
        {
         "data": [
          {
           "hovertemplate": "감도=B<br>일자=2016-03-27<br>위도=%{lat}<br>경도=%{lon}<extra></extra>",
           "lat": [
            30.74928
           ],
           "legendgroup": "B",
           "lon": [
            130.87322
           ],
           "marker": {
            "color": "#636efa"
           },
           "mode": "markers",
           "name": "B",
           "showlegend": true,
           "subplot": "mapbox",
           "type": "scattermapbox"
          }
         ],
         "name": "2016-03-27"
        },
        {
         "data": [
          {
           "hovertemplate": "감도=2<br>일자=2016-03-28<br>위도=%{lat}<br>경도=%{lon}<extra></extra>",
           "lat": [
            30.75376
           ],
           "legendgroup": "2",
           "lon": [
            130.87615
           ],
           "marker": {
            "color": "#ab63fa"
           },
           "mode": "markers",
           "name": "2",
           "showlegend": true,
           "subplot": "mapbox",
           "type": "scattermapbox"
          }
         ],
         "name": "2016-03-28"
        },
        {
         "data": [
          {
           "hovertemplate": "감도=A<br>일자=2016-03-29<br>위도=%{lat}<br>경도=%{lon}<extra></extra>",
           "lat": [
            30.75581
           ],
           "legendgroup": "A",
           "lon": [
            130.87969
           ],
           "marker": {
            "color": "#00cc96"
           },
           "mode": "markers",
           "name": "A",
           "showlegend": true,
           "subplot": "mapbox",
           "type": "scattermapbox"
          }
         ],
         "name": "2016-03-29"
        },
        {
         "data": [
          {
           "hovertemplate": "감도=3<br>일자=2016-03-30<br>위도=%{lat}<br>경도=%{lon}<extra></extra>",
           "lat": [
            30.75356
           ],
           "legendgroup": "3",
           "lon": [
            130.86824
           ],
           "marker": {
            "color": "#FFA15A"
           },
           "mode": "markers",
           "name": "3",
           "showlegend": true,
           "subplot": "mapbox",
           "type": "scattermapbox"
          }
         ],
         "name": "2016-03-30"
        },
        {
         "data": [
          {
           "hovertemplate": "감도=B<br>일자=2016-03-31<br>위도=%{lat}<br>경도=%{lon}<extra></extra>",
           "lat": [
            30.77108
           ],
           "legendgroup": "B",
           "lon": [
            130.90486
           ],
           "marker": {
            "color": "#636efa"
           },
           "mode": "markers",
           "name": "B",
           "showlegend": true,
           "subplot": "mapbox",
           "type": "scattermapbox"
          }
         ],
         "name": "2016-03-31"
        },
        {
         "data": [
          {
           "hovertemplate": "감도=B<br>일자=2016-04-01<br>위도=%{lat}<br>경도=%{lon}<extra></extra>",
           "lat": [
            30.75746
           ],
           "legendgroup": "B",
           "lon": [
            130.85241
           ],
           "marker": {
            "color": "#636efa"
           },
           "mode": "markers",
           "name": "B",
           "showlegend": true,
           "subplot": "mapbox",
           "type": "scattermapbox"
          }
         ],
         "name": "2016-04-01"
        },
        {
         "data": [
          {
           "hovertemplate": "감도=A<br>일자=2016-04-02<br>위도=%{lat}<br>경도=%{lon}<extra></extra>",
           "lat": [
            30.75779
           ],
           "legendgroup": "A",
           "lon": [
            130.86349
           ],
           "marker": {
            "color": "#00cc96"
           },
           "mode": "markers",
           "name": "A",
           "showlegend": true,
           "subplot": "mapbox",
           "type": "scattermapbox"
          }
         ],
         "name": "2016-04-02"
        },
        {
         "data": [
          {
           "hovertemplate": "감도=B<br>일자=2016-04-03<br>위도=%{lat}<br>경도=%{lon}<extra></extra>",
           "lat": [
            30.75902
           ],
           "legendgroup": "B",
           "lon": [
            130.8725
           ],
           "marker": {
            "color": "#636efa"
           },
           "mode": "markers",
           "name": "B",
           "showlegend": true,
           "subplot": "mapbox",
           "type": "scattermapbox"
          }
         ],
         "name": "2016-04-03"
        },
        {
         "data": [
          {
           "hovertemplate": "감도=B<br>일자=2016-04-04<br>위도=%{lat}<br>경도=%{lon}<extra></extra>",
           "lat": [
            30.76306
           ],
           "legendgroup": "B",
           "lon": [
            130.86308
           ],
           "marker": {
            "color": "#636efa"
           },
           "mode": "markers",
           "name": "B",
           "showlegend": true,
           "subplot": "mapbox",
           "type": "scattermapbox"
          }
         ],
         "name": "2016-04-04"
        },
        {
         "data": [
          {
           "hovertemplate": "감도=B<br>일자=2016-04-05<br>위도=%{lat}<br>경도=%{lon}<extra></extra>",
           "lat": [
            30.76311
           ],
           "legendgroup": "B",
           "lon": [
            130.85412
           ],
           "marker": {
            "color": "#636efa"
           },
           "mode": "markers",
           "name": "B",
           "showlegend": true,
           "subplot": "mapbox",
           "type": "scattermapbox"
          }
         ],
         "name": "2016-04-05"
        },
        {
         "data": [
          {
           "hovertemplate": "감도=B<br>일자=2016-04-06<br>위도=%{lat}<br>경도=%{lon}<extra></extra>",
           "lat": [
            30.76254
           ],
           "legendgroup": "B",
           "lon": [
            130.8691
           ],
           "marker": {
            "color": "#636efa"
           },
           "mode": "markers",
           "name": "B",
           "showlegend": true,
           "subplot": "mapbox",
           "type": "scattermapbox"
          }
         ],
         "name": "2016-04-06"
        },
        {
         "data": [
          {
           "hovertemplate": "감도=A<br>일자=2016-04-07<br>위도=%{lat}<br>경도=%{lon}<extra></extra>",
           "lat": [
            30.77447
           ],
           "legendgroup": "A",
           "lon": [
            130.84001
           ],
           "marker": {
            "color": "#00cc96"
           },
           "mode": "markers",
           "name": "A",
           "showlegend": true,
           "subplot": "mapbox",
           "type": "scattermapbox"
          }
         ],
         "name": "2016-04-07"
        },
        {
         "data": [
          {
           "hovertemplate": "감도=B<br>일자=2016-04-08<br>위도=%{lat}<br>경도=%{lon}<extra></extra>",
           "lat": [
            30.7544
           ],
           "legendgroup": "B",
           "lon": [
            130.87172
           ],
           "marker": {
            "color": "#636efa"
           },
           "mode": "markers",
           "name": "B",
           "showlegend": true,
           "subplot": "mapbox",
           "type": "scattermapbox"
          }
         ],
         "name": "2016-04-08"
        },
        {
         "data": [
          {
           "hovertemplate": "감도=B<br>일자=2016-04-09<br>위도=%{lat}<br>경도=%{lon}<extra></extra>",
           "lat": [
            30.75442
           ],
           "legendgroup": "B",
           "lon": [
            130.87391
           ],
           "marker": {
            "color": "#636efa"
           },
           "mode": "markers",
           "name": "B",
           "showlegend": true,
           "subplot": "mapbox",
           "type": "scattermapbox"
          }
         ],
         "name": "2016-04-09"
        },
        {
         "data": [
          {
           "hovertemplate": "감도=A<br>일자=2016-04-10<br>위도=%{lat}<br>경도=%{lon}<extra></extra>",
           "lat": [
            30.75876
           ],
           "legendgroup": "A",
           "lon": [
            130.86837
           ],
           "marker": {
            "color": "#00cc96"
           },
           "mode": "markers",
           "name": "A",
           "showlegend": true,
           "subplot": "mapbox",
           "type": "scattermapbox"
          }
         ],
         "name": "2016-04-10"
        },
        {
         "data": [
          {
           "hovertemplate": "감도=B<br>일자=2016-04-11<br>위도=%{lat}<br>경도=%{lon}<extra></extra>",
           "lat": [
            30.73962
           ],
           "legendgroup": "B",
           "lon": [
            130.87565
           ],
           "marker": {
            "color": "#636efa"
           },
           "mode": "markers",
           "name": "B",
           "showlegend": true,
           "subplot": "mapbox",
           "type": "scattermapbox"
          }
         ],
         "name": "2016-04-11"
        },
        {
         "data": [
          {
           "hovertemplate": "감도=B<br>일자=2016-04-12<br>위도=%{lat}<br>경도=%{lon}<extra></extra>",
           "lat": [
            30.74623
           ],
           "legendgroup": "B",
           "lon": [
            130.88483
           ],
           "marker": {
            "color": "#636efa"
           },
           "mode": "markers",
           "name": "B",
           "showlegend": true,
           "subplot": "mapbox",
           "type": "scattermapbox"
          }
         ],
         "name": "2016-04-12"
        },
        {
         "data": [
          {
           "hovertemplate": "감도=B<br>일자=2016-04-13<br>위도=%{lat}<br>경도=%{lon}<extra></extra>",
           "lat": [
            30.75961
           ],
           "legendgroup": "B",
           "lon": [
            130.86306
           ],
           "marker": {
            "color": "#636efa"
           },
           "mode": "markers",
           "name": "B",
           "showlegend": true,
           "subplot": "mapbox",
           "type": "scattermapbox"
          }
         ],
         "name": "2016-04-13"
        },
        {
         "data": [
          {
           "hovertemplate": "감도=B<br>일자=2016-04-14<br>위도=%{lat}<br>경도=%{lon}<extra></extra>",
           "lat": [
            30.75038
           ],
           "legendgroup": "B",
           "lon": [
            130.87512
           ],
           "marker": {
            "color": "#636efa"
           },
           "mode": "markers",
           "name": "B",
           "showlegend": true,
           "subplot": "mapbox",
           "type": "scattermapbox"
          }
         ],
         "name": "2016-04-14"
        },
        {
         "data": [
          {
           "hovertemplate": "감도=A<br>일자=2016-04-15<br>위도=%{lat}<br>경도=%{lon}<extra></extra>",
           "lat": [
            30.76017
           ],
           "legendgroup": "A",
           "lon": [
            130.8682
           ],
           "marker": {
            "color": "#00cc96"
           },
           "mode": "markers",
           "name": "A",
           "showlegend": true,
           "subplot": "mapbox",
           "type": "scattermapbox"
          }
         ],
         "name": "2016-04-15"
        },
        {
         "data": [
          {
           "hovertemplate": "감도=B<br>일자=2016-04-16<br>위도=%{lat}<br>경도=%{lon}<extra></extra>",
           "lat": [
            30.74818
           ],
           "legendgroup": "B",
           "lon": [
            130.86795
           ],
           "marker": {
            "color": "#636efa"
           },
           "mode": "markers",
           "name": "B",
           "showlegend": true,
           "subplot": "mapbox",
           "type": "scattermapbox"
          }
         ],
         "name": "2016-04-16"
        },
        {
         "data": [
          {
           "hovertemplate": "감도=B<br>일자=2016-04-17<br>위도=%{lat}<br>경도=%{lon}<extra></extra>",
           "lat": [
            30.75444
           ],
           "legendgroup": "B",
           "lon": [
            130.85529
           ],
           "marker": {
            "color": "#636efa"
           },
           "mode": "markers",
           "name": "B",
           "showlegend": true,
           "subplot": "mapbox",
           "type": "scattermapbox"
          }
         ],
         "name": "2016-04-17"
        },
        {
         "data": [
          {
           "hovertemplate": "감도=B<br>일자=2016-04-18<br>위도=%{lat}<br>경도=%{lon}<extra></extra>",
           "lat": [
            30.75947
           ],
           "legendgroup": "B",
           "lon": [
            130.86926
           ],
           "marker": {
            "color": "#636efa"
           },
           "mode": "markers",
           "name": "B",
           "showlegend": true,
           "subplot": "mapbox",
           "type": "scattermapbox"
          }
         ],
         "name": "2016-04-18"
        },
        {
         "data": [
          {
           "hovertemplate": "감도=B<br>일자=2016-04-19<br>위도=%{lat}<br>경도=%{lon}<extra></extra>",
           "lat": [
            30.76972
           ],
           "legendgroup": "B",
           "lon": [
            130.87417
           ],
           "marker": {
            "color": "#636efa"
           },
           "mode": "markers",
           "name": "B",
           "showlegend": true,
           "subplot": "mapbox",
           "type": "scattermapbox"
          }
         ],
         "name": "2016-04-19"
        },
        {
         "data": [
          {
           "hovertemplate": "감도=B<br>일자=2016-04-21<br>위도=%{lat}<br>경도=%{lon}<extra></extra>",
           "lat": [
            30.7448
           ],
           "legendgroup": "B",
           "lon": [
            130.8537
           ],
           "marker": {
            "color": "#636efa"
           },
           "mode": "markers",
           "name": "B",
           "showlegend": true,
           "subplot": "mapbox",
           "type": "scattermapbox"
          }
         ],
         "name": "2016-04-21"
        },
        {
         "data": [
          {
           "hovertemplate": "감도=B<br>일자=2016-04-22<br>위도=%{lat}<br>경도=%{lon}<extra></extra>",
           "lat": [
            30.7569
           ],
           "legendgroup": "B",
           "lon": [
            130.87034
           ],
           "marker": {
            "color": "#636efa"
           },
           "mode": "markers",
           "name": "B",
           "showlegend": true,
           "subplot": "mapbox",
           "type": "scattermapbox"
          }
         ],
         "name": "2016-04-22"
        },
        {
         "data": [
          {
           "hovertemplate": "감도=B<br>일자=2016-04-23<br>위도=%{lat}<br>경도=%{lon}<extra></extra>",
           "lat": [
            30.75235
           ],
           "legendgroup": "B",
           "lon": [
            130.86858
           ],
           "marker": {
            "color": "#636efa"
           },
           "mode": "markers",
           "name": "B",
           "showlegend": true,
           "subplot": "mapbox",
           "type": "scattermapbox"
          }
         ],
         "name": "2016-04-23"
        },
        {
         "data": [
          {
           "hovertemplate": "감도=B<br>일자=2016-04-24<br>위도=%{lat}<br>경도=%{lon}<extra></extra>",
           "lat": [
            30.73872
           ],
           "legendgroup": "B",
           "lon": [
            130.85896
           ],
           "marker": {
            "color": "#636efa"
           },
           "mode": "markers",
           "name": "B",
           "showlegend": true,
           "subplot": "mapbox",
           "type": "scattermapbox"
          }
         ],
         "name": "2016-04-24"
        },
        {
         "data": [
          {
           "hovertemplate": "감도=B<br>일자=2016-04-25<br>위도=%{lat}<br>경도=%{lon}<extra></extra>",
           "lat": [
            30.72441
           ],
           "legendgroup": "B",
           "lon": [
            130.86231
           ],
           "marker": {
            "color": "#636efa"
           },
           "mode": "markers",
           "name": "B",
           "showlegend": true,
           "subplot": "mapbox",
           "type": "scattermapbox"
          }
         ],
         "name": "2016-04-25"
        },
        {
         "data": [
          {
           "hovertemplate": "감도=B<br>일자=2016-04-26<br>위도=%{lat}<br>경도=%{lon}<extra></extra>",
           "lat": [
            30.755
           ],
           "legendgroup": "B",
           "lon": [
            130.86405
           ],
           "marker": {
            "color": "#636efa"
           },
           "mode": "markers",
           "name": "B",
           "showlegend": true,
           "subplot": "mapbox",
           "type": "scattermapbox"
          }
         ],
         "name": "2016-04-26"
        },
        {
         "data": [
          {
           "hovertemplate": "감도=B<br>일자=2016-04-27<br>위도=%{lat}<br>경도=%{lon}<extra></extra>",
           "lat": [
            30.75059
           ],
           "legendgroup": "B",
           "lon": [
            130.87889
           ],
           "marker": {
            "color": "#636efa"
           },
           "mode": "markers",
           "name": "B",
           "showlegend": true,
           "subplot": "mapbox",
           "type": "scattermapbox"
          }
         ],
         "name": "2016-04-27"
        },
        {
         "data": [
          {
           "hovertemplate": "감도=B<br>일자=2016-04-28<br>위도=%{lat}<br>경도=%{lon}<extra></extra>",
           "lat": [
            30.80571
           ],
           "legendgroup": "B",
           "lon": [
            130.84306
           ],
           "marker": {
            "color": "#636efa"
           },
           "mode": "markers",
           "name": "B",
           "showlegend": true,
           "subplot": "mapbox",
           "type": "scattermapbox"
          }
         ],
         "name": "2016-04-28"
        },
        {
         "data": [
          {
           "hovertemplate": "감도=B<br>일자=2016-04-29<br>위도=%{lat}<br>경도=%{lon}<extra></extra>",
           "lat": [
            30.75804
           ],
           "legendgroup": "B",
           "lon": [
            130.8675
           ],
           "marker": {
            "color": "#636efa"
           },
           "mode": "markers",
           "name": "B",
           "showlegend": true,
           "subplot": "mapbox",
           "type": "scattermapbox"
          }
         ],
         "name": "2016-04-29"
        },
        {
         "data": [
          {
           "hovertemplate": "감도=A<br>일자=2016-04-30<br>위도=%{lat}<br>경도=%{lon}<extra></extra>",
           "lat": [
            30.75035
           ],
           "legendgroup": "A",
           "lon": [
            130.85343
           ],
           "marker": {
            "color": "#00cc96"
           },
           "mode": "markers",
           "name": "A",
           "showlegend": true,
           "subplot": "mapbox",
           "type": "scattermapbox"
          }
         ],
         "name": "2016-04-30"
        },
        {
         "data": [
          {
           "hovertemplate": "감도=B<br>일자=2016-05-01<br>위도=%{lat}<br>경도=%{lon}<extra></extra>",
           "lat": [
            30.75054
           ],
           "legendgroup": "B",
           "lon": [
            130.86385
           ],
           "marker": {
            "color": "#636efa"
           },
           "mode": "markers",
           "name": "B",
           "showlegend": true,
           "subplot": "mapbox",
           "type": "scattermapbox"
          }
         ],
         "name": "2016-05-01"
        },
        {
         "data": [
          {
           "hovertemplate": "감도=B<br>일자=2016-05-02<br>위도=%{lat}<br>경도=%{lon}<extra></extra>",
           "lat": [
            30.76517
           ],
           "legendgroup": "B",
           "lon": [
            130.87374
           ],
           "marker": {
            "color": "#636efa"
           },
           "mode": "markers",
           "name": "B",
           "showlegend": true,
           "subplot": "mapbox",
           "type": "scattermapbox"
          }
         ],
         "name": "2016-05-02"
        },
        {
         "data": [
          {
           "hovertemplate": "감도=B<br>일자=2016-05-03<br>위도=%{lat}<br>경도=%{lon}<extra></extra>",
           "lat": [
            30.77784
           ],
           "legendgroup": "B",
           "lon": [
            130.87768
           ],
           "marker": {
            "color": "#636efa"
           },
           "mode": "markers",
           "name": "B",
           "showlegend": true,
           "subplot": "mapbox",
           "type": "scattermapbox"
          }
         ],
         "name": "2016-05-03"
        },
        {
         "data": [
          {
           "hovertemplate": "감도=2<br>일자=2016-05-04<br>위도=%{lat}<br>경도=%{lon}<extra></extra>",
           "lat": [
            30.76007
           ],
           "legendgroup": "2",
           "lon": [
            130.8646
           ],
           "marker": {
            "color": "#ab63fa"
           },
           "mode": "markers",
           "name": "2",
           "showlegend": true,
           "subplot": "mapbox",
           "type": "scattermapbox"
          }
         ],
         "name": "2016-05-04"
        },
        {
         "data": [
          {
           "hovertemplate": "감도=2<br>일자=2016-05-05<br>위도=%{lat}<br>경도=%{lon}<extra></extra>",
           "lat": [
            30.76088
           ],
           "legendgroup": "2",
           "lon": [
            130.86276
           ],
           "marker": {
            "color": "#ab63fa"
           },
           "mode": "markers",
           "name": "2",
           "showlegend": true,
           "subplot": "mapbox",
           "type": "scattermapbox"
          }
         ],
         "name": "2016-05-05"
        },
        {
         "data": [
          {
           "hovertemplate": "감도=B<br>일자=2016-05-06<br>위도=%{lat}<br>경도=%{lon}<extra></extra>",
           "lat": [
            30.76648
           ],
           "legendgroup": "B",
           "lon": [
            130.84079
           ],
           "marker": {
            "color": "#636efa"
           },
           "mode": "markers",
           "name": "B",
           "showlegend": true,
           "subplot": "mapbox",
           "type": "scattermapbox"
          }
         ],
         "name": "2016-05-06"
        },
        {
         "data": [
          {
           "hovertemplate": "감도=B<br>일자=2016-05-07<br>위도=%{lat}<br>경도=%{lon}<extra></extra>",
           "lat": [
            30.75648
           ],
           "legendgroup": "B",
           "lon": [
            130.87128
           ],
           "marker": {
            "color": "#636efa"
           },
           "mode": "markers",
           "name": "B",
           "showlegend": true,
           "subplot": "mapbox",
           "type": "scattermapbox"
          }
         ],
         "name": "2016-05-07"
        },
        {
         "data": [
          {
           "hovertemplate": "감도=B<br>일자=2016-05-08<br>위도=%{lat}<br>경도=%{lon}<extra></extra>",
           "lat": [
            30.77163
           ],
           "legendgroup": "B",
           "lon": [
            130.85837
           ],
           "marker": {
            "color": "#636efa"
           },
           "mode": "markers",
           "name": "B",
           "showlegend": true,
           "subplot": "mapbox",
           "type": "scattermapbox"
          }
         ],
         "name": "2016-05-08"
        },
        {
         "data": [
          {
           "hovertemplate": "감도=A<br>일자=2016-05-09<br>위도=%{lat}<br>경도=%{lon}<extra></extra>",
           "lat": [
            30.75711
           ],
           "legendgroup": "A",
           "lon": [
            130.9005
           ],
           "marker": {
            "color": "#00cc96"
           },
           "mode": "markers",
           "name": "A",
           "showlegend": true,
           "subplot": "mapbox",
           "type": "scattermapbox"
          }
         ],
         "name": "2016-05-09"
        },
        {
         "data": [
          {
           "hovertemplate": "감도=B<br>일자=2016-05-10<br>위도=%{lat}<br>경도=%{lon}<extra></extra>",
           "lat": [
            30.73697
           ],
           "legendgroup": "B",
           "lon": [
            130.85791
           ],
           "marker": {
            "color": "#636efa"
           },
           "mode": "markers",
           "name": "B",
           "showlegend": true,
           "subplot": "mapbox",
           "type": "scattermapbox"
          }
         ],
         "name": "2016-05-10"
        },
        {
         "data": [
          {
           "hovertemplate": "감도=2<br>일자=2016-05-11<br>위도=%{lat}<br>경도=%{lon}<extra></extra>",
           "lat": [
            30.75145
           ],
           "legendgroup": "2",
           "lon": [
            130.87151
           ],
           "marker": {
            "color": "#ab63fa"
           },
           "mode": "markers",
           "name": "2",
           "showlegend": true,
           "subplot": "mapbox",
           "type": "scattermapbox"
          }
         ],
         "name": "2016-05-11"
        },
        {
         "data": [
          {
           "hovertemplate": "감도=A<br>일자=2016-05-12<br>위도=%{lat}<br>경도=%{lon}<extra></extra>",
           "lat": [
            30.75644
           ],
           "legendgroup": "A",
           "lon": [
            130.87334
           ],
           "marker": {
            "color": "#00cc96"
           },
           "mode": "markers",
           "name": "A",
           "showlegend": true,
           "subplot": "mapbox",
           "type": "scattermapbox"
          }
         ],
         "name": "2016-05-12"
        },
        {
         "data": [
          {
           "hovertemplate": "감도=A<br>일자=2016-05-13<br>위도=%{lat}<br>경도=%{lon}<extra></extra>",
           "lat": [
            30.76012
           ],
           "legendgroup": "A",
           "lon": [
            130.8774
           ],
           "marker": {
            "color": "#00cc96"
           },
           "mode": "markers",
           "name": "A",
           "showlegend": true,
           "subplot": "mapbox",
           "type": "scattermapbox"
          }
         ],
         "name": "2016-05-13"
        },
        {
         "data": [
          {
           "hovertemplate": "감도=B<br>일자=2016-05-14<br>위도=%{lat}<br>경도=%{lon}<extra></extra>",
           "lat": [
            30.76268
           ],
           "legendgroup": "B",
           "lon": [
            130.91368
           ],
           "marker": {
            "color": "#636efa"
           },
           "mode": "markers",
           "name": "B",
           "showlegend": true,
           "subplot": "mapbox",
           "type": "scattermapbox"
          }
         ],
         "name": "2016-05-14"
        },
        {
         "data": [
          {
           "hovertemplate": "감도=B<br>일자=2016-05-15<br>위도=%{lat}<br>경도=%{lon}<extra></extra>",
           "lat": [
            30.72999
           ],
           "legendgroup": "B",
           "lon": [
            130.87618
           ],
           "marker": {
            "color": "#636efa"
           },
           "mode": "markers",
           "name": "B",
           "showlegend": true,
           "subplot": "mapbox",
           "type": "scattermapbox"
          }
         ],
         "name": "2016-05-15"
        },
        {
         "data": [
          {
           "hovertemplate": "감도=B<br>일자=2016-05-16<br>위도=%{lat}<br>경도=%{lon}<extra></extra>",
           "lat": [
            30.75678
           ],
           "legendgroup": "B",
           "lon": [
            130.87773
           ],
           "marker": {
            "color": "#636efa"
           },
           "mode": "markers",
           "name": "B",
           "showlegend": true,
           "subplot": "mapbox",
           "type": "scattermapbox"
          }
         ],
         "name": "2016-05-16"
        },
        {
         "data": [
          {
           "hovertemplate": "감도=B<br>일자=2016-05-17<br>위도=%{lat}<br>경도=%{lon}<extra></extra>",
           "lat": [
            30.76969
           ],
           "legendgroup": "B",
           "lon": [
            130.89787
           ],
           "marker": {
            "color": "#636efa"
           },
           "mode": "markers",
           "name": "B",
           "showlegend": true,
           "subplot": "mapbox",
           "type": "scattermapbox"
          }
         ],
         "name": "2016-05-17"
        },
        {
         "data": [
          {
           "hovertemplate": "감도=B<br>일자=2016-05-18<br>위도=%{lat}<br>경도=%{lon}<extra></extra>",
           "lat": [
            30.75471
           ],
           "legendgroup": "B",
           "lon": [
            130.89768
           ],
           "marker": {
            "color": "#636efa"
           },
           "mode": "markers",
           "name": "B",
           "showlegend": true,
           "subplot": "mapbox",
           "type": "scattermapbox"
          }
         ],
         "name": "2016-05-18"
        },
        {
         "data": [
          {
           "hovertemplate": "감도=B<br>일자=2016-05-19<br>위도=%{lat}<br>경도=%{lon}<extra></extra>",
           "lat": [
            30.74958
           ],
           "legendgroup": "B",
           "lon": [
            130.84998
           ],
           "marker": {
            "color": "#636efa"
           },
           "mode": "markers",
           "name": "B",
           "showlegend": true,
           "subplot": "mapbox",
           "type": "scattermapbox"
          }
         ],
         "name": "2016-05-19"
        },
        {
         "data": [
          {
           "hovertemplate": "감도=A<br>일자=2016-05-31<br>위도=%{lat}<br>경도=%{lon}<extra></extra>",
           "lat": [
            30.72274
           ],
           "legendgroup": "A",
           "lon": [
            130.82221
           ],
           "marker": {
            "color": "#00cc96"
           },
           "mode": "markers",
           "name": "A",
           "showlegend": true,
           "subplot": "mapbox",
           "type": "scattermapbox"
          }
         ],
         "name": "2016-05-31"
        },
        {
         "data": [
          {
           "hovertemplate": "감도=A<br>일자=2016-06-01<br>위도=%{lat}<br>경도=%{lon}<extra></extra>",
           "lat": [
            30.73251
           ],
           "legendgroup": "A",
           "lon": [
            130.8976
           ],
           "marker": {
            "color": "#00cc96"
           },
           "mode": "markers",
           "name": "A",
           "showlegend": true,
           "subplot": "mapbox",
           "type": "scattermapbox"
          }
         ],
         "name": "2016-06-01"
        },
        {
         "data": [
          {
           "hovertemplate": "감도=B<br>일자=2016-06-04<br>위도=%{lat}<br>경도=%{lon}<extra></extra>",
           "lat": [
            30.73386
           ],
           "legendgroup": "B",
           "lon": [
            130.86173
           ],
           "marker": {
            "color": "#636efa"
           },
           "mode": "markers",
           "name": "B",
           "showlegend": true,
           "subplot": "mapbox",
           "type": "scattermapbox"
          }
         ],
         "name": "2016-06-04"
        },
        {
         "data": [
          {
           "hovertemplate": "감도=B<br>일자=2016-06-05<br>위도=%{lat}<br>경도=%{lon}<extra></extra>",
           "lat": [
            30.76702
           ],
           "legendgroup": "B",
           "lon": [
            130.85002
           ],
           "marker": {
            "color": "#636efa"
           },
           "mode": "markers",
           "name": "B",
           "showlegend": true,
           "subplot": "mapbox",
           "type": "scattermapbox"
          }
         ],
         "name": "2016-06-05"
        },
        {
         "data": [
          {
           "hovertemplate": "감도=A<br>일자=2016-06-06<br>위도=%{lat}<br>경도=%{lon}<extra></extra>",
           "lat": [
            30.73342
           ],
           "legendgroup": "A",
           "lon": [
            130.89686
           ],
           "marker": {
            "color": "#00cc96"
           },
           "mode": "markers",
           "name": "A",
           "showlegend": true,
           "subplot": "mapbox",
           "type": "scattermapbox"
          }
         ],
         "name": "2016-06-06"
        },
        {
         "data": [
          {
           "hovertemplate": "감도=A<br>일자=2016-06-10<br>위도=%{lat}<br>경도=%{lon}<extra></extra>",
           "lat": [
            30.7406
           ],
           "legendgroup": "A",
           "lon": [
            130.97878
           ],
           "marker": {
            "color": "#00cc96"
           },
           "mode": "markers",
           "name": "A",
           "showlegend": true,
           "subplot": "mapbox",
           "type": "scattermapbox"
          }
         ],
         "name": "2016-06-10"
        },
        {
         "data": [
          {
           "hovertemplate": "감도=B<br>일자=2016-06-12<br>위도=%{lat}<br>경도=%{lon}<extra></extra>",
           "lat": [
            30.76348
           ],
           "legendgroup": "B",
           "lon": [
            130.88471
           ],
           "marker": {
            "color": "#636efa"
           },
           "mode": "markers",
           "name": "B",
           "showlegend": true,
           "subplot": "mapbox",
           "type": "scattermapbox"
          }
         ],
         "name": "2016-06-12"
        },
        {
         "data": [
          {
           "hovertemplate": "감도=B<br>일자=2016-06-16<br>위도=%{lat}<br>경도=%{lon}<extra></extra>",
           "lat": [
            30.72947
           ],
           "legendgroup": "B",
           "lon": [
            131.00614
           ],
           "marker": {
            "color": "#636efa"
           },
           "mode": "markers",
           "name": "B",
           "showlegend": true,
           "subplot": "mapbox",
           "type": "scattermapbox"
          }
         ],
         "name": "2016-06-16"
        },
        {
         "data": [
          {
           "hovertemplate": "감도=B<br>일자=2016-06-17<br>위도=%{lat}<br>경도=%{lon}<extra></extra>",
           "lat": [
            30.72161
           ],
           "legendgroup": "B",
           "lon": [
            130.91358
           ],
           "marker": {
            "color": "#636efa"
           },
           "mode": "markers",
           "name": "B",
           "showlegend": true,
           "subplot": "mapbox",
           "type": "scattermapbox"
          }
         ],
         "name": "2016-06-17"
        },
        {
         "data": [
          {
           "hovertemplate": "감도=A<br>일자=2016-06-18<br>위도=%{lat}<br>경도=%{lon}<extra></extra>",
           "lat": [
            30.71592
           ],
           "legendgroup": "A",
           "lon": [
            130.83859
           ],
           "marker": {
            "color": "#00cc96"
           },
           "mode": "markers",
           "name": "A",
           "showlegend": true,
           "subplot": "mapbox",
           "type": "scattermapbox"
          }
         ],
         "name": "2016-06-18"
        },
        {
         "data": [
          {
           "hovertemplate": "감도=B<br>일자=2016-06-19<br>위도=%{lat}<br>경도=%{lon}<extra></extra>",
           "lat": [
            30.71299
           ],
           "legendgroup": "B",
           "lon": [
            130.95822
           ],
           "marker": {
            "color": "#636efa"
           },
           "mode": "markers",
           "name": "B",
           "showlegend": true,
           "subplot": "mapbox",
           "type": "scattermapbox"
          }
         ],
         "name": "2016-06-19"
        },
        {
         "data": [
          {
           "hovertemplate": "감도=B<br>일자=2016-06-20<br>위도=%{lat}<br>경도=%{lon}<extra></extra>",
           "lat": [
            30.72165
           ],
           "legendgroup": "B",
           "lon": [
            130.89793
           ],
           "marker": {
            "color": "#636efa"
           },
           "mode": "markers",
           "name": "B",
           "showlegend": true,
           "subplot": "mapbox",
           "type": "scattermapbox"
          }
         ],
         "name": "2016-06-20"
        },
        {
         "data": [
          {
           "hovertemplate": "감도=1<br>일자=2016-06-21<br>위도=%{lat}<br>경도=%{lon}<extra></extra>",
           "lat": [
            30.72107
           ],
           "legendgroup": "1",
           "lon": [
            130.90428
           ],
           "marker": {
            "color": "#EF553B"
           },
           "mode": "markers",
           "name": "1",
           "showlegend": true,
           "subplot": "mapbox",
           "type": "scattermapbox"
          }
         ],
         "name": "2016-06-21"
        },
        {
         "data": [
          {
           "hovertemplate": "감도=A<br>일자=2016-06-23<br>위도=%{lat}<br>경도=%{lon}<extra></extra>",
           "lat": [
            30.70677
           ],
           "legendgroup": "A",
           "lon": [
            130.85168
           ],
           "marker": {
            "color": "#00cc96"
           },
           "mode": "markers",
           "name": "A",
           "showlegend": true,
           "subplot": "mapbox",
           "type": "scattermapbox"
          }
         ],
         "name": "2016-06-23"
        },
        {
         "data": [
          {
           "hovertemplate": "감도=B<br>일자=2016-06-24<br>위도=%{lat}<br>경도=%{lon}<extra></extra>",
           "lat": [
            30.72853
           ],
           "legendgroup": "B",
           "lon": [
            130.83574
           ],
           "marker": {
            "color": "#636efa"
           },
           "mode": "markers",
           "name": "B",
           "showlegend": true,
           "subplot": "mapbox",
           "type": "scattermapbox"
          }
         ],
         "name": "2016-06-24"
        },
        {
         "data": [
          {
           "hovertemplate": "감도=B<br>일자=2016-06-25<br>위도=%{lat}<br>경도=%{lon}<extra></extra>",
           "lat": [
            30.72271
           ],
           "legendgroup": "B",
           "lon": [
            130.8517
           ],
           "marker": {
            "color": "#636efa"
           },
           "mode": "markers",
           "name": "B",
           "showlegend": true,
           "subplot": "mapbox",
           "type": "scattermapbox"
          }
         ],
         "name": "2016-06-25"
        },
        {
         "data": [
          {
           "hovertemplate": "감도=B<br>일자=2016-06-28<br>위도=%{lat}<br>경도=%{lon}<extra></extra>",
           "lat": [
            30.7566
           ],
           "legendgroup": "B",
           "lon": [
            130.89589
           ],
           "marker": {
            "color": "#636efa"
           },
           "mode": "markers",
           "name": "B",
           "showlegend": true,
           "subplot": "mapbox",
           "type": "scattermapbox"
          }
         ],
         "name": "2016-06-28"
        },
        {
         "data": [
          {
           "hovertemplate": "감도=0<br>일자=2016-07-02<br>위도=%{lat}<br>경도=%{lon}<extra></extra>",
           "lat": [
            30.74014
           ],
           "legendgroup": "0",
           "lon": [
            130.85759
           ],
           "marker": {
            "color": "#19d3f3"
           },
           "mode": "markers",
           "name": "0",
           "showlegend": true,
           "subplot": "mapbox",
           "type": "scattermapbox"
          }
         ],
         "name": "2016-07-02"
        },
        {
         "data": [
          {
           "hovertemplate": "감도=A<br>일자=2016-07-03<br>위도=%{lat}<br>경도=%{lon}<extra></extra>",
           "lat": [
            30.73208
           ],
           "legendgroup": "A",
           "lon": [
            130.87253
           ],
           "marker": {
            "color": "#00cc96"
           },
           "mode": "markers",
           "name": "A",
           "showlegend": true,
           "subplot": "mapbox",
           "type": "scattermapbox"
          }
         ],
         "name": "2016-07-03"
        },
        {
         "data": [
          {
           "hovertemplate": "감도=1<br>일자=2016-07-04<br>위도=%{lat}<br>경도=%{lon}<extra></extra>",
           "lat": [
            30.72906
           ],
           "legendgroup": "1",
           "lon": [
            130.86435
           ],
           "marker": {
            "color": "#EF553B"
           },
           "mode": "markers",
           "name": "1",
           "showlegend": true,
           "subplot": "mapbox",
           "type": "scattermapbox"
          }
         ],
         "name": "2016-07-04"
        },
        {
         "data": [
          {
           "hovertemplate": "감도=1<br>일자=2016-07-05<br>위도=%{lat}<br>경도=%{lon}<extra></extra>",
           "lat": [
            30.69673
           ],
           "legendgroup": "1",
           "lon": [
            130.87265
           ],
           "marker": {
            "color": "#EF553B"
           },
           "mode": "markers",
           "name": "1",
           "showlegend": true,
           "subplot": "mapbox",
           "type": "scattermapbox"
          }
         ],
         "name": "2016-07-05"
        },
        {
         "data": [
          {
           "hovertemplate": "감도=2<br>일자=2016-07-07<br>위도=%{lat}<br>경도=%{lon}<extra></extra>",
           "lat": [
            30.73491
           ],
           "legendgroup": "2",
           "lon": [
            130.87886
           ],
           "marker": {
            "color": "#ab63fa"
           },
           "mode": "markers",
           "name": "2",
           "showlegend": true,
           "subplot": "mapbox",
           "type": "scattermapbox"
          }
         ],
         "name": "2016-07-07"
        },
        {
         "data": [
          {
           "hovertemplate": "감도=B<br>일자=2016-07-08<br>위도=%{lat}<br>경도=%{lon}<extra></extra>",
           "lat": [
            30.75858
           ],
           "legendgroup": "B",
           "lon": [
            130.8672
           ],
           "marker": {
            "color": "#636efa"
           },
           "mode": "markers",
           "name": "B",
           "showlegend": true,
           "subplot": "mapbox",
           "type": "scattermapbox"
          }
         ],
         "name": "2016-07-08"
        },
        {
         "data": [
          {
           "hovertemplate": "감도=2<br>일자=2016-07-09<br>위도=%{lat}<br>경도=%{lon}<extra></extra>",
           "lat": [
            30.74681
           ],
           "legendgroup": "2",
           "lon": [
            130.87771
           ],
           "marker": {
            "color": "#ab63fa"
           },
           "mode": "markers",
           "name": "2",
           "showlegend": true,
           "subplot": "mapbox",
           "type": "scattermapbox"
          }
         ],
         "name": "2016-07-09"
        },
        {
         "data": [
          {
           "hovertemplate": "감도=A<br>일자=2016-07-10<br>위도=%{lat}<br>경도=%{lon}<extra></extra>",
           "lat": [
            30.74948
           ],
           "legendgroup": "A",
           "lon": [
            130.88785
           ],
           "marker": {
            "color": "#00cc96"
           },
           "mode": "markers",
           "name": "A",
           "showlegend": true,
           "subplot": "mapbox",
           "type": "scattermapbox"
          }
         ],
         "name": "2016-07-10"
        },
        {
         "data": [
          {
           "hovertemplate": "감도=B<br>일자=2016-07-11<br>위도=%{lat}<br>경도=%{lon}<extra></extra>",
           "lat": [
            30.73856
           ],
           "legendgroup": "B",
           "lon": [
            130.82846
           ],
           "marker": {
            "color": "#636efa"
           },
           "mode": "markers",
           "name": "B",
           "showlegend": true,
           "subplot": "mapbox",
           "type": "scattermapbox"
          }
         ],
         "name": "2016-07-11"
        },
        {
         "data": [
          {
           "hovertemplate": "감도=3<br>일자=2016-07-12<br>위도=%{lat}<br>경도=%{lon}<extra></extra>",
           "lat": [
            30.74869
           ],
           "legendgroup": "3",
           "lon": [
            130.86837
           ],
           "marker": {
            "color": "#FFA15A"
           },
           "mode": "markers",
           "name": "3",
           "showlegend": true,
           "subplot": "mapbox",
           "type": "scattermapbox"
          }
         ],
         "name": "2016-07-12"
        },
        {
         "data": [
          {
           "hovertemplate": "감도=B<br>일자=2016-07-13<br>위도=%{lat}<br>경도=%{lon}<extra></extra>",
           "lat": [
            30.75217
           ],
           "legendgroup": "B",
           "lon": [
            130.85325
           ],
           "marker": {
            "color": "#636efa"
           },
           "mode": "markers",
           "name": "B",
           "showlegend": true,
           "subplot": "mapbox",
           "type": "scattermapbox"
          }
         ],
         "name": "2016-07-13"
        },
        {
         "data": [
          {
           "hovertemplate": "감도=A<br>일자=2016-07-14<br>위도=%{lat}<br>경도=%{lon}<extra></extra>",
           "lat": [
            30.75096
           ],
           "legendgroup": "A",
           "lon": [
            130.87496
           ],
           "marker": {
            "color": "#00cc96"
           },
           "mode": "markers",
           "name": "A",
           "showlegend": true,
           "subplot": "mapbox",
           "type": "scattermapbox"
          }
         ],
         "name": "2016-07-14"
        },
        {
         "data": [
          {
           "hovertemplate": "감도=B<br>일자=2016-07-15<br>위도=%{lat}<br>경도=%{lon}<extra></extra>",
           "lat": [
            30.72012
           ],
           "legendgroup": "B",
           "lon": [
            130.95892
           ],
           "marker": {
            "color": "#636efa"
           },
           "mode": "markers",
           "name": "B",
           "showlegend": true,
           "subplot": "mapbox",
           "type": "scattermapbox"
          }
         ],
         "name": "2016-07-15"
        },
        {
         "data": [
          {
           "hovertemplate": "감도=B<br>일자=2016-07-16<br>위도=%{lat}<br>경도=%{lon}<extra></extra>",
           "lat": [
            30.72478
           ],
           "legendgroup": "B",
           "lon": [
            130.88023
           ],
           "marker": {
            "color": "#636efa"
           },
           "mode": "markers",
           "name": "B",
           "showlegend": true,
           "subplot": "mapbox",
           "type": "scattermapbox"
          }
         ],
         "name": "2016-07-16"
        },
        {
         "data": [
          {
           "hovertemplate": "감도=A<br>일자=2016-07-17<br>위도=%{lat}<br>경도=%{lon}<extra></extra>",
           "lat": [
            30.74306
           ],
           "legendgroup": "A",
           "lon": [
            130.89204
           ],
           "marker": {
            "color": "#00cc96"
           },
           "mode": "markers",
           "name": "A",
           "showlegend": true,
           "subplot": "mapbox",
           "type": "scattermapbox"
          }
         ],
         "name": "2016-07-17"
        },
        {
         "data": [
          {
           "hovertemplate": "감도=3<br>일자=2016-07-18<br>위도=%{lat}<br>경도=%{lon}<extra></extra>",
           "lat": [
            30.7359
           ],
           "legendgroup": "3",
           "lon": [
            130.86957
           ],
           "marker": {
            "color": "#FFA15A"
           },
           "mode": "markers",
           "name": "3",
           "showlegend": true,
           "subplot": "mapbox",
           "type": "scattermapbox"
          }
         ],
         "name": "2016-07-18"
        },
        {
         "data": [
          {
           "hovertemplate": "감도=B<br>일자=2016-07-19<br>위도=%{lat}<br>경도=%{lon}<extra></extra>",
           "lat": [
            30.74166
           ],
           "legendgroup": "B",
           "lon": [
            130.86536
           ],
           "marker": {
            "color": "#636efa"
           },
           "mode": "markers",
           "name": "B",
           "showlegend": true,
           "subplot": "mapbox",
           "type": "scattermapbox"
          }
         ],
         "name": "2016-07-19"
        },
        {
         "data": [
          {
           "hovertemplate": "감도=1<br>일자=2016-07-20<br>위도=%{lat}<br>경도=%{lon}<extra></extra>",
           "lat": [
            30.73795
           ],
           "legendgroup": "1",
           "lon": [
            130.9045
           ],
           "marker": {
            "color": "#EF553B"
           },
           "mode": "markers",
           "name": "1",
           "showlegend": true,
           "subplot": "mapbox",
           "type": "scattermapbox"
          }
         ],
         "name": "2016-07-20"
        },
        {
         "data": [
          {
           "hovertemplate": "감도=B<br>일자=2016-07-21<br>위도=%{lat}<br>경도=%{lon}<extra></extra>",
           "lat": [
            30.71432
           ],
           "legendgroup": "B",
           "lon": [
            130.869
           ],
           "marker": {
            "color": "#636efa"
           },
           "mode": "markers",
           "name": "B",
           "showlegend": true,
           "subplot": "mapbox",
           "type": "scattermapbox"
          }
         ],
         "name": "2016-07-21"
        },
        {
         "data": [
          {
           "hovertemplate": "감도=B<br>일자=2016-07-22<br>위도=%{lat}<br>경도=%{lon}<extra></extra>",
           "lat": [
            30.88911
           ],
           "legendgroup": "B",
           "lon": [
            130.86319
           ],
           "marker": {
            "color": "#636efa"
           },
           "mode": "markers",
           "name": "B",
           "showlegend": true,
           "subplot": "mapbox",
           "type": "scattermapbox"
          }
         ],
         "name": "2016-07-22"
        },
        {
         "data": [
          {
           "hovertemplate": "감도=A<br>일자=2016-07-23<br>위도=%{lat}<br>경도=%{lon}<extra></extra>",
           "lat": [
            30.74932
           ],
           "legendgroup": "A",
           "lon": [
            130.93026
           ],
           "marker": {
            "color": "#00cc96"
           },
           "mode": "markers",
           "name": "A",
           "showlegend": true,
           "subplot": "mapbox",
           "type": "scattermapbox"
          }
         ],
         "name": "2016-07-23"
        },
        {
         "data": [
          {
           "hovertemplate": "감도=A<br>일자=2016-07-24<br>위도=%{lat}<br>경도=%{lon}<extra></extra>",
           "lat": [
            30.7761
           ],
           "legendgroup": "A",
           "lon": [
            130.85812
           ],
           "marker": {
            "color": "#00cc96"
           },
           "mode": "markers",
           "name": "A",
           "showlegend": true,
           "subplot": "mapbox",
           "type": "scattermapbox"
          }
         ],
         "name": "2016-07-24"
        },
        {
         "data": [
          {
           "hovertemplate": "감도=A<br>일자=2016-07-26<br>위도=%{lat}<br>경도=%{lon}<extra></extra>",
           "lat": [
            30.72303
           ],
           "legendgroup": "A",
           "lon": [
            130.89902
           ],
           "marker": {
            "color": "#00cc96"
           },
           "mode": "markers",
           "name": "A",
           "showlegend": true,
           "subplot": "mapbox",
           "type": "scattermapbox"
          }
         ],
         "name": "2016-07-26"
        },
        {
         "data": [
          {
           "hovertemplate": "감도=B<br>일자=2016-07-27<br>위도=%{lat}<br>경도=%{lon}<extra></extra>",
           "lat": [
            30.72304
           ],
           "legendgroup": "B",
           "lon": [
            130.878
           ],
           "marker": {
            "color": "#636efa"
           },
           "mode": "markers",
           "name": "B",
           "showlegend": true,
           "subplot": "mapbox",
           "type": "scattermapbox"
          }
         ],
         "name": "2016-07-27"
        },
        {
         "data": [
          {
           "hovertemplate": "감도=A<br>일자=2016-08-09<br>위도=%{lat}<br>경도=%{lon}<extra></extra>",
           "lat": [
            30.73425
           ],
           "legendgroup": "A",
           "lon": [
            130.90047
           ],
           "marker": {
            "color": "#00cc96"
           },
           "mode": "markers",
           "name": "A",
           "showlegend": true,
           "subplot": "mapbox",
           "type": "scattermapbox"
          }
         ],
         "name": "2016-08-09"
        },
        {
         "data": [
          {
           "hovertemplate": "감도=3<br>일자=2016-08-10<br>위도=%{lat}<br>경도=%{lon}<extra></extra>",
           "lat": [
            30.74502
           ],
           "legendgroup": "3",
           "lon": [
            130.87315
           ],
           "marker": {
            "color": "#FFA15A"
           },
           "mode": "markers",
           "name": "3",
           "showlegend": true,
           "subplot": "mapbox",
           "type": "scattermapbox"
          }
         ],
         "name": "2016-08-10"
        },
        {
         "data": [
          {
           "hovertemplate": "감도=B<br>일자=2016-08-11<br>위도=%{lat}<br>경도=%{lon}<extra></extra>",
           "lat": [
            30.74339
           ],
           "legendgroup": "B",
           "lon": [
            130.8524
           ],
           "marker": {
            "color": "#636efa"
           },
           "mode": "markers",
           "name": "B",
           "showlegend": true,
           "subplot": "mapbox",
           "type": "scattermapbox"
          }
         ],
         "name": "2016-08-11"
        },
        {
         "data": [
          {
           "hovertemplate": "감도=2<br>일자=2016-08-12<br>위도=%{lat}<br>경도=%{lon}<extra></extra>",
           "lat": [
            30.7316
           ],
           "legendgroup": "2",
           "lon": [
            130.88538
           ],
           "marker": {
            "color": "#ab63fa"
           },
           "mode": "markers",
           "name": "2",
           "showlegend": true,
           "subplot": "mapbox",
           "type": "scattermapbox"
          }
         ],
         "name": "2016-08-12"
        },
        {
         "data": [
          {
           "hovertemplate": "감도=B<br>일자=2016-08-13<br>위도=%{lat}<br>경도=%{lon}<extra></extra>",
           "lat": [
            30.73332
           ],
           "legendgroup": "B",
           "lon": [
            130.88113
           ],
           "marker": {
            "color": "#636efa"
           },
           "mode": "markers",
           "name": "B",
           "showlegend": true,
           "subplot": "mapbox",
           "type": "scattermapbox"
          }
         ],
         "name": "2016-08-13"
        },
        {
         "data": [
          {
           "hovertemplate": "감도=B<br>일자=2016-08-14<br>위도=%{lat}<br>경도=%{lon}<extra></extra>",
           "lat": [
            30.73957
           ],
           "legendgroup": "B",
           "lon": [
            130.87719
           ],
           "marker": {
            "color": "#636efa"
           },
           "mode": "markers",
           "name": "B",
           "showlegend": true,
           "subplot": "mapbox",
           "type": "scattermapbox"
          }
         ],
         "name": "2016-08-14"
        },
        {
         "data": [
          {
           "hovertemplate": "감도=B<br>일자=2016-08-16<br>위도=%{lat}<br>경도=%{lon}<extra></extra>",
           "lat": [
            30.74592
           ],
           "legendgroup": "B",
           "lon": [
            130.86022
           ],
           "marker": {
            "color": "#636efa"
           },
           "mode": "markers",
           "name": "B",
           "showlegend": true,
           "subplot": "mapbox",
           "type": "scattermapbox"
          }
         ],
         "name": "2016-08-16"
        },
        {
         "data": [
          {
           "hovertemplate": "감도=B<br>일자=2016-08-17<br>위도=%{lat}<br>경도=%{lon}<extra></extra>",
           "lat": [
            30.72358
           ],
           "legendgroup": "B",
           "lon": [
            130.86929
           ],
           "marker": {
            "color": "#636efa"
           },
           "mode": "markers",
           "name": "B",
           "showlegend": true,
           "subplot": "mapbox",
           "type": "scattermapbox"
          }
         ],
         "name": "2016-08-17"
        },
        {
         "data": [
          {
           "hovertemplate": "감도=B<br>일자=2016-08-18<br>위도=%{lat}<br>경도=%{lon}<extra></extra>",
           "lat": [
            30.72692
           ],
           "legendgroup": "B",
           "lon": [
            130.88272
           ],
           "marker": {
            "color": "#636efa"
           },
           "mode": "markers",
           "name": "B",
           "showlegend": true,
           "subplot": "mapbox",
           "type": "scattermapbox"
          }
         ],
         "name": "2016-08-18"
        },
        {
         "data": [
          {
           "hovertemplate": "감도=B<br>일자=2016-08-19<br>위도=%{lat}<br>경도=%{lon}<extra></extra>",
           "lat": [
            30.72725
           ],
           "legendgroup": "B",
           "lon": [
            130.8716
           ],
           "marker": {
            "color": "#636efa"
           },
           "mode": "markers",
           "name": "B",
           "showlegend": true,
           "subplot": "mapbox",
           "type": "scattermapbox"
          }
         ],
         "name": "2016-08-19"
        },
        {
         "data": [
          {
           "hovertemplate": "감도=A<br>일자=2016-08-20<br>위도=%{lat}<br>경도=%{lon}<extra></extra>",
           "lat": [
            30.74884
           ],
           "legendgroup": "A",
           "lon": [
            130.86504
           ],
           "marker": {
            "color": "#00cc96"
           },
           "mode": "markers",
           "name": "A",
           "showlegend": true,
           "subplot": "mapbox",
           "type": "scattermapbox"
          }
         ],
         "name": "2016-08-20"
        },
        {
         "data": [
          {
           "hovertemplate": "감도=3<br>일자=2016-08-22<br>위도=%{lat}<br>경도=%{lon}<extra></extra>",
           "lat": [
            30.73541
           ],
           "legendgroup": "3",
           "lon": [
            130.87132
           ],
           "marker": {
            "color": "#FFA15A"
           },
           "mode": "markers",
           "name": "3",
           "showlegend": true,
           "subplot": "mapbox",
           "type": "scattermapbox"
          }
         ],
         "name": "2016-08-22"
        },
        {
         "data": [
          {
           "hovertemplate": "감도=A<br>일자=2016-08-23<br>위도=%{lat}<br>경도=%{lon}<extra></extra>",
           "lat": [
            30.73285
           ],
           "legendgroup": "A",
           "lon": [
            130.90557
           ],
           "marker": {
            "color": "#00cc96"
           },
           "mode": "markers",
           "name": "A",
           "showlegend": true,
           "subplot": "mapbox",
           "type": "scattermapbox"
          }
         ],
         "name": "2016-08-23"
        },
        {
         "data": [
          {
           "hovertemplate": "감도=A<br>일자=2016-08-24<br>위도=%{lat}<br>경도=%{lon}<extra></extra>",
           "lat": [
            30.6884
           ],
           "legendgroup": "A",
           "lon": [
            130.89033
           ],
           "marker": {
            "color": "#00cc96"
           },
           "mode": "markers",
           "name": "A",
           "showlegend": true,
           "subplot": "mapbox",
           "type": "scattermapbox"
          }
         ],
         "name": "2016-08-24"
        },
        {
         "data": [
          {
           "hovertemplate": "감도=B<br>일자=2016-08-25<br>위도=%{lat}<br>경도=%{lon}<extra></extra>",
           "lat": [
            30.73652
           ],
           "legendgroup": "B",
           "lon": [
            130.88113
           ],
           "marker": {
            "color": "#636efa"
           },
           "mode": "markers",
           "name": "B",
           "showlegend": true,
           "subplot": "mapbox",
           "type": "scattermapbox"
          }
         ],
         "name": "2016-08-25"
        },
        {
         "data": [
          {
           "hovertemplate": "감도=A<br>일자=2016-08-26<br>위도=%{lat}<br>경도=%{lon}<extra></extra>",
           "lat": [
            30.74061
           ],
           "legendgroup": "A",
           "lon": [
            130.86904
           ],
           "marker": {
            "color": "#00cc96"
           },
           "mode": "markers",
           "name": "A",
           "showlegend": true,
           "subplot": "mapbox",
           "type": "scattermapbox"
          }
         ],
         "name": "2016-08-26"
        },
        {
         "data": [
          {
           "hovertemplate": "감도=A<br>일자=2016-08-27<br>위도=%{lat}<br>경도=%{lon}<extra></extra>",
           "lat": [
            30.72914
           ],
           "legendgroup": "A",
           "lon": [
            130.89517
           ],
           "marker": {
            "color": "#00cc96"
           },
           "mode": "markers",
           "name": "A",
           "showlegend": true,
           "subplot": "mapbox",
           "type": "scattermapbox"
          }
         ],
         "name": "2016-08-27"
        },
        {
         "data": [
          {
           "hovertemplate": "감도=B<br>일자=2016-08-28<br>위도=%{lat}<br>경도=%{lon}<extra></extra>",
           "lat": [
            30.75748
           ],
           "legendgroup": "B",
           "lon": [
            130.85464
           ],
           "marker": {
            "color": "#636efa"
           },
           "mode": "markers",
           "name": "B",
           "showlegend": true,
           "subplot": "mapbox",
           "type": "scattermapbox"
          }
         ],
         "name": "2016-08-28"
        },
        {
         "data": [
          {
           "hovertemplate": "감도=A<br>일자=2016-08-29<br>위도=%{lat}<br>경도=%{lon}<extra></extra>",
           "lat": [
            30.74144
           ],
           "legendgroup": "A",
           "lon": [
            130.87755
           ],
           "marker": {
            "color": "#00cc96"
           },
           "mode": "markers",
           "name": "A",
           "showlegend": true,
           "subplot": "mapbox",
           "type": "scattermapbox"
          }
         ],
         "name": "2016-08-29"
        },
        {
         "data": [
          {
           "hovertemplate": "감도=A<br>일자=2016-08-30<br>위도=%{lat}<br>경도=%{lon}<extra></extra>",
           "lat": [
            30.7513
           ],
           "legendgroup": "A",
           "lon": [
            130.86352
           ],
           "marker": {
            "color": "#00cc96"
           },
           "mode": "markers",
           "name": "A",
           "showlegend": true,
           "subplot": "mapbox",
           "type": "scattermapbox"
          }
         ],
         "name": "2016-08-30"
        },
        {
         "data": [
          {
           "hovertemplate": "감도=B<br>일자=2016-08-31<br>위도=%{lat}<br>경도=%{lon}<extra></extra>",
           "lat": [
            30.74328
           ],
           "legendgroup": "B",
           "lon": [
            130.86531
           ],
           "marker": {
            "color": "#636efa"
           },
           "mode": "markers",
           "name": "B",
           "showlegend": true,
           "subplot": "mapbox",
           "type": "scattermapbox"
          }
         ],
         "name": "2016-08-31"
        },
        {
         "data": [
          {
           "hovertemplate": "감도=B<br>일자=2016-09-01<br>위도=%{lat}<br>경도=%{lon}<extra></extra>",
           "lat": [
            30.74506
           ],
           "legendgroup": "B",
           "lon": [
            130.88222
           ],
           "marker": {
            "color": "#636efa"
           },
           "mode": "markers",
           "name": "B",
           "showlegend": true,
           "subplot": "mapbox",
           "type": "scattermapbox"
          }
         ],
         "name": "2016-09-01"
        },
        {
         "data": [
          {
           "hovertemplate": "감도=B<br>일자=2016-09-02<br>위도=%{lat}<br>경도=%{lon}<extra></extra>",
           "lat": [
            30.74142
           ],
           "legendgroup": "B",
           "lon": [
            130.94853
           ],
           "marker": {
            "color": "#636efa"
           },
           "mode": "markers",
           "name": "B",
           "showlegend": true,
           "subplot": "mapbox",
           "type": "scattermapbox"
          }
         ],
         "name": "2016-09-02"
        },
        {
         "data": [
          {
           "hovertemplate": "감도=B<br>일자=2016-09-03<br>위도=%{lat}<br>경도=%{lon}<extra></extra>",
           "lat": [
            30.75399
           ],
           "legendgroup": "B",
           "lon": [
            130.87525
           ],
           "marker": {
            "color": "#636efa"
           },
           "mode": "markers",
           "name": "B",
           "showlegend": true,
           "subplot": "mapbox",
           "type": "scattermapbox"
          }
         ],
         "name": "2016-09-03"
        },
        {
         "data": [
          {
           "hovertemplate": "감도=3<br>일자=2016-09-04<br>위도=%{lat}<br>경도=%{lon}<extra></extra>",
           "lat": [
            30.74894
           ],
           "legendgroup": "3",
           "lon": [
            130.87434
           ],
           "marker": {
            "color": "#FFA15A"
           },
           "mode": "markers",
           "name": "3",
           "showlegend": true,
           "subplot": "mapbox",
           "type": "scattermapbox"
          }
         ],
         "name": "2016-09-04"
        },
        {
         "data": [
          {
           "hovertemplate": "감도=3<br>일자=2016-09-05<br>위도=%{lat}<br>경도=%{lon}<extra></extra>",
           "lat": [
            30.74401
           ],
           "legendgroup": "3",
           "lon": [
            130.86649
           ],
           "marker": {
            "color": "#FFA15A"
           },
           "mode": "markers",
           "name": "3",
           "showlegend": true,
           "subplot": "mapbox",
           "type": "scattermapbox"
          }
         ],
         "name": "2016-09-05"
        },
        {
         "data": [
          {
           "hovertemplate": "감도=3<br>일자=2016-09-06<br>위도=%{lat}<br>경도=%{lon}<extra></extra>",
           "lat": [
            30.74686
           ],
           "legendgroup": "3",
           "lon": [
            130.87452
           ],
           "marker": {
            "color": "#FFA15A"
           },
           "mode": "markers",
           "name": "3",
           "showlegend": true,
           "subplot": "mapbox",
           "type": "scattermapbox"
          }
         ],
         "name": "2016-09-06"
        },
        {
         "data": [
          {
           "hovertemplate": "감도=3<br>일자=2016-09-07<br>위도=%{lat}<br>경도=%{lon}<extra></extra>",
           "lat": [
            30.74371
           ],
           "legendgroup": "3",
           "lon": [
            130.86338
           ],
           "marker": {
            "color": "#FFA15A"
           },
           "mode": "markers",
           "name": "3",
           "showlegend": true,
           "subplot": "mapbox",
           "type": "scattermapbox"
          }
         ],
         "name": "2016-09-07"
        },
        {
         "data": [
          {
           "hovertemplate": "감도=1<br>일자=2016-09-08<br>위도=%{lat}<br>경도=%{lon}<extra></extra>",
           "lat": [
            30.74074
           ],
           "legendgroup": "1",
           "lon": [
            130.86887
           ],
           "marker": {
            "color": "#EF553B"
           },
           "mode": "markers",
           "name": "1",
           "showlegend": true,
           "subplot": "mapbox",
           "type": "scattermapbox"
          }
         ],
         "name": "2016-09-08"
        },
        {
         "data": [
          {
           "hovertemplate": "감도=3<br>일자=2016-09-09<br>위도=%{lat}<br>경도=%{lon}<extra></extra>",
           "lat": [
            30.74604
           ],
           "legendgroup": "3",
           "lon": [
            130.8749
           ],
           "marker": {
            "color": "#FFA15A"
           },
           "mode": "markers",
           "name": "3",
           "showlegend": true,
           "subplot": "mapbox",
           "type": "scattermapbox"
          }
         ],
         "name": "2016-09-09"
        },
        {
         "data": [
          {
           "hovertemplate": "감도=3<br>일자=2016-09-10<br>위도=%{lat}<br>경도=%{lon}<extra></extra>",
           "lat": [
            30.74415
           ],
           "legendgroup": "3",
           "lon": [
            130.87202
           ],
           "marker": {
            "color": "#FFA15A"
           },
           "mode": "markers",
           "name": "3",
           "showlegend": true,
           "subplot": "mapbox",
           "type": "scattermapbox"
          }
         ],
         "name": "2016-09-10"
        },
        {
         "data": [
          {
           "hovertemplate": "감도=3<br>일자=2016-09-11<br>위도=%{lat}<br>경도=%{lon}<extra></extra>",
           "lat": [
            30.75062
           ],
           "legendgroup": "3",
           "lon": [
            130.86804
           ],
           "marker": {
            "color": "#FFA15A"
           },
           "mode": "markers",
           "name": "3",
           "showlegend": true,
           "subplot": "mapbox",
           "type": "scattermapbox"
          }
         ],
         "name": "2016-09-11"
        },
        {
         "data": [
          {
           "hovertemplate": "감도=3<br>일자=2016-09-12<br>위도=%{lat}<br>경도=%{lon}<extra></extra>",
           "lat": [
            30.74661
           ],
           "legendgroup": "3",
           "lon": [
            130.87264
           ],
           "marker": {
            "color": "#FFA15A"
           },
           "mode": "markers",
           "name": "3",
           "showlegend": true,
           "subplot": "mapbox",
           "type": "scattermapbox"
          }
         ],
         "name": "2016-09-12"
        },
        {
         "data": [
          {
           "hovertemplate": "감도=A<br>일자=2016-09-13<br>위도=%{lat}<br>경도=%{lon}<extra></extra>",
           "lat": [
            30.74668
           ],
           "legendgroup": "A",
           "lon": [
            130.87804
           ],
           "marker": {
            "color": "#00cc96"
           },
           "mode": "markers",
           "name": "A",
           "showlegend": true,
           "subplot": "mapbox",
           "type": "scattermapbox"
          }
         ],
         "name": "2016-09-13"
        },
        {
         "data": [
          {
           "hovertemplate": "감도=3<br>일자=2016-09-14<br>위도=%{lat}<br>경도=%{lon}<extra></extra>",
           "lat": [
            30.73793
           ],
           "legendgroup": "3",
           "lon": [
            130.86899
           ],
           "marker": {
            "color": "#FFA15A"
           },
           "mode": "markers",
           "name": "3",
           "showlegend": true,
           "subplot": "mapbox",
           "type": "scattermapbox"
          }
         ],
         "name": "2016-09-14"
        },
        {
         "data": [
          {
           "hovertemplate": "감도=A<br>일자=2016-09-15<br>위도=%{lat}<br>경도=%{lon}<extra></extra>",
           "lat": [
            30.73182
           ],
           "legendgroup": "A",
           "lon": [
            130.86706
           ],
           "marker": {
            "color": "#00cc96"
           },
           "mode": "markers",
           "name": "A",
           "showlegend": true,
           "subplot": "mapbox",
           "type": "scattermapbox"
          }
         ],
         "name": "2016-09-15"
        },
        {
         "data": [
          {
           "hovertemplate": "감도=1<br>일자=2016-09-16<br>위도=%{lat}<br>경도=%{lon}<extra></extra>",
           "lat": [
            30.71791
           ],
           "legendgroup": "1",
           "lon": [
            130.87287
           ],
           "marker": {
            "color": "#EF553B"
           },
           "mode": "markers",
           "name": "1",
           "showlegend": true,
           "subplot": "mapbox",
           "type": "scattermapbox"
          }
         ],
         "name": "2016-09-16"
        },
        {
         "data": [
          {
           "hovertemplate": "감도=A<br>일자=2016-09-17<br>위도=%{lat}<br>경도=%{lon}<extra></extra>",
           "lat": [
            30.74159
           ],
           "legendgroup": "A",
           "lon": [
            130.90316
           ],
           "marker": {
            "color": "#00cc96"
           },
           "mode": "markers",
           "name": "A",
           "showlegend": true,
           "subplot": "mapbox",
           "type": "scattermapbox"
          }
         ],
         "name": "2016-09-17"
        },
        {
         "data": [
          {
           "hovertemplate": "감도=3<br>일자=2016-09-18<br>위도=%{lat}<br>경도=%{lon}<extra></extra>",
           "lat": [
            30.72583
           ],
           "legendgroup": "3",
           "lon": [
            130.87462
           ],
           "marker": {
            "color": "#FFA15A"
           },
           "mode": "markers",
           "name": "3",
           "showlegend": true,
           "subplot": "mapbox",
           "type": "scattermapbox"
          }
         ],
         "name": "2016-09-18"
        },
        {
         "data": [
          {
           "hovertemplate": "감도=A<br>일자=2016-09-19<br>위도=%{lat}<br>경도=%{lon}<extra></extra>",
           "lat": [
            30.75815
           ],
           "legendgroup": "A",
           "lon": [
            130.86713
           ],
           "marker": {
            "color": "#00cc96"
           },
           "mode": "markers",
           "name": "A",
           "showlegend": true,
           "subplot": "mapbox",
           "type": "scattermapbox"
          }
         ],
         "name": "2016-09-19"
        },
        {
         "data": [
          {
           "hovertemplate": "감도=B<br>일자=2016-09-20<br>위도=%{lat}<br>경도=%{lon}<extra></extra>",
           "lat": [
            30.71673
           ],
           "legendgroup": "B",
           "lon": [
            130.83742
           ],
           "marker": {
            "color": "#636efa"
           },
           "mode": "markers",
           "name": "B",
           "showlegend": true,
           "subplot": "mapbox",
           "type": "scattermapbox"
          }
         ],
         "name": "2016-09-20"
        },
        {
         "data": [
          {
           "hovertemplate": "감도=2<br>일자=2016-09-21<br>위도=%{lat}<br>경도=%{lon}<extra></extra>",
           "lat": [
            30.74354
           ],
           "legendgroup": "2",
           "lon": [
            130.86798
           ],
           "marker": {
            "color": "#ab63fa"
           },
           "mode": "markers",
           "name": "2",
           "showlegend": true,
           "subplot": "mapbox",
           "type": "scattermapbox"
          }
         ],
         "name": "2016-09-21"
        },
        {
         "data": [
          {
           "hovertemplate": "감도=3<br>일자=2016-09-22<br>위도=%{lat}<br>경도=%{lon}<extra></extra>",
           "lat": [
            30.73553
           ],
           "legendgroup": "3",
           "lon": [
            130.874
           ],
           "marker": {
            "color": "#FFA15A"
           },
           "mode": "markers",
           "name": "3",
           "showlegend": true,
           "subplot": "mapbox",
           "type": "scattermapbox"
          }
         ],
         "name": "2016-09-22"
        },
        {
         "data": [
          {
           "hovertemplate": "감도=B<br>일자=2016-09-23<br>위도=%{lat}<br>경도=%{lon}<extra></extra>",
           "lat": [
            30.74975
           ],
           "legendgroup": "B",
           "lon": [
            130.86964
           ],
           "marker": {
            "color": "#636efa"
           },
           "mode": "markers",
           "name": "B",
           "showlegend": true,
           "subplot": "mapbox",
           "type": "scattermapbox"
          }
         ],
         "name": "2016-09-23"
        },
        {
         "data": [
          {
           "hovertemplate": "감도=1<br>일자=2016-09-24<br>위도=%{lat}<br>경도=%{lon}<extra></extra>",
           "lat": [
            30.75142
           ],
           "legendgroup": "1",
           "lon": [
            130.87465
           ],
           "marker": {
            "color": "#EF553B"
           },
           "mode": "markers",
           "name": "1",
           "showlegend": true,
           "subplot": "mapbox",
           "type": "scattermapbox"
          }
         ],
         "name": "2016-09-24"
        },
        {
         "data": [
          {
           "hovertemplate": "감도=B<br>일자=2016-09-25<br>위도=%{lat}<br>경도=%{lon}<extra></extra>",
           "lat": [
            30.74776
           ],
           "legendgroup": "B",
           "lon": [
            130.87725
           ],
           "marker": {
            "color": "#636efa"
           },
           "mode": "markers",
           "name": "B",
           "showlegend": true,
           "subplot": "mapbox",
           "type": "scattermapbox"
          }
         ],
         "name": "2016-09-25"
        },
        {
         "data": [
          {
           "hovertemplate": "감도=3<br>일자=2016-09-26<br>위도=%{lat}<br>경도=%{lon}<extra></extra>",
           "lat": [
            30.74724
           ],
           "legendgroup": "3",
           "lon": [
            130.88376
           ],
           "marker": {
            "color": "#FFA15A"
           },
           "mode": "markers",
           "name": "3",
           "showlegend": true,
           "subplot": "mapbox",
           "type": "scattermapbox"
          }
         ],
         "name": "2016-09-26"
        },
        {
         "data": [
          {
           "hovertemplate": "감도=2<br>일자=2016-09-27<br>위도=%{lat}<br>경도=%{lon}<extra></extra>",
           "lat": [
            30.74378
           ],
           "legendgroup": "2",
           "lon": [
            130.86585
           ],
           "marker": {
            "color": "#ab63fa"
           },
           "mode": "markers",
           "name": "2",
           "showlegend": true,
           "subplot": "mapbox",
           "type": "scattermapbox"
          }
         ],
         "name": "2016-09-27"
        },
        {
         "data": [
          {
           "hovertemplate": "감도=A<br>일자=2016-09-28<br>위도=%{lat}<br>경도=%{lon}<extra></extra>",
           "lat": [
            30.74316
           ],
           "legendgroup": "A",
           "lon": [
            130.87334
           ],
           "marker": {
            "color": "#00cc96"
           },
           "mode": "markers",
           "name": "A",
           "showlegend": true,
           "subplot": "mapbox",
           "type": "scattermapbox"
          }
         ],
         "name": "2016-09-28"
        },
        {
         "data": [
          {
           "hovertemplate": "감도=3<br>일자=2016-09-29<br>위도=%{lat}<br>경도=%{lon}<extra></extra>",
           "lat": [
            30.74685
           ],
           "legendgroup": "3",
           "lon": [
            130.87487
           ],
           "marker": {
            "color": "#FFA15A"
           },
           "mode": "markers",
           "name": "3",
           "showlegend": true,
           "subplot": "mapbox",
           "type": "scattermapbox"
          }
         ],
         "name": "2016-09-29"
        },
        {
         "data": [
          {
           "hovertemplate": "감도=3<br>일자=2016-09-30<br>위도=%{lat}<br>경도=%{lon}<extra></extra>",
           "lat": [
            30.72842
           ],
           "legendgroup": "3",
           "lon": [
            130.87413
           ],
           "marker": {
            "color": "#FFA15A"
           },
           "mode": "markers",
           "name": "3",
           "showlegend": true,
           "subplot": "mapbox",
           "type": "scattermapbox"
          }
         ],
         "name": "2016-09-30"
        },
        {
         "data": [
          {
           "hovertemplate": "감도=A<br>일자=2016-10-01<br>위도=%{lat}<br>경도=%{lon}<extra></extra>",
           "lat": [
            30.74536
           ],
           "legendgroup": "A",
           "lon": [
            130.87199
           ],
           "marker": {
            "color": "#00cc96"
           },
           "mode": "markers",
           "name": "A",
           "showlegend": true,
           "subplot": "mapbox",
           "type": "scattermapbox"
          }
         ],
         "name": "2016-10-01"
        },
        {
         "data": [
          {
           "hovertemplate": "감도=A<br>일자=2016-10-02<br>위도=%{lat}<br>경도=%{lon}<extra></extra>",
           "lat": [
            30.74382
           ],
           "legendgroup": "A",
           "lon": [
            130.86715
           ],
           "marker": {
            "color": "#00cc96"
           },
           "mode": "markers",
           "name": "A",
           "showlegend": true,
           "subplot": "mapbox",
           "type": "scattermapbox"
          }
         ],
         "name": "2016-10-02"
        },
        {
         "data": [
          {
           "hovertemplate": "감도=B<br>일자=2016-10-03<br>위도=%{lat}<br>경도=%{lon}<extra></extra>",
           "lat": [
            30.75361
           ],
           "legendgroup": "B",
           "lon": [
            130.86636
           ],
           "marker": {
            "color": "#636efa"
           },
           "mode": "markers",
           "name": "B",
           "showlegend": true,
           "subplot": "mapbox",
           "type": "scattermapbox"
          }
         ],
         "name": "2016-10-03"
        },
        {
         "data": [
          {
           "hovertemplate": "감도=A<br>일자=2016-10-04<br>위도=%{lat}<br>경도=%{lon}<extra></extra>",
           "lat": [
            30.73042
           ],
           "legendgroup": "A",
           "lon": [
            130.86697
           ],
           "marker": {
            "color": "#00cc96"
           },
           "mode": "markers",
           "name": "A",
           "showlegend": true,
           "subplot": "mapbox",
           "type": "scattermapbox"
          }
         ],
         "name": "2016-10-04"
        },
        {
         "data": [
          {
           "hovertemplate": "감도=B<br>일자=2016-10-05<br>위도=%{lat}<br>경도=%{lon}<extra></extra>",
           "lat": [
            30.70725
           ],
           "legendgroup": "B",
           "lon": [
            130.87658
           ],
           "marker": {
            "color": "#636efa"
           },
           "mode": "markers",
           "name": "B",
           "showlegend": true,
           "subplot": "mapbox",
           "type": "scattermapbox"
          }
         ],
         "name": "2016-10-05"
        },
        {
         "data": [
          {
           "hovertemplate": "감도=B<br>일자=2016-10-06<br>위도=%{lat}<br>경도=%{lon}<extra></extra>",
           "lat": [
            30.72838
           ],
           "legendgroup": "B",
           "lon": [
            130.87841
           ],
           "marker": {
            "color": "#636efa"
           },
           "mode": "markers",
           "name": "B",
           "showlegend": true,
           "subplot": "mapbox",
           "type": "scattermapbox"
          }
         ],
         "name": "2016-10-06"
        },
        {
         "data": [
          {
           "hovertemplate": "감도=B<br>일자=2016-10-07<br>위도=%{lat}<br>경도=%{lon}<extra></extra>",
           "lat": [
            30.73789
           ],
           "legendgroup": "B",
           "lon": [
            130.86542
           ],
           "marker": {
            "color": "#636efa"
           },
           "mode": "markers",
           "name": "B",
           "showlegend": true,
           "subplot": "mapbox",
           "type": "scattermapbox"
          }
         ],
         "name": "2016-10-07"
        },
        {
         "data": [
          {
           "hovertemplate": "감도=A<br>일자=2016-10-08<br>위도=%{lat}<br>경도=%{lon}<extra></extra>",
           "lat": [
            30.75085
           ],
           "legendgroup": "A",
           "lon": [
            130.8638
           ],
           "marker": {
            "color": "#00cc96"
           },
           "mode": "markers",
           "name": "A",
           "showlegend": true,
           "subplot": "mapbox",
           "type": "scattermapbox"
          }
         ],
         "name": "2016-10-08"
        },
        {
         "data": [
          {
           "hovertemplate": "감도=A<br>일자=2016-10-09<br>위도=%{lat}<br>경도=%{lon}<extra></extra>",
           "lat": [
            30.74534
           ],
           "legendgroup": "A",
           "lon": [
            130.87063
           ],
           "marker": {
            "color": "#00cc96"
           },
           "mode": "markers",
           "name": "A",
           "showlegend": true,
           "subplot": "mapbox",
           "type": "scattermapbox"
          }
         ],
         "name": "2016-10-09"
        },
        {
         "data": [
          {
           "hovertemplate": "감도=B<br>일자=2016-10-10<br>위도=%{lat}<br>경도=%{lon}<extra></extra>",
           "lat": [
            30.7189
           ],
           "legendgroup": "B",
           "lon": [
            130.87116
           ],
           "marker": {
            "color": "#636efa"
           },
           "mode": "markers",
           "name": "B",
           "showlegend": true,
           "subplot": "mapbox",
           "type": "scattermapbox"
          }
         ],
         "name": "2016-10-10"
        },
        {
         "data": [
          {
           "hovertemplate": "감도=B<br>일자=2016-10-11<br>위도=%{lat}<br>경도=%{lon}<extra></extra>",
           "lat": [
            30.7458
           ],
           "legendgroup": "B",
           "lon": [
            130.86682
           ],
           "marker": {
            "color": "#636efa"
           },
           "mode": "markers",
           "name": "B",
           "showlegend": true,
           "subplot": "mapbox",
           "type": "scattermapbox"
          }
         ],
         "name": "2016-10-11"
        },
        {
         "data": [
          {
           "hovertemplate": "감도=A<br>일자=2016-10-12<br>위도=%{lat}<br>경도=%{lon}<extra></extra>",
           "lat": [
            30.74615
           ],
           "legendgroup": "A",
           "lon": [
            130.87669
           ],
           "marker": {
            "color": "#00cc96"
           },
           "mode": "markers",
           "name": "A",
           "showlegend": true,
           "subplot": "mapbox",
           "type": "scattermapbox"
          }
         ],
         "name": "2016-10-12"
        },
        {
         "data": [
          {
           "hovertemplate": "감도=B<br>일자=2016-10-13<br>위도=%{lat}<br>경도=%{lon}<extra></extra>",
           "lat": [
            30.73478
           ],
           "legendgroup": "B",
           "lon": [
            130.87295
           ],
           "marker": {
            "color": "#636efa"
           },
           "mode": "markers",
           "name": "B",
           "showlegend": true,
           "subplot": "mapbox",
           "type": "scattermapbox"
          }
         ],
         "name": "2016-10-13"
        },
        {
         "data": [
          {
           "hovertemplate": "감도=B<br>일자=2016-10-14<br>위도=%{lat}<br>경도=%{lon}<extra></extra>",
           "lat": [
            30.72695
           ],
           "legendgroup": "B",
           "lon": [
            130.8794
           ],
           "marker": {
            "color": "#636efa"
           },
           "mode": "markers",
           "name": "B",
           "showlegend": true,
           "subplot": "mapbox",
           "type": "scattermapbox"
          }
         ],
         "name": "2016-10-14"
        },
        {
         "data": [
          {
           "hovertemplate": "감도=A<br>일자=2016-10-15<br>위도=%{lat}<br>경도=%{lon}<extra></extra>",
           "lat": [
            30.71387
           ],
           "legendgroup": "A",
           "lon": [
            130.8704
           ],
           "marker": {
            "color": "#00cc96"
           },
           "mode": "markers",
           "name": "A",
           "showlegend": true,
           "subplot": "mapbox",
           "type": "scattermapbox"
          }
         ],
         "name": "2016-10-15"
        },
        {
         "data": [
          {
           "hovertemplate": "감도=A<br>일자=2016-10-16<br>위도=%{lat}<br>경도=%{lon}<extra></extra>",
           "lat": [
            30.70221
           ],
           "legendgroup": "A",
           "lon": [
            130.86708
           ],
           "marker": {
            "color": "#00cc96"
           },
           "mode": "markers",
           "name": "A",
           "showlegend": true,
           "subplot": "mapbox",
           "type": "scattermapbox"
          }
         ],
         "name": "2016-10-16"
        },
        {
         "data": [
          {
           "hovertemplate": "감도=B<br>일자=2016-10-17<br>위도=%{lat}<br>경도=%{lon}<extra></extra>",
           "lat": [
            30.74069
           ],
           "legendgroup": "B",
           "lon": [
            130.87738
           ],
           "marker": {
            "color": "#636efa"
           },
           "mode": "markers",
           "name": "B",
           "showlegend": true,
           "subplot": "mapbox",
           "type": "scattermapbox"
          }
         ],
         "name": "2016-10-17"
        },
        {
         "data": [
          {
           "hovertemplate": "감도=B<br>일자=2016-10-18<br>위도=%{lat}<br>경도=%{lon}<extra></extra>",
           "lat": [
            30.78461
           ],
           "legendgroup": "B",
           "lon": [
            130.91983
           ],
           "marker": {
            "color": "#636efa"
           },
           "mode": "markers",
           "name": "B",
           "showlegend": true,
           "subplot": "mapbox",
           "type": "scattermapbox"
          }
         ],
         "name": "2016-10-18"
        },
        {
         "data": [
          {
           "hovertemplate": "감도=A<br>일자=2016-10-19<br>위도=%{lat}<br>경도=%{lon}<extra></extra>",
           "lat": [
            30.74448
           ],
           "legendgroup": "A",
           "lon": [
            130.85924
           ],
           "marker": {
            "color": "#00cc96"
           },
           "mode": "markers",
           "name": "A",
           "showlegend": true,
           "subplot": "mapbox",
           "type": "scattermapbox"
          }
         ],
         "name": "2016-10-19"
        },
        {
         "data": [
          {
           "hovertemplate": "감도=A<br>일자=2016-10-20<br>위도=%{lat}<br>경도=%{lon}<extra></extra>",
           "lat": [
            30.67964
           ],
           "legendgroup": "A",
           "lon": [
            130.93665
           ],
           "marker": {
            "color": "#00cc96"
           },
           "mode": "markers",
           "name": "A",
           "showlegend": true,
           "subplot": "mapbox",
           "type": "scattermapbox"
          }
         ],
         "name": "2016-10-20"
        },
        {
         "data": [
          {
           "hovertemplate": "감도=B<br>일자=2016-10-21<br>위도=%{lat}<br>경도=%{lon}<extra></extra>",
           "lat": [
            30.73279
           ],
           "legendgroup": "B",
           "lon": [
            130.86275
           ],
           "marker": {
            "color": "#636efa"
           },
           "mode": "markers",
           "name": "B",
           "showlegend": true,
           "subplot": "mapbox",
           "type": "scattermapbox"
          }
         ],
         "name": "2016-10-21"
        },
        {
         "data": [
          {
           "hovertemplate": "감도=B<br>일자=2016-10-22<br>위도=%{lat}<br>경도=%{lon}<extra></extra>",
           "lat": [
            30.72888
           ],
           "legendgroup": "B",
           "lon": [
            130.85502
           ],
           "marker": {
            "color": "#636efa"
           },
           "mode": "markers",
           "name": "B",
           "showlegend": true,
           "subplot": "mapbox",
           "type": "scattermapbox"
          }
         ],
         "name": "2016-10-22"
        },
        {
         "data": [
          {
           "hovertemplate": "감도=B<br>일자=2016-10-23<br>위도=%{lat}<br>경도=%{lon}<extra></extra>",
           "lat": [
            30.70774
           ],
           "legendgroup": "B",
           "lon": [
            130.93239
           ],
           "marker": {
            "color": "#636efa"
           },
           "mode": "markers",
           "name": "B",
           "showlegend": true,
           "subplot": "mapbox",
           "type": "scattermapbox"
          }
         ],
         "name": "2016-10-23"
        },
        {
         "data": [
          {
           "hovertemplate": "감도=B<br>일자=2016-10-24<br>위도=%{lat}<br>경도=%{lon}<extra></extra>",
           "lat": [
            30.74967
           ],
           "legendgroup": "B",
           "lon": [
            130.85937
           ],
           "marker": {
            "color": "#636efa"
           },
           "mode": "markers",
           "name": "B",
           "showlegend": true,
           "subplot": "mapbox",
           "type": "scattermapbox"
          }
         ],
         "name": "2016-10-24"
        },
        {
         "data": [
          {
           "hovertemplate": "감도=A<br>일자=2016-10-25<br>위도=%{lat}<br>경도=%{lon}<extra></extra>",
           "lat": [
            30.75209
           ],
           "legendgroup": "A",
           "lon": [
            130.87008
           ],
           "marker": {
            "color": "#00cc96"
           },
           "mode": "markers",
           "name": "A",
           "showlegend": true,
           "subplot": "mapbox",
           "type": "scattermapbox"
          }
         ],
         "name": "2016-10-25"
        },
        {
         "data": [
          {
           "hovertemplate": "감도=B<br>일자=2016-10-26<br>위도=%{lat}<br>경도=%{lon}<extra></extra>",
           "lat": [
            30.74197
           ],
           "legendgroup": "B",
           "lon": [
            130.88457
           ],
           "marker": {
            "color": "#636efa"
           },
           "mode": "markers",
           "name": "B",
           "showlegend": true,
           "subplot": "mapbox",
           "type": "scattermapbox"
          }
         ],
         "name": "2016-10-26"
        },
        {
         "data": [
          {
           "hovertemplate": "감도=B<br>일자=2016-10-27<br>위도=%{lat}<br>경도=%{lon}<extra></extra>",
           "lat": [
            30.73277
           ],
           "legendgroup": "B",
           "lon": [
            130.92118
           ],
           "marker": {
            "color": "#636efa"
           },
           "mode": "markers",
           "name": "B",
           "showlegend": true,
           "subplot": "mapbox",
           "type": "scattermapbox"
          }
         ],
         "name": "2016-10-27"
        },
        {
         "data": [
          {
           "hovertemplate": "감도=2<br>일자=2016-10-28<br>위도=%{lat}<br>경도=%{lon}<extra></extra>",
           "lat": [
            30.75258
           ],
           "legendgroup": "2",
           "lon": [
            130.8705
           ],
           "marker": {
            "color": "#ab63fa"
           },
           "mode": "markers",
           "name": "2",
           "showlegend": true,
           "subplot": "mapbox",
           "type": "scattermapbox"
          }
         ],
         "name": "2016-10-28"
        },
        {
         "data": [
          {
           "hovertemplate": "감도=B<br>일자=2016-10-29<br>위도=%{lat}<br>경도=%{lon}<extra></extra>",
           "lat": [
            30.74751
           ],
           "legendgroup": "B",
           "lon": [
            130.86777
           ],
           "marker": {
            "color": "#636efa"
           },
           "mode": "markers",
           "name": "B",
           "showlegend": true,
           "subplot": "mapbox",
           "type": "scattermapbox"
          }
         ],
         "name": "2016-10-29"
        }
       ],
       "layout": {
        "height": 750,
        "legend": {
         "title": {
          "text": "감도"
         },
         "tracegroupgap": 0
        },
        "mapbox": {
         "center": {
          "lat": 33,
          "lon": 129
         },
         "domain": {
          "x": [
           0,
           1
          ],
          "y": [
           0,
           1
          ]
         },
         "layers": [
          {
           "below": "traces",
           "source": [
            "http://mt0.google.com/vt/lyrs=y&hl=en&x={x}&y={y}&z={z}&s=Ga"
           ],
           "sourceattribution": "vWorld",
           "sourcetype": "raster"
          }
         ],
         "style": "white-bg",
         "zoom": 6
        },
        "margin": {
         "b": 0,
         "l": 0,
         "r": 0,
         "t": 0
        },
        "sliders": [
         {
          "active": 0,
          "currentvalue": {
           "prefix": "일자="
          },
          "len": 0.9,
          "pad": {
           "b": 10,
           "t": 60
          },
          "steps": [
           {
            "args": [
             [
              "2015-10-29"
             ],
             {
              "frame": {
               "duration": 0,
               "redraw": true
              },
              "fromcurrent": true,
              "mode": "immediate",
              "transition": {
               "duration": 0,
               "easing": "linear"
              }
             }
            ],
            "label": "2015-10-29",
            "method": "animate"
           },
           {
            "args": [
             [
              "2015-10-30"
             ],
             {
              "frame": {
               "duration": 0,
               "redraw": true
              },
              "fromcurrent": true,
              "mode": "immediate",
              "transition": {
               "duration": 0,
               "easing": "linear"
              }
             }
            ],
            "label": "2015-10-30",
            "method": "animate"
           },
           {
            "args": [
             [
              "2015-10-31"
             ],
             {
              "frame": {
               "duration": 0,
               "redraw": true
              },
              "fromcurrent": true,
              "mode": "immediate",
              "transition": {
               "duration": 0,
               "easing": "linear"
              }
             }
            ],
            "label": "2015-10-31",
            "method": "animate"
           },
           {
            "args": [
             [
              "2015-11-01"
             ],
             {
              "frame": {
               "duration": 0,
               "redraw": true
              },
              "fromcurrent": true,
              "mode": "immediate",
              "transition": {
               "duration": 0,
               "easing": "linear"
              }
             }
            ],
            "label": "2015-11-01",
            "method": "animate"
           },
           {
            "args": [
             [
              "2015-11-02"
             ],
             {
              "frame": {
               "duration": 0,
               "redraw": true
              },
              "fromcurrent": true,
              "mode": "immediate",
              "transition": {
               "duration": 0,
               "easing": "linear"
              }
             }
            ],
            "label": "2015-11-02",
            "method": "animate"
           },
           {
            "args": [
             [
              "2015-11-03"
             ],
             {
              "frame": {
               "duration": 0,
               "redraw": true
              },
              "fromcurrent": true,
              "mode": "immediate",
              "transition": {
               "duration": 0,
               "easing": "linear"
              }
             }
            ],
            "label": "2015-11-03",
            "method": "animate"
           },
           {
            "args": [
             [
              "2015-11-04"
             ],
             {
              "frame": {
               "duration": 0,
               "redraw": true
              },
              "fromcurrent": true,
              "mode": "immediate",
              "transition": {
               "duration": 0,
               "easing": "linear"
              }
             }
            ],
            "label": "2015-11-04",
            "method": "animate"
           },
           {
            "args": [
             [
              "2015-11-05"
             ],
             {
              "frame": {
               "duration": 0,
               "redraw": true
              },
              "fromcurrent": true,
              "mode": "immediate",
              "transition": {
               "duration": 0,
               "easing": "linear"
              }
             }
            ],
            "label": "2015-11-05",
            "method": "animate"
           },
           {
            "args": [
             [
              "2015-11-06"
             ],
             {
              "frame": {
               "duration": 0,
               "redraw": true
              },
              "fromcurrent": true,
              "mode": "immediate",
              "transition": {
               "duration": 0,
               "easing": "linear"
              }
             }
            ],
            "label": "2015-11-06",
            "method": "animate"
           },
           {
            "args": [
             [
              "2015-11-07"
             ],
             {
              "frame": {
               "duration": 0,
               "redraw": true
              },
              "fromcurrent": true,
              "mode": "immediate",
              "transition": {
               "duration": 0,
               "easing": "linear"
              }
             }
            ],
            "label": "2015-11-07",
            "method": "animate"
           },
           {
            "args": [
             [
              "2015-11-08"
             ],
             {
              "frame": {
               "duration": 0,
               "redraw": true
              },
              "fromcurrent": true,
              "mode": "immediate",
              "transition": {
               "duration": 0,
               "easing": "linear"
              }
             }
            ],
            "label": "2015-11-08",
            "method": "animate"
           },
           {
            "args": [
             [
              "2015-11-09"
             ],
             {
              "frame": {
               "duration": 0,
               "redraw": true
              },
              "fromcurrent": true,
              "mode": "immediate",
              "transition": {
               "duration": 0,
               "easing": "linear"
              }
             }
            ],
            "label": "2015-11-09",
            "method": "animate"
           },
           {
            "args": [
             [
              "2015-11-10"
             ],
             {
              "frame": {
               "duration": 0,
               "redraw": true
              },
              "fromcurrent": true,
              "mode": "immediate",
              "transition": {
               "duration": 0,
               "easing": "linear"
              }
             }
            ],
            "label": "2015-11-10",
            "method": "animate"
           },
           {
            "args": [
             [
              "2015-11-11"
             ],
             {
              "frame": {
               "duration": 0,
               "redraw": true
              },
              "fromcurrent": true,
              "mode": "immediate",
              "transition": {
               "duration": 0,
               "easing": "linear"
              }
             }
            ],
            "label": "2015-11-11",
            "method": "animate"
           },
           {
            "args": [
             [
              "2015-11-12"
             ],
             {
              "frame": {
               "duration": 0,
               "redraw": true
              },
              "fromcurrent": true,
              "mode": "immediate",
              "transition": {
               "duration": 0,
               "easing": "linear"
              }
             }
            ],
            "label": "2015-11-12",
            "method": "animate"
           },
           {
            "args": [
             [
              "2015-11-13"
             ],
             {
              "frame": {
               "duration": 0,
               "redraw": true
              },
              "fromcurrent": true,
              "mode": "immediate",
              "transition": {
               "duration": 0,
               "easing": "linear"
              }
             }
            ],
            "label": "2015-11-13",
            "method": "animate"
           },
           {
            "args": [
             [
              "2015-11-14"
             ],
             {
              "frame": {
               "duration": 0,
               "redraw": true
              },
              "fromcurrent": true,
              "mode": "immediate",
              "transition": {
               "duration": 0,
               "easing": "linear"
              }
             }
            ],
            "label": "2015-11-14",
            "method": "animate"
           },
           {
            "args": [
             [
              "2015-11-15"
             ],
             {
              "frame": {
               "duration": 0,
               "redraw": true
              },
              "fromcurrent": true,
              "mode": "immediate",
              "transition": {
               "duration": 0,
               "easing": "linear"
              }
             }
            ],
            "label": "2015-11-15",
            "method": "animate"
           },
           {
            "args": [
             [
              "2015-11-16"
             ],
             {
              "frame": {
               "duration": 0,
               "redraw": true
              },
              "fromcurrent": true,
              "mode": "immediate",
              "transition": {
               "duration": 0,
               "easing": "linear"
              }
             }
            ],
            "label": "2015-11-16",
            "method": "animate"
           },
           {
            "args": [
             [
              "2015-11-17"
             ],
             {
              "frame": {
               "duration": 0,
               "redraw": true
              },
              "fromcurrent": true,
              "mode": "immediate",
              "transition": {
               "duration": 0,
               "easing": "linear"
              }
             }
            ],
            "label": "2015-11-17",
            "method": "animate"
           },
           {
            "args": [
             [
              "2015-11-18"
             ],
             {
              "frame": {
               "duration": 0,
               "redraw": true
              },
              "fromcurrent": true,
              "mode": "immediate",
              "transition": {
               "duration": 0,
               "easing": "linear"
              }
             }
            ],
            "label": "2015-11-18",
            "method": "animate"
           },
           {
            "args": [
             [
              "2015-11-19"
             ],
             {
              "frame": {
               "duration": 0,
               "redraw": true
              },
              "fromcurrent": true,
              "mode": "immediate",
              "transition": {
               "duration": 0,
               "easing": "linear"
              }
             }
            ],
            "label": "2015-11-19",
            "method": "animate"
           },
           {
            "args": [
             [
              "2015-11-20"
             ],
             {
              "frame": {
               "duration": 0,
               "redraw": true
              },
              "fromcurrent": true,
              "mode": "immediate",
              "transition": {
               "duration": 0,
               "easing": "linear"
              }
             }
            ],
            "label": "2015-11-20",
            "method": "animate"
           },
           {
            "args": [
             [
              "2015-11-21"
             ],
             {
              "frame": {
               "duration": 0,
               "redraw": true
              },
              "fromcurrent": true,
              "mode": "immediate",
              "transition": {
               "duration": 0,
               "easing": "linear"
              }
             }
            ],
            "label": "2015-11-21",
            "method": "animate"
           },
           {
            "args": [
             [
              "2015-11-22"
             ],
             {
              "frame": {
               "duration": 0,
               "redraw": true
              },
              "fromcurrent": true,
              "mode": "immediate",
              "transition": {
               "duration": 0,
               "easing": "linear"
              }
             }
            ],
            "label": "2015-11-22",
            "method": "animate"
           },
           {
            "args": [
             [
              "2015-11-23"
             ],
             {
              "frame": {
               "duration": 0,
               "redraw": true
              },
              "fromcurrent": true,
              "mode": "immediate",
              "transition": {
               "duration": 0,
               "easing": "linear"
              }
             }
            ],
            "label": "2015-11-23",
            "method": "animate"
           },
           {
            "args": [
             [
              "2015-11-24"
             ],
             {
              "frame": {
               "duration": 0,
               "redraw": true
              },
              "fromcurrent": true,
              "mode": "immediate",
              "transition": {
               "duration": 0,
               "easing": "linear"
              }
             }
            ],
            "label": "2015-11-24",
            "method": "animate"
           },
           {
            "args": [
             [
              "2015-11-25"
             ],
             {
              "frame": {
               "duration": 0,
               "redraw": true
              },
              "fromcurrent": true,
              "mode": "immediate",
              "transition": {
               "duration": 0,
               "easing": "linear"
              }
             }
            ],
            "label": "2015-11-25",
            "method": "animate"
           },
           {
            "args": [
             [
              "2015-11-26"
             ],
             {
              "frame": {
               "duration": 0,
               "redraw": true
              },
              "fromcurrent": true,
              "mode": "immediate",
              "transition": {
               "duration": 0,
               "easing": "linear"
              }
             }
            ],
            "label": "2015-11-26",
            "method": "animate"
           },
           {
            "args": [
             [
              "2015-11-27"
             ],
             {
              "frame": {
               "duration": 0,
               "redraw": true
              },
              "fromcurrent": true,
              "mode": "immediate",
              "transition": {
               "duration": 0,
               "easing": "linear"
              }
             }
            ],
            "label": "2015-11-27",
            "method": "animate"
           },
           {
            "args": [
             [
              "2015-11-28"
             ],
             {
              "frame": {
               "duration": 0,
               "redraw": true
              },
              "fromcurrent": true,
              "mode": "immediate",
              "transition": {
               "duration": 0,
               "easing": "linear"
              }
             }
            ],
            "label": "2015-11-28",
            "method": "animate"
           },
           {
            "args": [
             [
              "2015-11-29"
             ],
             {
              "frame": {
               "duration": 0,
               "redraw": true
              },
              "fromcurrent": true,
              "mode": "immediate",
              "transition": {
               "duration": 0,
               "easing": "linear"
              }
             }
            ],
            "label": "2015-11-29",
            "method": "animate"
           },
           {
            "args": [
             [
              "2015-11-30"
             ],
             {
              "frame": {
               "duration": 0,
               "redraw": true
              },
              "fromcurrent": true,
              "mode": "immediate",
              "transition": {
               "duration": 0,
               "easing": "linear"
              }
             }
            ],
            "label": "2015-11-30",
            "method": "animate"
           },
           {
            "args": [
             [
              "2015-12-01"
             ],
             {
              "frame": {
               "duration": 0,
               "redraw": true
              },
              "fromcurrent": true,
              "mode": "immediate",
              "transition": {
               "duration": 0,
               "easing": "linear"
              }
             }
            ],
            "label": "2015-12-01",
            "method": "animate"
           },
           {
            "args": [
             [
              "2015-12-02"
             ],
             {
              "frame": {
               "duration": 0,
               "redraw": true
              },
              "fromcurrent": true,
              "mode": "immediate",
              "transition": {
               "duration": 0,
               "easing": "linear"
              }
             }
            ],
            "label": "2015-12-02",
            "method": "animate"
           },
           {
            "args": [
             [
              "2015-12-03"
             ],
             {
              "frame": {
               "duration": 0,
               "redraw": true
              },
              "fromcurrent": true,
              "mode": "immediate",
              "transition": {
               "duration": 0,
               "easing": "linear"
              }
             }
            ],
            "label": "2015-12-03",
            "method": "animate"
           },
           {
            "args": [
             [
              "2015-12-04"
             ],
             {
              "frame": {
               "duration": 0,
               "redraw": true
              },
              "fromcurrent": true,
              "mode": "immediate",
              "transition": {
               "duration": 0,
               "easing": "linear"
              }
             }
            ],
            "label": "2015-12-04",
            "method": "animate"
           },
           {
            "args": [
             [
              "2015-12-05"
             ],
             {
              "frame": {
               "duration": 0,
               "redraw": true
              },
              "fromcurrent": true,
              "mode": "immediate",
              "transition": {
               "duration": 0,
               "easing": "linear"
              }
             }
            ],
            "label": "2015-12-05",
            "method": "animate"
           },
           {
            "args": [
             [
              "2015-12-06"
             ],
             {
              "frame": {
               "duration": 0,
               "redraw": true
              },
              "fromcurrent": true,
              "mode": "immediate",
              "transition": {
               "duration": 0,
               "easing": "linear"
              }
             }
            ],
            "label": "2015-12-06",
            "method": "animate"
           },
           {
            "args": [
             [
              "2015-12-07"
             ],
             {
              "frame": {
               "duration": 0,
               "redraw": true
              },
              "fromcurrent": true,
              "mode": "immediate",
              "transition": {
               "duration": 0,
               "easing": "linear"
              }
             }
            ],
            "label": "2015-12-07",
            "method": "animate"
           },
           {
            "args": [
             [
              "2015-12-08"
             ],
             {
              "frame": {
               "duration": 0,
               "redraw": true
              },
              "fromcurrent": true,
              "mode": "immediate",
              "transition": {
               "duration": 0,
               "easing": "linear"
              }
             }
            ],
            "label": "2015-12-08",
            "method": "animate"
           },
           {
            "args": [
             [
              "2015-12-09"
             ],
             {
              "frame": {
               "duration": 0,
               "redraw": true
              },
              "fromcurrent": true,
              "mode": "immediate",
              "transition": {
               "duration": 0,
               "easing": "linear"
              }
             }
            ],
            "label": "2015-12-09",
            "method": "animate"
           },
           {
            "args": [
             [
              "2015-12-10"
             ],
             {
              "frame": {
               "duration": 0,
               "redraw": true
              },
              "fromcurrent": true,
              "mode": "immediate",
              "transition": {
               "duration": 0,
               "easing": "linear"
              }
             }
            ],
            "label": "2015-12-10",
            "method": "animate"
           },
           {
            "args": [
             [
              "2015-12-11"
             ],
             {
              "frame": {
               "duration": 0,
               "redraw": true
              },
              "fromcurrent": true,
              "mode": "immediate",
              "transition": {
               "duration": 0,
               "easing": "linear"
              }
             }
            ],
            "label": "2015-12-11",
            "method": "animate"
           },
           {
            "args": [
             [
              "2015-12-12"
             ],
             {
              "frame": {
               "duration": 0,
               "redraw": true
              },
              "fromcurrent": true,
              "mode": "immediate",
              "transition": {
               "duration": 0,
               "easing": "linear"
              }
             }
            ],
            "label": "2015-12-12",
            "method": "animate"
           },
           {
            "args": [
             [
              "2015-12-13"
             ],
             {
              "frame": {
               "duration": 0,
               "redraw": true
              },
              "fromcurrent": true,
              "mode": "immediate",
              "transition": {
               "duration": 0,
               "easing": "linear"
              }
             }
            ],
            "label": "2015-12-13",
            "method": "animate"
           },
           {
            "args": [
             [
              "2015-12-14"
             ],
             {
              "frame": {
               "duration": 0,
               "redraw": true
              },
              "fromcurrent": true,
              "mode": "immediate",
              "transition": {
               "duration": 0,
               "easing": "linear"
              }
             }
            ],
            "label": "2015-12-14",
            "method": "animate"
           },
           {
            "args": [
             [
              "2015-12-15"
             ],
             {
              "frame": {
               "duration": 0,
               "redraw": true
              },
              "fromcurrent": true,
              "mode": "immediate",
              "transition": {
               "duration": 0,
               "easing": "linear"
              }
             }
            ],
            "label": "2015-12-15",
            "method": "animate"
           },
           {
            "args": [
             [
              "2015-12-16"
             ],
             {
              "frame": {
               "duration": 0,
               "redraw": true
              },
              "fromcurrent": true,
              "mode": "immediate",
              "transition": {
               "duration": 0,
               "easing": "linear"
              }
             }
            ],
            "label": "2015-12-16",
            "method": "animate"
           },
           {
            "args": [
             [
              "2015-12-17"
             ],
             {
              "frame": {
               "duration": 0,
               "redraw": true
              },
              "fromcurrent": true,
              "mode": "immediate",
              "transition": {
               "duration": 0,
               "easing": "linear"
              }
             }
            ],
            "label": "2015-12-17",
            "method": "animate"
           },
           {
            "args": [
             [
              "2015-12-18"
             ],
             {
              "frame": {
               "duration": 0,
               "redraw": true
              },
              "fromcurrent": true,
              "mode": "immediate",
              "transition": {
               "duration": 0,
               "easing": "linear"
              }
             }
            ],
            "label": "2015-12-18",
            "method": "animate"
           },
           {
            "args": [
             [
              "2015-12-19"
             ],
             {
              "frame": {
               "duration": 0,
               "redraw": true
              },
              "fromcurrent": true,
              "mode": "immediate",
              "transition": {
               "duration": 0,
               "easing": "linear"
              }
             }
            ],
            "label": "2015-12-19",
            "method": "animate"
           },
           {
            "args": [
             [
              "2015-12-20"
             ],
             {
              "frame": {
               "duration": 0,
               "redraw": true
              },
              "fromcurrent": true,
              "mode": "immediate",
              "transition": {
               "duration": 0,
               "easing": "linear"
              }
             }
            ],
            "label": "2015-12-20",
            "method": "animate"
           },
           {
            "args": [
             [
              "2015-12-21"
             ],
             {
              "frame": {
               "duration": 0,
               "redraw": true
              },
              "fromcurrent": true,
              "mode": "immediate",
              "transition": {
               "duration": 0,
               "easing": "linear"
              }
             }
            ],
            "label": "2015-12-21",
            "method": "animate"
           },
           {
            "args": [
             [
              "2015-12-22"
             ],
             {
              "frame": {
               "duration": 0,
               "redraw": true
              },
              "fromcurrent": true,
              "mode": "immediate",
              "transition": {
               "duration": 0,
               "easing": "linear"
              }
             }
            ],
            "label": "2015-12-22",
            "method": "animate"
           },
           {
            "args": [
             [
              "2015-12-23"
             ],
             {
              "frame": {
               "duration": 0,
               "redraw": true
              },
              "fromcurrent": true,
              "mode": "immediate",
              "transition": {
               "duration": 0,
               "easing": "linear"
              }
             }
            ],
            "label": "2015-12-23",
            "method": "animate"
           },
           {
            "args": [
             [
              "2015-12-24"
             ],
             {
              "frame": {
               "duration": 0,
               "redraw": true
              },
              "fromcurrent": true,
              "mode": "immediate",
              "transition": {
               "duration": 0,
               "easing": "linear"
              }
             }
            ],
            "label": "2015-12-24",
            "method": "animate"
           },
           {
            "args": [
             [
              "2015-12-25"
             ],
             {
              "frame": {
               "duration": 0,
               "redraw": true
              },
              "fromcurrent": true,
              "mode": "immediate",
              "transition": {
               "duration": 0,
               "easing": "linear"
              }
             }
            ],
            "label": "2015-12-25",
            "method": "animate"
           },
           {
            "args": [
             [
              "2015-12-26"
             ],
             {
              "frame": {
               "duration": 0,
               "redraw": true
              },
              "fromcurrent": true,
              "mode": "immediate",
              "transition": {
               "duration": 0,
               "easing": "linear"
              }
             }
            ],
            "label": "2015-12-26",
            "method": "animate"
           },
           {
            "args": [
             [
              "2015-12-27"
             ],
             {
              "frame": {
               "duration": 0,
               "redraw": true
              },
              "fromcurrent": true,
              "mode": "immediate",
              "transition": {
               "duration": 0,
               "easing": "linear"
              }
             }
            ],
            "label": "2015-12-27",
            "method": "animate"
           },
           {
            "args": [
             [
              "2015-12-28"
             ],
             {
              "frame": {
               "duration": 0,
               "redraw": true
              },
              "fromcurrent": true,
              "mode": "immediate",
              "transition": {
               "duration": 0,
               "easing": "linear"
              }
             }
            ],
            "label": "2015-12-28",
            "method": "animate"
           },
           {
            "args": [
             [
              "2015-12-29"
             ],
             {
              "frame": {
               "duration": 0,
               "redraw": true
              },
              "fromcurrent": true,
              "mode": "immediate",
              "transition": {
               "duration": 0,
               "easing": "linear"
              }
             }
            ],
            "label": "2015-12-29",
            "method": "animate"
           },
           {
            "args": [
             [
              "2015-12-30"
             ],
             {
              "frame": {
               "duration": 0,
               "redraw": true
              },
              "fromcurrent": true,
              "mode": "immediate",
              "transition": {
               "duration": 0,
               "easing": "linear"
              }
             }
            ],
            "label": "2015-12-30",
            "method": "animate"
           },
           {
            "args": [
             [
              "2015-12-31"
             ],
             {
              "frame": {
               "duration": 0,
               "redraw": true
              },
              "fromcurrent": true,
              "mode": "immediate",
              "transition": {
               "duration": 0,
               "easing": "linear"
              }
             }
            ],
            "label": "2015-12-31",
            "method": "animate"
           },
           {
            "args": [
             [
              "2016-01-01"
             ],
             {
              "frame": {
               "duration": 0,
               "redraw": true
              },
              "fromcurrent": true,
              "mode": "immediate",
              "transition": {
               "duration": 0,
               "easing": "linear"
              }
             }
            ],
            "label": "2016-01-01",
            "method": "animate"
           },
           {
            "args": [
             [
              "2016-01-02"
             ],
             {
              "frame": {
               "duration": 0,
               "redraw": true
              },
              "fromcurrent": true,
              "mode": "immediate",
              "transition": {
               "duration": 0,
               "easing": "linear"
              }
             }
            ],
            "label": "2016-01-02",
            "method": "animate"
           },
           {
            "args": [
             [
              "2016-01-03"
             ],
             {
              "frame": {
               "duration": 0,
               "redraw": true
              },
              "fromcurrent": true,
              "mode": "immediate",
              "transition": {
               "duration": 0,
               "easing": "linear"
              }
             }
            ],
            "label": "2016-01-03",
            "method": "animate"
           },
           {
            "args": [
             [
              "2016-01-04"
             ],
             {
              "frame": {
               "duration": 0,
               "redraw": true
              },
              "fromcurrent": true,
              "mode": "immediate",
              "transition": {
               "duration": 0,
               "easing": "linear"
              }
             }
            ],
            "label": "2016-01-04",
            "method": "animate"
           },
           {
            "args": [
             [
              "2016-01-05"
             ],
             {
              "frame": {
               "duration": 0,
               "redraw": true
              },
              "fromcurrent": true,
              "mode": "immediate",
              "transition": {
               "duration": 0,
               "easing": "linear"
              }
             }
            ],
            "label": "2016-01-05",
            "method": "animate"
           },
           {
            "args": [
             [
              "2016-01-06"
             ],
             {
              "frame": {
               "duration": 0,
               "redraw": true
              },
              "fromcurrent": true,
              "mode": "immediate",
              "transition": {
               "duration": 0,
               "easing": "linear"
              }
             }
            ],
            "label": "2016-01-06",
            "method": "animate"
           },
           {
            "args": [
             [
              "2016-01-07"
             ],
             {
              "frame": {
               "duration": 0,
               "redraw": true
              },
              "fromcurrent": true,
              "mode": "immediate",
              "transition": {
               "duration": 0,
               "easing": "linear"
              }
             }
            ],
            "label": "2016-01-07",
            "method": "animate"
           },
           {
            "args": [
             [
              "2016-01-08"
             ],
             {
              "frame": {
               "duration": 0,
               "redraw": true
              },
              "fromcurrent": true,
              "mode": "immediate",
              "transition": {
               "duration": 0,
               "easing": "linear"
              }
             }
            ],
            "label": "2016-01-08",
            "method": "animate"
           },
           {
            "args": [
             [
              "2016-01-09"
             ],
             {
              "frame": {
               "duration": 0,
               "redraw": true
              },
              "fromcurrent": true,
              "mode": "immediate",
              "transition": {
               "duration": 0,
               "easing": "linear"
              }
             }
            ],
            "label": "2016-01-09",
            "method": "animate"
           },
           {
            "args": [
             [
              "2016-01-14"
             ],
             {
              "frame": {
               "duration": 0,
               "redraw": true
              },
              "fromcurrent": true,
              "mode": "immediate",
              "transition": {
               "duration": 0,
               "easing": "linear"
              }
             }
            ],
            "label": "2016-01-14",
            "method": "animate"
           },
           {
            "args": [
             [
              "2016-01-15"
             ],
             {
              "frame": {
               "duration": 0,
               "redraw": true
              },
              "fromcurrent": true,
              "mode": "immediate",
              "transition": {
               "duration": 0,
               "easing": "linear"
              }
             }
            ],
            "label": "2016-01-15",
            "method": "animate"
           },
           {
            "args": [
             [
              "2016-01-16"
             ],
             {
              "frame": {
               "duration": 0,
               "redraw": true
              },
              "fromcurrent": true,
              "mode": "immediate",
              "transition": {
               "duration": 0,
               "easing": "linear"
              }
             }
            ],
            "label": "2016-01-16",
            "method": "animate"
           },
           {
            "args": [
             [
              "2016-01-17"
             ],
             {
              "frame": {
               "duration": 0,
               "redraw": true
              },
              "fromcurrent": true,
              "mode": "immediate",
              "transition": {
               "duration": 0,
               "easing": "linear"
              }
             }
            ],
            "label": "2016-01-17",
            "method": "animate"
           },
           {
            "args": [
             [
              "2016-01-18"
             ],
             {
              "frame": {
               "duration": 0,
               "redraw": true
              },
              "fromcurrent": true,
              "mode": "immediate",
              "transition": {
               "duration": 0,
               "easing": "linear"
              }
             }
            ],
            "label": "2016-01-18",
            "method": "animate"
           },
           {
            "args": [
             [
              "2016-01-19"
             ],
             {
              "frame": {
               "duration": 0,
               "redraw": true
              },
              "fromcurrent": true,
              "mode": "immediate",
              "transition": {
               "duration": 0,
               "easing": "linear"
              }
             }
            ],
            "label": "2016-01-19",
            "method": "animate"
           },
           {
            "args": [
             [
              "2016-01-20"
             ],
             {
              "frame": {
               "duration": 0,
               "redraw": true
              },
              "fromcurrent": true,
              "mode": "immediate",
              "transition": {
               "duration": 0,
               "easing": "linear"
              }
             }
            ],
            "label": "2016-01-20",
            "method": "animate"
           },
           {
            "args": [
             [
              "2016-01-24"
             ],
             {
              "frame": {
               "duration": 0,
               "redraw": true
              },
              "fromcurrent": true,
              "mode": "immediate",
              "transition": {
               "duration": 0,
               "easing": "linear"
              }
             }
            ],
            "label": "2016-01-24",
            "method": "animate"
           },
           {
            "args": [
             [
              "2016-01-25"
             ],
             {
              "frame": {
               "duration": 0,
               "redraw": true
              },
              "fromcurrent": true,
              "mode": "immediate",
              "transition": {
               "duration": 0,
               "easing": "linear"
              }
             }
            ],
            "label": "2016-01-25",
            "method": "animate"
           },
           {
            "args": [
             [
              "2016-01-26"
             ],
             {
              "frame": {
               "duration": 0,
               "redraw": true
              },
              "fromcurrent": true,
              "mode": "immediate",
              "transition": {
               "duration": 0,
               "easing": "linear"
              }
             }
            ],
            "label": "2016-01-26",
            "method": "animate"
           },
           {
            "args": [
             [
              "2016-01-28"
             ],
             {
              "frame": {
               "duration": 0,
               "redraw": true
              },
              "fromcurrent": true,
              "mode": "immediate",
              "transition": {
               "duration": 0,
               "easing": "linear"
              }
             }
            ],
            "label": "2016-01-28",
            "method": "animate"
           },
           {
            "args": [
             [
              "2016-01-29"
             ],
             {
              "frame": {
               "duration": 0,
               "redraw": true
              },
              "fromcurrent": true,
              "mode": "immediate",
              "transition": {
               "duration": 0,
               "easing": "linear"
              }
             }
            ],
            "label": "2016-01-29",
            "method": "animate"
           },
           {
            "args": [
             [
              "2016-01-30"
             ],
             {
              "frame": {
               "duration": 0,
               "redraw": true
              },
              "fromcurrent": true,
              "mode": "immediate",
              "transition": {
               "duration": 0,
               "easing": "linear"
              }
             }
            ],
            "label": "2016-01-30",
            "method": "animate"
           },
           {
            "args": [
             [
              "2016-01-31"
             ],
             {
              "frame": {
               "duration": 0,
               "redraw": true
              },
              "fromcurrent": true,
              "mode": "immediate",
              "transition": {
               "duration": 0,
               "easing": "linear"
              }
             }
            ],
            "label": "2016-01-31",
            "method": "animate"
           },
           {
            "args": [
             [
              "2016-02-01"
             ],
             {
              "frame": {
               "duration": 0,
               "redraw": true
              },
              "fromcurrent": true,
              "mode": "immediate",
              "transition": {
               "duration": 0,
               "easing": "linear"
              }
             }
            ],
            "label": "2016-02-01",
            "method": "animate"
           },
           {
            "args": [
             [
              "2016-02-02"
             ],
             {
              "frame": {
               "duration": 0,
               "redraw": true
              },
              "fromcurrent": true,
              "mode": "immediate",
              "transition": {
               "duration": 0,
               "easing": "linear"
              }
             }
            ],
            "label": "2016-02-02",
            "method": "animate"
           },
           {
            "args": [
             [
              "2016-02-04"
             ],
             {
              "frame": {
               "duration": 0,
               "redraw": true
              },
              "fromcurrent": true,
              "mode": "immediate",
              "transition": {
               "duration": 0,
               "easing": "linear"
              }
             }
            ],
            "label": "2016-02-04",
            "method": "animate"
           },
           {
            "args": [
             [
              "2016-02-05"
             ],
             {
              "frame": {
               "duration": 0,
               "redraw": true
              },
              "fromcurrent": true,
              "mode": "immediate",
              "transition": {
               "duration": 0,
               "easing": "linear"
              }
             }
            ],
            "label": "2016-02-05",
            "method": "animate"
           },
           {
            "args": [
             [
              "2016-02-07"
             ],
             {
              "frame": {
               "duration": 0,
               "redraw": true
              },
              "fromcurrent": true,
              "mode": "immediate",
              "transition": {
               "duration": 0,
               "easing": "linear"
              }
             }
            ],
            "label": "2016-02-07",
            "method": "animate"
           },
           {
            "args": [
             [
              "2016-02-08"
             ],
             {
              "frame": {
               "duration": 0,
               "redraw": true
              },
              "fromcurrent": true,
              "mode": "immediate",
              "transition": {
               "duration": 0,
               "easing": "linear"
              }
             }
            ],
            "label": "2016-02-08",
            "method": "animate"
           },
           {
            "args": [
             [
              "2016-02-09"
             ],
             {
              "frame": {
               "duration": 0,
               "redraw": true
              },
              "fromcurrent": true,
              "mode": "immediate",
              "transition": {
               "duration": 0,
               "easing": "linear"
              }
             }
            ],
            "label": "2016-02-09",
            "method": "animate"
           },
           {
            "args": [
             [
              "2016-02-10"
             ],
             {
              "frame": {
               "duration": 0,
               "redraw": true
              },
              "fromcurrent": true,
              "mode": "immediate",
              "transition": {
               "duration": 0,
               "easing": "linear"
              }
             }
            ],
            "label": "2016-02-10",
            "method": "animate"
           },
           {
            "args": [
             [
              "2016-02-15"
             ],
             {
              "frame": {
               "duration": 0,
               "redraw": true
              },
              "fromcurrent": true,
              "mode": "immediate",
              "transition": {
               "duration": 0,
               "easing": "linear"
              }
             }
            ],
            "label": "2016-02-15",
            "method": "animate"
           },
           {
            "args": [
             [
              "2016-02-16"
             ],
             {
              "frame": {
               "duration": 0,
               "redraw": true
              },
              "fromcurrent": true,
              "mode": "immediate",
              "transition": {
               "duration": 0,
               "easing": "linear"
              }
             }
            ],
            "label": "2016-02-16",
            "method": "animate"
           },
           {
            "args": [
             [
              "2016-02-17"
             ],
             {
              "frame": {
               "duration": 0,
               "redraw": true
              },
              "fromcurrent": true,
              "mode": "immediate",
              "transition": {
               "duration": 0,
               "easing": "linear"
              }
             }
            ],
            "label": "2016-02-17",
            "method": "animate"
           },
           {
            "args": [
             [
              "2016-02-18"
             ],
             {
              "frame": {
               "duration": 0,
               "redraw": true
              },
              "fromcurrent": true,
              "mode": "immediate",
              "transition": {
               "duration": 0,
               "easing": "linear"
              }
             }
            ],
            "label": "2016-02-18",
            "method": "animate"
           },
           {
            "args": [
             [
              "2016-02-19"
             ],
             {
              "frame": {
               "duration": 0,
               "redraw": true
              },
              "fromcurrent": true,
              "mode": "immediate",
              "transition": {
               "duration": 0,
               "easing": "linear"
              }
             }
            ],
            "label": "2016-02-19",
            "method": "animate"
           },
           {
            "args": [
             [
              "2016-02-20"
             ],
             {
              "frame": {
               "duration": 0,
               "redraw": true
              },
              "fromcurrent": true,
              "mode": "immediate",
              "transition": {
               "duration": 0,
               "easing": "linear"
              }
             }
            ],
            "label": "2016-02-20",
            "method": "animate"
           },
           {
            "args": [
             [
              "2016-02-21"
             ],
             {
              "frame": {
               "duration": 0,
               "redraw": true
              },
              "fromcurrent": true,
              "mode": "immediate",
              "transition": {
               "duration": 0,
               "easing": "linear"
              }
             }
            ],
            "label": "2016-02-21",
            "method": "animate"
           },
           {
            "args": [
             [
              "2016-02-22"
             ],
             {
              "frame": {
               "duration": 0,
               "redraw": true
              },
              "fromcurrent": true,
              "mode": "immediate",
              "transition": {
               "duration": 0,
               "easing": "linear"
              }
             }
            ],
            "label": "2016-02-22",
            "method": "animate"
           },
           {
            "args": [
             [
              "2016-02-25"
             ],
             {
              "frame": {
               "duration": 0,
               "redraw": true
              },
              "fromcurrent": true,
              "mode": "immediate",
              "transition": {
               "duration": 0,
               "easing": "linear"
              }
             }
            ],
            "label": "2016-02-25",
            "method": "animate"
           },
           {
            "args": [
             [
              "2016-02-26"
             ],
             {
              "frame": {
               "duration": 0,
               "redraw": true
              },
              "fromcurrent": true,
              "mode": "immediate",
              "transition": {
               "duration": 0,
               "easing": "linear"
              }
             }
            ],
            "label": "2016-02-26",
            "method": "animate"
           },
           {
            "args": [
             [
              "2016-02-27"
             ],
             {
              "frame": {
               "duration": 0,
               "redraw": true
              },
              "fromcurrent": true,
              "mode": "immediate",
              "transition": {
               "duration": 0,
               "easing": "linear"
              }
             }
            ],
            "label": "2016-02-27",
            "method": "animate"
           },
           {
            "args": [
             [
              "2016-03-01"
             ],
             {
              "frame": {
               "duration": 0,
               "redraw": true
              },
              "fromcurrent": true,
              "mode": "immediate",
              "transition": {
               "duration": 0,
               "easing": "linear"
              }
             }
            ],
            "label": "2016-03-01",
            "method": "animate"
           },
           {
            "args": [
             [
              "2016-03-02"
             ],
             {
              "frame": {
               "duration": 0,
               "redraw": true
              },
              "fromcurrent": true,
              "mode": "immediate",
              "transition": {
               "duration": 0,
               "easing": "linear"
              }
             }
            ],
            "label": "2016-03-02",
            "method": "animate"
           },
           {
            "args": [
             [
              "2016-03-03"
             ],
             {
              "frame": {
               "duration": 0,
               "redraw": true
              },
              "fromcurrent": true,
              "mode": "immediate",
              "transition": {
               "duration": 0,
               "easing": "linear"
              }
             }
            ],
            "label": "2016-03-03",
            "method": "animate"
           },
           {
            "args": [
             [
              "2016-03-04"
             ],
             {
              "frame": {
               "duration": 0,
               "redraw": true
              },
              "fromcurrent": true,
              "mode": "immediate",
              "transition": {
               "duration": 0,
               "easing": "linear"
              }
             }
            ],
            "label": "2016-03-04",
            "method": "animate"
           },
           {
            "args": [
             [
              "2016-03-06"
             ],
             {
              "frame": {
               "duration": 0,
               "redraw": true
              },
              "fromcurrent": true,
              "mode": "immediate",
              "transition": {
               "duration": 0,
               "easing": "linear"
              }
             }
            ],
            "label": "2016-03-06",
            "method": "animate"
           },
           {
            "args": [
             [
              "2016-03-07"
             ],
             {
              "frame": {
               "duration": 0,
               "redraw": true
              },
              "fromcurrent": true,
              "mode": "immediate",
              "transition": {
               "duration": 0,
               "easing": "linear"
              }
             }
            ],
            "label": "2016-03-07",
            "method": "animate"
           },
           {
            "args": [
             [
              "2016-03-08"
             ],
             {
              "frame": {
               "duration": 0,
               "redraw": true
              },
              "fromcurrent": true,
              "mode": "immediate",
              "transition": {
               "duration": 0,
               "easing": "linear"
              }
             }
            ],
            "label": "2016-03-08",
            "method": "animate"
           },
           {
            "args": [
             [
              "2016-03-11"
             ],
             {
              "frame": {
               "duration": 0,
               "redraw": true
              },
              "fromcurrent": true,
              "mode": "immediate",
              "transition": {
               "duration": 0,
               "easing": "linear"
              }
             }
            ],
            "label": "2016-03-11",
            "method": "animate"
           },
           {
            "args": [
             [
              "2016-03-12"
             ],
             {
              "frame": {
               "duration": 0,
               "redraw": true
              },
              "fromcurrent": true,
              "mode": "immediate",
              "transition": {
               "duration": 0,
               "easing": "linear"
              }
             }
            ],
            "label": "2016-03-12",
            "method": "animate"
           },
           {
            "args": [
             [
              "2016-03-13"
             ],
             {
              "frame": {
               "duration": 0,
               "redraw": true
              },
              "fromcurrent": true,
              "mode": "immediate",
              "transition": {
               "duration": 0,
               "easing": "linear"
              }
             }
            ],
            "label": "2016-03-13",
            "method": "animate"
           },
           {
            "args": [
             [
              "2016-03-14"
             ],
             {
              "frame": {
               "duration": 0,
               "redraw": true
              },
              "fromcurrent": true,
              "mode": "immediate",
              "transition": {
               "duration": 0,
               "easing": "linear"
              }
             }
            ],
            "label": "2016-03-14",
            "method": "animate"
           },
           {
            "args": [
             [
              "2016-03-15"
             ],
             {
              "frame": {
               "duration": 0,
               "redraw": true
              },
              "fromcurrent": true,
              "mode": "immediate",
              "transition": {
               "duration": 0,
               "easing": "linear"
              }
             }
            ],
            "label": "2016-03-15",
            "method": "animate"
           },
           {
            "args": [
             [
              "2016-03-16"
             ],
             {
              "frame": {
               "duration": 0,
               "redraw": true
              },
              "fromcurrent": true,
              "mode": "immediate",
              "transition": {
               "duration": 0,
               "easing": "linear"
              }
             }
            ],
            "label": "2016-03-16",
            "method": "animate"
           },
           {
            "args": [
             [
              "2016-03-17"
             ],
             {
              "frame": {
               "duration": 0,
               "redraw": true
              },
              "fromcurrent": true,
              "mode": "immediate",
              "transition": {
               "duration": 0,
               "easing": "linear"
              }
             }
            ],
            "label": "2016-03-17",
            "method": "animate"
           },
           {
            "args": [
             [
              "2016-03-18"
             ],
             {
              "frame": {
               "duration": 0,
               "redraw": true
              },
              "fromcurrent": true,
              "mode": "immediate",
              "transition": {
               "duration": 0,
               "easing": "linear"
              }
             }
            ],
            "label": "2016-03-18",
            "method": "animate"
           },
           {
            "args": [
             [
              "2016-03-19"
             ],
             {
              "frame": {
               "duration": 0,
               "redraw": true
              },
              "fromcurrent": true,
              "mode": "immediate",
              "transition": {
               "duration": 0,
               "easing": "linear"
              }
             }
            ],
            "label": "2016-03-19",
            "method": "animate"
           },
           {
            "args": [
             [
              "2016-03-20"
             ],
             {
              "frame": {
               "duration": 0,
               "redraw": true
              },
              "fromcurrent": true,
              "mode": "immediate",
              "transition": {
               "duration": 0,
               "easing": "linear"
              }
             }
            ],
            "label": "2016-03-20",
            "method": "animate"
           },
           {
            "args": [
             [
              "2016-03-21"
             ],
             {
              "frame": {
               "duration": 0,
               "redraw": true
              },
              "fromcurrent": true,
              "mode": "immediate",
              "transition": {
               "duration": 0,
               "easing": "linear"
              }
             }
            ],
            "label": "2016-03-21",
            "method": "animate"
           },
           {
            "args": [
             [
              "2016-03-22"
             ],
             {
              "frame": {
               "duration": 0,
               "redraw": true
              },
              "fromcurrent": true,
              "mode": "immediate",
              "transition": {
               "duration": 0,
               "easing": "linear"
              }
             }
            ],
            "label": "2016-03-22",
            "method": "animate"
           },
           {
            "args": [
             [
              "2016-03-23"
             ],
             {
              "frame": {
               "duration": 0,
               "redraw": true
              },
              "fromcurrent": true,
              "mode": "immediate",
              "transition": {
               "duration": 0,
               "easing": "linear"
              }
             }
            ],
            "label": "2016-03-23",
            "method": "animate"
           },
           {
            "args": [
             [
              "2016-03-24"
             ],
             {
              "frame": {
               "duration": 0,
               "redraw": true
              },
              "fromcurrent": true,
              "mode": "immediate",
              "transition": {
               "duration": 0,
               "easing": "linear"
              }
             }
            ],
            "label": "2016-03-24",
            "method": "animate"
           },
           {
            "args": [
             [
              "2016-03-25"
             ],
             {
              "frame": {
               "duration": 0,
               "redraw": true
              },
              "fromcurrent": true,
              "mode": "immediate",
              "transition": {
               "duration": 0,
               "easing": "linear"
              }
             }
            ],
            "label": "2016-03-25",
            "method": "animate"
           },
           {
            "args": [
             [
              "2016-03-26"
             ],
             {
              "frame": {
               "duration": 0,
               "redraw": true
              },
              "fromcurrent": true,
              "mode": "immediate",
              "transition": {
               "duration": 0,
               "easing": "linear"
              }
             }
            ],
            "label": "2016-03-26",
            "method": "animate"
           },
           {
            "args": [
             [
              "2016-03-27"
             ],
             {
              "frame": {
               "duration": 0,
               "redraw": true
              },
              "fromcurrent": true,
              "mode": "immediate",
              "transition": {
               "duration": 0,
               "easing": "linear"
              }
             }
            ],
            "label": "2016-03-27",
            "method": "animate"
           },
           {
            "args": [
             [
              "2016-03-28"
             ],
             {
              "frame": {
               "duration": 0,
               "redraw": true
              },
              "fromcurrent": true,
              "mode": "immediate",
              "transition": {
               "duration": 0,
               "easing": "linear"
              }
             }
            ],
            "label": "2016-03-28",
            "method": "animate"
           },
           {
            "args": [
             [
              "2016-03-29"
             ],
             {
              "frame": {
               "duration": 0,
               "redraw": true
              },
              "fromcurrent": true,
              "mode": "immediate",
              "transition": {
               "duration": 0,
               "easing": "linear"
              }
             }
            ],
            "label": "2016-03-29",
            "method": "animate"
           },
           {
            "args": [
             [
              "2016-03-30"
             ],
             {
              "frame": {
               "duration": 0,
               "redraw": true
              },
              "fromcurrent": true,
              "mode": "immediate",
              "transition": {
               "duration": 0,
               "easing": "linear"
              }
             }
            ],
            "label": "2016-03-30",
            "method": "animate"
           },
           {
            "args": [
             [
              "2016-03-31"
             ],
             {
              "frame": {
               "duration": 0,
               "redraw": true
              },
              "fromcurrent": true,
              "mode": "immediate",
              "transition": {
               "duration": 0,
               "easing": "linear"
              }
             }
            ],
            "label": "2016-03-31",
            "method": "animate"
           },
           {
            "args": [
             [
              "2016-04-01"
             ],
             {
              "frame": {
               "duration": 0,
               "redraw": true
              },
              "fromcurrent": true,
              "mode": "immediate",
              "transition": {
               "duration": 0,
               "easing": "linear"
              }
             }
            ],
            "label": "2016-04-01",
            "method": "animate"
           },
           {
            "args": [
             [
              "2016-04-02"
             ],
             {
              "frame": {
               "duration": 0,
               "redraw": true
              },
              "fromcurrent": true,
              "mode": "immediate",
              "transition": {
               "duration": 0,
               "easing": "linear"
              }
             }
            ],
            "label": "2016-04-02",
            "method": "animate"
           },
           {
            "args": [
             [
              "2016-04-03"
             ],
             {
              "frame": {
               "duration": 0,
               "redraw": true
              },
              "fromcurrent": true,
              "mode": "immediate",
              "transition": {
               "duration": 0,
               "easing": "linear"
              }
             }
            ],
            "label": "2016-04-03",
            "method": "animate"
           },
           {
            "args": [
             [
              "2016-04-04"
             ],
             {
              "frame": {
               "duration": 0,
               "redraw": true
              },
              "fromcurrent": true,
              "mode": "immediate",
              "transition": {
               "duration": 0,
               "easing": "linear"
              }
             }
            ],
            "label": "2016-04-04",
            "method": "animate"
           },
           {
            "args": [
             [
              "2016-04-05"
             ],
             {
              "frame": {
               "duration": 0,
               "redraw": true
              },
              "fromcurrent": true,
              "mode": "immediate",
              "transition": {
               "duration": 0,
               "easing": "linear"
              }
             }
            ],
            "label": "2016-04-05",
            "method": "animate"
           },
           {
            "args": [
             [
              "2016-04-06"
             ],
             {
              "frame": {
               "duration": 0,
               "redraw": true
              },
              "fromcurrent": true,
              "mode": "immediate",
              "transition": {
               "duration": 0,
               "easing": "linear"
              }
             }
            ],
            "label": "2016-04-06",
            "method": "animate"
           },
           {
            "args": [
             [
              "2016-04-07"
             ],
             {
              "frame": {
               "duration": 0,
               "redraw": true
              },
              "fromcurrent": true,
              "mode": "immediate",
              "transition": {
               "duration": 0,
               "easing": "linear"
              }
             }
            ],
            "label": "2016-04-07",
            "method": "animate"
           },
           {
            "args": [
             [
              "2016-04-08"
             ],
             {
              "frame": {
               "duration": 0,
               "redraw": true
              },
              "fromcurrent": true,
              "mode": "immediate",
              "transition": {
               "duration": 0,
               "easing": "linear"
              }
             }
            ],
            "label": "2016-04-08",
            "method": "animate"
           },
           {
            "args": [
             [
              "2016-04-09"
             ],
             {
              "frame": {
               "duration": 0,
               "redraw": true
              },
              "fromcurrent": true,
              "mode": "immediate",
              "transition": {
               "duration": 0,
               "easing": "linear"
              }
             }
            ],
            "label": "2016-04-09",
            "method": "animate"
           },
           {
            "args": [
             [
              "2016-04-10"
             ],
             {
              "frame": {
               "duration": 0,
               "redraw": true
              },
              "fromcurrent": true,
              "mode": "immediate",
              "transition": {
               "duration": 0,
               "easing": "linear"
              }
             }
            ],
            "label": "2016-04-10",
            "method": "animate"
           },
           {
            "args": [
             [
              "2016-04-11"
             ],
             {
              "frame": {
               "duration": 0,
               "redraw": true
              },
              "fromcurrent": true,
              "mode": "immediate",
              "transition": {
               "duration": 0,
               "easing": "linear"
              }
             }
            ],
            "label": "2016-04-11",
            "method": "animate"
           },
           {
            "args": [
             [
              "2016-04-12"
             ],
             {
              "frame": {
               "duration": 0,
               "redraw": true
              },
              "fromcurrent": true,
              "mode": "immediate",
              "transition": {
               "duration": 0,
               "easing": "linear"
              }
             }
            ],
            "label": "2016-04-12",
            "method": "animate"
           },
           {
            "args": [
             [
              "2016-04-13"
             ],
             {
              "frame": {
               "duration": 0,
               "redraw": true
              },
              "fromcurrent": true,
              "mode": "immediate",
              "transition": {
               "duration": 0,
               "easing": "linear"
              }
             }
            ],
            "label": "2016-04-13",
            "method": "animate"
           },
           {
            "args": [
             [
              "2016-04-14"
             ],
             {
              "frame": {
               "duration": 0,
               "redraw": true
              },
              "fromcurrent": true,
              "mode": "immediate",
              "transition": {
               "duration": 0,
               "easing": "linear"
              }
             }
            ],
            "label": "2016-04-14",
            "method": "animate"
           },
           {
            "args": [
             [
              "2016-04-15"
             ],
             {
              "frame": {
               "duration": 0,
               "redraw": true
              },
              "fromcurrent": true,
              "mode": "immediate",
              "transition": {
               "duration": 0,
               "easing": "linear"
              }
             }
            ],
            "label": "2016-04-15",
            "method": "animate"
           },
           {
            "args": [
             [
              "2016-04-16"
             ],
             {
              "frame": {
               "duration": 0,
               "redraw": true
              },
              "fromcurrent": true,
              "mode": "immediate",
              "transition": {
               "duration": 0,
               "easing": "linear"
              }
             }
            ],
            "label": "2016-04-16",
            "method": "animate"
           },
           {
            "args": [
             [
              "2016-04-17"
             ],
             {
              "frame": {
               "duration": 0,
               "redraw": true
              },
              "fromcurrent": true,
              "mode": "immediate",
              "transition": {
               "duration": 0,
               "easing": "linear"
              }
             }
            ],
            "label": "2016-04-17",
            "method": "animate"
           },
           {
            "args": [
             [
              "2016-04-18"
             ],
             {
              "frame": {
               "duration": 0,
               "redraw": true
              },
              "fromcurrent": true,
              "mode": "immediate",
              "transition": {
               "duration": 0,
               "easing": "linear"
              }
             }
            ],
            "label": "2016-04-18",
            "method": "animate"
           },
           {
            "args": [
             [
              "2016-04-19"
             ],
             {
              "frame": {
               "duration": 0,
               "redraw": true
              },
              "fromcurrent": true,
              "mode": "immediate",
              "transition": {
               "duration": 0,
               "easing": "linear"
              }
             }
            ],
            "label": "2016-04-19",
            "method": "animate"
           },
           {
            "args": [
             [
              "2016-04-21"
             ],
             {
              "frame": {
               "duration": 0,
               "redraw": true
              },
              "fromcurrent": true,
              "mode": "immediate",
              "transition": {
               "duration": 0,
               "easing": "linear"
              }
             }
            ],
            "label": "2016-04-21",
            "method": "animate"
           },
           {
            "args": [
             [
              "2016-04-22"
             ],
             {
              "frame": {
               "duration": 0,
               "redraw": true
              },
              "fromcurrent": true,
              "mode": "immediate",
              "transition": {
               "duration": 0,
               "easing": "linear"
              }
             }
            ],
            "label": "2016-04-22",
            "method": "animate"
           },
           {
            "args": [
             [
              "2016-04-23"
             ],
             {
              "frame": {
               "duration": 0,
               "redraw": true
              },
              "fromcurrent": true,
              "mode": "immediate",
              "transition": {
               "duration": 0,
               "easing": "linear"
              }
             }
            ],
            "label": "2016-04-23",
            "method": "animate"
           },
           {
            "args": [
             [
              "2016-04-24"
             ],
             {
              "frame": {
               "duration": 0,
               "redraw": true
              },
              "fromcurrent": true,
              "mode": "immediate",
              "transition": {
               "duration": 0,
               "easing": "linear"
              }
             }
            ],
            "label": "2016-04-24",
            "method": "animate"
           },
           {
            "args": [
             [
              "2016-04-25"
             ],
             {
              "frame": {
               "duration": 0,
               "redraw": true
              },
              "fromcurrent": true,
              "mode": "immediate",
              "transition": {
               "duration": 0,
               "easing": "linear"
              }
             }
            ],
            "label": "2016-04-25",
            "method": "animate"
           },
           {
            "args": [
             [
              "2016-04-26"
             ],
             {
              "frame": {
               "duration": 0,
               "redraw": true
              },
              "fromcurrent": true,
              "mode": "immediate",
              "transition": {
               "duration": 0,
               "easing": "linear"
              }
             }
            ],
            "label": "2016-04-26",
            "method": "animate"
           },
           {
            "args": [
             [
              "2016-04-27"
             ],
             {
              "frame": {
               "duration": 0,
               "redraw": true
              },
              "fromcurrent": true,
              "mode": "immediate",
              "transition": {
               "duration": 0,
               "easing": "linear"
              }
             }
            ],
            "label": "2016-04-27",
            "method": "animate"
           },
           {
            "args": [
             [
              "2016-04-28"
             ],
             {
              "frame": {
               "duration": 0,
               "redraw": true
              },
              "fromcurrent": true,
              "mode": "immediate",
              "transition": {
               "duration": 0,
               "easing": "linear"
              }
             }
            ],
            "label": "2016-04-28",
            "method": "animate"
           },
           {
            "args": [
             [
              "2016-04-29"
             ],
             {
              "frame": {
               "duration": 0,
               "redraw": true
              },
              "fromcurrent": true,
              "mode": "immediate",
              "transition": {
               "duration": 0,
               "easing": "linear"
              }
             }
            ],
            "label": "2016-04-29",
            "method": "animate"
           },
           {
            "args": [
             [
              "2016-04-30"
             ],
             {
              "frame": {
               "duration": 0,
               "redraw": true
              },
              "fromcurrent": true,
              "mode": "immediate",
              "transition": {
               "duration": 0,
               "easing": "linear"
              }
             }
            ],
            "label": "2016-04-30",
            "method": "animate"
           },
           {
            "args": [
             [
              "2016-05-01"
             ],
             {
              "frame": {
               "duration": 0,
               "redraw": true
              },
              "fromcurrent": true,
              "mode": "immediate",
              "transition": {
               "duration": 0,
               "easing": "linear"
              }
             }
            ],
            "label": "2016-05-01",
            "method": "animate"
           },
           {
            "args": [
             [
              "2016-05-02"
             ],
             {
              "frame": {
               "duration": 0,
               "redraw": true
              },
              "fromcurrent": true,
              "mode": "immediate",
              "transition": {
               "duration": 0,
               "easing": "linear"
              }
             }
            ],
            "label": "2016-05-02",
            "method": "animate"
           },
           {
            "args": [
             [
              "2016-05-03"
             ],
             {
              "frame": {
               "duration": 0,
               "redraw": true
              },
              "fromcurrent": true,
              "mode": "immediate",
              "transition": {
               "duration": 0,
               "easing": "linear"
              }
             }
            ],
            "label": "2016-05-03",
            "method": "animate"
           },
           {
            "args": [
             [
              "2016-05-04"
             ],
             {
              "frame": {
               "duration": 0,
               "redraw": true
              },
              "fromcurrent": true,
              "mode": "immediate",
              "transition": {
               "duration": 0,
               "easing": "linear"
              }
             }
            ],
            "label": "2016-05-04",
            "method": "animate"
           },
           {
            "args": [
             [
              "2016-05-05"
             ],
             {
              "frame": {
               "duration": 0,
               "redraw": true
              },
              "fromcurrent": true,
              "mode": "immediate",
              "transition": {
               "duration": 0,
               "easing": "linear"
              }
             }
            ],
            "label": "2016-05-05",
            "method": "animate"
           },
           {
            "args": [
             [
              "2016-05-06"
             ],
             {
              "frame": {
               "duration": 0,
               "redraw": true
              },
              "fromcurrent": true,
              "mode": "immediate",
              "transition": {
               "duration": 0,
               "easing": "linear"
              }
             }
            ],
            "label": "2016-05-06",
            "method": "animate"
           },
           {
            "args": [
             [
              "2016-05-07"
             ],
             {
              "frame": {
               "duration": 0,
               "redraw": true
              },
              "fromcurrent": true,
              "mode": "immediate",
              "transition": {
               "duration": 0,
               "easing": "linear"
              }
             }
            ],
            "label": "2016-05-07",
            "method": "animate"
           },
           {
            "args": [
             [
              "2016-05-08"
             ],
             {
              "frame": {
               "duration": 0,
               "redraw": true
              },
              "fromcurrent": true,
              "mode": "immediate",
              "transition": {
               "duration": 0,
               "easing": "linear"
              }
             }
            ],
            "label": "2016-05-08",
            "method": "animate"
           },
           {
            "args": [
             [
              "2016-05-09"
             ],
             {
              "frame": {
               "duration": 0,
               "redraw": true
              },
              "fromcurrent": true,
              "mode": "immediate",
              "transition": {
               "duration": 0,
               "easing": "linear"
              }
             }
            ],
            "label": "2016-05-09",
            "method": "animate"
           },
           {
            "args": [
             [
              "2016-05-10"
             ],
             {
              "frame": {
               "duration": 0,
               "redraw": true
              },
              "fromcurrent": true,
              "mode": "immediate",
              "transition": {
               "duration": 0,
               "easing": "linear"
              }
             }
            ],
            "label": "2016-05-10",
            "method": "animate"
           },
           {
            "args": [
             [
              "2016-05-11"
             ],
             {
              "frame": {
               "duration": 0,
               "redraw": true
              },
              "fromcurrent": true,
              "mode": "immediate",
              "transition": {
               "duration": 0,
               "easing": "linear"
              }
             }
            ],
            "label": "2016-05-11",
            "method": "animate"
           },
           {
            "args": [
             [
              "2016-05-12"
             ],
             {
              "frame": {
               "duration": 0,
               "redraw": true
              },
              "fromcurrent": true,
              "mode": "immediate",
              "transition": {
               "duration": 0,
               "easing": "linear"
              }
             }
            ],
            "label": "2016-05-12",
            "method": "animate"
           },
           {
            "args": [
             [
              "2016-05-13"
             ],
             {
              "frame": {
               "duration": 0,
               "redraw": true
              },
              "fromcurrent": true,
              "mode": "immediate",
              "transition": {
               "duration": 0,
               "easing": "linear"
              }
             }
            ],
            "label": "2016-05-13",
            "method": "animate"
           },
           {
            "args": [
             [
              "2016-05-14"
             ],
             {
              "frame": {
               "duration": 0,
               "redraw": true
              },
              "fromcurrent": true,
              "mode": "immediate",
              "transition": {
               "duration": 0,
               "easing": "linear"
              }
             }
            ],
            "label": "2016-05-14",
            "method": "animate"
           },
           {
            "args": [
             [
              "2016-05-15"
             ],
             {
              "frame": {
               "duration": 0,
               "redraw": true
              },
              "fromcurrent": true,
              "mode": "immediate",
              "transition": {
               "duration": 0,
               "easing": "linear"
              }
             }
            ],
            "label": "2016-05-15",
            "method": "animate"
           },
           {
            "args": [
             [
              "2016-05-16"
             ],
             {
              "frame": {
               "duration": 0,
               "redraw": true
              },
              "fromcurrent": true,
              "mode": "immediate",
              "transition": {
               "duration": 0,
               "easing": "linear"
              }
             }
            ],
            "label": "2016-05-16",
            "method": "animate"
           },
           {
            "args": [
             [
              "2016-05-17"
             ],
             {
              "frame": {
               "duration": 0,
               "redraw": true
              },
              "fromcurrent": true,
              "mode": "immediate",
              "transition": {
               "duration": 0,
               "easing": "linear"
              }
             }
            ],
            "label": "2016-05-17",
            "method": "animate"
           },
           {
            "args": [
             [
              "2016-05-18"
             ],
             {
              "frame": {
               "duration": 0,
               "redraw": true
              },
              "fromcurrent": true,
              "mode": "immediate",
              "transition": {
               "duration": 0,
               "easing": "linear"
              }
             }
            ],
            "label": "2016-05-18",
            "method": "animate"
           },
           {
            "args": [
             [
              "2016-05-19"
             ],
             {
              "frame": {
               "duration": 0,
               "redraw": true
              },
              "fromcurrent": true,
              "mode": "immediate",
              "transition": {
               "duration": 0,
               "easing": "linear"
              }
             }
            ],
            "label": "2016-05-19",
            "method": "animate"
           },
           {
            "args": [
             [
              "2016-05-31"
             ],
             {
              "frame": {
               "duration": 0,
               "redraw": true
              },
              "fromcurrent": true,
              "mode": "immediate",
              "transition": {
               "duration": 0,
               "easing": "linear"
              }
             }
            ],
            "label": "2016-05-31",
            "method": "animate"
           },
           {
            "args": [
             [
              "2016-06-01"
             ],
             {
              "frame": {
               "duration": 0,
               "redraw": true
              },
              "fromcurrent": true,
              "mode": "immediate",
              "transition": {
               "duration": 0,
               "easing": "linear"
              }
             }
            ],
            "label": "2016-06-01",
            "method": "animate"
           },
           {
            "args": [
             [
              "2016-06-04"
             ],
             {
              "frame": {
               "duration": 0,
               "redraw": true
              },
              "fromcurrent": true,
              "mode": "immediate",
              "transition": {
               "duration": 0,
               "easing": "linear"
              }
             }
            ],
            "label": "2016-06-04",
            "method": "animate"
           },
           {
            "args": [
             [
              "2016-06-05"
             ],
             {
              "frame": {
               "duration": 0,
               "redraw": true
              },
              "fromcurrent": true,
              "mode": "immediate",
              "transition": {
               "duration": 0,
               "easing": "linear"
              }
             }
            ],
            "label": "2016-06-05",
            "method": "animate"
           },
           {
            "args": [
             [
              "2016-06-06"
             ],
             {
              "frame": {
               "duration": 0,
               "redraw": true
              },
              "fromcurrent": true,
              "mode": "immediate",
              "transition": {
               "duration": 0,
               "easing": "linear"
              }
             }
            ],
            "label": "2016-06-06",
            "method": "animate"
           },
           {
            "args": [
             [
              "2016-06-10"
             ],
             {
              "frame": {
               "duration": 0,
               "redraw": true
              },
              "fromcurrent": true,
              "mode": "immediate",
              "transition": {
               "duration": 0,
               "easing": "linear"
              }
             }
            ],
            "label": "2016-06-10",
            "method": "animate"
           },
           {
            "args": [
             [
              "2016-06-12"
             ],
             {
              "frame": {
               "duration": 0,
               "redraw": true
              },
              "fromcurrent": true,
              "mode": "immediate",
              "transition": {
               "duration": 0,
               "easing": "linear"
              }
             }
            ],
            "label": "2016-06-12",
            "method": "animate"
           },
           {
            "args": [
             [
              "2016-06-16"
             ],
             {
              "frame": {
               "duration": 0,
               "redraw": true
              },
              "fromcurrent": true,
              "mode": "immediate",
              "transition": {
               "duration": 0,
               "easing": "linear"
              }
             }
            ],
            "label": "2016-06-16",
            "method": "animate"
           },
           {
            "args": [
             [
              "2016-06-17"
             ],
             {
              "frame": {
               "duration": 0,
               "redraw": true
              },
              "fromcurrent": true,
              "mode": "immediate",
              "transition": {
               "duration": 0,
               "easing": "linear"
              }
             }
            ],
            "label": "2016-06-17",
            "method": "animate"
           },
           {
            "args": [
             [
              "2016-06-18"
             ],
             {
              "frame": {
               "duration": 0,
               "redraw": true
              },
              "fromcurrent": true,
              "mode": "immediate",
              "transition": {
               "duration": 0,
               "easing": "linear"
              }
             }
            ],
            "label": "2016-06-18",
            "method": "animate"
           },
           {
            "args": [
             [
              "2016-06-19"
             ],
             {
              "frame": {
               "duration": 0,
               "redraw": true
              },
              "fromcurrent": true,
              "mode": "immediate",
              "transition": {
               "duration": 0,
               "easing": "linear"
              }
             }
            ],
            "label": "2016-06-19",
            "method": "animate"
           },
           {
            "args": [
             [
              "2016-06-20"
             ],
             {
              "frame": {
               "duration": 0,
               "redraw": true
              },
              "fromcurrent": true,
              "mode": "immediate",
              "transition": {
               "duration": 0,
               "easing": "linear"
              }
             }
            ],
            "label": "2016-06-20",
            "method": "animate"
           },
           {
            "args": [
             [
              "2016-06-21"
             ],
             {
              "frame": {
               "duration": 0,
               "redraw": true
              },
              "fromcurrent": true,
              "mode": "immediate",
              "transition": {
               "duration": 0,
               "easing": "linear"
              }
             }
            ],
            "label": "2016-06-21",
            "method": "animate"
           },
           {
            "args": [
             [
              "2016-06-23"
             ],
             {
              "frame": {
               "duration": 0,
               "redraw": true
              },
              "fromcurrent": true,
              "mode": "immediate",
              "transition": {
               "duration": 0,
               "easing": "linear"
              }
             }
            ],
            "label": "2016-06-23",
            "method": "animate"
           },
           {
            "args": [
             [
              "2016-06-24"
             ],
             {
              "frame": {
               "duration": 0,
               "redraw": true
              },
              "fromcurrent": true,
              "mode": "immediate",
              "transition": {
               "duration": 0,
               "easing": "linear"
              }
             }
            ],
            "label": "2016-06-24",
            "method": "animate"
           },
           {
            "args": [
             [
              "2016-06-25"
             ],
             {
              "frame": {
               "duration": 0,
               "redraw": true
              },
              "fromcurrent": true,
              "mode": "immediate",
              "transition": {
               "duration": 0,
               "easing": "linear"
              }
             }
            ],
            "label": "2016-06-25",
            "method": "animate"
           },
           {
            "args": [
             [
              "2016-06-28"
             ],
             {
              "frame": {
               "duration": 0,
               "redraw": true
              },
              "fromcurrent": true,
              "mode": "immediate",
              "transition": {
               "duration": 0,
               "easing": "linear"
              }
             }
            ],
            "label": "2016-06-28",
            "method": "animate"
           },
           {
            "args": [
             [
              "2016-07-02"
             ],
             {
              "frame": {
               "duration": 0,
               "redraw": true
              },
              "fromcurrent": true,
              "mode": "immediate",
              "transition": {
               "duration": 0,
               "easing": "linear"
              }
             }
            ],
            "label": "2016-07-02",
            "method": "animate"
           },
           {
            "args": [
             [
              "2016-07-03"
             ],
             {
              "frame": {
               "duration": 0,
               "redraw": true
              },
              "fromcurrent": true,
              "mode": "immediate",
              "transition": {
               "duration": 0,
               "easing": "linear"
              }
             }
            ],
            "label": "2016-07-03",
            "method": "animate"
           },
           {
            "args": [
             [
              "2016-07-04"
             ],
             {
              "frame": {
               "duration": 0,
               "redraw": true
              },
              "fromcurrent": true,
              "mode": "immediate",
              "transition": {
               "duration": 0,
               "easing": "linear"
              }
             }
            ],
            "label": "2016-07-04",
            "method": "animate"
           },
           {
            "args": [
             [
              "2016-07-05"
             ],
             {
              "frame": {
               "duration": 0,
               "redraw": true
              },
              "fromcurrent": true,
              "mode": "immediate",
              "transition": {
               "duration": 0,
               "easing": "linear"
              }
             }
            ],
            "label": "2016-07-05",
            "method": "animate"
           },
           {
            "args": [
             [
              "2016-07-07"
             ],
             {
              "frame": {
               "duration": 0,
               "redraw": true
              },
              "fromcurrent": true,
              "mode": "immediate",
              "transition": {
               "duration": 0,
               "easing": "linear"
              }
             }
            ],
            "label": "2016-07-07",
            "method": "animate"
           },
           {
            "args": [
             [
              "2016-07-08"
             ],
             {
              "frame": {
               "duration": 0,
               "redraw": true
              },
              "fromcurrent": true,
              "mode": "immediate",
              "transition": {
               "duration": 0,
               "easing": "linear"
              }
             }
            ],
            "label": "2016-07-08",
            "method": "animate"
           },
           {
            "args": [
             [
              "2016-07-09"
             ],
             {
              "frame": {
               "duration": 0,
               "redraw": true
              },
              "fromcurrent": true,
              "mode": "immediate",
              "transition": {
               "duration": 0,
               "easing": "linear"
              }
             }
            ],
            "label": "2016-07-09",
            "method": "animate"
           },
           {
            "args": [
             [
              "2016-07-10"
             ],
             {
              "frame": {
               "duration": 0,
               "redraw": true
              },
              "fromcurrent": true,
              "mode": "immediate",
              "transition": {
               "duration": 0,
               "easing": "linear"
              }
             }
            ],
            "label": "2016-07-10",
            "method": "animate"
           },
           {
            "args": [
             [
              "2016-07-11"
             ],
             {
              "frame": {
               "duration": 0,
               "redraw": true
              },
              "fromcurrent": true,
              "mode": "immediate",
              "transition": {
               "duration": 0,
               "easing": "linear"
              }
             }
            ],
            "label": "2016-07-11",
            "method": "animate"
           },
           {
            "args": [
             [
              "2016-07-12"
             ],
             {
              "frame": {
               "duration": 0,
               "redraw": true
              },
              "fromcurrent": true,
              "mode": "immediate",
              "transition": {
               "duration": 0,
               "easing": "linear"
              }
             }
            ],
            "label": "2016-07-12",
            "method": "animate"
           },
           {
            "args": [
             [
              "2016-07-13"
             ],
             {
              "frame": {
               "duration": 0,
               "redraw": true
              },
              "fromcurrent": true,
              "mode": "immediate",
              "transition": {
               "duration": 0,
               "easing": "linear"
              }
             }
            ],
            "label": "2016-07-13",
            "method": "animate"
           },
           {
            "args": [
             [
              "2016-07-14"
             ],
             {
              "frame": {
               "duration": 0,
               "redraw": true
              },
              "fromcurrent": true,
              "mode": "immediate",
              "transition": {
               "duration": 0,
               "easing": "linear"
              }
             }
            ],
            "label": "2016-07-14",
            "method": "animate"
           },
           {
            "args": [
             [
              "2016-07-15"
             ],
             {
              "frame": {
               "duration": 0,
               "redraw": true
              },
              "fromcurrent": true,
              "mode": "immediate",
              "transition": {
               "duration": 0,
               "easing": "linear"
              }
             }
            ],
            "label": "2016-07-15",
            "method": "animate"
           },
           {
            "args": [
             [
              "2016-07-16"
             ],
             {
              "frame": {
               "duration": 0,
               "redraw": true
              },
              "fromcurrent": true,
              "mode": "immediate",
              "transition": {
               "duration": 0,
               "easing": "linear"
              }
             }
            ],
            "label": "2016-07-16",
            "method": "animate"
           },
           {
            "args": [
             [
              "2016-07-17"
             ],
             {
              "frame": {
               "duration": 0,
               "redraw": true
              },
              "fromcurrent": true,
              "mode": "immediate",
              "transition": {
               "duration": 0,
               "easing": "linear"
              }
             }
            ],
            "label": "2016-07-17",
            "method": "animate"
           },
           {
            "args": [
             [
              "2016-07-18"
             ],
             {
              "frame": {
               "duration": 0,
               "redraw": true
              },
              "fromcurrent": true,
              "mode": "immediate",
              "transition": {
               "duration": 0,
               "easing": "linear"
              }
             }
            ],
            "label": "2016-07-18",
            "method": "animate"
           },
           {
            "args": [
             [
              "2016-07-19"
             ],
             {
              "frame": {
               "duration": 0,
               "redraw": true
              },
              "fromcurrent": true,
              "mode": "immediate",
              "transition": {
               "duration": 0,
               "easing": "linear"
              }
             }
            ],
            "label": "2016-07-19",
            "method": "animate"
           },
           {
            "args": [
             [
              "2016-07-20"
             ],
             {
              "frame": {
               "duration": 0,
               "redraw": true
              },
              "fromcurrent": true,
              "mode": "immediate",
              "transition": {
               "duration": 0,
               "easing": "linear"
              }
             }
            ],
            "label": "2016-07-20",
            "method": "animate"
           },
           {
            "args": [
             [
              "2016-07-21"
             ],
             {
              "frame": {
               "duration": 0,
               "redraw": true
              },
              "fromcurrent": true,
              "mode": "immediate",
              "transition": {
               "duration": 0,
               "easing": "linear"
              }
             }
            ],
            "label": "2016-07-21",
            "method": "animate"
           },
           {
            "args": [
             [
              "2016-07-22"
             ],
             {
              "frame": {
               "duration": 0,
               "redraw": true
              },
              "fromcurrent": true,
              "mode": "immediate",
              "transition": {
               "duration": 0,
               "easing": "linear"
              }
             }
            ],
            "label": "2016-07-22",
            "method": "animate"
           },
           {
            "args": [
             [
              "2016-07-23"
             ],
             {
              "frame": {
               "duration": 0,
               "redraw": true
              },
              "fromcurrent": true,
              "mode": "immediate",
              "transition": {
               "duration": 0,
               "easing": "linear"
              }
             }
            ],
            "label": "2016-07-23",
            "method": "animate"
           },
           {
            "args": [
             [
              "2016-07-24"
             ],
             {
              "frame": {
               "duration": 0,
               "redraw": true
              },
              "fromcurrent": true,
              "mode": "immediate",
              "transition": {
               "duration": 0,
               "easing": "linear"
              }
             }
            ],
            "label": "2016-07-24",
            "method": "animate"
           },
           {
            "args": [
             [
              "2016-07-26"
             ],
             {
              "frame": {
               "duration": 0,
               "redraw": true
              },
              "fromcurrent": true,
              "mode": "immediate",
              "transition": {
               "duration": 0,
               "easing": "linear"
              }
             }
            ],
            "label": "2016-07-26",
            "method": "animate"
           },
           {
            "args": [
             [
              "2016-07-27"
             ],
             {
              "frame": {
               "duration": 0,
               "redraw": true
              },
              "fromcurrent": true,
              "mode": "immediate",
              "transition": {
               "duration": 0,
               "easing": "linear"
              }
             }
            ],
            "label": "2016-07-27",
            "method": "animate"
           },
           {
            "args": [
             [
              "2016-08-09"
             ],
             {
              "frame": {
               "duration": 0,
               "redraw": true
              },
              "fromcurrent": true,
              "mode": "immediate",
              "transition": {
               "duration": 0,
               "easing": "linear"
              }
             }
            ],
            "label": "2016-08-09",
            "method": "animate"
           },
           {
            "args": [
             [
              "2016-08-10"
             ],
             {
              "frame": {
               "duration": 0,
               "redraw": true
              },
              "fromcurrent": true,
              "mode": "immediate",
              "transition": {
               "duration": 0,
               "easing": "linear"
              }
             }
            ],
            "label": "2016-08-10",
            "method": "animate"
           },
           {
            "args": [
             [
              "2016-08-11"
             ],
             {
              "frame": {
               "duration": 0,
               "redraw": true
              },
              "fromcurrent": true,
              "mode": "immediate",
              "transition": {
               "duration": 0,
               "easing": "linear"
              }
             }
            ],
            "label": "2016-08-11",
            "method": "animate"
           },
           {
            "args": [
             [
              "2016-08-12"
             ],
             {
              "frame": {
               "duration": 0,
               "redraw": true
              },
              "fromcurrent": true,
              "mode": "immediate",
              "transition": {
               "duration": 0,
               "easing": "linear"
              }
             }
            ],
            "label": "2016-08-12",
            "method": "animate"
           },
           {
            "args": [
             [
              "2016-08-13"
             ],
             {
              "frame": {
               "duration": 0,
               "redraw": true
              },
              "fromcurrent": true,
              "mode": "immediate",
              "transition": {
               "duration": 0,
               "easing": "linear"
              }
             }
            ],
            "label": "2016-08-13",
            "method": "animate"
           },
           {
            "args": [
             [
              "2016-08-14"
             ],
             {
              "frame": {
               "duration": 0,
               "redraw": true
              },
              "fromcurrent": true,
              "mode": "immediate",
              "transition": {
               "duration": 0,
               "easing": "linear"
              }
             }
            ],
            "label": "2016-08-14",
            "method": "animate"
           },
           {
            "args": [
             [
              "2016-08-16"
             ],
             {
              "frame": {
               "duration": 0,
               "redraw": true
              },
              "fromcurrent": true,
              "mode": "immediate",
              "transition": {
               "duration": 0,
               "easing": "linear"
              }
             }
            ],
            "label": "2016-08-16",
            "method": "animate"
           },
           {
            "args": [
             [
              "2016-08-17"
             ],
             {
              "frame": {
               "duration": 0,
               "redraw": true
              },
              "fromcurrent": true,
              "mode": "immediate",
              "transition": {
               "duration": 0,
               "easing": "linear"
              }
             }
            ],
            "label": "2016-08-17",
            "method": "animate"
           },
           {
            "args": [
             [
              "2016-08-18"
             ],
             {
              "frame": {
               "duration": 0,
               "redraw": true
              },
              "fromcurrent": true,
              "mode": "immediate",
              "transition": {
               "duration": 0,
               "easing": "linear"
              }
             }
            ],
            "label": "2016-08-18",
            "method": "animate"
           },
           {
            "args": [
             [
              "2016-08-19"
             ],
             {
              "frame": {
               "duration": 0,
               "redraw": true
              },
              "fromcurrent": true,
              "mode": "immediate",
              "transition": {
               "duration": 0,
               "easing": "linear"
              }
             }
            ],
            "label": "2016-08-19",
            "method": "animate"
           },
           {
            "args": [
             [
              "2016-08-20"
             ],
             {
              "frame": {
               "duration": 0,
               "redraw": true
              },
              "fromcurrent": true,
              "mode": "immediate",
              "transition": {
               "duration": 0,
               "easing": "linear"
              }
             }
            ],
            "label": "2016-08-20",
            "method": "animate"
           },
           {
            "args": [
             [
              "2016-08-22"
             ],
             {
              "frame": {
               "duration": 0,
               "redraw": true
              },
              "fromcurrent": true,
              "mode": "immediate",
              "transition": {
               "duration": 0,
               "easing": "linear"
              }
             }
            ],
            "label": "2016-08-22",
            "method": "animate"
           },
           {
            "args": [
             [
              "2016-08-23"
             ],
             {
              "frame": {
               "duration": 0,
               "redraw": true
              },
              "fromcurrent": true,
              "mode": "immediate",
              "transition": {
               "duration": 0,
               "easing": "linear"
              }
             }
            ],
            "label": "2016-08-23",
            "method": "animate"
           },
           {
            "args": [
             [
              "2016-08-24"
             ],
             {
              "frame": {
               "duration": 0,
               "redraw": true
              },
              "fromcurrent": true,
              "mode": "immediate",
              "transition": {
               "duration": 0,
               "easing": "linear"
              }
             }
            ],
            "label": "2016-08-24",
            "method": "animate"
           },
           {
            "args": [
             [
              "2016-08-25"
             ],
             {
              "frame": {
               "duration": 0,
               "redraw": true
              },
              "fromcurrent": true,
              "mode": "immediate",
              "transition": {
               "duration": 0,
               "easing": "linear"
              }
             }
            ],
            "label": "2016-08-25",
            "method": "animate"
           },
           {
            "args": [
             [
              "2016-08-26"
             ],
             {
              "frame": {
               "duration": 0,
               "redraw": true
              },
              "fromcurrent": true,
              "mode": "immediate",
              "transition": {
               "duration": 0,
               "easing": "linear"
              }
             }
            ],
            "label": "2016-08-26",
            "method": "animate"
           },
           {
            "args": [
             [
              "2016-08-27"
             ],
             {
              "frame": {
               "duration": 0,
               "redraw": true
              },
              "fromcurrent": true,
              "mode": "immediate",
              "transition": {
               "duration": 0,
               "easing": "linear"
              }
             }
            ],
            "label": "2016-08-27",
            "method": "animate"
           },
           {
            "args": [
             [
              "2016-08-28"
             ],
             {
              "frame": {
               "duration": 0,
               "redraw": true
              },
              "fromcurrent": true,
              "mode": "immediate",
              "transition": {
               "duration": 0,
               "easing": "linear"
              }
             }
            ],
            "label": "2016-08-28",
            "method": "animate"
           },
           {
            "args": [
             [
              "2016-08-29"
             ],
             {
              "frame": {
               "duration": 0,
               "redraw": true
              },
              "fromcurrent": true,
              "mode": "immediate",
              "transition": {
               "duration": 0,
               "easing": "linear"
              }
             }
            ],
            "label": "2016-08-29",
            "method": "animate"
           },
           {
            "args": [
             [
              "2016-08-30"
             ],
             {
              "frame": {
               "duration": 0,
               "redraw": true
              },
              "fromcurrent": true,
              "mode": "immediate",
              "transition": {
               "duration": 0,
               "easing": "linear"
              }
             }
            ],
            "label": "2016-08-30",
            "method": "animate"
           },
           {
            "args": [
             [
              "2016-08-31"
             ],
             {
              "frame": {
               "duration": 0,
               "redraw": true
              },
              "fromcurrent": true,
              "mode": "immediate",
              "transition": {
               "duration": 0,
               "easing": "linear"
              }
             }
            ],
            "label": "2016-08-31",
            "method": "animate"
           },
           {
            "args": [
             [
              "2016-09-01"
             ],
             {
              "frame": {
               "duration": 0,
               "redraw": true
              },
              "fromcurrent": true,
              "mode": "immediate",
              "transition": {
               "duration": 0,
               "easing": "linear"
              }
             }
            ],
            "label": "2016-09-01",
            "method": "animate"
           },
           {
            "args": [
             [
              "2016-09-02"
             ],
             {
              "frame": {
               "duration": 0,
               "redraw": true
              },
              "fromcurrent": true,
              "mode": "immediate",
              "transition": {
               "duration": 0,
               "easing": "linear"
              }
             }
            ],
            "label": "2016-09-02",
            "method": "animate"
           },
           {
            "args": [
             [
              "2016-09-03"
             ],
             {
              "frame": {
               "duration": 0,
               "redraw": true
              },
              "fromcurrent": true,
              "mode": "immediate",
              "transition": {
               "duration": 0,
               "easing": "linear"
              }
             }
            ],
            "label": "2016-09-03",
            "method": "animate"
           },
           {
            "args": [
             [
              "2016-09-04"
             ],
             {
              "frame": {
               "duration": 0,
               "redraw": true
              },
              "fromcurrent": true,
              "mode": "immediate",
              "transition": {
               "duration": 0,
               "easing": "linear"
              }
             }
            ],
            "label": "2016-09-04",
            "method": "animate"
           },
           {
            "args": [
             [
              "2016-09-05"
             ],
             {
              "frame": {
               "duration": 0,
               "redraw": true
              },
              "fromcurrent": true,
              "mode": "immediate",
              "transition": {
               "duration": 0,
               "easing": "linear"
              }
             }
            ],
            "label": "2016-09-05",
            "method": "animate"
           },
           {
            "args": [
             [
              "2016-09-06"
             ],
             {
              "frame": {
               "duration": 0,
               "redraw": true
              },
              "fromcurrent": true,
              "mode": "immediate",
              "transition": {
               "duration": 0,
               "easing": "linear"
              }
             }
            ],
            "label": "2016-09-06",
            "method": "animate"
           },
           {
            "args": [
             [
              "2016-09-07"
             ],
             {
              "frame": {
               "duration": 0,
               "redraw": true
              },
              "fromcurrent": true,
              "mode": "immediate",
              "transition": {
               "duration": 0,
               "easing": "linear"
              }
             }
            ],
            "label": "2016-09-07",
            "method": "animate"
           },
           {
            "args": [
             [
              "2016-09-08"
             ],
             {
              "frame": {
               "duration": 0,
               "redraw": true
              },
              "fromcurrent": true,
              "mode": "immediate",
              "transition": {
               "duration": 0,
               "easing": "linear"
              }
             }
            ],
            "label": "2016-09-08",
            "method": "animate"
           },
           {
            "args": [
             [
              "2016-09-09"
             ],
             {
              "frame": {
               "duration": 0,
               "redraw": true
              },
              "fromcurrent": true,
              "mode": "immediate",
              "transition": {
               "duration": 0,
               "easing": "linear"
              }
             }
            ],
            "label": "2016-09-09",
            "method": "animate"
           },
           {
            "args": [
             [
              "2016-09-10"
             ],
             {
              "frame": {
               "duration": 0,
               "redraw": true
              },
              "fromcurrent": true,
              "mode": "immediate",
              "transition": {
               "duration": 0,
               "easing": "linear"
              }
             }
            ],
            "label": "2016-09-10",
            "method": "animate"
           },
           {
            "args": [
             [
              "2016-09-11"
             ],
             {
              "frame": {
               "duration": 0,
               "redraw": true
              },
              "fromcurrent": true,
              "mode": "immediate",
              "transition": {
               "duration": 0,
               "easing": "linear"
              }
             }
            ],
            "label": "2016-09-11",
            "method": "animate"
           },
           {
            "args": [
             [
              "2016-09-12"
             ],
             {
              "frame": {
               "duration": 0,
               "redraw": true
              },
              "fromcurrent": true,
              "mode": "immediate",
              "transition": {
               "duration": 0,
               "easing": "linear"
              }
             }
            ],
            "label": "2016-09-12",
            "method": "animate"
           },
           {
            "args": [
             [
              "2016-09-13"
             ],
             {
              "frame": {
               "duration": 0,
               "redraw": true
              },
              "fromcurrent": true,
              "mode": "immediate",
              "transition": {
               "duration": 0,
               "easing": "linear"
              }
             }
            ],
            "label": "2016-09-13",
            "method": "animate"
           },
           {
            "args": [
             [
              "2016-09-14"
             ],
             {
              "frame": {
               "duration": 0,
               "redraw": true
              },
              "fromcurrent": true,
              "mode": "immediate",
              "transition": {
               "duration": 0,
               "easing": "linear"
              }
             }
            ],
            "label": "2016-09-14",
            "method": "animate"
           },
           {
            "args": [
             [
              "2016-09-15"
             ],
             {
              "frame": {
               "duration": 0,
               "redraw": true
              },
              "fromcurrent": true,
              "mode": "immediate",
              "transition": {
               "duration": 0,
               "easing": "linear"
              }
             }
            ],
            "label": "2016-09-15",
            "method": "animate"
           },
           {
            "args": [
             [
              "2016-09-16"
             ],
             {
              "frame": {
               "duration": 0,
               "redraw": true
              },
              "fromcurrent": true,
              "mode": "immediate",
              "transition": {
               "duration": 0,
               "easing": "linear"
              }
             }
            ],
            "label": "2016-09-16",
            "method": "animate"
           },
           {
            "args": [
             [
              "2016-09-17"
             ],
             {
              "frame": {
               "duration": 0,
               "redraw": true
              },
              "fromcurrent": true,
              "mode": "immediate",
              "transition": {
               "duration": 0,
               "easing": "linear"
              }
             }
            ],
            "label": "2016-09-17",
            "method": "animate"
           },
           {
            "args": [
             [
              "2016-09-18"
             ],
             {
              "frame": {
               "duration": 0,
               "redraw": true
              },
              "fromcurrent": true,
              "mode": "immediate",
              "transition": {
               "duration": 0,
               "easing": "linear"
              }
             }
            ],
            "label": "2016-09-18",
            "method": "animate"
           },
           {
            "args": [
             [
              "2016-09-19"
             ],
             {
              "frame": {
               "duration": 0,
               "redraw": true
              },
              "fromcurrent": true,
              "mode": "immediate",
              "transition": {
               "duration": 0,
               "easing": "linear"
              }
             }
            ],
            "label": "2016-09-19",
            "method": "animate"
           },
           {
            "args": [
             [
              "2016-09-20"
             ],
             {
              "frame": {
               "duration": 0,
               "redraw": true
              },
              "fromcurrent": true,
              "mode": "immediate",
              "transition": {
               "duration": 0,
               "easing": "linear"
              }
             }
            ],
            "label": "2016-09-20",
            "method": "animate"
           },
           {
            "args": [
             [
              "2016-09-21"
             ],
             {
              "frame": {
               "duration": 0,
               "redraw": true
              },
              "fromcurrent": true,
              "mode": "immediate",
              "transition": {
               "duration": 0,
               "easing": "linear"
              }
             }
            ],
            "label": "2016-09-21",
            "method": "animate"
           },
           {
            "args": [
             [
              "2016-09-22"
             ],
             {
              "frame": {
               "duration": 0,
               "redraw": true
              },
              "fromcurrent": true,
              "mode": "immediate",
              "transition": {
               "duration": 0,
               "easing": "linear"
              }
             }
            ],
            "label": "2016-09-22",
            "method": "animate"
           },
           {
            "args": [
             [
              "2016-09-23"
             ],
             {
              "frame": {
               "duration": 0,
               "redraw": true
              },
              "fromcurrent": true,
              "mode": "immediate",
              "transition": {
               "duration": 0,
               "easing": "linear"
              }
             }
            ],
            "label": "2016-09-23",
            "method": "animate"
           },
           {
            "args": [
             [
              "2016-09-24"
             ],
             {
              "frame": {
               "duration": 0,
               "redraw": true
              },
              "fromcurrent": true,
              "mode": "immediate",
              "transition": {
               "duration": 0,
               "easing": "linear"
              }
             }
            ],
            "label": "2016-09-24",
            "method": "animate"
           },
           {
            "args": [
             [
              "2016-09-25"
             ],
             {
              "frame": {
               "duration": 0,
               "redraw": true
              },
              "fromcurrent": true,
              "mode": "immediate",
              "transition": {
               "duration": 0,
               "easing": "linear"
              }
             }
            ],
            "label": "2016-09-25",
            "method": "animate"
           },
           {
            "args": [
             [
              "2016-09-26"
             ],
             {
              "frame": {
               "duration": 0,
               "redraw": true
              },
              "fromcurrent": true,
              "mode": "immediate",
              "transition": {
               "duration": 0,
               "easing": "linear"
              }
             }
            ],
            "label": "2016-09-26",
            "method": "animate"
           },
           {
            "args": [
             [
              "2016-09-27"
             ],
             {
              "frame": {
               "duration": 0,
               "redraw": true
              },
              "fromcurrent": true,
              "mode": "immediate",
              "transition": {
               "duration": 0,
               "easing": "linear"
              }
             }
            ],
            "label": "2016-09-27",
            "method": "animate"
           },
           {
            "args": [
             [
              "2016-09-28"
             ],
             {
              "frame": {
               "duration": 0,
               "redraw": true
              },
              "fromcurrent": true,
              "mode": "immediate",
              "transition": {
               "duration": 0,
               "easing": "linear"
              }
             }
            ],
            "label": "2016-09-28",
            "method": "animate"
           },
           {
            "args": [
             [
              "2016-09-29"
             ],
             {
              "frame": {
               "duration": 0,
               "redraw": true
              },
              "fromcurrent": true,
              "mode": "immediate",
              "transition": {
               "duration": 0,
               "easing": "linear"
              }
             }
            ],
            "label": "2016-09-29",
            "method": "animate"
           },
           {
            "args": [
             [
              "2016-09-30"
             ],
             {
              "frame": {
               "duration": 0,
               "redraw": true
              },
              "fromcurrent": true,
              "mode": "immediate",
              "transition": {
               "duration": 0,
               "easing": "linear"
              }
             }
            ],
            "label": "2016-09-30",
            "method": "animate"
           },
           {
            "args": [
             [
              "2016-10-01"
             ],
             {
              "frame": {
               "duration": 0,
               "redraw": true
              },
              "fromcurrent": true,
              "mode": "immediate",
              "transition": {
               "duration": 0,
               "easing": "linear"
              }
             }
            ],
            "label": "2016-10-01",
            "method": "animate"
           },
           {
            "args": [
             [
              "2016-10-02"
             ],
             {
              "frame": {
               "duration": 0,
               "redraw": true
              },
              "fromcurrent": true,
              "mode": "immediate",
              "transition": {
               "duration": 0,
               "easing": "linear"
              }
             }
            ],
            "label": "2016-10-02",
            "method": "animate"
           },
           {
            "args": [
             [
              "2016-10-03"
             ],
             {
              "frame": {
               "duration": 0,
               "redraw": true
              },
              "fromcurrent": true,
              "mode": "immediate",
              "transition": {
               "duration": 0,
               "easing": "linear"
              }
             }
            ],
            "label": "2016-10-03",
            "method": "animate"
           },
           {
            "args": [
             [
              "2016-10-04"
             ],
             {
              "frame": {
               "duration": 0,
               "redraw": true
              },
              "fromcurrent": true,
              "mode": "immediate",
              "transition": {
               "duration": 0,
               "easing": "linear"
              }
             }
            ],
            "label": "2016-10-04",
            "method": "animate"
           },
           {
            "args": [
             [
              "2016-10-05"
             ],
             {
              "frame": {
               "duration": 0,
               "redraw": true
              },
              "fromcurrent": true,
              "mode": "immediate",
              "transition": {
               "duration": 0,
               "easing": "linear"
              }
             }
            ],
            "label": "2016-10-05",
            "method": "animate"
           },
           {
            "args": [
             [
              "2016-10-06"
             ],
             {
              "frame": {
               "duration": 0,
               "redraw": true
              },
              "fromcurrent": true,
              "mode": "immediate",
              "transition": {
               "duration": 0,
               "easing": "linear"
              }
             }
            ],
            "label": "2016-10-06",
            "method": "animate"
           },
           {
            "args": [
             [
              "2016-10-07"
             ],
             {
              "frame": {
               "duration": 0,
               "redraw": true
              },
              "fromcurrent": true,
              "mode": "immediate",
              "transition": {
               "duration": 0,
               "easing": "linear"
              }
             }
            ],
            "label": "2016-10-07",
            "method": "animate"
           },
           {
            "args": [
             [
              "2016-10-08"
             ],
             {
              "frame": {
               "duration": 0,
               "redraw": true
              },
              "fromcurrent": true,
              "mode": "immediate",
              "transition": {
               "duration": 0,
               "easing": "linear"
              }
             }
            ],
            "label": "2016-10-08",
            "method": "animate"
           },
           {
            "args": [
             [
              "2016-10-09"
             ],
             {
              "frame": {
               "duration": 0,
               "redraw": true
              },
              "fromcurrent": true,
              "mode": "immediate",
              "transition": {
               "duration": 0,
               "easing": "linear"
              }
             }
            ],
            "label": "2016-10-09",
            "method": "animate"
           },
           {
            "args": [
             [
              "2016-10-10"
             ],
             {
              "frame": {
               "duration": 0,
               "redraw": true
              },
              "fromcurrent": true,
              "mode": "immediate",
              "transition": {
               "duration": 0,
               "easing": "linear"
              }
             }
            ],
            "label": "2016-10-10",
            "method": "animate"
           },
           {
            "args": [
             [
              "2016-10-11"
             ],
             {
              "frame": {
               "duration": 0,
               "redraw": true
              },
              "fromcurrent": true,
              "mode": "immediate",
              "transition": {
               "duration": 0,
               "easing": "linear"
              }
             }
            ],
            "label": "2016-10-11",
            "method": "animate"
           },
           {
            "args": [
             [
              "2016-10-12"
             ],
             {
              "frame": {
               "duration": 0,
               "redraw": true
              },
              "fromcurrent": true,
              "mode": "immediate",
              "transition": {
               "duration": 0,
               "easing": "linear"
              }
             }
            ],
            "label": "2016-10-12",
            "method": "animate"
           },
           {
            "args": [
             [
              "2016-10-13"
             ],
             {
              "frame": {
               "duration": 0,
               "redraw": true
              },
              "fromcurrent": true,
              "mode": "immediate",
              "transition": {
               "duration": 0,
               "easing": "linear"
              }
             }
            ],
            "label": "2016-10-13",
            "method": "animate"
           },
           {
            "args": [
             [
              "2016-10-14"
             ],
             {
              "frame": {
               "duration": 0,
               "redraw": true
              },
              "fromcurrent": true,
              "mode": "immediate",
              "transition": {
               "duration": 0,
               "easing": "linear"
              }
             }
            ],
            "label": "2016-10-14",
            "method": "animate"
           },
           {
            "args": [
             [
              "2016-10-15"
             ],
             {
              "frame": {
               "duration": 0,
               "redraw": true
              },
              "fromcurrent": true,
              "mode": "immediate",
              "transition": {
               "duration": 0,
               "easing": "linear"
              }
             }
            ],
            "label": "2016-10-15",
            "method": "animate"
           },
           {
            "args": [
             [
              "2016-10-16"
             ],
             {
              "frame": {
               "duration": 0,
               "redraw": true
              },
              "fromcurrent": true,
              "mode": "immediate",
              "transition": {
               "duration": 0,
               "easing": "linear"
              }
             }
            ],
            "label": "2016-10-16",
            "method": "animate"
           },
           {
            "args": [
             [
              "2016-10-17"
             ],
             {
              "frame": {
               "duration": 0,
               "redraw": true
              },
              "fromcurrent": true,
              "mode": "immediate",
              "transition": {
               "duration": 0,
               "easing": "linear"
              }
             }
            ],
            "label": "2016-10-17",
            "method": "animate"
           },
           {
            "args": [
             [
              "2016-10-18"
             ],
             {
              "frame": {
               "duration": 0,
               "redraw": true
              },
              "fromcurrent": true,
              "mode": "immediate",
              "transition": {
               "duration": 0,
               "easing": "linear"
              }
             }
            ],
            "label": "2016-10-18",
            "method": "animate"
           },
           {
            "args": [
             [
              "2016-10-19"
             ],
             {
              "frame": {
               "duration": 0,
               "redraw": true
              },
              "fromcurrent": true,
              "mode": "immediate",
              "transition": {
               "duration": 0,
               "easing": "linear"
              }
             }
            ],
            "label": "2016-10-19",
            "method": "animate"
           },
           {
            "args": [
             [
              "2016-10-20"
             ],
             {
              "frame": {
               "duration": 0,
               "redraw": true
              },
              "fromcurrent": true,
              "mode": "immediate",
              "transition": {
               "duration": 0,
               "easing": "linear"
              }
             }
            ],
            "label": "2016-10-20",
            "method": "animate"
           },
           {
            "args": [
             [
              "2016-10-21"
             ],
             {
              "frame": {
               "duration": 0,
               "redraw": true
              },
              "fromcurrent": true,
              "mode": "immediate",
              "transition": {
               "duration": 0,
               "easing": "linear"
              }
             }
            ],
            "label": "2016-10-21",
            "method": "animate"
           },
           {
            "args": [
             [
              "2016-10-22"
             ],
             {
              "frame": {
               "duration": 0,
               "redraw": true
              },
              "fromcurrent": true,
              "mode": "immediate",
              "transition": {
               "duration": 0,
               "easing": "linear"
              }
             }
            ],
            "label": "2016-10-22",
            "method": "animate"
           },
           {
            "args": [
             [
              "2016-10-23"
             ],
             {
              "frame": {
               "duration": 0,
               "redraw": true
              },
              "fromcurrent": true,
              "mode": "immediate",
              "transition": {
               "duration": 0,
               "easing": "linear"
              }
             }
            ],
            "label": "2016-10-23",
            "method": "animate"
           },
           {
            "args": [
             [
              "2016-10-24"
             ],
             {
              "frame": {
               "duration": 0,
               "redraw": true
              },
              "fromcurrent": true,
              "mode": "immediate",
              "transition": {
               "duration": 0,
               "easing": "linear"
              }
             }
            ],
            "label": "2016-10-24",
            "method": "animate"
           },
           {
            "args": [
             [
              "2016-10-25"
             ],
             {
              "frame": {
               "duration": 0,
               "redraw": true
              },
              "fromcurrent": true,
              "mode": "immediate",
              "transition": {
               "duration": 0,
               "easing": "linear"
              }
             }
            ],
            "label": "2016-10-25",
            "method": "animate"
           },
           {
            "args": [
             [
              "2016-10-26"
             ],
             {
              "frame": {
               "duration": 0,
               "redraw": true
              },
              "fromcurrent": true,
              "mode": "immediate",
              "transition": {
               "duration": 0,
               "easing": "linear"
              }
             }
            ],
            "label": "2016-10-26",
            "method": "animate"
           },
           {
            "args": [
             [
              "2016-10-27"
             ],
             {
              "frame": {
               "duration": 0,
               "redraw": true
              },
              "fromcurrent": true,
              "mode": "immediate",
              "transition": {
               "duration": 0,
               "easing": "linear"
              }
             }
            ],
            "label": "2016-10-27",
            "method": "animate"
           },
           {
            "args": [
             [
              "2016-10-28"
             ],
             {
              "frame": {
               "duration": 0,
               "redraw": true
              },
              "fromcurrent": true,
              "mode": "immediate",
              "transition": {
               "duration": 0,
               "easing": "linear"
              }
             }
            ],
            "label": "2016-10-28",
            "method": "animate"
           },
           {
            "args": [
             [
              "2016-10-29"
             ],
             {
              "frame": {
               "duration": 0,
               "redraw": true
              },
              "fromcurrent": true,
              "mode": "immediate",
              "transition": {
               "duration": 0,
               "easing": "linear"
              }
             }
            ],
            "label": "2016-10-29",
            "method": "animate"
           }
          ],
          "x": 0.1,
          "xanchor": "left",
          "y": 0,
          "yanchor": "top"
         }
        ],
        "template": {
         "data": {
          "bar": [
           {
            "error_x": {
             "color": "#2a3f5f"
            },
            "error_y": {
             "color": "#2a3f5f"
            },
            "marker": {
             "line": {
              "color": "#E5ECF6",
              "width": 0.5
             },
             "pattern": {
              "fillmode": "overlay",
              "size": 10,
              "solidity": 0.2
             }
            },
            "type": "bar"
           }
          ],
          "barpolar": [
           {
            "marker": {
             "line": {
              "color": "#E5ECF6",
              "width": 0.5
             },
             "pattern": {
              "fillmode": "overlay",
              "size": 10,
              "solidity": 0.2
             }
            },
            "type": "barpolar"
           }
          ],
          "carpet": [
           {
            "aaxis": {
             "endlinecolor": "#2a3f5f",
             "gridcolor": "white",
             "linecolor": "white",
             "minorgridcolor": "white",
             "startlinecolor": "#2a3f5f"
            },
            "baxis": {
             "endlinecolor": "#2a3f5f",
             "gridcolor": "white",
             "linecolor": "white",
             "minorgridcolor": "white",
             "startlinecolor": "#2a3f5f"
            },
            "type": "carpet"
           }
          ],
          "choropleth": [
           {
            "colorbar": {
             "outlinewidth": 0,
             "ticks": ""
            },
            "type": "choropleth"
           }
          ],
          "contour": [
           {
            "colorbar": {
             "outlinewidth": 0,
             "ticks": ""
            },
            "colorscale": [
             [
              0,
              "#0d0887"
             ],
             [
              0.1111111111111111,
              "#46039f"
             ],
             [
              0.2222222222222222,
              "#7201a8"
             ],
             [
              0.3333333333333333,
              "#9c179e"
             ],
             [
              0.4444444444444444,
              "#bd3786"
             ],
             [
              0.5555555555555556,
              "#d8576b"
             ],
             [
              0.6666666666666666,
              "#ed7953"
             ],
             [
              0.7777777777777778,
              "#fb9f3a"
             ],
             [
              0.8888888888888888,
              "#fdca26"
             ],
             [
              1,
              "#f0f921"
             ]
            ],
            "type": "contour"
           }
          ],
          "contourcarpet": [
           {
            "colorbar": {
             "outlinewidth": 0,
             "ticks": ""
            },
            "type": "contourcarpet"
           }
          ],
          "heatmap": [
           {
            "colorbar": {
             "outlinewidth": 0,
             "ticks": ""
            },
            "colorscale": [
             [
              0,
              "#0d0887"
             ],
             [
              0.1111111111111111,
              "#46039f"
             ],
             [
              0.2222222222222222,
              "#7201a8"
             ],
             [
              0.3333333333333333,
              "#9c179e"
             ],
             [
              0.4444444444444444,
              "#bd3786"
             ],
             [
              0.5555555555555556,
              "#d8576b"
             ],
             [
              0.6666666666666666,
              "#ed7953"
             ],
             [
              0.7777777777777778,
              "#fb9f3a"
             ],
             [
              0.8888888888888888,
              "#fdca26"
             ],
             [
              1,
              "#f0f921"
             ]
            ],
            "type": "heatmap"
           }
          ],
          "heatmapgl": [
           {
            "colorbar": {
             "outlinewidth": 0,
             "ticks": ""
            },
            "colorscale": [
             [
              0,
              "#0d0887"
             ],
             [
              0.1111111111111111,
              "#46039f"
             ],
             [
              0.2222222222222222,
              "#7201a8"
             ],
             [
              0.3333333333333333,
              "#9c179e"
             ],
             [
              0.4444444444444444,
              "#bd3786"
             ],
             [
              0.5555555555555556,
              "#d8576b"
             ],
             [
              0.6666666666666666,
              "#ed7953"
             ],
             [
              0.7777777777777778,
              "#fb9f3a"
             ],
             [
              0.8888888888888888,
              "#fdca26"
             ],
             [
              1,
              "#f0f921"
             ]
            ],
            "type": "heatmapgl"
           }
          ],
          "histogram": [
           {
            "marker": {
             "pattern": {
              "fillmode": "overlay",
              "size": 10,
              "solidity": 0.2
             }
            },
            "type": "histogram"
           }
          ],
          "histogram2d": [
           {
            "colorbar": {
             "outlinewidth": 0,
             "ticks": ""
            },
            "colorscale": [
             [
              0,
              "#0d0887"
             ],
             [
              0.1111111111111111,
              "#46039f"
             ],
             [
              0.2222222222222222,
              "#7201a8"
             ],
             [
              0.3333333333333333,
              "#9c179e"
             ],
             [
              0.4444444444444444,
              "#bd3786"
             ],
             [
              0.5555555555555556,
              "#d8576b"
             ],
             [
              0.6666666666666666,
              "#ed7953"
             ],
             [
              0.7777777777777778,
              "#fb9f3a"
             ],
             [
              0.8888888888888888,
              "#fdca26"
             ],
             [
              1,
              "#f0f921"
             ]
            ],
            "type": "histogram2d"
           }
          ],
          "histogram2dcontour": [
           {
            "colorbar": {
             "outlinewidth": 0,
             "ticks": ""
            },
            "colorscale": [
             [
              0,
              "#0d0887"
             ],
             [
              0.1111111111111111,
              "#46039f"
             ],
             [
              0.2222222222222222,
              "#7201a8"
             ],
             [
              0.3333333333333333,
              "#9c179e"
             ],
             [
              0.4444444444444444,
              "#bd3786"
             ],
             [
              0.5555555555555556,
              "#d8576b"
             ],
             [
              0.6666666666666666,
              "#ed7953"
             ],
             [
              0.7777777777777778,
              "#fb9f3a"
             ],
             [
              0.8888888888888888,
              "#fdca26"
             ],
             [
              1,
              "#f0f921"
             ]
            ],
            "type": "histogram2dcontour"
           }
          ],
          "mesh3d": [
           {
            "colorbar": {
             "outlinewidth": 0,
             "ticks": ""
            },
            "type": "mesh3d"
           }
          ],
          "parcoords": [
           {
            "line": {
             "colorbar": {
              "outlinewidth": 0,
              "ticks": ""
             }
            },
            "type": "parcoords"
           }
          ],
          "pie": [
           {
            "automargin": true,
            "type": "pie"
           }
          ],
          "scatter": [
           {
            "fillpattern": {
             "fillmode": "overlay",
             "size": 10,
             "solidity": 0.2
            },
            "type": "scatter"
           }
          ],
          "scatter3d": [
           {
            "line": {
             "colorbar": {
              "outlinewidth": 0,
              "ticks": ""
             }
            },
            "marker": {
             "colorbar": {
              "outlinewidth": 0,
              "ticks": ""
             }
            },
            "type": "scatter3d"
           }
          ],
          "scattercarpet": [
           {
            "marker": {
             "colorbar": {
              "outlinewidth": 0,
              "ticks": ""
             }
            },
            "type": "scattercarpet"
           }
          ],
          "scattergeo": [
           {
            "marker": {
             "colorbar": {
              "outlinewidth": 0,
              "ticks": ""
             }
            },
            "type": "scattergeo"
           }
          ],
          "scattergl": [
           {
            "marker": {
             "colorbar": {
              "outlinewidth": 0,
              "ticks": ""
             }
            },
            "type": "scattergl"
           }
          ],
          "scattermapbox": [
           {
            "marker": {
             "colorbar": {
              "outlinewidth": 0,
              "ticks": ""
             }
            },
            "type": "scattermapbox"
           }
          ],
          "scatterpolar": [
           {
            "marker": {
             "colorbar": {
              "outlinewidth": 0,
              "ticks": ""
             }
            },
            "type": "scatterpolar"
           }
          ],
          "scatterpolargl": [
           {
            "marker": {
             "colorbar": {
              "outlinewidth": 0,
              "ticks": ""
             }
            },
            "type": "scatterpolargl"
           }
          ],
          "scatterternary": [
           {
            "marker": {
             "colorbar": {
              "outlinewidth": 0,
              "ticks": ""
             }
            },
            "type": "scatterternary"
           }
          ],
          "surface": [
           {
            "colorbar": {
             "outlinewidth": 0,
             "ticks": ""
            },
            "colorscale": [
             [
              0,
              "#0d0887"
             ],
             [
              0.1111111111111111,
              "#46039f"
             ],
             [
              0.2222222222222222,
              "#7201a8"
             ],
             [
              0.3333333333333333,
              "#9c179e"
             ],
             [
              0.4444444444444444,
              "#bd3786"
             ],
             [
              0.5555555555555556,
              "#d8576b"
             ],
             [
              0.6666666666666666,
              "#ed7953"
             ],
             [
              0.7777777777777778,
              "#fb9f3a"
             ],
             [
              0.8888888888888888,
              "#fdca26"
             ],
             [
              1,
              "#f0f921"
             ]
            ],
            "type": "surface"
           }
          ],
          "table": [
           {
            "cells": {
             "fill": {
              "color": "#EBF0F8"
             },
             "line": {
              "color": "white"
             }
            },
            "header": {
             "fill": {
              "color": "#C8D4E3"
             },
             "line": {
              "color": "white"
             }
            },
            "type": "table"
           }
          ]
         },
         "layout": {
          "annotationdefaults": {
           "arrowcolor": "#2a3f5f",
           "arrowhead": 0,
           "arrowwidth": 1
          },
          "autotypenumbers": "strict",
          "coloraxis": {
           "colorbar": {
            "outlinewidth": 0,
            "ticks": ""
           }
          },
          "colorscale": {
           "diverging": [
            [
             0,
             "#8e0152"
            ],
            [
             0.1,
             "#c51b7d"
            ],
            [
             0.2,
             "#de77ae"
            ],
            [
             0.3,
             "#f1b6da"
            ],
            [
             0.4,
             "#fde0ef"
            ],
            [
             0.5,
             "#f7f7f7"
            ],
            [
             0.6,
             "#e6f5d0"
            ],
            [
             0.7,
             "#b8e186"
            ],
            [
             0.8,
             "#7fbc41"
            ],
            [
             0.9,
             "#4d9221"
            ],
            [
             1,
             "#276419"
            ]
           ],
           "sequential": [
            [
             0,
             "#0d0887"
            ],
            [
             0.1111111111111111,
             "#46039f"
            ],
            [
             0.2222222222222222,
             "#7201a8"
            ],
            [
             0.3333333333333333,
             "#9c179e"
            ],
            [
             0.4444444444444444,
             "#bd3786"
            ],
            [
             0.5555555555555556,
             "#d8576b"
            ],
            [
             0.6666666666666666,
             "#ed7953"
            ],
            [
             0.7777777777777778,
             "#fb9f3a"
            ],
            [
             0.8888888888888888,
             "#fdca26"
            ],
            [
             1,
             "#f0f921"
            ]
           ],
           "sequentialminus": [
            [
             0,
             "#0d0887"
            ],
            [
             0.1111111111111111,
             "#46039f"
            ],
            [
             0.2222222222222222,
             "#7201a8"
            ],
            [
             0.3333333333333333,
             "#9c179e"
            ],
            [
             0.4444444444444444,
             "#bd3786"
            ],
            [
             0.5555555555555556,
             "#d8576b"
            ],
            [
             0.6666666666666666,
             "#ed7953"
            ],
            [
             0.7777777777777778,
             "#fb9f3a"
            ],
            [
             0.8888888888888888,
             "#fdca26"
            ],
            [
             1,
             "#f0f921"
            ]
           ]
          },
          "colorway": [
           "#636efa",
           "#EF553B",
           "#00cc96",
           "#ab63fa",
           "#FFA15A",
           "#19d3f3",
           "#FF6692",
           "#B6E880",
           "#FF97FF",
           "#FECB52"
          ],
          "font": {
           "color": "#2a3f5f"
          },
          "geo": {
           "bgcolor": "white",
           "lakecolor": "white",
           "landcolor": "#E5ECF6",
           "showlakes": true,
           "showland": true,
           "subunitcolor": "white"
          },
          "hoverlabel": {
           "align": "left"
          },
          "hovermode": "closest",
          "mapbox": {
           "style": "light"
          },
          "paper_bgcolor": "white",
          "plot_bgcolor": "#E5ECF6",
          "polar": {
           "angularaxis": {
            "gridcolor": "white",
            "linecolor": "white",
            "ticks": ""
           },
           "bgcolor": "#E5ECF6",
           "radialaxis": {
            "gridcolor": "white",
            "linecolor": "white",
            "ticks": ""
           }
          },
          "scene": {
           "xaxis": {
            "backgroundcolor": "#E5ECF6",
            "gridcolor": "white",
            "gridwidth": 2,
            "linecolor": "white",
            "showbackground": true,
            "ticks": "",
            "zerolinecolor": "white"
           },
           "yaxis": {
            "backgroundcolor": "#E5ECF6",
            "gridcolor": "white",
            "gridwidth": 2,
            "linecolor": "white",
            "showbackground": true,
            "ticks": "",
            "zerolinecolor": "white"
           },
           "zaxis": {
            "backgroundcolor": "#E5ECF6",
            "gridcolor": "white",
            "gridwidth": 2,
            "linecolor": "white",
            "showbackground": true,
            "ticks": "",
            "zerolinecolor": "white"
           }
          },
          "shapedefaults": {
           "line": {
            "color": "#2a3f5f"
           }
          },
          "ternary": {
           "aaxis": {
            "gridcolor": "white",
            "linecolor": "white",
            "ticks": ""
           },
           "baxis": {
            "gridcolor": "white",
            "linecolor": "white",
            "ticks": ""
           },
           "bgcolor": "#E5ECF6",
           "caxis": {
            "gridcolor": "white",
            "linecolor": "white",
            "ticks": ""
           }
          },
          "title": {
           "x": 0.05
          },
          "xaxis": {
           "automargin": true,
           "gridcolor": "white",
           "linecolor": "white",
           "ticks": "",
           "title": {
            "standoff": 15
           },
           "zerolinecolor": "white",
           "zerolinewidth": 2
          },
          "yaxis": {
           "automargin": true,
           "gridcolor": "white",
           "linecolor": "white",
           "ticks": "",
           "title": {
            "standoff": 15
           },
           "zerolinecolor": "white",
           "zerolinewidth": 2
          }
         }
        },
        "updatemenus": [
         {
          "buttons": [
           {
            "args": [
             null,
             {
              "frame": {
               "duration": 500,
               "redraw": true
              },
              "fromcurrent": true,
              "mode": "immediate",
              "transition": {
               "duration": 500,
               "easing": "linear"
              }
             }
            ],
            "label": "&#9654;",
            "method": "animate"
           },
           {
            "args": [
             [
              null
             ],
             {
              "frame": {
               "duration": 0,
               "redraw": true
              },
              "fromcurrent": true,
              "mode": "immediate",
              "transition": {
               "duration": 0,
               "easing": "linear"
              }
             }
            ],
            "label": "&#9724;",
            "method": "animate"
           }
          ],
          "direction": "left",
          "pad": {
           "r": 10,
           "t": 70
          },
          "showactive": false,
          "type": "buttons",
          "x": 0.1,
          "xanchor": "right",
          "y": 0,
          "yanchor": "top"
         }
        ],
        "width": 950
       }
      }
     },
     "metadata": {},
     "output_type": "display_data"
    }
   ],
   "source": [
    "fig = px.scatter_mapbox(df2, lat=\"위도\", lon=\"경도\", size_max=25, color=\"감도\", \n",
    "                        animation_frame = '일자', #### 애니메이션 \n",
    "                        zoom=6, center = {\"lat\": 33, \"lon\": 129.0},\n",
    "                        width=950, height=750\n",
    "                       )\n",
    "\n",
    "fig.update_layout(\n",
    "    mapbox_style=\"white-bg\",\n",
    "    mapbox_layers=[\n",
    "        {\n",
    "            \"below\": 'traces',\n",
    "            \"sourcetype\": \"raster\",\n",
    "            \"sourceattribution\": \"vWorld\",\n",
    "            \"source\": [\"http://mt0.google.com/vt/lyrs=y&hl=en&x={x}&y={y}&z={z}&s=Ga\" ]\n",
    "        }\n",
    "      ])\n",
    "\n",
    "fig.update_layout(margin={\"r\":0,\"t\":0,\"l\":0,\"b\":0})\n",
    "fig.show()"
   ]
  }
 ],
 "metadata": {
  "kernelspec": {
   "display_name": "Python 3 (ipykernel)",
   "language": "python",
   "name": "python3"
  },
  "language_info": {
   "codemirror_mode": {
    "name": "ipython",
    "version": 3
   },
   "file_extension": ".py",
   "mimetype": "text/x-python",
   "name": "python",
   "nbconvert_exporter": "python",
   "pygments_lexer": "ipython3",
   "version": "3.11.5"
  }
 },
 "nbformat": 4,
 "nbformat_minor": 5
}
