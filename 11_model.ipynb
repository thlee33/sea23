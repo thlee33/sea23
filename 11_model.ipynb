{
 "cells": [
  {
   "cell_type": "code",
   "execution_count": 1,
   "id": "5ff99438",
   "metadata": {},
   "outputs": [],
   "source": [
    "import matplotlib.pyplot as plt\n",
    "%matplotlib inline\n",
    "plt.rc('font', family='Malgun Gothic') #한글 폰트 적용시"
   ]
  },
  {
   "cell_type": "code",
   "execution_count": 2,
   "id": "26f3c656",
   "metadata": {},
   "outputs": [
    {
     "name": "stderr",
     "output_type": "stream",
     "text": [
      "c:\\Users\\leesh\\AppData\\Local\\Programs\\Python\\Python311\\Lib\\site-packages\\geopandas\\_compat.py:124: UserWarning: The Shapely GEOS version (3.10.1-CAPI-1.16.0) is incompatible with the GEOS version PyGEOS was compiled with (3.10.4-CAPI-1.16.2). Conversions between both will be slow.\n",
      "  warnings.warn(\n"
     ]
    }
   ],
   "source": [
    "import pandas as pd\n",
    "import geopandas as gpd"
   ]
  },
  {
   "cell_type": "code",
   "execution_count": 3,
   "id": "c9678138",
   "metadata": {},
   "outputs": [
    {
     "name": "stdout",
     "output_type": "stream",
     "text": [
      "<class 'geopandas.geodataframe.GeoDataFrame'>\n",
      "RangeIndex: 220833 entries, 0 to 220832\n",
      "Data columns (total 21 columns):\n",
      " #   Column        Non-Null Count   Dtype   \n",
      "---  ------        --------------   -----   \n",
      " 0   spc_scitf_nm  220833 non-null  object  \n",
      " 1   comm_kor_nm   163598 non-null  object  \n",
      " 2   genus         220681 non-null  object  \n",
      " 3   genus_nm      164667 non-null  object  \n",
      " 4   family        220727 non-null  object  \n",
      " 5   family_nm     163772 non-null  object  \n",
      " 6   order_        220742 non-null  object  \n",
      " 7   order_nm      162672 non-null  object  \n",
      " 8   class         220809 non-null  object  \n",
      " 9   class_nm      171786 non-null  object  \n",
      " 10  phylum        220811 non-null  object  \n",
      " 11  phylum_nm     206406 non-null  object  \n",
      " 12  kingdom       220833 non-null  object  \n",
      " 13  kingdom_nm    220833 non-null  object  \n",
      " 14  lati_val      220833 non-null  float64 \n",
      " 15  loti_val      220833 non-null  float64 \n",
      " 16  col_bg_dt     220833 non-null  object  \n",
      " 17  ssea_id       220833 non-null  object  \n",
      " 18  sstrnc_no     218990 non-null  object  \n",
      " 19  kind          220833 non-null  object  \n",
      " 20  geometry      220833 non-null  geometry\n",
      "dtypes: float64(2), geometry(1), object(18)\n",
      "memory usage: 35.4+ MB\n"
     ]
    },
    {
     "data": {
      "text/html": [
       "<div>\n",
       "<style scoped>\n",
       "    .dataframe tbody tr th:only-of-type {\n",
       "        vertical-align: middle;\n",
       "    }\n",
       "\n",
       "    .dataframe tbody tr th {\n",
       "        vertical-align: top;\n",
       "    }\n",
       "\n",
       "    .dataframe thead th {\n",
       "        text-align: right;\n",
       "    }\n",
       "</style>\n",
       "<table border=\"1\" class=\"dataframe\">\n",
       "  <thead>\n",
       "    <tr style=\"text-align: right;\">\n",
       "      <th></th>\n",
       "      <th>spc_scitf_nm</th>\n",
       "      <th>comm_kor_nm</th>\n",
       "      <th>genus</th>\n",
       "      <th>genus_nm</th>\n",
       "      <th>family</th>\n",
       "      <th>family_nm</th>\n",
       "      <th>order_</th>\n",
       "      <th>order_nm</th>\n",
       "      <th>class</th>\n",
       "      <th>class_nm</th>\n",
       "      <th>...</th>\n",
       "      <th>phylum_nm</th>\n",
       "      <th>kingdom</th>\n",
       "      <th>kingdom_nm</th>\n",
       "      <th>lati_val</th>\n",
       "      <th>loti_val</th>\n",
       "      <th>col_bg_dt</th>\n",
       "      <th>ssea_id</th>\n",
       "      <th>sstrnc_no</th>\n",
       "      <th>kind</th>\n",
       "      <th>geometry</th>\n",
       "    </tr>\n",
       "  </thead>\n",
       "  <tbody>\n",
       "    <tr>\n",
       "      <th>0</th>\n",
       "      <td>Mucor circinelloides</td>\n",
       "      <td>None</td>\n",
       "      <td>Mucor</td>\n",
       "      <td>None</td>\n",
       "      <td>Mucoraceae</td>\n",
       "      <td>None</td>\n",
       "      <td>Mucorales</td>\n",
       "      <td>None</td>\n",
       "      <td>Mucoromycetes</td>\n",
       "      <td>None</td>\n",
       "      <td>...</td>\n",
       "      <td>None</td>\n",
       "      <td>Fungi</td>\n",
       "      <td>균계</td>\n",
       "      <td>38.481861</td>\n",
       "      <td>128.438194</td>\n",
       "      <td>20160802</td>\n",
       "      <td>EM</td>\n",
       "      <td>5055-3</td>\n",
       "      <td>mbris</td>\n",
       "      <td>POINT (128.43819 38.48186)</td>\n",
       "    </tr>\n",
       "    <tr>\n",
       "      <th>1</th>\n",
       "      <td>Paralinhomoeus gerlachi</td>\n",
       "      <td>None</td>\n",
       "      <td>Paralinhomoeus</td>\n",
       "      <td>None</td>\n",
       "      <td>Linhomoeidae</td>\n",
       "      <td>None</td>\n",
       "      <td>Monhysterida</td>\n",
       "      <td>None</td>\n",
       "      <td>Chromadorea</td>\n",
       "      <td>None</td>\n",
       "      <td>...</td>\n",
       "      <td>선형동물문</td>\n",
       "      <td>Animalia</td>\n",
       "      <td>동물계</td>\n",
       "      <td>38.269869</td>\n",
       "      <td>128.557564</td>\n",
       "      <td>20160415</td>\n",
       "      <td>EM</td>\n",
       "      <td>55-4</td>\n",
       "      <td>mbris</td>\n",
       "      <td>POINT (128.55756 38.26987)</td>\n",
       "    </tr>\n",
       "    <tr>\n",
       "      <th>2</th>\n",
       "      <td>Aplysia kurodai</td>\n",
       "      <td>군소</td>\n",
       "      <td>Aplysia</td>\n",
       "      <td>군소속</td>\n",
       "      <td>Aplysiidae</td>\n",
       "      <td>군소과</td>\n",
       "      <td>Aplysiida</td>\n",
       "      <td>None</td>\n",
       "      <td>Gastropoda</td>\n",
       "      <td>복족강</td>\n",
       "      <td>...</td>\n",
       "      <td>연체동물문</td>\n",
       "      <td>Animalia</td>\n",
       "      <td>동물계</td>\n",
       "      <td>38.271903</td>\n",
       "      <td>128.558261</td>\n",
       "      <td>20190522</td>\n",
       "      <td>EM</td>\n",
       "      <td>55-4</td>\n",
       "      <td>mbris</td>\n",
       "      <td>POINT (128.55826 38.27190)</td>\n",
       "    </tr>\n",
       "    <tr>\n",
       "      <th>3</th>\n",
       "      <td>Botrytis cinerea</td>\n",
       "      <td>None</td>\n",
       "      <td>Botrytis</td>\n",
       "      <td>None</td>\n",
       "      <td>Sclerotiniaceae</td>\n",
       "      <td>None</td>\n",
       "      <td>Helotiales</td>\n",
       "      <td>None</td>\n",
       "      <td>Leotiomycetes</td>\n",
       "      <td>None</td>\n",
       "      <td>...</td>\n",
       "      <td>None</td>\n",
       "      <td>Fungi</td>\n",
       "      <td>균계</td>\n",
       "      <td>38.153361</td>\n",
       "      <td>128.608306</td>\n",
       "      <td>19000100</td>\n",
       "      <td>EM</td>\n",
       "      <td>55-7</td>\n",
       "      <td>mbris</td>\n",
       "      <td>POINT (128.60831 38.15336)</td>\n",
       "    </tr>\n",
       "    <tr>\n",
       "      <th>4</th>\n",
       "      <td>Trichoderma</td>\n",
       "      <td>None</td>\n",
       "      <td>Trichoderma</td>\n",
       "      <td>None</td>\n",
       "      <td>Hypocreaceae</td>\n",
       "      <td>None</td>\n",
       "      <td>Hypocreales</td>\n",
       "      <td>None</td>\n",
       "      <td>Sordariomycetes</td>\n",
       "      <td>None</td>\n",
       "      <td>...</td>\n",
       "      <td>None</td>\n",
       "      <td>Fungi</td>\n",
       "      <td>균계</td>\n",
       "      <td>37.858556</td>\n",
       "      <td>128.854389</td>\n",
       "      <td>20160926</td>\n",
       "      <td>EM</td>\n",
       "      <td>62-3</td>\n",
       "      <td>mbris</td>\n",
       "      <td>POINT (128.85439 37.85856)</td>\n",
       "    </tr>\n",
       "  </tbody>\n",
       "</table>\n",
       "<p>5 rows × 21 columns</p>\n",
       "</div>"
      ],
      "text/plain": [
       "              spc_scitf_nm comm_kor_nm           genus genus_nm  \\\n",
       "0     Mucor circinelloides        None           Mucor     None   \n",
       "1  Paralinhomoeus gerlachi        None  Paralinhomoeus     None   \n",
       "2          Aplysia kurodai          군소         Aplysia      군소속   \n",
       "3         Botrytis cinerea        None        Botrytis     None   \n",
       "4              Trichoderma        None     Trichoderma     None   \n",
       "\n",
       "            family family_nm        order_ order_nm            class class_nm  \\\n",
       "0       Mucoraceae      None     Mucorales     None    Mucoromycetes     None   \n",
       "1     Linhomoeidae      None  Monhysterida     None      Chromadorea     None   \n",
       "2       Aplysiidae       군소과     Aplysiida     None       Gastropoda      복족강   \n",
       "3  Sclerotiniaceae      None    Helotiales     None    Leotiomycetes     None   \n",
       "4     Hypocreaceae      None   Hypocreales     None  Sordariomycetes     None   \n",
       "\n",
       "   ... phylum_nm   kingdom kingdom_nm   lati_val    loti_val  col_bg_dt  \\\n",
       "0  ...      None     Fungi         균계  38.481861  128.438194   20160802   \n",
       "1  ...     선형동물문  Animalia        동물계  38.269869  128.557564   20160415   \n",
       "2  ...     연체동물문  Animalia        동물계  38.271903  128.558261   20190522   \n",
       "3  ...      None     Fungi         균계  38.153361  128.608306   19000100   \n",
       "4  ...      None     Fungi         균계  37.858556  128.854389   20160926   \n",
       "\n",
       "  ssea_id sstrnc_no   kind                    geometry  \n",
       "0      EM    5055-3  mbris  POINT (128.43819 38.48186)  \n",
       "1      EM      55-4  mbris  POINT (128.55756 38.26987)  \n",
       "2      EM      55-4  mbris  POINT (128.55826 38.27190)  \n",
       "3      EM      55-7  mbris  POINT (128.60831 38.15336)  \n",
       "4      EM      62-3  mbris  POINT (128.85439 37.85856)  \n",
       "\n",
       "[5 rows x 21 columns]"
      ]
     },
     "execution_count": 3,
     "metadata": {},
     "output_type": "execute_result"
    }
   ],
   "source": [
    "# 종분포 데이터\n",
    "gdf_pt = gpd.read_file('../data/geo_mbris_obis_edu_light.gpkg', encoding=\"UTF-8\")\n",
    "gdf_pt.info()\n",
    "gdf_pt.head()"
   ]
  },
  {
   "cell_type": "code",
   "execution_count": 4,
   "id": "51f55431",
   "metadata": {},
   "outputs": [
    {
     "name": "stdout",
     "output_type": "stream",
     "text": [
      "<class 'geopandas.geodataframe.GeoDataFrame'>\n",
      "RangeIndex: 2926 entries, 0 to 2925\n",
      "Data columns (total 9 columns):\n",
      " #   Column    Non-Null Count  Dtype   \n",
      "---  ------    --------------  -----   \n",
      " 0   gid       2926 non-null   int64   \n",
      " 1   lati_val  2926 non-null   object  \n",
      " 2   loti_val  2926 non-null   object  \n",
      " 3   cur_spd   2926 non-null   float64 \n",
      " 4   cur_dir   2926 non-null   float64 \n",
      " 5   wtem      2926 non-null   float64 \n",
      " 6   slnty     2926 non-null   float64 \n",
      " 7   obsr_dt   2926 non-null   object  \n",
      " 8   geometry  2926 non-null   geometry\n",
      "dtypes: float64(4), geometry(1), int64(1), object(3)\n",
      "memory usage: 205.9+ KB\n"
     ]
    },
    {
     "data": {
      "text/html": [
       "<div>\n",
       "<style scoped>\n",
       "    .dataframe tbody tr th:only-of-type {\n",
       "        vertical-align: middle;\n",
       "    }\n",
       "\n",
       "    .dataframe tbody tr th {\n",
       "        vertical-align: top;\n",
       "    }\n",
       "\n",
       "    .dataframe thead th {\n",
       "        text-align: right;\n",
       "    }\n",
       "</style>\n",
       "<table border=\"1\" class=\"dataframe\">\n",
       "  <thead>\n",
       "    <tr style=\"text-align: right;\">\n",
       "      <th></th>\n",
       "      <th>gid</th>\n",
       "      <th>lati_val</th>\n",
       "      <th>loti_val</th>\n",
       "      <th>cur_spd</th>\n",
       "      <th>cur_dir</th>\n",
       "      <th>wtem</th>\n",
       "      <th>slnty</th>\n",
       "      <th>obsr_dt</th>\n",
       "      <th>geometry</th>\n",
       "    </tr>\n",
       "  </thead>\n",
       "  <tbody>\n",
       "    <tr>\n",
       "      <th>0</th>\n",
       "      <td>33343433</td>\n",
       "      <td>26.125</td>\n",
       "      <td>120.125</td>\n",
       "      <td>0.043738</td>\n",
       "      <td>79.460815</td>\n",
       "      <td>21.058001</td>\n",
       "      <td>33.359001</td>\n",
       "      <td>201911</td>\n",
       "      <td>MULTIPOLYGON (((120.00000 26.00000, 120.00000 ...</td>\n",
       "    </tr>\n",
       "    <tr>\n",
       "      <th>1</th>\n",
       "      <td>33343434</td>\n",
       "      <td>26.125</td>\n",
       "      <td>120.375</td>\n",
       "      <td>0.029833</td>\n",
       "      <td>140.440338</td>\n",
       "      <td>21.926001</td>\n",
       "      <td>33.463001</td>\n",
       "      <td>201911</td>\n",
       "      <td>MULTIPOLYGON (((120.25000 26.00000, 120.25000 ...</td>\n",
       "    </tr>\n",
       "    <tr>\n",
       "      <th>2</th>\n",
       "      <td>33343435</td>\n",
       "      <td>26.125</td>\n",
       "      <td>120.625</td>\n",
       "      <td>0.087092</td>\n",
       "      <td>267.367554</td>\n",
       "      <td>22.434000</td>\n",
       "      <td>33.562000</td>\n",
       "      <td>201911</td>\n",
       "      <td>MULTIPOLYGON (((120.50000 26.00000, 120.50000 ...</td>\n",
       "    </tr>\n",
       "    <tr>\n",
       "      <th>3</th>\n",
       "      <td>33343436</td>\n",
       "      <td>26.125</td>\n",
       "      <td>120.875</td>\n",
       "      <td>0.160611</td>\n",
       "      <td>264.999359</td>\n",
       "      <td>22.709000</td>\n",
       "      <td>33.610001</td>\n",
       "      <td>201911</td>\n",
       "      <td>MULTIPOLYGON (((120.75000 26.00000, 120.75000 ...</td>\n",
       "    </tr>\n",
       "    <tr>\n",
       "      <th>4</th>\n",
       "      <td>33343437</td>\n",
       "      <td>26.125</td>\n",
       "      <td>121.125</td>\n",
       "      <td>0.116069</td>\n",
       "      <td>271.974945</td>\n",
       "      <td>23.181999</td>\n",
       "      <td>33.687000</td>\n",
       "      <td>201911</td>\n",
       "      <td>MULTIPOLYGON (((121.00000 26.00000, 121.00000 ...</td>\n",
       "    </tr>\n",
       "  </tbody>\n",
       "</table>\n",
       "</div>"
      ],
      "text/plain": [
       "        gid lati_val loti_val   cur_spd     cur_dir       wtem      slnty  \\\n",
       "0  33343433   26.125  120.125  0.043738   79.460815  21.058001  33.359001   \n",
       "1  33343434   26.125  120.375  0.029833  140.440338  21.926001  33.463001   \n",
       "2  33343435   26.125  120.625  0.087092  267.367554  22.434000  33.562000   \n",
       "3  33343436   26.125  120.875  0.160611  264.999359  22.709000  33.610001   \n",
       "4  33343437   26.125  121.125  0.116069  271.974945  23.181999  33.687000   \n",
       "\n",
       "  obsr_dt                                           geometry  \n",
       "0  201911  MULTIPOLYGON (((120.00000 26.00000, 120.00000 ...  \n",
       "1  201911  MULTIPOLYGON (((120.25000 26.00000, 120.25000 ...  \n",
       "2  201911  MULTIPOLYGON (((120.50000 26.00000, 120.50000 ...  \n",
       "3  201911  MULTIPOLYGON (((120.75000 26.00000, 120.75000 ...  \n",
       "4  201911  MULTIPOLYGON (((121.00000 26.00000, 121.00000 ...  "
      ]
     },
     "execution_count": 4,
     "metadata": {},
     "output_type": "execute_result"
    }
   ],
   "source": [
    "# 해양물리자료\n",
    "gdf_model = gpd.read_file('../data/phisics/data.gpkg', encoding=\"UTF-8\")\n",
    "gdf_model.info()\n",
    "gdf_model.head()"
   ]
  },
  {
   "cell_type": "code",
   "execution_count": 5,
   "id": "23ea05dd",
   "metadata": {},
   "outputs": [
    {
     "data": {
      "text/html": [
       "<div>\n",
       "<style scoped>\n",
       "    .dataframe tbody tr th:only-of-type {\n",
       "        vertical-align: middle;\n",
       "    }\n",
       "\n",
       "    .dataframe tbody tr th {\n",
       "        vertical-align: top;\n",
       "    }\n",
       "\n",
       "    .dataframe thead th {\n",
       "        text-align: right;\n",
       "    }\n",
       "</style>\n",
       "<table border=\"1\" class=\"dataframe\">\n",
       "  <thead>\n",
       "    <tr style=\"text-align: right;\">\n",
       "      <th></th>\n",
       "      <th>gid</th>\n",
       "      <th>cur_spd</th>\n",
       "      <th>cur_dir</th>\n",
       "      <th>wtem</th>\n",
       "      <th>slnty</th>\n",
       "    </tr>\n",
       "  </thead>\n",
       "  <tbody>\n",
       "    <tr>\n",
       "      <th>count</th>\n",
       "      <td>2.926000e+03</td>\n",
       "      <td>2926.000000</td>\n",
       "      <td>2926.000000</td>\n",
       "      <td>2926.000000</td>\n",
       "      <td>2926.000000</td>\n",
       "    </tr>\n",
       "    <tr>\n",
       "      <th>mean</th>\n",
       "      <td>3.336673e+07</td>\n",
       "      <td>0.191633</td>\n",
       "      <td>156.086862</td>\n",
       "      <td>20.005514</td>\n",
       "      <td>33.431636</td>\n",
       "    </tr>\n",
       "    <tr>\n",
       "      <th>std</th>\n",
       "      <td>1.528847e+04</td>\n",
       "      <td>0.187484</td>\n",
       "      <td>118.661733</td>\n",
       "      <td>4.792959</td>\n",
       "      <td>1.071796</td>\n",
       "    </tr>\n",
       "    <tr>\n",
       "      <th>min</th>\n",
       "      <td>3.334343e+07</td>\n",
       "      <td>0.001414</td>\n",
       "      <td>0.000000</td>\n",
       "      <td>4.049999</td>\n",
       "      <td>30.149000</td>\n",
       "    </tr>\n",
       "    <tr>\n",
       "      <th>25%</th>\n",
       "      <td>3.335339e+07</td>\n",
       "      <td>0.065620</td>\n",
       "      <td>49.902904</td>\n",
       "      <td>17.093000</td>\n",
       "      <td>33.235001</td>\n",
       "    </tr>\n",
       "    <tr>\n",
       "      <th>50%</th>\n",
       "      <td>3.336449e+07</td>\n",
       "      <td>0.127636</td>\n",
       "      <td>114.666259</td>\n",
       "      <td>21.297999</td>\n",
       "      <td>33.598999</td>\n",
       "    </tr>\n",
       "    <tr>\n",
       "      <th>75%</th>\n",
       "      <td>3.338048e+07</td>\n",
       "      <td>0.251693</td>\n",
       "      <td>277.356636</td>\n",
       "      <td>24.309001</td>\n",
       "      <td>34.380001</td>\n",
       "    </tr>\n",
       "    <tr>\n",
       "      <th>max</th>\n",
       "      <td>3.339894e+07</td>\n",
       "      <td>1.056907</td>\n",
       "      <td>359.871521</td>\n",
       "      <td>26.294001</td>\n",
       "      <td>34.639999</td>\n",
       "    </tr>\n",
       "  </tbody>\n",
       "</table>\n",
       "</div>"
      ],
      "text/plain": [
       "                gid      cur_spd      cur_dir         wtem        slnty\n",
       "count  2.926000e+03  2926.000000  2926.000000  2926.000000  2926.000000\n",
       "mean   3.336673e+07     0.191633   156.086862    20.005514    33.431636\n",
       "std    1.528847e+04     0.187484   118.661733     4.792959     1.071796\n",
       "min    3.334343e+07     0.001414     0.000000     4.049999    30.149000\n",
       "25%    3.335339e+07     0.065620    49.902904    17.093000    33.235001\n",
       "50%    3.336449e+07     0.127636   114.666259    21.297999    33.598999\n",
       "75%    3.338048e+07     0.251693   277.356636    24.309001    34.380001\n",
       "max    3.339894e+07     1.056907   359.871521    26.294001    34.639999"
      ]
     },
     "execution_count": 5,
     "metadata": {},
     "output_type": "execute_result"
    }
   ],
   "source": [
    "# 수치형 데이터 기술 통계 검토\n",
    "gdf_model.describe()"
   ]
  },
  {
   "cell_type": "markdown",
   "id": "cd2cb620",
   "metadata": {},
   "source": [
    "### 2019년 11월 해양물리(수치모델)에서 수온 10도 이상 20도 미만을 추출 "
   ]
  },
  {
   "cell_type": "code",
   "execution_count": 6,
   "id": "a8d0401b",
   "metadata": {},
   "outputs": [
    {
     "name": "stdout",
     "output_type": "stream",
     "text": [
      "<class 'geopandas.geodataframe.GeoDataFrame'>\n",
      "Index: 1222 entries, 652 to 2896\n",
      "Data columns (total 9 columns):\n",
      " #   Column    Non-Null Count  Dtype   \n",
      "---  ------    --------------  -----   \n",
      " 0   gid       1222 non-null   int64   \n",
      " 1   lati_val  1222 non-null   object  \n",
      " 2   loti_val  1222 non-null   object  \n",
      " 3   cur_spd   1222 non-null   float64 \n",
      " 4   cur_dir   1222 non-null   float64 \n",
      " 5   wtem      1222 non-null   float64 \n",
      " 6   slnty     1222 non-null   float64 \n",
      " 7   obsr_dt   1222 non-null   object  \n",
      " 8   geometry  1222 non-null   geometry\n",
      "dtypes: float64(4), geometry(1), int64(1), object(3)\n",
      "memory usage: 95.5+ KB\n"
     ]
    },
    {
     "data": {
      "text/html": [
       "<div>\n",
       "<style scoped>\n",
       "    .dataframe tbody tr th:only-of-type {\n",
       "        vertical-align: middle;\n",
       "    }\n",
       "\n",
       "    .dataframe tbody tr th {\n",
       "        vertical-align: top;\n",
       "    }\n",
       "\n",
       "    .dataframe thead th {\n",
       "        text-align: right;\n",
       "    }\n",
       "</style>\n",
       "<table border=\"1\" class=\"dataframe\">\n",
       "  <thead>\n",
       "    <tr style=\"text-align: right;\">\n",
       "      <th></th>\n",
       "      <th>gid</th>\n",
       "      <th>lati_val</th>\n",
       "      <th>loti_val</th>\n",
       "      <th>cur_spd</th>\n",
       "      <th>cur_dir</th>\n",
       "      <th>wtem</th>\n",
       "      <th>slnty</th>\n",
       "      <th>obsr_dt</th>\n",
       "      <th>geometry</th>\n",
       "    </tr>\n",
       "  </thead>\n",
       "  <tbody>\n",
       "    <tr>\n",
       "      <th>652</th>\n",
       "      <td>33352552</td>\n",
       "      <td>28.875</td>\n",
       "      <td>122.125</td>\n",
       "      <td>0.151347</td>\n",
       "      <td>248.690689</td>\n",
       "      <td>19.865</td>\n",
       "      <td>32.653000</td>\n",
       "      <td>201911</td>\n",
       "      <td>MULTIPOLYGON (((122.00000 28.75000, 122.00000 ...</td>\n",
       "    </tr>\n",
       "    <tr>\n",
       "      <th>767</th>\n",
       "      <td>33354179</td>\n",
       "      <td>29.375</td>\n",
       "      <td>122.375</td>\n",
       "      <td>0.140089</td>\n",
       "      <td>214.824493</td>\n",
       "      <td>19.931</td>\n",
       "      <td>32.530998</td>\n",
       "      <td>201911</td>\n",
       "      <td>MULTIPOLYGON (((122.25000 29.25000, 122.25000 ...</td>\n",
       "    </tr>\n",
       "    <tr>\n",
       "      <th>987</th>\n",
       "      <td>33357324</td>\n",
       "      <td>30.375</td>\n",
       "      <td>122.625</td>\n",
       "      <td>0.099925</td>\n",
       "      <td>13.897176</td>\n",
       "      <td>19.645</td>\n",
       "      <td>32.139000</td>\n",
       "      <td>201911</td>\n",
       "      <td>MULTIPOLYGON (((122.50000 30.25000, 122.50000 ...</td>\n",
       "    </tr>\n",
       "    <tr>\n",
       "      <th>1038</th>\n",
       "      <td>33358095</td>\n",
       "      <td>30.625</td>\n",
       "      <td>122.125</td>\n",
       "      <td>0.030463</td>\n",
       "      <td>23.198589</td>\n",
       "      <td>18.164</td>\n",
       "      <td>31.611999</td>\n",
       "      <td>201911</td>\n",
       "      <td>MULTIPOLYGON (((122.00000 30.50000, 122.00000 ...</td>\n",
       "    </tr>\n",
       "    <tr>\n",
       "      <th>1039</th>\n",
       "      <td>33358096</td>\n",
       "      <td>30.625</td>\n",
       "      <td>122.375</td>\n",
       "      <td>0.128969</td>\n",
       "      <td>56.063499</td>\n",
       "      <td>18.961</td>\n",
       "      <td>31.863001</td>\n",
       "      <td>201911</td>\n",
       "      <td>MULTIPOLYGON (((122.25000 30.50000, 122.25000 ...</td>\n",
       "    </tr>\n",
       "  </tbody>\n",
       "</table>\n",
       "</div>"
      ],
      "text/plain": [
       "           gid lati_val loti_val   cur_spd     cur_dir    wtem      slnty  \\\n",
       "652   33352552   28.875  122.125  0.151347  248.690689  19.865  32.653000   \n",
       "767   33354179   29.375  122.375  0.140089  214.824493  19.931  32.530998   \n",
       "987   33357324   30.375  122.625  0.099925   13.897176  19.645  32.139000   \n",
       "1038  33358095   30.625  122.125  0.030463   23.198589  18.164  31.611999   \n",
       "1039  33358096   30.625  122.375  0.128969   56.063499  18.961  31.863001   \n",
       "\n",
       "     obsr_dt                                           geometry  \n",
       "652   201911  MULTIPOLYGON (((122.00000 28.75000, 122.00000 ...  \n",
       "767   201911  MULTIPOLYGON (((122.25000 29.25000, 122.25000 ...  \n",
       "987   201911  MULTIPOLYGON (((122.50000 30.25000, 122.50000 ...  \n",
       "1038  201911  MULTIPOLYGON (((122.00000 30.50000, 122.00000 ...  \n",
       "1039  201911  MULTIPOLYGON (((122.25000 30.50000, 122.25000 ...  "
      ]
     },
     "execution_count": 6,
     "metadata": {},
     "output_type": "execute_result"
    }
   ],
   "source": [
    "gdf_model2 = gdf_model[(gdf_model.wtem >= 10) & (gdf_model.wtem < 20)  ]\n",
    "gdf_model2.info()\n",
    "gdf_model2.head()"
   ]
  },
  {
   "cell_type": "markdown",
   "id": "e565db2b",
   "metadata": {},
   "source": [
    "### 추출한 해양물리 영역에 위치하는 종분포 데이터만 추출"
   ]
  },
  {
   "cell_type": "code",
   "execution_count": 7,
   "id": "605e011e",
   "metadata": {},
   "outputs": [],
   "source": [
    "gdf_model3 = gdf_model2[ (gdf_model2.obsr_dt == '201911') & (gdf_model2.wtem >= 10) & (gdf_model2.wtem < 20)  ]"
   ]
  },
  {
   "cell_type": "code",
   "execution_count": 8,
   "id": "a60dd438",
   "metadata": {},
   "outputs": [
    {
     "name": "stdout",
     "output_type": "stream",
     "text": [
      "<class 'geopandas.geodataframe.GeoDataFrame'>\n",
      "Index: 24277 entries, 29 to 220823\n",
      "Data columns (total 30 columns):\n",
      " #   Column          Non-Null Count  Dtype   \n",
      "---  ------          --------------  -----   \n",
      " 0   spc_scitf_nm    24277 non-null  object  \n",
      " 1   comm_kor_nm     19818 non-null  object  \n",
      " 2   genus           24250 non-null  object  \n",
      " 3   genus_nm        19078 non-null  object  \n",
      " 4   family          24256 non-null  object  \n",
      " 5   family_nm       20128 non-null  object  \n",
      " 6   order_          24256 non-null  object  \n",
      " 7   order_nm        20117 non-null  object  \n",
      " 8   class           24272 non-null  object  \n",
      " 9   class_nm        20339 non-null  object  \n",
      " 10  phylum          24272 non-null  object  \n",
      " 11  phylum_nm       21619 non-null  object  \n",
      " 12  kingdom         24277 non-null  object  \n",
      " 13  kingdom_nm      24277 non-null  object  \n",
      " 14  lati_val_left   24277 non-null  float64 \n",
      " 15  loti_val_left   24277 non-null  float64 \n",
      " 16  col_bg_dt       24277 non-null  object  \n",
      " 17  ssea_id         24277 non-null  object  \n",
      " 18  sstrnc_no       24218 non-null  object  \n",
      " 19  kind            24277 non-null  object  \n",
      " 20  geometry        24277 non-null  geometry\n",
      " 21  index_right     24277 non-null  int64   \n",
      " 22  gid             24277 non-null  int64   \n",
      " 23  lati_val_right  24277 non-null  object  \n",
      " 24  loti_val_right  24277 non-null  object  \n",
      " 25  cur_spd         24277 non-null  float64 \n",
      " 26  cur_dir         24277 non-null  float64 \n",
      " 27  wtem            24277 non-null  float64 \n",
      " 28  slnty           24277 non-null  float64 \n",
      " 29  obsr_dt         24277 non-null  object  \n",
      "dtypes: float64(6), geometry(1), int64(2), object(21)\n",
      "memory usage: 5.7+ MB\n"
     ]
    },
    {
     "data": {
      "text/html": [
       "<div>\n",
       "<style scoped>\n",
       "    .dataframe tbody tr th:only-of-type {\n",
       "        vertical-align: middle;\n",
       "    }\n",
       "\n",
       "    .dataframe tbody tr th {\n",
       "        vertical-align: top;\n",
       "    }\n",
       "\n",
       "    .dataframe thead th {\n",
       "        text-align: right;\n",
       "    }\n",
       "</style>\n",
       "<table border=\"1\" class=\"dataframe\">\n",
       "  <thead>\n",
       "    <tr style=\"text-align: right;\">\n",
       "      <th></th>\n",
       "      <th>spc_scitf_nm</th>\n",
       "      <th>comm_kor_nm</th>\n",
       "      <th>genus</th>\n",
       "      <th>genus_nm</th>\n",
       "      <th>family</th>\n",
       "      <th>family_nm</th>\n",
       "      <th>order_</th>\n",
       "      <th>order_nm</th>\n",
       "      <th>class</th>\n",
       "      <th>class_nm</th>\n",
       "      <th>...</th>\n",
       "      <th>geometry</th>\n",
       "      <th>index_right</th>\n",
       "      <th>gid</th>\n",
       "      <th>lati_val_right</th>\n",
       "      <th>loti_val_right</th>\n",
       "      <th>cur_spd</th>\n",
       "      <th>cur_dir</th>\n",
       "      <th>wtem</th>\n",
       "      <th>slnty</th>\n",
       "      <th>obsr_dt</th>\n",
       "    </tr>\n",
       "  </thead>\n",
       "  <tbody>\n",
       "    <tr>\n",
       "      <th>29</th>\n",
       "      <td>Bacillus safensis</td>\n",
       "      <td>None</td>\n",
       "      <td>Bacillus</td>\n",
       "      <td>None</td>\n",
       "      <td>Bacillaceae</td>\n",
       "      <td>None</td>\n",
       "      <td>Caryophanales</td>\n",
       "      <td>None</td>\n",
       "      <td>Bacilli</td>\n",
       "      <td>None</td>\n",
       "      <td>...</td>\n",
       "      <td>POINT (130.18611 37.09500)</td>\n",
       "      <td>2101</td>\n",
       "      <td>33378916</td>\n",
       "      <td>37.125</td>\n",
       "      <td>130.125</td>\n",
       "      <td>0.210858</td>\n",
       "      <td>84.83017</td>\n",
       "      <td>19.855</td>\n",
       "      <td>33.385002</td>\n",
       "      <td>201911</td>\n",
       "    </tr>\n",
       "    <tr>\n",
       "      <th>179996</th>\n",
       "      <td>Pagurus rubrior</td>\n",
       "      <td>얼룩참집게</td>\n",
       "      <td>Pagurus</td>\n",
       "      <td>참집게속</td>\n",
       "      <td>Paguridae</td>\n",
       "      <td>집게과</td>\n",
       "      <td>Decapoda</td>\n",
       "      <td>십각목</td>\n",
       "      <td>Malacostraca</td>\n",
       "      <td>연갑강</td>\n",
       "      <td>...</td>\n",
       "      <td>POINT (130.07278 37.06528)</td>\n",
       "      <td>2101</td>\n",
       "      <td>33378916</td>\n",
       "      <td>37.125</td>\n",
       "      <td>130.125</td>\n",
       "      <td>0.210858</td>\n",
       "      <td>84.83017</td>\n",
       "      <td>19.855</td>\n",
       "      <td>33.385002</td>\n",
       "      <td>201911</td>\n",
       "    </tr>\n",
       "    <tr>\n",
       "      <th>179997</th>\n",
       "      <td>Pagurus pectinatus</td>\n",
       "      <td>빗참집게</td>\n",
       "      <td>Pagurus</td>\n",
       "      <td>참집게속</td>\n",
       "      <td>Paguridae</td>\n",
       "      <td>집게과</td>\n",
       "      <td>Decapoda</td>\n",
       "      <td>십각목</td>\n",
       "      <td>Malacostraca</td>\n",
       "      <td>연갑강</td>\n",
       "      <td>...</td>\n",
       "      <td>POINT (130.07278 37.06528)</td>\n",
       "      <td>2101</td>\n",
       "      <td>33378916</td>\n",
       "      <td>37.125</td>\n",
       "      <td>130.125</td>\n",
       "      <td>0.210858</td>\n",
       "      <td>84.83017</td>\n",
       "      <td>19.855</td>\n",
       "      <td>33.385002</td>\n",
       "      <td>201911</td>\n",
       "    </tr>\n",
       "    <tr>\n",
       "      <th>179998</th>\n",
       "      <td>Brevibacterium frigoritolerans</td>\n",
       "      <td>None</td>\n",
       "      <td>Brevibacterium</td>\n",
       "      <td>None</td>\n",
       "      <td>Brevibacteriaceae</td>\n",
       "      <td>None</td>\n",
       "      <td>Micrococcales</td>\n",
       "      <td>None</td>\n",
       "      <td>Actinomycetes</td>\n",
       "      <td>None</td>\n",
       "      <td>...</td>\n",
       "      <td>POINT (130.18333 37.09056)</td>\n",
       "      <td>2101</td>\n",
       "      <td>33378916</td>\n",
       "      <td>37.125</td>\n",
       "      <td>130.125</td>\n",
       "      <td>0.210858</td>\n",
       "      <td>84.83017</td>\n",
       "      <td>19.855</td>\n",
       "      <td>33.385002</td>\n",
       "      <td>201911</td>\n",
       "    </tr>\n",
       "    <tr>\n",
       "      <th>179999</th>\n",
       "      <td>Brevibacterium frigoritolerans</td>\n",
       "      <td>None</td>\n",
       "      <td>Brevibacterium</td>\n",
       "      <td>None</td>\n",
       "      <td>Brevibacteriaceae</td>\n",
       "      <td>None</td>\n",
       "      <td>Micrococcales</td>\n",
       "      <td>None</td>\n",
       "      <td>Actinomycetes</td>\n",
       "      <td>None</td>\n",
       "      <td>...</td>\n",
       "      <td>POINT (130.18333 37.09056)</td>\n",
       "      <td>2101</td>\n",
       "      <td>33378916</td>\n",
       "      <td>37.125</td>\n",
       "      <td>130.125</td>\n",
       "      <td>0.210858</td>\n",
       "      <td>84.83017</td>\n",
       "      <td>19.855</td>\n",
       "      <td>33.385002</td>\n",
       "      <td>201911</td>\n",
       "    </tr>\n",
       "  </tbody>\n",
       "</table>\n",
       "<p>5 rows × 30 columns</p>\n",
       "</div>"
      ],
      "text/plain": [
       "                          spc_scitf_nm comm_kor_nm           genus genus_nm  \\\n",
       "29                   Bacillus safensis        None        Bacillus     None   \n",
       "179996                 Pagurus rubrior       얼룩참집게         Pagurus     참집게속   \n",
       "179997              Pagurus pectinatus        빗참집게         Pagurus     참집게속   \n",
       "179998  Brevibacterium frigoritolerans        None  Brevibacterium     None   \n",
       "179999  Brevibacterium frigoritolerans        None  Brevibacterium     None   \n",
       "\n",
       "                   family family_nm         order_ order_nm          class  \\\n",
       "29            Bacillaceae      None  Caryophanales     None        Bacilli   \n",
       "179996          Paguridae       집게과       Decapoda      십각목   Malacostraca   \n",
       "179997          Paguridae       집게과       Decapoda      십각목   Malacostraca   \n",
       "179998  Brevibacteriaceae      None  Micrococcales     None  Actinomycetes   \n",
       "179999  Brevibacteriaceae      None  Micrococcales     None  Actinomycetes   \n",
       "\n",
       "       class_nm  ...                    geometry index_right       gid  \\\n",
       "29         None  ...  POINT (130.18611 37.09500)        2101  33378916   \n",
       "179996      연갑강  ...  POINT (130.07278 37.06528)        2101  33378916   \n",
       "179997      연갑강  ...  POINT (130.07278 37.06528)        2101  33378916   \n",
       "179998     None  ...  POINT (130.18333 37.09056)        2101  33378916   \n",
       "179999     None  ...  POINT (130.18333 37.09056)        2101  33378916   \n",
       "\n",
       "       lati_val_right  loti_val_right   cur_spd   cur_dir    wtem      slnty  \\\n",
       "29             37.125         130.125  0.210858  84.83017  19.855  33.385002   \n",
       "179996         37.125         130.125  0.210858  84.83017  19.855  33.385002   \n",
       "179997         37.125         130.125  0.210858  84.83017  19.855  33.385002   \n",
       "179998         37.125         130.125  0.210858  84.83017  19.855  33.385002   \n",
       "179999         37.125         130.125  0.210858  84.83017  19.855  33.385002   \n",
       "\n",
       "       obsr_dt  \n",
       "29      201911  \n",
       "179996  201911  \n",
       "179997  201911  \n",
       "179998  201911  \n",
       "179999  201911  \n",
       "\n",
       "[5 rows x 30 columns]"
      ]
     },
     "execution_count": 8,
     "metadata": {},
     "output_type": "execute_result"
    }
   ],
   "source": [
    "# 종분포(포인트)에  해양물리를 공간조인  \n",
    "gdf_pt2 = gpd.sjoin(gdf_pt, gdf_model2 )\n",
    "gdf_pt2.info()\n",
    "gdf_pt2.head()"
   ]
  },
  {
   "cell_type": "code",
   "execution_count": 9,
   "id": "7535d844",
   "metadata": {},
   "outputs": [
    {
     "name": "stdout",
     "output_type": "stream",
     "text": [
      "<class 'geopandas.geodataframe.GeoDataFrame'>\n",
      "Index: 24277 entries, 29 to 220823\n",
      "Data columns (total 3 columns):\n",
      " #   Column     Non-Null Count  Dtype   \n",
      "---  ------     --------------  -----   \n",
      " 0   phylum     24272 non-null  object  \n",
      " 1   phylum_nm  21619 non-null  object  \n",
      " 2   geometry   24277 non-null  geometry\n",
      "dtypes: geometry(1), object(2)\n",
      "memory usage: 758.7+ KB\n"
     ]
    },
    {
     "data": {
      "text/html": [
       "<div>\n",
       "<style scoped>\n",
       "    .dataframe tbody tr th:only-of-type {\n",
       "        vertical-align: middle;\n",
       "    }\n",
       "\n",
       "    .dataframe tbody tr th {\n",
       "        vertical-align: top;\n",
       "    }\n",
       "\n",
       "    .dataframe thead th {\n",
       "        text-align: right;\n",
       "    }\n",
       "</style>\n",
       "<table border=\"1\" class=\"dataframe\">\n",
       "  <thead>\n",
       "    <tr style=\"text-align: right;\">\n",
       "      <th></th>\n",
       "      <th>phylum</th>\n",
       "      <th>phylum_nm</th>\n",
       "      <th>geometry</th>\n",
       "    </tr>\n",
       "  </thead>\n",
       "  <tbody>\n",
       "    <tr>\n",
       "      <th>29</th>\n",
       "      <td>Bacillota</td>\n",
       "      <td>None</td>\n",
       "      <td>POINT (130.18611 37.09500)</td>\n",
       "    </tr>\n",
       "    <tr>\n",
       "      <th>179996</th>\n",
       "      <td>Arthropoda</td>\n",
       "      <td>절지동물문</td>\n",
       "      <td>POINT (130.07278 37.06528)</td>\n",
       "    </tr>\n",
       "    <tr>\n",
       "      <th>179997</th>\n",
       "      <td>Arthropoda</td>\n",
       "      <td>절지동물문</td>\n",
       "      <td>POINT (130.07278 37.06528)</td>\n",
       "    </tr>\n",
       "    <tr>\n",
       "      <th>179998</th>\n",
       "      <td>Actinomycetota</td>\n",
       "      <td>None</td>\n",
       "      <td>POINT (130.18333 37.09056)</td>\n",
       "    </tr>\n",
       "    <tr>\n",
       "      <th>179999</th>\n",
       "      <td>Actinomycetota</td>\n",
       "      <td>None</td>\n",
       "      <td>POINT (130.18333 37.09056)</td>\n",
       "    </tr>\n",
       "  </tbody>\n",
       "</table>\n",
       "</div>"
      ],
      "text/plain": [
       "                phylum phylum_nm                    geometry\n",
       "29           Bacillota      None  POINT (130.18611 37.09500)\n",
       "179996      Arthropoda     절지동물문  POINT (130.07278 37.06528)\n",
       "179997      Arthropoda     절지동물문  POINT (130.07278 37.06528)\n",
       "179998  Actinomycetota      None  POINT (130.18333 37.09056)\n",
       "179999  Actinomycetota      None  POINT (130.18333 37.09056)"
      ]
     },
     "execution_count": 9,
     "metadata": {},
     "output_type": "execute_result"
    }
   ],
   "source": [
    "# 컬럼이 너무 많아서 필요한 항목만 선택하여 다른 공간데이터프레임으로 저장\n",
    "gdf_pt3 = gdf_pt2[['phylum', 'phylum_nm', 'geometry']]\n",
    "gdf_pt3.info()\n",
    "gdf_pt3.head()"
   ]
  },
  {
   "cell_type": "markdown",
   "id": "448c7687",
   "metadata": {},
   "source": [
    "### 추출된 종분포와 해양생물해역을 공간조인"
   ]
  },
  {
   "cell_type": "code",
   "execution_count": 10,
   "id": "3d756d83",
   "metadata": {},
   "outputs": [
    {
     "name": "stdout",
     "output_type": "stream",
     "text": [
      "<class 'geopandas.geodataframe.GeoDataFrame'>\n",
      "RangeIndex: 5 entries, 0 to 4\n",
      "Data columns (total 4 columns):\n",
      " #   Column      Non-Null Count  Dtype   \n",
      "---  ------      --------------  -----   \n",
      " 0   gid         5 non-null      int64   \n",
      " 1   sarea_korn  5 non-null      object  \n",
      " 2   ssea_id     5 non-null      object  \n",
      " 3   geometry    5 non-null      geometry\n",
      "dtypes: geometry(1), int64(1), object(2)\n",
      "memory usage: 292.0+ bytes\n"
     ]
    },
    {
     "data": {
      "text/html": [
       "<div>\n",
       "<style scoped>\n",
       "    .dataframe tbody tr th:only-of-type {\n",
       "        vertical-align: middle;\n",
       "    }\n",
       "\n",
       "    .dataframe tbody tr th {\n",
       "        vertical-align: top;\n",
       "    }\n",
       "\n",
       "    .dataframe thead th {\n",
       "        text-align: right;\n",
       "    }\n",
       "</style>\n",
       "<table border=\"1\" class=\"dataframe\">\n",
       "  <thead>\n",
       "    <tr style=\"text-align: right;\">\n",
       "      <th></th>\n",
       "      <th>gid</th>\n",
       "      <th>sarea_korn</th>\n",
       "      <th>ssea_id</th>\n",
       "      <th>geometry</th>\n",
       "    </tr>\n",
       "  </thead>\n",
       "  <tbody>\n",
       "    <tr>\n",
       "      <th>0</th>\n",
       "      <td>5</td>\n",
       "      <td>동해남부</td>\n",
       "      <td>ES</td>\n",
       "      <td>POLYGON ((129.66570 35.06455, 129.40532 34.971...</td>\n",
       "    </tr>\n",
       "    <tr>\n",
       "      <th>1</th>\n",
       "      <td>4</td>\n",
       "      <td>남해동부</td>\n",
       "      <td>SE</td>\n",
       "      <td>POLYGON ((127.82165 33.16382, 127.80000 33.121...</td>\n",
       "    </tr>\n",
       "    <tr>\n",
       "      <th>2</th>\n",
       "      <td>3</td>\n",
       "      <td>서해</td>\n",
       "      <td>W</td>\n",
       "      <td>POLYGON ((127.00000 38.00000, 127.00000 35.300...</td>\n",
       "    </tr>\n",
       "    <tr>\n",
       "      <th>3</th>\n",
       "      <td>2</td>\n",
       "      <td>남해서부</td>\n",
       "      <td>SW</td>\n",
       "      <td>POLYGON ((126.27256 30.28900, 126.21167 30.271...</td>\n",
       "    </tr>\n",
       "    <tr>\n",
       "      <th>4</th>\n",
       "      <td>1</td>\n",
       "      <td>동해중부</td>\n",
       "      <td>EM</td>\n",
       "      <td>POLYGON ((132.14285 36.50000, 129.30000 36.500...</td>\n",
       "    </tr>\n",
       "  </tbody>\n",
       "</table>\n",
       "</div>"
      ],
      "text/plain": [
       "   gid sarea_korn ssea_id                                           geometry\n",
       "0    5       동해남부      ES  POLYGON ((129.66570 35.06455, 129.40532 34.971...\n",
       "1    4       남해동부      SE  POLYGON ((127.82165 33.16382, 127.80000 33.121...\n",
       "2    3         서해       W  POLYGON ((127.00000 38.00000, 127.00000 35.300...\n",
       "3    2       남해서부      SW  POLYGON ((126.27256 30.28900, 126.21167 30.271...\n",
       "4    1       동해중부      EM  POLYGON ((132.14285 36.50000, 129.30000 36.500..."
      ]
     },
     "execution_count": 10,
     "metadata": {},
     "output_type": "execute_result"
    }
   ],
   "source": [
    "# 해양생물해역\n",
    "gdf_area = gpd.read_file('../data/geo_zn_ocn_lvb_sarea.shp', encoding=\"UTF-8\")\n",
    "gdf_area.info()\n",
    "gdf_area.head()"
   ]
  },
  {
   "cell_type": "code",
   "execution_count": 11,
   "id": "93abe38a",
   "metadata": {},
   "outputs": [
    {
     "name": "stdout",
     "output_type": "stream",
     "text": [
      "<class 'geopandas.geodataframe.GeoDataFrame'>\n",
      "Index: 24277 entries, 29 to 80412\n",
      "Data columns (total 7 columns):\n",
      " #   Column       Non-Null Count  Dtype   \n",
      "---  ------       --------------  -----   \n",
      " 0   phylum       24272 non-null  object  \n",
      " 1   phylum_nm    21619 non-null  object  \n",
      " 2   geometry     24277 non-null  geometry\n",
      " 3   index_right  24277 non-null  int64   \n",
      " 4   gid          24277 non-null  int64   \n",
      " 5   sarea_korn   24277 non-null  object  \n",
      " 6   ssea_id      24277 non-null  object  \n",
      "dtypes: geometry(1), int64(2), object(4)\n",
      "memory usage: 1.5+ MB\n"
     ]
    },
    {
     "data": {
      "text/html": [
       "<div>\n",
       "<style scoped>\n",
       "    .dataframe tbody tr th:only-of-type {\n",
       "        vertical-align: middle;\n",
       "    }\n",
       "\n",
       "    .dataframe tbody tr th {\n",
       "        vertical-align: top;\n",
       "    }\n",
       "\n",
       "    .dataframe thead th {\n",
       "        text-align: right;\n",
       "    }\n",
       "</style>\n",
       "<table border=\"1\" class=\"dataframe\">\n",
       "  <thead>\n",
       "    <tr style=\"text-align: right;\">\n",
       "      <th></th>\n",
       "      <th>phylum</th>\n",
       "      <th>phylum_nm</th>\n",
       "      <th>geometry</th>\n",
       "      <th>index_right</th>\n",
       "      <th>gid</th>\n",
       "      <th>sarea_korn</th>\n",
       "      <th>ssea_id</th>\n",
       "    </tr>\n",
       "  </thead>\n",
       "  <tbody>\n",
       "    <tr>\n",
       "      <th>29</th>\n",
       "      <td>Bacillota</td>\n",
       "      <td>None</td>\n",
       "      <td>POINT (130.18611 37.09500)</td>\n",
       "      <td>4</td>\n",
       "      <td>1</td>\n",
       "      <td>동해중부</td>\n",
       "      <td>EM</td>\n",
       "    </tr>\n",
       "    <tr>\n",
       "      <th>179996</th>\n",
       "      <td>Arthropoda</td>\n",
       "      <td>절지동물문</td>\n",
       "      <td>POINT (130.07278 37.06528)</td>\n",
       "      <td>4</td>\n",
       "      <td>1</td>\n",
       "      <td>동해중부</td>\n",
       "      <td>EM</td>\n",
       "    </tr>\n",
       "    <tr>\n",
       "      <th>179997</th>\n",
       "      <td>Arthropoda</td>\n",
       "      <td>절지동물문</td>\n",
       "      <td>POINT (130.07278 37.06528)</td>\n",
       "      <td>4</td>\n",
       "      <td>1</td>\n",
       "      <td>동해중부</td>\n",
       "      <td>EM</td>\n",
       "    </tr>\n",
       "    <tr>\n",
       "      <th>179998</th>\n",
       "      <td>Actinomycetota</td>\n",
       "      <td>None</td>\n",
       "      <td>POINT (130.18333 37.09056)</td>\n",
       "      <td>4</td>\n",
       "      <td>1</td>\n",
       "      <td>동해중부</td>\n",
       "      <td>EM</td>\n",
       "    </tr>\n",
       "    <tr>\n",
       "      <th>179999</th>\n",
       "      <td>Actinomycetota</td>\n",
       "      <td>None</td>\n",
       "      <td>POINT (130.18333 37.09056)</td>\n",
       "      <td>4</td>\n",
       "      <td>1</td>\n",
       "      <td>동해중부</td>\n",
       "      <td>EM</td>\n",
       "    </tr>\n",
       "  </tbody>\n",
       "</table>\n",
       "</div>"
      ],
      "text/plain": [
       "                phylum phylum_nm                    geometry  index_right  \\\n",
       "29           Bacillota      None  POINT (130.18611 37.09500)            4   \n",
       "179996      Arthropoda     절지동물문  POINT (130.07278 37.06528)            4   \n",
       "179997      Arthropoda     절지동물문  POINT (130.07278 37.06528)            4   \n",
       "179998  Actinomycetota      None  POINT (130.18333 37.09056)            4   \n",
       "179999  Actinomycetota      None  POINT (130.18333 37.09056)            4   \n",
       "\n",
       "        gid sarea_korn ssea_id  \n",
       "29        1       동해중부      EM  \n",
       "179996    1       동해중부      EM  \n",
       "179997    1       동해중부      EM  \n",
       "179998    1       동해중부      EM  \n",
       "179999    1       동해중부      EM  "
      ]
     },
     "execution_count": 11,
     "metadata": {},
     "output_type": "execute_result"
    }
   ],
   "source": [
    "# 종분포(포인트)에  해양물리를 공간조인  \n",
    "gdf_pt3 = gpd.sjoin(gdf_pt3, gdf_area )\n",
    "gdf_pt3.info()\n",
    "gdf_pt3.head()"
   ]
  },
  {
   "cell_type": "markdown",
   "id": "4db95a64",
   "metadata": {},
   "source": [
    "### 해양생물해역별 문별 개체 수 집계"
   ]
  },
  {
   "cell_type": "code",
   "execution_count": 12,
   "id": "a80529c9",
   "metadata": {},
   "outputs": [
    {
     "name": "stdout",
     "output_type": "stream",
     "text": [
      "<class 'pandas.core.frame.DataFrame'>\n",
      "RangeIndex: 83 entries, 0 to 82\n",
      "Data columns (total 3 columns):\n",
      " #   Column      Non-Null Count  Dtype \n",
      "---  ------      --------------  ----- \n",
      " 0   sarea_korn  83 non-null     object\n",
      " 1   phylum      83 non-null     object\n",
      " 2   size        83 non-null     int64 \n",
      "dtypes: int64(1), object(2)\n",
      "memory usage: 2.1+ KB\n"
     ]
    },
    {
     "data": {
      "text/html": [
       "<div>\n",
       "<style scoped>\n",
       "    .dataframe tbody tr th:only-of-type {\n",
       "        vertical-align: middle;\n",
       "    }\n",
       "\n",
       "    .dataframe tbody tr th {\n",
       "        vertical-align: top;\n",
       "    }\n",
       "\n",
       "    .dataframe thead th {\n",
       "        text-align: right;\n",
       "    }\n",
       "</style>\n",
       "<table border=\"1\" class=\"dataframe\">\n",
       "  <thead>\n",
       "    <tr style=\"text-align: right;\">\n",
       "      <th></th>\n",
       "      <th>sarea_korn</th>\n",
       "      <th>phylum</th>\n",
       "      <th>size</th>\n",
       "    </tr>\n",
       "  </thead>\n",
       "  <tbody>\n",
       "    <tr>\n",
       "      <th>0</th>\n",
       "      <td>남해동부</td>\n",
       "      <td>Arthropoda</td>\n",
       "      <td>19</td>\n",
       "    </tr>\n",
       "    <tr>\n",
       "      <th>1</th>\n",
       "      <td>남해동부</td>\n",
       "      <td>Bacillariophyta</td>\n",
       "      <td>1</td>\n",
       "    </tr>\n",
       "    <tr>\n",
       "      <th>2</th>\n",
       "      <td>남해동부</td>\n",
       "      <td>Bryozoa</td>\n",
       "      <td>3</td>\n",
       "    </tr>\n",
       "    <tr>\n",
       "      <th>3</th>\n",
       "      <td>남해동부</td>\n",
       "      <td>Chordata</td>\n",
       "      <td>501</td>\n",
       "    </tr>\n",
       "    <tr>\n",
       "      <th>4</th>\n",
       "      <td>남해동부</td>\n",
       "      <td>Ciliophora</td>\n",
       "      <td>50</td>\n",
       "    </tr>\n",
       "  </tbody>\n",
       "</table>\n",
       "</div>"
      ],
      "text/plain": [
       "  sarea_korn           phylum  size\n",
       "0       남해동부       Arthropoda    19\n",
       "1       남해동부  Bacillariophyta     1\n",
       "2       남해동부          Bryozoa     3\n",
       "3       남해동부         Chordata   501\n",
       "4       남해동부       Ciliophora    50"
      ]
     },
     "execution_count": 12,
     "metadata": {},
     "output_type": "execute_result"
    }
   ],
   "source": [
    "# 해양생물해역 - 문별 건수 집계\n",
    "df_size = gdf_pt3.groupby(['sarea_korn', 'phylum'], as_index=False ).size() \n",
    "df_size.info()\n",
    "df_size.head()"
   ]
  },
  {
   "cell_type": "code",
   "execution_count": 13,
   "id": "223e7fcb",
   "metadata": {},
   "outputs": [
    {
     "data": {
      "text/html": [
       "<div>\n",
       "<style scoped>\n",
       "    .dataframe tbody tr th:only-of-type {\n",
       "        vertical-align: middle;\n",
       "    }\n",
       "\n",
       "    .dataframe tbody tr th {\n",
       "        vertical-align: top;\n",
       "    }\n",
       "\n",
       "    .dataframe thead th {\n",
       "        text-align: right;\n",
       "    }\n",
       "</style>\n",
       "<table border=\"1\" class=\"dataframe\">\n",
       "  <thead>\n",
       "    <tr style=\"text-align: right;\">\n",
       "      <th></th>\n",
       "      <th>sarea_korn</th>\n",
       "      <th>phylum</th>\n",
       "      <th>size</th>\n",
       "    </tr>\n",
       "  </thead>\n",
       "  <tbody>\n",
       "    <tr>\n",
       "      <th>70</th>\n",
       "      <td>서해</td>\n",
       "      <td>Chordata</td>\n",
       "      <td>2638</td>\n",
       "    </tr>\n",
       "    <tr>\n",
       "      <th>19</th>\n",
       "      <td>남해서부</td>\n",
       "      <td>Chordata</td>\n",
       "      <td>2461</td>\n",
       "    </tr>\n",
       "    <tr>\n",
       "      <th>27</th>\n",
       "      <td>남해서부</td>\n",
       "      <td>Ochrophyta</td>\n",
       "      <td>1571</td>\n",
       "    </tr>\n",
       "    <tr>\n",
       "      <th>55</th>\n",
       "      <td>동해중부</td>\n",
       "      <td>Ochrophyta</td>\n",
       "      <td>1551</td>\n",
       "    </tr>\n",
       "    <tr>\n",
       "      <th>30</th>\n",
       "      <td>남해서부</td>\n",
       "      <td>Rhodophyta</td>\n",
       "      <td>1390</td>\n",
       "    </tr>\n",
       "  </tbody>\n",
       "</table>\n",
       "</div>"
      ],
      "text/plain": [
       "   sarea_korn      phylum  size\n",
       "70         서해    Chordata  2638\n",
       "19       남해서부    Chordata  2461\n",
       "27       남해서부  Ochrophyta  1571\n",
       "55       동해중부  Ochrophyta  1551\n",
       "30       남해서부  Rhodophyta  1390"
      ]
     },
     "execution_count": 13,
     "metadata": {},
     "output_type": "execute_result"
    }
   ],
   "source": [
    "# 집계 결과 정렬 - 건수가 많은 순서대로 정렬\n",
    "df_size_sort = df_size.sort_values(by='size', ascending=False)\n",
    "df_size_sort.head()"
   ]
  },
  {
   "cell_type": "code",
   "execution_count": 14,
   "id": "9848d806",
   "metadata": {},
   "outputs": [],
   "source": [
    "import plotly.express as px"
   ]
  },
  {
   "cell_type": "code",
   "execution_count": 15,
   "id": "62c0294a",
   "metadata": {},
   "outputs": [
    {
     "data": {
      "application/vnd.plotly.v1+json": {
       "config": {
        "plotlyServerURL": "https://plot.ly"
       },
       "data": [
        {
         "alignmentgroup": "True",
         "hovertemplate": "sarea_korn=서해<br>phylum=%{x}<br>size=%{y}<extra></extra>",
         "legendgroup": "서해",
         "marker": {
          "color": "#636efa",
          "pattern": {
           "shape": ""
          }
         },
         "name": "서해",
         "offsetgroup": "서해",
         "orientation": "v",
         "showlegend": true,
         "textposition": "auto",
         "type": "bar",
         "x": [
          "Chordata",
          "Rhodophyta",
          "Ochrophyta",
          "Arthropoda",
          "Mollusca",
          "Chlorophyta",
          "Bryozoa",
          "Ciliophora",
          "Echinodermata",
          "Dinophyta",
          "Porifera",
          "Angiospermae",
          "Pseudomonadota",
          "Cnidaria",
          "Nematoda",
          "Bacillota",
          "Bacteroidota",
          "Bacillariophyta",
          "Actinomycetota",
          "Foraminifera",
          "Gastrotricha",
          "Chaetognatha"
         ],
         "xaxis": "x",
         "y": [
          2638,
          1197,
          681,
          428,
          380,
          265,
          226,
          223,
          91,
          79,
          64,
          56,
          50,
          41,
          38,
          16,
          12,
          8,
          6,
          6,
          2,
          1
         ],
         "yaxis": "y"
        },
        {
         "alignmentgroup": "True",
         "hovertemplate": "sarea_korn=남해서부<br>phylum=%{x}<br>size=%{y}<extra></extra>",
         "legendgroup": "남해서부",
         "marker": {
          "color": "#EF553B",
          "pattern": {
           "shape": ""
          }
         },
         "name": "남해서부",
         "offsetgroup": "남해서부",
         "orientation": "v",
         "showlegend": true,
         "textposition": "auto",
         "type": "bar",
         "x": [
          "Chordata",
          "Ochrophyta",
          "Rhodophyta",
          "Mollusca",
          "Pseudomonadota",
          "Ciliophora",
          "Arthropoda",
          "Chlorophyta",
          "Foraminifera",
          "Bacillota",
          "Bryozoa",
          "Actinomycetota",
          "Cnidaria",
          "Nematoda",
          "Porifera",
          "Echinodermata",
          "Bacteroidota",
          "Ascomycota",
          "Angiospermae",
          "Dinophyta",
          "Bacillariophyta",
          "Annelida"
         ],
         "xaxis": "x",
         "y": [
          2461,
          1571,
          1390,
          705,
          697,
          589,
          368,
          350,
          285,
          124,
          118,
          98,
          90,
          84,
          74,
          68,
          59,
          46,
          21,
          10,
          10,
          7
         ],
         "yaxis": "y"
        },
        {
         "alignmentgroup": "True",
         "hovertemplate": "sarea_korn=동해중부<br>phylum=%{x}<br>size=%{y}<extra></extra>",
         "legendgroup": "동해중부",
         "marker": {
          "color": "#00cc96",
          "pattern": {
           "shape": ""
          }
         },
         "name": "동해중부",
         "offsetgroup": "동해중부",
         "orientation": "v",
         "showlegend": true,
         "textposition": "auto",
         "type": "bar",
         "x": [
          "Ochrophyta",
          "Rhodophyta",
          "Chordata",
          "Mollusca",
          "Pseudomonadota",
          "Nematoda",
          "Arthropoda",
          "Bacillota",
          "Chlorophyta",
          "Actinomycetota",
          "Bacteroidota",
          "Porifera",
          "Echinodermata",
          "Cnidaria",
          "Bryozoa",
          "Bacillariophyta",
          "Ascomycota",
          "Ciliophora",
          "Dinophyta",
          "Angiospermae",
          "Annelida",
          "Sipuncula",
          "Verrucomicrobiota"
         ],
         "xaxis": "x",
         "y": [
          1551,
          1282,
          699,
          675,
          673,
          630,
          586,
          581,
          530,
          142,
          95,
          85,
          73,
          65,
          56,
          50,
          31,
          26,
          13,
          11,
          4,
          2,
          1
         ],
         "yaxis": "y"
        },
        {
         "alignmentgroup": "True",
         "hovertemplate": "sarea_korn=남해동부<br>phylum=%{x}<br>size=%{y}<extra></extra>",
         "legendgroup": "남해동부",
         "marker": {
          "color": "#ab63fa",
          "pattern": {
           "shape": ""
          }
         },
         "name": "남해동부",
         "offsetgroup": "남해동부",
         "orientation": "v",
         "showlegend": true,
         "textposition": "auto",
         "type": "bar",
         "x": [
          "Chordata",
          "Ciliophora",
          "Foraminifera",
          "Arthropoda",
          "Echinodermata",
          "Dinophyta",
          "Bryozoa",
          "Mollusca",
          "Bacillariophyta"
         ],
         "xaxis": "x",
         "y": [
          501,
          50,
          40,
          19,
          12,
          8,
          3,
          1,
          1
         ],
         "yaxis": "y"
        },
        {
         "alignmentgroup": "True",
         "hovertemplate": "sarea_korn=동해남부<br>phylum=%{x}<br>size=%{y}<extra></extra>",
         "legendgroup": "동해남부",
         "marker": {
          "color": "#FFA15A",
          "pattern": {
           "shape": ""
          }
         },
         "name": "동해남부",
         "offsetgroup": "동해남부",
         "orientation": "v",
         "showlegend": true,
         "textposition": "auto",
         "type": "bar",
         "x": [
          "Arthropoda",
          "Bacillota",
          "Annelida",
          "Pseudomonadota",
          "Bacteroidota",
          "Actinomycetota",
          "Cyanobacteria"
         ],
         "xaxis": "x",
         "y": [
          16,
          13,
          5,
          4,
          2,
          2,
          1
         ],
         "yaxis": "y"
        }
       ],
       "layout": {
        "barmode": "relative",
        "legend": {
         "title": {
          "text": "sarea_korn"
         },
         "tracegroupgap": 0
        },
        "margin": {
         "t": 60
        },
        "template": {
         "data": {
          "bar": [
           {
            "error_x": {
             "color": "#2a3f5f"
            },
            "error_y": {
             "color": "#2a3f5f"
            },
            "marker": {
             "line": {
              "color": "#E5ECF6",
              "width": 0.5
             },
             "pattern": {
              "fillmode": "overlay",
              "size": 10,
              "solidity": 0.2
             }
            },
            "type": "bar"
           }
          ],
          "barpolar": [
           {
            "marker": {
             "line": {
              "color": "#E5ECF6",
              "width": 0.5
             },
             "pattern": {
              "fillmode": "overlay",
              "size": 10,
              "solidity": 0.2
             }
            },
            "type": "barpolar"
           }
          ],
          "carpet": [
           {
            "aaxis": {
             "endlinecolor": "#2a3f5f",
             "gridcolor": "white",
             "linecolor": "white",
             "minorgridcolor": "white",
             "startlinecolor": "#2a3f5f"
            },
            "baxis": {
             "endlinecolor": "#2a3f5f",
             "gridcolor": "white",
             "linecolor": "white",
             "minorgridcolor": "white",
             "startlinecolor": "#2a3f5f"
            },
            "type": "carpet"
           }
          ],
          "choropleth": [
           {
            "colorbar": {
             "outlinewidth": 0,
             "ticks": ""
            },
            "type": "choropleth"
           }
          ],
          "contour": [
           {
            "colorbar": {
             "outlinewidth": 0,
             "ticks": ""
            },
            "colorscale": [
             [
              0,
              "#0d0887"
             ],
             [
              0.1111111111111111,
              "#46039f"
             ],
             [
              0.2222222222222222,
              "#7201a8"
             ],
             [
              0.3333333333333333,
              "#9c179e"
             ],
             [
              0.4444444444444444,
              "#bd3786"
             ],
             [
              0.5555555555555556,
              "#d8576b"
             ],
             [
              0.6666666666666666,
              "#ed7953"
             ],
             [
              0.7777777777777778,
              "#fb9f3a"
             ],
             [
              0.8888888888888888,
              "#fdca26"
             ],
             [
              1,
              "#f0f921"
             ]
            ],
            "type": "contour"
           }
          ],
          "contourcarpet": [
           {
            "colorbar": {
             "outlinewidth": 0,
             "ticks": ""
            },
            "type": "contourcarpet"
           }
          ],
          "heatmap": [
           {
            "colorbar": {
             "outlinewidth": 0,
             "ticks": ""
            },
            "colorscale": [
             [
              0,
              "#0d0887"
             ],
             [
              0.1111111111111111,
              "#46039f"
             ],
             [
              0.2222222222222222,
              "#7201a8"
             ],
             [
              0.3333333333333333,
              "#9c179e"
             ],
             [
              0.4444444444444444,
              "#bd3786"
             ],
             [
              0.5555555555555556,
              "#d8576b"
             ],
             [
              0.6666666666666666,
              "#ed7953"
             ],
             [
              0.7777777777777778,
              "#fb9f3a"
             ],
             [
              0.8888888888888888,
              "#fdca26"
             ],
             [
              1,
              "#f0f921"
             ]
            ],
            "type": "heatmap"
           }
          ],
          "heatmapgl": [
           {
            "colorbar": {
             "outlinewidth": 0,
             "ticks": ""
            },
            "colorscale": [
             [
              0,
              "#0d0887"
             ],
             [
              0.1111111111111111,
              "#46039f"
             ],
             [
              0.2222222222222222,
              "#7201a8"
             ],
             [
              0.3333333333333333,
              "#9c179e"
             ],
             [
              0.4444444444444444,
              "#bd3786"
             ],
             [
              0.5555555555555556,
              "#d8576b"
             ],
             [
              0.6666666666666666,
              "#ed7953"
             ],
             [
              0.7777777777777778,
              "#fb9f3a"
             ],
             [
              0.8888888888888888,
              "#fdca26"
             ],
             [
              1,
              "#f0f921"
             ]
            ],
            "type": "heatmapgl"
           }
          ],
          "histogram": [
           {
            "marker": {
             "pattern": {
              "fillmode": "overlay",
              "size": 10,
              "solidity": 0.2
             }
            },
            "type": "histogram"
           }
          ],
          "histogram2d": [
           {
            "colorbar": {
             "outlinewidth": 0,
             "ticks": ""
            },
            "colorscale": [
             [
              0,
              "#0d0887"
             ],
             [
              0.1111111111111111,
              "#46039f"
             ],
             [
              0.2222222222222222,
              "#7201a8"
             ],
             [
              0.3333333333333333,
              "#9c179e"
             ],
             [
              0.4444444444444444,
              "#bd3786"
             ],
             [
              0.5555555555555556,
              "#d8576b"
             ],
             [
              0.6666666666666666,
              "#ed7953"
             ],
             [
              0.7777777777777778,
              "#fb9f3a"
             ],
             [
              0.8888888888888888,
              "#fdca26"
             ],
             [
              1,
              "#f0f921"
             ]
            ],
            "type": "histogram2d"
           }
          ],
          "histogram2dcontour": [
           {
            "colorbar": {
             "outlinewidth": 0,
             "ticks": ""
            },
            "colorscale": [
             [
              0,
              "#0d0887"
             ],
             [
              0.1111111111111111,
              "#46039f"
             ],
             [
              0.2222222222222222,
              "#7201a8"
             ],
             [
              0.3333333333333333,
              "#9c179e"
             ],
             [
              0.4444444444444444,
              "#bd3786"
             ],
             [
              0.5555555555555556,
              "#d8576b"
             ],
             [
              0.6666666666666666,
              "#ed7953"
             ],
             [
              0.7777777777777778,
              "#fb9f3a"
             ],
             [
              0.8888888888888888,
              "#fdca26"
             ],
             [
              1,
              "#f0f921"
             ]
            ],
            "type": "histogram2dcontour"
           }
          ],
          "mesh3d": [
           {
            "colorbar": {
             "outlinewidth": 0,
             "ticks": ""
            },
            "type": "mesh3d"
           }
          ],
          "parcoords": [
           {
            "line": {
             "colorbar": {
              "outlinewidth": 0,
              "ticks": ""
             }
            },
            "type": "parcoords"
           }
          ],
          "pie": [
           {
            "automargin": true,
            "type": "pie"
           }
          ],
          "scatter": [
           {
            "fillpattern": {
             "fillmode": "overlay",
             "size": 10,
             "solidity": 0.2
            },
            "type": "scatter"
           }
          ],
          "scatter3d": [
           {
            "line": {
             "colorbar": {
              "outlinewidth": 0,
              "ticks": ""
             }
            },
            "marker": {
             "colorbar": {
              "outlinewidth": 0,
              "ticks": ""
             }
            },
            "type": "scatter3d"
           }
          ],
          "scattercarpet": [
           {
            "marker": {
             "colorbar": {
              "outlinewidth": 0,
              "ticks": ""
             }
            },
            "type": "scattercarpet"
           }
          ],
          "scattergeo": [
           {
            "marker": {
             "colorbar": {
              "outlinewidth": 0,
              "ticks": ""
             }
            },
            "type": "scattergeo"
           }
          ],
          "scattergl": [
           {
            "marker": {
             "colorbar": {
              "outlinewidth": 0,
              "ticks": ""
             }
            },
            "type": "scattergl"
           }
          ],
          "scattermapbox": [
           {
            "marker": {
             "colorbar": {
              "outlinewidth": 0,
              "ticks": ""
             }
            },
            "type": "scattermapbox"
           }
          ],
          "scatterpolar": [
           {
            "marker": {
             "colorbar": {
              "outlinewidth": 0,
              "ticks": ""
             }
            },
            "type": "scatterpolar"
           }
          ],
          "scatterpolargl": [
           {
            "marker": {
             "colorbar": {
              "outlinewidth": 0,
              "ticks": ""
             }
            },
            "type": "scatterpolargl"
           }
          ],
          "scatterternary": [
           {
            "marker": {
             "colorbar": {
              "outlinewidth": 0,
              "ticks": ""
             }
            },
            "type": "scatterternary"
           }
          ],
          "surface": [
           {
            "colorbar": {
             "outlinewidth": 0,
             "ticks": ""
            },
            "colorscale": [
             [
              0,
              "#0d0887"
             ],
             [
              0.1111111111111111,
              "#46039f"
             ],
             [
              0.2222222222222222,
              "#7201a8"
             ],
             [
              0.3333333333333333,
              "#9c179e"
             ],
             [
              0.4444444444444444,
              "#bd3786"
             ],
             [
              0.5555555555555556,
              "#d8576b"
             ],
             [
              0.6666666666666666,
              "#ed7953"
             ],
             [
              0.7777777777777778,
              "#fb9f3a"
             ],
             [
              0.8888888888888888,
              "#fdca26"
             ],
             [
              1,
              "#f0f921"
             ]
            ],
            "type": "surface"
           }
          ],
          "table": [
           {
            "cells": {
             "fill": {
              "color": "#EBF0F8"
             },
             "line": {
              "color": "white"
             }
            },
            "header": {
             "fill": {
              "color": "#C8D4E3"
             },
             "line": {
              "color": "white"
             }
            },
            "type": "table"
           }
          ]
         },
         "layout": {
          "annotationdefaults": {
           "arrowcolor": "#2a3f5f",
           "arrowhead": 0,
           "arrowwidth": 1
          },
          "autotypenumbers": "strict",
          "coloraxis": {
           "colorbar": {
            "outlinewidth": 0,
            "ticks": ""
           }
          },
          "colorscale": {
           "diverging": [
            [
             0,
             "#8e0152"
            ],
            [
             0.1,
             "#c51b7d"
            ],
            [
             0.2,
             "#de77ae"
            ],
            [
             0.3,
             "#f1b6da"
            ],
            [
             0.4,
             "#fde0ef"
            ],
            [
             0.5,
             "#f7f7f7"
            ],
            [
             0.6,
             "#e6f5d0"
            ],
            [
             0.7,
             "#b8e186"
            ],
            [
             0.8,
             "#7fbc41"
            ],
            [
             0.9,
             "#4d9221"
            ],
            [
             1,
             "#276419"
            ]
           ],
           "sequential": [
            [
             0,
             "#0d0887"
            ],
            [
             0.1111111111111111,
             "#46039f"
            ],
            [
             0.2222222222222222,
             "#7201a8"
            ],
            [
             0.3333333333333333,
             "#9c179e"
            ],
            [
             0.4444444444444444,
             "#bd3786"
            ],
            [
             0.5555555555555556,
             "#d8576b"
            ],
            [
             0.6666666666666666,
             "#ed7953"
            ],
            [
             0.7777777777777778,
             "#fb9f3a"
            ],
            [
             0.8888888888888888,
             "#fdca26"
            ],
            [
             1,
             "#f0f921"
            ]
           ],
           "sequentialminus": [
            [
             0,
             "#0d0887"
            ],
            [
             0.1111111111111111,
             "#46039f"
            ],
            [
             0.2222222222222222,
             "#7201a8"
            ],
            [
             0.3333333333333333,
             "#9c179e"
            ],
            [
             0.4444444444444444,
             "#bd3786"
            ],
            [
             0.5555555555555556,
             "#d8576b"
            ],
            [
             0.6666666666666666,
             "#ed7953"
            ],
            [
             0.7777777777777778,
             "#fb9f3a"
            ],
            [
             0.8888888888888888,
             "#fdca26"
            ],
            [
             1,
             "#f0f921"
            ]
           ]
          },
          "colorway": [
           "#636efa",
           "#EF553B",
           "#00cc96",
           "#ab63fa",
           "#FFA15A",
           "#19d3f3",
           "#FF6692",
           "#B6E880",
           "#FF97FF",
           "#FECB52"
          ],
          "font": {
           "color": "#2a3f5f"
          },
          "geo": {
           "bgcolor": "white",
           "lakecolor": "white",
           "landcolor": "#E5ECF6",
           "showlakes": true,
           "showland": true,
           "subunitcolor": "white"
          },
          "hoverlabel": {
           "align": "left"
          },
          "hovermode": "closest",
          "mapbox": {
           "style": "light"
          },
          "paper_bgcolor": "white",
          "plot_bgcolor": "#E5ECF6",
          "polar": {
           "angularaxis": {
            "gridcolor": "white",
            "linecolor": "white",
            "ticks": ""
           },
           "bgcolor": "#E5ECF6",
           "radialaxis": {
            "gridcolor": "white",
            "linecolor": "white",
            "ticks": ""
           }
          },
          "scene": {
           "xaxis": {
            "backgroundcolor": "#E5ECF6",
            "gridcolor": "white",
            "gridwidth": 2,
            "linecolor": "white",
            "showbackground": true,
            "ticks": "",
            "zerolinecolor": "white"
           },
           "yaxis": {
            "backgroundcolor": "#E5ECF6",
            "gridcolor": "white",
            "gridwidth": 2,
            "linecolor": "white",
            "showbackground": true,
            "ticks": "",
            "zerolinecolor": "white"
           },
           "zaxis": {
            "backgroundcolor": "#E5ECF6",
            "gridcolor": "white",
            "gridwidth": 2,
            "linecolor": "white",
            "showbackground": true,
            "ticks": "",
            "zerolinecolor": "white"
           }
          },
          "shapedefaults": {
           "line": {
            "color": "#2a3f5f"
           }
          },
          "ternary": {
           "aaxis": {
            "gridcolor": "white",
            "linecolor": "white",
            "ticks": ""
           },
           "baxis": {
            "gridcolor": "white",
            "linecolor": "white",
            "ticks": ""
           },
           "bgcolor": "#E5ECF6",
           "caxis": {
            "gridcolor": "white",
            "linecolor": "white",
            "ticks": ""
           }
          },
          "title": {
           "x": 0.05
          },
          "xaxis": {
           "automargin": true,
           "gridcolor": "white",
           "linecolor": "white",
           "ticks": "",
           "title": {
            "standoff": 15
           },
           "zerolinecolor": "white",
           "zerolinewidth": 2
          },
          "yaxis": {
           "automargin": true,
           "gridcolor": "white",
           "linecolor": "white",
           "ticks": "",
           "title": {
            "standoff": 15
           },
           "zerolinecolor": "white",
           "zerolinewidth": 2
          }
         }
        },
        "xaxis": {
         "anchor": "y",
         "domain": [
          0,
          1
         ],
         "title": {
          "text": "phylum"
         }
        },
        "yaxis": {
         "anchor": "x",
         "domain": [
          0,
          1
         ],
         "title": {
          "text": "size"
         }
        }
       }
      }
     },
     "metadata": {},
     "output_type": "display_data"
    }
   ],
   "source": [
    "# 집계 결과 차트 시각화 \n",
    "fig = px.bar(df_size_sort, x=\"phylum\", y=\"size\", color=\"sarea_korn\")\n",
    "fig.show()"
   ]
  },
  {
   "cell_type": "code",
   "execution_count": 16,
   "id": "24e177e0",
   "metadata": {},
   "outputs": [],
   "source": [
    "# 집계 결과를 csv로 저장 \n",
    "df_size_sort.to_csv('result/df_size_sort.csv', encoding='UTF-8')"
   ]
  }
 ],
 "metadata": {
  "kernelspec": {
   "display_name": "Python 3 (ipykernel)",
   "language": "python",
   "name": "python3"
  },
  "language_info": {
   "codemirror_mode": {
    "name": "ipython",
    "version": 3
   },
   "file_extension": ".py",
   "mimetype": "text/x-python",
   "name": "python",
   "nbconvert_exporter": "python",
   "pygments_lexer": "ipython3",
   "version": "3.11.5"
  }
 },
 "nbformat": 4,
 "nbformat_minor": 5
}
