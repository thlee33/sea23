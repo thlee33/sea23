{
 "cells": [
  {
   "attachments": {},
   "cell_type": "markdown",
   "metadata": {},
   "source": [
    "## 특정 영역(독도 반경 50km)의 생물종 증감률 분석     \n",
    "2018년 말을 기준으로 이전 3년(2016~2018)과 이후 3년(2019~2021)간의     \n",
    "수온 및 생물종 증감률 분석을 통해 변화 특성을 찾기  "
   ]
  },
  {
   "cell_type": "markdown",
   "metadata": {},
   "source": [
    "### 필요한 패키지(모듈/라이브러리) 준비"
   ]
  },
  {
   "cell_type": "code",
   "execution_count": 1,
   "metadata": {},
   "outputs": [
    {
     "name": "stderr",
     "output_type": "stream",
     "text": [
      "c:\\Users\\leesh\\AppData\\Local\\Programs\\Python\\Python311\\Lib\\site-packages\\geopandas\\_compat.py:124: UserWarning: The Shapely GEOS version (3.10.1-CAPI-1.16.0) is incompatible with the GEOS version PyGEOS was compiled with (3.10.4-CAPI-1.16.2). Conversions between both will be slow.\n",
      "  warnings.warn(\n"
     ]
    }
   ],
   "source": [
    "import os\n",
    "import pandas as pd  #2차원 표 형태의 데이터프레임 처리용 패키지\n",
    "import geopandas as gpd  #pandas를 기반으로 벡터 지오메트리(점/선/면)를 포함한 GeoDataFrame을 처리하는 패키지\n",
    "from shapely.geometry import Point, Polygon #점, 선, 면 Geometry 처리용 패키지 \n",
    "pd.set_option('float_format', '{:f}'.format)  # 숫자가 지수 형태로 표시되지 않도록 "
   ]
  },
  {
   "cell_type": "code",
   "execution_count": 2,
   "metadata": {},
   "outputs": [],
   "source": [
    "# pip install xarray netcdf4 h5netcdf\n",
    "import numpy as np   #배열 등의 수치 데이터 처리용 패키지 \n",
    "import xarray as xr  #netcdf와 같은 다차원 배열 데이터 처리용 패키지"
   ]
  },
  {
   "cell_type": "code",
   "execution_count": 3,
   "metadata": {},
   "outputs": [],
   "source": [
    "import matplotlib\n",
    "import matplotlib.pyplot as plt\n",
    "import matplotlib as mpl\n",
    "import seaborn as sns\n",
    "import plotly.express as px #차트 시각화 패키지 \n",
    "\n",
    "%matplotlib inline\n",
    "%config InlineBackend.figure_format = 'retina'\n",
    "sns.set_style('darkgrid') #whitegrid, dark, white, ticks\n",
    "mpl.rc('font', family='Malgun Gothic') #한글 폰트 적용시\n",
    "plt.rcParams[\"figure.figsize\"] = (10, 10) #차트 사이즈"
   ]
  },
  {
   "cell_type": "markdown",
   "metadata": {},
   "source": [
    "### 수온 변화 검토   \n",
    "EU Copernicus에서 제공하는 월별 해양 관측 데이터를 활용   \n",
    "netcdf라는 시공간 다차원 데이터에 수온, 염분 등의 정보가 담겨있음    \n",
    "https://resources.marine.copernicus.eu/?option=com_csw&view=details&product_id=MULTIOBS_GLO_PHY_TSUV_3D_MYNRT_015_012  \n"
   ]
  },
  {
   "cell_type": "code",
   "execution_count": 4,
   "metadata": {},
   "outputs": [
    {
     "data": {
      "text/html": [
       "<div><svg style=\"position: absolute; width: 0; height: 0; overflow: hidden\">\n",
       "<defs>\n",
       "<symbol id=\"icon-database\" viewBox=\"0 0 32 32\">\n",
       "<path d=\"M16 0c-8.837 0-16 2.239-16 5v4c0 2.761 7.163 5 16 5s16-2.239 16-5v-4c0-2.761-7.163-5-16-5z\"></path>\n",
       "<path d=\"M16 17c-8.837 0-16-2.239-16-5v6c0 2.761 7.163 5 16 5s16-2.239 16-5v-6c0 2.761-7.163 5-16 5z\"></path>\n",
       "<path d=\"M16 26c-8.837 0-16-2.239-16-5v6c0 2.761 7.163 5 16 5s16-2.239 16-5v-6c0 2.761-7.163 5-16 5z\"></path>\n",
       "</symbol>\n",
       "<symbol id=\"icon-file-text2\" viewBox=\"0 0 32 32\">\n",
       "<path d=\"M28.681 7.159c-0.694-0.947-1.662-2.053-2.724-3.116s-2.169-2.030-3.116-2.724c-1.612-1.182-2.393-1.319-2.841-1.319h-15.5c-1.378 0-2.5 1.121-2.5 2.5v27c0 1.378 1.122 2.5 2.5 2.5h23c1.378 0 2.5-1.122 2.5-2.5v-19.5c0-0.448-0.137-1.23-1.319-2.841zM24.543 5.457c0.959 0.959 1.712 1.825 2.268 2.543h-4.811v-4.811c0.718 0.556 1.584 1.309 2.543 2.268zM28 29.5c0 0.271-0.229 0.5-0.5 0.5h-23c-0.271 0-0.5-0.229-0.5-0.5v-27c0-0.271 0.229-0.5 0.5-0.5 0 0 15.499-0 15.5 0v7c0 0.552 0.448 1 1 1h7v19.5z\"></path>\n",
       "<path d=\"M23 26h-14c-0.552 0-1-0.448-1-1s0.448-1 1-1h14c0.552 0 1 0.448 1 1s-0.448 1-1 1z\"></path>\n",
       "<path d=\"M23 22h-14c-0.552 0-1-0.448-1-1s0.448-1 1-1h14c0.552 0 1 0.448 1 1s-0.448 1-1 1z\"></path>\n",
       "<path d=\"M23 18h-14c-0.552 0-1-0.448-1-1s0.448-1 1-1h14c0.552 0 1 0.448 1 1s-0.448 1-1 1z\"></path>\n",
       "</symbol>\n",
       "</defs>\n",
       "</svg>\n",
       "<style>/* CSS stylesheet for displaying xarray objects in jupyterlab.\n",
       " *\n",
       " */\n",
       "\n",
       ":root {\n",
       "  --xr-font-color0: var(--jp-content-font-color0, rgba(0, 0, 0, 1));\n",
       "  --xr-font-color2: var(--jp-content-font-color2, rgba(0, 0, 0, 0.54));\n",
       "  --xr-font-color3: var(--jp-content-font-color3, rgba(0, 0, 0, 0.38));\n",
       "  --xr-border-color: var(--jp-border-color2, #e0e0e0);\n",
       "  --xr-disabled-color: var(--jp-layout-color3, #bdbdbd);\n",
       "  --xr-background-color: var(--jp-layout-color0, white);\n",
       "  --xr-background-color-row-even: var(--jp-layout-color1, white);\n",
       "  --xr-background-color-row-odd: var(--jp-layout-color2, #eeeeee);\n",
       "}\n",
       "\n",
       "html[theme=dark],\n",
       "body[data-theme=dark],\n",
       "body.vscode-dark {\n",
       "  --xr-font-color0: rgba(255, 255, 255, 1);\n",
       "  --xr-font-color2: rgba(255, 255, 255, 0.54);\n",
       "  --xr-font-color3: rgba(255, 255, 255, 0.38);\n",
       "  --xr-border-color: #1F1F1F;\n",
       "  --xr-disabled-color: #515151;\n",
       "  --xr-background-color: #111111;\n",
       "  --xr-background-color-row-even: #111111;\n",
       "  --xr-background-color-row-odd: #313131;\n",
       "}\n",
       "\n",
       ".xr-wrap {\n",
       "  display: block !important;\n",
       "  min-width: 300px;\n",
       "  max-width: 700px;\n",
       "}\n",
       "\n",
       ".xr-text-repr-fallback {\n",
       "  /* fallback to plain text repr when CSS is not injected (untrusted notebook) */\n",
       "  display: none;\n",
       "}\n",
       "\n",
       ".xr-header {\n",
       "  padding-top: 6px;\n",
       "  padding-bottom: 6px;\n",
       "  margin-bottom: 4px;\n",
       "  border-bottom: solid 1px var(--xr-border-color);\n",
       "}\n",
       "\n",
       ".xr-header > div,\n",
       ".xr-header > ul {\n",
       "  display: inline;\n",
       "  margin-top: 0;\n",
       "  margin-bottom: 0;\n",
       "}\n",
       "\n",
       ".xr-obj-type,\n",
       ".xr-array-name {\n",
       "  margin-left: 2px;\n",
       "  margin-right: 10px;\n",
       "}\n",
       "\n",
       ".xr-obj-type {\n",
       "  color: var(--xr-font-color2);\n",
       "}\n",
       "\n",
       ".xr-sections {\n",
       "  padding-left: 0 !important;\n",
       "  display: grid;\n",
       "  grid-template-columns: 150px auto auto 1fr 20px 20px;\n",
       "}\n",
       "\n",
       ".xr-section-item {\n",
       "  display: contents;\n",
       "}\n",
       "\n",
       ".xr-section-item input {\n",
       "  display: none;\n",
       "}\n",
       "\n",
       ".xr-section-item input + label {\n",
       "  color: var(--xr-disabled-color);\n",
       "}\n",
       "\n",
       ".xr-section-item input:enabled + label {\n",
       "  cursor: pointer;\n",
       "  color: var(--xr-font-color2);\n",
       "}\n",
       "\n",
       ".xr-section-item input:enabled + label:hover {\n",
       "  color: var(--xr-font-color0);\n",
       "}\n",
       "\n",
       ".xr-section-summary {\n",
       "  grid-column: 1;\n",
       "  color: var(--xr-font-color2);\n",
       "  font-weight: 500;\n",
       "}\n",
       "\n",
       ".xr-section-summary > span {\n",
       "  display: inline-block;\n",
       "  padding-left: 0.5em;\n",
       "}\n",
       "\n",
       ".xr-section-summary-in:disabled + label {\n",
       "  color: var(--xr-font-color2);\n",
       "}\n",
       "\n",
       ".xr-section-summary-in + label:before {\n",
       "  display: inline-block;\n",
       "  content: '►';\n",
       "  font-size: 11px;\n",
       "  width: 15px;\n",
       "  text-align: center;\n",
       "}\n",
       "\n",
       ".xr-section-summary-in:disabled + label:before {\n",
       "  color: var(--xr-disabled-color);\n",
       "}\n",
       "\n",
       ".xr-section-summary-in:checked + label:before {\n",
       "  content: '▼';\n",
       "}\n",
       "\n",
       ".xr-section-summary-in:checked + label > span {\n",
       "  display: none;\n",
       "}\n",
       "\n",
       ".xr-section-summary,\n",
       ".xr-section-inline-details {\n",
       "  padding-top: 4px;\n",
       "  padding-bottom: 4px;\n",
       "}\n",
       "\n",
       ".xr-section-inline-details {\n",
       "  grid-column: 2 / -1;\n",
       "}\n",
       "\n",
       ".xr-section-details {\n",
       "  display: none;\n",
       "  grid-column: 1 / -1;\n",
       "  margin-bottom: 5px;\n",
       "}\n",
       "\n",
       ".xr-section-summary-in:checked ~ .xr-section-details {\n",
       "  display: contents;\n",
       "}\n",
       "\n",
       ".xr-array-wrap {\n",
       "  grid-column: 1 / -1;\n",
       "  display: grid;\n",
       "  grid-template-columns: 20px auto;\n",
       "}\n",
       "\n",
       ".xr-array-wrap > label {\n",
       "  grid-column: 1;\n",
       "  vertical-align: top;\n",
       "}\n",
       "\n",
       ".xr-preview {\n",
       "  color: var(--xr-font-color3);\n",
       "}\n",
       "\n",
       ".xr-array-preview,\n",
       ".xr-array-data {\n",
       "  padding: 0 5px !important;\n",
       "  grid-column: 2;\n",
       "}\n",
       "\n",
       ".xr-array-data,\n",
       ".xr-array-in:checked ~ .xr-array-preview {\n",
       "  display: none;\n",
       "}\n",
       "\n",
       ".xr-array-in:checked ~ .xr-array-data,\n",
       ".xr-array-preview {\n",
       "  display: inline-block;\n",
       "}\n",
       "\n",
       ".xr-dim-list {\n",
       "  display: inline-block !important;\n",
       "  list-style: none;\n",
       "  padding: 0 !important;\n",
       "  margin: 0;\n",
       "}\n",
       "\n",
       ".xr-dim-list li {\n",
       "  display: inline-block;\n",
       "  padding: 0;\n",
       "  margin: 0;\n",
       "}\n",
       "\n",
       ".xr-dim-list:before {\n",
       "  content: '(';\n",
       "}\n",
       "\n",
       ".xr-dim-list:after {\n",
       "  content: ')';\n",
       "}\n",
       "\n",
       ".xr-dim-list li:not(:last-child):after {\n",
       "  content: ',';\n",
       "  padding-right: 5px;\n",
       "}\n",
       "\n",
       ".xr-has-index {\n",
       "  font-weight: bold;\n",
       "}\n",
       "\n",
       ".xr-var-list,\n",
       ".xr-var-item {\n",
       "  display: contents;\n",
       "}\n",
       "\n",
       ".xr-var-item > div,\n",
       ".xr-var-item label,\n",
       ".xr-var-item > .xr-var-name span {\n",
       "  background-color: var(--xr-background-color-row-even);\n",
       "  margin-bottom: 0;\n",
       "}\n",
       "\n",
       ".xr-var-item > .xr-var-name:hover span {\n",
       "  padding-right: 5px;\n",
       "}\n",
       "\n",
       ".xr-var-list > li:nth-child(odd) > div,\n",
       ".xr-var-list > li:nth-child(odd) > label,\n",
       ".xr-var-list > li:nth-child(odd) > .xr-var-name span {\n",
       "  background-color: var(--xr-background-color-row-odd);\n",
       "}\n",
       "\n",
       ".xr-var-name {\n",
       "  grid-column: 1;\n",
       "}\n",
       "\n",
       ".xr-var-dims {\n",
       "  grid-column: 2;\n",
       "}\n",
       "\n",
       ".xr-var-dtype {\n",
       "  grid-column: 3;\n",
       "  text-align: right;\n",
       "  color: var(--xr-font-color2);\n",
       "}\n",
       "\n",
       ".xr-var-preview {\n",
       "  grid-column: 4;\n",
       "}\n",
       "\n",
       ".xr-index-preview {\n",
       "  grid-column: 2 / 5;\n",
       "  color: var(--xr-font-color2);\n",
       "}\n",
       "\n",
       ".xr-var-name,\n",
       ".xr-var-dims,\n",
       ".xr-var-dtype,\n",
       ".xr-preview,\n",
       ".xr-attrs dt {\n",
       "  white-space: nowrap;\n",
       "  overflow: hidden;\n",
       "  text-overflow: ellipsis;\n",
       "  padding-right: 10px;\n",
       "}\n",
       "\n",
       ".xr-var-name:hover,\n",
       ".xr-var-dims:hover,\n",
       ".xr-var-dtype:hover,\n",
       ".xr-attrs dt:hover {\n",
       "  overflow: visible;\n",
       "  width: auto;\n",
       "  z-index: 1;\n",
       "}\n",
       "\n",
       ".xr-var-attrs,\n",
       ".xr-var-data,\n",
       ".xr-index-data {\n",
       "  display: none;\n",
       "  background-color: var(--xr-background-color) !important;\n",
       "  padding-bottom: 5px !important;\n",
       "}\n",
       "\n",
       ".xr-var-attrs-in:checked ~ .xr-var-attrs,\n",
       ".xr-var-data-in:checked ~ .xr-var-data,\n",
       ".xr-index-data-in:checked ~ .xr-index-data {\n",
       "  display: block;\n",
       "}\n",
       "\n",
       ".xr-var-data > table {\n",
       "  float: right;\n",
       "}\n",
       "\n",
       ".xr-var-name span,\n",
       ".xr-var-data,\n",
       ".xr-index-name div,\n",
       ".xr-index-data,\n",
       ".xr-attrs {\n",
       "  padding-left: 25px !important;\n",
       "}\n",
       "\n",
       ".xr-attrs,\n",
       ".xr-var-attrs,\n",
       ".xr-var-data,\n",
       ".xr-index-data {\n",
       "  grid-column: 1 / -1;\n",
       "}\n",
       "\n",
       "dl.xr-attrs {\n",
       "  padding: 0;\n",
       "  margin: 0;\n",
       "  display: grid;\n",
       "  grid-template-columns: 125px auto;\n",
       "}\n",
       "\n",
       ".xr-attrs dt,\n",
       ".xr-attrs dd {\n",
       "  padding: 0;\n",
       "  margin: 0;\n",
       "  float: left;\n",
       "  padding-right: 10px;\n",
       "  width: auto;\n",
       "}\n",
       "\n",
       ".xr-attrs dt {\n",
       "  font-weight: normal;\n",
       "  grid-column: 1;\n",
       "}\n",
       "\n",
       ".xr-attrs dt:hover span {\n",
       "  display: inline-block;\n",
       "  background: var(--xr-background-color);\n",
       "  padding-right: 10px;\n",
       "}\n",
       "\n",
       ".xr-attrs dd {\n",
       "  grid-column: 2;\n",
       "  white-space: pre-wrap;\n",
       "  word-break: break-all;\n",
       "}\n",
       "\n",
       ".xr-icon-database,\n",
       ".xr-icon-file-text2,\n",
       ".xr-no-icon {\n",
       "  display: inline-block;\n",
       "  vertical-align: middle;\n",
       "  width: 1em;\n",
       "  height: 1.5em !important;\n",
       "  stroke-width: 0;\n",
       "  stroke: currentColor;\n",
       "  fill: currentColor;\n",
       "}\n",
       "</style><pre class='xr-text-repr-fallback'>&lt;xarray.Dataset&gt;\n",
       "Dimensions:    (time: 1, depth: 50, latitude: 689, longitude: 1440)\n",
       "Coordinates:\n",
       "  * time       (time) datetime64[ns] 2016-01-16\n",
       "  * depth      (depth) int16 0 5 10 15 20 25 ... 3000 3500 4000 4500 5000 5500\n",
       "  * latitude   (latitude) float32 -82.12 -81.88 -81.62 ... 89.38 89.62 89.88\n",
       "  * longitude  (longitude) float32 0.125 0.375 0.625 0.875 ... 359.4 359.6 359.9\n",
       "Data variables:\n",
       "    so         (time, depth, latitude, longitude) float32 ...\n",
       "    to         (time, depth, latitude, longitude) float32 ...\n",
       "    ugo        (time, depth, latitude, longitude) float32 ...\n",
       "    vgo        (time, depth, latitude, longitude) float32 ...\n",
       "    zo         (time, depth, latitude, longitude) float32 ...\n",
       "    mlotst     (time, latitude, longitude) float32 ...\n",
       "Attributes:\n",
       "    description:  ARMOR3D REP CMEMS December 2020 Release\n",
       "    Conventions:  CF-1.0\n",
       "    institution:  CLS\n",
       "    domain_name:  GLO\n",
       "    history:      2016-01-15 12:00:00 ARMOR3D REP - TSHUV Global Ocean Observ...\n",
       "    title:        ARMOR3D REP - TSHUVMld Global Ocean Observation-based Produ...</pre><div class='xr-wrap' style='display:none'><div class='xr-header'><div class='xr-obj-type'>xarray.Dataset</div></div><ul class='xr-sections'><li class='xr-section-item'><input id='section-57348f97-808b-43f3-a635-f4c3a4bb984b' class='xr-section-summary-in' type='checkbox' disabled ><label for='section-57348f97-808b-43f3-a635-f4c3a4bb984b' class='xr-section-summary'  title='Expand/collapse section'>Dimensions:</label><div class='xr-section-inline-details'><ul class='xr-dim-list'><li><span class='xr-has-index'>time</span>: 1</li><li><span class='xr-has-index'>depth</span>: 50</li><li><span class='xr-has-index'>latitude</span>: 689</li><li><span class='xr-has-index'>longitude</span>: 1440</li></ul></div><div class='xr-section-details'></div></li><li class='xr-section-item'><input id='section-0f780a56-c81c-4992-90a4-0b29897e542a' class='xr-section-summary-in' type='checkbox'  checked><label for='section-0f780a56-c81c-4992-90a4-0b29897e542a' class='xr-section-summary' >Coordinates: <span>(4)</span></label><div class='xr-section-inline-details'></div><div class='xr-section-details'><ul class='xr-var-list'><li class='xr-var-item'><div class='xr-var-name'><span class='xr-has-index'>time</span></div><div class='xr-var-dims'>(time)</div><div class='xr-var-dtype'>datetime64[ns]</div><div class='xr-var-preview xr-preview'>2016-01-16</div><input id='attrs-ab21cce0-021c-4107-bd97-1faf96e5f269' class='xr-var-attrs-in' type='checkbox' ><label for='attrs-ab21cce0-021c-4107-bd97-1faf96e5f269' title='Show/Hide attributes'><svg class='icon xr-icon-file-text2'><use xlink:href='#icon-file-text2'></use></svg></label><input id='data-2e307877-0bb6-45f7-9f88-1f8a16f0d9a5' class='xr-var-data-in' type='checkbox'><label for='data-2e307877-0bb6-45f7-9f88-1f8a16f0d9a5' title='Show/Hide data repr'><svg class='icon xr-icon-database'><use xlink:href='#icon-database'></use></svg></label><div class='xr-var-attrs'><dl class='xr-attrs'><dt><span>axis :</span></dt><dd>T</dd><dt><span>long_name :</span></dt><dd>time</dd><dt><span>standard_name :</span></dt><dd>time</dd></dl></div><div class='xr-var-data'><pre>array([&#x27;2016-01-16T00:00:00.000000000&#x27;], dtype=&#x27;datetime64[ns]&#x27;)</pre></div></li><li class='xr-var-item'><div class='xr-var-name'><span class='xr-has-index'>depth</span></div><div class='xr-var-dims'>(depth)</div><div class='xr-var-dtype'>int16</div><div class='xr-var-preview xr-preview'>0 5 10 15 ... 4000 4500 5000 5500</div><input id='attrs-10a40048-8050-4a81-bbba-0441e033210f' class='xr-var-attrs-in' type='checkbox' ><label for='attrs-10a40048-8050-4a81-bbba-0441e033210f' title='Show/Hide attributes'><svg class='icon xr-icon-file-text2'><use xlink:href='#icon-file-text2'></use></svg></label><input id='data-68016ceb-3d33-4889-a128-8a7dd93cb2ab' class='xr-var-data-in' type='checkbox'><label for='data-68016ceb-3d33-4889-a128-8a7dd93cb2ab' title='Show/Hide data repr'><svg class='icon xr-icon-database'><use xlink:href='#icon-database'></use></svg></label><div class='xr-var-attrs'><dl class='xr-attrs'><dt><span>axis :</span></dt><dd>Z</dd><dt><span>long_name :</span></dt><dd>depth</dd><dt><span>positive :</span></dt><dd>down</dd><dt><span>standard_name :</span></dt><dd>depth</dd><dt><span>unit_long :</span></dt><dd>meter</dd><dt><span>units :</span></dt><dd>m</dd></dl></div><div class='xr-var-data'><pre>array([   0,    5,   10,   15,   20,   25,   30,   35,   40,   45,   50,   55,\n",
       "         60,   65,   70,   80,   90,  100,  125,  150,  175,  200,  225,  250,\n",
       "        275,  300,  350,  400,  450,  500,  550,  600,  700,  800,  900, 1000,\n",
       "       1100, 1200, 1300, 1400, 1500, 1750, 2000, 2500, 3000, 3500, 4000, 4500,\n",
       "       5000, 5500], dtype=int16)</pre></div></li><li class='xr-var-item'><div class='xr-var-name'><span class='xr-has-index'>latitude</span></div><div class='xr-var-dims'>(latitude)</div><div class='xr-var-dtype'>float32</div><div class='xr-var-preview xr-preview'>-82.12 -81.88 ... 89.62 89.88</div><input id='attrs-e08dd2f6-9d31-4a1f-b849-6d2b4cd8e12c' class='xr-var-attrs-in' type='checkbox' ><label for='attrs-e08dd2f6-9d31-4a1f-b849-6d2b4cd8e12c' title='Show/Hide attributes'><svg class='icon xr-icon-file-text2'><use xlink:href='#icon-file-text2'></use></svg></label><input id='data-e550cac2-ce33-49ef-9433-7b28dfab7fa3' class='xr-var-data-in' type='checkbox'><label for='data-e550cac2-ce33-49ef-9433-7b28dfab7fa3' title='Show/Hide data repr'><svg class='icon xr-icon-database'><use xlink:href='#icon-database'></use></svg></label><div class='xr-var-attrs'><dl class='xr-attrs'><dt><span>axis :</span></dt><dd>Y</dd><dt><span>long_name :</span></dt><dd>latitude</dd><dt><span>standard_name :</span></dt><dd>latitude</dd><dt><span>step :</span></dt><dd>0.25</dd><dt><span>unit_long :</span></dt><dd>degrees north</dd><dt><span>units :</span></dt><dd>degrees_north</dd></dl></div><div class='xr-var-data'><pre>array([-82.125, -81.875, -81.625, ...,  89.375,  89.625,  89.875],\n",
       "      dtype=float32)</pre></div></li><li class='xr-var-item'><div class='xr-var-name'><span class='xr-has-index'>longitude</span></div><div class='xr-var-dims'>(longitude)</div><div class='xr-var-dtype'>float32</div><div class='xr-var-preview xr-preview'>0.125 0.375 0.625 ... 359.6 359.9</div><input id='attrs-6eba8966-346d-4f5e-bdeb-444a57667878' class='xr-var-attrs-in' type='checkbox' ><label for='attrs-6eba8966-346d-4f5e-bdeb-444a57667878' title='Show/Hide attributes'><svg class='icon xr-icon-file-text2'><use xlink:href='#icon-file-text2'></use></svg></label><input id='data-22b9a86d-5351-4b18-8e3d-af4a62f74152' class='xr-var-data-in' type='checkbox'><label for='data-22b9a86d-5351-4b18-8e3d-af4a62f74152' title='Show/Hide data repr'><svg class='icon xr-icon-database'><use xlink:href='#icon-database'></use></svg></label><div class='xr-var-attrs'><dl class='xr-attrs'><dt><span>axis :</span></dt><dd>X</dd><dt><span>long_name :</span></dt><dd>longitude</dd><dt><span>standard_name :</span></dt><dd>longitude</dd><dt><span>step :</span></dt><dd>0.25</dd><dt><span>unit_long :</span></dt><dd>degrees east</dd><dt><span>units :</span></dt><dd>degrees_east</dd></dl></div><div class='xr-var-data'><pre>array([1.25000e-01, 3.75000e-01, 6.25000e-01, ..., 3.59375e+02, 3.59625e+02,\n",
       "       3.59875e+02], dtype=float32)</pre></div></li></ul></div></li><li class='xr-section-item'><input id='section-295eaec8-d799-4065-bcab-dbd721c88f8a' class='xr-section-summary-in' type='checkbox'  checked><label for='section-295eaec8-d799-4065-bcab-dbd721c88f8a' class='xr-section-summary' >Data variables: <span>(6)</span></label><div class='xr-section-inline-details'></div><div class='xr-section-details'><ul class='xr-var-list'><li class='xr-var-item'><div class='xr-var-name'><span>so</span></div><div class='xr-var-dims'>(time, depth, latitude, longitude)</div><div class='xr-var-dtype'>float32</div><div class='xr-var-preview xr-preview'>...</div><input id='attrs-229261a4-4cfc-46e7-836a-08ec5ee3b9e6' class='xr-var-attrs-in' type='checkbox' ><label for='attrs-229261a4-4cfc-46e7-836a-08ec5ee3b9e6' title='Show/Hide attributes'><svg class='icon xr-icon-file-text2'><use xlink:href='#icon-file-text2'></use></svg></label><input id='data-69a477c1-f62d-49c3-84cc-f31f795e57a7' class='xr-var-data-in' type='checkbox'><label for='data-69a477c1-f62d-49c3-84cc-f31f795e57a7' title='Show/Hide data repr'><svg class='icon xr-icon-database'><use xlink:href='#icon-database'></use></svg></label><div class='xr-var-attrs'><dl class='xr-attrs'><dt><span>long_name :</span></dt><dd>salinity</dd><dt><span>standard_name :</span></dt><dd>sea_water_salinity</dd><dt><span>unit_long :</span></dt><dd>practical salinity unit</dd><dt><span>units :</span></dt><dd>0.001</dd></dl></div><div class='xr-var-data'><pre>[49608000 values with dtype=float32]</pre></div></li><li class='xr-var-item'><div class='xr-var-name'><span>to</span></div><div class='xr-var-dims'>(time, depth, latitude, longitude)</div><div class='xr-var-dtype'>float32</div><div class='xr-var-preview xr-preview'>...</div><input id='attrs-f70fa08b-f0e5-4358-bd79-652d636ea334' class='xr-var-attrs-in' type='checkbox' ><label for='attrs-f70fa08b-f0e5-4358-bd79-652d636ea334' title='Show/Hide attributes'><svg class='icon xr-icon-file-text2'><use xlink:href='#icon-file-text2'></use></svg></label><input id='data-4cc18869-6b84-48d1-869e-f7027b28c272' class='xr-var-data-in' type='checkbox'><label for='data-4cc18869-6b84-48d1-869e-f7027b28c272' title='Show/Hide data repr'><svg class='icon xr-icon-database'><use xlink:href='#icon-database'></use></svg></label><div class='xr-var-attrs'><dl class='xr-attrs'><dt><span>long_name :</span></dt><dd>temperature</dd><dt><span>standard_name :</span></dt><dd>sea_water_temperature</dd><dt><span>unit_long :</span></dt><dd>degree Celsius</dd><dt><span>units :</span></dt><dd>degrees_C</dd></dl></div><div class='xr-var-data'><pre>[49608000 values with dtype=float32]</pre></div></li><li class='xr-var-item'><div class='xr-var-name'><span>ugo</span></div><div class='xr-var-dims'>(time, depth, latitude, longitude)</div><div class='xr-var-dtype'>float32</div><div class='xr-var-preview xr-preview'>...</div><input id='attrs-76699680-32c9-4ed3-834e-29cc2cbda547' class='xr-var-attrs-in' type='checkbox' ><label for='attrs-76699680-32c9-4ed3-834e-29cc2cbda547' title='Show/Hide attributes'><svg class='icon xr-icon-file-text2'><use xlink:href='#icon-file-text2'></use></svg></label><input id='data-6688af85-0384-4166-b9bc-cf984cddc2c5' class='xr-var-data-in' type='checkbox'><label for='data-6688af85-0384-4166-b9bc-cf984cddc2c5' title='Show/Hide data repr'><svg class='icon xr-icon-database'><use xlink:href='#icon-database'></use></svg></label><div class='xr-var-attrs'><dl class='xr-attrs'><dt><span>long_name :</span></dt><dd>geostrophic zonal velocity from thermal wind equation</dd><dt><span>standard_name :</span></dt><dd>geostrophic_eastward_sea_water_velocity</dd><dt><span>unit_long :</span></dt><dd>meter per second</dd><dt><span>units :</span></dt><dd>m s-1</dd><dt><span>valid_range :</span></dt><dd>[-4000  4000]</dd></dl></div><div class='xr-var-data'><pre>[49608000 values with dtype=float32]</pre></div></li><li class='xr-var-item'><div class='xr-var-name'><span>vgo</span></div><div class='xr-var-dims'>(time, depth, latitude, longitude)</div><div class='xr-var-dtype'>float32</div><div class='xr-var-preview xr-preview'>...</div><input id='attrs-d140c9a0-9eeb-4b5c-abb0-35dc6da55e5d' class='xr-var-attrs-in' type='checkbox' ><label for='attrs-d140c9a0-9eeb-4b5c-abb0-35dc6da55e5d' title='Show/Hide attributes'><svg class='icon xr-icon-file-text2'><use xlink:href='#icon-file-text2'></use></svg></label><input id='data-d8f4c334-60f7-496c-a2b8-1a43c905ae55' class='xr-var-data-in' type='checkbox'><label for='data-d8f4c334-60f7-496c-a2b8-1a43c905ae55' title='Show/Hide data repr'><svg class='icon xr-icon-database'><use xlink:href='#icon-database'></use></svg></label><div class='xr-var-attrs'><dl class='xr-attrs'><dt><span>long_name :</span></dt><dd>geostrophic meridional velocity from thermal wind equation</dd><dt><span>standard_name :</span></dt><dd>geostrophic_northward_sea_water_velocity</dd><dt><span>unit_long :</span></dt><dd>meter per second</dd><dt><span>units :</span></dt><dd>m s-1</dd><dt><span>valid_range :</span></dt><dd>[-4000  4000]</dd></dl></div><div class='xr-var-data'><pre>[49608000 values with dtype=float32]</pre></div></li><li class='xr-var-item'><div class='xr-var-name'><span>zo</span></div><div class='xr-var-dims'>(time, depth, latitude, longitude)</div><div class='xr-var-dtype'>float32</div><div class='xr-var-preview xr-preview'>...</div><input id='attrs-f4037bdb-4dca-4e7a-80c9-67201aa635da' class='xr-var-attrs-in' type='checkbox' ><label for='attrs-f4037bdb-4dca-4e7a-80c9-67201aa635da' title='Show/Hide attributes'><svg class='icon xr-icon-file-text2'><use xlink:href='#icon-file-text2'></use></svg></label><input id='data-5cc9c38e-6f7a-4f91-a110-985c1a222b82' class='xr-var-data-in' type='checkbox'><label for='data-5cc9c38e-6f7a-4f91-a110-985c1a222b82' title='Show/Hide data repr'><svg class='icon xr-icon-database'><use xlink:href='#icon-database'></use></svg></label><div class='xr-var-attrs'><dl class='xr-attrs'><dt><span>long_name :</span></dt><dd>absolute height</dd><dt><span>standard_name :</span></dt><dd>geopotential_height</dd><dt><span>unit_long :</span></dt><dd>meter</dd><dt><span>units :</span></dt><dd>m</dd><dt><span>valid_range :</span></dt><dd>[-20000  20000]</dd></dl></div><div class='xr-var-data'><pre>[49608000 values with dtype=float32]</pre></div></li><li class='xr-var-item'><div class='xr-var-name'><span>mlotst</span></div><div class='xr-var-dims'>(time, latitude, longitude)</div><div class='xr-var-dtype'>float32</div><div class='xr-var-preview xr-preview'>...</div><input id='attrs-67d55c04-1112-4eae-85f0-2a52bdc40a56' class='xr-var-attrs-in' type='checkbox' ><label for='attrs-67d55c04-1112-4eae-85f0-2a52bdc40a56' title='Show/Hide attributes'><svg class='icon xr-icon-file-text2'><use xlink:href='#icon-file-text2'></use></svg></label><input id='data-fbd7d5d2-5380-48ef-bafa-8e10a6c30658' class='xr-var-data-in' type='checkbox'><label for='data-fbd7d5d2-5380-48ef-bafa-8e10a6c30658' title='Show/Hide data repr'><svg class='icon xr-icon-database'><use xlink:href='#icon-database'></use></svg></label><div class='xr-var-attrs'><dl class='xr-attrs'><dt><span>unit_long :</span></dt><dd>meter</dd><dt><span>long_name :</span></dt><dd>Mixed layer depth from min of temperature and density threshold equivalent to a 0.2C decrease</dd><dt><span>standard_name :</span></dt><dd>ocean_mixed_layer_thickness</dd><dt><span>units :</span></dt><dd>m</dd></dl></div><div class='xr-var-data'><pre>[992160 values with dtype=float32]</pre></div></li></ul></div></li><li class='xr-section-item'><input id='section-c69120a6-d60b-42cb-ad47-ae8b95ac1622' class='xr-section-summary-in' type='checkbox'  ><label for='section-c69120a6-d60b-42cb-ad47-ae8b95ac1622' class='xr-section-summary' >Indexes: <span>(4)</span></label><div class='xr-section-inline-details'></div><div class='xr-section-details'><ul class='xr-var-list'><li class='xr-var-item'><div class='xr-index-name'><div>time</div></div><div class='xr-index-preview'>PandasIndex</div><div></div><input id='index-ff8c66e5-ec1f-4f51-a558-c4a48d541de1' class='xr-index-data-in' type='checkbox'/><label for='index-ff8c66e5-ec1f-4f51-a558-c4a48d541de1' title='Show/Hide index repr'><svg class='icon xr-icon-database'><use xlink:href='#icon-database'></use></svg></label><div class='xr-index-data'><pre>PandasIndex(DatetimeIndex([&#x27;2016-01-16&#x27;], dtype=&#x27;datetime64[ns]&#x27;, name=&#x27;time&#x27;, freq=None))</pre></div></li><li class='xr-var-item'><div class='xr-index-name'><div>depth</div></div><div class='xr-index-preview'>PandasIndex</div><div></div><input id='index-cb75be91-5e93-4cda-b2b4-e331d033d96b' class='xr-index-data-in' type='checkbox'/><label for='index-cb75be91-5e93-4cda-b2b4-e331d033d96b' title='Show/Hide index repr'><svg class='icon xr-icon-database'><use xlink:href='#icon-database'></use></svg></label><div class='xr-index-data'><pre>PandasIndex(Index([   0,    5,   10,   15,   20,   25,   30,   35,   40,   45,   50,   55,\n",
       "         60,   65,   70,   80,   90,  100,  125,  150,  175,  200,  225,  250,\n",
       "        275,  300,  350,  400,  450,  500,  550,  600,  700,  800,  900, 1000,\n",
       "       1100, 1200, 1300, 1400, 1500, 1750, 2000, 2500, 3000, 3500, 4000, 4500,\n",
       "       5000, 5500],\n",
       "      dtype=&#x27;int16&#x27;, name=&#x27;depth&#x27;))</pre></div></li><li class='xr-var-item'><div class='xr-index-name'><div>latitude</div></div><div class='xr-index-preview'>PandasIndex</div><div></div><input id='index-6dc43036-5c89-46d4-a292-9bff006647f7' class='xr-index-data-in' type='checkbox'/><label for='index-6dc43036-5c89-46d4-a292-9bff006647f7' title='Show/Hide index repr'><svg class='icon xr-icon-database'><use xlink:href='#icon-database'></use></svg></label><div class='xr-index-data'><pre>PandasIndex(Index([-82.125, -81.875, -81.625, -81.375, -81.125, -80.875, -80.625, -80.375,\n",
       "       -80.125, -79.875,\n",
       "       ...\n",
       "        87.625,  87.875,  88.125,  88.375,  88.625,  88.875,  89.125,  89.375,\n",
       "        89.625,  89.875],\n",
       "      dtype=&#x27;float32&#x27;, name=&#x27;latitude&#x27;, length=689))</pre></div></li><li class='xr-var-item'><div class='xr-index-name'><div>longitude</div></div><div class='xr-index-preview'>PandasIndex</div><div></div><input id='index-087b4400-9187-4ed7-a8a4-0d91d2dd122b' class='xr-index-data-in' type='checkbox'/><label for='index-087b4400-9187-4ed7-a8a4-0d91d2dd122b' title='Show/Hide index repr'><svg class='icon xr-icon-database'><use xlink:href='#icon-database'></use></svg></label><div class='xr-index-data'><pre>PandasIndex(Index([  0.125,   0.375,   0.625,   0.875,   1.125,   1.375,   1.625,   1.875,\n",
       "         2.125,   2.375,\n",
       "       ...\n",
       "       357.625, 357.875, 358.125, 358.375, 358.625, 358.875, 359.125, 359.375,\n",
       "       359.625, 359.875],\n",
       "      dtype=&#x27;float32&#x27;, name=&#x27;longitude&#x27;, length=1440))</pre></div></li></ul></div></li><li class='xr-section-item'><input id='section-7b40caaa-1e77-4be3-8126-14ee8b9259c7' class='xr-section-summary-in' type='checkbox'  checked><label for='section-7b40caaa-1e77-4be3-8126-14ee8b9259c7' class='xr-section-summary' >Attributes: <span>(6)</span></label><div class='xr-section-inline-details'></div><div class='xr-section-details'><dl class='xr-attrs'><dt><span>description :</span></dt><dd>ARMOR3D REP CMEMS December 2020 Release</dd><dt><span>Conventions :</span></dt><dd>CF-1.0</dd><dt><span>institution :</span></dt><dd>CLS</dd><dt><span>domain_name :</span></dt><dd>GLO</dd><dt><span>history :</span></dt><dd>2016-01-15 12:00:00 ARMOR3D REP - TSHUV Global Ocean Observation-based Product netCDF creation</dd><dt><span>title :</span></dt><dd>ARMOR3D REP - TSHUVMld Global Ocean Observation-based Product monthly average</dd></dl></div></li></ul></div></div>"
      ],
      "text/plain": [
       "<xarray.Dataset>\n",
       "Dimensions:    (time: 1, depth: 50, latitude: 689, longitude: 1440)\n",
       "Coordinates:\n",
       "  * time       (time) datetime64[ns] 2016-01-16\n",
       "  * depth      (depth) int16 0 5 10 15 20 25 ... 3000 3500 4000 4500 5000 5500\n",
       "  * latitude   (latitude) float32 -82.12 -81.88 -81.62 ... 89.38 89.62 89.88\n",
       "  * longitude  (longitude) float32 0.125 0.375 0.625 0.875 ... 359.4 359.6 359.9\n",
       "Data variables:\n",
       "    so         (time, depth, latitude, longitude) float32 ...\n",
       "    to         (time, depth, latitude, longitude) float32 ...\n",
       "    ugo        (time, depth, latitude, longitude) float32 ...\n",
       "    vgo        (time, depth, latitude, longitude) float32 ...\n",
       "    zo         (time, depth, latitude, longitude) float32 ...\n",
       "    mlotst     (time, latitude, longitude) float32 ...\n",
       "Attributes:\n",
       "    description:  ARMOR3D REP CMEMS December 2020 Release\n",
       "    Conventions:  CF-1.0\n",
       "    institution:  CLS\n",
       "    domain_name:  GLO\n",
       "    history:      2016-01-15 12:00:00 ARMOR3D REP - TSHUV Global Ocean Observ...\n",
       "    title:        ARMOR3D REP - TSHUVMld Global Ocean Observation-based Produ..."
      ]
     },
     "execution_count": 4,
     "metadata": {},
     "output_type": "execute_result"
    }
   ],
   "source": [
    "ds201601 = xr.open_dataset('../data/copernicus/before/dataset-armor-3d-rep-monthly_20160115T1200Z_P20201106T2204Z.nc')  \n",
    "ds201601"
   ]
  },
  {
   "cell_type": "code",
   "execution_count": 35,
   "metadata": {},
   "outputs": [],
   "source": [
    "# 독도 주변  경도와 위도 범위 설정\n",
    "lon_min, lon_max = 130, 133  # 경도 범위\n",
    "lat_min, lat_max = 36, 39  # 위도 범위"
   ]
  },
  {
   "cell_type": "code",
   "execution_count": 36,
   "metadata": {},
   "outputs": [],
   "source": [
    "# 기준 시점 이전 3년의 데이터 로딩\n",
    "# 폴더 경로 설정\n",
    "folder_path = '../data/copernicus/before'\n",
    "df = {}\n",
    "\n",
    "# 해당 폴더 내의 모든 파일을 읽어서 전처리 진행\n",
    "for idx, filename in enumerate(os.listdir(folder_path)):\n",
    "    file_path = os.path.join(folder_path, filename)\n",
    "    # 데이터 로딩\n",
    "    ds = xr.open_dataset(file_path)\n",
    "    # dataset에서 좌표 범위 데이터를 추출\n",
    "    ds = ds.sel(longitude=slice(lon_min, lon_max), latitude=slice(lat_min, lat_max))\n",
    "    # Pandas DataFrame으로 변환 \n",
    "    df[str(idx)] = ds.to_dataframe().reset_index()\n",
    "    # 표층(depth = 0) 데이터만 추출\n",
    "    df[str(idx)] = df[str(idx)][ df[str(idx)]['depth'] == 0   ]    \n",
    "    # print(str(idx))\n"
   ]
  },
  {
   "cell_type": "code",
   "execution_count": 37,
   "metadata": {},
   "outputs": [],
   "source": [
    "# 기준 시점 이전 3년치 데이터를 병합 \n",
    "\n",
    "# df 딕셔너리에 저장된 DataFrame들을 리스트에 모으기\n",
    "dataframes = [df[str(i)] for i in range(8)]\n",
    "\n",
    "# pandas.concat()을 사용하여 모든 DataFrame 병합\n",
    "df_before = pd.concat(dataframes, ignore_index=True)"
   ]
  },
  {
   "cell_type": "code",
   "execution_count": 8,
   "metadata": {},
   "outputs": [
    {
     "name": "stdout",
     "output_type": "stream",
     "text": [
      "<class 'pandas.core.frame.DataFrame'>\n",
      "RangeIndex: 144 entries, 0 to 143\n",
      "Data columns (total 3 columns):\n",
      " #   Column     Non-Null Count  Dtype  \n",
      "---  ------     --------------  -----  \n",
      " 0   latitude   144 non-null    float32\n",
      " 1   longitude  144 non-null    float32\n",
      " 2   to         144 non-null    float32\n",
      "dtypes: float32(3)\n",
      "memory usage: 1.8 KB\n"
     ]
    },
    {
     "data": {
      "text/html": [
       "<div>\n",
       "<style scoped>\n",
       "    .dataframe tbody tr th:only-of-type {\n",
       "        vertical-align: middle;\n",
       "    }\n",
       "\n",
       "    .dataframe tbody tr th {\n",
       "        vertical-align: top;\n",
       "    }\n",
       "\n",
       "    .dataframe thead th {\n",
       "        text-align: right;\n",
       "    }\n",
       "</style>\n",
       "<table border=\"1\" class=\"dataframe\">\n",
       "  <thead>\n",
       "    <tr style=\"text-align: right;\">\n",
       "      <th></th>\n",
       "      <th>latitude</th>\n",
       "      <th>longitude</th>\n",
       "      <th>to</th>\n",
       "    </tr>\n",
       "  </thead>\n",
       "  <tbody>\n",
       "    <tr>\n",
       "      <th>0</th>\n",
       "      <td>36.125000</td>\n",
       "      <td>130.125000</td>\n",
       "      <td>13.005375</td>\n",
       "    </tr>\n",
       "    <tr>\n",
       "      <th>1</th>\n",
       "      <td>36.125000</td>\n",
       "      <td>130.375000</td>\n",
       "      <td>12.741250</td>\n",
       "    </tr>\n",
       "    <tr>\n",
       "      <th>2</th>\n",
       "      <td>36.125000</td>\n",
       "      <td>130.625000</td>\n",
       "      <td>12.479124</td>\n",
       "    </tr>\n",
       "    <tr>\n",
       "      <th>3</th>\n",
       "      <td>36.125000</td>\n",
       "      <td>130.875000</td>\n",
       "      <td>12.191250</td>\n",
       "    </tr>\n",
       "    <tr>\n",
       "      <th>4</th>\n",
       "      <td>36.125000</td>\n",
       "      <td>131.125000</td>\n",
       "      <td>11.939000</td>\n",
       "    </tr>\n",
       "  </tbody>\n",
       "</table>\n",
       "</div>"
      ],
      "text/plain": [
       "   latitude  longitude        to\n",
       "0 36.125000 130.125000 13.005375\n",
       "1 36.125000 130.375000 12.741250\n",
       "2 36.125000 130.625000 12.479124\n",
       "3 36.125000 130.875000 12.191250\n",
       "4 36.125000 131.125000 11.939000"
      ]
     },
     "execution_count": 8,
     "metadata": {},
     "output_type": "execute_result"
    }
   ],
   "source": [
    "# 기준 시점 이전 3년치 데이터 좌표(격자)별 평균 수온을 산출\n",
    "df_before2 = df_before.groupby(['latitude', 'longitude'])['to'].mean().reset_index()\n",
    "df_before2.info()\n",
    "df_before2.head()"
   ]
  },
  {
   "cell_type": "code",
   "execution_count": 9,
   "metadata": {},
   "outputs": [],
   "source": [
    "# 0.25도 간격의 격자 폴리곤 생성 함수\n",
    "def create_polygon(lat, lon):\n",
    "    return Polygon([(lon, lat),\n",
    "                    (lon + 0.25, lat),\n",
    "                    (lon + 0.25, lat + 0.25),\n",
    "                    (lon, lat + 0.25)])"
   ]
  },
  {
   "cell_type": "code",
   "execution_count": 10,
   "metadata": {},
   "outputs": [],
   "source": [
    "# 각 좌표에 대한 폴리곤 생성\n",
    "geom = df_before2.apply(lambda row: create_polygon(row['latitude'], row['longitude']), axis=1)\n",
    "# DataFrame을 GeoDataFrame으로 변환\n",
    "gdf_before = gpd.GeoDataFrame(df_before2, geometry=geom, crs='4326')"
   ]
  },
  {
   "cell_type": "code",
   "execution_count": 11,
   "metadata": {},
   "outputs": [
    {
     "name": "stdout",
     "output_type": "stream",
     "text": [
      "<class 'geopandas.geodataframe.GeoDataFrame'>\n",
      "RangeIndex: 144 entries, 0 to 143\n",
      "Data columns (total 4 columns):\n",
      " #   Column     Non-Null Count  Dtype   \n",
      "---  ------     --------------  -----   \n",
      " 0   latitude   144 non-null    float32 \n",
      " 1   longitude  144 non-null    float32 \n",
      " 2   to         144 non-null    float32 \n",
      " 3   geometry   144 non-null    geometry\n",
      "dtypes: float32(3), geometry(1)\n",
      "memory usage: 2.9 KB\n"
     ]
    },
    {
     "data": {
      "text/html": [
       "<div>\n",
       "<style scoped>\n",
       "    .dataframe tbody tr th:only-of-type {\n",
       "        vertical-align: middle;\n",
       "    }\n",
       "\n",
       "    .dataframe tbody tr th {\n",
       "        vertical-align: top;\n",
       "    }\n",
       "\n",
       "    .dataframe thead th {\n",
       "        text-align: right;\n",
       "    }\n",
       "</style>\n",
       "<table border=\"1\" class=\"dataframe\">\n",
       "  <thead>\n",
       "    <tr style=\"text-align: right;\">\n",
       "      <th></th>\n",
       "      <th>latitude</th>\n",
       "      <th>longitude</th>\n",
       "      <th>to</th>\n",
       "      <th>geometry</th>\n",
       "    </tr>\n",
       "  </thead>\n",
       "  <tbody>\n",
       "    <tr>\n",
       "      <th>0</th>\n",
       "      <td>36.125000</td>\n",
       "      <td>130.125000</td>\n",
       "      <td>13.005375</td>\n",
       "      <td>POLYGON ((130.12500 36.12500, 130.37500 36.125...</td>\n",
       "    </tr>\n",
       "    <tr>\n",
       "      <th>1</th>\n",
       "      <td>36.125000</td>\n",
       "      <td>130.375000</td>\n",
       "      <td>12.741250</td>\n",
       "      <td>POLYGON ((130.37500 36.12500, 130.62500 36.125...</td>\n",
       "    </tr>\n",
       "    <tr>\n",
       "      <th>2</th>\n",
       "      <td>36.125000</td>\n",
       "      <td>130.625000</td>\n",
       "      <td>12.479124</td>\n",
       "      <td>POLYGON ((130.62500 36.12500, 130.87500 36.125...</td>\n",
       "    </tr>\n",
       "    <tr>\n",
       "      <th>3</th>\n",
       "      <td>36.125000</td>\n",
       "      <td>130.875000</td>\n",
       "      <td>12.191250</td>\n",
       "      <td>POLYGON ((130.87500 36.12500, 131.12500 36.125...</td>\n",
       "    </tr>\n",
       "    <tr>\n",
       "      <th>4</th>\n",
       "      <td>36.125000</td>\n",
       "      <td>131.125000</td>\n",
       "      <td>11.939000</td>\n",
       "      <td>POLYGON ((131.12500 36.12500, 131.37500 36.125...</td>\n",
       "    </tr>\n",
       "  </tbody>\n",
       "</table>\n",
       "</div>"
      ],
      "text/plain": [
       "   latitude  longitude        to  \\\n",
       "0 36.125000 130.125000 13.005375   \n",
       "1 36.125000 130.375000 12.741250   \n",
       "2 36.125000 130.625000 12.479124   \n",
       "3 36.125000 130.875000 12.191250   \n",
       "4 36.125000 131.125000 11.939000   \n",
       "\n",
       "                                            geometry  \n",
       "0  POLYGON ((130.12500 36.12500, 130.37500 36.125...  \n",
       "1  POLYGON ((130.37500 36.12500, 130.62500 36.125...  \n",
       "2  POLYGON ((130.62500 36.12500, 130.87500 36.125...  \n",
       "3  POLYGON ((130.87500 36.12500, 131.12500 36.125...  \n",
       "4  POLYGON ((131.12500 36.12500, 131.37500 36.125...  "
      ]
     },
     "execution_count": 11,
     "metadata": {},
     "output_type": "execute_result"
    }
   ],
   "source": [
    "# GeoDataFrame 기초정보 확인 \n",
    "gdf_before.info()\n",
    "gdf_before.head()"
   ]
  },
  {
   "cell_type": "code",
   "execution_count": 12,
   "metadata": {},
   "outputs": [
    {
     "name": "stderr",
     "output_type": "stream",
     "text": [
      "c:\\Users\\leesh\\AppData\\Local\\Programs\\Python\\Python311\\Lib\\site-packages\\geopandas\\explore.py:400: FutureWarning: is_categorical_dtype is deprecated and will be removed in a future version. Use isinstance(dtype, CategoricalDtype) instead\n",
      "  elif pd.api.types.is_categorical_dtype(gdf[column]):\n"
     ]
    },
    {
     "data": {
      "text/html": [
       "<div style=\"width:100%;\"><div style=\"position:relative;width:100%;height:0;padding-bottom:60%;\"><span style=\"color:#565656\">Make this Notebook Trusted to load map: File -> Trust Notebook</span><iframe srcdoc=\"&lt;!DOCTYPE html&gt;\n",
       "&lt;html&gt;\n",
       "&lt;head&gt;\n",
       "    \n",
       "    &lt;meta http-equiv=&quot;content-type&quot; content=&quot;text/html; charset=UTF-8&quot; /&gt;\n",
       "    \n",
       "        &lt;script&gt;\n",
       "            L_NO_TOUCH = false;\n",
       "            L_DISABLE_3D = false;\n",
       "        &lt;/script&gt;\n",
       "    \n",
       "    &lt;style&gt;html, body {width: 100%;height: 100%;margin: 0;padding: 0;}&lt;/style&gt;\n",
       "    &lt;style&gt;#map {position:absolute;top:0;bottom:0;right:0;left:0;}&lt;/style&gt;\n",
       "    &lt;script src=&quot;https://cdn.jsdelivr.net/npm/leaflet@1.9.3/dist/leaflet.js&quot;&gt;&lt;/script&gt;\n",
       "    &lt;script src=&quot;https://code.jquery.com/jquery-1.12.4.min.js&quot;&gt;&lt;/script&gt;\n",
       "    &lt;script src=&quot;https://cdn.jsdelivr.net/npm/bootstrap@5.2.2/dist/js/bootstrap.bundle.min.js&quot;&gt;&lt;/script&gt;\n",
       "    &lt;script src=&quot;https://cdnjs.cloudflare.com/ajax/libs/Leaflet.awesome-markers/2.0.2/leaflet.awesome-markers.js&quot;&gt;&lt;/script&gt;\n",
       "    &lt;link rel=&quot;stylesheet&quot; href=&quot;https://cdn.jsdelivr.net/npm/leaflet@1.9.3/dist/leaflet.css&quot;/&gt;\n",
       "    &lt;link rel=&quot;stylesheet&quot; href=&quot;https://cdn.jsdelivr.net/npm/bootstrap@5.2.2/dist/css/bootstrap.min.css&quot;/&gt;\n",
       "    &lt;link rel=&quot;stylesheet&quot; href=&quot;https://netdna.bootstrapcdn.com/bootstrap/3.0.0/css/bootstrap.min.css&quot;/&gt;\n",
       "    &lt;link rel=&quot;stylesheet&quot; href=&quot;https://cdn.jsdelivr.net/npm/@fortawesome/fontawesome-free@6.2.0/css/all.min.css&quot;/&gt;\n",
       "    &lt;link rel=&quot;stylesheet&quot; href=&quot;https://cdnjs.cloudflare.com/ajax/libs/Leaflet.awesome-markers/2.0.2/leaflet.awesome-markers.css&quot;/&gt;\n",
       "    &lt;link rel=&quot;stylesheet&quot; href=&quot;https://cdn.jsdelivr.net/gh/python-visualization/folium/folium/templates/leaflet.awesome.rotate.min.css&quot;/&gt;\n",
       "    \n",
       "            &lt;meta name=&quot;viewport&quot; content=&quot;width=device-width,\n",
       "                initial-scale=1.0, maximum-scale=1.0, user-scalable=no&quot; /&gt;\n",
       "            &lt;style&gt;\n",
       "                #map_cc3ed2fa6ec5a41ca74d29aed2ebd448 {\n",
       "                    position: relative;\n",
       "                    width: 100.0%;\n",
       "                    height: 100.0%;\n",
       "                    left: 0.0%;\n",
       "                    top: 0.0%;\n",
       "                }\n",
       "                .leaflet-container { font-size: 1rem; }\n",
       "            &lt;/style&gt;\n",
       "        \n",
       "    \n",
       "                    &lt;style&gt;\n",
       "                        .foliumtooltip {\n",
       "                            \n",
       "                        }\n",
       "                       .foliumtooltip table{\n",
       "                            margin: auto;\n",
       "                        }\n",
       "                        .foliumtooltip tr{\n",
       "                            text-align: left;\n",
       "                        }\n",
       "                        .foliumtooltip th{\n",
       "                            padding: 2px; padding-right: 8px;\n",
       "                        }\n",
       "                    &lt;/style&gt;\n",
       "            \n",
       "    &lt;script src=&quot;https://cdnjs.cloudflare.com/ajax/libs/d3/3.5.5/d3.min.js&quot;&gt;&lt;/script&gt;\n",
       "&lt;/head&gt;\n",
       "&lt;body&gt;\n",
       "    \n",
       "    \n",
       "            &lt;div class=&quot;folium-map&quot; id=&quot;map_cc3ed2fa6ec5a41ca74d29aed2ebd448&quot; &gt;&lt;/div&gt;\n",
       "        \n",
       "&lt;/body&gt;\n",
       "&lt;script&gt;\n",
       "    \n",
       "    \n",
       "            var map_cc3ed2fa6ec5a41ca74d29aed2ebd448 = L.map(\n",
       "                &quot;map_cc3ed2fa6ec5a41ca74d29aed2ebd448&quot;,\n",
       "                {\n",
       "                    center: [37.625, 131.625],\n",
       "                    crs: L.CRS.EPSG3857,\n",
       "                    zoom: 10,\n",
       "                    zoomControl: true,\n",
       "                    preferCanvas: false,\n",
       "                }\n",
       "            );\n",
       "            L.control.scale().addTo(map_cc3ed2fa6ec5a41ca74d29aed2ebd448);\n",
       "\n",
       "            \n",
       "\n",
       "        \n",
       "    \n",
       "            var tile_layer_4b321b0d427c7a07e116096a6091edce = L.tileLayer(\n",
       "                &quot;https://{s}.tile.openstreetmap.org/{z}/{x}/{y}.png&quot;,\n",
       "                {&quot;attribution&quot;: &quot;Data by \\u0026copy; \\u003ca target=\\&quot;_blank\\&quot; href=\\&quot;http://openstreetmap.org\\&quot;\\u003eOpenStreetMap\\u003c/a\\u003e, under \\u003ca target=\\&quot;_blank\\&quot; href=\\&quot;http://www.openstreetmap.org/copyright\\&quot;\\u003eODbL\\u003c/a\\u003e.&quot;, &quot;detectRetina&quot;: false, &quot;maxNativeZoom&quot;: 18, &quot;maxZoom&quot;: 18, &quot;minZoom&quot;: 0, &quot;noWrap&quot;: false, &quot;opacity&quot;: 1, &quot;subdomains&quot;: &quot;abc&quot;, &quot;tms&quot;: false}\n",
       "            ).addTo(map_cc3ed2fa6ec5a41ca74d29aed2ebd448);\n",
       "        \n",
       "    \n",
       "            map_cc3ed2fa6ec5a41ca74d29aed2ebd448.fitBounds(\n",
       "                [[36.125, 130.125], [39.125, 133.125]],\n",
       "                {}\n",
       "            );\n",
       "        \n",
       "    \n",
       "        function geo_json_48119ddf78bd397ea94408e25f03d365_styler(feature) {\n",
       "            switch(feature.id) {\n",
       "                case &quot;0&quot;: \n",
       "                    return {&quot;color&quot;: &quot;#f7c2a2&quot;, &quot;fillColor&quot;: &quot;#f7c2a2&quot;, &quot;fillOpacity&quot;: 0.5, &quot;weight&quot;: 2};\n",
       "                case &quot;1&quot;: \n",
       "                    return {&quot;color&quot;: &quot;#f6b089&quot;, &quot;fillColor&quot;: &quot;#f6b089&quot;, &quot;fillOpacity&quot;: 0.5, &quot;weight&quot;: 2};\n",
       "                case &quot;2&quot;: \n",
       "                    return {&quot;color&quot;: &quot;#f69c73&quot;, &quot;fillColor&quot;: &quot;#f69c73&quot;, &quot;fillOpacity&quot;: 0.5, &quot;weight&quot;: 2};\n",
       "                case &quot;3&quot;: case &quot;26&quot;: \n",
       "                    return {&quot;color&quot;: &quot;#f4865e&quot;, &quot;fillColor&quot;: &quot;#f4865e&quot;, &quot;fillOpacity&quot;: 0.5, &quot;weight&quot;: 2};\n",
       "                case &quot;4&quot;: case &quot;6&quot;: case &quot;28&quot;: case &quot;49&quot;: \n",
       "                    return {&quot;color&quot;: &quot;#f3714d&quot;, &quot;fillColor&quot;: &quot;#f3714d&quot;, &quot;fillOpacity&quot;: 0.5, &quot;weight&quot;: 2};\n",
       "                case &quot;7&quot;: case &quot;36&quot;: \n",
       "                    return {&quot;color&quot;: &quot;#f58a61&quot;, &quot;fillColor&quot;: &quot;#f58a61&quot;, &quot;fillOpacity&quot;: 0.5, &quot;weight&quot;: 2};\n",
       "                case &quot;8&quot;: \n",
       "                    return {&quot;color&quot;: &quot;#f6a981&quot;, &quot;fillColor&quot;: &quot;#f6a981&quot;, &quot;fillOpacity&quot;: 0.5, &quot;weight&quot;: 2};\n",
       "                case &quot;9&quot;: case &quot;22&quot;: \n",
       "                    return {&quot;color&quot;: &quot;#f6b691&quot;, &quot;fillColor&quot;: &quot;#f6b691&quot;, &quot;fillOpacity&quot;: 0.5, &quot;weight&quot;: 2};\n",
       "                case &quot;10&quot;: \n",
       "                    return {&quot;color&quot;: &quot;#f7cfb3&quot;, &quot;fillColor&quot;: &quot;#f7cfb3&quot;, &quot;fillOpacity&quot;: 0.5, &quot;weight&quot;: 2};\n",
       "                case &quot;11&quot;: \n",
       "                    return {&quot;color&quot;: &quot;#faebdd&quot;, &quot;fillColor&quot;: &quot;#faebdd&quot;, &quot;fillOpacity&quot;: 0.5, &quot;weight&quot;: 2};\n",
       "                case &quot;12&quot;: \n",
       "                    return {&quot;color&quot;: &quot;#f6ab83&quot;, &quot;fillColor&quot;: &quot;#f6ab83&quot;, &quot;fillOpacity&quot;: 0.5, &quot;weight&quot;: 2};\n",
       "                case &quot;13&quot;: case &quot;24&quot;: \n",
       "                    return {&quot;color&quot;: &quot;#f6a178&quot;, &quot;fillColor&quot;: &quot;#f6a178&quot;, &quot;fillOpacity&quot;: 0.5, &quot;weight&quot;: 2};\n",
       "                case &quot;14&quot;: \n",
       "                    return {&quot;color&quot;: &quot;#f5946b&quot;, &quot;fillColor&quot;: &quot;#f5946b&quot;, &quot;fillOpacity&quot;: 0.5, &quot;weight&quot;: 2};\n",
       "                case &quot;15&quot;: case &quot;38&quot;: \n",
       "                    return {&quot;color&quot;: &quot;#f47c55&quot;, &quot;fillColor&quot;: &quot;#f47c55&quot;, &quot;fillOpacity&quot;: 0.5, &quot;weight&quot;: 2};\n",
       "                case &quot;16&quot;: case &quot;51&quot;: \n",
       "                    return {&quot;color&quot;: &quot;#f26d4b&quot;, &quot;fillColor&quot;: &quot;#f26d4b&quot;, &quot;fillOpacity&quot;: 0.5, &quot;weight&quot;: 2};\n",
       "                case &quot;17&quot;: case &quot;64&quot;: case &quot;72&quot;: \n",
       "                    return {&quot;color&quot;: &quot;#f05e42&quot;, &quot;fillColor&quot;: &quot;#f05e42&quot;, &quot;fillOpacity&quot;: 0.5, &quot;weight&quot;: 2};\n",
       "                case &quot;18&quot;: \n",
       "                    return {&quot;color&quot;: &quot;#ef5840&quot;, &quot;fillColor&quot;: &quot;#ef5840&quot;, &quot;fillOpacity&quot;: 0.5, &quot;weight&quot;: 2};\n",
       "                case &quot;19&quot;: case &quot;63&quot;: \n",
       "                    return {&quot;color&quot;: &quot;#f16445&quot;, &quot;fillColor&quot;: &quot;#f16445&quot;, &quot;fillOpacity&quot;: 0.5, &quot;weight&quot;: 2};\n",
       "                case &quot;20&quot;: case &quot;27&quot;: \n",
       "                    return {&quot;color&quot;: &quot;#f47d57&quot;, &quot;fillColor&quot;: &quot;#f47d57&quot;, &quot;fillOpacity&quot;: 0.5, &quot;weight&quot;: 2};\n",
       "                case &quot;21&quot;: \n",
       "                    return {&quot;color&quot;: &quot;#f69b71&quot;, &quot;fillColor&quot;: &quot;#f69b71&quot;, &quot;fillOpacity&quot;: 0.5, &quot;weight&quot;: 2};\n",
       "                case &quot;23&quot;: \n",
       "                    return {&quot;color&quot;: &quot;#f8d4bc&quot;, &quot;fillColor&quot;: &quot;#f8d4bc&quot;, &quot;fillOpacity&quot;: 0.5, &quot;weight&quot;: 2};\n",
       "                case &quot;25&quot;: \n",
       "                    return {&quot;color&quot;: &quot;#f5976e&quot;, &quot;fillColor&quot;: &quot;#f5976e&quot;, &quot;fillOpacity&quot;: 0.5, &quot;weight&quot;: 2};\n",
       "                case &quot;29&quot;: \n",
       "                    return {&quot;color&quot;: &quot;#f16244&quot;, &quot;fillColor&quot;: &quot;#f16244&quot;, &quot;fillOpacity&quot;: 0.5, &quot;weight&quot;: 2};\n",
       "                case &quot;30&quot;: case &quot;44&quot;: case &quot;45&quot;: \n",
       "                    return {&quot;color&quot;: &quot;#ed4e3e&quot;, &quot;fillColor&quot;: &quot;#ed4e3e&quot;, &quot;fillOpacity&quot;: 0.5, &quot;weight&quot;: 2};\n",
       "                case &quot;31&quot;: \n",
       "                    return {&quot;color&quot;: &quot;#eb483e&quot;, &quot;fillColor&quot;: &quot;#eb483e&quot;, &quot;fillOpacity&quot;: 0.5, &quot;weight&quot;: 2};\n",
       "                case &quot;32&quot;: case &quot;59&quot;: \n",
       "                    return {&quot;color&quot;: &quot;#ef5640&quot;, &quot;fillColor&quot;: &quot;#ef5640&quot;, &quot;fillOpacity&quot;: 0.5, &quot;weight&quot;: 2};\n",
       "                case &quot;33&quot;: \n",
       "                    return {&quot;color&quot;: &quot;#f26948&quot;, &quot;fillColor&quot;: &quot;#f26948&quot;, &quot;fillOpacity&quot;: 0.5, &quot;weight&quot;: 2};\n",
       "                case &quot;34&quot;: case &quot;37&quot;: \n",
       "                    return {&quot;color&quot;: &quot;#f4835b&quot;, &quot;fillColor&quot;: &quot;#f4835b&quot;, &quot;fillOpacity&quot;: 0.5, &quot;weight&quot;: 2};\n",
       "                case &quot;35&quot;: \n",
       "                    return {&quot;color&quot;: &quot;#f69e75&quot;, &quot;fillColor&quot;: &quot;#f69e75&quot;, &quot;fillOpacity&quot;: 0.5, &quot;weight&quot;: 2};\n",
       "                case &quot;39&quot;: case &quot;66&quot;: \n",
       "                    return {&quot;color&quot;: &quot;#f37450&quot;, &quot;fillColor&quot;: &quot;#f37450&quot;, &quot;fillOpacity&quot;: 0.5, &quot;weight&quot;: 2};\n",
       "                case &quot;42&quot;: case &quot;61&quot;: \n",
       "                    return {&quot;color&quot;: &quot;#f26b49&quot;, &quot;fillColor&quot;: &quot;#f26b49&quot;, &quot;fillOpacity&quot;: 0.5, &quot;weight&quot;: 2};\n",
       "                case &quot;46&quot;: case &quot;73&quot;: \n",
       "                    return {&quot;color&quot;: &quot;#f06043&quot;, &quot;fillColor&quot;: &quot;#f06043&quot;, &quot;fillOpacity&quot;: 0.5, &quot;weight&quot;: 2};\n",
       "                case &quot;47&quot;: \n",
       "                    return {&quot;color&quot;: &quot;#f37852&quot;, &quot;fillColor&quot;: &quot;#f37852&quot;, &quot;fillOpacity&quot;: 0.5, &quot;weight&quot;: 2};\n",
       "                case &quot;48&quot;: case &quot;54&quot;: case &quot;67&quot;: \n",
       "                    return {&quot;color&quot;: &quot;#f47f58&quot;, &quot;fillColor&quot;: &quot;#f47f58&quot;, &quot;fillOpacity&quot;: 0.5, &quot;weight&quot;: 2};\n",
       "                case &quot;50&quot;: case &quot;56&quot;: \n",
       "                    return {&quot;color&quot;: &quot;#f26747&quot;, &quot;fillColor&quot;: &quot;#f26747&quot;, &quot;fillOpacity&quot;: 0.5, &quot;weight&quot;: 2};\n",
       "                case &quot;55&quot;: \n",
       "                    return {&quot;color&quot;: &quot;#f58b63&quot;, &quot;fillColor&quot;: &quot;#f58b63&quot;, &quot;fillOpacity&quot;: 0.5, &quot;weight&quot;: 2};\n",
       "                case &quot;57&quot;: case &quot;71&quot;: \n",
       "                    return {&quot;color&quot;: &quot;#e8403e&quot;, &quot;fillColor&quot;: &quot;#e8403e&quot;, &quot;fillOpacity&quot;: 0.5, &quot;weight&quot;: 2};\n",
       "                case &quot;58&quot;: case &quot;75&quot;: \n",
       "                    return {&quot;color&quot;: &quot;#ec4a3e&quot;, &quot;fillColor&quot;: &quot;#ec4a3e&quot;, &quot;fillOpacity&quot;: 0.5, &quot;weight&quot;: 2};\n",
       "                case &quot;60&quot;: \n",
       "                    return {&quot;color&quot;: &quot;#f47a54&quot;, &quot;fillColor&quot;: &quot;#f47a54&quot;, &quot;fillOpacity&quot;: 0.5, &quot;weight&quot;: 2};\n",
       "                case &quot;65&quot;: case &quot;68&quot;: \n",
       "                    return {&quot;color&quot;: &quot;#ee523f&quot;, &quot;fillColor&quot;: &quot;#ee523f&quot;, &quot;fillOpacity&quot;: 0.5, &quot;weight&quot;: 2};\n",
       "                case &quot;69&quot;: \n",
       "                    return {&quot;color&quot;: &quot;#df2f44&quot;, &quot;fillColor&quot;: &quot;#df2f44&quot;, &quot;fillOpacity&quot;: 0.5, &quot;weight&quot;: 2};\n",
       "                case &quot;70&quot;: \n",
       "                    return {&quot;color&quot;: &quot;#e33641&quot;, &quot;fillColor&quot;: &quot;#e33641&quot;, &quot;fillOpacity&quot;: 0.5, &quot;weight&quot;: 2};\n",
       "                case &quot;74&quot;: \n",
       "                    return {&quot;color&quot;: &quot;#ef5a41&quot;, &quot;fillColor&quot;: &quot;#ef5a41&quot;, &quot;fillOpacity&quot;: 0.5, &quot;weight&quot;: 2};\n",
       "                case &quot;76&quot;: case &quot;85&quot;: \n",
       "                    return {&quot;color&quot;: &quot;#de2e44&quot;, &quot;fillColor&quot;: &quot;#de2e44&quot;, &quot;fillOpacity&quot;: 0.5, &quot;weight&quot;: 2};\n",
       "                case &quot;77&quot;: \n",
       "                    return {&quot;color&quot;: &quot;#c71951&quot;, &quot;fillColor&quot;: &quot;#c71951&quot;, &quot;fillOpacity&quot;: 0.5, &quot;weight&quot;: 2};\n",
       "                case &quot;78&quot;: \n",
       "                    return {&quot;color&quot;: &quot;#c41753&quot;, &quot;fillColor&quot;: &quot;#c41753&quot;, &quot;fillOpacity&quot;: 0.5, &quot;weight&quot;: 2};\n",
       "                case &quot;79&quot;: \n",
       "                    return {&quot;color&quot;: &quot;#d2204c&quot;, &quot;fillColor&quot;: &quot;#d2204c&quot;, &quot;fillOpacity&quot;: 0.5, &quot;weight&quot;: 2};\n",
       "                case &quot;80&quot;: \n",
       "                    return {&quot;color&quot;: &quot;#c81951&quot;, &quot;fillColor&quot;: &quot;#c81951&quot;, &quot;fillOpacity&quot;: 0.5, &quot;weight&quot;: 2};\n",
       "                case &quot;81&quot;: \n",
       "                    return {&quot;color&quot;: &quot;#ce1d4e&quot;, &quot;fillColor&quot;: &quot;#ce1d4e&quot;, &quot;fillOpacity&quot;: 0.5, &quot;weight&quot;: 2};\n",
       "                case &quot;82&quot;: \n",
       "                    return {&quot;color&quot;: &quot;#db2946&quot;, &quot;fillColor&quot;: &quot;#db2946&quot;, &quot;fillOpacity&quot;: 0.5, &quot;weight&quot;: 2};\n",
       "                case &quot;83&quot;: \n",
       "                    return {&quot;color&quot;: &quot;#e53940&quot;, &quot;fillColor&quot;: &quot;#e53940&quot;, &quot;fillOpacity&quot;: 0.5, &quot;weight&quot;: 2};\n",
       "                case &quot;84&quot;: \n",
       "                    return {&quot;color&quot;: &quot;#e23442&quot;, &quot;fillColor&quot;: &quot;#e23442&quot;, &quot;fillOpacity&quot;: 0.5, &quot;weight&quot;: 2};\n",
       "                case &quot;86&quot;: \n",
       "                    return {&quot;color&quot;: &quot;#d11f4c&quot;, &quot;fillColor&quot;: &quot;#d11f4c&quot;, &quot;fillOpacity&quot;: 0.5, &quot;weight&quot;: 2};\n",
       "                case &quot;87&quot;: \n",
       "                    return {&quot;color&quot;: &quot;#b21758&quot;, &quot;fillColor&quot;: &quot;#b21758&quot;, &quot;fillOpacity&quot;: 0.5, &quot;weight&quot;: 2};\n",
       "                case &quot;88&quot;: case &quot;131&quot;: \n",
       "                    return {&quot;color&quot;: &quot;#921c5b&quot;, &quot;fillColor&quot;: &quot;#921c5b&quot;, &quot;fillOpacity&quot;: 0.5, &quot;weight&quot;: 2};\n",
       "                case &quot;89&quot;: \n",
       "                    return {&quot;color&quot;: &quot;#751f58&quot;, &quot;fillColor&quot;: &quot;#751f58&quot;, &quot;fillOpacity&quot;: 0.5, &quot;weight&quot;: 2};\n",
       "                case &quot;90&quot;: case &quot;91&quot;: \n",
       "                    return {&quot;color&quot;: &quot;#731f58&quot;, &quot;fillColor&quot;: &quot;#731f58&quot;, &quot;fillOpacity&quot;: 0.5, &quot;weight&quot;: 2};\n",
       "                case &quot;92&quot;: \n",
       "                    return {&quot;color&quot;: &quot;#891e5b&quot;, &quot;fillColor&quot;: &quot;#891e5b&quot;, &quot;fillOpacity&quot;: 0.5, &quot;weight&quot;: 2};\n",
       "                case &quot;93&quot;: case &quot;97&quot;: \n",
       "                    return {&quot;color&quot;: &quot;#ad1759&quot;, &quot;fillColor&quot;: &quot;#ad1759&quot;, &quot;fillOpacity&quot;: 0.5, &quot;weight&quot;: 2};\n",
       "                case &quot;94&quot;: case &quot;107&quot;: \n",
       "                    return {&quot;color&quot;: &quot;#bf1654&quot;, &quot;fillColor&quot;: &quot;#bf1654&quot;, &quot;fillOpacity&quot;: 0.5, &quot;weight&quot;: 2};\n",
       "                case &quot;95&quot;: \n",
       "                    return {&quot;color&quot;: &quot;#d62449&quot;, &quot;fillColor&quot;: &quot;#d62449&quot;, &quot;fillOpacity&quot;: 0.5, &quot;weight&quot;: 2};\n",
       "                case &quot;96&quot;: \n",
       "                    return {&quot;color&quot;: &quot;#ca1a50&quot;, &quot;fillColor&quot;: &quot;#ca1a50&quot;, &quot;fillOpacity&quot;: 0.5, &quot;weight&quot;: 2};\n",
       "                case &quot;98&quot;: \n",
       "                    return {&quot;color&quot;: &quot;#9e1a5b&quot;, &quot;fillColor&quot;: &quot;#9e1a5b&quot;, &quot;fillOpacity&quot;: 0.5, &quot;weight&quot;: 2};\n",
       "                case &quot;99&quot;: \n",
       "                    return {&quot;color&quot;: &quot;#841e5a&quot;, &quot;fillColor&quot;: &quot;#841e5a&quot;, &quot;fillOpacity&quot;: 0.5, &quot;weight&quot;: 2};\n",
       "                case &quot;100&quot;: \n",
       "                    return {&quot;color&quot;: &quot;#6e1f57&quot;, &quot;fillColor&quot;: &quot;#6e1f57&quot;, &quot;fillOpacity&quot;: 0.5, &quot;weight&quot;: 2};\n",
       "                case &quot;101&quot;: case &quot;122&quot;: \n",
       "                    return {&quot;color&quot;: &quot;#531e4d&quot;, &quot;fillColor&quot;: &quot;#531e4d&quot;, &quot;fillOpacity&quot;: 0.5, &quot;weight&quot;: 2};\n",
       "                case &quot;102&quot;: case &quot;133&quot;: case &quot;135&quot;: \n",
       "                    return {&quot;color&quot;: &quot;#37193f&quot;, &quot;fillColor&quot;: &quot;#37193f&quot;, &quot;fillOpacity&quot;: 0.5, &quot;weight&quot;: 2};\n",
       "                case &quot;103&quot;: \n",
       "                    return {&quot;color&quot;: &quot;#401b44&quot;, &quot;fillColor&quot;: &quot;#401b44&quot;, &quot;fillOpacity&quot;: 0.5, &quot;weight&quot;: 2};\n",
       "                case &quot;104&quot;: \n",
       "                    return {&quot;color&quot;: &quot;#641f54&quot;, &quot;fillColor&quot;: &quot;#641f54&quot;, &quot;fillOpacity&quot;: 0.5, &quot;weight&quot;: 2};\n",
       "                case &quot;105&quot;: \n",
       "                    return {&quot;color&quot;: &quot;#8c1d5b&quot;, &quot;fillColor&quot;: &quot;#8c1d5b&quot;, &quot;fillOpacity&quot;: 0.5, &quot;weight&quot;: 2};\n",
       "                case &quot;106&quot;: \n",
       "                    return {&quot;color&quot;: &quot;#a6195a&quot;, &quot;fillColor&quot;: &quot;#a6195a&quot;, &quot;fillOpacity&quot;: 0.5, &quot;weight&quot;: 2};\n",
       "                case &quot;108&quot;: \n",
       "                    return {&quot;color&quot;: &quot;#931c5b&quot;, &quot;fillColor&quot;: &quot;#931c5b&quot;, &quot;fillOpacity&quot;: 0.5, &quot;weight&quot;: 2};\n",
       "                case &quot;109&quot;: \n",
       "                    return {&quot;color&quot;: &quot;#781f59&quot;, &quot;fillColor&quot;: &quot;#781f59&quot;, &quot;fillOpacity&quot;: 0.5, &quot;weight&quot;: 2};\n",
       "                case &quot;110&quot;: \n",
       "                    return {&quot;color&quot;: &quot;#761f58&quot;, &quot;fillColor&quot;: &quot;#761f58&quot;, &quot;fillOpacity&quot;: 0.5, &quot;weight&quot;: 2};\n",
       "                case &quot;111&quot;: \n",
       "                    return {&quot;color&quot;: &quot;#6d1f56&quot;, &quot;fillColor&quot;: &quot;#6d1f56&quot;, &quot;fillOpacity&quot;: 0.5, &quot;weight&quot;: 2};\n",
       "                case &quot;112&quot;: case &quot;129&quot;: \n",
       "                    return {&quot;color&quot;: &quot;#561e4f&quot;, &quot;fillColor&quot;: &quot;#561e4f&quot;, &quot;fillOpacity&quot;: 0.5, &quot;weight&quot;: 2};\n",
       "                case &quot;113&quot;: case &quot;125&quot;: \n",
       "                    return {&quot;color&quot;: &quot;#31183b&quot;, &quot;fillColor&quot;: &quot;#31183b&quot;, &quot;fillOpacity&quot;: 0.5, &quot;weight&quot;: 2};\n",
       "                case &quot;114&quot;: \n",
       "                    return {&quot;color&quot;: &quot;#1d112c&quot;, &quot;fillColor&quot;: &quot;#1d112c&quot;, &quot;fillOpacity&quot;: 0.5, &quot;weight&quot;: 2};\n",
       "                case &quot;115&quot;: \n",
       "                    return {&quot;color&quot;: &quot;#221331&quot;, &quot;fillColor&quot;: &quot;#221331&quot;, &quot;fillOpacity&quot;: 0.5, &quot;weight&quot;: 2};\n",
       "                case &quot;116&quot;: \n",
       "                    return {&quot;color&quot;: &quot;#451c47&quot;, &quot;fillColor&quot;: &quot;#451c47&quot;, &quot;fillOpacity&quot;: 0.5, &quot;weight&quot;: 2};\n",
       "                case &quot;117&quot;: case &quot;130&quot;: \n",
       "                    return {&quot;color&quot;: &quot;#711f57&quot;, &quot;fillColor&quot;: &quot;#711f57&quot;, &quot;fillOpacity&quot;: 0.5, &quot;weight&quot;: 2};\n",
       "                case &quot;118&quot;: \n",
       "                    return {&quot;color&quot;: &quot;#8e1d5b&quot;, &quot;fillColor&quot;: &quot;#8e1d5b&quot;, &quot;fillOpacity&quot;: 0.5, &quot;weight&quot;: 2};\n",
       "                case &quot;119&quot;: \n",
       "                    return {&quot;color&quot;: &quot;#aa185a&quot;, &quot;fillColor&quot;: &quot;#aa185a&quot;, &quot;fillOpacity&quot;: 0.5, &quot;weight&quot;: 2};\n",
       "                case &quot;120&quot;: \n",
       "                    return {&quot;color&quot;: &quot;#601f52&quot;, &quot;fillColor&quot;: &quot;#601f52&quot;, &quot;fillOpacity&quot;: 0.5, &quot;weight&quot;: 2};\n",
       "                case &quot;121&quot;: \n",
       "                    return {&quot;color&quot;: &quot;#501d4c&quot;, &quot;fillColor&quot;: &quot;#501d4c&quot;, &quot;fillOpacity&quot;: 0.5, &quot;weight&quot;: 2};\n",
       "                case &quot;123&quot;: case &quot;143&quot;: \n",
       "                    return {&quot;color&quot;: &quot;#5b1e51&quot;, &quot;fillColor&quot;: &quot;#5b1e51&quot;, &quot;fillOpacity&quot;: 0.5, &quot;weight&quot;: 2};\n",
       "                case &quot;124&quot;: \n",
       "                    return {&quot;color&quot;: &quot;#511e4d&quot;, &quot;fillColor&quot;: &quot;#511e4d&quot;, &quot;fillOpacity&quot;: 0.5, &quot;weight&quot;: 2};\n",
       "                case &quot;126&quot;: case &quot;127&quot;: \n",
       "                    return {&quot;color&quot;: &quot;#170f28&quot;, &quot;fillColor&quot;: &quot;#170f28&quot;, &quot;fillOpacity&quot;: 0.5, &quot;weight&quot;: 2};\n",
       "                case &quot;128&quot;: \n",
       "                    return {&quot;color&quot;: &quot;#2d1738&quot;, &quot;fillColor&quot;: &quot;#2d1738&quot;, &quot;fillOpacity&quot;: 0.5, &quot;weight&quot;: 2};\n",
       "                case &quot;132&quot;: \n",
       "                    return {&quot;color&quot;: &quot;#421b45&quot;, &quot;fillColor&quot;: &quot;#421b45&quot;, &quot;fillOpacity&quot;: 0.5, &quot;weight&quot;: 2};\n",
       "                case &quot;134&quot;: \n",
       "                    return {&quot;color&quot;: &quot;#34193d&quot;, &quot;fillColor&quot;: &quot;#34193d&quot;, &quot;fillOpacity&quot;: 0.5, &quot;weight&quot;: 2};\n",
       "                case &quot;136&quot;: \n",
       "                    return {&quot;color&quot;: &quot;#3d1a42&quot;, &quot;fillColor&quot;: &quot;#3d1a42&quot;, &quot;fillOpacity&quot;: 0.5, &quot;weight&quot;: 2};\n",
       "                case &quot;137&quot;: \n",
       "                    return {&quot;color&quot;: &quot;#2b1637&quot;, &quot;fillColor&quot;: &quot;#2b1637&quot;, &quot;fillOpacity&quot;: 0.5, &quot;weight&quot;: 2};\n",
       "                case &quot;138&quot;: \n",
       "                    return {&quot;color&quot;: &quot;#07071d&quot;, &quot;fillColor&quot;: &quot;#07071d&quot;, &quot;fillOpacity&quot;: 0.5, &quot;weight&quot;: 2};\n",
       "                case &quot;139&quot;: \n",
       "                    return {&quot;color&quot;: &quot;#03051a&quot;, &quot;fillColor&quot;: &quot;#03051a&quot;, &quot;fillOpacity&quot;: 0.5, &quot;weight&quot;: 2};\n",
       "                case &quot;140&quot;: \n",
       "                    return {&quot;color&quot;: &quot;#0a091f&quot;, &quot;fillColor&quot;: &quot;#0a091f&quot;, &quot;fillOpacity&quot;: 0.5, &quot;weight&quot;: 2};\n",
       "                case &quot;141&quot;: \n",
       "                    return {&quot;color&quot;: &quot;#211330&quot;, &quot;fillColor&quot;: &quot;#211330&quot;, &quot;fillOpacity&quot;: 0.5, &quot;weight&quot;: 2};\n",
       "                case &quot;142&quot;: \n",
       "                    return {&quot;color&quot;: &quot;#381a40&quot;, &quot;fillColor&quot;: &quot;#381a40&quot;, &quot;fillOpacity&quot;: 0.5, &quot;weight&quot;: 2};\n",
       "                default:\n",
       "                    return {&quot;color&quot;: &quot;#f16646&quot;, &quot;fillColor&quot;: &quot;#f16646&quot;, &quot;fillOpacity&quot;: 0.5, &quot;weight&quot;: 2};\n",
       "            }\n",
       "        }\n",
       "        function geo_json_48119ddf78bd397ea94408e25f03d365_highlighter(feature) {\n",
       "            switch(feature.id) {\n",
       "                default:\n",
       "                    return {&quot;fillOpacity&quot;: 0.75};\n",
       "            }\n",
       "        }\n",
       "        function geo_json_48119ddf78bd397ea94408e25f03d365_pointToLayer(feature, latlng) {\n",
       "            var opts = {&quot;bubblingMouseEvents&quot;: true, &quot;color&quot;: &quot;#3388ff&quot;, &quot;dashArray&quot;: null, &quot;dashOffset&quot;: null, &quot;fill&quot;: true, &quot;fillColor&quot;: &quot;#3388ff&quot;, &quot;fillOpacity&quot;: 0.2, &quot;fillRule&quot;: &quot;evenodd&quot;, &quot;lineCap&quot;: &quot;round&quot;, &quot;lineJoin&quot;: &quot;round&quot;, &quot;opacity&quot;: 1.0, &quot;radius&quot;: 2, &quot;stroke&quot;: true, &quot;weight&quot;: 3};\n",
       "            \n",
       "            let style = geo_json_48119ddf78bd397ea94408e25f03d365_styler(feature)\n",
       "            Object.assign(opts, style)\n",
       "            \n",
       "            return new L.CircleMarker(latlng, opts)\n",
       "        }\n",
       "\n",
       "        function geo_json_48119ddf78bd397ea94408e25f03d365_onEachFeature(feature, layer) {\n",
       "            layer.on({\n",
       "                mouseout: function(e) {\n",
       "                    if(typeof e.target.setStyle === &quot;function&quot;){\n",
       "                        geo_json_48119ddf78bd397ea94408e25f03d365.resetStyle(e.target);\n",
       "                    }\n",
       "                },\n",
       "                mouseover: function(e) {\n",
       "                    if(typeof e.target.setStyle === &quot;function&quot;){\n",
       "                        const highlightStyle = geo_json_48119ddf78bd397ea94408e25f03d365_highlighter(e.target.feature)\n",
       "                        e.target.setStyle(highlightStyle);\n",
       "                    }\n",
       "                },\n",
       "            });\n",
       "        };\n",
       "        var geo_json_48119ddf78bd397ea94408e25f03d365 = L.geoJson(null, {\n",
       "                onEachFeature: geo_json_48119ddf78bd397ea94408e25f03d365_onEachFeature,\n",
       "            \n",
       "                style: geo_json_48119ddf78bd397ea94408e25f03d365_styler,\n",
       "                pointToLayer: geo_json_48119ddf78bd397ea94408e25f03d365_pointToLayer\n",
       "        });\n",
       "\n",
       "        function geo_json_48119ddf78bd397ea94408e25f03d365_add (data) {\n",
       "            geo_json_48119ddf78bd397ea94408e25f03d365\n",
       "                .addData(data)\n",
       "                .addTo(map_cc3ed2fa6ec5a41ca74d29aed2ebd448);\n",
       "        }\n",
       "            geo_json_48119ddf78bd397ea94408e25f03d365_add({&quot;bbox&quot;: [130.125, 36.125, 133.125, 39.125], &quot;features&quot;: [{&quot;bbox&quot;: [130.125, 36.125, 130.375, 36.375], &quot;geometry&quot;: {&quot;coordinates&quot;: [[[130.125, 36.125], [130.375, 36.125], [130.375, 36.375], [130.125, 36.375], [130.125, 36.125]]], &quot;type&quot;: &quot;Polygon&quot;}, &quot;id&quot;: &quot;0&quot;, &quot;properties&quot;: {&quot;__folium_color&quot;: &quot;#f7c2a2&quot;, &quot;latitude&quot;: 36.125, &quot;longitude&quot;: 130.125, &quot;to&quot;: 13.005374908447266}, &quot;type&quot;: &quot;Feature&quot;}, {&quot;bbox&quot;: [130.375, 36.125, 130.625, 36.375], &quot;geometry&quot;: {&quot;coordinates&quot;: [[[130.375, 36.125], [130.625, 36.125], [130.625, 36.375], [130.375, 36.375], [130.375, 36.125]]], &quot;type&quot;: &quot;Polygon&quot;}, &quot;id&quot;: &quot;1&quot;, &quot;properties&quot;: {&quot;__folium_color&quot;: &quot;#f6b089&quot;, &quot;latitude&quot;: 36.125, &quot;longitude&quot;: 130.375, &quot;to&quot;: 12.741250038146973}, &quot;type&quot;: &quot;Feature&quot;}, {&quot;bbox&quot;: [130.625, 36.125, 130.875, 36.375], &quot;geometry&quot;: {&quot;coordinates&quot;: [[[130.625, 36.125], [130.875, 36.125], [130.875, 36.375], [130.625, 36.375], [130.625, 36.125]]], &quot;type&quot;: &quot;Polygon&quot;}, &quot;id&quot;: &quot;2&quot;, &quot;properties&quot;: {&quot;__folium_color&quot;: &quot;#f69c73&quot;, &quot;latitude&quot;: 36.125, &quot;longitude&quot;: 130.625, &quot;to&quot;: 12.479124069213867}, &quot;type&quot;: &quot;Feature&quot;}, {&quot;bbox&quot;: [130.875, 36.125, 131.125, 36.375], &quot;geometry&quot;: {&quot;coordinates&quot;: [[[130.875, 36.125], [131.125, 36.125], [131.125, 36.375], [130.875, 36.375], [130.875, 36.125]]], &quot;type&quot;: &quot;Polygon&quot;}, &quot;id&quot;: &quot;3&quot;, &quot;properties&quot;: {&quot;__folium_color&quot;: &quot;#f4865e&quot;, &quot;latitude&quot;: 36.125, &quot;longitude&quot;: 130.875, &quot;to&quot;: 12.19124984741211}, &quot;type&quot;: &quot;Feature&quot;}, {&quot;bbox&quot;: [131.125, 36.125, 131.375, 36.375], &quot;geometry&quot;: {&quot;coordinates&quot;: [[[131.125, 36.125], [131.375, 36.125], [131.375, 36.375], [131.125, 36.375], [131.125, 36.125]]], &quot;type&quot;: &quot;Polygon&quot;}, &quot;id&quot;: &quot;4&quot;, &quot;properties&quot;: {&quot;__folium_color&quot;: &quot;#f3714d&quot;, &quot;latitude&quot;: 36.125, &quot;longitude&quot;: 131.125, &quot;to&quot;: 11.939000129699707}, &quot;type&quot;: &quot;Feature&quot;}, {&quot;bbox&quot;: [131.375, 36.125, 131.625, 36.375], &quot;geometry&quot;: {&quot;coordinates&quot;: [[[131.375, 36.125], [131.625, 36.125], [131.625, 36.375], [131.375, 36.375], [131.375, 36.125]]], &quot;type&quot;: &quot;Polygon&quot;}, &quot;id&quot;: &quot;5&quot;, &quot;properties&quot;: {&quot;__folium_color&quot;: &quot;#f16646&quot;, &quot;latitude&quot;: 36.125, &quot;longitude&quot;: 131.375, &quot;to&quot;: 11.812623977661133}, &quot;type&quot;: &quot;Feature&quot;}, {&quot;bbox&quot;: [131.625, 36.125, 131.875, 36.375], &quot;geometry&quot;: {&quot;coordinates&quot;: [[[131.625, 36.125], [131.875, 36.125], [131.875, 36.375], [131.625, 36.375], [131.625, 36.125]]], &quot;type&quot;: &quot;Polygon&quot;}, &quot;id&quot;: &quot;6&quot;, &quot;properties&quot;: {&quot;__folium_color&quot;: &quot;#f3714d&quot;, &quot;latitude&quot;: 36.125, &quot;longitude&quot;: 131.625, &quot;to&quot;: 11.943999290466309}, &quot;type&quot;: &quot;Feature&quot;}, {&quot;bbox&quot;: [131.875, 36.125, 132.125, 36.375], &quot;geometry&quot;: {&quot;coordinates&quot;: [[[131.875, 36.125], [132.125, 36.125], [132.125, 36.375], [131.875, 36.375], [131.875, 36.125]]], &quot;type&quot;: &quot;Polygon&quot;}, &quot;id&quot;: &quot;7&quot;, &quot;properties&quot;: {&quot;__folium_color&quot;: &quot;#f58a61&quot;, &quot;latitude&quot;: 36.125, &quot;longitude&quot;: 131.875, &quot;to&quot;: 12.250249862670898}, &quot;type&quot;: &quot;Feature&quot;}, {&quot;bbox&quot;: [132.125, 36.125, 132.375, 36.375], &quot;geometry&quot;: {&quot;coordinates&quot;: [[[132.125, 36.125], [132.375, 36.125], [132.375, 36.375], [132.125, 36.375], [132.125, 36.125]]], &quot;type&quot;: &quot;Polygon&quot;}, &quot;id&quot;: &quot;8&quot;, &quot;properties&quot;: {&quot;__folium_color&quot;: &quot;#f6a981&quot;, &quot;latitude&quot;: 36.125, &quot;longitude&quot;: 132.125, &quot;to&quot;: 12.648874282836914}, &quot;type&quot;: &quot;Feature&quot;}, {&quot;bbox&quot;: [132.375, 36.125, 132.625, 36.375], &quot;geometry&quot;: {&quot;coordinates&quot;: [[[132.375, 36.125], [132.625, 36.125], [132.625, 36.375], [132.375, 36.375], [132.375, 36.125]]], &quot;type&quot;: &quot;Polygon&quot;}, &quot;id&quot;: &quot;9&quot;, &quot;properties&quot;: {&quot;__folium_color&quot;: &quot;#f6b691&quot;, &quot;latitude&quot;: 36.125, &quot;longitude&quot;: 132.375, &quot;to&quot;: 12.829249382019043}, &quot;type&quot;: &quot;Feature&quot;}, {&quot;bbox&quot;: [132.625, 36.125, 132.875, 36.375], &quot;geometry&quot;: {&quot;coordinates&quot;: [[[132.625, 36.125], [132.875, 36.125], [132.875, 36.375], [132.625, 36.375], [132.625, 36.125]]], &quot;type&quot;: &quot;Polygon&quot;}, &quot;id&quot;: &quot;10&quot;, &quot;properties&quot;: {&quot;__folium_color&quot;: &quot;#f7cfb3&quot;, &quot;latitude&quot;: 36.125, &quot;longitude&quot;: 132.625, &quot;to&quot;: 13.178499221801758}, &quot;type&quot;: &quot;Feature&quot;}, {&quot;bbox&quot;: [132.875, 36.125, 133.125, 36.375], &quot;geometry&quot;: {&quot;coordinates&quot;: [[[132.875, 36.125], [133.125, 36.125], [133.125, 36.375], [132.875, 36.375], [132.875, 36.125]]], &quot;type&quot;: &quot;Polygon&quot;}, &quot;id&quot;: &quot;11&quot;, &quot;properties&quot;: {&quot;__folium_color&quot;: &quot;#faebdd&quot;, &quot;latitude&quot;: 36.125, &quot;longitude&quot;: 132.875, &quot;to&quot;: 13.603499412536621}, &quot;type&quot;: &quot;Feature&quot;}, {&quot;bbox&quot;: [130.125, 36.375, 130.375, 36.625], &quot;geometry&quot;: {&quot;coordinates&quot;: [[[130.125, 36.375], [130.375, 36.375], [130.375, 36.625], [130.125, 36.625], [130.125, 36.375]]], &quot;type&quot;: &quot;Polygon&quot;}, &quot;id&quot;: &quot;12&quot;, &quot;properties&quot;: {&quot;__folium_color&quot;: &quot;#f6ab83&quot;, &quot;latitude&quot;: 36.375, &quot;longitude&quot;: 130.125, &quot;to&quot;: 12.671124458312988}, &quot;type&quot;: &quot;Feature&quot;}, {&quot;bbox&quot;: [130.375, 36.375, 130.625, 36.625], &quot;geometry&quot;: {&quot;coordinates&quot;: [[[130.375, 36.375], [130.625, 36.375], [130.625, 36.625], [130.375, 36.625], [130.375, 36.375]]], &quot;type&quot;: &quot;Polygon&quot;}, &quot;id&quot;: &quot;13&quot;, &quot;properties&quot;: {&quot;__folium_color&quot;: &quot;#f6a178&quot;, &quot;latitude&quot;: 36.375, &quot;longitude&quot;: 130.375, &quot;to&quot;: 12.549749374389648}, &quot;type&quot;: &quot;Feature&quot;}, {&quot;bbox&quot;: [130.625, 36.375, 130.875, 36.625], &quot;geometry&quot;: {&quot;coordinates&quot;: [[[130.625, 36.375], [130.875, 36.375], [130.875, 36.625], [130.625, 36.625], [130.625, 36.375]]], &quot;type&quot;: &quot;Polygon&quot;}, &quot;id&quot;: &quot;14&quot;, &quot;properties&quot;: {&quot;__folium_color&quot;: &quot;#f5946b&quot;, &quot;latitude&quot;: 36.375, &quot;longitude&quot;: 130.625, &quot;to&quot;: 12.36562442779541}, &quot;type&quot;: &quot;Feature&quot;}, {&quot;bbox&quot;: [130.875, 36.375, 131.125, 36.625], &quot;geometry&quot;: {&quot;coordinates&quot;: [[[130.875, 36.375], [131.125, 36.375], [131.125, 36.625], [130.875, 36.625], [130.875, 36.375]]], &quot;type&quot;: &quot;Polygon&quot;}, &quot;id&quot;: &quot;15&quot;, &quot;properties&quot;: {&quot;__folium_color&quot;: &quot;#f47c55&quot;, &quot;latitude&quot;: 36.375, &quot;longitude&quot;: 130.875, &quot;to&quot;: 12.064249992370605}, &quot;type&quot;: &quot;Feature&quot;}, {&quot;bbox&quot;: [131.125, 36.375, 131.375, 36.625], &quot;geometry&quot;: {&quot;coordinates&quot;: [[[131.125, 36.375], [131.375, 36.375], [131.375, 36.625], [131.125, 36.625], [131.125, 36.375]]], &quot;type&quot;: &quot;Polygon&quot;}, &quot;id&quot;: &quot;16&quot;, &quot;properties&quot;: {&quot;__folium_color&quot;: &quot;#f26d4b&quot;, &quot;latitude&quot;: 36.375, &quot;longitude&quot;: 131.125, &quot;to&quot;: 11.903749465942383}, &quot;type&quot;: &quot;Feature&quot;}, {&quot;bbox&quot;: [131.375, 36.375, 131.625, 36.625], &quot;geometry&quot;: {&quot;coordinates&quot;: [[[131.375, 36.375], [131.625, 36.375], [131.625, 36.625], [131.375, 36.625], [131.375, 36.375]]], &quot;type&quot;: &quot;Polygon&quot;}, &quot;id&quot;: &quot;17&quot;, &quot;properties&quot;: {&quot;__folium_color&quot;: &quot;#f05e42&quot;, &quot;latitude&quot;: 36.375, &quot;longitude&quot;: 131.375, &quot;to&quot;: 11.730374336242676}, &quot;type&quot;: &quot;Feature&quot;}, {&quot;bbox&quot;: [131.625, 36.375, 131.875, 36.625], &quot;geometry&quot;: {&quot;coordinates&quot;: [[[131.625, 36.375], [131.875, 36.375], [131.875, 36.625], [131.625, 36.625], [131.625, 36.375]]], &quot;type&quot;: &quot;Polygon&quot;}, &quot;id&quot;: &quot;18&quot;, &quot;properties&quot;: {&quot;__folium_color&quot;: &quot;#ef5840&quot;, &quot;latitude&quot;: 36.375, &quot;longitude&quot;: 131.625, &quot;to&quot;: 11.664999961853027}, &quot;type&quot;: &quot;Feature&quot;}, {&quot;bbox&quot;: [131.875, 36.375, 132.125, 36.625], &quot;geometry&quot;: {&quot;coordinates&quot;: [[[131.875, 36.375], [132.125, 36.375], [132.125, 36.625], [131.875, 36.625], [131.875, 36.375]]], &quot;type&quot;: &quot;Polygon&quot;}, &quot;id&quot;: &quot;19&quot;, &quot;properties&quot;: {&quot;__folium_color&quot;: &quot;#f16445&quot;, &quot;latitude&quot;: 36.375, &quot;longitude&quot;: 131.875, &quot;to&quot;: 11.789750099182129}, &quot;type&quot;: &quot;Feature&quot;}, {&quot;bbox&quot;: [132.125, 36.375, 132.375, 36.625], &quot;geometry&quot;: {&quot;coordinates&quot;: [[[132.125, 36.375], [132.375, 36.375], [132.375, 36.625], [132.125, 36.625], [132.125, 36.375]]], &quot;type&quot;: &quot;Polygon&quot;}, &quot;id&quot;: &quot;20&quot;, &quot;properties&quot;: {&quot;__folium_color&quot;: &quot;#f47d57&quot;, &quot;latitude&quot;: 36.375, &quot;longitude&quot;: 132.125, &quot;to&quot;: 12.080499649047852}, &quot;type&quot;: &quot;Feature&quot;}, {&quot;bbox&quot;: [132.375, 36.375, 132.625, 36.625], &quot;geometry&quot;: {&quot;coordinates&quot;: [[[132.375, 36.375], [132.625, 36.375], [132.625, 36.625], [132.375, 36.625], [132.375, 36.375]]], &quot;type&quot;: &quot;Polygon&quot;}, &quot;id&quot;: &quot;21&quot;, &quot;properties&quot;: {&quot;__folium_color&quot;: &quot;#f69b71&quot;, &quot;latitude&quot;: 36.375, &quot;longitude&quot;: 132.375, &quot;to&quot;: 12.462874412536621}, &quot;type&quot;: &quot;Feature&quot;}, {&quot;bbox&quot;: [132.625, 36.375, 132.875, 36.625], &quot;geometry&quot;: {&quot;coordinates&quot;: [[[132.625, 36.375], [132.875, 36.375], [132.875, 36.625], [132.625, 36.625], [132.625, 36.375]]], &quot;type&quot;: &quot;Polygon&quot;}, &quot;id&quot;: &quot;22&quot;, &quot;properties&quot;: {&quot;__folium_color&quot;: &quot;#f6b691&quot;, &quot;latitude&quot;: 36.375, &quot;longitude&quot;: 132.625, &quot;to&quot;: 12.824249267578125}, &quot;type&quot;: &quot;Feature&quot;}, {&quot;bbox&quot;: [132.875, 36.375, 133.125, 36.625], &quot;geometry&quot;: {&quot;coordinates&quot;: [[[132.875, 36.375], [133.125, 36.375], [133.125, 36.625], [132.875, 36.625], [132.875, 36.375]]], &quot;type&quot;: &quot;Polygon&quot;}, &quot;id&quot;: &quot;23&quot;, &quot;properties&quot;: {&quot;__folium_color&quot;: &quot;#f8d4bc&quot;, &quot;latitude&quot;: 36.375, &quot;longitude&quot;: 132.875, &quot;to&quot;: 13.272375106811523}, &quot;type&quot;: &quot;Feature&quot;}, {&quot;bbox&quot;: [130.125, 36.625, 130.375, 36.875], &quot;geometry&quot;: {&quot;coordinates&quot;: [[[130.125, 36.625], [130.375, 36.625], [130.375, 36.875], [130.125, 36.875], [130.125, 36.625]]], &quot;type&quot;: &quot;Polygon&quot;}, &quot;id&quot;: &quot;24&quot;, &quot;properties&quot;: {&quot;__folium_color&quot;: &quot;#f6a178&quot;, &quot;latitude&quot;: 36.625, &quot;longitude&quot;: 130.125, &quot;to&quot;: 12.539249420166016}, &quot;type&quot;: &quot;Feature&quot;}, {&quot;bbox&quot;: [130.375, 36.625, 130.625, 36.875], &quot;geometry&quot;: {&quot;coordinates&quot;: [[[130.375, 36.625], [130.625, 36.625], [130.625, 36.875], [130.375, 36.875], [130.375, 36.625]]], &quot;type&quot;: &quot;Polygon&quot;}, &quot;id&quot;: &quot;25&quot;, &quot;properties&quot;: {&quot;__folium_color&quot;: &quot;#f5976e&quot;, &quot;latitude&quot;: 36.625, &quot;longitude&quot;: 130.375, &quot;to&quot;: 12.416874885559082}, &quot;type&quot;: &quot;Feature&quot;}, {&quot;bbox&quot;: [130.625, 36.625, 130.875, 36.875], &quot;geometry&quot;: {&quot;coordinates&quot;: [[[130.625, 36.625], [130.875, 36.625], [130.875, 36.875], [130.625, 36.875], [130.625, 36.625]]], &quot;type&quot;: &quot;Polygon&quot;}, &quot;id&quot;: &quot;26&quot;, &quot;properties&quot;: {&quot;__folium_color&quot;: &quot;#f4865e&quot;, &quot;latitude&quot;: 36.625, &quot;longitude&quot;: 130.625, &quot;to&quot;: 12.19737434387207}, &quot;type&quot;: &quot;Feature&quot;}, {&quot;bbox&quot;: [130.875, 36.625, 131.125, 36.875], &quot;geometry&quot;: {&quot;coordinates&quot;: [[[130.875, 36.625], [131.125, 36.625], [131.125, 36.875], [130.875, 36.875], [130.875, 36.625]]], &quot;type&quot;: &quot;Polygon&quot;}, &quot;id&quot;: &quot;27&quot;, &quot;properties&quot;: {&quot;__folium_color&quot;: &quot;#f47d57&quot;, &quot;latitude&quot;: 36.625, &quot;longitude&quot;: 130.875, &quot;to&quot;: 12.096749305725098}, &quot;type&quot;: &quot;Feature&quot;}, {&quot;bbox&quot;: [131.125, 36.625, 131.375, 36.875], &quot;geometry&quot;: {&quot;coordinates&quot;: [[[131.125, 36.625], [131.375, 36.625], [131.375, 36.875], [131.125, 36.875], [131.125, 36.625]]], &quot;type&quot;: &quot;Polygon&quot;}, &quot;id&quot;: &quot;28&quot;, &quot;properties&quot;: {&quot;__folium_color&quot;: &quot;#f3714d&quot;, &quot;latitude&quot;: 36.625, &quot;longitude&quot;: 131.125, &quot;to&quot;: 11.944999694824219}, &quot;type&quot;: &quot;Feature&quot;}, {&quot;bbox&quot;: [131.375, 36.625, 131.625, 36.875], &quot;geometry&quot;: {&quot;coordinates&quot;: [[[131.375, 36.625], [131.625, 36.625], [131.625, 36.875], [131.375, 36.875], [131.375, 36.625]]], &quot;type&quot;: &quot;Polygon&quot;}, &quot;id&quot;: &quot;29&quot;, &quot;properties&quot;: {&quot;__folium_color&quot;: &quot;#f16244&quot;, &quot;latitude&quot;: 36.625, &quot;longitude&quot;: 131.375, &quot;to&quot;: 11.75987434387207}, &quot;type&quot;: &quot;Feature&quot;}, {&quot;bbox&quot;: [131.625, 36.625, 131.875, 36.875], &quot;geometry&quot;: {&quot;coordinates&quot;: [[[131.625, 36.625], [131.875, 36.625], [131.875, 36.875], [131.625, 36.875], [131.625, 36.625]]], &quot;type&quot;: &quot;Polygon&quot;}, &quot;id&quot;: &quot;30&quot;, &quot;properties&quot;: {&quot;__folium_color&quot;: &quot;#ed4e3e&quot;, &quot;latitude&quot;: 36.625, &quot;longitude&quot;: 131.625, &quot;to&quot;: 11.546249389648438}, &quot;type&quot;: &quot;Feature&quot;}, {&quot;bbox&quot;: [131.875, 36.625, 132.125, 36.875], &quot;geometry&quot;: {&quot;coordinates&quot;: [[[131.875, 36.625], [132.125, 36.625], [132.125, 36.875], [131.875, 36.875], [131.875, 36.625]]], &quot;type&quot;: &quot;Polygon&quot;}, &quot;id&quot;: &quot;31&quot;, &quot;properties&quot;: {&quot;__folium_color&quot;: &quot;#eb483e&quot;, &quot;latitude&quot;: 36.625, &quot;longitude&quot;: 131.875, &quot;to&quot;: 11.49074935913086}, &quot;type&quot;: &quot;Feature&quot;}, {&quot;bbox&quot;: [132.125, 36.625, 132.375, 36.875], &quot;geometry&quot;: {&quot;coordinates&quot;: [[[132.125, 36.625], [132.375, 36.625], [132.375, 36.875], [132.125, 36.875], [132.125, 36.625]]], &quot;type&quot;: &quot;Polygon&quot;}, &quot;id&quot;: &quot;32&quot;, &quot;properties&quot;: {&quot;__folium_color&quot;: &quot;#ef5640&quot;, &quot;latitude&quot;: 36.625, &quot;longitude&quot;: 132.125, &quot;to&quot;: 11.637624740600586}, &quot;type&quot;: &quot;Feature&quot;}, {&quot;bbox&quot;: [132.375, 36.625, 132.625, 36.875], &quot;geometry&quot;: {&quot;coordinates&quot;: [[[132.375, 36.625], [132.625, 36.625], [132.625, 36.875], [132.375, 36.875], [132.375, 36.625]]], &quot;type&quot;: &quot;Polygon&quot;}, &quot;id&quot;: &quot;33&quot;, &quot;properties&quot;: {&quot;__folium_color&quot;: &quot;#f26948&quot;, &quot;latitude&quot;: 36.625, &quot;longitude&quot;: 132.375, &quot;to&quot;: 11.842499732971191}, &quot;type&quot;: &quot;Feature&quot;}, {&quot;bbox&quot;: [132.625, 36.625, 132.875, 36.875], &quot;geometry&quot;: {&quot;coordinates&quot;: [[[132.625, 36.625], [132.875, 36.625], [132.875, 36.875], [132.625, 36.875], [132.625, 36.625]]], &quot;type&quot;: &quot;Polygon&quot;}, &quot;id&quot;: &quot;34&quot;, &quot;properties&quot;: {&quot;__folium_color&quot;: &quot;#f4835b&quot;, &quot;latitude&quot;: 36.625, &quot;longitude&quot;: 132.625, &quot;to&quot;: 12.163374900817871}, &quot;type&quot;: &quot;Feature&quot;}, {&quot;bbox&quot;: [132.875, 36.625, 133.125, 36.875], &quot;geometry&quot;: {&quot;coordinates&quot;: [[[132.875, 36.625], [133.125, 36.625], [133.125, 36.875], [132.875, 36.875], [132.875, 36.625]]], &quot;type&quot;: &quot;Polygon&quot;}, &quot;id&quot;: &quot;35&quot;, &quot;properties&quot;: {&quot;__folium_color&quot;: &quot;#f69e75&quot;, &quot;latitude&quot;: 36.625, &quot;longitude&quot;: 132.875, &quot;to&quot;: 12.507624626159668}, &quot;type&quot;: &quot;Feature&quot;}, {&quot;bbox&quot;: [130.125, 36.875, 130.375, 37.125], &quot;geometry&quot;: {&quot;coordinates&quot;: [[[130.125, 36.875], [130.375, 36.875], [130.375, 37.125], [130.125, 37.125], [130.125, 36.875]]], &quot;type&quot;: &quot;Polygon&quot;}, &quot;id&quot;: &quot;36&quot;, &quot;properties&quot;: {&quot;__folium_color&quot;: &quot;#f58a61&quot;, &quot;latitude&quot;: 36.875, &quot;longitude&quot;: 130.125, &quot;to&quot;: 12.24625015258789}, &quot;type&quot;: &quot;Feature&quot;}, {&quot;bbox&quot;: [130.375, 36.875, 130.625, 37.125], &quot;geometry&quot;: {&quot;coordinates&quot;: [[[130.375, 36.875], [130.625, 36.875], [130.625, 37.125], [130.375, 37.125], [130.375, 36.875]]], &quot;type&quot;: &quot;Polygon&quot;}, &quot;id&quot;: &quot;37&quot;, &quot;properties&quot;: {&quot;__folium_color&quot;: &quot;#f4835b&quot;, &quot;latitude&quot;: 36.875, &quot;longitude&quot;: 130.375, &quot;to&quot;: 12.152374267578125}, &quot;type&quot;: &quot;Feature&quot;}, {&quot;bbox&quot;: [130.625, 36.875, 130.875, 37.125], &quot;geometry&quot;: {&quot;coordinates&quot;: [[[130.625, 36.875], [130.875, 36.875], [130.875, 37.125], [130.625, 37.125], [130.625, 36.875]]], &quot;type&quot;: &quot;Polygon&quot;}, &quot;id&quot;: &quot;38&quot;, &quot;properties&quot;: {&quot;__folium_color&quot;: &quot;#f47c55&quot;, &quot;latitude&quot;: 36.875, &quot;longitude&quot;: 130.625, &quot;to&quot;: 12.07437515258789}, &quot;type&quot;: &quot;Feature&quot;}, {&quot;bbox&quot;: [130.875, 36.875, 131.125, 37.125], &quot;geometry&quot;: {&quot;coordinates&quot;: [[[130.875, 36.875], [131.125, 36.875], [131.125, 37.125], [130.875, 37.125], [130.875, 36.875]]], &quot;type&quot;: &quot;Polygon&quot;}, &quot;id&quot;: &quot;39&quot;, &quot;properties&quot;: {&quot;__folium_color&quot;: &quot;#f37450&quot;, &quot;latitude&quot;: 36.875, &quot;longitude&quot;: 130.875, &quot;to&quot;: 11.978374481201172}, &quot;type&quot;: &quot;Feature&quot;}, {&quot;bbox&quot;: [131.125, 36.875, 131.375, 37.125], &quot;geometry&quot;: {&quot;coordinates&quot;: [[[131.125, 36.875], [131.375, 36.875], [131.375, 37.125], [131.125, 37.125], [131.125, 36.875]]], &quot;type&quot;: &quot;Polygon&quot;}, &quot;id&quot;: &quot;40&quot;, &quot;properties&quot;: {&quot;__folium_color&quot;: &quot;#f16646&quot;, &quot;latitude&quot;: 36.875, &quot;longitude&quot;: 131.125, &quot;to&quot;: 11.80774974822998}, &quot;type&quot;: &quot;Feature&quot;}, {&quot;bbox&quot;: [131.375, 36.875, 131.625, 37.125], &quot;geometry&quot;: {&quot;coordinates&quot;: [[[131.375, 36.875], [131.625, 36.875], [131.625, 37.125], [131.375, 37.125], [131.375, 36.875]]], &quot;type&quot;: &quot;Polygon&quot;}, &quot;id&quot;: &quot;41&quot;, &quot;properties&quot;: {&quot;__folium_color&quot;: &quot;#f16646&quot;, &quot;latitude&quot;: 36.875, &quot;longitude&quot;: 131.375, &quot;to&quot;: 11.798624038696289}, &quot;type&quot;: &quot;Feature&quot;}, {&quot;bbox&quot;: [131.625, 36.875, 131.875, 37.125], &quot;geometry&quot;: {&quot;coordinates&quot;: [[[131.625, 36.875], [131.875, 36.875], [131.875, 37.125], [131.625, 37.125], [131.625, 36.875]]], &quot;type&quot;: &quot;Polygon&quot;}, &quot;id&quot;: &quot;42&quot;, &quot;properties&quot;: {&quot;__folium_color&quot;: &quot;#f26b49&quot;, &quot;latitude&quot;: 36.875, &quot;longitude&quot;: 131.625, &quot;to&quot;: 11.864250183105469}, &quot;type&quot;: &quot;Feature&quot;}, {&quot;bbox&quot;: [131.875, 36.875, 132.125, 37.125], &quot;geometry&quot;: {&quot;coordinates&quot;: [[[131.875, 36.875], [132.125, 36.875], [132.125, 37.125], [131.875, 37.125], [131.875, 36.875]]], &quot;type&quot;: &quot;Polygon&quot;}, &quot;id&quot;: &quot;43&quot;, &quot;properties&quot;: {&quot;__folium_color&quot;: &quot;#f16646&quot;, &quot;latitude&quot;: 36.875, &quot;longitude&quot;: 131.875, &quot;to&quot;: 11.808374404907227}, &quot;type&quot;: &quot;Feature&quot;}, {&quot;bbox&quot;: [132.125, 36.875, 132.375, 37.125], &quot;geometry&quot;: {&quot;coordinates&quot;: [[[132.125, 36.875], [132.375, 36.875], [132.375, 37.125], [132.125, 37.125], [132.125, 36.875]]], &quot;type&quot;: &quot;Polygon&quot;}, &quot;id&quot;: &quot;44&quot;, &quot;properties&quot;: {&quot;__folium_color&quot;: &quot;#ed4e3e&quot;, &quot;latitude&quot;: 36.875, &quot;longitude&quot;: 132.125, &quot;to&quot;: 11.551374435424805}, &quot;type&quot;: &quot;Feature&quot;}, {&quot;bbox&quot;: [132.375, 36.875, 132.625, 37.125], &quot;geometry&quot;: {&quot;coordinates&quot;: [[[132.375, 36.875], [132.625, 36.875], [132.625, 37.125], [132.375, 37.125], [132.375, 36.875]]], &quot;type&quot;: &quot;Polygon&quot;}, &quot;id&quot;: &quot;45&quot;, &quot;properties&quot;: {&quot;__folium_color&quot;: &quot;#ed4e3e&quot;, &quot;latitude&quot;: 36.875, &quot;longitude&quot;: 132.375, &quot;to&quot;: 11.553499221801758}, &quot;type&quot;: &quot;Feature&quot;}, {&quot;bbox&quot;: [132.625, 36.875, 132.875, 37.125], &quot;geometry&quot;: {&quot;coordinates&quot;: [[[132.625, 36.875], [132.875, 36.875], [132.875, 37.125], [132.625, 37.125], [132.625, 36.875]]], &quot;type&quot;: &quot;Polygon&quot;}, &quot;id&quot;: &quot;46&quot;, &quot;properties&quot;: {&quot;__folium_color&quot;: &quot;#f06043&quot;, &quot;latitude&quot;: 36.875, &quot;longitude&quot;: 132.625, &quot;to&quot;: 11.731999397277832}, &quot;type&quot;: &quot;Feature&quot;}, {&quot;bbox&quot;: [132.875, 36.875, 133.125, 37.125], &quot;geometry&quot;: {&quot;coordinates&quot;: [[[132.875, 36.875], [133.125, 36.875], [133.125, 37.125], [132.875, 37.125], [132.875, 36.875]]], &quot;type&quot;: &quot;Polygon&quot;}, &quot;id&quot;: &quot;47&quot;, &quot;properties&quot;: {&quot;__folium_color&quot;: &quot;#f37852&quot;, &quot;latitude&quot;: 36.875, &quot;longitude&quot;: 132.875, &quot;to&quot;: 12.017000198364258}, &quot;type&quot;: &quot;Feature&quot;}, {&quot;bbox&quot;: [130.125, 37.125, 130.375, 37.375], &quot;geometry&quot;: {&quot;coordinates&quot;: [[[130.125, 37.125], [130.375, 37.125], [130.375, 37.375], [130.125, 37.375], [130.125, 37.125]]], &quot;type&quot;: &quot;Polygon&quot;}, &quot;id&quot;: &quot;48&quot;, &quot;properties&quot;: {&quot;__folium_color&quot;: &quot;#f47f58&quot;, &quot;latitude&quot;: 37.125, &quot;longitude&quot;: 130.125, &quot;to&quot;: 12.110875129699707}, &quot;type&quot;: &quot;Feature&quot;}, {&quot;bbox&quot;: [130.375, 37.125, 130.625, 37.375], &quot;geometry&quot;: {&quot;coordinates&quot;: [[[130.375, 37.125], [130.625, 37.125], [130.625, 37.375], [130.375, 37.375], [130.375, 37.125]]], &quot;type&quot;: &quot;Polygon&quot;}, &quot;id&quot;: &quot;49&quot;, &quot;properties&quot;: {&quot;__folium_color&quot;: &quot;#f3714d&quot;, &quot;latitude&quot;: 37.125, &quot;longitude&quot;: 130.375, &quot;to&quot;: 11.94474983215332}, &quot;type&quot;: &quot;Feature&quot;}, {&quot;bbox&quot;: [130.625, 37.125, 130.875, 37.375], &quot;geometry&quot;: {&quot;coordinates&quot;: [[[130.625, 37.125], [130.875, 37.125], [130.875, 37.375], [130.625, 37.375], [130.625, 37.125]]], &quot;type&quot;: &quot;Polygon&quot;}, &quot;id&quot;: &quot;50&quot;, &quot;properties&quot;: {&quot;__folium_color&quot;: &quot;#f26747&quot;, &quot;latitude&quot;: 37.125, &quot;longitude&quot;: 130.625, &quot;to&quot;: 11.839374542236328}, &quot;type&quot;: &quot;Feature&quot;}, {&quot;bbox&quot;: [130.875, 37.125, 131.125, 37.375], &quot;geometry&quot;: {&quot;coordinates&quot;: [[[130.875, 37.125], [131.125, 37.125], [131.125, 37.375], [130.875, 37.375], [130.875, 37.125]]], &quot;type&quot;: &quot;Polygon&quot;}, &quot;id&quot;: &quot;51&quot;, &quot;properties&quot;: {&quot;__folium_color&quot;: &quot;#f26d4b&quot;, &quot;latitude&quot;: 37.125, &quot;longitude&quot;: 130.875, &quot;to&quot;: 11.898624420166016}, &quot;type&quot;: &quot;Feature&quot;}, {&quot;bbox&quot;: [131.125, 37.125, 131.375, 37.375], &quot;geometry&quot;: {&quot;coordinates&quot;: [[[131.125, 37.125], [131.375, 37.125], [131.375, 37.375], [131.125, 37.375], [131.125, 37.125]]], &quot;type&quot;: &quot;Polygon&quot;}, &quot;id&quot;: &quot;52&quot;, &quot;properties&quot;: {&quot;__folium_color&quot;: &quot;#f16646&quot;, &quot;latitude&quot;: 37.125, &quot;longitude&quot;: 131.125, &quot;to&quot;: 11.816499710083008}, &quot;type&quot;: &quot;Feature&quot;}, {&quot;bbox&quot;: [131.375, 37.125, 131.625, 37.375], &quot;geometry&quot;: {&quot;coordinates&quot;: [[[131.375, 37.125], [131.625, 37.125], [131.625, 37.375], [131.375, 37.375], [131.375, 37.125]]], &quot;type&quot;: &quot;Polygon&quot;}, &quot;id&quot;: &quot;53&quot;, &quot;properties&quot;: {&quot;__folium_color&quot;: &quot;#f16646&quot;, &quot;latitude&quot;: 37.125, &quot;longitude&quot;: 131.375, &quot;to&quot;: 11.797874450683594}, &quot;type&quot;: &quot;Feature&quot;}, {&quot;bbox&quot;: [131.625, 37.125, 131.875, 37.375], &quot;geometry&quot;: {&quot;coordinates&quot;: [[[131.625, 37.125], [131.875, 37.125], [131.875, 37.375], [131.625, 37.375], [131.625, 37.125]]], &quot;type&quot;: &quot;Polygon&quot;}, &quot;id&quot;: &quot;54&quot;, &quot;properties&quot;: {&quot;__folium_color&quot;: &quot;#f47f58&quot;, &quot;latitude&quot;: 37.125, &quot;longitude&quot;: 131.625, &quot;to&quot;: 12.112499237060547}, &quot;type&quot;: &quot;Feature&quot;}, {&quot;bbox&quot;: [131.875, 37.125, 132.125, 37.375], &quot;geometry&quot;: {&quot;coordinates&quot;: [[[131.875, 37.125], [132.125, 37.125], [132.125, 37.375], [131.875, 37.375], [131.875, 37.125]]], &quot;type&quot;: &quot;Polygon&quot;}, &quot;id&quot;: &quot;55&quot;, &quot;properties&quot;: {&quot;__folium_color&quot;: &quot;#f58b63&quot;, &quot;latitude&quot;: 37.125, &quot;longitude&quot;: 131.875, &quot;to&quot;: 12.264249801635742}, &quot;type&quot;: &quot;Feature&quot;}, {&quot;bbox&quot;: [132.125, 37.125, 132.375, 37.375], &quot;geometry&quot;: {&quot;coordinates&quot;: [[[132.125, 37.125], [132.375, 37.125], [132.375, 37.375], [132.125, 37.375], [132.125, 37.125]]], &quot;type&quot;: &quot;Polygon&quot;}, &quot;id&quot;: &quot;56&quot;, &quot;properties&quot;: {&quot;__folium_color&quot;: &quot;#f26747&quot;, &quot;latitude&quot;: 37.125, &quot;longitude&quot;: 132.125, &quot;to&quot;: 11.831249237060547}, &quot;type&quot;: &quot;Feature&quot;}, {&quot;bbox&quot;: [132.375, 37.125, 132.625, 37.375], &quot;geometry&quot;: {&quot;coordinates&quot;: [[[132.375, 37.125], [132.625, 37.125], [132.625, 37.375], [132.375, 37.375], [132.375, 37.125]]], &quot;type&quot;: &quot;Polygon&quot;}, &quot;id&quot;: &quot;57&quot;, &quot;properties&quot;: {&quot;__folium_color&quot;: &quot;#e8403e&quot;, &quot;latitude&quot;: 37.125, &quot;longitude&quot;: 132.375, &quot;to&quot;: 11.401124954223633}, &quot;type&quot;: &quot;Feature&quot;}, {&quot;bbox&quot;: [132.625, 37.125, 132.875, 37.375], &quot;geometry&quot;: {&quot;coordinates&quot;: [[[132.625, 37.125], [132.875, 37.125], [132.875, 37.375], [132.625, 37.375], [132.625, 37.125]]], &quot;type&quot;: &quot;Polygon&quot;}, &quot;id&quot;: &quot;58&quot;, &quot;properties&quot;: {&quot;__folium_color&quot;: &quot;#ec4a3e&quot;, &quot;latitude&quot;: 37.125, &quot;longitude&quot;: 132.625, &quot;to&quot;: 11.5024995803833}, &quot;type&quot;: &quot;Feature&quot;}, {&quot;bbox&quot;: [132.875, 37.125, 133.125, 37.375], &quot;geometry&quot;: {&quot;coordinates&quot;: [[[132.875, 37.125], [133.125, 37.125], [133.125, 37.375], [132.875, 37.375], [132.875, 37.125]]], &quot;type&quot;: &quot;Polygon&quot;}, &quot;id&quot;: &quot;59&quot;, &quot;properties&quot;: {&quot;__folium_color&quot;: &quot;#ef5640&quot;, &quot;latitude&quot;: 37.125, &quot;longitude&quot;: 132.875, &quot;to&quot;: 11.622499465942383}, &quot;type&quot;: &quot;Feature&quot;}, {&quot;bbox&quot;: [130.125, 37.375, 130.375, 37.625], &quot;geometry&quot;: {&quot;coordinates&quot;: [[[130.125, 37.375], [130.375, 37.375], [130.375, 37.625], [130.125, 37.625], [130.125, 37.375]]], &quot;type&quot;: &quot;Polygon&quot;}, &quot;id&quot;: &quot;60&quot;, &quot;properties&quot;: {&quot;__folium_color&quot;: &quot;#f47a54&quot;, &quot;latitude&quot;: 37.375, &quot;longitude&quot;: 130.125, &quot;to&quot;: 12.046875}, &quot;type&quot;: &quot;Feature&quot;}, {&quot;bbox&quot;: [130.375, 37.375, 130.625, 37.625], &quot;geometry&quot;: {&quot;coordinates&quot;: [[[130.375, 37.375], [130.625, 37.375], [130.625, 37.625], [130.375, 37.625], [130.375, 37.375]]], &quot;type&quot;: &quot;Polygon&quot;}, &quot;id&quot;: &quot;61&quot;, &quot;properties&quot;: {&quot;__folium_color&quot;: &quot;#f26b49&quot;, &quot;latitude&quot;: 37.375, &quot;longitude&quot;: 130.375, &quot;to&quot;: 11.871624946594238}, &quot;type&quot;: &quot;Feature&quot;}, {&quot;bbox&quot;: [130.625, 37.375, 130.875, 37.625], &quot;geometry&quot;: {&quot;coordinates&quot;: [[[130.625, 37.375], [130.875, 37.375], [130.875, 37.625], [130.625, 37.625], [130.625, 37.375]]], &quot;type&quot;: &quot;Polygon&quot;}, &quot;id&quot;: &quot;62&quot;, &quot;properties&quot;: {&quot;__folium_color&quot;: &quot;#f16646&quot;, &quot;latitude&quot;: 37.375, &quot;longitude&quot;: 130.625, &quot;to&quot;: 11.804499626159668}, &quot;type&quot;: &quot;Feature&quot;}, {&quot;bbox&quot;: [130.875, 37.375, 131.125, 37.625], &quot;geometry&quot;: {&quot;coordinates&quot;: [[[130.875, 37.375], [131.125, 37.375], [131.125, 37.625], [130.875, 37.625], [130.875, 37.375]]], &quot;type&quot;: &quot;Polygon&quot;}, &quot;id&quot;: &quot;63&quot;, &quot;properties&quot;: {&quot;__folium_color&quot;: &quot;#f16445&quot;, &quot;latitude&quot;: 37.375, &quot;longitude&quot;: 130.875, &quot;to&quot;: 11.789999961853027}, &quot;type&quot;: &quot;Feature&quot;}, {&quot;bbox&quot;: [131.125, 37.375, 131.375, 37.625], &quot;geometry&quot;: {&quot;coordinates&quot;: [[[131.125, 37.375], [131.375, 37.375], [131.375, 37.625], [131.125, 37.625], [131.125, 37.375]]], &quot;type&quot;: &quot;Polygon&quot;}, &quot;id&quot;: &quot;64&quot;, &quot;properties&quot;: {&quot;__folium_color&quot;: &quot;#f05e42&quot;, &quot;latitude&quot;: 37.375, &quot;longitude&quot;: 131.125, &quot;to&quot;: 11.712874412536621}, &quot;type&quot;: &quot;Feature&quot;}, {&quot;bbox&quot;: [131.375, 37.375, 131.625, 37.625], &quot;geometry&quot;: {&quot;coordinates&quot;: [[[131.375, 37.375], [131.625, 37.375], [131.625, 37.625], [131.375, 37.625], [131.375, 37.375]]], &quot;type&quot;: &quot;Polygon&quot;}, &quot;id&quot;: &quot;65&quot;, &quot;properties&quot;: {&quot;__folium_color&quot;: &quot;#ee523f&quot;, &quot;latitude&quot;: 37.375, &quot;longitude&quot;: 131.375, &quot;to&quot;: 11.580374717712402}, &quot;type&quot;: &quot;Feature&quot;}, {&quot;bbox&quot;: [131.625, 37.375, 131.875, 37.625], &quot;geometry&quot;: {&quot;coordinates&quot;: [[[131.625, 37.375], [131.875, 37.375], [131.875, 37.625], [131.625, 37.625], [131.625, 37.375]]], &quot;type&quot;: &quot;Polygon&quot;}, &quot;id&quot;: &quot;66&quot;, &quot;properties&quot;: {&quot;__folium_color&quot;: &quot;#f37450&quot;, &quot;latitude&quot;: 37.375, &quot;longitude&quot;: 131.625, &quot;to&quot;: 11.979000091552734}, &quot;type&quot;: &quot;Feature&quot;}, {&quot;bbox&quot;: [131.875, 37.375, 132.125, 37.625], &quot;geometry&quot;: {&quot;coordinates&quot;: [[[131.875, 37.375], [132.125, 37.375], [132.125, 37.625], [131.875, 37.625], [131.875, 37.375]]], &quot;type&quot;: &quot;Polygon&quot;}, &quot;id&quot;: &quot;67&quot;, &quot;properties&quot;: {&quot;__folium_color&quot;: &quot;#f47f58&quot;, &quot;latitude&quot;: 37.375, &quot;longitude&quot;: 131.875, &quot;to&quot;: 12.107874870300293}, &quot;type&quot;: &quot;Feature&quot;}, {&quot;bbox&quot;: [132.125, 37.375, 132.375, 37.625], &quot;geometry&quot;: {&quot;coordinates&quot;: [[[132.125, 37.375], [132.375, 37.375], [132.375, 37.625], [132.125, 37.625], [132.125, 37.375]]], &quot;type&quot;: &quot;Polygon&quot;}, &quot;id&quot;: &quot;68&quot;, &quot;properties&quot;: {&quot;__folium_color&quot;: &quot;#ee523f&quot;, &quot;latitude&quot;: 37.375, &quot;longitude&quot;: 132.125, &quot;to&quot;: 11.593500137329102}, &quot;type&quot;: &quot;Feature&quot;}, {&quot;bbox&quot;: [132.375, 37.375, 132.625, 37.625], &quot;geometry&quot;: {&quot;coordinates&quot;: [[[132.375, 37.375], [132.625, 37.375], [132.625, 37.625], [132.375, 37.625], [132.375, 37.375]]], &quot;type&quot;: &quot;Polygon&quot;}, &quot;id&quot;: &quot;69&quot;, &quot;properties&quot;: {&quot;__folium_color&quot;: &quot;#df2f44&quot;, &quot;latitude&quot;: 37.375, &quot;longitude&quot;: 132.375, &quot;to&quot;: 11.168874740600586}, &quot;type&quot;: &quot;Feature&quot;}, {&quot;bbox&quot;: [132.625, 37.375, 132.875, 37.625], &quot;geometry&quot;: {&quot;coordinates&quot;: [[[132.625, 37.375], [132.875, 37.375], [132.875, 37.625], [132.625, 37.625], [132.625, 37.375]]], &quot;type&quot;: &quot;Polygon&quot;}, &quot;id&quot;: &quot;70&quot;, &quot;properties&quot;: {&quot;__folium_color&quot;: &quot;#e33641&quot;, &quot;latitude&quot;: 37.375, &quot;longitude&quot;: 132.625, &quot;to&quot;: 11.253623962402344}, &quot;type&quot;: &quot;Feature&quot;}, {&quot;bbox&quot;: [132.875, 37.375, 133.125, 37.625], &quot;geometry&quot;: {&quot;coordinates&quot;: [[[132.875, 37.375], [133.125, 37.375], [133.125, 37.625], [132.875, 37.625], [132.875, 37.375]]], &quot;type&quot;: &quot;Polygon&quot;}, &quot;id&quot;: &quot;71&quot;, &quot;properties&quot;: {&quot;__folium_color&quot;: &quot;#e8403e&quot;, &quot;latitude&quot;: 37.375, &quot;longitude&quot;: 132.875, &quot;to&quot;: 11.387125015258789}, &quot;type&quot;: &quot;Feature&quot;}, {&quot;bbox&quot;: [130.125, 37.625, 130.375, 37.875], &quot;geometry&quot;: {&quot;coordinates&quot;: [[[130.125, 37.625], [130.375, 37.625], [130.375, 37.875], [130.125, 37.875], [130.125, 37.625]]], &quot;type&quot;: &quot;Polygon&quot;}, &quot;id&quot;: &quot;72&quot;, &quot;properties&quot;: {&quot;__folium_color&quot;: &quot;#f05e42&quot;, &quot;latitude&quot;: 37.625, &quot;longitude&quot;: 130.125, &quot;to&quot;: 11.730374336242676}, &quot;type&quot;: &quot;Feature&quot;}, {&quot;bbox&quot;: [130.375, 37.625, 130.625, 37.875], &quot;geometry&quot;: {&quot;coordinates&quot;: [[[130.375, 37.625], [130.625, 37.625], [130.625, 37.875], [130.375, 37.875], [130.375, 37.625]]], &quot;type&quot;: &quot;Polygon&quot;}, &quot;id&quot;: &quot;73&quot;, &quot;properties&quot;: {&quot;__folium_color&quot;: &quot;#f06043&quot;, &quot;latitude&quot;: 37.625, &quot;longitude&quot;: 130.375, &quot;to&quot;: 11.743624687194824}, &quot;type&quot;: &quot;Feature&quot;}, {&quot;bbox&quot;: [130.625, 37.625, 130.875, 37.875], &quot;geometry&quot;: {&quot;coordinates&quot;: [[[130.625, 37.625], [130.875, 37.625], [130.875, 37.875], [130.625, 37.875], [130.625, 37.625]]], &quot;type&quot;: &quot;Polygon&quot;}, &quot;id&quot;: &quot;74&quot;, &quot;properties&quot;: {&quot;__folium_color&quot;: &quot;#ef5a41&quot;, &quot;latitude&quot;: 37.625, &quot;longitude&quot;: 130.625, &quot;to&quot;: 11.675125122070312}, &quot;type&quot;: &quot;Feature&quot;}, {&quot;bbox&quot;: [130.875, 37.625, 131.125, 37.875], &quot;geometry&quot;: {&quot;coordinates&quot;: [[[130.875, 37.625], [131.125, 37.625], [131.125, 37.875], [130.875, 37.875], [130.875, 37.625]]], &quot;type&quot;: &quot;Polygon&quot;}, &quot;id&quot;: &quot;75&quot;, &quot;properties&quot;: {&quot;__folium_color&quot;: &quot;#ec4a3e&quot;, &quot;latitude&quot;: 37.625, &quot;longitude&quot;: 130.875, &quot;to&quot;: 11.492124557495117}, &quot;type&quot;: &quot;Feature&quot;}, {&quot;bbox&quot;: [131.125, 37.625, 131.375, 37.875], &quot;geometry&quot;: {&quot;coordinates&quot;: [[[131.125, 37.625], [131.375, 37.625], [131.375, 37.875], [131.125, 37.875], [131.125, 37.625]]], &quot;type&quot;: &quot;Polygon&quot;}, &quot;id&quot;: &quot;76&quot;, &quot;properties&quot;: {&quot;__folium_color&quot;: &quot;#de2e44&quot;, &quot;latitude&quot;: 37.625, &quot;longitude&quot;: 131.125, &quot;to&quot;: 11.160749435424805}, &quot;type&quot;: &quot;Feature&quot;}, {&quot;bbox&quot;: [131.375, 37.625, 131.625, 37.875], &quot;geometry&quot;: {&quot;coordinates&quot;: [[[131.375, 37.625], [131.625, 37.625], [131.625, 37.875], [131.375, 37.875], [131.375, 37.625]]], &quot;type&quot;: &quot;Polygon&quot;}, &quot;id&quot;: &quot;77&quot;, &quot;properties&quot;: {&quot;__folium_color&quot;: &quot;#c71951&quot;, &quot;latitude&quot;: 37.625, &quot;longitude&quot;: 131.375, &quot;to&quot;: 10.759624481201172}, &quot;type&quot;: &quot;Feature&quot;}, {&quot;bbox&quot;: [131.625, 37.625, 131.875, 37.875], &quot;geometry&quot;: {&quot;coordinates&quot;: [[[131.625, 37.625], [131.875, 37.625], [131.875, 37.875], [131.625, 37.875], [131.625, 37.625]]], &quot;type&quot;: &quot;Polygon&quot;}, &quot;id&quot;: &quot;78&quot;, &quot;properties&quot;: {&quot;__folium_color&quot;: &quot;#c41753&quot;, &quot;latitude&quot;: 37.625, &quot;longitude&quot;: 131.625, &quot;to&quot;: 10.72387409210205}, &quot;type&quot;: &quot;Feature&quot;}, {&quot;bbox&quot;: [131.875, 37.625, 132.125, 37.875], &quot;geometry&quot;: {&quot;coordinates&quot;: [[[131.875, 37.625], [132.125, 37.625], [132.125, 37.875], [131.875, 37.875], [131.875, 37.625]]], &quot;type&quot;: &quot;Polygon&quot;}, &quot;id&quot;: &quot;79&quot;, &quot;properties&quot;: {&quot;__folium_color&quot;: &quot;#d2204c&quot;, &quot;latitude&quot;: 37.625, &quot;longitude&quot;: 131.875, &quot;to&quot;: 10.942999839782715}, &quot;type&quot;: &quot;Feature&quot;}, {&quot;bbox&quot;: [132.125, 37.625, 132.375, 37.875], &quot;geometry&quot;: {&quot;coordinates&quot;: [[[132.125, 37.625], [132.375, 37.625], [132.375, 37.875], [132.125, 37.875], [132.125, 37.625]]], &quot;type&quot;: &quot;Polygon&quot;}, &quot;id&quot;: &quot;80&quot;, &quot;properties&quot;: {&quot;__folium_color&quot;: &quot;#c81951&quot;, &quot;latitude&quot;: 37.625, &quot;longitude&quot;: 132.125, &quot;to&quot;: 10.79112434387207}, &quot;type&quot;: &quot;Feature&quot;}, {&quot;bbox&quot;: [132.375, 37.625, 132.625, 37.875], &quot;geometry&quot;: {&quot;coordinates&quot;: [[[132.375, 37.625], [132.625, 37.625], [132.625, 37.875], [132.375, 37.875], [132.375, 37.625]]], &quot;type&quot;: &quot;Polygon&quot;}, &quot;id&quot;: &quot;81&quot;, &quot;properties&quot;: {&quot;__folium_color&quot;: &quot;#ce1d4e&quot;, &quot;latitude&quot;: 37.625, &quot;longitude&quot;: 132.375, &quot;to&quot;: 10.866999626159668}, &quot;type&quot;: &quot;Feature&quot;}, {&quot;bbox&quot;: [132.625, 37.625, 132.875, 37.875], &quot;geometry&quot;: {&quot;coordinates&quot;: [[[132.625, 37.625], [132.875, 37.625], [132.875, 37.875], [132.625, 37.875], [132.625, 37.625]]], &quot;type&quot;: &quot;Polygon&quot;}, &quot;id&quot;: &quot;82&quot;, &quot;properties&quot;: {&quot;__folium_color&quot;: &quot;#db2946&quot;, &quot;latitude&quot;: 37.625, &quot;longitude&quot;: 132.625, &quot;to&quot;: 11.084624290466309}, &quot;type&quot;: &quot;Feature&quot;}, {&quot;bbox&quot;: [132.875, 37.625, 133.125, 37.875], &quot;geometry&quot;: {&quot;coordinates&quot;: [[[132.875, 37.625], [133.125, 37.625], [133.125, 37.875], [132.875, 37.875], [132.875, 37.625]]], &quot;type&quot;: &quot;Polygon&quot;}, &quot;id&quot;: &quot;83&quot;, &quot;properties&quot;: {&quot;__folium_color&quot;: &quot;#e53940&quot;, &quot;latitude&quot;: 37.625, &quot;longitude&quot;: 132.875, &quot;to&quot;: 11.306624412536621}, &quot;type&quot;: &quot;Feature&quot;}, {&quot;bbox&quot;: [130.125, 37.875, 130.375, 38.125], &quot;geometry&quot;: {&quot;coordinates&quot;: [[[130.125, 37.875], [130.375, 37.875], [130.375, 38.125], [130.125, 38.125], [130.125, 37.875]]], &quot;type&quot;: &quot;Polygon&quot;}, &quot;id&quot;: &quot;84&quot;, &quot;properties&quot;: {&quot;__folium_color&quot;: &quot;#e23442&quot;, &quot;latitude&quot;: 37.875, &quot;longitude&quot;: 130.125, &quot;to&quot;: 11.243000030517578}, &quot;type&quot;: &quot;Feature&quot;}, {&quot;bbox&quot;: [130.375, 37.875, 130.625, 38.125], &quot;geometry&quot;: {&quot;coordinates&quot;: [[[130.375, 37.875], [130.625, 37.875], [130.625, 38.125], [130.375, 38.125], [130.375, 37.875]]], &quot;type&quot;: &quot;Polygon&quot;}, &quot;id&quot;: &quot;85&quot;, &quot;properties&quot;: {&quot;__folium_color&quot;: &quot;#de2e44&quot;, &quot;latitude&quot;: 37.875, &quot;longitude&quot;: 130.375, &quot;to&quot;: 11.152249336242676}, &quot;type&quot;: &quot;Feature&quot;}, {&quot;bbox&quot;: [130.625, 37.875, 130.875, 38.125], &quot;geometry&quot;: {&quot;coordinates&quot;: [[[130.625, 37.875], [130.875, 37.875], [130.875, 38.125], [130.625, 38.125], [130.625, 37.875]]], &quot;type&quot;: &quot;Polygon&quot;}, &quot;id&quot;: &quot;86&quot;, &quot;properties&quot;: {&quot;__folium_color&quot;: &quot;#d11f4c&quot;, &quot;latitude&quot;: 37.875, &quot;longitude&quot;: 130.625, &quot;to&quot;: 10.906373977661133}, &quot;type&quot;: &quot;Feature&quot;}, {&quot;bbox&quot;: [130.875, 37.875, 131.125, 38.125], &quot;geometry&quot;: {&quot;coordinates&quot;: [[[130.875, 37.875], [131.125, 37.875], [131.125, 38.125], [130.875, 38.125], [130.875, 37.875]]], &quot;type&quot;: &quot;Polygon&quot;}, &quot;id&quot;: &quot;87&quot;, &quot;properties&quot;: {&quot;__folium_color&quot;: &quot;#b21758&quot;, &quot;latitude&quot;: 37.875, &quot;longitude&quot;: 130.875, &quot;to&quot;: 10.482500076293945}, &quot;type&quot;: &quot;Feature&quot;}, {&quot;bbox&quot;: [131.125, 37.875, 131.375, 38.125], &quot;geometry&quot;: {&quot;coordinates&quot;: [[[131.125, 37.875], [131.375, 37.875], [131.375, 38.125], [131.125, 38.125], [131.125, 37.875]]], &quot;type&quot;: &quot;Polygon&quot;}, &quot;id&quot;: &quot;88&quot;, &quot;properties&quot;: {&quot;__folium_color&quot;: &quot;#921c5b&quot;, &quot;latitude&quot;: 37.875, &quot;longitude&quot;: 131.125, &quot;to&quot;: 10.055874824523926}, &quot;type&quot;: &quot;Feature&quot;}, {&quot;bbox&quot;: [131.375, 37.875, 131.625, 38.125], &quot;geometry&quot;: {&quot;coordinates&quot;: [[[131.375, 37.875], [131.625, 37.875], [131.625, 38.125], [131.375, 38.125], [131.375, 37.875]]], &quot;type&quot;: &quot;Polygon&quot;}, &quot;id&quot;: &quot;89&quot;, &quot;properties&quot;: {&quot;__folium_color&quot;: &quot;#751f58&quot;, &quot;latitude&quot;: 37.875, &quot;longitude&quot;: 131.375, &quot;to&quot;: 9.70199966430664}, &quot;type&quot;: &quot;Feature&quot;}, {&quot;bbox&quot;: [131.625, 37.875, 131.875, 38.125], &quot;geometry&quot;: {&quot;coordinates&quot;: [[[131.625, 37.875], [131.875, 37.875], [131.875, 38.125], [131.625, 38.125], [131.625, 37.875]]], &quot;type&quot;: &quot;Polygon&quot;}, &quot;id&quot;: &quot;90&quot;, &quot;properties&quot;: {&quot;__folium_color&quot;: &quot;#731f58&quot;, &quot;latitude&quot;: 37.875, &quot;longitude&quot;: 131.625, &quot;to&quot;: 9.673124313354492}, &quot;type&quot;: &quot;Feature&quot;}, {&quot;bbox&quot;: [131.875, 37.875, 132.125, 38.125], &quot;geometry&quot;: {&quot;coordinates&quot;: [[[131.875, 37.875], [132.125, 37.875], [132.125, 38.125], [131.875, 38.125], [131.875, 37.875]]], &quot;type&quot;: &quot;Polygon&quot;}, &quot;id&quot;: &quot;91&quot;, &quot;properties&quot;: {&quot;__folium_color&quot;: &quot;#731f58&quot;, &quot;latitude&quot;: 37.875, &quot;longitude&quot;: 131.875, &quot;to&quot;: 9.673249244689941}, &quot;type&quot;: &quot;Feature&quot;}, {&quot;bbox&quot;: [132.125, 37.875, 132.375, 38.125], &quot;geometry&quot;: {&quot;coordinates&quot;: [[[132.125, 37.875], [132.375, 37.875], [132.375, 38.125], [132.125, 38.125], [132.125, 37.875]]], &quot;type&quot;: &quot;Polygon&quot;}, &quot;id&quot;: &quot;92&quot;, &quot;properties&quot;: {&quot;__folium_color&quot;: &quot;#891e5b&quot;, &quot;latitude&quot;: 37.875, &quot;longitude&quot;: 132.125, &quot;to&quot;: 9.966374397277832}, &quot;type&quot;: &quot;Feature&quot;}, {&quot;bbox&quot;: [132.375, 37.875, 132.625, 38.125], &quot;geometry&quot;: {&quot;coordinates&quot;: [[[132.375, 37.875], [132.625, 37.875], [132.625, 38.125], [132.375, 38.125], [132.375, 37.875]]], &quot;type&quot;: &quot;Polygon&quot;}, &quot;id&quot;: &quot;93&quot;, &quot;properties&quot;: {&quot;__folium_color&quot;: &quot;#ad1759&quot;, &quot;latitude&quot;: 37.875, &quot;longitude&quot;: 132.375, &quot;to&quot;: 10.410499572753906}, &quot;type&quot;: &quot;Feature&quot;}, {&quot;bbox&quot;: [132.625, 37.875, 132.875, 38.125], &quot;geometry&quot;: {&quot;coordinates&quot;: [[[132.625, 37.875], [132.875, 37.875], [132.875, 38.125], [132.625, 38.125], [132.625, 37.875]]], &quot;type&quot;: &quot;Polygon&quot;}, &quot;id&quot;: &quot;94&quot;, &quot;properties&quot;: {&quot;__folium_color&quot;: &quot;#bf1654&quot;, &quot;latitude&quot;: 37.875, &quot;longitude&quot;: 132.625, &quot;to&quot;: 10.649624824523926}, &quot;type&quot;: &quot;Feature&quot;}, {&quot;bbox&quot;: [132.875, 37.875, 133.125, 38.125], &quot;geometry&quot;: {&quot;coordinates&quot;: [[[132.875, 37.875], [133.125, 37.875], [133.125, 38.125], [132.875, 38.125], [132.875, 37.875]]], &quot;type&quot;: &quot;Polygon&quot;}, &quot;id&quot;: &quot;95&quot;, &quot;properties&quot;: {&quot;__folium_color&quot;: &quot;#d62449&quot;, &quot;latitude&quot;: 37.875, &quot;longitude&quot;: 132.875, &quot;to&quot;: 11.003499031066895}, &quot;type&quot;: &quot;Feature&quot;}, {&quot;bbox&quot;: [130.125, 38.125, 130.375, 38.375], &quot;geometry&quot;: {&quot;coordinates&quot;: [[[130.125, 38.125], [130.375, 38.125], [130.375, 38.375], [130.125, 38.375], [130.125, 38.125]]], &quot;type&quot;: &quot;Polygon&quot;}, &quot;id&quot;: &quot;96&quot;, &quot;properties&quot;: {&quot;__folium_color&quot;: &quot;#ca1a50&quot;, &quot;latitude&quot;: 38.125, &quot;longitude&quot;: 130.125, &quot;to&quot;: 10.805124282836914}, &quot;type&quot;: &quot;Feature&quot;}, {&quot;bbox&quot;: [130.375, 38.125, 130.625, 38.375], &quot;geometry&quot;: {&quot;coordinates&quot;: [[[130.375, 38.125], [130.625, 38.125], [130.625, 38.375], [130.375, 38.375], [130.375, 38.125]]], &quot;type&quot;: &quot;Polygon&quot;}, &quot;id&quot;: &quot;97&quot;, &quot;properties&quot;: {&quot;__folium_color&quot;: &quot;#ad1759&quot;, &quot;latitude&quot;: 38.125, &quot;longitude&quot;: 130.375, &quot;to&quot;: 10.415374755859375}, &quot;type&quot;: &quot;Feature&quot;}, {&quot;bbox&quot;: [130.625, 38.125, 130.875, 38.375], &quot;geometry&quot;: {&quot;coordinates&quot;: [[[130.625, 38.125], [130.875, 38.125], [130.875, 38.375], [130.625, 38.375], [130.625, 38.125]]], &quot;type&quot;: &quot;Polygon&quot;}, &quot;id&quot;: &quot;98&quot;, &quot;properties&quot;: {&quot;__folium_color&quot;: &quot;#9e1a5b&quot;, &quot;latitude&quot;: 38.125, &quot;longitude&quot;: 130.625, &quot;to&quot;: 10.22137451171875}, &quot;type&quot;: &quot;Feature&quot;}, {&quot;bbox&quot;: [130.875, 38.125, 131.125, 38.375], &quot;geometry&quot;: {&quot;coordinates&quot;: [[[130.875, 38.125], [131.125, 38.125], [131.125, 38.375], [130.875, 38.375], [130.875, 38.125]]], &quot;type&quot;: &quot;Polygon&quot;}, &quot;id&quot;: &quot;99&quot;, &quot;properties&quot;: {&quot;__folium_color&quot;: &quot;#841e5a&quot;, &quot;latitude&quot;: 38.125, &quot;longitude&quot;: 130.875, &quot;to&quot;: 9.8933744430542}, &quot;type&quot;: &quot;Feature&quot;}, {&quot;bbox&quot;: [131.125, 38.125, 131.375, 38.375], &quot;geometry&quot;: {&quot;coordinates&quot;: [[[131.125, 38.125], [131.375, 38.125], [131.375, 38.375], [131.125, 38.375], [131.125, 38.125]]], &quot;type&quot;: &quot;Polygon&quot;}, &quot;id&quot;: &quot;100&quot;, &quot;properties&quot;: {&quot;__folium_color&quot;: &quot;#6e1f57&quot;, &quot;latitude&quot;: 38.125, &quot;longitude&quot;: 131.125, &quot;to&quot;: 9.610749244689941}, &quot;type&quot;: &quot;Feature&quot;}, {&quot;bbox&quot;: [131.375, 38.125, 131.625, 38.375], &quot;geometry&quot;: {&quot;coordinates&quot;: [[[131.375, 38.125], [131.625, 38.125], [131.625, 38.375], [131.375, 38.375], [131.375, 38.125]]], &quot;type&quot;: &quot;Polygon&quot;}, &quot;id&quot;: &quot;101&quot;, &quot;properties&quot;: {&quot;__folium_color&quot;: &quot;#531e4d&quot;, &quot;latitude&quot;: 38.125, &quot;longitude&quot;: 131.375, &quot;to&quot;: 9.231624603271484}, &quot;type&quot;: &quot;Feature&quot;}, {&quot;bbox&quot;: [131.625, 38.125, 131.875, 38.375], &quot;geometry&quot;: {&quot;coordinates&quot;: [[[131.625, 38.125], [131.875, 38.125], [131.875, 38.375], [131.625, 38.375], [131.625, 38.125]]], &quot;type&quot;: &quot;Polygon&quot;}, &quot;id&quot;: &quot;102&quot;, &quot;properties&quot;: {&quot;__folium_color&quot;: &quot;#37193f&quot;, &quot;latitude&quot;: 38.125, &quot;longitude&quot;: 131.625, &quot;to&quot;: 8.856124877929688}, &quot;type&quot;: &quot;Feature&quot;}, {&quot;bbox&quot;: [131.875, 38.125, 132.125, 38.375], &quot;geometry&quot;: {&quot;coordinates&quot;: [[[131.875, 38.125], [132.125, 38.125], [132.125, 38.375], [131.875, 38.375], [131.875, 38.125]]], &quot;type&quot;: &quot;Polygon&quot;}, &quot;id&quot;: &quot;103&quot;, &quot;properties&quot;: {&quot;__folium_color&quot;: &quot;#401b44&quot;, &quot;latitude&quot;: 38.125, &quot;longitude&quot;: 131.875, &quot;to&quot;: 8.973249435424805}, &quot;type&quot;: &quot;Feature&quot;}, {&quot;bbox&quot;: [132.125, 38.125, 132.375, 38.375], &quot;geometry&quot;: {&quot;coordinates&quot;: [[[132.125, 38.125], [132.375, 38.125], [132.375, 38.375], [132.125, 38.375], [132.125, 38.125]]], &quot;type&quot;: &quot;Polygon&quot;}, &quot;id&quot;: &quot;104&quot;, &quot;properties&quot;: {&quot;__folium_color&quot;: &quot;#641f54&quot;, &quot;latitude&quot;: 38.125, &quot;longitude&quot;: 132.125, &quot;to&quot;: 9.474499702453613}, &quot;type&quot;: &quot;Feature&quot;}, {&quot;bbox&quot;: [132.375, 38.125, 132.625, 38.375], &quot;geometry&quot;: {&quot;coordinates&quot;: [[[132.375, 38.125], [132.625, 38.125], [132.625, 38.375], [132.375, 38.375], [132.375, 38.125]]], &quot;type&quot;: &quot;Polygon&quot;}, &quot;id&quot;: &quot;105&quot;, &quot;properties&quot;: {&quot;__folium_color&quot;: &quot;#8c1d5b&quot;, &quot;latitude&quot;: 38.125, &quot;longitude&quot;: 132.375, &quot;to&quot;: 9.991499900817871}, &quot;type&quot;: &quot;Feature&quot;}, {&quot;bbox&quot;: [132.625, 38.125, 132.875, 38.375], &quot;geometry&quot;: {&quot;coordinates&quot;: [[[132.625, 38.125], [132.875, 38.125], [132.875, 38.375], [132.625, 38.375], [132.625, 38.125]]], &quot;type&quot;: &quot;Polygon&quot;}, &quot;id&quot;: &quot;106&quot;, &quot;properties&quot;: {&quot;__folium_color&quot;: &quot;#a6195a&quot;, &quot;latitude&quot;: 38.125, &quot;longitude&quot;: 132.625, &quot;to&quot;: 10.32974910736084}, &quot;type&quot;: &quot;Feature&quot;}, {&quot;bbox&quot;: [132.875, 38.125, 133.125, 38.375], &quot;geometry&quot;: {&quot;coordinates&quot;: [[[132.875, 38.125], [133.125, 38.125], [133.125, 38.375], [132.875, 38.375], [132.875, 38.125]]], &quot;type&quot;: &quot;Polygon&quot;}, &quot;id&quot;: &quot;107&quot;, &quot;properties&quot;: {&quot;__folium_color&quot;: &quot;#bf1654&quot;, &quot;latitude&quot;: 38.125, &quot;longitude&quot;: 132.875, &quot;to&quot;: 10.642624855041504}, &quot;type&quot;: &quot;Feature&quot;}, {&quot;bbox&quot;: [130.125, 38.375, 130.375, 38.625], &quot;geometry&quot;: {&quot;coordinates&quot;: [[[130.125, 38.375], [130.375, 38.375], [130.375, 38.625], [130.125, 38.625], [130.125, 38.375]]], &quot;type&quot;: &quot;Polygon&quot;}, &quot;id&quot;: &quot;108&quot;, &quot;properties&quot;: {&quot;__folium_color&quot;: &quot;#931c5b&quot;, &quot;latitude&quot;: 38.375, &quot;longitude&quot;: 130.125, &quot;to&quot;: 10.079499244689941}, &quot;type&quot;: &quot;Feature&quot;}, {&quot;bbox&quot;: [130.375, 38.375, 130.625, 38.625], &quot;geometry&quot;: {&quot;coordinates&quot;: [[[130.375, 38.375], [130.625, 38.375], [130.625, 38.625], [130.375, 38.625], [130.375, 38.375]]], &quot;type&quot;: &quot;Polygon&quot;}, &quot;id&quot;: &quot;109&quot;, &quot;properties&quot;: {&quot;__folium_color&quot;: &quot;#781f59&quot;, &quot;latitude&quot;: 38.375, &quot;longitude&quot;: 130.375, &quot;to&quot;: 9.742874145507812}, &quot;type&quot;: &quot;Feature&quot;}, {&quot;bbox&quot;: [130.625, 38.375, 130.875, 38.625], &quot;geometry&quot;: {&quot;coordinates&quot;: [[[130.625, 38.375], [130.875, 38.375], [130.875, 38.625], [130.625, 38.625], [130.625, 38.375]]], &quot;type&quot;: &quot;Polygon&quot;}, &quot;id&quot;: &quot;110&quot;, &quot;properties&quot;: {&quot;__folium_color&quot;: &quot;#761f58&quot;, &quot;latitude&quot;: 38.375, &quot;longitude&quot;: 130.625, &quot;to&quot;: 9.720874786376953}, &quot;type&quot;: &quot;Feature&quot;}, {&quot;bbox&quot;: [130.875, 38.375, 131.125, 38.625], &quot;geometry&quot;: {&quot;coordinates&quot;: [[[130.875, 38.375], [131.125, 38.375], [131.125, 38.625], [130.875, 38.625], [130.875, 38.375]]], &quot;type&quot;: &quot;Polygon&quot;}, &quot;id&quot;: &quot;111&quot;, &quot;properties&quot;: {&quot;__folium_color&quot;: &quot;#6d1f56&quot;, &quot;latitude&quot;: 38.375, &quot;longitude&quot;: 130.875, &quot;to&quot;: 9.578125}, &quot;type&quot;: &quot;Feature&quot;}, {&quot;bbox&quot;: [131.125, 38.375, 131.375, 38.625], &quot;geometry&quot;: {&quot;coordinates&quot;: [[[131.125, 38.375], [131.375, 38.375], [131.375, 38.625], [131.125, 38.625], [131.125, 38.375]]], &quot;type&quot;: &quot;Polygon&quot;}, &quot;id&quot;: &quot;112&quot;, &quot;properties&quot;: {&quot;__folium_color&quot;: &quot;#561e4f&quot;, &quot;latitude&quot;: 38.375, &quot;longitude&quot;: 131.125, &quot;to&quot;: 9.282374382019043}, &quot;type&quot;: &quot;Feature&quot;}, {&quot;bbox&quot;: [131.375, 38.375, 131.625, 38.625], &quot;geometry&quot;: {&quot;coordinates&quot;: [[[131.375, 38.375], [131.625, 38.375], [131.625, 38.625], [131.375, 38.625], [131.375, 38.375]]], &quot;type&quot;: &quot;Polygon&quot;}, &quot;id&quot;: &quot;113&quot;, &quot;properties&quot;: {&quot;__folium_color&quot;: &quot;#31183b&quot;, &quot;latitude&quot;: 38.375, &quot;longitude&quot;: 131.375, &quot;to&quot;: 8.752374649047852}, &quot;type&quot;: &quot;Feature&quot;}, {&quot;bbox&quot;: [131.625, 38.375, 131.875, 38.625], &quot;geometry&quot;: {&quot;coordinates&quot;: [[[131.625, 38.375], [131.875, 38.375], [131.875, 38.625], [131.625, 38.625], [131.625, 38.375]]], &quot;type&quot;: &quot;Polygon&quot;}, &quot;id&quot;: &quot;114&quot;, &quot;properties&quot;: {&quot;__folium_color&quot;: &quot;#1d112c&quot;, &quot;latitude&quot;: 38.375, &quot;longitude&quot;: 131.625, &quot;to&quot;: 8.443249702453613}, &quot;type&quot;: &quot;Feature&quot;}, {&quot;bbox&quot;: [131.875, 38.375, 132.125, 38.625], &quot;geometry&quot;: {&quot;coordinates&quot;: [[[131.875, 38.375], [132.125, 38.375], [132.125, 38.625], [131.875, 38.625], [131.875, 38.375]]], &quot;type&quot;: &quot;Polygon&quot;}, &quot;id&quot;: &quot;115&quot;, &quot;properties&quot;: {&quot;__folium_color&quot;: &quot;#221331&quot;, &quot;latitude&quot;: 38.375, &quot;longitude&quot;: 131.875, &quot;to&quot;: 8.54587459564209}, &quot;type&quot;: &quot;Feature&quot;}, {&quot;bbox&quot;: [132.125, 38.375, 132.375, 38.625], &quot;geometry&quot;: {&quot;coordinates&quot;: [[[132.125, 38.375], [132.375, 38.375], [132.375, 38.625], [132.125, 38.625], [132.125, 38.375]]], &quot;type&quot;: &quot;Polygon&quot;}, &quot;id&quot;: &quot;116&quot;, &quot;properties&quot;: {&quot;__folium_color&quot;: &quot;#451c47&quot;, &quot;latitude&quot;: 38.375, &quot;longitude&quot;: 132.125, &quot;to&quot;: 9.045000076293945}, &quot;type&quot;: &quot;Feature&quot;}, {&quot;bbox&quot;: [132.375, 38.375, 132.625, 38.625], &quot;geometry&quot;: {&quot;coordinates&quot;: [[[132.375, 38.375], [132.625, 38.375], [132.625, 38.625], [132.375, 38.625], [132.375, 38.375]]], &quot;type&quot;: &quot;Polygon&quot;}, &quot;id&quot;: &quot;117&quot;, &quot;properties&quot;: {&quot;__folium_color&quot;: &quot;#711f57&quot;, &quot;latitude&quot;: 38.375, &quot;longitude&quot;: 132.375, &quot;to&quot;: 9.650374412536621}, &quot;type&quot;: &quot;Feature&quot;}, {&quot;bbox&quot;: [132.625, 38.375, 132.875, 38.625], &quot;geometry&quot;: {&quot;coordinates&quot;: [[[132.625, 38.375], [132.875, 38.375], [132.875, 38.625], [132.625, 38.625], [132.625, 38.375]]], &quot;type&quot;: &quot;Polygon&quot;}, &quot;id&quot;: &quot;118&quot;, &quot;properties&quot;: {&quot;__folium_color&quot;: &quot;#8e1d5b&quot;, &quot;latitude&quot;: 38.375, &quot;longitude&quot;: 132.625, &quot;to&quot;: 10.030374526977539}, &quot;type&quot;: &quot;Feature&quot;}, {&quot;bbox&quot;: [132.875, 38.375, 133.125, 38.625], &quot;geometry&quot;: {&quot;coordinates&quot;: [[[132.875, 38.375], [133.125, 38.375], [133.125, 38.625], [132.875, 38.625], [132.875, 38.375]]], &quot;type&quot;: &quot;Polygon&quot;}, &quot;id&quot;: &quot;119&quot;, &quot;properties&quot;: {&quot;__folium_color&quot;: &quot;#aa185a&quot;, &quot;latitude&quot;: 38.375, &quot;longitude&quot;: 132.875, &quot;to&quot;: 10.365124702453613}, &quot;type&quot;: &quot;Feature&quot;}, {&quot;bbox&quot;: [130.125, 38.625, 130.375, 38.875], &quot;geometry&quot;: {&quot;coordinates&quot;: [[[130.125, 38.625], [130.375, 38.625], [130.375, 38.875], [130.125, 38.875], [130.125, 38.625]]], &quot;type&quot;: &quot;Polygon&quot;}, &quot;id&quot;: &quot;120&quot;, &quot;properties&quot;: {&quot;__folium_color&quot;: &quot;#601f52&quot;, &quot;latitude&quot;: 38.625, &quot;longitude&quot;: 130.125, &quot;to&quot;: 9.411375045776367}, &quot;type&quot;: &quot;Feature&quot;}, {&quot;bbox&quot;: [130.375, 38.625, 130.625, 38.875], &quot;geometry&quot;: {&quot;coordinates&quot;: [[[130.375, 38.625], [130.625, 38.625], [130.625, 38.875], [130.375, 38.875], [130.375, 38.625]]], &quot;type&quot;: &quot;Polygon&quot;}, &quot;id&quot;: &quot;121&quot;, &quot;properties&quot;: {&quot;__folium_color&quot;: &quot;#501d4c&quot;, &quot;latitude&quot;: 38.625, &quot;longitude&quot;: 130.375, &quot;to&quot;: 9.184874534606934}, &quot;type&quot;: &quot;Feature&quot;}, {&quot;bbox&quot;: [130.625, 38.625, 130.875, 38.875], &quot;geometry&quot;: {&quot;coordinates&quot;: [[[130.625, 38.625], [130.875, 38.625], [130.875, 38.875], [130.625, 38.875], [130.625, 38.625]]], &quot;type&quot;: &quot;Polygon&quot;}, &quot;id&quot;: &quot;122&quot;, &quot;properties&quot;: {&quot;__folium_color&quot;: &quot;#531e4d&quot;, &quot;latitude&quot;: 38.625, &quot;longitude&quot;: 130.625, &quot;to&quot;: 9.230875015258789}, &quot;type&quot;: &quot;Feature&quot;}, {&quot;bbox&quot;: [130.875, 38.625, 131.125, 38.875], &quot;geometry&quot;: {&quot;coordinates&quot;: [[[130.875, 38.625], [131.125, 38.625], [131.125, 38.875], [130.875, 38.875], [130.875, 38.625]]], &quot;type&quot;: &quot;Polygon&quot;}, &quot;id&quot;: &quot;123&quot;, &quot;properties&quot;: {&quot;__folium_color&quot;: &quot;#5b1e51&quot;, &quot;latitude&quot;: 38.625, &quot;longitude&quot;: 130.875, &quot;to&quot;: 9.343999862670898}, &quot;type&quot;: &quot;Feature&quot;}, {&quot;bbox&quot;: [131.125, 38.625, 131.375, 38.875], &quot;geometry&quot;: {&quot;coordinates&quot;: [[[131.125, 38.625], [131.375, 38.625], [131.375, 38.875], [131.125, 38.875], [131.125, 38.625]]], &quot;type&quot;: &quot;Polygon&quot;}, &quot;id&quot;: &quot;124&quot;, &quot;properties&quot;: {&quot;__folium_color&quot;: &quot;#511e4d&quot;, &quot;latitude&quot;: 38.625, &quot;longitude&quot;: 131.125, &quot;to&quot;: 9.225624084472656}, &quot;type&quot;: &quot;Feature&quot;}, {&quot;bbox&quot;: [131.375, 38.625, 131.625, 38.875], &quot;geometry&quot;: {&quot;coordinates&quot;: [[[131.375, 38.625], [131.625, 38.625], [131.625, 38.875], [131.375, 38.875], [131.375, 38.625]]], &quot;type&quot;: &quot;Polygon&quot;}, &quot;id&quot;: &quot;125&quot;, &quot;properties&quot;: {&quot;__folium_color&quot;: &quot;#31183b&quot;, &quot;latitude&quot;: 38.625, &quot;longitude&quot;: 131.375, &quot;to&quot;: 8.752874374389648}, &quot;type&quot;: &quot;Feature&quot;}, {&quot;bbox&quot;: [131.625, 38.625, 131.875, 38.875], &quot;geometry&quot;: {&quot;coordinates&quot;: [[[131.625, 38.625], [131.875, 38.625], [131.875, 38.875], [131.625, 38.875], [131.625, 38.625]]], &quot;type&quot;: &quot;Polygon&quot;}, &quot;id&quot;: &quot;126&quot;, &quot;properties&quot;: {&quot;__folium_color&quot;: &quot;#170f28&quot;, &quot;latitude&quot;: 38.625, &quot;longitude&quot;: 131.625, &quot;to&quot;: 8.35949993133545}, &quot;type&quot;: &quot;Feature&quot;}, {&quot;bbox&quot;: [131.875, 38.625, 132.125, 38.875], &quot;geometry&quot;: {&quot;coordinates&quot;: [[[131.875, 38.625], [132.125, 38.625], [132.125, 38.875], [131.875, 38.875], [131.875, 38.625]]], &quot;type&quot;: &quot;Polygon&quot;}, &quot;id&quot;: &quot;127&quot;, &quot;properties&quot;: {&quot;__folium_color&quot;: &quot;#170f28&quot;, &quot;latitude&quot;: 38.625, &quot;longitude&quot;: 131.875, &quot;to&quot;: 8.356874465942383}, &quot;type&quot;: &quot;Feature&quot;}, {&quot;bbox&quot;: [132.125, 38.625, 132.375, 38.875], &quot;geometry&quot;: {&quot;coordinates&quot;: [[[132.125, 38.625], [132.375, 38.625], [132.375, 38.875], [132.125, 38.875], [132.125, 38.625]]], &quot;type&quot;: &quot;Polygon&quot;}, &quot;id&quot;: &quot;128&quot;, &quot;properties&quot;: {&quot;__folium_color&quot;: &quot;#2d1738&quot;, &quot;latitude&quot;: 38.625, &quot;longitude&quot;: 132.125, &quot;to&quot;: 8.683999061584473}, &quot;type&quot;: &quot;Feature&quot;}, {&quot;bbox&quot;: [132.375, 38.625, 132.625, 38.875], &quot;geometry&quot;: {&quot;coordinates&quot;: [[[132.375, 38.625], [132.625, 38.625], [132.625, 38.875], [132.375, 38.875], [132.375, 38.625]]], &quot;type&quot;: &quot;Polygon&quot;}, &quot;id&quot;: &quot;129&quot;, &quot;properties&quot;: {&quot;__folium_color&quot;: &quot;#561e4f&quot;, &quot;latitude&quot;: 38.625, &quot;longitude&quot;: 132.375, &quot;to&quot;: 9.288874626159668}, &quot;type&quot;: &quot;Feature&quot;}, {&quot;bbox&quot;: [132.625, 38.625, 132.875, 38.875], &quot;geometry&quot;: {&quot;coordinates&quot;: [[[132.625, 38.625], [132.875, 38.625], [132.875, 38.875], [132.625, 38.875], [132.625, 38.625]]], &quot;type&quot;: &quot;Polygon&quot;}, &quot;id&quot;: &quot;130&quot;, &quot;properties&quot;: {&quot;__folium_color&quot;: &quot;#711f57&quot;, &quot;latitude&quot;: 38.625, &quot;longitude&quot;: 132.625, &quot;to&quot;: 9.645124435424805}, &quot;type&quot;: &quot;Feature&quot;}, {&quot;bbox&quot;: [132.875, 38.625, 133.125, 38.875], &quot;geometry&quot;: {&quot;coordinates&quot;: [[[132.875, 38.625], [133.125, 38.625], [133.125, 38.875], [132.875, 38.875], [132.875, 38.625]]], &quot;type&quot;: &quot;Polygon&quot;}, &quot;id&quot;: &quot;131&quot;, &quot;properties&quot;: {&quot;__folium_color&quot;: &quot;#921c5b&quot;, &quot;latitude&quot;: 38.625, &quot;longitude&quot;: 132.875, &quot;to&quot;: 10.060749053955078}, &quot;type&quot;: &quot;Feature&quot;}, {&quot;bbox&quot;: [130.125, 38.875, 130.375, 39.125], &quot;geometry&quot;: {&quot;coordinates&quot;: [[[130.125, 38.875], [130.375, 38.875], [130.375, 39.125], [130.125, 39.125], [130.125, 38.875]]], &quot;type&quot;: &quot;Polygon&quot;}, &quot;id&quot;: &quot;132&quot;, &quot;properties&quot;: {&quot;__folium_color&quot;: &quot;#421b45&quot;, &quot;latitude&quot;: 38.875, &quot;longitude&quot;: 130.125, &quot;to&quot;: 9.00624942779541}, &quot;type&quot;: &quot;Feature&quot;}, {&quot;bbox&quot;: [130.375, 38.875, 130.625, 39.125], &quot;geometry&quot;: {&quot;coordinates&quot;: [[[130.375, 38.875], [130.625, 38.875], [130.625, 39.125], [130.375, 39.125], [130.375, 38.875]]], &quot;type&quot;: &quot;Polygon&quot;}, &quot;id&quot;: &quot;133&quot;, &quot;properties&quot;: {&quot;__folium_color&quot;: &quot;#37193f&quot;, &quot;latitude&quot;: 38.875, &quot;longitude&quot;: 130.375, &quot;to&quot;: 8.849624633789062}, &quot;type&quot;: &quot;Feature&quot;}, {&quot;bbox&quot;: [130.625, 38.875, 130.875, 39.125], &quot;geometry&quot;: {&quot;coordinates&quot;: [[[130.625, 38.875], [130.875, 38.875], [130.875, 39.125], [130.625, 39.125], [130.625, 38.875]]], &quot;type&quot;: &quot;Polygon&quot;}, &quot;id&quot;: &quot;134&quot;, &quot;properties&quot;: {&quot;__folium_color&quot;: &quot;#34193d&quot;, &quot;latitude&quot;: 38.875, &quot;longitude&quot;: 130.625, &quot;to&quot;: 8.809123992919922}, &quot;type&quot;: &quot;Feature&quot;}, {&quot;bbox&quot;: [130.875, 38.875, 131.125, 39.125], &quot;geometry&quot;: {&quot;coordinates&quot;: [[[130.875, 38.875], [131.125, 38.875], [131.125, 39.125], [130.875, 39.125], [130.875, 38.875]]], &quot;type&quot;: &quot;Polygon&quot;}, &quot;id&quot;: &quot;135&quot;, &quot;properties&quot;: {&quot;__folium_color&quot;: &quot;#37193f&quot;, &quot;latitude&quot;: 38.875, &quot;longitude&quot;: 130.875, &quot;to&quot;: 8.84524917602539}, &quot;type&quot;: &quot;Feature&quot;}, {&quot;bbox&quot;: [131.125, 38.875, 131.375, 39.125], &quot;geometry&quot;: {&quot;coordinates&quot;: [[[131.125, 38.875], [131.375, 38.875], [131.375, 39.125], [131.125, 39.125], [131.125, 38.875]]], &quot;type&quot;: &quot;Polygon&quot;}, &quot;id&quot;: &quot;136&quot;, &quot;properties&quot;: {&quot;__folium_color&quot;: &quot;#3d1a42&quot;, &quot;latitude&quot;: 38.875, &quot;longitude&quot;: 131.125, &quot;to&quot;: 8.92549991607666}, &quot;type&quot;: &quot;Feature&quot;}, {&quot;bbox&quot;: [131.375, 38.875, 131.625, 39.125], &quot;geometry&quot;: {&quot;coordinates&quot;: [[[131.375, 38.875], [131.625, 38.875], [131.625, 39.125], [131.375, 39.125], [131.375, 38.875]]], &quot;type&quot;: &quot;Polygon&quot;}, &quot;id&quot;: &quot;137&quot;, &quot;properties&quot;: {&quot;__folium_color&quot;: &quot;#2b1637&quot;, &quot;latitude&quot;: 38.875, &quot;longitude&quot;: 131.375, &quot;to&quot;: 8.674749374389648}, &quot;type&quot;: &quot;Feature&quot;}, {&quot;bbox&quot;: [131.625, 38.875, 131.875, 39.125], &quot;geometry&quot;: {&quot;coordinates&quot;: [[[131.625, 38.875], [131.875, 38.875], [131.875, 39.125], [131.625, 39.125], [131.625, 38.875]]], &quot;type&quot;: &quot;Polygon&quot;}, &quot;id&quot;: &quot;138&quot;, &quot;properties&quot;: {&quot;__folium_color&quot;: &quot;#07071d&quot;, &quot;latitude&quot;: 38.875, &quot;longitude&quot;: 131.625, &quot;to&quot;: 8.13399887084961}, &quot;type&quot;: &quot;Feature&quot;}, {&quot;bbox&quot;: [131.875, 38.875, 132.125, 39.125], &quot;geometry&quot;: {&quot;coordinates&quot;: [[[131.875, 38.875], [132.125, 38.875], [132.125, 39.125], [131.875, 39.125], [131.875, 38.875]]], &quot;type&quot;: &quot;Polygon&quot;}, &quot;id&quot;: &quot;139&quot;, &quot;properties&quot;: {&quot;__folium_color&quot;: &quot;#03051a&quot;, &quot;latitude&quot;: 38.875, &quot;longitude&quot;: 131.875, &quot;to&quot;: 8.028874397277832}, &quot;type&quot;: &quot;Feature&quot;}, {&quot;bbox&quot;: [132.125, 38.875, 132.375, 39.125], &quot;geometry&quot;: {&quot;coordinates&quot;: [[[132.125, 38.875], [132.375, 38.875], [132.375, 39.125], [132.125, 39.125], [132.125, 38.875]]], &quot;type&quot;: &quot;Polygon&quot;}, &quot;id&quot;: &quot;140&quot;, &quot;properties&quot;: {&quot;__folium_color&quot;: &quot;#0a091f&quot;, &quot;latitude&quot;: 38.875, &quot;longitude&quot;: 132.125, &quot;to&quot;: 8.172499656677246}, &quot;type&quot;: &quot;Feature&quot;}, {&quot;bbox&quot;: [132.375, 38.875, 132.625, 39.125], &quot;geometry&quot;: {&quot;coordinates&quot;: [[[132.375, 38.875], [132.625, 38.875], [132.625, 39.125], [132.375, 39.125], [132.375, 38.875]]], &quot;type&quot;: &quot;Polygon&quot;}, &quot;id&quot;: &quot;141&quot;, &quot;properties&quot;: {&quot;__folium_color&quot;: &quot;#211330&quot;, &quot;latitude&quot;: 38.875, &quot;longitude&quot;: 132.375, &quot;to&quot;: 8.507999420166016}, &quot;type&quot;: &quot;Feature&quot;}, {&quot;bbox&quot;: [132.625, 38.875, 132.875, 39.125], &quot;geometry&quot;: {&quot;coordinates&quot;: [[[132.625, 38.875], [132.875, 38.875], [132.875, 39.125], [132.625, 39.125], [132.625, 38.875]]], &quot;type&quot;: &quot;Polygon&quot;}, &quot;id&quot;: &quot;142&quot;, &quot;properties&quot;: {&quot;__folium_color&quot;: &quot;#381a40&quot;, &quot;latitude&quot;: 38.875, &quot;longitude&quot;: 132.625, &quot;to&quot;: 8.857999801635742}, &quot;type&quot;: &quot;Feature&quot;}, {&quot;bbox&quot;: [132.875, 38.875, 133.125, 39.125], &quot;geometry&quot;: {&quot;coordinates&quot;: [[[132.875, 38.875], [133.125, 38.875], [133.125, 39.125], [132.875, 39.125], [132.875, 38.875]]], &quot;type&quot;: &quot;Polygon&quot;}, &quot;id&quot;: &quot;143&quot;, &quot;properties&quot;: {&quot;__folium_color&quot;: &quot;#5b1e51&quot;, &quot;latitude&quot;: 38.875, &quot;longitude&quot;: 132.875, &quot;to&quot;: 9.354374885559082}, &quot;type&quot;: &quot;Feature&quot;}], &quot;type&quot;: &quot;FeatureCollection&quot;});\n",
       "\n",
       "        \n",
       "    \n",
       "    geo_json_48119ddf78bd397ea94408e25f03d365.bindTooltip(\n",
       "    function(layer){\n",
       "    let div = L.DomUtil.create(&#x27;div&#x27;);\n",
       "    \n",
       "    let handleObject = feature=&gt;typeof(feature)==&#x27;object&#x27; ? JSON.stringify(feature) : feature;\n",
       "    let fields = [&quot;latitude&quot;, &quot;longitude&quot;, &quot;to&quot;];\n",
       "    let aliases = [&quot;latitude&quot;, &quot;longitude&quot;, &quot;to&quot;];\n",
       "    let table = &#x27;&lt;table&gt;&#x27; +\n",
       "        String(\n",
       "        fields.map(\n",
       "        (v,i)=&gt;\n",
       "        `&lt;tr&gt;\n",
       "            &lt;th&gt;${aliases[i]}&lt;/th&gt;\n",
       "            \n",
       "            &lt;td&gt;${handleObject(layer.feature.properties[v])}&lt;/td&gt;\n",
       "        &lt;/tr&gt;`).join(&#x27;&#x27;))\n",
       "    +&#x27;&lt;/table&gt;&#x27;;\n",
       "    div.innerHTML=table;\n",
       "    \n",
       "    return div\n",
       "    }\n",
       "    ,{&quot;className&quot;: &quot;foliumtooltip&quot;, &quot;sticky&quot;: true});\n",
       "                     \n",
       "    \n",
       "    var color_map_f0c0e4cc6a9f1c8075c285867aa9c1f9 = {};\n",
       "\n",
       "    \n",
       "    color_map_f0c0e4cc6a9f1c8075c285867aa9c1f9.color = d3.scale.threshold()\n",
       "              .domain([8.028874397277832, 8.040045990494784, 8.051217583711734, 8.062389176928686, 8.073560770145638, 8.084732363362589, 8.09590395657954, 8.107075549796493, 8.118247143013443, 8.129418736230395, 8.140590329447347, 8.151761922664297, 8.16293351588125, 8.174105109098202, 8.185276702315154, 8.196448295532104, 8.207619888749056, 8.218791481966008, 8.229963075182958, 8.24113466839991, 8.252306261616862, 8.263477854833813, 8.274649448050765, 8.285821041267717, 8.296992634484667, 8.308164227701619, 8.319335820918571, 8.330507414135521, 8.341679007352473, 8.352850600569425, 8.364022193786376, 8.375193787003328, 8.38636538022028, 8.39753697343723, 8.408708566654182, 8.419880159871134, 8.431051753088086, 8.442223346305036, 8.453394939521989, 8.46456653273894, 8.47573812595589, 8.486909719172843, 8.498081312389795, 8.509252905606745, 8.520424498823697, 8.53159609204065, 8.5427676852576, 8.553939278474552, 8.565110871691504, 8.576282464908454, 8.587454058125406, 8.598625651342358, 8.609797244559308, 8.62096883777626, 8.632140430993212, 8.643312024210164, 8.654483617427115, 8.665655210644067, 8.676826803861019, 8.687998397077969, 8.699169990294921, 8.710341583511873, 8.721513176728823, 8.732684769945775, 8.743856363162728, 8.755027956379678, 8.76619954959663, 8.777371142813582, 8.788542736030532, 8.799714329247484, 8.810885922464436, 8.822057515681387, 8.833229108898339, 8.84440070211529, 8.85557229533224, 8.866743888549193, 8.877915481766145, 8.889087074983095, 8.900258668200047, 8.911430261417, 8.92260185463395, 8.933773447850902, 8.944945041067854, 8.956116634284806, 8.967288227501756, 8.978459820718708, 8.98963141393566, 9.00080300715261, 9.011974600369562, 9.023146193586514, 9.034317786803465, 9.045489380020417, 9.056660973237369, 9.06783256645432, 9.079004159671271, 9.090175752888223, 9.101347346105173, 9.112518939322126, 9.123690532539078, 9.13486212575603, 9.14603371897298, 9.157205312189932, 9.168376905406884, 9.179548498623834, 9.190720091840786, 9.201891685057738, 9.213063278274689, 9.22423487149164, 9.235406464708593, 9.246578057925543, 9.257749651142495, 9.268921244359447, 9.280092837576397, 9.29126443079335, 9.302436024010301, 9.313607617227252, 9.324779210444204, 9.335950803661156, 9.347122396878106, 9.358293990095058, 9.36946558331201, 9.38063717652896, 9.391808769745912, 9.402980362962865, 9.414151956179815, 9.425323549396767, 9.436495142613719, 9.44766673583067, 9.458838329047621, 9.470009922264573, 9.481181515481525, 9.492353108698476, 9.503524701915428, 9.51469629513238, 9.52586788834933, 9.537039481566282, 9.548211074783234, 9.559382668000184, 9.570554261217136, 9.581725854434088, 9.592897447651039, 9.60406904086799, 9.615240634084943, 9.626412227301893, 9.637583820518845, 9.648755413735797, 9.65992700695275, 9.6710986001697, 9.682270193386652, 9.693441786603604, 9.704613379820554, 9.715784973037506, 9.726956566254458, 9.738128159471408, 9.74929975268836, 9.760471345905312, 9.771642939122263, 9.782814532339215, 9.793986125556167, 9.805157718773117, 9.816329311990069, 9.827500905207021, 9.838672498423971, 9.849844091640923, 9.861015684857875, 9.872187278074826, 9.883358871291778, 9.89453046450873, 9.90570205772568, 9.916873650942632, 9.928045244159584, 9.939216837376534, 9.950388430593486, 9.961560023810438, 9.972731617027389, 9.98390321024434, 9.995074803461293, 10.006246396678245, 10.017417989895195, 10.028589583112147, 10.0397611763291, 10.05093276954605, 10.062104362763002, 10.073275955979954, 10.084447549196904, 10.095619142413856, 10.106790735630808, 10.11796232884776, 10.12913392206471, 10.140305515281662, 10.151477108498614, 10.162648701715565, 10.173820294932517, 10.184991888149469, 10.196163481366419, 10.207335074583371, 10.218506667800323, 10.229678261017273, 10.240849854234225, 10.252021447451177, 10.263193040668128, 10.27436463388508, 10.285536227102032, 10.296707820318982, 10.307879413535934, 10.319051006752886, 10.330222599969836, 10.341394193186789, 10.35256578640374, 10.36373737962069, 10.374908972837643, 10.386080566054595, 10.397252159271545, 10.408423752488497, 10.41959534570545, 10.4307669389224, 10.441938532139352, 10.453110125356304, 10.464281718573254, 10.475453311790206, 10.486624905007158, 10.497796498224108, 10.50896809144106, 10.520139684658012, 10.531311277874964, 10.542482871091915, 10.553654464308867, 10.564826057525819, 10.575997650742769, 10.587169243959721, 10.598340837176673, 10.609512430393625, 10.620684023610576, 10.631855616827528, 10.64302721004448, 10.65419880326143, 10.665370396478382, 10.676541989695334, 10.687713582912284, 10.698885176129236, 10.710056769346188, 10.721228362563139, 10.73239995578009, 10.743571548997043, 10.754743142213993, 10.765914735430945, 10.777086328647897, 10.788257921864847, 10.7994295150818, 10.810601108298751, 10.821772701515702, 10.832944294732654, 10.844115887949606, 10.855287481166556, 10.866459074383508, 10.87763066760046, 10.88880226081741, 10.899973854034362, 10.911145447251315, 10.922317040468265, 10.933488633685217, 10.944660226902169, 10.95583182011912, 10.967003413336071, 10.978175006553023, 10.989346599769974, 11.000518192986926, 11.011689786203878, 11.022861379420828, 11.03403297263778, 11.045204565854732, 11.056376159071684, 11.067547752288634, 11.078719345505586, 11.089890938722538, 11.101062531939489, 11.11223412515644, 11.123405718373393, 11.134577311590345, 11.145748904807295, 11.156920498024247, 11.1680920912412, 11.17926368445815, 11.190435277675101, 11.201606870892054, 11.212778464109004, 11.223950057325956, 11.235121650542908, 11.246293243759858, 11.25746483697681, 11.268636430193762, 11.279808023410713, 11.290979616627665, 11.302151209844617, 11.313322803061567, 11.324494396278519, 11.335665989495471, 11.346837582712421, 11.358009175929373, 11.369180769146325, 11.380352362363276, 11.391523955580228, 11.40269554879718, 11.41386714201413, 11.425038735231082, 11.436210328448034, 11.447381921664984, 11.458553514881936, 11.469725108098888, 11.480896701315839, 11.49206829453279, 11.503239887749743, 11.514411480966693, 11.525583074183645, 11.536754667400597, 11.54792626061755, 11.5590978538345, 11.570269447051452, 11.581441040268404, 11.592612633485354, 11.603784226702306, 11.614955819919258, 11.62612741313621, 11.63729900635316, 11.648470599570112, 11.659642192787064, 11.670813786004015, 11.681985379220967, 11.693156972437919, 11.704328565654869, 11.715500158871821, 11.726671752088773, 11.737843345305723, 11.749014938522675, 11.760186531739627, 11.771358124956578, 11.78252971817353, 11.793701311390482, 11.804872904607432, 11.816044497824384, 11.827216091041336, 11.838387684258286, 11.849559277475239, 11.86073087069219, 11.87190246390914, 11.883074057126093, 11.894245650343045, 11.905417243559995, 11.916588836776947, 11.9277604299939, 11.93893202321085, 11.950103616427802, 11.961275209644754, 11.972446802861704, 11.983618396078656, 11.994789989295608, 12.005961582512558, 12.01713317572951, 12.028304768946462, 12.039476362163413, 12.050647955380366, 12.061819548597317, 12.072991141814267, 12.08416273503122, 12.095334328248171, 12.106505921465121, 12.117677514682075, 12.128849107899025, 12.140020701115976, 12.15119229433293, 12.16236388754988, 12.173535480766832, 12.184707073983784, 12.195878667200734, 12.207050260417686, 12.218221853634638, 12.229393446851589, 12.24056504006854, 12.251736633285493, 12.262908226502443, 12.274079819719395, 12.285251412936347, 12.296423006153297, 12.30759459937025, 12.318766192587201, 12.329937785804152, 12.341109379021104, 12.352280972238056, 12.363452565455006, 12.374624158671958, 12.38579575188891, 12.39696734510586, 12.408138938322812, 12.419310531539764, 12.430482124756715, 12.441653717973667, 12.452825311190619, 12.46399690440757, 12.475168497624521, 12.486340090841473, 12.497511684058423, 12.508683277275376, 12.519854870492328, 12.531026463709278, 12.542198056926232, 12.553369650143182, 12.564541243360132, 12.575712836577086, 12.586884429794036, 12.598056023010987, 12.60922761622794, 12.62039920944489, 12.631570802661841, 12.642742395878795, 12.653913989095745, 12.665085582312697, 12.67625717552965, 12.6874287687466, 12.698600361963551, 12.709771955180504, 12.720943548397454, 12.732115141614406, 12.743286734831358, 12.754458328048308, 12.76562992126526, 12.776801514482212, 12.787973107699163, 12.799144700916115, 12.810316294133067, 12.821487887350017, 12.832659480566969, 12.843831073783921, 12.855002667000871, 12.866174260217823, 12.877345853434775, 12.888517446651726, 12.899689039868678, 12.91086063308563, 12.92203222630258, 12.933203819519532, 12.944375412736484, 12.955547005953434, 12.966718599170386, 12.977890192387338, 12.989061785604289, 13.00023337882124, 13.011404972038193, 13.022576565255143, 13.033748158472097, 13.044919751689047, 13.056091344905997, 13.067262938122951, 13.078434531339902, 13.089606124556852, 13.100777717773806, 13.111949310990756, 13.123120904207706, 13.13429249742466, 13.14546409064161, 13.15663568385856, 13.167807277075514, 13.178978870292465, 13.190150463509417, 13.201322056726369, 13.212493649943319, 13.223665243160271, 13.234836836377223, 13.246008429594173, 13.257180022811125, 13.268351616028077, 13.279523209245028, 13.29069480246198, 13.301866395678932, 13.313037988895882, 13.324209582112834, 13.335381175329786, 13.346552768546736, 13.357724361763688, 13.36889595498064, 13.38006754819759, 13.391239141414543, 13.402410734631495, 13.413582327848445, 13.424753921065397, 13.43592551428235, 13.4470971074993, 13.458268700716252, 13.469440293933204, 13.480611887150154, 13.491783480367106, 13.502955073584058, 13.514126666801008, 13.52529826001796, 13.536469853234912, 13.547641446451863, 13.558813039668816, 13.569984632885767, 13.581156226102717, 13.59232781931967, 13.603499412536621])\n",
       "              .range([&#x27;#03051aff&#x27;, &#x27;#03051aff&#x27;, &#x27;#04051aff&#x27;, &#x27;#04051aff&#x27;, &#x27;#05061bff&#x27;, &#x27;#05061bff&#x27;, &#x27;#06071cff&#x27;, &#x27;#06071cff&#x27;, &#x27;#07071dff&#x27;, &#x27;#07071dff&#x27;, &#x27;#08081eff&#x27;, &#x27;#09081eff&#x27;, &#x27;#0a091fff&#x27;, &#x27;#0a091fff&#x27;, &#x27;#0b0920ff&#x27;, &#x27;#0c0920ff&#x27;, &#x27;#0d0a21ff&#x27;, &#x27;#0d0a21ff&#x27;, &#x27;#0e0b22ff&#x27;, &#x27;#0f0b22ff&#x27;, &#x27;#100b23ff&#x27;, &#x27;#100b23ff&#x27;, &#x27;#110c24ff&#x27;, &#x27;#120c24ff&#x27;, &#x27;#130d25ff&#x27;, &#x27;#130d25ff&#x27;, &#x27;#140e26ff&#x27;, &#x27;#150e26ff&#x27;, &#x27;#160e27ff&#x27;, &#x27;#160e27ff&#x27;, &#x27;#170f28ff&#x27;, &#x27;#170f29ff&#x27;, &#x27;#180f29ff&#x27;, &#x27;#190f2aff&#x27;, &#x27;#1a102aff&#x27;, &#x27;#1a102bff&#x27;, &#x27;#1b112bff&#x27;, &#x27;#1c112cff&#x27;, &#x27;#1d112cff&#x27;, &#x27;#1e122dff&#x27;, &#x27;#1f122dff&#x27;, &#x27;#20122eff&#x27;, &#x27;#20122fff&#x27;, &#x27;#211330ff&#x27;, &#x27;#211330ff&#x27;, &#x27;#221331ff&#x27;, &#x27;#231331ff&#x27;, &#x27;#241432ff&#x27;, &#x27;#241432ff&#x27;, &#x27;#251433ff&#x27;, &#x27;#261433ff&#x27;, &#x27;#271534ff&#x27;, &#x27;#271534ff&#x27;, &#x27;#281535ff&#x27;, &#x27;#291535ff&#x27;, &#x27;#2a1636ff&#x27;, &#x27;#2a1636ff&#x27;, &#x27;#2b1637ff&#x27;, &#x27;#2c1637ff&#x27;, &#x27;#2d1738ff&#x27;, &#x27;#2d1738ff&#x27;, &#x27;#2e1739ff&#x27;, &#x27;#2f1739ff&#x27;, &#x27;#30173aff&#x27;, &#x27;#30173aff&#x27;, &#x27;#31183bff&#x27;, &#x27;#32183bff&#x27;, &#x27;#33183cff&#x27;, &#x27;#33183cff&#x27;, &#x27;#34193dff&#x27;, &#x27;#34193eff&#x27;, &#x27;#35193eff&#x27;, &#x27;#36193fff&#x27;, &#x27;#37193fff&#x27;, &#x27;#381940ff&#x27;, &#x27;#381a40ff&#x27;, &#x27;#391a41ff&#x27;, &#x27;#3a1a41ff&#x27;, &#x27;#3b1a42ff&#x27;, &#x27;#3c1a42ff&#x27;, &#x27;#3d1a42ff&#x27;, &#x27;#3e1a42ff&#x27;, &#x27;#3f1b43ff&#x27;, &#x27;#3f1b43ff&#x27;, &#x27;#401b44ff&#x27;, &#x27;#411b44ff&#x27;, &#x27;#421b45ff&#x27;, &#x27;#421b45ff&#x27;, &#x27;#431c46ff&#x27;, &#x27;#441c46ff&#x27;, &#x27;#451c47ff&#x27;, &#x27;#451c47ff&#x27;, &#x27;#461c48ff&#x27;, &#x27;#471c48ff&#x27;, &#x27;#481c48ff&#x27;, &#x27;#481c48ff&#x27;, &#x27;#491d49ff&#x27;, &#x27;#4a1d49ff&#x27;, &#x27;#4b1d4aff&#x27;, &#x27;#4b1d4aff&#x27;, &#x27;#4c1d4bff&#x27;, &#x27;#4d1d4bff&#x27;, &#x27;#4e1d4bff&#x27;, &#x27;#4f1d4bff&#x27;, &#x27;#501d4cff&#x27;, &#x27;#501d4cff&#x27;, &#x27;#511e4dff&#x27;, &#x27;#521e4dff&#x27;, &#x27;#531e4dff&#x27;, &#x27;#541e4eff&#x27;, &#x27;#541e4eff&#x27;, &#x27;#551e4fff&#x27;, &#x27;#561e4fff&#x27;, &#x27;#571e4fff&#x27;, &#x27;#581e4fff&#x27;, &#x27;#591e50ff&#x27;, &#x27;#591e50ff&#x27;, &#x27;#5a1e51ff&#x27;, &#x27;#5b1e51ff&#x27;, &#x27;#5c1e51ff&#x27;, &#x27;#5d1e51ff&#x27;, &#x27;#5e1e52ff&#x27;, &#x27;#5f1f52ff&#x27;, &#x27;#601f52ff&#x27;, &#x27;#601f52ff&#x27;, &#x27;#611f53ff&#x27;, &#x27;#621f53ff&#x27;, &#x27;#631f53ff&#x27;, &#x27;#631f53ff&#x27;, &#x27;#641f54ff&#x27;, &#x27;#651f54ff&#x27;, &#x27;#661f54ff&#x27;, &#x27;#671f54ff&#x27;, &#x27;#681f55ff&#x27;, &#x27;#681f55ff&#x27;, &#x27;#691f55ff&#x27;, &#x27;#6a1f55ff&#x27;, &#x27;#6b1f56ff&#x27;, &#x27;#6c1f56ff&#x27;, &#x27;#6d1f56ff&#x27;, &#x27;#6d1f56ff&#x27;, &#x27;#6e1f57ff&#x27;, &#x27;#6f1f57ff&#x27;, &#x27;#701f57ff&#x27;, &#x27;#711f57ff&#x27;, &#x27;#711f57ff&#x27;, &#x27;#721f57ff&#x27;, &#x27;#731f58ff&#x27;, &#x27;#741f58ff&#x27;, &#x27;#751f58ff&#x27;, &#x27;#761f58ff&#x27;, &#x27;#761f58ff&#x27;, &#x27;#771f59ff&#x27;, &#x27;#781f59ff&#x27;, &#x27;#791f59ff&#x27;, &#x27;#7a1f59ff&#x27;, &#x27;#7b1f59ff&#x27;, &#x27;#7b1f59ff&#x27;, &#x27;#7c1f5aff&#x27;, &#x27;#7d1e5aff&#x27;, &#x27;#7f1e5aff&#x27;, &#x27;#801e5aff&#x27;, &#x27;#811e5aff&#x27;, &#x27;#811e5aff&#x27;, &#x27;#821e5aff&#x27;, &#x27;#831e5aff&#x27;, &#x27;#841e5aff&#x27;, &#x27;#851e5aff&#x27;, &#x27;#861e5bff&#x27;, &#x27;#861e5bff&#x27;, &#x27;#871e5bff&#x27;, &#x27;#881e5bff&#x27;, &#x27;#891e5bff&#x27;, &#x27;#8a1d5bff&#x27;, &#x27;#8b1d5bff&#x27;, &#x27;#8b1d5bff&#x27;, &#x27;#8c1d5bff&#x27;, &#x27;#8d1d5bff&#x27;, &#x27;#8e1d5bff&#x27;, &#x27;#8f1d5bff&#x27;, &#x27;#901d5bff&#x27;, &#x27;#911c5bff&#x27;, &#x27;#921c5bff&#x27;, &#x27;#931c5bff&#x27;, &#x27;#931c5bff&#x27;, &#x27;#941c5bff&#x27;, &#x27;#951c5bff&#x27;, &#x27;#961c5bff&#x27;, &#x27;#971c5bff&#x27;, &#x27;#981b5bff&#x27;, &#x27;#981b5bff&#x27;, &#x27;#991b5bff&#x27;, &#x27;#9a1b5bff&#x27;, &#x27;#9b1b5bff&#x27;, &#x27;#9c1a5bff&#x27;, &#x27;#9d1a5bff&#x27;, &#x27;#9e1a5bff&#x27;, &#x27;#9f1a5bff&#x27;, &#x27;#9f1a5bff&#x27;, &#x27;#a11a5bff&#x27;, &#x27;#a2195bff&#x27;, &#x27;#a3195bff&#x27;, &#x27;#a3195bff&#x27;, &#x27;#a4195bff&#x27;, &#x27;#a5195bff&#x27;, &#x27;#a6195aff&#x27;, &#x27;#a7185aff&#x27;, &#x27;#a8185aff&#x27;, &#x27;#a9185aff&#x27;, &#x27;#aa185aff&#x27;, &#x27;#aa185aff&#x27;, &#x27;#ab185aff&#x27;, &#x27;#ac175aff&#x27;, &#x27;#ad1759ff&#x27;, &#x27;#ae1759ff&#x27;, &#x27;#af1759ff&#x27;, &#x27;#b01759ff&#x27;, &#x27;#b01759ff&#x27;, &#x27;#b11758ff&#x27;, &#x27;#b21758ff&#x27;, &#x27;#b31658ff&#x27;, &#x27;#b41658ff&#x27;, &#x27;#b51657ff&#x27;, &#x27;#b51657ff&#x27;, &#x27;#b61657ff&#x27;, &#x27;#b71657ff&#x27;, &#x27;#b81657ff&#x27;, &#x27;#b91657ff&#x27;, &#x27;#ba1656ff&#x27;, &#x27;#ba1656ff&#x27;, &#x27;#bb1656ff&#x27;, &#x27;#bc1656ff&#x27;, &#x27;#bd1655ff&#x27;, &#x27;#bd1655ff&#x27;, &#x27;#be1654ff&#x27;, &#x27;#bf1654ff&#x27;, &#x27;#c01654ff&#x27;, &#x27;#c11754ff&#x27;, &#x27;#c21753ff&#x27;, &#x27;#c31753ff&#x27;, &#x27;#c41753ff&#x27;, &#x27;#c41753ff&#x27;, &#x27;#c51752ff&#x27;, &#x27;#c61852ff&#x27;, &#x27;#c71851ff&#x27;, &#x27;#c71951ff&#x27;, &#x27;#c81951ff&#x27;, &#x27;#c91951ff&#x27;, &#x27;#ca1950ff&#x27;, &#x27;#cb1a50ff&#x27;, &#x27;#cb1a4fff&#x27;, &#x27;#cc1b4fff&#x27;, &#x27;#cd1b4eff&#x27;, &#x27;#ce1c4eff&#x27;, &#x27;#ce1c4eff&#x27;, &#x27;#cf1d4dff&#x27;, &#x27;#cf1d4dff&#x27;, &#x27;#d01e4cff&#x27;, &#x27;#d11e4cff&#x27;, &#x27;#d21f4cff&#x27;, &#x27;#d21f4cff&#x27;, &#x27;#d3204bff&#x27;, &#x27;#d3214bff&#x27;, &#x27;#d4214aff&#x27;, &#x27;#d5224aff&#x27;, &#x27;#d62249ff&#x27;, &#x27;#d62449ff&#x27;, &#x27;#d72449ff&#x27;, &#x27;#d72549ff&#x27;, &#x27;#d82648ff&#x27;, &#x27;#d82748ff&#x27;, &#x27;#d92747ff&#x27;, &#x27;#d92847ff&#x27;, &#x27;#da2846ff&#x27;, &#x27;#db2946ff&#x27;, &#x27;#dc2a46ff&#x27;, &#x27;#dc2b46ff&#x27;, &#x27;#dd2b45ff&#x27;, &#x27;#dd2c45ff&#x27;, &#x27;#de2d44ff&#x27;, &#x27;#de2e44ff&#x27;, &#x27;#df2e44ff&#x27;, &#x27;#df2f44ff&#x27;, &#x27;#e03043ff&#x27;, &#x27;#e13143ff&#x27;, &#x27;#e13242ff&#x27;, &#x27;#e23342ff&#x27;, &#x27;#e23342ff&#x27;, &#x27;#e33442ff&#x27;, &#x27;#e33541ff&#x27;, &#x27;#e43641ff&#x27;, &#x27;#e43741ff&#x27;, &#x27;#e53841ff&#x27;, &#x27;#e53840ff&#x27;, &#x27;#e63940ff&#x27;, &#x27;#e63a40ff&#x27;, &#x27;#e73b3fff&#x27;, &#x27;#e73c3fff&#x27;, &#x27;#e83d3fff&#x27;, &#x27;#e83e3fff&#x27;, &#x27;#e83f3eff&#x27;, &#x27;#e8403eff&#x27;, &#x27;#e9403eff&#x27;, &#x27;#e9413eff&#x27;, &#x27;#ea423eff&#x27;, &#x27;#ea433eff&#x27;, &#x27;#eb453eff&#x27;, &#x27;#eb463eff&#x27;, &#x27;#eb473eff&#x27;, &#x27;#eb483eff&#x27;, &#x27;#ec493eff&#x27;, &#x27;#ec4a3eff&#x27;, &#x27;#ec4b3eff&#x27;, &#x27;#ec4c3eff&#x27;, &#x27;#ed4d3eff&#x27;, &#x27;#ed4e3eff&#x27;, &#x27;#ed4f3eff&#x27;, &#x27;#ed503eff&#x27;, &#x27;#ee513eff&#x27;, &#x27;#ee523fff&#x27;, &#x27;#ee533fff&#x27;, &#x27;#ee543fff&#x27;, &#x27;#ef553fff&#x27;, &#x27;#ef5640ff&#x27;, &#x27;#ef5740ff&#x27;, &#x27;#ef5840ff&#x27;, &#x27;#ef5940ff&#x27;, &#x27;#f05a41ff&#x27;, &#x27;#f05b41ff&#x27;, &#x27;#f05c42ff&#x27;, &#x27;#f05d42ff&#x27;, &#x27;#f05e42ff&#x27;, &#x27;#f05f42ff&#x27;, &#x27;#f16043ff&#x27;, &#x27;#f16143ff&#x27;, &#x27;#f16244ff&#x27;, &#x27;#f16344ff&#x27;, &#x27;#f16445ff&#x27;, &#x27;#f16545ff&#x27;, &#x27;#f26646ff&#x27;, &#x27;#f26747ff&#x27;, &#x27;#f26747ff&#x27;, &#x27;#f26848ff&#x27;, &#x27;#f26948ff&#x27;, &#x27;#f26b49ff&#x27;, &#x27;#f26c49ff&#x27;, &#x27;#f26d4aff&#x27;, &#x27;#f26e4bff&#x27;, &#x27;#f26f4cff&#x27;, &#x27;#f3704cff&#x27;, &#x27;#f3714dff&#x27;, &#x27;#f3724dff&#x27;, &#x27;#f3734eff&#x27;, &#x27;#f3734fff&#x27;, &#x27;#f37450ff&#x27;, &#x27;#f37550ff&#x27;, &#x27;#f37651ff&#x27;, &#x27;#f37751ff&#x27;, &#x27;#f37852ff&#x27;, &#x27;#f47953ff&#x27;, &#x27;#f47a54ff&#x27;, &#x27;#f47b54ff&#x27;, &#x27;#f47c55ff&#x27;, &#x27;#f47c56ff&#x27;, &#x27;#f47d57ff&#x27;, &#x27;#f47e57ff&#x27;, &#x27;#f47f58ff&#x27;, &#x27;#f48059ff&#x27;, &#x27;#f4815aff&#x27;, &#x27;#f4825aff&#x27;, &#x27;#f4835bff&#x27;, &#x27;#f4845cff&#x27;, &#x27;#f4845dff&#x27;, &#x27;#f4855dff&#x27;, &#x27;#f5865eff&#x27;, &#x27;#f5875fff&#x27;, &#x27;#f58860ff&#x27;, &#x27;#f58961ff&#x27;, &#x27;#f58a61ff&#x27;, &#x27;#f58b62ff&#x27;, &#x27;#f58b63ff&#x27;, &#x27;#f58c64ff&#x27;, &#x27;#f58d64ff&#x27;, &#x27;#f58f65ff&#x27;, &#x27;#f58f66ff&#x27;, &#x27;#f59067ff&#x27;, &#x27;#f59167ff&#x27;, &#x27;#f59268ff&#x27;, &#x27;#f59369ff&#x27;, &#x27;#f5946aff&#x27;, &#x27;#f5956bff&#x27;, &#x27;#f5966cff&#x27;, &#x27;#f5966dff&#x27;, &#x27;#f5976eff&#x27;, &#x27;#f5986fff&#x27;, &#x27;#f59970ff&#x27;, &#x27;#f69a70ff&#x27;, &#x27;#f69b71ff&#x27;, &#x27;#f69b72ff&#x27;, &#x27;#f69c73ff&#x27;, &#x27;#f69d74ff&#x27;, &#x27;#f69e75ff&#x27;, &#x27;#f69f76ff&#x27;, &#x27;#f6a077ff&#x27;, &#x27;#f6a177ff&#x27;, &#x27;#f6a178ff&#x27;, &#x27;#f6a279ff&#x27;, &#x27;#f6a37aff&#x27;, &#x27;#f6a47bff&#x27;, &#x27;#f6a47cff&#x27;, &#x27;#f6a57dff&#x27;, &#x27;#f6a67eff&#x27;, &#x27;#f6a77fff&#x27;, &#x27;#f6a880ff&#x27;, &#x27;#f6a981ff&#x27;, &#x27;#f6a981ff&#x27;, &#x27;#f6aa82ff&#x27;, &#x27;#f6ab83ff&#x27;, &#x27;#f6ac84ff&#x27;, &#x27;#f6ad85ff&#x27;, &#x27;#f6ae86ff&#x27;, &#x27;#f6ae87ff&#x27;, &#x27;#f6af88ff&#x27;, &#x27;#f6b089ff&#x27;, &#x27;#f6b18aff&#x27;, &#x27;#f6b28bff&#x27;, &#x27;#f6b38cff&#x27;, &#x27;#f6b38dff&#x27;, &#x27;#f6b48eff&#x27;, &#x27;#f6b590ff&#x27;, &#x27;#f6b691ff&#x27;, &#x27;#f6b792ff&#x27;, &#x27;#f6b893ff&#x27;, &#x27;#f6b894ff&#x27;, &#x27;#f6b995ff&#x27;, &#x27;#f6ba96ff&#x27;, &#x27;#f6bb97ff&#x27;, &#x27;#f6bc98ff&#x27;, &#x27;#f6bc99ff&#x27;, &#x27;#f6bd9aff&#x27;, &#x27;#f6be9bff&#x27;, &#x27;#f6bf9cff&#x27;, &#x27;#f6bf9dff&#x27;, &#x27;#f6c09eff&#x27;, &#x27;#f6c19fff&#x27;, &#x27;#f7c2a0ff&#x27;, &#x27;#f7c2a2ff&#x27;, &#x27;#f7c3a3ff&#x27;, &#x27;#f7c4a4ff&#x27;, &#x27;#f7c5a5ff&#x27;, &#x27;#f7c6a6ff&#x27;, &#x27;#f7c7a7ff&#x27;, &#x27;#f7c7a8ff&#x27;, &#x27;#f7c8a9ff&#x27;, &#x27;#f7c9aaff&#x27;, &#x27;#f7caabff&#x27;, &#x27;#f7caacff&#x27;, &#x27;#f7cbaeff&#x27;, &#x27;#f7ccafff&#x27;, &#x27;#f7cdb0ff&#x27;, &#x27;#f7cdb1ff&#x27;, &#x27;#f7ceb2ff&#x27;, &#x27;#f7cfb3ff&#x27;, &#x27;#f7d0b4ff&#x27;, &#x27;#f8d0b6ff&#x27;, &#x27;#f8d1b7ff&#x27;, &#x27;#f8d2b8ff&#x27;, &#x27;#f8d3baff&#x27;, &#x27;#f8d3bbff&#x27;, &#x27;#f8d4bcff&#x27;, &#x27;#f8d5bdff&#x27;, &#x27;#f8d6beff&#x27;, &#x27;#f8d7bfff&#x27;, &#x27;#f8d7c0ff&#x27;, &#x27;#f8d8c1ff&#x27;, &#x27;#f8d9c2ff&#x27;, &#x27;#f8dac4ff&#x27;, &#x27;#f8dac5ff&#x27;, &#x27;#f8dbc6ff&#x27;, &#x27;#f8dcc7ff&#x27;, &#x27;#f9ddc8ff&#x27;, &#x27;#f9ddc9ff&#x27;, &#x27;#f9decaff&#x27;, &#x27;#f9dfcbff&#x27;, &#x27;#f9e0ccff&#x27;, &#x27;#f9e0cdff&#x27;, &#x27;#f9e1ceff&#x27;, &#x27;#f9e2d0ff&#x27;, &#x27;#f9e3d1ff&#x27;, &#x27;#f9e3d2ff&#x27;, &#x27;#f9e4d3ff&#x27;, &#x27;#f9e5d4ff&#x27;, &#x27;#fae6d5ff&#x27;, &#x27;#fae6d6ff&#x27;, &#x27;#fae7d7ff&#x27;, &#x27;#fae8d8ff&#x27;, &#x27;#fae9d9ff&#x27;, &#x27;#fae9daff&#x27;, &#x27;#faeadcff&#x27;, &#x27;#faebddff&#x27;]);\n",
       "    \n",
       "\n",
       "    color_map_f0c0e4cc6a9f1c8075c285867aa9c1f9.x = d3.scale.linear()\n",
       "              .domain([8.028874397277832, 13.603499412536621])\n",
       "              .range([0, 450 - 50]);\n",
       "\n",
       "    color_map_f0c0e4cc6a9f1c8075c285867aa9c1f9.legend = L.control({position: &#x27;topright&#x27;});\n",
       "    color_map_f0c0e4cc6a9f1c8075c285867aa9c1f9.legend.onAdd = function (map) {var div = L.DomUtil.create(&#x27;div&#x27;, &#x27;legend&#x27;); return div};\n",
       "    color_map_f0c0e4cc6a9f1c8075c285867aa9c1f9.legend.addTo(map_cc3ed2fa6ec5a41ca74d29aed2ebd448);\n",
       "\n",
       "    color_map_f0c0e4cc6a9f1c8075c285867aa9c1f9.xAxis = d3.svg.axis()\n",
       "        .scale(color_map_f0c0e4cc6a9f1c8075c285867aa9c1f9.x)\n",
       "        .orient(&quot;top&quot;)\n",
       "        .tickSize(1)\n",
       "        .tickValues([8.028874397277832, &#x27;&#x27;, &#x27;&#x27;, &#x27;&#x27;, &#x27;&#x27;, &#x27;&#x27;, &#x27;&#x27;, &#x27;&#x27;, &#x27;&#x27;, &#x27;&#x27;, &#x27;&#x27;, &#x27;&#x27;, &#x27;&#x27;, &#x27;&#x27;, &#x27;&#x27;, &#x27;&#x27;, &#x27;&#x27;, &#x27;&#x27;, &#x27;&#x27;, &#x27;&#x27;, &#x27;&#x27;, &#x27;&#x27;, &#x27;&#x27;, &#x27;&#x27;, &#x27;&#x27;, &#x27;&#x27;, 8.597267536088532, &#x27;&#x27;, &#x27;&#x27;, &#x27;&#x27;, &#x27;&#x27;, &#x27;&#x27;, &#x27;&#x27;, &#x27;&#x27;, &#x27;&#x27;, &#x27;&#x27;, &#x27;&#x27;, &#x27;&#x27;, &#x27;&#x27;, &#x27;&#x27;, &#x27;&#x27;, &#x27;&#x27;, &#x27;&#x27;, &#x27;&#x27;, &#x27;&#x27;, &#x27;&#x27;, &#x27;&#x27;, &#x27;&#x27;, &#x27;&#x27;, &#x27;&#x27;, &#x27;&#x27;, &#x27;&#x27;, 9.165660674899232, &#x27;&#x27;, &#x27;&#x27;, &#x27;&#x27;, &#x27;&#x27;, &#x27;&#x27;, &#x27;&#x27;, &#x27;&#x27;, &#x27;&#x27;, &#x27;&#x27;, &#x27;&#x27;, &#x27;&#x27;, &#x27;&#x27;, &#x27;&#x27;, &#x27;&#x27;, &#x27;&#x27;, &#x27;&#x27;, &#x27;&#x27;, &#x27;&#x27;, &#x27;&#x27;, &#x27;&#x27;, &#x27;&#x27;, &#x27;&#x27;, &#x27;&#x27;, &#x27;&#x27;, &#x27;&#x27;, 9.734053813709933, &#x27;&#x27;, &#x27;&#x27;, &#x27;&#x27;, &#x27;&#x27;, &#x27;&#x27;, &#x27;&#x27;, &#x27;&#x27;, &#x27;&#x27;, &#x27;&#x27;, &#x27;&#x27;, &#x27;&#x27;, &#x27;&#x27;, &#x27;&#x27;, &#x27;&#x27;, &#x27;&#x27;, &#x27;&#x27;, &#x27;&#x27;, &#x27;&#x27;, &#x27;&#x27;, &#x27;&#x27;, &#x27;&#x27;, &#x27;&#x27;, &#x27;&#x27;, &#x27;&#x27;, &#x27;&#x27;, 10.302446952520633, &#x27;&#x27;, &#x27;&#x27;, &#x27;&#x27;, &#x27;&#x27;, &#x27;&#x27;, &#x27;&#x27;, &#x27;&#x27;, &#x27;&#x27;, &#x27;&#x27;, &#x27;&#x27;, &#x27;&#x27;, &#x27;&#x27;, &#x27;&#x27;, &#x27;&#x27;, &#x27;&#x27;, &#x27;&#x27;, &#x27;&#x27;, &#x27;&#x27;, &#x27;&#x27;, &#x27;&#x27;, &#x27;&#x27;, &#x27;&#x27;, &#x27;&#x27;, &#x27;&#x27;, &#x27;&#x27;, 10.870840091331333, &#x27;&#x27;, &#x27;&#x27;, &#x27;&#x27;, &#x27;&#x27;, &#x27;&#x27;, &#x27;&#x27;, &#x27;&#x27;, &#x27;&#x27;, &#x27;&#x27;, &#x27;&#x27;, &#x27;&#x27;, &#x27;&#x27;, &#x27;&#x27;, &#x27;&#x27;, &#x27;&#x27;, &#x27;&#x27;, &#x27;&#x27;, &#x27;&#x27;, &#x27;&#x27;, &#x27;&#x27;, &#x27;&#x27;, &#x27;&#x27;, &#x27;&#x27;, &#x27;&#x27;, &#x27;&#x27;, 11.439233230142033, &#x27;&#x27;, &#x27;&#x27;, &#x27;&#x27;, &#x27;&#x27;, &#x27;&#x27;, &#x27;&#x27;, &#x27;&#x27;, &#x27;&#x27;, &#x27;&#x27;, &#x27;&#x27;, &#x27;&#x27;, &#x27;&#x27;, &#x27;&#x27;, &#x27;&#x27;, &#x27;&#x27;, &#x27;&#x27;, &#x27;&#x27;, &#x27;&#x27;, &#x27;&#x27;, &#x27;&#x27;, &#x27;&#x27;, &#x27;&#x27;, &#x27;&#x27;, &#x27;&#x27;, &#x27;&#x27;, 12.007626368952732, &#x27;&#x27;, &#x27;&#x27;, &#x27;&#x27;, &#x27;&#x27;, &#x27;&#x27;, &#x27;&#x27;, &#x27;&#x27;, &#x27;&#x27;, &#x27;&#x27;, &#x27;&#x27;, &#x27;&#x27;, &#x27;&#x27;, &#x27;&#x27;, &#x27;&#x27;, &#x27;&#x27;, &#x27;&#x27;, &#x27;&#x27;, &#x27;&#x27;, &#x27;&#x27;, &#x27;&#x27;, &#x27;&#x27;, &#x27;&#x27;, &#x27;&#x27;, &#x27;&#x27;, &#x27;&#x27;, 12.576019507763434, &#x27;&#x27;, &#x27;&#x27;, &#x27;&#x27;, &#x27;&#x27;, &#x27;&#x27;, &#x27;&#x27;, &#x27;&#x27;, &#x27;&#x27;, &#x27;&#x27;, &#x27;&#x27;, &#x27;&#x27;, &#x27;&#x27;, &#x27;&#x27;, &#x27;&#x27;, &#x27;&#x27;, &#x27;&#x27;, &#x27;&#x27;, &#x27;&#x27;, &#x27;&#x27;, &#x27;&#x27;, &#x27;&#x27;, &#x27;&#x27;, &#x27;&#x27;, &#x27;&#x27;, &#x27;&#x27;, 13.144412646574132, &#x27;&#x27;, &#x27;&#x27;, &#x27;&#x27;, &#x27;&#x27;, &#x27;&#x27;, &#x27;&#x27;, &#x27;&#x27;, &#x27;&#x27;, &#x27;&#x27;, &#x27;&#x27;, &#x27;&#x27;, &#x27;&#x27;, &#x27;&#x27;, &#x27;&#x27;, &#x27;&#x27;, &#x27;&#x27;, &#x27;&#x27;, &#x27;&#x27;, &#x27;&#x27;, &#x27;&#x27;, &#x27;&#x27;, &#x27;&#x27;, &#x27;&#x27;, &#x27;&#x27;, &#x27;&#x27;]);\n",
       "\n",
       "    color_map_f0c0e4cc6a9f1c8075c285867aa9c1f9.svg = d3.select(&quot;.legend.leaflet-control&quot;).append(&quot;svg&quot;)\n",
       "        .attr(&quot;id&quot;, &#x27;legend&#x27;)\n",
       "        .attr(&quot;width&quot;, 450)\n",
       "        .attr(&quot;height&quot;, 40);\n",
       "\n",
       "    color_map_f0c0e4cc6a9f1c8075c285867aa9c1f9.g = color_map_f0c0e4cc6a9f1c8075c285867aa9c1f9.svg.append(&quot;g&quot;)\n",
       "        .attr(&quot;class&quot;, &quot;key&quot;)\n",
       "        .attr(&quot;transform&quot;, &quot;translate(25,16)&quot;);\n",
       "\n",
       "    color_map_f0c0e4cc6a9f1c8075c285867aa9c1f9.g.selectAll(&quot;rect&quot;)\n",
       "        .data(color_map_f0c0e4cc6a9f1c8075c285867aa9c1f9.color.range().map(function(d, i) {\n",
       "          return {\n",
       "            x0: i ? color_map_f0c0e4cc6a9f1c8075c285867aa9c1f9.x(color_map_f0c0e4cc6a9f1c8075c285867aa9c1f9.color.domain()[i - 1]) : color_map_f0c0e4cc6a9f1c8075c285867aa9c1f9.x.range()[0],\n",
       "            x1: i &lt; color_map_f0c0e4cc6a9f1c8075c285867aa9c1f9.color.domain().length ? color_map_f0c0e4cc6a9f1c8075c285867aa9c1f9.x(color_map_f0c0e4cc6a9f1c8075c285867aa9c1f9.color.domain()[i]) : color_map_f0c0e4cc6a9f1c8075c285867aa9c1f9.x.range()[1],\n",
       "            z: d\n",
       "          };\n",
       "        }))\n",
       "      .enter().append(&quot;rect&quot;)\n",
       "        .attr(&quot;height&quot;, 40 - 30)\n",
       "        .attr(&quot;x&quot;, function(d) { return d.x0; })\n",
       "        .attr(&quot;width&quot;, function(d) { return d.x1 - d.x0; })\n",
       "        .style(&quot;fill&quot;, function(d) { return d.z; });\n",
       "\n",
       "    color_map_f0c0e4cc6a9f1c8075c285867aa9c1f9.g.call(color_map_f0c0e4cc6a9f1c8075c285867aa9c1f9.xAxis).append(&quot;text&quot;)\n",
       "        .attr(&quot;class&quot;, &quot;caption&quot;)\n",
       "        .attr(&quot;y&quot;, 21)\n",
       "        .text(&quot;to&quot;);\n",
       "&lt;/script&gt;\n",
       "&lt;/html&gt;\" style=\"position:absolute;width:100%;height:100%;left:0;top:0;border:none !important;\" allowfullscreen webkitallowfullscreen mozallowfullscreen></iframe></div></div>"
      ],
      "text/plain": [
       "<folium.folium.Map at 0x1f52f790f10>"
      ]
     },
     "execution_count": 12,
     "metadata": {},
     "output_type": "execute_result"
    }
   ],
   "source": [
    "gdf_before.explore('to')"
   ]
  },
  {
   "cell_type": "markdown",
   "metadata": {},
   "source": [
    "## 기준 시점 이후 3년치의 데이터들을 가공하여 격자별 평균 수온을 산출"
   ]
  },
  {
   "cell_type": "code",
   "execution_count": 13,
   "metadata": {},
   "outputs": [],
   "source": [
    "# 기준 시점 이후 3년의 여름철 데이터 로딩\n",
    "# 폴더 경로 설정\n",
    "folder_path = '../data/copernicus/after'\n",
    "df = {}\n",
    "\n",
    "# 해당 폴더 내의 모든 파일을 읽어서 전처리 진행\n",
    "for idx, filename in enumerate(os.listdir(folder_path)):\n",
    "    file_path = os.path.join(folder_path, filename)\n",
    "    # 데이터 로딩\n",
    "    ds = xr.open_dataset(file_path)\n",
    "    # dataset에서 좌표 범위 데이터를 추출\n",
    "    ds = ds.sel(longitude=slice(lon_min, lon_max), latitude=slice(lat_min, lat_max))\n",
    "    # Pandas DataFrame으로 변환 \n",
    "    df[str(idx)] = ds.to_dataframe().reset_index()\n",
    "    # 표층(depth = 0) 데이터만 추출\n",
    "    df[str(idx)] = df[str(idx)][ df[str(idx)]['depth'] == 0   ]    \n",
    "    # print(str(idx))"
   ]
  },
  {
   "cell_type": "code",
   "execution_count": 14,
   "metadata": {},
   "outputs": [],
   "source": [
    "# 기준 시점 이후 3년치 데이터를 병합 \n",
    "\n",
    "# df 딕셔너리에 저장된 DataFrame들을 리스트에 모으기\n",
    "dataframes = [df[str(i)] for i in range(8)]\n",
    "\n",
    "# pandas.concat()을 사용하여 모든 DataFrame 병합\n",
    "df_after = pd.concat(dataframes, ignore_index=True)\t"
   ]
  },
  {
   "cell_type": "code",
   "execution_count": 15,
   "metadata": {},
   "outputs": [
    {
     "name": "stdout",
     "output_type": "stream",
     "text": [
      "<class 'pandas.core.frame.DataFrame'>\n",
      "RangeIndex: 144 entries, 0 to 143\n",
      "Data columns (total 3 columns):\n",
      " #   Column     Non-Null Count  Dtype  \n",
      "---  ------     --------------  -----  \n",
      " 0   latitude   144 non-null    float32\n",
      " 1   longitude  144 non-null    float32\n",
      " 2   to         144 non-null    float32\n",
      "dtypes: float32(3)\n",
      "memory usage: 1.8 KB\n"
     ]
    },
    {
     "data": {
      "text/html": [
       "<div>\n",
       "<style scoped>\n",
       "    .dataframe tbody tr th:only-of-type {\n",
       "        vertical-align: middle;\n",
       "    }\n",
       "\n",
       "    .dataframe tbody tr th {\n",
       "        vertical-align: top;\n",
       "    }\n",
       "\n",
       "    .dataframe thead th {\n",
       "        text-align: right;\n",
       "    }\n",
       "</style>\n",
       "<table border=\"1\" class=\"dataframe\">\n",
       "  <thead>\n",
       "    <tr style=\"text-align: right;\">\n",
       "      <th></th>\n",
       "      <th>latitude</th>\n",
       "      <th>longitude</th>\n",
       "      <th>to</th>\n",
       "    </tr>\n",
       "  </thead>\n",
       "  <tbody>\n",
       "    <tr>\n",
       "      <th>0</th>\n",
       "      <td>36.125000</td>\n",
       "      <td>130.125000</td>\n",
       "      <td>13.524750</td>\n",
       "    </tr>\n",
       "    <tr>\n",
       "      <th>1</th>\n",
       "      <td>36.125000</td>\n",
       "      <td>130.375000</td>\n",
       "      <td>13.436749</td>\n",
       "    </tr>\n",
       "    <tr>\n",
       "      <th>2</th>\n",
       "      <td>36.125000</td>\n",
       "      <td>130.625000</td>\n",
       "      <td>13.457375</td>\n",
       "    </tr>\n",
       "    <tr>\n",
       "      <th>3</th>\n",
       "      <td>36.125000</td>\n",
       "      <td>130.875000</td>\n",
       "      <td>13.299874</td>\n",
       "    </tr>\n",
       "    <tr>\n",
       "      <th>4</th>\n",
       "      <td>36.125000</td>\n",
       "      <td>131.125000</td>\n",
       "      <td>13.116000</td>\n",
       "    </tr>\n",
       "  </tbody>\n",
       "</table>\n",
       "</div>"
      ],
      "text/plain": [
       "   latitude  longitude        to\n",
       "0 36.125000 130.125000 13.524750\n",
       "1 36.125000 130.375000 13.436749\n",
       "2 36.125000 130.625000 13.457375\n",
       "3 36.125000 130.875000 13.299874\n",
       "4 36.125000 131.125000 13.116000"
      ]
     },
     "execution_count": 15,
     "metadata": {},
     "output_type": "execute_result"
    }
   ],
   "source": [
    "# 기준 시점 이후 3년치 데이터 좌표(격자)별 평균 수온을 산출\n",
    "df_after2 = df_after.groupby(['latitude', 'longitude'])['to'].mean().reset_index()\n",
    "df_after2.info()\n",
    "df_after2.head()"
   ]
  },
  {
   "cell_type": "code",
   "execution_count": 16,
   "metadata": {},
   "outputs": [],
   "source": [
    "# 각 좌표에 대한 폴리곤 생성\n",
    "geom = df_after2.apply(lambda row: create_polygon(row['latitude'], row['longitude']), axis=1)\n",
    "# DataFrame을 GeoDataFrame으로 변환\n",
    "gdf_after = gpd.GeoDataFrame(df_after2, geometry=geom, crs='4326')"
   ]
  },
  {
   "cell_type": "code",
   "execution_count": 17,
   "metadata": {},
   "outputs": [
    {
     "name": "stderr",
     "output_type": "stream",
     "text": [
      "c:\\Users\\leesh\\AppData\\Local\\Programs\\Python\\Python311\\Lib\\site-packages\\geopandas\\explore.py:400: FutureWarning: is_categorical_dtype is deprecated and will be removed in a future version. Use isinstance(dtype, CategoricalDtype) instead\n",
      "  elif pd.api.types.is_categorical_dtype(gdf[column]):\n"
     ]
    },
    {
     "data": {
      "text/html": [
       "<div style=\"width:100%;\"><div style=\"position:relative;width:100%;height:0;padding-bottom:60%;\"><span style=\"color:#565656\">Make this Notebook Trusted to load map: File -> Trust Notebook</span><iframe srcdoc=\"&lt;!DOCTYPE html&gt;\n",
       "&lt;html&gt;\n",
       "&lt;head&gt;\n",
       "    \n",
       "    &lt;meta http-equiv=&quot;content-type&quot; content=&quot;text/html; charset=UTF-8&quot; /&gt;\n",
       "    \n",
       "        &lt;script&gt;\n",
       "            L_NO_TOUCH = false;\n",
       "            L_DISABLE_3D = false;\n",
       "        &lt;/script&gt;\n",
       "    \n",
       "    &lt;style&gt;html, body {width: 100%;height: 100%;margin: 0;padding: 0;}&lt;/style&gt;\n",
       "    &lt;style&gt;#map {position:absolute;top:0;bottom:0;right:0;left:0;}&lt;/style&gt;\n",
       "    &lt;script src=&quot;https://cdn.jsdelivr.net/npm/leaflet@1.9.3/dist/leaflet.js&quot;&gt;&lt;/script&gt;\n",
       "    &lt;script src=&quot;https://code.jquery.com/jquery-1.12.4.min.js&quot;&gt;&lt;/script&gt;\n",
       "    &lt;script src=&quot;https://cdn.jsdelivr.net/npm/bootstrap@5.2.2/dist/js/bootstrap.bundle.min.js&quot;&gt;&lt;/script&gt;\n",
       "    &lt;script src=&quot;https://cdnjs.cloudflare.com/ajax/libs/Leaflet.awesome-markers/2.0.2/leaflet.awesome-markers.js&quot;&gt;&lt;/script&gt;\n",
       "    &lt;link rel=&quot;stylesheet&quot; href=&quot;https://cdn.jsdelivr.net/npm/leaflet@1.9.3/dist/leaflet.css&quot;/&gt;\n",
       "    &lt;link rel=&quot;stylesheet&quot; href=&quot;https://cdn.jsdelivr.net/npm/bootstrap@5.2.2/dist/css/bootstrap.min.css&quot;/&gt;\n",
       "    &lt;link rel=&quot;stylesheet&quot; href=&quot;https://netdna.bootstrapcdn.com/bootstrap/3.0.0/css/bootstrap.min.css&quot;/&gt;\n",
       "    &lt;link rel=&quot;stylesheet&quot; href=&quot;https://cdn.jsdelivr.net/npm/@fortawesome/fontawesome-free@6.2.0/css/all.min.css&quot;/&gt;\n",
       "    &lt;link rel=&quot;stylesheet&quot; href=&quot;https://cdnjs.cloudflare.com/ajax/libs/Leaflet.awesome-markers/2.0.2/leaflet.awesome-markers.css&quot;/&gt;\n",
       "    &lt;link rel=&quot;stylesheet&quot; href=&quot;https://cdn.jsdelivr.net/gh/python-visualization/folium/folium/templates/leaflet.awesome.rotate.min.css&quot;/&gt;\n",
       "    \n",
       "            &lt;meta name=&quot;viewport&quot; content=&quot;width=device-width,\n",
       "                initial-scale=1.0, maximum-scale=1.0, user-scalable=no&quot; /&gt;\n",
       "            &lt;style&gt;\n",
       "                #map_dc850fd501f7c0835ea487210094734c {\n",
       "                    position: relative;\n",
       "                    width: 100.0%;\n",
       "                    height: 100.0%;\n",
       "                    left: 0.0%;\n",
       "                    top: 0.0%;\n",
       "                }\n",
       "                .leaflet-container { font-size: 1rem; }\n",
       "            &lt;/style&gt;\n",
       "        \n",
       "    \n",
       "                    &lt;style&gt;\n",
       "                        .foliumtooltip {\n",
       "                            \n",
       "                        }\n",
       "                       .foliumtooltip table{\n",
       "                            margin: auto;\n",
       "                        }\n",
       "                        .foliumtooltip tr{\n",
       "                            text-align: left;\n",
       "                        }\n",
       "                        .foliumtooltip th{\n",
       "                            padding: 2px; padding-right: 8px;\n",
       "                        }\n",
       "                    &lt;/style&gt;\n",
       "            \n",
       "    &lt;script src=&quot;https://cdnjs.cloudflare.com/ajax/libs/d3/3.5.5/d3.min.js&quot;&gt;&lt;/script&gt;\n",
       "&lt;/head&gt;\n",
       "&lt;body&gt;\n",
       "    \n",
       "    \n",
       "            &lt;div class=&quot;folium-map&quot; id=&quot;map_dc850fd501f7c0835ea487210094734c&quot; &gt;&lt;/div&gt;\n",
       "        \n",
       "&lt;/body&gt;\n",
       "&lt;script&gt;\n",
       "    \n",
       "    \n",
       "            var map_dc850fd501f7c0835ea487210094734c = L.map(\n",
       "                &quot;map_dc850fd501f7c0835ea487210094734c&quot;,\n",
       "                {\n",
       "                    center: [37.625, 131.625],\n",
       "                    crs: L.CRS.EPSG3857,\n",
       "                    zoom: 10,\n",
       "                    zoomControl: true,\n",
       "                    preferCanvas: false,\n",
       "                }\n",
       "            );\n",
       "            L.control.scale().addTo(map_dc850fd501f7c0835ea487210094734c);\n",
       "\n",
       "            \n",
       "\n",
       "        \n",
       "    \n",
       "            var tile_layer_3644ac720741f96bcaccd6582f096ebd = L.tileLayer(\n",
       "                &quot;https://{s}.tile.openstreetmap.org/{z}/{x}/{y}.png&quot;,\n",
       "                {&quot;attribution&quot;: &quot;Data by \\u0026copy; \\u003ca target=\\&quot;_blank\\&quot; href=\\&quot;http://openstreetmap.org\\&quot;\\u003eOpenStreetMap\\u003c/a\\u003e, under \\u003ca target=\\&quot;_blank\\&quot; href=\\&quot;http://www.openstreetmap.org/copyright\\&quot;\\u003eODbL\\u003c/a\\u003e.&quot;, &quot;detectRetina&quot;: false, &quot;maxNativeZoom&quot;: 18, &quot;maxZoom&quot;: 18, &quot;minZoom&quot;: 0, &quot;noWrap&quot;: false, &quot;opacity&quot;: 1, &quot;subdomains&quot;: &quot;abc&quot;, &quot;tms&quot;: false}\n",
       "            ).addTo(map_dc850fd501f7c0835ea487210094734c);\n",
       "        \n",
       "    \n",
       "            map_dc850fd501f7c0835ea487210094734c.fitBounds(\n",
       "                [[36.125, 130.125], [39.125, 133.125]],\n",
       "                {}\n",
       "            );\n",
       "        \n",
       "    \n",
       "        function geo_json_60283d48c76ffeee622361e6222d1b2d_styler(feature) {\n",
       "            switch(feature.id) {\n",
       "                case &quot;0&quot;: \n",
       "                    return {&quot;color&quot;: &quot;#f6b995&quot;, &quot;fillColor&quot;: &quot;#f6b995&quot;, &quot;fillOpacity&quot;: 0.5, &quot;weight&quot;: 2};\n",
       "                case &quot;1&quot;: \n",
       "                    return {&quot;color&quot;: &quot;#f6b38d&quot;, &quot;fillColor&quot;: &quot;#f6b38d&quot;, &quot;fillOpacity&quot;: 0.5, &quot;weight&quot;: 2};\n",
       "                case &quot;2&quot;: \n",
       "                    return {&quot;color&quot;: &quot;#f6b48f&quot;, &quot;fillColor&quot;: &quot;#f6b48f&quot;, &quot;fillOpacity&quot;: 0.5, &quot;weight&quot;: 2};\n",
       "                case &quot;3&quot;: \n",
       "                    return {&quot;color&quot;: &quot;#f6a981&quot;, &quot;fillColor&quot;: &quot;#f6a981&quot;, &quot;fillOpacity&quot;: 0.5, &quot;weight&quot;: 2};\n",
       "                case &quot;4&quot;: case &quot;7&quot;: case &quot;48&quot;: \n",
       "                    return {&quot;color&quot;: &quot;#f69c73&quot;, &quot;fillColor&quot;: &quot;#f69c73&quot;, &quot;fillOpacity&quot;: 0.5, &quot;weight&quot;: 2};\n",
       "                case &quot;5&quot;: case &quot;13&quot;: case &quot;24&quot;: case &quot;37&quot;: \n",
       "                    return {&quot;color&quot;: &quot;#f6a077&quot;, &quot;fillColor&quot;: &quot;#f6a077&quot;, &quot;fillOpacity&quot;: 0.5, &quot;weight&quot;: 2};\n",
       "                case &quot;6&quot;: \n",
       "                    return {&quot;color&quot;: &quot;#f6a178&quot;, &quot;fillColor&quot;: &quot;#f6a178&quot;, &quot;fillOpacity&quot;: 0.5, &quot;weight&quot;: 2};\n",
       "                case &quot;8&quot;: case &quot;21&quot;: case &quot;34&quot;: case &quot;36&quot;: case &quot;47&quot;: \n",
       "                    return {&quot;color&quot;: &quot;#f6a880&quot;, &quot;fillColor&quot;: &quot;#f6a880&quot;, &quot;fillOpacity&quot;: 0.5, &quot;weight&quot;: 2};\n",
       "                case &quot;9&quot;: \n",
       "                    return {&quot;color&quot;: &quot;#f7c4a4&quot;, &quot;fillColor&quot;: &quot;#f7c4a4&quot;, &quot;fillOpacity&quot;: 0.5, &quot;weight&quot;: 2};\n",
       "                case &quot;10&quot;: \n",
       "                    return {&quot;color&quot;: &quot;#f9dfcb&quot;, &quot;fillColor&quot;: &quot;#f9dfcb&quot;, &quot;fillOpacity&quot;: 0.5, &quot;weight&quot;: 2};\n",
       "                case &quot;11&quot;: \n",
       "                    return {&quot;color&quot;: &quot;#faebdd&quot;, &quot;fillColor&quot;: &quot;#faebdd&quot;, &quot;fillOpacity&quot;: 0.5, &quot;weight&quot;: 2};\n",
       "                case &quot;12&quot;: \n",
       "                    return {&quot;color&quot;: &quot;#f6b18b&quot;, &quot;fillColor&quot;: &quot;#f6b18b&quot;, &quot;fillOpacity&quot;: 0.5, &quot;weight&quot;: 2};\n",
       "                case &quot;14&quot;: \n",
       "                    return {&quot;color&quot;: &quot;#f69b71&quot;, &quot;fillColor&quot;: &quot;#f69b71&quot;, &quot;fillOpacity&quot;: 0.5, &quot;weight&quot;: 2};\n",
       "                case &quot;15&quot;: \n",
       "                    return {&quot;color&quot;: &quot;#f58b63&quot;, &quot;fillColor&quot;: &quot;#f58b63&quot;, &quot;fillOpacity&quot;: 0.5, &quot;weight&quot;: 2};\n",
       "                case &quot;16&quot;: \n",
       "                    return {&quot;color&quot;: &quot;#f4845d&quot;, &quot;fillColor&quot;: &quot;#f4845d&quot;, &quot;fillOpacity&quot;: 0.5, &quot;weight&quot;: 2};\n",
       "                case &quot;17&quot;: case &quot;18&quot;: case &quot;19&quot;: \n",
       "                    return {&quot;color&quot;: &quot;#f4835b&quot;, &quot;fillColor&quot;: &quot;#f4835b&quot;, &quot;fillOpacity&quot;: 0.5, &quot;weight&quot;: 2};\n",
       "                case &quot;20&quot;: \n",
       "                    return {&quot;color&quot;: &quot;#f58d64&quot;, &quot;fillColor&quot;: &quot;#f58d64&quot;, &quot;fillOpacity&quot;: 0.5, &quot;weight&quot;: 2};\n",
       "                case &quot;22&quot;: \n",
       "                    return {&quot;color&quot;: &quot;#f7c2a2&quot;, &quot;fillColor&quot;: &quot;#f7c2a2&quot;, &quot;fillOpacity&quot;: 0.5, &quot;weight&quot;: 2};\n",
       "                case &quot;23&quot;: \n",
       "                    return {&quot;color&quot;: &quot;#f8d4bc&quot;, &quot;fillColor&quot;: &quot;#f8d4bc&quot;, &quot;fillOpacity&quot;: 0.5, &quot;weight&quot;: 2};\n",
       "                case &quot;25&quot;: \n",
       "                    return {&quot;color&quot;: &quot;#f5976e&quot;, &quot;fillColor&quot;: &quot;#f5976e&quot;, &quot;fillOpacity&quot;: 0.5, &quot;weight&quot;: 2};\n",
       "                case &quot;26&quot;: \n",
       "                    return {&quot;color&quot;: &quot;#f58a61&quot;, &quot;fillColor&quot;: &quot;#f58a61&quot;, &quot;fillOpacity&quot;: 0.5, &quot;weight&quot;: 2};\n",
       "                case &quot;27&quot;: case &quot;33&quot;: \n",
       "                    return {&quot;color&quot;: &quot;#f4815a&quot;, &quot;fillColor&quot;: &quot;#f4815a&quot;, &quot;fillOpacity&quot;: 0.5, &quot;weight&quot;: 2};\n",
       "                case &quot;28&quot;: case &quot;72&quot;: \n",
       "                    return {&quot;color&quot;: &quot;#f37852&quot;, &quot;fillColor&quot;: &quot;#f37852&quot;, &quot;fillOpacity&quot;: 0.5, &quot;weight&quot;: 2};\n",
       "                case &quot;29&quot;: case &quot;44&quot;: case &quot;54&quot;: case &quot;86&quot;: \n",
       "                    return {&quot;color&quot;: &quot;#f16244&quot;, &quot;fillColor&quot;: &quot;#f16244&quot;, &quot;fillOpacity&quot;: 0.5, &quot;weight&quot;: 2};\n",
       "                case &quot;30&quot;: case &quot;41&quot;: \n",
       "                    return {&quot;color&quot;: &quot;#f05c42&quot;, &quot;fillColor&quot;: &quot;#f05c42&quot;, &quot;fillOpacity&quot;: 0.5, &quot;weight&quot;: 2};\n",
       "                case &quot;31&quot;: case &quot;43&quot;: case &quot;66&quot;: case &quot;84&quot;: \n",
       "                    return {&quot;color&quot;: &quot;#f06043&quot;, &quot;fillColor&quot;: &quot;#f06043&quot;, &quot;fillOpacity&quot;: 0.5, &quot;weight&quot;: 2};\n",
       "                case &quot;32&quot;: \n",
       "                    return {&quot;color&quot;: &quot;#f3714d&quot;, &quot;fillColor&quot;: &quot;#f3714d&quot;, &quot;fillOpacity&quot;: 0.5, &quot;weight&quot;: 2};\n",
       "                case &quot;35&quot;: \n",
       "                    return {&quot;color&quot;: &quot;#f6bc99&quot;, &quot;fillColor&quot;: &quot;#f6bc99&quot;, &quot;fillOpacity&quot;: 0.5, &quot;weight&quot;: 2};\n",
       "                case &quot;38&quot;: case &quot;60&quot;: \n",
       "                    return {&quot;color&quot;: &quot;#f4865e&quot;, &quot;fillColor&quot;: &quot;#f4865e&quot;, &quot;fillOpacity&quot;: 0.5, &quot;weight&quot;: 2};\n",
       "                case &quot;39&quot;: \n",
       "                    return {&quot;color&quot;: &quot;#f26f4c&quot;, &quot;fillColor&quot;: &quot;#f26f4c&quot;, &quot;fillOpacity&quot;: 0.5, &quot;weight&quot;: 2};\n",
       "                case &quot;46&quot;: \n",
       "                    return {&quot;color&quot;: &quot;#f58860&quot;, &quot;fillColor&quot;: &quot;#f58860&quot;, &quot;fillOpacity&quot;: 0.5, &quot;weight&quot;: 2};\n",
       "                case &quot;49&quot;: \n",
       "                    return {&quot;color&quot;: &quot;#f58f66&quot;, &quot;fillColor&quot;: &quot;#f58f66&quot;, &quot;fillOpacity&quot;: 0.5, &quot;weight&quot;: 2};\n",
       "                case &quot;50&quot;: \n",
       "                    return {&quot;color&quot;: &quot;#f26d4b&quot;, &quot;fillColor&quot;: &quot;#f26d4b&quot;, &quot;fillOpacity&quot;: 0.5, &quot;weight&quot;: 2};\n",
       "                case &quot;51&quot;: case &quot;71&quot;: case &quot;79&quot;: case &quot;80&quot;: \n",
       "                    return {&quot;color&quot;: &quot;#ee523f&quot;, &quot;fillColor&quot;: &quot;#ee523f&quot;, &quot;fillOpacity&quot;: 0.5, &quot;weight&quot;: 2};\n",
       "                case &quot;52&quot;: case &quot;53&quot;: \n",
       "                    return {&quot;color&quot;: &quot;#ef5640&quot;, &quot;fillColor&quot;: &quot;#ef5640&quot;, &quot;fillOpacity&quot;: 0.5, &quot;weight&quot;: 2};\n",
       "                case &quot;55&quot;: case &quot;85&quot;: \n",
       "                    return {&quot;color&quot;: &quot;#f16445&quot;, &quot;fillColor&quot;: &quot;#f16445&quot;, &quot;fillOpacity&quot;: 0.5, &quot;weight&quot;: 2};\n",
       "                case &quot;57&quot;: case &quot;68&quot;: case &quot;75&quot;: \n",
       "                    return {&quot;color&quot;: &quot;#f05e42&quot;, &quot;fillColor&quot;: &quot;#f05e42&quot;, &quot;fillOpacity&quot;: 0.5, &quot;weight&quot;: 2};\n",
       "                case &quot;59&quot;: \n",
       "                    return {&quot;color&quot;: &quot;#f47d57&quot;, &quot;fillColor&quot;: &quot;#f47d57&quot;, &quot;fillOpacity&quot;: 0.5, &quot;weight&quot;: 2};\n",
       "                case &quot;61&quot;: \n",
       "                    return {&quot;color&quot;: &quot;#f47c55&quot;, &quot;fillColor&quot;: &quot;#f47c55&quot;, &quot;fillOpacity&quot;: 0.5, &quot;weight&quot;: 2};\n",
       "                case &quot;63&quot;: case &quot;69&quot;: case &quot;87&quot;: \n",
       "                    return {&quot;color&quot;: &quot;#ee543f&quot;, &quot;fillColor&quot;: &quot;#ee543f&quot;, &quot;fillOpacity&quot;: 0.5, &quot;weight&quot;: 2};\n",
       "                case &quot;64&quot;: case &quot;77&quot;: \n",
       "                    return {&quot;color&quot;: &quot;#ec4a3e&quot;, &quot;fillColor&quot;: &quot;#ec4a3e&quot;, &quot;fillOpacity&quot;: 0.5, &quot;weight&quot;: 2};\n",
       "                case &quot;65&quot;: case &quot;70&quot;: case &quot;97&quot;: \n",
       "                    return {&quot;color&quot;: &quot;#ec4c3e&quot;, &quot;fillColor&quot;: &quot;#ec4c3e&quot;, &quot;fillOpacity&quot;: 0.5, &quot;weight&quot;: 2};\n",
       "                case &quot;67&quot;: \n",
       "                    return {&quot;color&quot;: &quot;#f26948&quot;, &quot;fillColor&quot;: &quot;#f26948&quot;, &quot;fillOpacity&quot;: 0.5, &quot;weight&quot;: 2};\n",
       "                case &quot;73&quot;: \n",
       "                    return {&quot;color&quot;: &quot;#f37651&quot;, &quot;fillColor&quot;: &quot;#f37651&quot;, &quot;fillOpacity&quot;: 0.5, &quot;weight&quot;: 2};\n",
       "                case &quot;74&quot;: \n",
       "                    return {&quot;color&quot;: &quot;#f3734e&quot;, &quot;fillColor&quot;: &quot;#f3734e&quot;, &quot;fillOpacity&quot;: 0.5, &quot;weight&quot;: 2};\n",
       "                case &quot;76&quot;: \n",
       "                    return {&quot;color&quot;: &quot;#ed4e3e&quot;, &quot;fillColor&quot;: &quot;#ed4e3e&quot;, &quot;fillOpacity&quot;: 0.5, &quot;weight&quot;: 2};\n",
       "                case &quot;78&quot;: case &quot;96&quot;: \n",
       "                    return {&quot;color&quot;: &quot;#ed503e&quot;, &quot;fillColor&quot;: &quot;#ed503e&quot;, &quot;fillOpacity&quot;: 0.5, &quot;weight&quot;: 2};\n",
       "                case &quot;81&quot;: case &quot;92&quot;: \n",
       "                    return {&quot;color&quot;: &quot;#ea443e&quot;, &quot;fillColor&quot;: &quot;#ea443e&quot;, &quot;fillOpacity&quot;: 0.5, &quot;weight&quot;: 2};\n",
       "                case &quot;82&quot;: \n",
       "                    return {&quot;color&quot;: &quot;#e83f3f&quot;, &quot;fillColor&quot;: &quot;#e83f3f&quot;, &quot;fillOpacity&quot;: 0.5, &quot;weight&quot;: 2};\n",
       "                case &quot;83&quot;: case &quot;101&quot;: \n",
       "                    return {&quot;color&quot;: &quot;#e33641&quot;, &quot;fillColor&quot;: &quot;#e33641&quot;, &quot;fillOpacity&quot;: 0.5, &quot;weight&quot;: 2};\n",
       "                case &quot;88&quot;: case &quot;91&quot;: case &quot;102&quot;: \n",
       "                    return {&quot;color&quot;: &quot;#e8403e&quot;, &quot;fillColor&quot;: &quot;#e8403e&quot;, &quot;fillOpacity&quot;: 0.5, &quot;weight&quot;: 2};\n",
       "                case &quot;89&quot;: \n",
       "                    return {&quot;color&quot;: &quot;#e63b40&quot;, &quot;fillColor&quot;: &quot;#e63b40&quot;, &quot;fillOpacity&quot;: 0.5, &quot;weight&quot;: 2};\n",
       "                case &quot;90&quot;: \n",
       "                    return {&quot;color&quot;: &quot;#e9423e&quot;, &quot;fillColor&quot;: &quot;#e9423e&quot;, &quot;fillOpacity&quot;: 0.5, &quot;weight&quot;: 2};\n",
       "                case &quot;93&quot;: \n",
       "                    return {&quot;color&quot;: &quot;#e23442&quot;, &quot;fillColor&quot;: &quot;#e23442&quot;, &quot;fillOpacity&quot;: 0.5, &quot;weight&quot;: 2};\n",
       "                case &quot;94&quot;: \n",
       "                    return {&quot;color&quot;: &quot;#d3214b&quot;, &quot;fillColor&quot;: &quot;#d3214b&quot;, &quot;fillOpacity&quot;: 0.5, &quot;weight&quot;: 2};\n",
       "                case &quot;95&quot;: case &quot;112&quot;: case &quot;114&quot;: \n",
       "                    return {&quot;color&quot;: &quot;#ce1d4e&quot;, &quot;fillColor&quot;: &quot;#ce1d4e&quot;, &quot;fillOpacity&quot;: 0.5, &quot;weight&quot;: 2};\n",
       "                case &quot;98&quot;: \n",
       "                    return {&quot;color&quot;: &quot;#e53940&quot;, &quot;fillColor&quot;: &quot;#e53940&quot;, &quot;fillOpacity&quot;: 0.5, &quot;weight&quot;: 2};\n",
       "                case &quot;99&quot;: \n",
       "                    return {&quot;color&quot;: &quot;#e13342&quot;, &quot;fillColor&quot;: &quot;#e13342&quot;, &quot;fillOpacity&quot;: 0.5, &quot;weight&quot;: 2};\n",
       "                case &quot;100&quot;: case &quot;103&quot;: \n",
       "                    return {&quot;color&quot;: &quot;#e03143&quot;, &quot;fillColor&quot;: &quot;#e03143&quot;, &quot;fillOpacity&quot;: 0.5, &quot;weight&quot;: 2};\n",
       "                case &quot;104&quot;: \n",
       "                    return {&quot;color&quot;: &quot;#d2204c&quot;, &quot;fillColor&quot;: &quot;#d2204c&quot;, &quot;fillOpacity&quot;: 0.5, &quot;weight&quot;: 2};\n",
       "                case &quot;105&quot;: case &quot;110&quot;: \n",
       "                    return {&quot;color&quot;: &quot;#ca1a50&quot;, &quot;fillColor&quot;: &quot;#ca1a50&quot;, &quot;fillOpacity&quot;: 0.5, &quot;weight&quot;: 2};\n",
       "                case &quot;106&quot;: \n",
       "                    return {&quot;color&quot;: &quot;#ab185a&quot;, &quot;fillColor&quot;: &quot;#ab185a&quot;, &quot;fillOpacity&quot;: 0.5, &quot;weight&quot;: 2};\n",
       "                case &quot;107&quot;: \n",
       "                    return {&quot;color&quot;: &quot;#ad1759&quot;, &quot;fillColor&quot;: &quot;#ad1759&quot;, &quot;fillOpacity&quot;: 0.5, &quot;weight&quot;: 2};\n",
       "                case &quot;108&quot;: \n",
       "                    return {&quot;color&quot;: &quot;#9a1b5b&quot;, &quot;fillColor&quot;: &quot;#9a1b5b&quot;, &quot;fillOpacity&quot;: 0.5, &quot;weight&quot;: 2};\n",
       "                case &quot;109&quot;: case &quot;125&quot;: \n",
       "                    return {&quot;color&quot;: &quot;#b51657&quot;, &quot;fillColor&quot;: &quot;#b51657&quot;, &quot;fillOpacity&quot;: 0.5, &quot;weight&quot;: 2};\n",
       "                case &quot;111&quot;: \n",
       "                    return {&quot;color&quot;: &quot;#c51852&quot;, &quot;fillColor&quot;: &quot;#c51852&quot;, &quot;fillOpacity&quot;: 0.5, &quot;weight&quot;: 2};\n",
       "                case &quot;113&quot;: \n",
       "                    return {&quot;color&quot;: &quot;#cf1e4d&quot;, &quot;fillColor&quot;: &quot;#cf1e4d&quot;, &quot;fillOpacity&quot;: 0.5, &quot;weight&quot;: 2};\n",
       "                case &quot;115&quot;: \n",
       "                    return {&quot;color&quot;: &quot;#c41753&quot;, &quot;fillColor&quot;: &quot;#c41753&quot;, &quot;fillOpacity&quot;: 0.5, &quot;weight&quot;: 2};\n",
       "                case &quot;116&quot;: \n",
       "                    return {&quot;color&quot;: &quot;#b41658&quot;, &quot;fillColor&quot;: &quot;#b41658&quot;, &quot;fillOpacity&quot;: 0.5, &quot;weight&quot;: 2};\n",
       "                case &quot;117&quot;: case &quot;123&quot;: \n",
       "                    return {&quot;color&quot;: &quot;#a3195b&quot;, &quot;fillColor&quot;: &quot;#a3195b&quot;, &quot;fillOpacity&quot;: 0.5, &quot;weight&quot;: 2};\n",
       "                case &quot;118&quot;: \n",
       "                    return {&quot;color&quot;: &quot;#861e5b&quot;, &quot;fillColor&quot;: &quot;#861e5b&quot;, &quot;fillOpacity&quot;: 0.5, &quot;weight&quot;: 2};\n",
       "                case &quot;119&quot;: \n",
       "                    return {&quot;color&quot;: &quot;#8e1d5b&quot;, &quot;fillColor&quot;: &quot;#8e1d5b&quot;, &quot;fillOpacity&quot;: 0.5, &quot;weight&quot;: 2};\n",
       "                case &quot;120&quot;: \n",
       "                    return {&quot;color&quot;: &quot;#37193f&quot;, &quot;fillColor&quot;: &quot;#37193f&quot;, &quot;fillOpacity&quot;: 0.5, &quot;weight&quot;: 2};\n",
       "                case &quot;121&quot;: \n",
       "                    return {&quot;color&quot;: &quot;#701f57&quot;, &quot;fillColor&quot;: &quot;#701f57&quot;, &quot;fillOpacity&quot;: 0.5, &quot;weight&quot;: 2};\n",
       "                case &quot;122&quot;: \n",
       "                    return {&quot;color&quot;: &quot;#891e5b&quot;, &quot;fillColor&quot;: &quot;#891e5b&quot;, &quot;fillOpacity&quot;: 0.5, &quot;weight&quot;: 2};\n",
       "                case &quot;124&quot;: \n",
       "                    return {&quot;color&quot;: &quot;#a6195a&quot;, &quot;fillColor&quot;: &quot;#a6195a&quot;, &quot;fillOpacity&quot;: 0.5, &quot;weight&quot;: 2};\n",
       "                case &quot;126&quot;: \n",
       "                    return {&quot;color&quot;: &quot;#b01759&quot;, &quot;fillColor&quot;: &quot;#b01759&quot;, &quot;fillOpacity&quot;: 0.5, &quot;weight&quot;: 2};\n",
       "                case &quot;127&quot;: \n",
       "                    return {&quot;color&quot;: &quot;#9f1a5b&quot;, &quot;fillColor&quot;: &quot;#9f1a5b&quot;, &quot;fillOpacity&quot;: 0.5, &quot;weight&quot;: 2};\n",
       "                case &quot;128&quot;: \n",
       "                    return {&quot;color&quot;: &quot;#8b1d5b&quot;, &quot;fillColor&quot;: &quot;#8b1d5b&quot;, &quot;fillOpacity&quot;: 0.5, &quot;weight&quot;: 2};\n",
       "                case &quot;129&quot;: \n",
       "                    return {&quot;color&quot;: &quot;#541e4e&quot;, &quot;fillColor&quot;: &quot;#541e4e&quot;, &quot;fillOpacity&quot;: 0.5, &quot;weight&quot;: 2};\n",
       "                case &quot;130&quot;: \n",
       "                    return {&quot;color&quot;: &quot;#581e4f&quot;, &quot;fillColor&quot;: &quot;#581e4f&quot;, &quot;fillOpacity&quot;: 0.5, &quot;weight&quot;: 2};\n",
       "                case &quot;131&quot;: case &quot;137&quot;: \n",
       "                    return {&quot;color&quot;: &quot;#6b1f56&quot;, &quot;fillColor&quot;: &quot;#6b1f56&quot;, &quot;fillOpacity&quot;: 0.5, &quot;weight&quot;: 2};\n",
       "                case &quot;132&quot;: \n",
       "                    return {&quot;color&quot;: &quot;#03051a&quot;, &quot;fillColor&quot;: &quot;#03051a&quot;, &quot;fillOpacity&quot;: 0.5, &quot;weight&quot;: 2};\n",
       "                case &quot;133&quot;: \n",
       "                    return {&quot;color&quot;: &quot;#20122e&quot;, &quot;fillColor&quot;: &quot;#20122e&quot;, &quot;fillOpacity&quot;: 0.5, &quot;weight&quot;: 2};\n",
       "                case &quot;134&quot;: \n",
       "                    return {&quot;color&quot;: &quot;#2e1739&quot;, &quot;fillColor&quot;: &quot;#2e1739&quot;, &quot;fillOpacity&quot;: 0.5, &quot;weight&quot;: 2};\n",
       "                case &quot;135&quot;: \n",
       "                    return {&quot;color&quot;: &quot;#4e1d4b&quot;, &quot;fillColor&quot;: &quot;#4e1d4b&quot;, &quot;fillOpacity&quot;: 0.5, &quot;weight&quot;: 2};\n",
       "                case &quot;136&quot;: \n",
       "                    return {&quot;color&quot;: &quot;#641f54&quot;, &quot;fillColor&quot;: &quot;#641f54&quot;, &quot;fillOpacity&quot;: 0.5, &quot;weight&quot;: 2};\n",
       "                case &quot;138&quot;: \n",
       "                    return {&quot;color&quot;: &quot;#681f55&quot;, &quot;fillColor&quot;: &quot;#681f55&quot;, &quot;fillOpacity&quot;: 0.5, &quot;weight&quot;: 2};\n",
       "                case &quot;139&quot;: \n",
       "                    return {&quot;color&quot;: &quot;#561e4f&quot;, &quot;fillColor&quot;: &quot;#561e4f&quot;, &quot;fillOpacity&quot;: 0.5, &quot;weight&quot;: 2};\n",
       "                case &quot;140&quot;: \n",
       "                    return {&quot;color&quot;: &quot;#3a1a41&quot;, &quot;fillColor&quot;: &quot;#3a1a41&quot;, &quot;fillOpacity&quot;: 0.5, &quot;weight&quot;: 2};\n",
       "                case &quot;141&quot;: \n",
       "                    return {&quot;color&quot;: &quot;#251433&quot;, &quot;fillColor&quot;: &quot;#251433&quot;, &quot;fillOpacity&quot;: 0.5, &quot;weight&quot;: 2};\n",
       "                case &quot;142&quot;: \n",
       "                    return {&quot;color&quot;: &quot;#3d1a42&quot;, &quot;fillColor&quot;: &quot;#3d1a42&quot;, &quot;fillOpacity&quot;: 0.5, &quot;weight&quot;: 2};\n",
       "                case &quot;143&quot;: \n",
       "                    return {&quot;color&quot;: &quot;#5e1f52&quot;, &quot;fillColor&quot;: &quot;#5e1f52&quot;, &quot;fillOpacity&quot;: 0.5, &quot;weight&quot;: 2};\n",
       "                default:\n",
       "                    return {&quot;color&quot;: &quot;#f16646&quot;, &quot;fillColor&quot;: &quot;#f16646&quot;, &quot;fillOpacity&quot;: 0.5, &quot;weight&quot;: 2};\n",
       "            }\n",
       "        }\n",
       "        function geo_json_60283d48c76ffeee622361e6222d1b2d_highlighter(feature) {\n",
       "            switch(feature.id) {\n",
       "                default:\n",
       "                    return {&quot;fillOpacity&quot;: 0.75};\n",
       "            }\n",
       "        }\n",
       "        function geo_json_60283d48c76ffeee622361e6222d1b2d_pointToLayer(feature, latlng) {\n",
       "            var opts = {&quot;bubblingMouseEvents&quot;: true, &quot;color&quot;: &quot;#3388ff&quot;, &quot;dashArray&quot;: null, &quot;dashOffset&quot;: null, &quot;fill&quot;: true, &quot;fillColor&quot;: &quot;#3388ff&quot;, &quot;fillOpacity&quot;: 0.2, &quot;fillRule&quot;: &quot;evenodd&quot;, &quot;lineCap&quot;: &quot;round&quot;, &quot;lineJoin&quot;: &quot;round&quot;, &quot;opacity&quot;: 1.0, &quot;radius&quot;: 2, &quot;stroke&quot;: true, &quot;weight&quot;: 3};\n",
       "            \n",
       "            let style = geo_json_60283d48c76ffeee622361e6222d1b2d_styler(feature)\n",
       "            Object.assign(opts, style)\n",
       "            \n",
       "            return new L.CircleMarker(latlng, opts)\n",
       "        }\n",
       "\n",
       "        function geo_json_60283d48c76ffeee622361e6222d1b2d_onEachFeature(feature, layer) {\n",
       "            layer.on({\n",
       "                mouseout: function(e) {\n",
       "                    if(typeof e.target.setStyle === &quot;function&quot;){\n",
       "                        geo_json_60283d48c76ffeee622361e6222d1b2d.resetStyle(e.target);\n",
       "                    }\n",
       "                },\n",
       "                mouseover: function(e) {\n",
       "                    if(typeof e.target.setStyle === &quot;function&quot;){\n",
       "                        const highlightStyle = geo_json_60283d48c76ffeee622361e6222d1b2d_highlighter(e.target.feature)\n",
       "                        e.target.setStyle(highlightStyle);\n",
       "                    }\n",
       "                },\n",
       "            });\n",
       "        };\n",
       "        var geo_json_60283d48c76ffeee622361e6222d1b2d = L.geoJson(null, {\n",
       "                onEachFeature: geo_json_60283d48c76ffeee622361e6222d1b2d_onEachFeature,\n",
       "            \n",
       "                style: geo_json_60283d48c76ffeee622361e6222d1b2d_styler,\n",
       "                pointToLayer: geo_json_60283d48c76ffeee622361e6222d1b2d_pointToLayer\n",
       "        });\n",
       "\n",
       "        function geo_json_60283d48c76ffeee622361e6222d1b2d_add (data) {\n",
       "            geo_json_60283d48c76ffeee622361e6222d1b2d\n",
       "                .addData(data)\n",
       "                .addTo(map_dc850fd501f7c0835ea487210094734c);\n",
       "        }\n",
       "            geo_json_60283d48c76ffeee622361e6222d1b2d_add({&quot;bbox&quot;: [130.125, 36.125, 133.125, 39.125], &quot;features&quot;: [{&quot;bbox&quot;: [130.125, 36.125, 130.375, 36.375], &quot;geometry&quot;: {&quot;coordinates&quot;: [[[130.125, 36.125], [130.375, 36.125], [130.375, 36.375], [130.125, 36.375], [130.125, 36.125]]], &quot;type&quot;: &quot;Polygon&quot;}, &quot;id&quot;: &quot;0&quot;, &quot;properties&quot;: {&quot;__folium_color&quot;: &quot;#f6b995&quot;, &quot;latitude&quot;: 36.125, &quot;longitude&quot;: 130.125, &quot;to&quot;: 13.524749755859375}, &quot;type&quot;: &quot;Feature&quot;}, {&quot;bbox&quot;: [130.375, 36.125, 130.625, 36.375], &quot;geometry&quot;: {&quot;coordinates&quot;: [[[130.375, 36.125], [130.625, 36.125], [130.625, 36.375], [130.375, 36.375], [130.375, 36.125]]], &quot;type&quot;: &quot;Polygon&quot;}, &quot;id&quot;: &quot;1&quot;, &quot;properties&quot;: {&quot;__folium_color&quot;: &quot;#f6b38d&quot;, &quot;latitude&quot;: 36.125, &quot;longitude&quot;: 130.375, &quot;to&quot;: 13.436749458312988}, &quot;type&quot;: &quot;Feature&quot;}, {&quot;bbox&quot;: [130.625, 36.125, 130.875, 36.375], &quot;geometry&quot;: {&quot;coordinates&quot;: [[[130.625, 36.125], [130.875, 36.125], [130.875, 36.375], [130.625, 36.375], [130.625, 36.125]]], &quot;type&quot;: &quot;Polygon&quot;}, &quot;id&quot;: &quot;2&quot;, &quot;properties&quot;: {&quot;__folium_color&quot;: &quot;#f6b48f&quot;, &quot;latitude&quot;: 36.125, &quot;longitude&quot;: 130.625, &quot;to&quot;: 13.457374572753906}, &quot;type&quot;: &quot;Feature&quot;}, {&quot;bbox&quot;: [130.875, 36.125, 131.125, 36.375], &quot;geometry&quot;: {&quot;coordinates&quot;: [[[130.875, 36.125], [131.125, 36.125], [131.125, 36.375], [130.875, 36.375], [130.875, 36.125]]], &quot;type&quot;: &quot;Polygon&quot;}, &quot;id&quot;: &quot;3&quot;, &quot;properties&quot;: {&quot;__folium_color&quot;: &quot;#f6a981&quot;, &quot;latitude&quot;: 36.125, &quot;longitude&quot;: 130.875, &quot;to&quot;: 13.299874305725098}, &quot;type&quot;: &quot;Feature&quot;}, {&quot;bbox&quot;: [131.125, 36.125, 131.375, 36.375], &quot;geometry&quot;: {&quot;coordinates&quot;: [[[131.125, 36.125], [131.375, 36.125], [131.375, 36.375], [131.125, 36.375], [131.125, 36.125]]], &quot;type&quot;: &quot;Polygon&quot;}, &quot;id&quot;: &quot;4&quot;, &quot;properties&quot;: {&quot;__folium_color&quot;: &quot;#f69c73&quot;, &quot;latitude&quot;: 36.125, &quot;longitude&quot;: 131.125, &quot;to&quot;: 13.116000175476074}, &quot;type&quot;: &quot;Feature&quot;}, {&quot;bbox&quot;: [131.375, 36.125, 131.625, 36.375], &quot;geometry&quot;: {&quot;coordinates&quot;: [[[131.375, 36.125], [131.625, 36.125], [131.625, 36.375], [131.375, 36.375], [131.375, 36.125]]], &quot;type&quot;: &quot;Polygon&quot;}, &quot;id&quot;: &quot;5&quot;, &quot;properties&quot;: {&quot;__folium_color&quot;: &quot;#f6a077&quot;, &quot;latitude&quot;: 36.125, &quot;longitude&quot;: 131.375, &quot;to&quot;: 13.16362476348877}, &quot;type&quot;: &quot;Feature&quot;}, {&quot;bbox&quot;: [131.625, 36.125, 131.875, 36.375], &quot;geometry&quot;: {&quot;coordinates&quot;: [[[131.625, 36.125], [131.875, 36.125], [131.875, 36.375], [131.625, 36.375], [131.625, 36.125]]], &quot;type&quot;: &quot;Polygon&quot;}, &quot;id&quot;: &quot;6&quot;, &quot;properties&quot;: {&quot;__folium_color&quot;: &quot;#f6a178&quot;, &quot;latitude&quot;: 36.125, &quot;longitude&quot;: 131.625, &quot;to&quot;: 13.192625045776367}, &quot;type&quot;: &quot;Feature&quot;}, {&quot;bbox&quot;: [131.875, 36.125, 132.125, 36.375], &quot;geometry&quot;: {&quot;coordinates&quot;: [[[131.875, 36.125], [132.125, 36.125], [132.125, 36.375], [131.875, 36.375], [131.875, 36.125]]], &quot;type&quot;: &quot;Polygon&quot;}, &quot;id&quot;: &quot;7&quot;, &quot;properties&quot;: {&quot;__folium_color&quot;: &quot;#f69c73&quot;, &quot;latitude&quot;: 36.125, &quot;longitude&quot;: 131.875, &quot;to&quot;: 13.129124641418457}, &quot;type&quot;: &quot;Feature&quot;}, {&quot;bbox&quot;: [132.125, 36.125, 132.375, 36.375], &quot;geometry&quot;: {&quot;coordinates&quot;: [[[132.125, 36.125], [132.375, 36.125], [132.375, 36.375], [132.125, 36.375], [132.125, 36.125]]], &quot;type&quot;: &quot;Polygon&quot;}, &quot;id&quot;: &quot;8&quot;, &quot;properties&quot;: {&quot;__folium_color&quot;: &quot;#f6a880&quot;, &quot;latitude&quot;: 36.125, &quot;longitude&quot;: 132.125, &quot;to&quot;: 13.284749984741211}, &quot;type&quot;: &quot;Feature&quot;}, {&quot;bbox&quot;: [132.375, 36.125, 132.625, 36.375], &quot;geometry&quot;: {&quot;coordinates&quot;: [[[132.375, 36.125], [132.625, 36.125], [132.625, 36.375], [132.375, 36.375], [132.375, 36.125]]], &quot;type&quot;: &quot;Polygon&quot;}, &quot;id&quot;: &quot;9&quot;, &quot;properties&quot;: {&quot;__folium_color&quot;: &quot;#f7c4a4&quot;, &quot;latitude&quot;: 36.125, &quot;longitude&quot;: 132.375, &quot;to&quot;: 13.679499626159668}, &quot;type&quot;: &quot;Feature&quot;}, {&quot;bbox&quot;: [132.625, 36.125, 132.875, 36.375], &quot;geometry&quot;: {&quot;coordinates&quot;: [[[132.625, 36.125], [132.875, 36.125], [132.875, 36.375], [132.625, 36.375], [132.625, 36.125]]], &quot;type&quot;: &quot;Polygon&quot;}, &quot;id&quot;: &quot;10&quot;, &quot;properties&quot;: {&quot;__folium_color&quot;: &quot;#f9dfcb&quot;, &quot;latitude&quot;: 36.125, &quot;longitude&quot;: 132.625, &quot;to&quot;: 14.065750122070312}, &quot;type&quot;: &quot;Feature&quot;}, {&quot;bbox&quot;: [132.875, 36.125, 133.125, 36.375], &quot;geometry&quot;: {&quot;coordinates&quot;: [[[132.875, 36.125], [133.125, 36.125], [133.125, 36.375], [132.875, 36.375], [132.875, 36.125]]], &quot;type&quot;: &quot;Polygon&quot;}, &quot;id&quot;: &quot;11&quot;, &quot;properties&quot;: {&quot;__folium_color&quot;: &quot;#faebdd&quot;, &quot;latitude&quot;: 36.125, &quot;longitude&quot;: 132.875, &quot;to&quot;: 14.253375053405762}, &quot;type&quot;: &quot;Feature&quot;}, {&quot;bbox&quot;: [130.125, 36.375, 130.375, 36.625], &quot;geometry&quot;: {&quot;coordinates&quot;: [[[130.125, 36.375], [130.375, 36.375], [130.375, 36.625], [130.125, 36.625], [130.125, 36.375]]], &quot;type&quot;: &quot;Polygon&quot;}, &quot;id&quot;: &quot;12&quot;, &quot;properties&quot;: {&quot;__folium_color&quot;: &quot;#f6b18b&quot;, &quot;latitude&quot;: 36.375, &quot;longitude&quot;: 130.125, &quot;to&quot;: 13.408124923706055}, &quot;type&quot;: &quot;Feature&quot;}, {&quot;bbox&quot;: [130.375, 36.375, 130.625, 36.625], &quot;geometry&quot;: {&quot;coordinates&quot;: [[[130.375, 36.375], [130.625, 36.375], [130.625, 36.625], [130.375, 36.625], [130.375, 36.375]]], &quot;type&quot;: &quot;Polygon&quot;}, &quot;id&quot;: &quot;13&quot;, &quot;properties&quot;: {&quot;__folium_color&quot;: &quot;#f6a077&quot;, &quot;latitude&quot;: 36.375, &quot;longitude&quot;: 130.375, &quot;to&quot;: 13.164124488830566}, &quot;type&quot;: &quot;Feature&quot;}, {&quot;bbox&quot;: [130.625, 36.375, 130.875, 36.625], &quot;geometry&quot;: {&quot;coordinates&quot;: [[[130.625, 36.375], [130.875, 36.375], [130.875, 36.625], [130.625, 36.625], [130.625, 36.375]]], &quot;type&quot;: &quot;Polygon&quot;}, &quot;id&quot;: &quot;14&quot;, &quot;properties&quot;: {&quot;__folium_color&quot;: &quot;#f69b71&quot;, &quot;latitude&quot;: 36.375, &quot;longitude&quot;: 130.625, &quot;to&quot;: 13.108499526977539}, &quot;type&quot;: &quot;Feature&quot;}, {&quot;bbox&quot;: [130.875, 36.375, 131.125, 36.625], &quot;geometry&quot;: {&quot;coordinates&quot;: [[[130.875, 36.375], [131.125, 36.375], [131.125, 36.625], [130.875, 36.625], [130.875, 36.375]]], &quot;type&quot;: &quot;Polygon&quot;}, &quot;id&quot;: &quot;15&quot;, &quot;properties&quot;: {&quot;__folium_color&quot;: &quot;#f58b63&quot;, &quot;latitude&quot;: 36.375, &quot;longitude&quot;: 130.875, &quot;to&quot;: 12.903749465942383}, &quot;type&quot;: &quot;Feature&quot;}, {&quot;bbox&quot;: [131.125, 36.375, 131.375, 36.625], &quot;geometry&quot;: {&quot;coordinates&quot;: [[[131.125, 36.375], [131.375, 36.375], [131.375, 36.625], [131.125, 36.625], [131.125, 36.375]]], &quot;type&quot;: &quot;Polygon&quot;}, &quot;id&quot;: &quot;16&quot;, &quot;properties&quot;: {&quot;__folium_color&quot;: &quot;#f4845d&quot;, &quot;latitude&quot;: 36.375, &quot;longitude&quot;: 131.125, &quot;to&quot;: 12.81412410736084}, &quot;type&quot;: &quot;Feature&quot;}, {&quot;bbox&quot;: [131.375, 36.375, 131.625, 36.625], &quot;geometry&quot;: {&quot;coordinates&quot;: [[[131.375, 36.375], [131.625, 36.375], [131.625, 36.625], [131.375, 36.625], [131.375, 36.375]]], &quot;type&quot;: &quot;Polygon&quot;}, &quot;id&quot;: &quot;17&quot;, &quot;properties&quot;: {&quot;__folium_color&quot;: &quot;#f4835b&quot;, &quot;latitude&quot;: 36.375, &quot;longitude&quot;: 131.375, &quot;to&quot;: 12.80049991607666}, &quot;type&quot;: &quot;Feature&quot;}, {&quot;bbox&quot;: [131.625, 36.375, 131.875, 36.625], &quot;geometry&quot;: {&quot;coordinates&quot;: [[[131.625, 36.375], [131.875, 36.375], [131.875, 36.625], [131.625, 36.625], [131.625, 36.375]]], &quot;type&quot;: &quot;Polygon&quot;}, &quot;id&quot;: &quot;18&quot;, &quot;properties&quot;: {&quot;__folium_color&quot;: &quot;#f4835b&quot;, &quot;latitude&quot;: 36.375, &quot;longitude&quot;: 131.625, &quot;to&quot;: 12.790624618530273}, &quot;type&quot;: &quot;Feature&quot;}, {&quot;bbox&quot;: [131.875, 36.375, 132.125, 36.625], &quot;geometry&quot;: {&quot;coordinates&quot;: [[[131.875, 36.375], [132.125, 36.375], [132.125, 36.625], [131.875, 36.625], [131.875, 36.375]]], &quot;type&quot;: &quot;Polygon&quot;}, &quot;id&quot;: &quot;19&quot;, &quot;properties&quot;: {&quot;__folium_color&quot;: &quot;#f4835b&quot;, &quot;latitude&quot;: 36.375, &quot;longitude&quot;: 131.875, &quot;to&quot;: 12.78849983215332}, &quot;type&quot;: &quot;Feature&quot;}, {&quot;bbox&quot;: [132.125, 36.375, 132.375, 36.625], &quot;geometry&quot;: {&quot;coordinates&quot;: [[[132.125, 36.375], [132.375, 36.375], [132.375, 36.625], [132.125, 36.625], [132.125, 36.375]]], &quot;type&quot;: &quot;Polygon&quot;}, &quot;id&quot;: &quot;20&quot;, &quot;properties&quot;: {&quot;__folium_color&quot;: &quot;#f58d64&quot;, &quot;latitude&quot;: 36.375, &quot;longitude&quot;: 132.125, &quot;to&quot;: 12.92562484741211}, &quot;type&quot;: &quot;Feature&quot;}, {&quot;bbox&quot;: [132.375, 36.375, 132.625, 36.625], &quot;geometry&quot;: {&quot;coordinates&quot;: [[[132.375, 36.375], [132.625, 36.375], [132.625, 36.625], [132.375, 36.625], [132.375, 36.375]]], &quot;type&quot;: &quot;Polygon&quot;}, &quot;id&quot;: &quot;21&quot;, &quot;properties&quot;: {&quot;__folium_color&quot;: &quot;#f6a880&quot;, &quot;latitude&quot;: 36.375, &quot;longitude&quot;: 132.375, &quot;to&quot;: 13.26924991607666}, &quot;type&quot;: &quot;Feature&quot;}, {&quot;bbox&quot;: [132.625, 36.375, 132.875, 36.625], &quot;geometry&quot;: {&quot;coordinates&quot;: [[[132.625, 36.375], [132.875, 36.375], [132.875, 36.625], [132.625, 36.625], [132.625, 36.375]]], &quot;type&quot;: &quot;Polygon&quot;}, &quot;id&quot;: &quot;22&quot;, &quot;properties&quot;: {&quot;__folium_color&quot;: &quot;#f7c2a2&quot;, &quot;latitude&quot;: 36.375, &quot;longitude&quot;: 132.625, &quot;to&quot;: 13.652124404907227}, &quot;type&quot;: &quot;Feature&quot;}, {&quot;bbox&quot;: [132.875, 36.375, 133.125, 36.625], &quot;geometry&quot;: {&quot;coordinates&quot;: [[[132.875, 36.375], [133.125, 36.375], [133.125, 36.625], [132.875, 36.625], [132.875, 36.375]]], &quot;type&quot;: &quot;Polygon&quot;}, &quot;id&quot;: &quot;23&quot;, &quot;properties&quot;: {&quot;__folium_color&quot;: &quot;#f8d4bc&quot;, &quot;latitude&quot;: 36.375, &quot;longitude&quot;: 132.875, &quot;to&quot;: 13.903249740600586}, &quot;type&quot;: &quot;Feature&quot;}, {&quot;bbox&quot;: [130.125, 36.625, 130.375, 36.875], &quot;geometry&quot;: {&quot;coordinates&quot;: [[[130.125, 36.625], [130.375, 36.625], [130.375, 36.875], [130.125, 36.875], [130.125, 36.625]]], &quot;type&quot;: &quot;Polygon&quot;}, &quot;id&quot;: &quot;24&quot;, &quot;properties&quot;: {&quot;__folium_color&quot;: &quot;#f6a077&quot;, &quot;latitude&quot;: 36.625, &quot;longitude&quot;: 130.125, &quot;to&quot;: 13.165874481201172}, &quot;type&quot;: &quot;Feature&quot;}, {&quot;bbox&quot;: [130.375, 36.625, 130.625, 36.875], &quot;geometry&quot;: {&quot;coordinates&quot;: [[[130.375, 36.625], [130.625, 36.625], [130.625, 36.875], [130.375, 36.875], [130.375, 36.625]]], &quot;type&quot;: &quot;Polygon&quot;}, &quot;id&quot;: &quot;25&quot;, &quot;properties&quot;: {&quot;__folium_color&quot;: &quot;#f5976e&quot;, &quot;latitude&quot;: 36.625, &quot;longitude&quot;: 130.375, &quot;to&quot;: 13.06612491607666}, &quot;type&quot;: &quot;Feature&quot;}, {&quot;bbox&quot;: [130.625, 36.625, 130.875, 36.875], &quot;geometry&quot;: {&quot;coordinates&quot;: [[[130.625, 36.625], [130.875, 36.625], [130.875, 36.875], [130.625, 36.875], [130.625, 36.625]]], &quot;type&quot;: &quot;Polygon&quot;}, &quot;id&quot;: &quot;26&quot;, &quot;properties&quot;: {&quot;__folium_color&quot;: &quot;#f58a61&quot;, &quot;latitude&quot;: 36.625, &quot;longitude&quot;: 130.625, &quot;to&quot;: 12.88962459564209}, &quot;type&quot;: &quot;Feature&quot;}, {&quot;bbox&quot;: [130.875, 36.625, 131.125, 36.875], &quot;geometry&quot;: {&quot;coordinates&quot;: [[[130.875, 36.625], [131.125, 36.625], [131.125, 36.875], [130.875, 36.875], [130.875, 36.625]]], &quot;type&quot;: &quot;Polygon&quot;}, &quot;id&quot;: &quot;27&quot;, &quot;properties&quot;: {&quot;__folium_color&quot;: &quot;#f4815a&quot;, &quot;latitude&quot;: 36.625, &quot;longitude&quot;: 130.875, &quot;to&quot;: 12.770249366760254}, &quot;type&quot;: &quot;Feature&quot;}, {&quot;bbox&quot;: [131.125, 36.625, 131.375, 36.875], &quot;geometry&quot;: {&quot;coordinates&quot;: [[[131.125, 36.625], [131.375, 36.625], [131.375, 36.875], [131.125, 36.875], [131.125, 36.625]]], &quot;type&quot;: &quot;Polygon&quot;}, &quot;id&quot;: &quot;28&quot;, &quot;properties&quot;: {&quot;__folium_color&quot;: &quot;#f37852&quot;, &quot;latitude&quot;: 36.625, &quot;longitude&quot;: 131.125, &quot;to&quot;: 12.671374320983887}, &quot;type&quot;: &quot;Feature&quot;}, {&quot;bbox&quot;: [131.375, 36.625, 131.625, 36.875], &quot;geometry&quot;: {&quot;coordinates&quot;: [[[131.375, 36.625], [131.625, 36.625], [131.625, 36.875], [131.375, 36.875], [131.375, 36.625]]], &quot;type&quot;: &quot;Polygon&quot;}, &quot;id&quot;: &quot;29&quot;, &quot;properties&quot;: {&quot;__folium_color&quot;: &quot;#f16244&quot;, &quot;latitude&quot;: 36.625, &quot;longitude&quot;: 131.375, &quot;to&quot;: 12.397624969482422}, &quot;type&quot;: &quot;Feature&quot;}, {&quot;bbox&quot;: [131.625, 36.625, 131.875, 36.875], &quot;geometry&quot;: {&quot;coordinates&quot;: [[[131.625, 36.625], [131.875, 36.625], [131.875, 36.875], [131.625, 36.875], [131.625, 36.625]]], &quot;type&quot;: &quot;Polygon&quot;}, &quot;id&quot;: &quot;30&quot;, &quot;properties&quot;: {&quot;__folium_color&quot;: &quot;#f05c42&quot;, &quot;latitude&quot;: 36.625, &quot;longitude&quot;: 131.625, &quot;to&quot;: 12.34262466430664}, &quot;type&quot;: &quot;Feature&quot;}, {&quot;bbox&quot;: [131.875, 36.625, 132.125, 36.875], &quot;geometry&quot;: {&quot;coordinates&quot;: [[[131.875, 36.625], [132.125, 36.625], [132.125, 36.875], [131.875, 36.875], [131.875, 36.625]]], &quot;type&quot;: &quot;Polygon&quot;}, &quot;id&quot;: &quot;31&quot;, &quot;properties&quot;: {&quot;__folium_color&quot;: &quot;#f06043&quot;, &quot;latitude&quot;: 36.625, &quot;longitude&quot;: 131.875, &quot;to&quot;: 12.377999305725098}, &quot;type&quot;: &quot;Feature&quot;}, {&quot;bbox&quot;: [132.125, 36.625, 132.375, 36.875], &quot;geometry&quot;: {&quot;coordinates&quot;: [[[132.125, 36.625], [132.375, 36.625], [132.375, 36.875], [132.125, 36.875], [132.125, 36.625]]], &quot;type&quot;: &quot;Polygon&quot;}, &quot;id&quot;: &quot;32&quot;, &quot;properties&quot;: {&quot;__folium_color&quot;: &quot;#f3714d&quot;, &quot;latitude&quot;: 36.625, &quot;longitude&quot;: 132.125, &quot;to&quot;: 12.574625015258789}, &quot;type&quot;: &quot;Feature&quot;}, {&quot;bbox&quot;: [132.375, 36.625, 132.625, 36.875], &quot;geometry&quot;: {&quot;coordinates&quot;: [[[132.375, 36.625], [132.625, 36.625], [132.625, 36.875], [132.375, 36.875], [132.375, 36.625]]], &quot;type&quot;: &quot;Polygon&quot;}, &quot;id&quot;: &quot;33&quot;, &quot;properties&quot;: {&quot;__folium_color&quot;: &quot;#f4815a&quot;, &quot;latitude&quot;: 36.625, &quot;longitude&quot;: 132.375, &quot;to&quot;: 12.769624710083008}, &quot;type&quot;: &quot;Feature&quot;}, {&quot;bbox&quot;: [132.625, 36.625, 132.875, 36.875], &quot;geometry&quot;: {&quot;coordinates&quot;: [[[132.625, 36.625], [132.875, 36.625], [132.875, 36.875], [132.625, 36.875], [132.625, 36.625]]], &quot;type&quot;: &quot;Polygon&quot;}, &quot;id&quot;: &quot;34&quot;, &quot;properties&quot;: {&quot;__folium_color&quot;: &quot;#f6a880&quot;, &quot;latitude&quot;: 36.625, &quot;longitude&quot;: 132.625, &quot;to&quot;: 13.27662467956543}, &quot;type&quot;: &quot;Feature&quot;}, {&quot;bbox&quot;: [132.875, 36.625, 133.125, 36.875], &quot;geometry&quot;: {&quot;coordinates&quot;: [[[132.875, 36.625], [133.125, 36.625], [133.125, 36.875], [132.875, 36.875], [132.875, 36.625]]], &quot;type&quot;: &quot;Polygon&quot;}, &quot;id&quot;: &quot;35&quot;, &quot;properties&quot;: {&quot;__folium_color&quot;: &quot;#f6bc99&quot;, &quot;latitude&quot;: 36.625, &quot;longitude&quot;: 132.875, &quot;to&quot;: 13.555374145507812}, &quot;type&quot;: &quot;Feature&quot;}, {&quot;bbox&quot;: [130.125, 36.875, 130.375, 37.125], &quot;geometry&quot;: {&quot;coordinates&quot;: [[[130.125, 36.875], [130.375, 36.875], [130.375, 37.125], [130.125, 37.125], [130.125, 36.875]]], &quot;type&quot;: &quot;Polygon&quot;}, &quot;id&quot;: &quot;36&quot;, &quot;properties&quot;: {&quot;__folium_color&quot;: &quot;#f6a880&quot;, &quot;latitude&quot;: 36.875, &quot;longitude&quot;: 130.125, &quot;to&quot;: 13.286999702453613}, &quot;type&quot;: &quot;Feature&quot;}, {&quot;bbox&quot;: [130.375, 36.875, 130.625, 37.125], &quot;geometry&quot;: {&quot;coordinates&quot;: [[[130.375, 36.875], [130.625, 36.875], [130.625, 37.125], [130.375, 37.125], [130.375, 36.875]]], &quot;type&quot;: &quot;Polygon&quot;}, &quot;id&quot;: &quot;37&quot;, &quot;properties&quot;: {&quot;__folium_color&quot;: &quot;#f6a077&quot;, &quot;latitude&quot;: 36.875, &quot;longitude&quot;: 130.375, &quot;to&quot;: 13.158374786376953}, &quot;type&quot;: &quot;Feature&quot;}, {&quot;bbox&quot;: [130.625, 36.875, 130.875, 37.125], &quot;geometry&quot;: {&quot;coordinates&quot;: [[[130.625, 36.875], [130.875, 36.875], [130.875, 37.125], [130.625, 37.125], [130.625, 36.875]]], &quot;type&quot;: &quot;Polygon&quot;}, &quot;id&quot;: &quot;38&quot;, &quot;properties&quot;: {&quot;__folium_color&quot;: &quot;#f4865e&quot;, &quot;latitude&quot;: 36.875, &quot;longitude&quot;: 130.625, &quot;to&quot;: 12.839249610900879}, &quot;type&quot;: &quot;Feature&quot;}, {&quot;bbox&quot;: [130.875, 36.875, 131.125, 37.125], &quot;geometry&quot;: {&quot;coordinates&quot;: [[[130.875, 36.875], [131.125, 36.875], [131.125, 37.125], [130.875, 37.125], [130.875, 36.875]]], &quot;type&quot;: &quot;Polygon&quot;}, &quot;id&quot;: &quot;39&quot;, &quot;properties&quot;: {&quot;__folium_color&quot;: &quot;#f26f4c&quot;, &quot;latitude&quot;: 36.875, &quot;longitude&quot;: 130.875, &quot;to&quot;: 12.552749633789062}, &quot;type&quot;: &quot;Feature&quot;}, {&quot;bbox&quot;: [131.125, 36.875, 131.375, 37.125], &quot;geometry&quot;: {&quot;coordinates&quot;: [[[131.125, 36.875], [131.375, 36.875], [131.375, 37.125], [131.125, 37.125], [131.125, 36.875]]], &quot;type&quot;: &quot;Polygon&quot;}, &quot;id&quot;: &quot;40&quot;, &quot;properties&quot;: {&quot;__folium_color&quot;: &quot;#f16646&quot;, &quot;latitude&quot;: 36.875, &quot;longitude&quot;: 131.125, &quot;to&quot;: 12.434749603271484}, &quot;type&quot;: &quot;Feature&quot;}, {&quot;bbox&quot;: [131.375, 36.875, 131.625, 37.125], &quot;geometry&quot;: {&quot;coordinates&quot;: [[[131.375, 36.875], [131.625, 36.875], [131.625, 37.125], [131.375, 37.125], [131.375, 36.875]]], &quot;type&quot;: &quot;Polygon&quot;}, &quot;id&quot;: &quot;41&quot;, &quot;properties&quot;: {&quot;__folium_color&quot;: &quot;#f05c42&quot;, &quot;latitude&quot;: 36.875, &quot;longitude&quot;: 131.375, &quot;to&quot;: 12.331250190734863}, &quot;type&quot;: &quot;Feature&quot;}, {&quot;bbox&quot;: [131.625, 36.875, 131.875, 37.125], &quot;geometry&quot;: {&quot;coordinates&quot;: [[[131.625, 36.875], [131.875, 36.875], [131.875, 37.125], [131.625, 37.125], [131.625, 36.875]]], &quot;type&quot;: &quot;Polygon&quot;}, &quot;id&quot;: &quot;42&quot;, &quot;properties&quot;: {&quot;__folium_color&quot;: &quot;#f16646&quot;, &quot;latitude&quot;: 36.875, &quot;longitude&quot;: 131.625, &quot;to&quot;: 12.436749458312988}, &quot;type&quot;: &quot;Feature&quot;}, {&quot;bbox&quot;: [131.875, 36.875, 132.125, 37.125], &quot;geometry&quot;: {&quot;coordinates&quot;: [[[131.875, 36.875], [132.125, 36.875], [132.125, 37.125], [131.875, 37.125], [131.875, 36.875]]], &quot;type&quot;: &quot;Polygon&quot;}, &quot;id&quot;: &quot;43&quot;, &quot;properties&quot;: {&quot;__folium_color&quot;: &quot;#f06043&quot;, &quot;latitude&quot;: 36.875, &quot;longitude&quot;: 131.875, &quot;to&quot;: 12.379499435424805}, &quot;type&quot;: &quot;Feature&quot;}, {&quot;bbox&quot;: [132.125, 36.875, 132.375, 37.125], &quot;geometry&quot;: {&quot;coordinates&quot;: [[[132.125, 36.875], [132.375, 36.875], [132.375, 37.125], [132.125, 37.125], [132.125, 36.875]]], &quot;type&quot;: &quot;Polygon&quot;}, &quot;id&quot;: &quot;44&quot;, &quot;properties&quot;: {&quot;__folium_color&quot;: &quot;#f16244&quot;, &quot;latitude&quot;: 36.875, &quot;longitude&quot;: 132.125, &quot;to&quot;: 12.391624450683594}, &quot;type&quot;: &quot;Feature&quot;}, {&quot;bbox&quot;: [132.375, 36.875, 132.625, 37.125], &quot;geometry&quot;: {&quot;coordinates&quot;: [[[132.375, 36.875], [132.625, 36.875], [132.625, 37.125], [132.375, 37.125], [132.375, 36.875]]], &quot;type&quot;: &quot;Polygon&quot;}, &quot;id&quot;: &quot;45&quot;, &quot;properties&quot;: {&quot;__folium_color&quot;: &quot;#f16646&quot;, &quot;latitude&quot;: 36.875, &quot;longitude&quot;: 132.375, &quot;to&quot;: 12.451250076293945}, &quot;type&quot;: &quot;Feature&quot;}, {&quot;bbox&quot;: [132.625, 36.875, 132.875, 37.125], &quot;geometry&quot;: {&quot;coordinates&quot;: [[[132.625, 36.875], [132.875, 36.875], [132.875, 37.125], [132.625, 37.125], [132.625, 36.875]]], &quot;type&quot;: &quot;Polygon&quot;}, &quot;id&quot;: &quot;46&quot;, &quot;properties&quot;: {&quot;__folium_color&quot;: &quot;#f58860&quot;, &quot;latitude&quot;: 36.875, &quot;longitude&quot;: 132.625, &quot;to&quot;: 12.864749908447266}, &quot;type&quot;: &quot;Feature&quot;}, {&quot;bbox&quot;: [132.875, 36.875, 133.125, 37.125], &quot;geometry&quot;: {&quot;coordinates&quot;: [[[132.875, 36.875], [133.125, 36.875], [133.125, 37.125], [132.875, 37.125], [132.875, 36.875]]], &quot;type&quot;: &quot;Polygon&quot;}, &quot;id&quot;: &quot;47&quot;, &quot;properties&quot;: {&quot;__folium_color&quot;: &quot;#f6a880&quot;, &quot;latitude&quot;: 36.875, &quot;longitude&quot;: 132.875, &quot;to&quot;: 13.268499374389648}, &quot;type&quot;: &quot;Feature&quot;}, {&quot;bbox&quot;: [130.125, 37.125, 130.375, 37.375], &quot;geometry&quot;: {&quot;coordinates&quot;: [[[130.125, 37.125], [130.375, 37.125], [130.375, 37.375], [130.125, 37.375], [130.125, 37.125]]], &quot;type&quot;: &quot;Polygon&quot;}, &quot;id&quot;: &quot;48&quot;, &quot;properties&quot;: {&quot;__folium_color&quot;: &quot;#f69c73&quot;, &quot;latitude&quot;: 37.125, &quot;longitude&quot;: 130.125, &quot;to&quot;: 13.129124641418457}, &quot;type&quot;: &quot;Feature&quot;}, {&quot;bbox&quot;: [130.375, 37.125, 130.625, 37.375], &quot;geometry&quot;: {&quot;coordinates&quot;: [[[130.375, 37.125], [130.625, 37.125], [130.625, 37.375], [130.375, 37.375], [130.375, 37.125]]], &quot;type&quot;: &quot;Polygon&quot;}, &quot;id&quot;: &quot;49&quot;, &quot;properties&quot;: {&quot;__folium_color&quot;: &quot;#f58f66&quot;, &quot;latitude&quot;: 37.125, &quot;longitude&quot;: 130.375, &quot;to&quot;: 12.940750122070312}, &quot;type&quot;: &quot;Feature&quot;}, {&quot;bbox&quot;: [130.625, 37.125, 130.875, 37.375], &quot;geometry&quot;: {&quot;coordinates&quot;: [[[130.625, 37.125], [130.875, 37.125], [130.875, 37.375], [130.625, 37.375], [130.625, 37.125]]], &quot;type&quot;: &quot;Polygon&quot;}, &quot;id&quot;: &quot;50&quot;, &quot;properties&quot;: {&quot;__folium_color&quot;: &quot;#f26d4b&quot;, &quot;latitude&quot;: 37.125, &quot;longitude&quot;: 130.625, &quot;to&quot;: 12.538874626159668}, &quot;type&quot;: &quot;Feature&quot;}, {&quot;bbox&quot;: [130.875, 37.125, 131.125, 37.375], &quot;geometry&quot;: {&quot;coordinates&quot;: [[[130.875, 37.125], [131.125, 37.125], [131.125, 37.375], [130.875, 37.375], [130.875, 37.125]]], &quot;type&quot;: &quot;Polygon&quot;}, &quot;id&quot;: &quot;51&quot;, &quot;properties&quot;: {&quot;__folium_color&quot;: &quot;#ee523f&quot;, &quot;latitude&quot;: 37.125, &quot;longitude&quot;: 130.875, &quot;to&quot;: 12.228499412536621}, &quot;type&quot;: &quot;Feature&quot;}, {&quot;bbox&quot;: [131.125, 37.125, 131.375, 37.375], &quot;geometry&quot;: {&quot;coordinates&quot;: [[[131.125, 37.125], [131.375, 37.125], [131.375, 37.375], [131.125, 37.375], [131.125, 37.125]]], &quot;type&quot;: &quot;Polygon&quot;}, &quot;id&quot;: &quot;52&quot;, &quot;properties&quot;: {&quot;__folium_color&quot;: &quot;#ef5640&quot;, &quot;latitude&quot;: 37.125, &quot;longitude&quot;: 131.125, &quot;to&quot;: 12.263249397277832}, &quot;type&quot;: &quot;Feature&quot;}, {&quot;bbox&quot;: [131.375, 37.125, 131.625, 37.375], &quot;geometry&quot;: {&quot;coordinates&quot;: [[[131.375, 37.125], [131.625, 37.125], [131.625, 37.375], [131.375, 37.375], [131.375, 37.125]]], &quot;type&quot;: &quot;Polygon&quot;}, &quot;id&quot;: &quot;53&quot;, &quot;properties&quot;: {&quot;__folium_color&quot;: &quot;#ef5640&quot;, &quot;latitude&quot;: 37.125, &quot;longitude&quot;: 131.375, &quot;to&quot;: 12.276124954223633}, &quot;type&quot;: &quot;Feature&quot;}, {&quot;bbox&quot;: [131.625, 37.125, 131.875, 37.375], &quot;geometry&quot;: {&quot;coordinates&quot;: [[[131.625, 37.125], [131.875, 37.125], [131.875, 37.375], [131.625, 37.375], [131.625, 37.125]]], &quot;type&quot;: &quot;Polygon&quot;}, &quot;id&quot;: &quot;54&quot;, &quot;properties&quot;: {&quot;__folium_color&quot;: &quot;#f16244&quot;, &quot;latitude&quot;: 37.125, &quot;longitude&quot;: 131.625, &quot;to&quot;: 12.395500183105469}, &quot;type&quot;: &quot;Feature&quot;}, {&quot;bbox&quot;: [131.875, 37.125, 132.125, 37.375], &quot;geometry&quot;: {&quot;coordinates&quot;: [[[131.875, 37.125], [132.125, 37.125], [132.125, 37.375], [131.875, 37.375], [131.875, 37.125]]], &quot;type&quot;: &quot;Polygon&quot;}, &quot;id&quot;: &quot;55&quot;, &quot;properties&quot;: {&quot;__folium_color&quot;: &quot;#f16445&quot;, &quot;latitude&quot;: 37.125, &quot;longitude&quot;: 131.875, &quot;to&quot;: 12.427874565124512}, &quot;type&quot;: &quot;Feature&quot;}, {&quot;bbox&quot;: [132.125, 37.125, 132.375, 37.375], &quot;geometry&quot;: {&quot;coordinates&quot;: [[[132.125, 37.125], [132.375, 37.125], [132.375, 37.375], [132.125, 37.375], [132.125, 37.125]]], &quot;type&quot;: &quot;Polygon&quot;}, &quot;id&quot;: &quot;56&quot;, &quot;properties&quot;: {&quot;__folium_color&quot;: &quot;#f16646&quot;, &quot;latitude&quot;: 37.125, &quot;longitude&quot;: 132.125, &quot;to&quot;: 12.447124481201172}, &quot;type&quot;: &quot;Feature&quot;}, {&quot;bbox&quot;: [132.375, 37.125, 132.625, 37.375], &quot;geometry&quot;: {&quot;coordinates&quot;: [[[132.375, 37.125], [132.625, 37.125], [132.625, 37.375], [132.375, 37.375], [132.375, 37.125]]], &quot;type&quot;: &quot;Polygon&quot;}, &quot;id&quot;: &quot;57&quot;, &quot;properties&quot;: {&quot;__folium_color&quot;: &quot;#f05e42&quot;, &quot;latitude&quot;: 37.125, &quot;longitude&quot;: 132.375, &quot;to&quot;: 12.360124588012695}, &quot;type&quot;: &quot;Feature&quot;}, {&quot;bbox&quot;: [132.625, 37.125, 132.875, 37.375], &quot;geometry&quot;: {&quot;coordinates&quot;: [[[132.625, 37.125], [132.875, 37.125], [132.875, 37.375], [132.625, 37.375], [132.625, 37.125]]], &quot;type&quot;: &quot;Polygon&quot;}, &quot;id&quot;: &quot;58&quot;, &quot;properties&quot;: {&quot;__folium_color&quot;: &quot;#f16646&quot;, &quot;latitude&quot;: 37.125, &quot;longitude&quot;: 132.625, &quot;to&quot;: 12.435999870300293}, &quot;type&quot;: &quot;Feature&quot;}, {&quot;bbox&quot;: [132.875, 37.125, 133.125, 37.375], &quot;geometry&quot;: {&quot;coordinates&quot;: [[[132.875, 37.125], [133.125, 37.125], [133.125, 37.375], [132.875, 37.375], [132.875, 37.125]]], &quot;type&quot;: &quot;Polygon&quot;}, &quot;id&quot;: &quot;59&quot;, &quot;properties&quot;: {&quot;__folium_color&quot;: &quot;#f47d57&quot;, &quot;latitude&quot;: 37.125, &quot;longitude&quot;: 132.875, &quot;to&quot;: 12.722000122070312}, &quot;type&quot;: &quot;Feature&quot;}, {&quot;bbox&quot;: [130.125, 37.375, 130.375, 37.625], &quot;geometry&quot;: {&quot;coordinates&quot;: [[[130.125, 37.375], [130.375, 37.375], [130.375, 37.625], [130.125, 37.625], [130.125, 37.375]]], &quot;type&quot;: &quot;Polygon&quot;}, &quot;id&quot;: &quot;60&quot;, &quot;properties&quot;: {&quot;__folium_color&quot;: &quot;#f4865e&quot;, &quot;latitude&quot;: 37.375, &quot;longitude&quot;: 130.125, &quot;to&quot;: 12.82824993133545}, &quot;type&quot;: &quot;Feature&quot;}, {&quot;bbox&quot;: [130.375, 37.375, 130.625, 37.625], &quot;geometry&quot;: {&quot;coordinates&quot;: [[[130.375, 37.375], [130.625, 37.375], [130.625, 37.625], [130.375, 37.625], [130.375, 37.375]]], &quot;type&quot;: &quot;Polygon&quot;}, &quot;id&quot;: &quot;61&quot;, &quot;properties&quot;: {&quot;__folium_color&quot;: &quot;#f47c55&quot;, &quot;latitude&quot;: 37.375, &quot;longitude&quot;: 130.375, &quot;to&quot;: 12.712249755859375}, &quot;type&quot;: &quot;Feature&quot;}, {&quot;bbox&quot;: [130.625, 37.375, 130.875, 37.625], &quot;geometry&quot;: {&quot;coordinates&quot;: [[[130.625, 37.375], [130.875, 37.375], [130.875, 37.625], [130.625, 37.625], [130.625, 37.375]]], &quot;type&quot;: &quot;Polygon&quot;}, &quot;id&quot;: &quot;62&quot;, &quot;properties&quot;: {&quot;__folium_color&quot;: &quot;#f16646&quot;, &quot;latitude&quot;: 37.375, &quot;longitude&quot;: 130.625, &quot;to&quot;: 12.442249298095703}, &quot;type&quot;: &quot;Feature&quot;}, {&quot;bbox&quot;: [130.875, 37.375, 131.125, 37.625], &quot;geometry&quot;: {&quot;coordinates&quot;: [[[130.875, 37.375], [131.125, 37.375], [131.125, 37.625], [130.875, 37.625], [130.875, 37.375]]], &quot;type&quot;: &quot;Polygon&quot;}, &quot;id&quot;: &quot;63&quot;, &quot;properties&quot;: {&quot;__folium_color&quot;: &quot;#ee543f&quot;, &quot;latitude&quot;: 37.375, &quot;longitude&quot;: 130.875, &quot;to&quot;: 12.247499465942383}, &quot;type&quot;: &quot;Feature&quot;}, {&quot;bbox&quot;: [131.125, 37.375, 131.375, 37.625], &quot;geometry&quot;: {&quot;coordinates&quot;: [[[131.125, 37.375], [131.375, 37.375], [131.375, 37.625], [131.125, 37.625], [131.125, 37.375]]], &quot;type&quot;: &quot;Polygon&quot;}, &quot;id&quot;: &quot;64&quot;, &quot;properties&quot;: {&quot;__folium_color&quot;: &quot;#ec4a3e&quot;, &quot;latitude&quot;: 37.375, &quot;longitude&quot;: 131.125, &quot;to&quot;: 12.127374649047852}, &quot;type&quot;: &quot;Feature&quot;}, {&quot;bbox&quot;: [131.375, 37.375, 131.625, 37.625], &quot;geometry&quot;: {&quot;coordinates&quot;: [[[131.375, 37.375], [131.625, 37.375], [131.625, 37.625], [131.375, 37.625], [131.375, 37.375]]], &quot;type&quot;: &quot;Polygon&quot;}, &quot;id&quot;: &quot;65&quot;, &quot;properties&quot;: {&quot;__folium_color&quot;: &quot;#ec4c3e&quot;, &quot;latitude&quot;: 37.375, &quot;longitude&quot;: 131.375, &quot;to&quot;: 12.165374755859375}, &quot;type&quot;: &quot;Feature&quot;}, {&quot;bbox&quot;: [131.625, 37.375, 131.875, 37.625], &quot;geometry&quot;: {&quot;coordinates&quot;: [[[131.625, 37.375], [131.875, 37.375], [131.875, 37.625], [131.625, 37.625], [131.625, 37.375]]], &quot;type&quot;: &quot;Polygon&quot;}, &quot;id&quot;: &quot;66&quot;, &quot;properties&quot;: {&quot;__folium_color&quot;: &quot;#f06043&quot;, &quot;latitude&quot;: 37.375, &quot;longitude&quot;: 131.625, &quot;to&quot;: 12.37024974822998}, &quot;type&quot;: &quot;Feature&quot;}, {&quot;bbox&quot;: [131.875, 37.375, 132.125, 37.625], &quot;geometry&quot;: {&quot;coordinates&quot;: [[[131.875, 37.375], [132.125, 37.375], [132.125, 37.625], [131.875, 37.625], [131.875, 37.375]]], &quot;type&quot;: &quot;Polygon&quot;}, &quot;id&quot;: &quot;67&quot;, &quot;properties&quot;: {&quot;__folium_color&quot;: &quot;#f26948&quot;, &quot;latitude&quot;: 37.375, &quot;longitude&quot;: 131.875, &quot;to&quot;: 12.480124473571777}, &quot;type&quot;: &quot;Feature&quot;}, {&quot;bbox&quot;: [132.125, 37.375, 132.375, 37.625], &quot;geometry&quot;: {&quot;coordinates&quot;: [[[132.125, 37.375], [132.375, 37.375], [132.375, 37.625], [132.125, 37.625], [132.125, 37.375]]], &quot;type&quot;: &quot;Polygon&quot;}, &quot;id&quot;: &quot;68&quot;, &quot;properties&quot;: {&quot;__folium_color&quot;: &quot;#f05e42&quot;, &quot;latitude&quot;: 37.375, &quot;longitude&quot;: 132.125, &quot;to&quot;: 12.360374450683594}, &quot;type&quot;: &quot;Feature&quot;}, {&quot;bbox&quot;: [132.375, 37.375, 132.625, 37.625], &quot;geometry&quot;: {&quot;coordinates&quot;: [[[132.375, 37.375], [132.625, 37.375], [132.625, 37.625], [132.375, 37.625], [132.375, 37.375]]], &quot;type&quot;: &quot;Polygon&quot;}, &quot;id&quot;: &quot;69&quot;, &quot;properties&quot;: {&quot;__folium_color&quot;: &quot;#ee543f&quot;, &quot;latitude&quot;: 37.375, &quot;longitude&quot;: 132.375, &quot;to&quot;: 12.247624397277832}, &quot;type&quot;: &quot;Feature&quot;}, {&quot;bbox&quot;: [132.625, 37.375, 132.875, 37.625], &quot;geometry&quot;: {&quot;coordinates&quot;: [[[132.625, 37.375], [132.875, 37.375], [132.875, 37.625], [132.625, 37.625], [132.625, 37.375]]], &quot;type&quot;: &quot;Polygon&quot;}, &quot;id&quot;: &quot;70&quot;, &quot;properties&quot;: {&quot;__folium_color&quot;: &quot;#ec4c3e&quot;, &quot;latitude&quot;: 37.375, &quot;longitude&quot;: 132.625, &quot;to&quot;: 12.153374671936035}, &quot;type&quot;: &quot;Feature&quot;}, {&quot;bbox&quot;: [132.875, 37.375, 133.125, 37.625], &quot;geometry&quot;: {&quot;coordinates&quot;: [[[132.875, 37.375], [133.125, 37.375], [133.125, 37.625], [132.875, 37.625], [132.875, 37.375]]], &quot;type&quot;: &quot;Polygon&quot;}, &quot;id&quot;: &quot;71&quot;, &quot;properties&quot;: {&quot;__folium_color&quot;: &quot;#ee523f&quot;, &quot;latitude&quot;: 37.375, &quot;longitude&quot;: 132.875, &quot;to&quot;: 12.229249954223633}, &quot;type&quot;: &quot;Feature&quot;}, {&quot;bbox&quot;: [130.125, 37.625, 130.375, 37.875], &quot;geometry&quot;: {&quot;coordinates&quot;: [[[130.125, 37.625], [130.375, 37.625], [130.375, 37.875], [130.125, 37.875], [130.125, 37.625]]], &quot;type&quot;: &quot;Polygon&quot;}, &quot;id&quot;: &quot;72&quot;, &quot;properties&quot;: {&quot;__folium_color&quot;: &quot;#f37852&quot;, &quot;latitude&quot;: 37.625, &quot;longitude&quot;: 130.125, &quot;to&quot;: 12.668375015258789}, &quot;type&quot;: &quot;Feature&quot;}, {&quot;bbox&quot;: [130.375, 37.625, 130.625, 37.875], &quot;geometry&quot;: {&quot;coordinates&quot;: [[[130.375, 37.625], [130.625, 37.625], [130.625, 37.875], [130.375, 37.875], [130.375, 37.625]]], &quot;type&quot;: &quot;Polygon&quot;}, &quot;id&quot;: &quot;73&quot;, &quot;properties&quot;: {&quot;__folium_color&quot;: &quot;#f37651&quot;, &quot;latitude&quot;: 37.625, &quot;longitude&quot;: 130.375, &quot;to&quot;: 12.64787483215332}, &quot;type&quot;: &quot;Feature&quot;}, {&quot;bbox&quot;: [130.625, 37.625, 130.875, 37.875], &quot;geometry&quot;: {&quot;coordinates&quot;: [[[130.625, 37.625], [130.875, 37.625], [130.875, 37.875], [130.625, 37.875], [130.625, 37.625]]], &quot;type&quot;: &quot;Polygon&quot;}, &quot;id&quot;: &quot;74&quot;, &quot;properties&quot;: {&quot;__folium_color&quot;: &quot;#f3734e&quot;, &quot;latitude&quot;: 37.625, &quot;longitude&quot;: 130.625, &quot;to&quot;: 12.592249870300293}, &quot;type&quot;: &quot;Feature&quot;}, {&quot;bbox&quot;: [130.875, 37.625, 131.125, 37.875], &quot;geometry&quot;: {&quot;coordinates&quot;: [[[130.875, 37.625], [131.125, 37.625], [131.125, 37.875], [130.875, 37.875], [130.875, 37.625]]], &quot;type&quot;: &quot;Polygon&quot;}, &quot;id&quot;: &quot;75&quot;, &quot;properties&quot;: {&quot;__folium_color&quot;: &quot;#f05e42&quot;, &quot;latitude&quot;: 37.625, &quot;longitude&quot;: 130.875, &quot;to&quot;: 12.351499557495117}, &quot;type&quot;: &quot;Feature&quot;}, {&quot;bbox&quot;: [131.125, 37.625, 131.375, 37.875], &quot;geometry&quot;: {&quot;coordinates&quot;: [[[131.125, 37.625], [131.375, 37.625], [131.375, 37.875], [131.125, 37.875], [131.125, 37.625]]], &quot;type&quot;: &quot;Polygon&quot;}, &quot;id&quot;: &quot;76&quot;, &quot;properties&quot;: {&quot;__folium_color&quot;: &quot;#ed4e3e&quot;, &quot;latitude&quot;: 37.625, &quot;longitude&quot;: 131.125, &quot;to&quot;: 12.187374114990234}, &quot;type&quot;: &quot;Feature&quot;}, {&quot;bbox&quot;: [131.375, 37.625, 131.625, 37.875], &quot;geometry&quot;: {&quot;coordinates&quot;: [[[131.375, 37.625], [131.625, 37.625], [131.625, 37.875], [131.375, 37.875], [131.375, 37.625]]], &quot;type&quot;: &quot;Polygon&quot;}, &quot;id&quot;: &quot;77&quot;, &quot;properties&quot;: {&quot;__folium_color&quot;: &quot;#ec4a3e&quot;, &quot;latitude&quot;: 37.625, &quot;longitude&quot;: 131.375, &quot;to&quot;: 12.140124320983887}, &quot;type&quot;: &quot;Feature&quot;}, {&quot;bbox&quot;: [131.625, 37.625, 131.875, 37.875], &quot;geometry&quot;: {&quot;coordinates&quot;: [[[131.625, 37.625], [131.875, 37.625], [131.875, 37.875], [131.625, 37.875], [131.625, 37.625]]], &quot;type&quot;: &quot;Polygon&quot;}, &quot;id&quot;: &quot;78&quot;, &quot;properties&quot;: {&quot;__folium_color&quot;: &quot;#ed503e&quot;, &quot;latitude&quot;: 37.625, &quot;longitude&quot;: 131.625, &quot;to&quot;: 12.206375122070312}, &quot;type&quot;: &quot;Feature&quot;}, {&quot;bbox&quot;: [131.875, 37.625, 132.125, 37.875], &quot;geometry&quot;: {&quot;coordinates&quot;: [[[131.875, 37.625], [132.125, 37.625], [132.125, 37.875], [131.875, 37.875], [131.875, 37.625]]], &quot;type&quot;: &quot;Polygon&quot;}, &quot;id&quot;: &quot;79&quot;, &quot;properties&quot;: {&quot;__folium_color&quot;: &quot;#ee523f&quot;, &quot;latitude&quot;: 37.625, &quot;longitude&quot;: 131.875, &quot;to&quot;: 12.219374656677246}, &quot;type&quot;: &quot;Feature&quot;}, {&quot;bbox&quot;: [132.125, 37.625, 132.375, 37.875], &quot;geometry&quot;: {&quot;coordinates&quot;: [[[132.125, 37.625], [132.375, 37.625], [132.375, 37.875], [132.125, 37.875], [132.125, 37.625]]], &quot;type&quot;: &quot;Polygon&quot;}, &quot;id&quot;: &quot;80&quot;, &quot;properties&quot;: {&quot;__folium_color&quot;: &quot;#ee523f&quot;, &quot;latitude&quot;: 37.625, &quot;longitude&quot;: 132.125, &quot;to&quot;: 12.228249549865723}, &quot;type&quot;: &quot;Feature&quot;}, {&quot;bbox&quot;: [132.375, 37.625, 132.625, 37.875], &quot;geometry&quot;: {&quot;coordinates&quot;: [[[132.375, 37.625], [132.625, 37.625], [132.625, 37.875], [132.375, 37.875], [132.375, 37.625]]], &quot;type&quot;: &quot;Polygon&quot;}, &quot;id&quot;: &quot;81&quot;, &quot;properties&quot;: {&quot;__folium_color&quot;: &quot;#ea443e&quot;, &quot;latitude&quot;: 37.625, &quot;longitude&quot;: 132.375, &quot;to&quot;: 12.069623947143555}, &quot;type&quot;: &quot;Feature&quot;}, {&quot;bbox&quot;: [132.625, 37.625, 132.875, 37.875], &quot;geometry&quot;: {&quot;coordinates&quot;: [[[132.625, 37.625], [132.875, 37.625], [132.875, 37.875], [132.625, 37.875], [132.625, 37.625]]], &quot;type&quot;: &quot;Polygon&quot;}, &quot;id&quot;: &quot;82&quot;, &quot;properties&quot;: {&quot;__folium_color&quot;: &quot;#e83f3f&quot;, &quot;latitude&quot;: 37.625, &quot;longitude&quot;: 132.625, &quot;to&quot;: 12.0024995803833}, &quot;type&quot;: &quot;Feature&quot;}, {&quot;bbox&quot;: [132.875, 37.625, 133.125, 37.875], &quot;geometry&quot;: {&quot;coordinates&quot;: [[[132.875, 37.625], [133.125, 37.625], [133.125, 37.875], [132.875, 37.875], [132.875, 37.625]]], &quot;type&quot;: &quot;Polygon&quot;}, &quot;id&quot;: &quot;83&quot;, &quot;properties&quot;: {&quot;__folium_color&quot;: &quot;#e33641&quot;, &quot;latitude&quot;: 37.625, &quot;longitude&quot;: 132.875, &quot;to&quot;: 11.890625}, &quot;type&quot;: &quot;Feature&quot;}, {&quot;bbox&quot;: [130.125, 37.875, 130.375, 38.125], &quot;geometry&quot;: {&quot;coordinates&quot;: [[[130.125, 37.875], [130.375, 37.875], [130.375, 38.125], [130.125, 38.125], [130.125, 37.875]]], &quot;type&quot;: &quot;Polygon&quot;}, &quot;id&quot;: &quot;84&quot;, &quot;properties&quot;: {&quot;__folium_color&quot;: &quot;#f06043&quot;, &quot;latitude&quot;: 37.875, &quot;longitude&quot;: 130.125, &quot;to&quot;: 12.370124816894531}, &quot;type&quot;: &quot;Feature&quot;}, {&quot;bbox&quot;: [130.375, 37.875, 130.625, 38.125], &quot;geometry&quot;: {&quot;coordinates&quot;: [[[130.375, 37.875], [130.625, 37.875], [130.625, 38.125], [130.375, 38.125], [130.375, 37.875]]], &quot;type&quot;: &quot;Polygon&quot;}, &quot;id&quot;: &quot;85&quot;, &quot;properties&quot;: {&quot;__folium_color&quot;: &quot;#f16445&quot;, &quot;latitude&quot;: 37.875, &quot;longitude&quot;: 130.375, &quot;to&quot;: 12.412249565124512}, &quot;type&quot;: &quot;Feature&quot;}, {&quot;bbox&quot;: [130.625, 37.875, 130.875, 38.125], &quot;geometry&quot;: {&quot;coordinates&quot;: [[[130.625, 37.875], [130.875, 37.875], [130.875, 38.125], [130.625, 38.125], [130.625, 37.875]]], &quot;type&quot;: &quot;Polygon&quot;}, &quot;id&quot;: &quot;86&quot;, &quot;properties&quot;: {&quot;__folium_color&quot;: &quot;#f16244&quot;, &quot;latitude&quot;: 37.875, &quot;longitude&quot;: 130.625, &quot;to&quot;: 12.395750045776367}, &quot;type&quot;: &quot;Feature&quot;}, {&quot;bbox&quot;: [130.875, 37.875, 131.125, 38.125], &quot;geometry&quot;: {&quot;coordinates&quot;: [[[130.875, 37.875], [131.125, 37.875], [131.125, 38.125], [130.875, 38.125], [130.875, 37.875]]], &quot;type&quot;: &quot;Polygon&quot;}, &quot;id&quot;: &quot;87&quot;, &quot;properties&quot;: {&quot;__folium_color&quot;: &quot;#ee543f&quot;, &quot;latitude&quot;: 37.875, &quot;longitude&quot;: 130.875, &quot;to&quot;: 12.241374969482422}, &quot;type&quot;: &quot;Feature&quot;}, {&quot;bbox&quot;: [131.125, 37.875, 131.375, 38.125], &quot;geometry&quot;: {&quot;coordinates&quot;: [[[131.125, 37.875], [131.375, 37.875], [131.375, 38.125], [131.125, 38.125], [131.125, 37.875]]], &quot;type&quot;: &quot;Polygon&quot;}, &quot;id&quot;: &quot;88&quot;, &quot;properties&quot;: {&quot;__folium_color&quot;: &quot;#e8403e&quot;, &quot;latitude&quot;: 37.875, &quot;longitude&quot;: 131.125, &quot;to&quot;: 12.033624649047852}, &quot;type&quot;: &quot;Feature&quot;}, {&quot;bbox&quot;: [131.375, 37.875, 131.625, 38.125], &quot;geometry&quot;: {&quot;coordinates&quot;: [[[131.375, 37.875], [131.625, 37.875], [131.625, 38.125], [131.375, 38.125], [131.375, 37.875]]], &quot;type&quot;: &quot;Polygon&quot;}, &quot;id&quot;: &quot;89&quot;, &quot;properties&quot;: {&quot;__folium_color&quot;: &quot;#e63b40&quot;, &quot;latitude&quot;: 37.875, &quot;longitude&quot;: 131.375, &quot;to&quot;: 11.960124969482422}, &quot;type&quot;: &quot;Feature&quot;}, {&quot;bbox&quot;: [131.625, 37.875, 131.875, 38.125], &quot;geometry&quot;: {&quot;coordinates&quot;: [[[131.625, 37.875], [131.875, 37.875], [131.875, 38.125], [131.625, 38.125], [131.625, 37.875]]], &quot;type&quot;: &quot;Polygon&quot;}, &quot;id&quot;: &quot;90&quot;, &quot;properties&quot;: {&quot;__folium_color&quot;: &quot;#e9423e&quot;, &quot;latitude&quot;: 37.875, &quot;longitude&quot;: 131.625, &quot;to&quot;: 12.055374145507812}, &quot;type&quot;: &quot;Feature&quot;}, {&quot;bbox&quot;: [131.875, 37.875, 132.125, 38.125], &quot;geometry&quot;: {&quot;coordinates&quot;: [[[131.875, 37.875], [132.125, 37.875], [132.125, 38.125], [131.875, 38.125], [131.875, 37.875]]], &quot;type&quot;: &quot;Polygon&quot;}, &quot;id&quot;: &quot;91&quot;, &quot;properties&quot;: {&quot;__folium_color&quot;: &quot;#e8403e&quot;, &quot;latitude&quot;: 37.875, &quot;longitude&quot;: 131.875, &quot;to&quot;: 12.023374557495117}, &quot;type&quot;: &quot;Feature&quot;}, {&quot;bbox&quot;: [132.125, 37.875, 132.375, 38.125], &quot;geometry&quot;: {&quot;coordinates&quot;: [[[132.125, 37.875], [132.375, 37.875], [132.375, 38.125], [132.125, 38.125], [132.125, 37.875]]], &quot;type&quot;: &quot;Polygon&quot;}, &quot;id&quot;: &quot;92&quot;, &quot;properties&quot;: {&quot;__folium_color&quot;: &quot;#ea443e&quot;, &quot;latitude&quot;: 37.875, &quot;longitude&quot;: 132.125, &quot;to&quot;: 12.074999809265137}, &quot;type&quot;: &quot;Feature&quot;}, {&quot;bbox&quot;: [132.375, 37.875, 132.625, 38.125], &quot;geometry&quot;: {&quot;coordinates&quot;: [[[132.375, 37.875], [132.625, 37.875], [132.625, 38.125], [132.375, 38.125], [132.375, 37.875]]], &quot;type&quot;: &quot;Polygon&quot;}, &quot;id&quot;: &quot;93&quot;, &quot;properties&quot;: {&quot;__folium_color&quot;: &quot;#e23442&quot;, &quot;latitude&quot;: 37.875, &quot;longitude&quot;: 132.375, &quot;to&quot;: 11.877874374389648}, &quot;type&quot;: &quot;Feature&quot;}, {&quot;bbox&quot;: [132.625, 37.875, 132.875, 38.125], &quot;geometry&quot;: {&quot;coordinates&quot;: [[[132.625, 37.875], [132.875, 37.875], [132.875, 38.125], [132.625, 38.125], [132.625, 37.875]]], &quot;type&quot;: &quot;Polygon&quot;}, &quot;id&quot;: &quot;94&quot;, &quot;properties&quot;: {&quot;__folium_color&quot;: &quot;#d3214b&quot;, &quot;latitude&quot;: 37.875, &quot;longitude&quot;: 132.625, &quot;to&quot;: 11.58449935913086}, &quot;type&quot;: &quot;Feature&quot;}, {&quot;bbox&quot;: [132.875, 37.875, 133.125, 38.125], &quot;geometry&quot;: {&quot;coordinates&quot;: [[[132.875, 37.875], [133.125, 37.875], [133.125, 38.125], [132.875, 38.125], [132.875, 37.875]]], &quot;type&quot;: &quot;Polygon&quot;}, &quot;id&quot;: &quot;95&quot;, &quot;properties&quot;: {&quot;__folium_color&quot;: &quot;#ce1d4e&quot;, &quot;latitude&quot;: 37.875, &quot;longitude&quot;: 132.875, &quot;to&quot;: 11.50724983215332}, &quot;type&quot;: &quot;Feature&quot;}, {&quot;bbox&quot;: [130.125, 38.125, 130.375, 38.375], &quot;geometry&quot;: {&quot;coordinates&quot;: [[[130.125, 38.125], [130.375, 38.125], [130.375, 38.375], [130.125, 38.375], [130.125, 38.125]]], &quot;type&quot;: &quot;Polygon&quot;}, &quot;id&quot;: &quot;96&quot;, &quot;properties&quot;: {&quot;__folium_color&quot;: &quot;#ed503e&quot;, &quot;latitude&quot;: 38.125, &quot;longitude&quot;: 130.125, &quot;to&quot;: 12.207249641418457}, &quot;type&quot;: &quot;Feature&quot;}, {&quot;bbox&quot;: [130.375, 38.125, 130.625, 38.375], &quot;geometry&quot;: {&quot;coordinates&quot;: [[[130.375, 38.125], [130.625, 38.125], [130.625, 38.375], [130.375, 38.375], [130.375, 38.125]]], &quot;type&quot;: &quot;Polygon&quot;}, &quot;id&quot;: &quot;97&quot;, &quot;properties&quot;: {&quot;__folium_color&quot;: &quot;#ec4c3e&quot;, &quot;latitude&quot;: 38.125, &quot;longitude&quot;: 130.375, &quot;to&quot;: 12.163374900817871}, &quot;type&quot;: &quot;Feature&quot;}, {&quot;bbox&quot;: [130.625, 38.125, 130.875, 38.375], &quot;geometry&quot;: {&quot;coordinates&quot;: [[[130.625, 38.125], [130.875, 38.125], [130.875, 38.375], [130.625, 38.375], [130.625, 38.125]]], &quot;type&quot;: &quot;Polygon&quot;}, &quot;id&quot;: &quot;98&quot;, &quot;properties&quot;: {&quot;__folium_color&quot;: &quot;#e53940&quot;, &quot;latitude&quot;: 38.125, &quot;longitude&quot;: 130.625, &quot;to&quot;: 11.929749488830566}, &quot;type&quot;: &quot;Feature&quot;}, {&quot;bbox&quot;: [130.875, 38.125, 131.125, 38.375], &quot;geometry&quot;: {&quot;coordinates&quot;: [[[130.875, 38.125], [131.125, 38.125], [131.125, 38.375], [130.875, 38.375], [130.875, 38.125]]], &quot;type&quot;: &quot;Polygon&quot;}, &quot;id&quot;: &quot;99&quot;, &quot;properties&quot;: {&quot;__folium_color&quot;: &quot;#e13342&quot;, &quot;latitude&quot;: 38.125, &quot;longitude&quot;: 130.875, &quot;to&quot;: 11.849874496459961}, &quot;type&quot;: &quot;Feature&quot;}, {&quot;bbox&quot;: [131.125, 38.125, 131.375, 38.375], &quot;geometry&quot;: {&quot;coordinates&quot;: [[[131.125, 38.125], [131.375, 38.125], [131.375, 38.375], [131.125, 38.375], [131.125, 38.125]]], &quot;type&quot;: &quot;Polygon&quot;}, &quot;id&quot;: &quot;100&quot;, &quot;properties&quot;: {&quot;__folium_color&quot;: &quot;#e03143&quot;, &quot;latitude&quot;: 38.125, &quot;longitude&quot;: 131.125, &quot;to&quot;: 11.821999549865723}, &quot;type&quot;: &quot;Feature&quot;}, {&quot;bbox&quot;: [131.375, 38.125, 131.625, 38.375], &quot;geometry&quot;: {&quot;coordinates&quot;: [[[131.375, 38.125], [131.625, 38.125], [131.625, 38.375], [131.375, 38.375], [131.375, 38.125]]], &quot;type&quot;: &quot;Polygon&quot;}, &quot;id&quot;: &quot;101&quot;, &quot;properties&quot;: {&quot;__folium_color&quot;: &quot;#e33641&quot;, &quot;latitude&quot;: 38.125, &quot;longitude&quot;: 131.375, &quot;to&quot;: 11.890999794006348}, &quot;type&quot;: &quot;Feature&quot;}, {&quot;bbox&quot;: [131.625, 38.125, 131.875, 38.375], &quot;geometry&quot;: {&quot;coordinates&quot;: [[[131.625, 38.125], [131.875, 38.125], [131.875, 38.375], [131.625, 38.375], [131.625, 38.125]]], &quot;type&quot;: &quot;Polygon&quot;}, &quot;id&quot;: &quot;102&quot;, &quot;properties&quot;: {&quot;__folium_color&quot;: &quot;#e8403e&quot;, &quot;latitude&quot;: 38.125, &quot;longitude&quot;: 131.625, &quot;to&quot;: 12.033124923706055}, &quot;type&quot;: &quot;Feature&quot;}, {&quot;bbox&quot;: [131.875, 38.125, 132.125, 38.375], &quot;geometry&quot;: {&quot;coordinates&quot;: [[[131.875, 38.125], [132.125, 38.125], [132.125, 38.375], [131.875, 38.375], [131.875, 38.125]]], &quot;type&quot;: &quot;Polygon&quot;}, &quot;id&quot;: &quot;103&quot;, &quot;properties&quot;: {&quot;__folium_color&quot;: &quot;#e03143&quot;, &quot;latitude&quot;: 38.125, &quot;longitude&quot;: 131.875, &quot;to&quot;: 11.830499649047852}, &quot;type&quot;: &quot;Feature&quot;}, {&quot;bbox&quot;: [132.125, 38.125, 132.375, 38.375], &quot;geometry&quot;: {&quot;coordinates&quot;: [[[132.125, 38.125], [132.375, 38.125], [132.375, 38.375], [132.125, 38.375], [132.125, 38.125]]], &quot;type&quot;: &quot;Polygon&quot;}, &quot;id&quot;: &quot;104&quot;, &quot;properties&quot;: {&quot;__folium_color&quot;: &quot;#d2204c&quot;, &quot;latitude&quot;: 38.125, &quot;longitude&quot;: 132.125, &quot;to&quot;: 11.556124687194824}, &quot;type&quot;: &quot;Feature&quot;}, {&quot;bbox&quot;: [132.375, 38.125, 132.625, 38.375], &quot;geometry&quot;: {&quot;coordinates&quot;: [[[132.375, 38.125], [132.625, 38.125], [132.625, 38.375], [132.375, 38.375], [132.375, 38.125]]], &quot;type&quot;: &quot;Polygon&quot;}, &quot;id&quot;: &quot;105&quot;, &quot;properties&quot;: {&quot;__folium_color&quot;: &quot;#ca1a50&quot;, &quot;latitude&quot;: 38.125, &quot;longitude&quot;: 132.375, &quot;to&quot;: 11.429624557495117}, &quot;type&quot;: &quot;Feature&quot;}, {&quot;bbox&quot;: [132.625, 38.125, 132.875, 38.375], &quot;geometry&quot;: {&quot;coordinates&quot;: [[[132.625, 38.125], [132.875, 38.125], [132.875, 38.375], [132.625, 38.375], [132.625, 38.125]]], &quot;type&quot;: &quot;Polygon&quot;}, &quot;id&quot;: &quot;106&quot;, &quot;properties&quot;: {&quot;__folium_color&quot;: &quot;#ab185a&quot;, &quot;latitude&quot;: 38.125, &quot;longitude&quot;: 132.625, &quot;to&quot;: 11.016749382019043}, &quot;type&quot;: &quot;Feature&quot;}, {&quot;bbox&quot;: [132.875, 38.125, 133.125, 38.375], &quot;geometry&quot;: {&quot;coordinates&quot;: [[[132.875, 38.125], [133.125, 38.125], [133.125, 38.375], [132.875, 38.375], [132.875, 38.125]]], &quot;type&quot;: &quot;Polygon&quot;}, &quot;id&quot;: &quot;107&quot;, &quot;properties&quot;: {&quot;__folium_color&quot;: &quot;#ad1759&quot;, &quot;latitude&quot;: 38.125, &quot;longitude&quot;: 132.875, &quot;to&quot;: 11.038249969482422}, &quot;type&quot;: &quot;Feature&quot;}, {&quot;bbox&quot;: [130.125, 38.375, 130.375, 38.625], &quot;geometry&quot;: {&quot;coordinates&quot;: [[[130.125, 38.375], [130.375, 38.375], [130.375, 38.625], [130.125, 38.625], [130.125, 38.375]]], &quot;type&quot;: &quot;Polygon&quot;}, &quot;id&quot;: &quot;108&quot;, &quot;properties&quot;: {&quot;__folium_color&quot;: &quot;#9a1b5b&quot;, &quot;latitude&quot;: 38.375, &quot;longitude&quot;: 130.125, &quot;to&quot;: 10.789124488830566}, &quot;type&quot;: &quot;Feature&quot;}, {&quot;bbox&quot;: [130.375, 38.375, 130.625, 38.625], &quot;geometry&quot;: {&quot;coordinates&quot;: [[[130.375, 38.375], [130.625, 38.375], [130.625, 38.625], [130.375, 38.625], [130.375, 38.375]]], &quot;type&quot;: &quot;Polygon&quot;}, &quot;id&quot;: &quot;109&quot;, &quot;properties&quot;: {&quot;__folium_color&quot;: &quot;#b51657&quot;, &quot;latitude&quot;: 38.375, &quot;longitude&quot;: 130.375, &quot;to&quot;: 11.15637493133545}, &quot;type&quot;: &quot;Feature&quot;}, {&quot;bbox&quot;: [130.625, 38.375, 130.875, 38.625], &quot;geometry&quot;: {&quot;coordinates&quot;: [[[130.625, 38.375], [130.875, 38.375], [130.875, 38.625], [130.625, 38.625], [130.625, 38.375]]], &quot;type&quot;: &quot;Polygon&quot;}, &quot;id&quot;: &quot;110&quot;, &quot;properties&quot;: {&quot;__folium_color&quot;: &quot;#ca1a50&quot;, &quot;latitude&quot;: 38.375, &quot;longitude&quot;: 130.625, &quot;to&quot;: 11.437874794006348}, &quot;type&quot;: &quot;Feature&quot;}, {&quot;bbox&quot;: [130.875, 38.375, 131.125, 38.625], &quot;geometry&quot;: {&quot;coordinates&quot;: [[[130.875, 38.375], [131.125, 38.375], [131.125, 38.625], [130.875, 38.625], [130.875, 38.375]]], &quot;type&quot;: &quot;Polygon&quot;}, &quot;id&quot;: &quot;111&quot;, &quot;properties&quot;: {&quot;__folium_color&quot;: &quot;#c51852&quot;, &quot;latitude&quot;: 38.375, &quot;longitude&quot;: 130.875, &quot;to&quot;: 11.360124588012695}, &quot;type&quot;: &quot;Feature&quot;}, {&quot;bbox&quot;: [131.125, 38.375, 131.375, 38.625], &quot;geometry&quot;: {&quot;coordinates&quot;: [[[131.125, 38.375], [131.375, 38.375], [131.375, 38.625], [131.125, 38.625], [131.125, 38.375]]], &quot;type&quot;: &quot;Polygon&quot;}, &quot;id&quot;: &quot;112&quot;, &quot;properties&quot;: {&quot;__folium_color&quot;: &quot;#ce1d4e&quot;, &quot;latitude&quot;: 38.375, &quot;longitude&quot;: 131.125, &quot;to&quot;: 11.49899959564209}, &quot;type&quot;: &quot;Feature&quot;}, {&quot;bbox&quot;: [131.375, 38.375, 131.625, 38.625], &quot;geometry&quot;: {&quot;coordinates&quot;: [[[131.375, 38.375], [131.625, 38.375], [131.625, 38.625], [131.375, 38.625], [131.375, 38.375]]], &quot;type&quot;: &quot;Polygon&quot;}, &quot;id&quot;: &quot;113&quot;, &quot;properties&quot;: {&quot;__folium_color&quot;: &quot;#cf1e4d&quot;, &quot;latitude&quot;: 38.375, &quot;longitude&quot;: 131.375, &quot;to&quot;: 11.513124465942383}, &quot;type&quot;: &quot;Feature&quot;}, {&quot;bbox&quot;: [131.625, 38.375, 131.875, 38.625], &quot;geometry&quot;: {&quot;coordinates&quot;: [[[131.625, 38.375], [131.875, 38.375], [131.875, 38.625], [131.625, 38.625], [131.625, 38.375]]], &quot;type&quot;: &quot;Polygon&quot;}, &quot;id&quot;: &quot;114&quot;, &quot;properties&quot;: {&quot;__folium_color&quot;: &quot;#ce1d4e&quot;, &quot;latitude&quot;: 38.375, &quot;longitude&quot;: 131.625, &quot;to&quot;: 11.50262451171875}, &quot;type&quot;: &quot;Feature&quot;}, {&quot;bbox&quot;: [131.875, 38.375, 132.125, 38.625], &quot;geometry&quot;: {&quot;coordinates&quot;: [[[131.875, 38.375], [132.125, 38.375], [132.125, 38.625], [131.875, 38.625], [131.875, 38.375]]], &quot;type&quot;: &quot;Polygon&quot;}, &quot;id&quot;: &quot;115&quot;, &quot;properties&quot;: {&quot;__folium_color&quot;: &quot;#c41753&quot;, &quot;latitude&quot;: 38.375, &quot;longitude&quot;: 131.875, &quot;to&quot;: 11.349874496459961}, &quot;type&quot;: &quot;Feature&quot;}, {&quot;bbox&quot;: [132.125, 38.375, 132.375, 38.625], &quot;geometry&quot;: {&quot;coordinates&quot;: [[[132.125, 38.375], [132.375, 38.375], [132.375, 38.625], [132.125, 38.625], [132.125, 38.375]]], &quot;type&quot;: &quot;Polygon&quot;}, &quot;id&quot;: &quot;116&quot;, &quot;properties&quot;: {&quot;__folium_color&quot;: &quot;#b41658&quot;, &quot;latitude&quot;: 38.375, &quot;longitude&quot;: 132.125, &quot;to&quot;: 11.11937427520752}, &quot;type&quot;: &quot;Feature&quot;}, {&quot;bbox&quot;: [132.375, 38.375, 132.625, 38.625], &quot;geometry&quot;: {&quot;coordinates&quot;: [[[132.375, 38.375], [132.625, 38.375], [132.625, 38.625], [132.375, 38.625], [132.375, 38.375]]], &quot;type&quot;: &quot;Polygon&quot;}, &quot;id&quot;: &quot;117&quot;, &quot;properties&quot;: {&quot;__folium_color&quot;: &quot;#a3195b&quot;, &quot;latitude&quot;: 38.375, &quot;longitude&quot;: 132.375, &quot;to&quot;: 10.908499717712402}, &quot;type&quot;: &quot;Feature&quot;}, {&quot;bbox&quot;: [132.625, 38.375, 132.875, 38.625], &quot;geometry&quot;: {&quot;coordinates&quot;: [[[132.625, 38.375], [132.875, 38.375], [132.875, 38.625], [132.625, 38.625], [132.625, 38.375]]], &quot;type&quot;: &quot;Polygon&quot;}, &quot;id&quot;: &quot;118&quot;, &quot;properties&quot;: {&quot;__folium_color&quot;: &quot;#861e5b&quot;, &quot;latitude&quot;: 38.375, &quot;longitude&quot;: 132.625, &quot;to&quot;: 10.532624244689941}, &quot;type&quot;: &quot;Feature&quot;}, {&quot;bbox&quot;: [132.875, 38.375, 133.125, 38.625], &quot;geometry&quot;: {&quot;coordinates&quot;: [[[132.875, 38.375], [133.125, 38.375], [133.125, 38.625], [132.875, 38.625], [132.875, 38.375]]], &quot;type&quot;: &quot;Polygon&quot;}, &quot;id&quot;: &quot;119&quot;, &quot;properties&quot;: {&quot;__folium_color&quot;: &quot;#8e1d5b&quot;, &quot;latitude&quot;: 38.375, &quot;longitude&quot;: 132.875, &quot;to&quot;: 10.641999244689941}, &quot;type&quot;: &quot;Feature&quot;}, {&quot;bbox&quot;: [130.125, 38.625, 130.375, 38.875], &quot;geometry&quot;: {&quot;coordinates&quot;: [[[130.125, 38.625], [130.375, 38.625], [130.375, 38.875], [130.125, 38.875], [130.125, 38.625]]], &quot;type&quot;: &quot;Polygon&quot;}, &quot;id&quot;: &quot;120&quot;, &quot;properties&quot;: {&quot;__folium_color&quot;: &quot;#37193f&quot;, &quot;latitude&quot;: 38.625, &quot;longitude&quot;: 130.125, &quot;to&quot;: 9.462624549865723}, &quot;type&quot;: &quot;Feature&quot;}, {&quot;bbox&quot;: [130.375, 38.625, 130.625, 38.875], &quot;geometry&quot;: {&quot;coordinates&quot;: [[[130.375, 38.625], [130.625, 38.625], [130.625, 38.875], [130.375, 38.875], [130.375, 38.625]]], &quot;type&quot;: &quot;Polygon&quot;}, &quot;id&quot;: &quot;121&quot;, &quot;properties&quot;: {&quot;__folium_color&quot;: &quot;#701f57&quot;, &quot;latitude&quot;: 38.625, &quot;longitude&quot;: 130.375, &quot;to&quot;: 10.239999771118164}, &quot;type&quot;: &quot;Feature&quot;}, {&quot;bbox&quot;: [130.625, 38.625, 130.875, 38.875], &quot;geometry&quot;: {&quot;coordinates&quot;: [[[130.625, 38.625], [130.875, 38.625], [130.875, 38.875], [130.625, 38.875], [130.625, 38.625]]], &quot;type&quot;: &quot;Polygon&quot;}, &quot;id&quot;: &quot;122&quot;, &quot;properties&quot;: {&quot;__folium_color&quot;: &quot;#891e5b&quot;, &quot;latitude&quot;: 38.625, &quot;longitude&quot;: 130.625, &quot;to&quot;: 10.57237434387207}, &quot;type&quot;: &quot;Feature&quot;}, {&quot;bbox&quot;: [130.875, 38.625, 131.125, 38.875], &quot;geometry&quot;: {&quot;coordinates&quot;: [[[130.875, 38.625], [131.125, 38.625], [131.125, 38.875], [130.875, 38.875], [130.875, 38.625]]], &quot;type&quot;: &quot;Polygon&quot;}, &quot;id&quot;: &quot;123&quot;, &quot;properties&quot;: {&quot;__folium_color&quot;: &quot;#a3195b&quot;, &quot;latitude&quot;: 38.625, &quot;longitude&quot;: 130.875, &quot;to&quot;: 10.912249565124512}, &quot;type&quot;: &quot;Feature&quot;}, {&quot;bbox&quot;: [131.125, 38.625, 131.375, 38.875], &quot;geometry&quot;: {&quot;coordinates&quot;: [[[131.125, 38.625], [131.375, 38.625], [131.375, 38.875], [131.125, 38.875], [131.125, 38.625]]], &quot;type&quot;: &quot;Polygon&quot;}, &quot;id&quot;: &quot;124&quot;, &quot;properties&quot;: {&quot;__folium_color&quot;: &quot;#a6195a&quot;, &quot;latitude&quot;: 38.625, &quot;longitude&quot;: 131.125, &quot;to&quot;: 10.958499908447266}, &quot;type&quot;: &quot;Feature&quot;}, {&quot;bbox&quot;: [131.375, 38.625, 131.625, 38.875], &quot;geometry&quot;: {&quot;coordinates&quot;: [[[131.375, 38.625], [131.625, 38.625], [131.625, 38.875], [131.375, 38.875], [131.375, 38.625]]], &quot;type&quot;: &quot;Polygon&quot;}, &quot;id&quot;: &quot;125&quot;, &quot;properties&quot;: {&quot;__folium_color&quot;: &quot;#b51657&quot;, &quot;latitude&quot;: 38.625, &quot;longitude&quot;: 131.375, &quot;to&quot;: 11.15412425994873}, &quot;type&quot;: &quot;Feature&quot;}, {&quot;bbox&quot;: [131.625, 38.625, 131.875, 38.875], &quot;geometry&quot;: {&quot;coordinates&quot;: [[[131.625, 38.625], [131.875, 38.625], [131.875, 38.875], [131.625, 38.875], [131.625, 38.625]]], &quot;type&quot;: &quot;Polygon&quot;}, &quot;id&quot;: &quot;126&quot;, &quot;properties&quot;: {&quot;__folium_color&quot;: &quot;#b01759&quot;, &quot;latitude&quot;: 38.625, &quot;longitude&quot;: 131.625, &quot;to&quot;: 11.086624145507812}, &quot;type&quot;: &quot;Feature&quot;}, {&quot;bbox&quot;: [131.875, 38.625, 132.125, 38.875], &quot;geometry&quot;: {&quot;coordinates&quot;: [[[131.875, 38.625], [132.125, 38.625], [132.125, 38.875], [131.875, 38.875], [131.875, 38.625]]], &quot;type&quot;: &quot;Polygon&quot;}, &quot;id&quot;: &quot;127&quot;, &quot;properties&quot;: {&quot;__folium_color&quot;: &quot;#9f1a5b&quot;, &quot;latitude&quot;: 38.625, &quot;longitude&quot;: 131.875, &quot;to&quot;: 10.85949993133545}, &quot;type&quot;: &quot;Feature&quot;}, {&quot;bbox&quot;: [132.125, 38.625, 132.375, 38.875], &quot;geometry&quot;: {&quot;coordinates&quot;: [[[132.125, 38.625], [132.375, 38.625], [132.375, 38.875], [132.125, 38.875], [132.125, 38.625]]], &quot;type&quot;: &quot;Polygon&quot;}, &quot;id&quot;: &quot;128&quot;, &quot;properties&quot;: {&quot;__folium_color&quot;: &quot;#8b1d5b&quot;, &quot;latitude&quot;: 38.625, &quot;longitude&quot;: 132.125, &quot;to&quot;: 10.603499412536621}, &quot;type&quot;: &quot;Feature&quot;}, {&quot;bbox&quot;: [132.375, 38.625, 132.625, 38.875], &quot;geometry&quot;: {&quot;coordinates&quot;: [[[132.375, 38.625], [132.625, 38.625], [132.625, 38.875], [132.375, 38.875], [132.375, 38.625]]], &quot;type&quot;: &quot;Polygon&quot;}, &quot;id&quot;: &quot;129&quot;, &quot;properties&quot;: {&quot;__folium_color&quot;: &quot;#541e4e&quot;, &quot;latitude&quot;: 38.625, &quot;longitude&quot;: 132.375, &quot;to&quot;: 9.87399959564209}, &quot;type&quot;: &quot;Feature&quot;}, {&quot;bbox&quot;: [132.625, 38.625, 132.875, 38.875], &quot;geometry&quot;: {&quot;coordinates&quot;: [[[132.625, 38.625], [132.875, 38.625], [132.875, 38.875], [132.625, 38.875], [132.625, 38.625]]], &quot;type&quot;: &quot;Polygon&quot;}, &quot;id&quot;: &quot;130&quot;, &quot;properties&quot;: {&quot;__folium_color&quot;: &quot;#581e4f&quot;, &quot;latitude&quot;: 38.625, &quot;longitude&quot;: 132.625, &quot;to&quot;: 9.922874450683594}, &quot;type&quot;: &quot;Feature&quot;}, {&quot;bbox&quot;: [132.875, 38.625, 133.125, 38.875], &quot;geometry&quot;: {&quot;coordinates&quot;: [[[132.875, 38.625], [133.125, 38.625], [133.125, 38.875], [132.875, 38.875], [132.875, 38.625]]], &quot;type&quot;: &quot;Polygon&quot;}, &quot;id&quot;: &quot;131&quot;, &quot;properties&quot;: {&quot;__folium_color&quot;: &quot;#6b1f56&quot;, &quot;latitude&quot;: 38.625, &quot;longitude&quot;: 132.875, &quot;to&quot;: 10.188749313354492}, &quot;type&quot;: &quot;Feature&quot;}, {&quot;bbox&quot;: [130.125, 38.875, 130.375, 39.125], &quot;geometry&quot;: {&quot;coordinates&quot;: [[[130.125, 38.875], [130.375, 38.875], [130.375, 39.125], [130.125, 39.125], [130.125, 38.875]]], &quot;type&quot;: &quot;Polygon&quot;}, &quot;id&quot;: &quot;132&quot;, &quot;properties&quot;: {&quot;__folium_color&quot;: &quot;#03051a&quot;, &quot;latitude&quot;: 38.875, &quot;longitude&quot;: 130.125, &quot;to&quot;: 8.636124610900879}, &quot;type&quot;: &quot;Feature&quot;}, {&quot;bbox&quot;: [130.375, 38.875, 130.625, 39.125], &quot;geometry&quot;: {&quot;coordinates&quot;: [[[130.375, 38.875], [130.625, 38.875], [130.625, 39.125], [130.375, 39.125], [130.375, 38.875]]], &quot;type&quot;: &quot;Polygon&quot;}, &quot;id&quot;: &quot;133&quot;, &quot;properties&quot;: {&quot;__folium_color&quot;: &quot;#20122e&quot;, &quot;latitude&quot;: 38.875, &quot;longitude&quot;: 130.375, &quot;to&quot;: 9.106124877929688}, &quot;type&quot;: &quot;Feature&quot;}, {&quot;bbox&quot;: [130.625, 38.875, 130.875, 39.125], &quot;geometry&quot;: {&quot;coordinates&quot;: [[[130.625, 38.875], [130.875, 38.875], [130.875, 39.125], [130.625, 39.125], [130.625, 38.875]]], &quot;type&quot;: &quot;Polygon&quot;}, &quot;id&quot;: &quot;134&quot;, &quot;properties&quot;: {&quot;__folium_color&quot;: &quot;#2e1739&quot;, &quot;latitude&quot;: 38.875, &quot;longitude&quot;: 130.625, &quot;to&quot;: 9.334749221801758}, &quot;type&quot;: &quot;Feature&quot;}, {&quot;bbox&quot;: [130.875, 38.875, 131.125, 39.125], &quot;geometry&quot;: {&quot;coordinates&quot;: [[[130.875, 38.875], [131.125, 38.875], [131.125, 39.125], [130.875, 39.125], [130.875, 38.875]]], &quot;type&quot;: &quot;Polygon&quot;}, &quot;id&quot;: &quot;135&quot;, &quot;properties&quot;: {&quot;__folium_color&quot;: &quot;#4e1d4b&quot;, &quot;latitude&quot;: 38.875, &quot;longitude&quot;: 130.875, &quot;to&quot;: 9.789374351501465}, &quot;type&quot;: &quot;Feature&quot;}, {&quot;bbox&quot;: [131.125, 38.875, 131.375, 39.125], &quot;geometry&quot;: {&quot;coordinates&quot;: [[[131.125, 38.875], [131.375, 38.875], [131.375, 39.125], [131.125, 39.125], [131.125, 38.875]]], &quot;type&quot;: &quot;Polygon&quot;}, &quot;id&quot;: &quot;136&quot;, &quot;properties&quot;: {&quot;__folium_color&quot;: &quot;#641f54&quot;, &quot;latitude&quot;: 38.875, &quot;longitude&quot;: 131.125, &quot;to&quot;: 10.085874557495117}, &quot;type&quot;: &quot;Feature&quot;}, {&quot;bbox&quot;: [131.375, 38.875, 131.625, 39.125], &quot;geometry&quot;: {&quot;coordinates&quot;: [[[131.375, 38.875], [131.625, 38.875], [131.625, 39.125], [131.375, 39.125], [131.375, 38.875]]], &quot;type&quot;: &quot;Polygon&quot;}, &quot;id&quot;: &quot;137&quot;, &quot;properties&quot;: {&quot;__folium_color&quot;: &quot;#6b1f56&quot;, &quot;latitude&quot;: 38.875, &quot;longitude&quot;: 131.375, &quot;to&quot;: 10.184374809265137}, &quot;type&quot;: &quot;Feature&quot;}, {&quot;bbox&quot;: [131.625, 38.875, 131.875, 39.125], &quot;geometry&quot;: {&quot;coordinates&quot;: [[[131.625, 38.875], [131.875, 38.875], [131.875, 39.125], [131.625, 39.125], [131.625, 38.875]]], &quot;type&quot;: &quot;Polygon&quot;}, &quot;id&quot;: &quot;138&quot;, &quot;properties&quot;: {&quot;__folium_color&quot;: &quot;#681f55&quot;, &quot;latitude&quot;: 38.875, &quot;longitude&quot;: 131.625, &quot;to&quot;: 10.13862419128418}, &quot;type&quot;: &quot;Feature&quot;}, {&quot;bbox&quot;: [131.875, 38.875, 132.125, 39.125], &quot;geometry&quot;: {&quot;coordinates&quot;: [[[131.875, 38.875], [132.125, 38.875], [132.125, 39.125], [131.875, 39.125], [131.875, 38.875]]], &quot;type&quot;: &quot;Polygon&quot;}, &quot;id&quot;: &quot;139&quot;, &quot;properties&quot;: {&quot;__folium_color&quot;: &quot;#561e4f&quot;, &quot;latitude&quot;: 38.875, &quot;longitude&quot;: 131.875, &quot;to&quot;: 9.894999504089355}, &quot;type&quot;: &quot;Feature&quot;}, {&quot;bbox&quot;: [132.125, 38.875, 132.375, 39.125], &quot;geometry&quot;: {&quot;coordinates&quot;: [[[132.125, 38.875], [132.375, 38.875], [132.375, 39.125], [132.125, 39.125], [132.125, 38.875]]], &quot;type&quot;: &quot;Polygon&quot;}, &quot;id&quot;: &quot;140&quot;, &quot;properties&quot;: {&quot;__folium_color&quot;: &quot;#3a1a41&quot;, &quot;latitude&quot;: 38.875, &quot;longitude&quot;: 132.125, &quot;to&quot;: 9.506749153137207}, &quot;type&quot;: &quot;Feature&quot;}, {&quot;bbox&quot;: [132.375, 38.875, 132.625, 39.125], &quot;geometry&quot;: {&quot;coordinates&quot;: [[[132.375, 38.875], [132.625, 38.875], [132.625, 39.125], [132.375, 39.125], [132.375, 38.875]]], &quot;type&quot;: &quot;Polygon&quot;}, &quot;id&quot;: &quot;141&quot;, &quot;properties&quot;: {&quot;__folium_color&quot;: &quot;#251433&quot;, &quot;latitude&quot;: 38.875, &quot;longitude&quot;: 132.375, &quot;to&quot;: 9.199249267578125}, &quot;type&quot;: &quot;Feature&quot;}, {&quot;bbox&quot;: [132.625, 38.875, 132.875, 39.125], &quot;geometry&quot;: {&quot;coordinates&quot;: [[[132.625, 38.875], [132.875, 38.875], [132.875, 39.125], [132.625, 39.125], [132.625, 38.875]]], &quot;type&quot;: &quot;Polygon&quot;}, &quot;id&quot;: &quot;142&quot;, &quot;properties&quot;: {&quot;__folium_color&quot;: &quot;#3d1a42&quot;, &quot;latitude&quot;: 38.875, &quot;longitude&quot;: 132.625, &quot;to&quot;: 9.540249824523926}, &quot;type&quot;: &quot;Feature&quot;}, {&quot;bbox&quot;: [132.875, 38.875, 133.125, 39.125], &quot;geometry&quot;: {&quot;coordinates&quot;: [[[132.875, 38.875], [133.125, 38.875], [133.125, 39.125], [132.875, 39.125], [132.875, 38.875]]], &quot;type&quot;: &quot;Polygon&quot;}, &quot;id&quot;: &quot;143&quot;, &quot;properties&quot;: {&quot;__folium_color&quot;: &quot;#5e1f52&quot;, &quot;latitude&quot;: 38.875, &quot;longitude&quot;: 132.875, &quot;to&quot;: 10.009249687194824}, &quot;type&quot;: &quot;Feature&quot;}], &quot;type&quot;: &quot;FeatureCollection&quot;});\n",
       "\n",
       "        \n",
       "    \n",
       "    geo_json_60283d48c76ffeee622361e6222d1b2d.bindTooltip(\n",
       "    function(layer){\n",
       "    let div = L.DomUtil.create(&#x27;div&#x27;);\n",
       "    \n",
       "    let handleObject = feature=&gt;typeof(feature)==&#x27;object&#x27; ? JSON.stringify(feature) : feature;\n",
       "    let fields = [&quot;latitude&quot;, &quot;longitude&quot;, &quot;to&quot;];\n",
       "    let aliases = [&quot;latitude&quot;, &quot;longitude&quot;, &quot;to&quot;];\n",
       "    let table = &#x27;&lt;table&gt;&#x27; +\n",
       "        String(\n",
       "        fields.map(\n",
       "        (v,i)=&gt;\n",
       "        `&lt;tr&gt;\n",
       "            &lt;th&gt;${aliases[i]}&lt;/th&gt;\n",
       "            \n",
       "            &lt;td&gt;${handleObject(layer.feature.properties[v])}&lt;/td&gt;\n",
       "        &lt;/tr&gt;`).join(&#x27;&#x27;))\n",
       "    +&#x27;&lt;/table&gt;&#x27;;\n",
       "    div.innerHTML=table;\n",
       "    \n",
       "    return div\n",
       "    }\n",
       "    ,{&quot;className&quot;: &quot;foliumtooltip&quot;, &quot;sticky&quot;: true});\n",
       "                     \n",
       "    \n",
       "    var color_map_67b54578b70d628c46130f169426d7f6 = {};\n",
       "\n",
       "    \n",
       "    color_map_67b54578b70d628c46130f169426d7f6.color = d3.scale.threshold()\n",
       "              .domain([8.636124610900879, 8.647381625815719, 8.658638640730558, 8.669895655645398, 8.681152670560238, 8.692409685475075, 8.703666700389915, 8.714923715304755, 8.726180730219594, 8.737437745134434, 8.748694760049274, 8.759951774964113, 8.771208789878953, 8.782465804793791, 8.79372281970863, 8.80497983462347, 8.81623684953831, 8.82749386445315, 8.83875087936799, 8.850007894282829, 8.861264909197669, 8.872521924112506, 8.883778939027346, 8.895035953942186, 8.906292968857025, 8.917549983771865, 8.928806998686705, 8.940064013601544, 8.951321028516384, 8.962578043431222, 8.973835058346062, 8.985092073260901, 8.99634908817574, 9.00760610309058, 9.01886311800542, 9.03012013292026, 9.0413771478351, 9.05263416274994, 9.063891177664777, 9.075148192579617, 9.086405207494456, 9.097662222409296, 9.108919237324136, 9.120176252238975, 9.131433267153815, 9.142690282068655, 9.153947296983493, 9.165204311898332, 9.176461326813172, 9.187718341728011, 9.198975356642851, 9.21023237155769, 9.22148938647253, 9.23274640138737, 9.24400341630221, 9.255260431217048, 9.266517446131887, 9.277774461046727, 9.289031475961567, 9.300288490876406, 9.311545505791246, 9.322802520706086, 9.334059535620925, 9.345316550535763, 9.356573565450603, 9.367830580365442, 9.379087595280282, 9.390344610195122, 9.401601625109961, 9.412858640024801, 9.42411565493964, 9.435372669854479, 9.446629684769318, 9.457886699684158, 9.469143714598998, 9.480400729513837, 9.491657744428677, 9.502914759343517, 9.514171774258356, 9.525428789173194, 9.536685804088034, 9.547942819002873, 9.559199833917713, 9.570456848832553, 9.581713863747392, 9.592970878662232, 9.604227893577072, 9.615484908491911, 9.62674192340675, 9.637998938321589, 9.649255953236429, 9.660512968151268, 9.671769983066108, 9.683026997980948, 9.694284012895787, 9.705541027810627, 9.716798042725465, 9.728055057640304, 9.739312072555144, 9.750569087469984, 9.761826102384823, 9.773083117299663, 9.784340132214503, 9.795597147129342, 9.806854162044182, 9.81811117695902, 9.82936819187386, 9.8406252067887, 9.851882221703539, 9.863139236618379, 9.874396251533218, 9.885653266448058, 9.896910281362896, 9.908167296277735, 9.919424311192575, 9.930681326107415, 9.941938341022254, 9.953195355937094, 9.964452370851934, 9.975709385766773, 9.986966400681613, 9.998223415596453, 10.00948043051129, 10.02073744542613, 10.03199446034097, 10.04325147525581, 10.05450849017065, 10.065765505085489, 10.077022520000328, 10.088279534915166, 10.099536549830006, 10.110793564744846, 10.122050579659685, 10.133307594574525, 10.144564609489365, 10.155821624404204, 10.167078639319044, 10.178335654233884, 10.189592669148722, 10.200849684063561, 10.2121066989784, 10.22336371389324, 10.23462072880808, 10.24587774372292, 10.25713475863776, 10.2683917735526, 10.279648788467437, 10.290905803382277, 10.302162818297116, 10.313419833211956, 10.324676848126796, 10.335933863041635, 10.347190877956475, 10.358447892871315, 10.369704907786154, 10.380961922700992, 10.392218937615832, 10.403475952530671, 10.414732967445511, 10.42598998236035, 10.43724699727519, 10.44850401219003, 10.459761027104868, 10.471018042019708, 10.482275056934547, 10.493532071849387, 10.504789086764227, 10.516046101679066, 10.527303116593906, 10.538560131508746, 10.549817146423585, 10.561074161338425, 10.572331176253263, 10.583588191168102, 10.594845206082942, 10.606102220997782, 10.617359235912621, 10.628616250827461, 10.639873265742299, 10.651130280657139, 10.662387295571978, 10.673644310486818, 10.684901325401658, 10.696158340316497, 10.707415355231337, 10.718672370146177, 10.729929385061016, 10.741186399975856, 10.752443414890696, 10.763700429805533, 10.774957444720373, 10.786214459635213, 10.797471474550052, 10.808728489464892, 10.819985504379732, 10.83124251929457, 10.84249953420941, 10.853756549124249, 10.865013564039089, 10.876270578953928, 10.887527593868768, 10.898784608783608, 10.910041623698447, 10.921298638613287, 10.932555653528127, 10.943812668442964, 10.955069683357804, 10.966326698272644, 10.977583713187483, 10.988840728102323, 11.000097743017163, 11.011354757932002, 11.02261177284684, 11.03386878776168, 11.04512580267652, 11.05638281759136, 11.067639832506199, 11.078896847421039, 11.090153862335878, 11.101410877250718, 11.112667892165558, 11.123924907080397, 11.135181921995235, 11.146438936910075, 11.157695951824914, 11.168952966739754, 11.180209981654594, 11.191466996569433, 11.202724011484271, 11.21398102639911, 11.22523804131395, 11.23649505622879, 11.24775207114363, 11.25900908605847, 11.27026610097331, 11.281523115888149, 11.292780130802988, 11.304037145717828, 11.315294160632668, 11.326551175547506, 11.337808190462345, 11.349065205377185, 11.360322220292025, 11.371579235206864, 11.382836250121704, 11.394093265036542, 11.405350279951382, 11.416607294866221, 11.42786430978106, 11.4391213246959, 11.45037833961074, 11.46163535452558, 11.47289236944042, 11.48414938435526, 11.495406399270099, 11.506663414184937, 11.517920429099776, 11.529177444014616, 11.540434458929456, 11.551691473844295, 11.562948488759135, 11.574205503673973, 11.585462518588812, 11.596719533503652, 11.607976548418492, 11.619233563333331, 11.630490578248171, 11.64174759316301, 11.65300460807785, 11.66426162299269, 11.67551863790753, 11.68677565282237, 11.698032667737207, 11.709289682652047, 11.720546697566887, 11.731803712481726, 11.743060727396566, 11.754317742311406, 11.765574757226243, 11.776831772141083, 11.788088787055923, 11.799345801970762, 11.810602816885602, 11.821859831800442, 11.833116846715281, 11.844373861630121, 11.85563087654496, 11.8668878914598, 11.878144906374638, 11.889401921289478, 11.900658936204318, 11.911915951119157, 11.923172966033997, 11.934429980948837, 11.945686995863676, 11.956944010778514, 11.968201025693354, 11.979458040608193, 11.990715055523033, 12.001972070437873, 12.013229085352712, 12.024486100267552, 12.035743115182392, 12.047000130097231, 12.058257145012071, 12.069514159926909, 12.080771174841749, 12.092028189756588, 12.103285204671428, 12.114542219586268, 12.125799234501107, 12.137056249415945, 12.148313264330785, 12.159570279245624, 12.170827294160464, 12.182084309075304, 12.193341323990143, 12.204598338904983, 12.215855353819823, 12.227112368734662, 12.238369383649502, 12.249626398564342, 12.26088341347918, 12.27214042839402, 12.283397443308859, 12.294654458223699, 12.305911473138538, 12.317168488053378, 12.328425502968216, 12.339682517883055, 12.350939532797895, 12.362196547712735, 12.373453562627574, 12.384710577542414, 12.395967592457254, 12.407224607372093, 12.418481622286933, 12.429738637201773, 12.44099565211661, 12.45225266703145, 12.46350968194629, 12.47476669686113, 12.48602371177597, 12.497280726690809, 12.508537741605648, 12.519794756520486, 12.531051771435326, 12.542308786350166, 12.553565801265005, 12.564822816179845, 12.576079831094685, 12.587336846009524, 12.598593860924364, 12.609850875839204, 12.621107890754043, 12.632364905668881, 12.64362192058372, 12.65487893549856, 12.6661359504134, 12.67739296532824, 12.688649980243078, 12.699906995157917, 12.711164010072757, 12.722421024987597, 12.733678039902436, 12.744935054817276, 12.756192069732116, 12.767449084646955, 12.778706099561795, 12.789963114476635, 12.801220129391474, 12.812477144306314, 12.823734159221154, 12.834991174135991, 12.846248189050831, 12.85750520396567, 12.86876221888051, 12.880019233795348, 12.891276248710188, 12.902533263625028, 12.913790278539867, 12.925047293454707, 12.936304308369547, 12.947561323284386, 12.958818338199226, 12.970075353114066, 12.981332368028905, 12.992589382943745, 13.003846397858585, 13.015103412773422, 13.026360427688262, 13.037617442603102, 13.048874457517941, 13.06013147243278, 13.071388487347619, 13.082645502262459, 13.093902517177298, 13.105159532092138, 13.116416547006978, 13.127673561921817, 13.138930576836657, 13.150187591751497, 13.161444606666336, 13.172701621581176, 13.183958636496016, 13.195215651410855, 13.206472666325693, 13.217729681240533, 13.228986696155372, 13.240243711070212, 13.25150072598505, 13.26275774089989, 13.27401475581473, 13.285271770729569, 13.296528785644409, 13.307785800559248, 13.319042815474088, 13.330299830388928, 13.341556845303767, 13.352813860218607, 13.364070875133446, 13.375327890048286, 13.386584904963126, 13.397841919877964, 13.409098934792803, 13.420355949707643, 13.431612964622483, 13.44286997953732, 13.45412699445216, 13.465384009367, 13.47664102428184, 13.48789803919668, 13.499155054111519, 13.510412069026358, 13.521669083941198, 13.532926098856038, 13.544183113770877, 13.555440128685717, 13.566697143600557, 13.577954158515395, 13.589211173430234, 13.600468188345074, 13.611725203259914, 13.622982218174752, 13.634239233089591, 13.64549624800443, 13.65675326291927, 13.66801027783411, 13.67926729274895, 13.69052430766379, 13.70178132257863, 13.713038337493469, 13.724295352408308, 13.735552367323148, 13.746809382237988, 13.758066397152827, 13.769323412067665, 13.780580426982505, 13.791837441897345, 13.803094456812184, 13.814351471727022, 13.825608486641862, 13.836865501556701, 13.848122516471541, 13.85937953138638, 13.87063654630122, 13.88189356121606, 13.8931505761309, 13.90440759104574, 13.915664605960579, 13.926921620875419, 13.938178635790258, 13.949435650705096, 13.960692665619936, 13.971949680534776, 13.983206695449615, 13.994463710364455, 14.005720725279293, 14.016977740194132, 14.028234755108972, 14.039491770023812, 14.050748784938651, 14.062005799853491, 14.07326281476833, 14.08451982968317, 14.09577684459801, 14.10703385951285, 14.11829087442769, 14.129547889342529, 14.140804904257367, 14.152061919172207, 14.163318934087046, 14.174575949001886, 14.185832963916724, 14.197089978831563, 14.208346993746403, 14.219604008661243, 14.230861023576082, 14.242118038490922, 14.253375053405762])\n",
       "              .range([&#x27;#03051aff&#x27;, &#x27;#03051aff&#x27;, &#x27;#04051aff&#x27;, &#x27;#04051aff&#x27;, &#x27;#05061bff&#x27;, &#x27;#05061bff&#x27;, &#x27;#06071cff&#x27;, &#x27;#06071cff&#x27;, &#x27;#07071dff&#x27;, &#x27;#07071dff&#x27;, &#x27;#08081eff&#x27;, &#x27;#09081eff&#x27;, &#x27;#0a091fff&#x27;, &#x27;#0a091fff&#x27;, &#x27;#0b0920ff&#x27;, &#x27;#0c0920ff&#x27;, &#x27;#0d0a21ff&#x27;, &#x27;#0d0a21ff&#x27;, &#x27;#0e0b22ff&#x27;, &#x27;#0f0b22ff&#x27;, &#x27;#100b23ff&#x27;, &#x27;#100b23ff&#x27;, &#x27;#110c24ff&#x27;, &#x27;#120c24ff&#x27;, &#x27;#130d25ff&#x27;, &#x27;#130d25ff&#x27;, &#x27;#140e26ff&#x27;, &#x27;#150e26ff&#x27;, &#x27;#160e27ff&#x27;, &#x27;#160e27ff&#x27;, &#x27;#170f28ff&#x27;, &#x27;#170f29ff&#x27;, &#x27;#180f29ff&#x27;, &#x27;#190f2aff&#x27;, &#x27;#1a102aff&#x27;, &#x27;#1a102bff&#x27;, &#x27;#1b112bff&#x27;, &#x27;#1c112cff&#x27;, &#x27;#1d112cff&#x27;, &#x27;#1e122dff&#x27;, &#x27;#1f122dff&#x27;, &#x27;#20122eff&#x27;, &#x27;#20122fff&#x27;, &#x27;#211330ff&#x27;, &#x27;#211330ff&#x27;, &#x27;#221331ff&#x27;, &#x27;#231331ff&#x27;, &#x27;#241432ff&#x27;, &#x27;#241432ff&#x27;, &#x27;#251433ff&#x27;, &#x27;#261433ff&#x27;, &#x27;#271534ff&#x27;, &#x27;#271534ff&#x27;, &#x27;#281535ff&#x27;, &#x27;#291535ff&#x27;, &#x27;#2a1636ff&#x27;, &#x27;#2a1636ff&#x27;, &#x27;#2b1637ff&#x27;, &#x27;#2c1637ff&#x27;, &#x27;#2d1738ff&#x27;, &#x27;#2d1738ff&#x27;, &#x27;#2e1739ff&#x27;, &#x27;#2f1739ff&#x27;, &#x27;#30173aff&#x27;, &#x27;#30173aff&#x27;, &#x27;#31183bff&#x27;, &#x27;#32183bff&#x27;, &#x27;#33183cff&#x27;, &#x27;#33183cff&#x27;, &#x27;#34193dff&#x27;, &#x27;#34193eff&#x27;, &#x27;#35193eff&#x27;, &#x27;#36193fff&#x27;, &#x27;#37193fff&#x27;, &#x27;#381940ff&#x27;, &#x27;#381a40ff&#x27;, &#x27;#391a41ff&#x27;, &#x27;#3a1a41ff&#x27;, &#x27;#3b1a42ff&#x27;, &#x27;#3c1a42ff&#x27;, &#x27;#3d1a42ff&#x27;, &#x27;#3e1a42ff&#x27;, &#x27;#3f1b43ff&#x27;, &#x27;#3f1b43ff&#x27;, &#x27;#401b44ff&#x27;, &#x27;#411b44ff&#x27;, &#x27;#421b45ff&#x27;, &#x27;#421b45ff&#x27;, &#x27;#431c46ff&#x27;, &#x27;#441c46ff&#x27;, &#x27;#451c47ff&#x27;, &#x27;#451c47ff&#x27;, &#x27;#461c48ff&#x27;, &#x27;#471c48ff&#x27;, &#x27;#481c48ff&#x27;, &#x27;#481c48ff&#x27;, &#x27;#491d49ff&#x27;, &#x27;#4a1d49ff&#x27;, &#x27;#4b1d4aff&#x27;, &#x27;#4b1d4aff&#x27;, &#x27;#4c1d4bff&#x27;, &#x27;#4d1d4bff&#x27;, &#x27;#4e1d4bff&#x27;, &#x27;#4f1d4bff&#x27;, &#x27;#501d4cff&#x27;, &#x27;#501d4cff&#x27;, &#x27;#511e4dff&#x27;, &#x27;#521e4dff&#x27;, &#x27;#531e4dff&#x27;, &#x27;#541e4eff&#x27;, &#x27;#541e4eff&#x27;, &#x27;#551e4fff&#x27;, &#x27;#561e4fff&#x27;, &#x27;#571e4fff&#x27;, &#x27;#581e4fff&#x27;, &#x27;#591e50ff&#x27;, &#x27;#591e50ff&#x27;, &#x27;#5a1e51ff&#x27;, &#x27;#5b1e51ff&#x27;, &#x27;#5c1e51ff&#x27;, &#x27;#5d1e51ff&#x27;, &#x27;#5e1e52ff&#x27;, &#x27;#5f1f52ff&#x27;, &#x27;#601f52ff&#x27;, &#x27;#601f52ff&#x27;, &#x27;#611f53ff&#x27;, &#x27;#621f53ff&#x27;, &#x27;#631f53ff&#x27;, &#x27;#631f53ff&#x27;, &#x27;#641f54ff&#x27;, &#x27;#651f54ff&#x27;, &#x27;#661f54ff&#x27;, &#x27;#671f54ff&#x27;, &#x27;#681f55ff&#x27;, &#x27;#681f55ff&#x27;, &#x27;#691f55ff&#x27;, &#x27;#6a1f55ff&#x27;, &#x27;#6b1f56ff&#x27;, &#x27;#6c1f56ff&#x27;, &#x27;#6d1f56ff&#x27;, &#x27;#6d1f56ff&#x27;, &#x27;#6e1f57ff&#x27;, &#x27;#6f1f57ff&#x27;, &#x27;#701f57ff&#x27;, &#x27;#711f57ff&#x27;, &#x27;#711f57ff&#x27;, &#x27;#721f57ff&#x27;, &#x27;#731f58ff&#x27;, &#x27;#741f58ff&#x27;, &#x27;#751f58ff&#x27;, &#x27;#761f58ff&#x27;, &#x27;#761f58ff&#x27;, &#x27;#771f59ff&#x27;, &#x27;#781f59ff&#x27;, &#x27;#791f59ff&#x27;, &#x27;#7a1f59ff&#x27;, &#x27;#7b1f59ff&#x27;, &#x27;#7b1f59ff&#x27;, &#x27;#7c1f5aff&#x27;, &#x27;#7d1e5aff&#x27;, &#x27;#7f1e5aff&#x27;, &#x27;#801e5aff&#x27;, &#x27;#811e5aff&#x27;, &#x27;#811e5aff&#x27;, &#x27;#821e5aff&#x27;, &#x27;#831e5aff&#x27;, &#x27;#841e5aff&#x27;, &#x27;#851e5aff&#x27;, &#x27;#861e5bff&#x27;, &#x27;#861e5bff&#x27;, &#x27;#871e5bff&#x27;, &#x27;#881e5bff&#x27;, &#x27;#891e5bff&#x27;, &#x27;#8a1d5bff&#x27;, &#x27;#8b1d5bff&#x27;, &#x27;#8b1d5bff&#x27;, &#x27;#8c1d5bff&#x27;, &#x27;#8d1d5bff&#x27;, &#x27;#8e1d5bff&#x27;, &#x27;#8f1d5bff&#x27;, &#x27;#901d5bff&#x27;, &#x27;#911c5bff&#x27;, &#x27;#921c5bff&#x27;, &#x27;#931c5bff&#x27;, &#x27;#931c5bff&#x27;, &#x27;#941c5bff&#x27;, &#x27;#951c5bff&#x27;, &#x27;#961c5bff&#x27;, &#x27;#971c5bff&#x27;, &#x27;#981b5bff&#x27;, &#x27;#981b5bff&#x27;, &#x27;#991b5bff&#x27;, &#x27;#9a1b5bff&#x27;, &#x27;#9b1b5bff&#x27;, &#x27;#9c1a5bff&#x27;, &#x27;#9d1a5bff&#x27;, &#x27;#9e1a5bff&#x27;, &#x27;#9f1a5bff&#x27;, &#x27;#9f1a5bff&#x27;, &#x27;#a11a5bff&#x27;, &#x27;#a2195bff&#x27;, &#x27;#a3195bff&#x27;, &#x27;#a3195bff&#x27;, &#x27;#a4195bff&#x27;, &#x27;#a5195bff&#x27;, &#x27;#a6195aff&#x27;, &#x27;#a7185aff&#x27;, &#x27;#a8185aff&#x27;, &#x27;#a9185aff&#x27;, &#x27;#aa185aff&#x27;, &#x27;#aa185aff&#x27;, &#x27;#ab185aff&#x27;, &#x27;#ac175aff&#x27;, &#x27;#ad1759ff&#x27;, &#x27;#ae1759ff&#x27;, &#x27;#af1759ff&#x27;, &#x27;#b01759ff&#x27;, &#x27;#b01759ff&#x27;, &#x27;#b11758ff&#x27;, &#x27;#b21758ff&#x27;, &#x27;#b31658ff&#x27;, &#x27;#b41658ff&#x27;, &#x27;#b51657ff&#x27;, &#x27;#b51657ff&#x27;, &#x27;#b61657ff&#x27;, &#x27;#b71657ff&#x27;, &#x27;#b81657ff&#x27;, &#x27;#b91657ff&#x27;, &#x27;#ba1656ff&#x27;, &#x27;#ba1656ff&#x27;, &#x27;#bb1656ff&#x27;, &#x27;#bc1656ff&#x27;, &#x27;#bd1655ff&#x27;, &#x27;#bd1655ff&#x27;, &#x27;#be1654ff&#x27;, &#x27;#bf1654ff&#x27;, &#x27;#c01654ff&#x27;, &#x27;#c11754ff&#x27;, &#x27;#c21753ff&#x27;, &#x27;#c31753ff&#x27;, &#x27;#c41753ff&#x27;, &#x27;#c41753ff&#x27;, &#x27;#c51752ff&#x27;, &#x27;#c61852ff&#x27;, &#x27;#c71851ff&#x27;, &#x27;#c71951ff&#x27;, &#x27;#c81951ff&#x27;, &#x27;#c91951ff&#x27;, &#x27;#ca1950ff&#x27;, &#x27;#cb1a50ff&#x27;, &#x27;#cb1a4fff&#x27;, &#x27;#cc1b4fff&#x27;, &#x27;#cd1b4eff&#x27;, &#x27;#ce1c4eff&#x27;, &#x27;#ce1c4eff&#x27;, &#x27;#cf1d4dff&#x27;, &#x27;#cf1d4dff&#x27;, &#x27;#d01e4cff&#x27;, &#x27;#d11e4cff&#x27;, &#x27;#d21f4cff&#x27;, &#x27;#d21f4cff&#x27;, &#x27;#d3204bff&#x27;, &#x27;#d3214bff&#x27;, &#x27;#d4214aff&#x27;, &#x27;#d5224aff&#x27;, &#x27;#d62249ff&#x27;, &#x27;#d62449ff&#x27;, &#x27;#d72449ff&#x27;, &#x27;#d72549ff&#x27;, &#x27;#d82648ff&#x27;, &#x27;#d82748ff&#x27;, &#x27;#d92747ff&#x27;, &#x27;#d92847ff&#x27;, &#x27;#da2846ff&#x27;, &#x27;#db2946ff&#x27;, &#x27;#dc2a46ff&#x27;, &#x27;#dc2b46ff&#x27;, &#x27;#dd2b45ff&#x27;, &#x27;#dd2c45ff&#x27;, &#x27;#de2d44ff&#x27;, &#x27;#de2e44ff&#x27;, &#x27;#df2e44ff&#x27;, &#x27;#df2f44ff&#x27;, &#x27;#e03043ff&#x27;, &#x27;#e13143ff&#x27;, &#x27;#e13242ff&#x27;, &#x27;#e23342ff&#x27;, &#x27;#e23342ff&#x27;, &#x27;#e33442ff&#x27;, &#x27;#e33541ff&#x27;, &#x27;#e43641ff&#x27;, &#x27;#e43741ff&#x27;, &#x27;#e53841ff&#x27;, &#x27;#e53840ff&#x27;, &#x27;#e63940ff&#x27;, &#x27;#e63a40ff&#x27;, &#x27;#e73b3fff&#x27;, &#x27;#e73c3fff&#x27;, &#x27;#e83d3fff&#x27;, &#x27;#e83e3fff&#x27;, &#x27;#e83f3eff&#x27;, &#x27;#e8403eff&#x27;, &#x27;#e9403eff&#x27;, &#x27;#e9413eff&#x27;, &#x27;#ea423eff&#x27;, &#x27;#ea433eff&#x27;, &#x27;#eb453eff&#x27;, &#x27;#eb463eff&#x27;, &#x27;#eb473eff&#x27;, &#x27;#eb483eff&#x27;, &#x27;#ec493eff&#x27;, &#x27;#ec4a3eff&#x27;, &#x27;#ec4b3eff&#x27;, &#x27;#ec4c3eff&#x27;, &#x27;#ed4d3eff&#x27;, &#x27;#ed4e3eff&#x27;, &#x27;#ed4f3eff&#x27;, &#x27;#ed503eff&#x27;, &#x27;#ee513eff&#x27;, &#x27;#ee523fff&#x27;, &#x27;#ee533fff&#x27;, &#x27;#ee543fff&#x27;, &#x27;#ef553fff&#x27;, &#x27;#ef5640ff&#x27;, &#x27;#ef5740ff&#x27;, &#x27;#ef5840ff&#x27;, &#x27;#ef5940ff&#x27;, &#x27;#f05a41ff&#x27;, &#x27;#f05b41ff&#x27;, &#x27;#f05c42ff&#x27;, &#x27;#f05d42ff&#x27;, &#x27;#f05e42ff&#x27;, &#x27;#f05f42ff&#x27;, &#x27;#f16043ff&#x27;, &#x27;#f16143ff&#x27;, &#x27;#f16244ff&#x27;, &#x27;#f16344ff&#x27;, &#x27;#f16445ff&#x27;, &#x27;#f16545ff&#x27;, &#x27;#f26646ff&#x27;, &#x27;#f26747ff&#x27;, &#x27;#f26747ff&#x27;, &#x27;#f26848ff&#x27;, &#x27;#f26948ff&#x27;, &#x27;#f26b49ff&#x27;, &#x27;#f26c49ff&#x27;, &#x27;#f26d4aff&#x27;, &#x27;#f26e4bff&#x27;, &#x27;#f26f4cff&#x27;, &#x27;#f3704cff&#x27;, &#x27;#f3714dff&#x27;, &#x27;#f3724dff&#x27;, &#x27;#f3734eff&#x27;, &#x27;#f3734fff&#x27;, &#x27;#f37450ff&#x27;, &#x27;#f37550ff&#x27;, &#x27;#f37651ff&#x27;, &#x27;#f37751ff&#x27;, &#x27;#f37852ff&#x27;, &#x27;#f47953ff&#x27;, &#x27;#f47a54ff&#x27;, &#x27;#f47b54ff&#x27;, &#x27;#f47c55ff&#x27;, &#x27;#f47c56ff&#x27;, &#x27;#f47d57ff&#x27;, &#x27;#f47e57ff&#x27;, &#x27;#f47f58ff&#x27;, &#x27;#f48059ff&#x27;, &#x27;#f4815aff&#x27;, &#x27;#f4825aff&#x27;, &#x27;#f4835bff&#x27;, &#x27;#f4845cff&#x27;, &#x27;#f4845dff&#x27;, &#x27;#f4855dff&#x27;, &#x27;#f5865eff&#x27;, &#x27;#f5875fff&#x27;, &#x27;#f58860ff&#x27;, &#x27;#f58961ff&#x27;, &#x27;#f58a61ff&#x27;, &#x27;#f58b62ff&#x27;, &#x27;#f58b63ff&#x27;, &#x27;#f58c64ff&#x27;, &#x27;#f58d64ff&#x27;, &#x27;#f58f65ff&#x27;, &#x27;#f58f66ff&#x27;, &#x27;#f59067ff&#x27;, &#x27;#f59167ff&#x27;, &#x27;#f59268ff&#x27;, &#x27;#f59369ff&#x27;, &#x27;#f5946aff&#x27;, &#x27;#f5956bff&#x27;, &#x27;#f5966cff&#x27;, &#x27;#f5966dff&#x27;, &#x27;#f5976eff&#x27;, &#x27;#f5986fff&#x27;, &#x27;#f59970ff&#x27;, &#x27;#f69a70ff&#x27;, &#x27;#f69b71ff&#x27;, &#x27;#f69b72ff&#x27;, &#x27;#f69c73ff&#x27;, &#x27;#f69d74ff&#x27;, &#x27;#f69e75ff&#x27;, &#x27;#f69f76ff&#x27;, &#x27;#f6a077ff&#x27;, &#x27;#f6a177ff&#x27;, &#x27;#f6a178ff&#x27;, &#x27;#f6a279ff&#x27;, &#x27;#f6a37aff&#x27;, &#x27;#f6a47bff&#x27;, &#x27;#f6a47cff&#x27;, &#x27;#f6a57dff&#x27;, &#x27;#f6a67eff&#x27;, &#x27;#f6a77fff&#x27;, &#x27;#f6a880ff&#x27;, &#x27;#f6a981ff&#x27;, &#x27;#f6a981ff&#x27;, &#x27;#f6aa82ff&#x27;, &#x27;#f6ab83ff&#x27;, &#x27;#f6ac84ff&#x27;, &#x27;#f6ad85ff&#x27;, &#x27;#f6ae86ff&#x27;, &#x27;#f6ae87ff&#x27;, &#x27;#f6af88ff&#x27;, &#x27;#f6b089ff&#x27;, &#x27;#f6b18aff&#x27;, &#x27;#f6b28bff&#x27;, &#x27;#f6b38cff&#x27;, &#x27;#f6b38dff&#x27;, &#x27;#f6b48eff&#x27;, &#x27;#f6b590ff&#x27;, &#x27;#f6b691ff&#x27;, &#x27;#f6b792ff&#x27;, &#x27;#f6b893ff&#x27;, &#x27;#f6b894ff&#x27;, &#x27;#f6b995ff&#x27;, &#x27;#f6ba96ff&#x27;, &#x27;#f6bb97ff&#x27;, &#x27;#f6bc98ff&#x27;, &#x27;#f6bc99ff&#x27;, &#x27;#f6bd9aff&#x27;, &#x27;#f6be9bff&#x27;, &#x27;#f6bf9cff&#x27;, &#x27;#f6bf9dff&#x27;, &#x27;#f6c09eff&#x27;, &#x27;#f6c19fff&#x27;, &#x27;#f7c2a0ff&#x27;, &#x27;#f7c2a2ff&#x27;, &#x27;#f7c3a3ff&#x27;, &#x27;#f7c4a4ff&#x27;, &#x27;#f7c5a5ff&#x27;, &#x27;#f7c6a6ff&#x27;, &#x27;#f7c7a7ff&#x27;, &#x27;#f7c7a8ff&#x27;, &#x27;#f7c8a9ff&#x27;, &#x27;#f7c9aaff&#x27;, &#x27;#f7caabff&#x27;, &#x27;#f7caacff&#x27;, &#x27;#f7cbaeff&#x27;, &#x27;#f7ccafff&#x27;, &#x27;#f7cdb0ff&#x27;, &#x27;#f7cdb1ff&#x27;, &#x27;#f7ceb2ff&#x27;, &#x27;#f7cfb3ff&#x27;, &#x27;#f7d0b4ff&#x27;, &#x27;#f8d0b6ff&#x27;, &#x27;#f8d1b7ff&#x27;, &#x27;#f8d2b8ff&#x27;, &#x27;#f8d3baff&#x27;, &#x27;#f8d3bbff&#x27;, &#x27;#f8d4bcff&#x27;, &#x27;#f8d5bdff&#x27;, &#x27;#f8d6beff&#x27;, &#x27;#f8d7bfff&#x27;, &#x27;#f8d7c0ff&#x27;, &#x27;#f8d8c1ff&#x27;, &#x27;#f8d9c2ff&#x27;, &#x27;#f8dac4ff&#x27;, &#x27;#f8dac5ff&#x27;, &#x27;#f8dbc6ff&#x27;, &#x27;#f8dcc7ff&#x27;, &#x27;#f9ddc8ff&#x27;, &#x27;#f9ddc9ff&#x27;, &#x27;#f9decaff&#x27;, &#x27;#f9dfcbff&#x27;, &#x27;#f9e0ccff&#x27;, &#x27;#f9e0cdff&#x27;, &#x27;#f9e1ceff&#x27;, &#x27;#f9e2d0ff&#x27;, &#x27;#f9e3d1ff&#x27;, &#x27;#f9e3d2ff&#x27;, &#x27;#f9e4d3ff&#x27;, &#x27;#f9e5d4ff&#x27;, &#x27;#fae6d5ff&#x27;, &#x27;#fae6d6ff&#x27;, &#x27;#fae7d7ff&#x27;, &#x27;#fae8d8ff&#x27;, &#x27;#fae9d9ff&#x27;, &#x27;#fae9daff&#x27;, &#x27;#faeadcff&#x27;, &#x27;#faebddff&#x27;]);\n",
       "    \n",
       "\n",
       "    color_map_67b54578b70d628c46130f169426d7f6.x = d3.scale.linear()\n",
       "              .domain([8.636124610900879, 14.253375053405762])\n",
       "              .range([0, 450 - 50]);\n",
       "\n",
       "    color_map_67b54578b70d628c46130f169426d7f6.legend = L.control({position: &#x27;topright&#x27;});\n",
       "    color_map_67b54578b70d628c46130f169426d7f6.legend.onAdd = function (map) {var div = L.DomUtil.create(&#x27;div&#x27;, &#x27;legend&#x27;); return div};\n",
       "    color_map_67b54578b70d628c46130f169426d7f6.legend.addTo(map_dc850fd501f7c0835ea487210094734c);\n",
       "\n",
       "    color_map_67b54578b70d628c46130f169426d7f6.xAxis = d3.svg.axis()\n",
       "        .scale(color_map_67b54578b70d628c46130f169426d7f6.x)\n",
       "        .orient(&quot;top&quot;)\n",
       "        .tickSize(1)\n",
       "        .tickValues([8.636124610900879, &#x27;&#x27;, &#x27;&#x27;, &#x27;&#x27;, &#x27;&#x27;, &#x27;&#x27;, &#x27;&#x27;, &#x27;&#x27;, &#x27;&#x27;, &#x27;&#x27;, &#x27;&#x27;, &#x27;&#x27;, &#x27;&#x27;, &#x27;&#x27;, &#x27;&#x27;, &#x27;&#x27;, &#x27;&#x27;, &#x27;&#x27;, &#x27;&#x27;, &#x27;&#x27;, &#x27;&#x27;, &#x27;&#x27;, &#x27;&#x27;, &#x27;&#x27;, &#x27;&#x27;, &#x27;&#x27;, 9.208863871705299, &#x27;&#x27;, &#x27;&#x27;, &#x27;&#x27;, &#x27;&#x27;, &#x27;&#x27;, &#x27;&#x27;, &#x27;&#x27;, &#x27;&#x27;, &#x27;&#x27;, &#x27;&#x27;, &#x27;&#x27;, &#x27;&#x27;, &#x27;&#x27;, &#x27;&#x27;, &#x27;&#x27;, &#x27;&#x27;, &#x27;&#x27;, &#x27;&#x27;, &#x27;&#x27;, &#x27;&#x27;, &#x27;&#x27;, &#x27;&#x27;, &#x27;&#x27;, &#x27;&#x27;, &#x27;&#x27;, 9.781603132509717, &#x27;&#x27;, &#x27;&#x27;, &#x27;&#x27;, &#x27;&#x27;, &#x27;&#x27;, &#x27;&#x27;, &#x27;&#x27;, &#x27;&#x27;, &#x27;&#x27;, &#x27;&#x27;, &#x27;&#x27;, &#x27;&#x27;, &#x27;&#x27;, &#x27;&#x27;, &#x27;&#x27;, &#x27;&#x27;, &#x27;&#x27;, &#x27;&#x27;, &#x27;&#x27;, &#x27;&#x27;, &#x27;&#x27;, &#x27;&#x27;, &#x27;&#x27;, &#x27;&#x27;, &#x27;&#x27;, 10.354342393314138, &#x27;&#x27;, &#x27;&#x27;, &#x27;&#x27;, &#x27;&#x27;, &#x27;&#x27;, &#x27;&#x27;, &#x27;&#x27;, &#x27;&#x27;, &#x27;&#x27;, &#x27;&#x27;, &#x27;&#x27;, &#x27;&#x27;, &#x27;&#x27;, &#x27;&#x27;, &#x27;&#x27;, &#x27;&#x27;, &#x27;&#x27;, &#x27;&#x27;, &#x27;&#x27;, &#x27;&#x27;, &#x27;&#x27;, &#x27;&#x27;, &#x27;&#x27;, &#x27;&#x27;, &#x27;&#x27;, 10.927081654118556, &#x27;&#x27;, &#x27;&#x27;, &#x27;&#x27;, &#x27;&#x27;, &#x27;&#x27;, &#x27;&#x27;, &#x27;&#x27;, &#x27;&#x27;, &#x27;&#x27;, &#x27;&#x27;, &#x27;&#x27;, &#x27;&#x27;, &#x27;&#x27;, &#x27;&#x27;, &#x27;&#x27;, &#x27;&#x27;, &#x27;&#x27;, &#x27;&#x27;, &#x27;&#x27;, &#x27;&#x27;, &#x27;&#x27;, &#x27;&#x27;, &#x27;&#x27;, &#x27;&#x27;, &#x27;&#x27;, 11.499820914922976, &#x27;&#x27;, &#x27;&#x27;, &#x27;&#x27;, &#x27;&#x27;, &#x27;&#x27;, &#x27;&#x27;, &#x27;&#x27;, &#x27;&#x27;, &#x27;&#x27;, &#x27;&#x27;, &#x27;&#x27;, &#x27;&#x27;, &#x27;&#x27;, &#x27;&#x27;, &#x27;&#x27;, &#x27;&#x27;, &#x27;&#x27;, &#x27;&#x27;, &#x27;&#x27;, &#x27;&#x27;, &#x27;&#x27;, &#x27;&#x27;, &#x27;&#x27;, &#x27;&#x27;, &#x27;&#x27;, 12.072560175727396, &#x27;&#x27;, &#x27;&#x27;, &#x27;&#x27;, &#x27;&#x27;, &#x27;&#x27;, &#x27;&#x27;, &#x27;&#x27;, &#x27;&#x27;, &#x27;&#x27;, &#x27;&#x27;, &#x27;&#x27;, &#x27;&#x27;, &#x27;&#x27;, &#x27;&#x27;, &#x27;&#x27;, &#x27;&#x27;, &#x27;&#x27;, &#x27;&#x27;, &#x27;&#x27;, &#x27;&#x27;, &#x27;&#x27;, &#x27;&#x27;, &#x27;&#x27;, &#x27;&#x27;, &#x27;&#x27;, 12.645299436531815, &#x27;&#x27;, &#x27;&#x27;, &#x27;&#x27;, &#x27;&#x27;, &#x27;&#x27;, &#x27;&#x27;, &#x27;&#x27;, &#x27;&#x27;, &#x27;&#x27;, &#x27;&#x27;, &#x27;&#x27;, &#x27;&#x27;, &#x27;&#x27;, &#x27;&#x27;, &#x27;&#x27;, &#x27;&#x27;, &#x27;&#x27;, &#x27;&#x27;, &#x27;&#x27;, &#x27;&#x27;, &#x27;&#x27;, &#x27;&#x27;, &#x27;&#x27;, &#x27;&#x27;, &#x27;&#x27;, 13.218038697336233, &#x27;&#x27;, &#x27;&#x27;, &#x27;&#x27;, &#x27;&#x27;, &#x27;&#x27;, &#x27;&#x27;, &#x27;&#x27;, &#x27;&#x27;, &#x27;&#x27;, &#x27;&#x27;, &#x27;&#x27;, &#x27;&#x27;, &#x27;&#x27;, &#x27;&#x27;, &#x27;&#x27;, &#x27;&#x27;, &#x27;&#x27;, &#x27;&#x27;, &#x27;&#x27;, &#x27;&#x27;, &#x27;&#x27;, &#x27;&#x27;, &#x27;&#x27;, &#x27;&#x27;, &#x27;&#x27;, 13.790777958140653, &#x27;&#x27;, &#x27;&#x27;, &#x27;&#x27;, &#x27;&#x27;, &#x27;&#x27;, &#x27;&#x27;, &#x27;&#x27;, &#x27;&#x27;, &#x27;&#x27;, &#x27;&#x27;, &#x27;&#x27;, &#x27;&#x27;, &#x27;&#x27;, &#x27;&#x27;, &#x27;&#x27;, &#x27;&#x27;, &#x27;&#x27;, &#x27;&#x27;, &#x27;&#x27;, &#x27;&#x27;, &#x27;&#x27;, &#x27;&#x27;, &#x27;&#x27;, &#x27;&#x27;, &#x27;&#x27;]);\n",
       "\n",
       "    color_map_67b54578b70d628c46130f169426d7f6.svg = d3.select(&quot;.legend.leaflet-control&quot;).append(&quot;svg&quot;)\n",
       "        .attr(&quot;id&quot;, &#x27;legend&#x27;)\n",
       "        .attr(&quot;width&quot;, 450)\n",
       "        .attr(&quot;height&quot;, 40);\n",
       "\n",
       "    color_map_67b54578b70d628c46130f169426d7f6.g = color_map_67b54578b70d628c46130f169426d7f6.svg.append(&quot;g&quot;)\n",
       "        .attr(&quot;class&quot;, &quot;key&quot;)\n",
       "        .attr(&quot;transform&quot;, &quot;translate(25,16)&quot;);\n",
       "\n",
       "    color_map_67b54578b70d628c46130f169426d7f6.g.selectAll(&quot;rect&quot;)\n",
       "        .data(color_map_67b54578b70d628c46130f169426d7f6.color.range().map(function(d, i) {\n",
       "          return {\n",
       "            x0: i ? color_map_67b54578b70d628c46130f169426d7f6.x(color_map_67b54578b70d628c46130f169426d7f6.color.domain()[i - 1]) : color_map_67b54578b70d628c46130f169426d7f6.x.range()[0],\n",
       "            x1: i &lt; color_map_67b54578b70d628c46130f169426d7f6.color.domain().length ? color_map_67b54578b70d628c46130f169426d7f6.x(color_map_67b54578b70d628c46130f169426d7f6.color.domain()[i]) : color_map_67b54578b70d628c46130f169426d7f6.x.range()[1],\n",
       "            z: d\n",
       "          };\n",
       "        }))\n",
       "      .enter().append(&quot;rect&quot;)\n",
       "        .attr(&quot;height&quot;, 40 - 30)\n",
       "        .attr(&quot;x&quot;, function(d) { return d.x0; })\n",
       "        .attr(&quot;width&quot;, function(d) { return d.x1 - d.x0; })\n",
       "        .style(&quot;fill&quot;, function(d) { return d.z; });\n",
       "\n",
       "    color_map_67b54578b70d628c46130f169426d7f6.g.call(color_map_67b54578b70d628c46130f169426d7f6.xAxis).append(&quot;text&quot;)\n",
       "        .attr(&quot;class&quot;, &quot;caption&quot;)\n",
       "        .attr(&quot;y&quot;, 21)\n",
       "        .text(&quot;to&quot;);\n",
       "&lt;/script&gt;\n",
       "&lt;/html&gt;\" style=\"position:absolute;width:100%;height:100%;left:0;top:0;border:none !important;\" allowfullscreen webkitallowfullscreen mozallowfullscreen></iframe></div></div>"
      ],
      "text/plain": [
       "<folium.folium.Map at 0x1f531574050>"
      ]
     },
     "execution_count": 17,
     "metadata": {},
     "output_type": "execute_result"
    }
   ],
   "source": [
    "gdf_after.explore('to')"
   ]
  },
  {
   "attachments": {},
   "cell_type": "markdown",
   "metadata": {},
   "source": [
    "#### 공간 영역 설정"
   ]
  },
  {
   "attachments": {},
   "cell_type": "markdown",
   "metadata": {},
   "source": [
    "https://www.openstreetmap.org/ 에 접속해서 '독도'를 검색하고, 울릉군 독도리에 해당하는 독도를 클릭하면 해당 위치로 지도가 표시됨     \n",
    "지도의 독도 상에서 컨텍스트 메뉴의 \"여기를 가운데로 지정\"를 선택하면, 독도에 대한 좌표가 URL에 보임     \n",
    "https://www.openstreetmap.org/relation/6646538#map=16/37.2422/131.8669   "
   ]
  },
  {
   "attachments": {},
   "cell_type": "markdown",
   "metadata": {},
   "source": [
    "또는 epsg.io.map에 접속해도 쉽게 좌표를 확인할 수 있음    \n",
    "https://epsg.io/map#srs=4326&x=131.866279&y=37.241672&z=15&layer=streets   \n",
    "131.866279 37.241672"
   ]
  },
  {
   "cell_type": "code",
   "execution_count": 18,
   "metadata": {},
   "outputs": [],
   "source": [
    "# 특정 위도, 경도 및 버퍼 거리를 설정합니다.\n",
    "longitude = 131.866279\n",
    "latitude = 37.241672\n",
    "buffer_distance = 50000   #50킬로미터  \n",
    "geom_latlon = Point(longitude, latitude)                # 경위도 Point Geometry를 생성\n",
    "gdf_pt4326 = gpd.GeoDataFrame(geometry=[geom_latlon], crs='epsg:4326' ) # 경위도 Point GeoDataFrame을 생성\n",
    "gdf_pt3857 = gdf_pt4326.to_crs(epsg=3857)               # Point GeoDataFrame을 평면직각좌표계(3857)로 변환\n",
    "geom_buf = gdf_pt3857.geometry.buffer(buffer_distance)  # gdf_pt3857에 대한 버퍼 공간데이터를 생성 \n",
    "gdf_buf3857 = gpd.GeoDataFrame(geometry=geom_buf )      # 버퍼 폴리곤을 GeoDataFrame으로 변환\n",
    "gdf_buf4326 = gdf_buf3857.to_crs(epsg=4326)             # 버퍼 폴리곤을 4326으로 변환 (생물종과 공간조인을 위해)"
   ]
  },
  {
   "cell_type": "code",
   "execution_count": 19,
   "metadata": {},
   "outputs": [
    {
     "data": {
      "text/html": [
       "<div style=\"width:100%;\"><div style=\"position:relative;width:100%;height:0;padding-bottom:60%;\"><span style=\"color:#565656\">Make this Notebook Trusted to load map: File -> Trust Notebook</span><iframe srcdoc=\"&lt;!DOCTYPE html&gt;\n",
       "&lt;html&gt;\n",
       "&lt;head&gt;\n",
       "    \n",
       "    &lt;meta http-equiv=&quot;content-type&quot; content=&quot;text/html; charset=UTF-8&quot; /&gt;\n",
       "    \n",
       "        &lt;script&gt;\n",
       "            L_NO_TOUCH = false;\n",
       "            L_DISABLE_3D = false;\n",
       "        &lt;/script&gt;\n",
       "    \n",
       "    &lt;style&gt;html, body {width: 100%;height: 100%;margin: 0;padding: 0;}&lt;/style&gt;\n",
       "    &lt;style&gt;#map {position:absolute;top:0;bottom:0;right:0;left:0;}&lt;/style&gt;\n",
       "    &lt;script src=&quot;https://cdn.jsdelivr.net/npm/leaflet@1.9.3/dist/leaflet.js&quot;&gt;&lt;/script&gt;\n",
       "    &lt;script src=&quot;https://code.jquery.com/jquery-1.12.4.min.js&quot;&gt;&lt;/script&gt;\n",
       "    &lt;script src=&quot;https://cdn.jsdelivr.net/npm/bootstrap@5.2.2/dist/js/bootstrap.bundle.min.js&quot;&gt;&lt;/script&gt;\n",
       "    &lt;script src=&quot;https://cdnjs.cloudflare.com/ajax/libs/Leaflet.awesome-markers/2.0.2/leaflet.awesome-markers.js&quot;&gt;&lt;/script&gt;\n",
       "    &lt;link rel=&quot;stylesheet&quot; href=&quot;https://cdn.jsdelivr.net/npm/leaflet@1.9.3/dist/leaflet.css&quot;/&gt;\n",
       "    &lt;link rel=&quot;stylesheet&quot; href=&quot;https://cdn.jsdelivr.net/npm/bootstrap@5.2.2/dist/css/bootstrap.min.css&quot;/&gt;\n",
       "    &lt;link rel=&quot;stylesheet&quot; href=&quot;https://netdna.bootstrapcdn.com/bootstrap/3.0.0/css/bootstrap.min.css&quot;/&gt;\n",
       "    &lt;link rel=&quot;stylesheet&quot; href=&quot;https://cdn.jsdelivr.net/npm/@fortawesome/fontawesome-free@6.2.0/css/all.min.css&quot;/&gt;\n",
       "    &lt;link rel=&quot;stylesheet&quot; href=&quot;https://cdnjs.cloudflare.com/ajax/libs/Leaflet.awesome-markers/2.0.2/leaflet.awesome-markers.css&quot;/&gt;\n",
       "    &lt;link rel=&quot;stylesheet&quot; href=&quot;https://cdn.jsdelivr.net/gh/python-visualization/folium/folium/templates/leaflet.awesome.rotate.min.css&quot;/&gt;\n",
       "    \n",
       "            &lt;meta name=&quot;viewport&quot; content=&quot;width=device-width,\n",
       "                initial-scale=1.0, maximum-scale=1.0, user-scalable=no&quot; /&gt;\n",
       "            &lt;style&gt;\n",
       "                #map_b1a5c69386b6f2b1d33d631c6c3a7955 {\n",
       "                    position: relative;\n",
       "                    width: 100.0%;\n",
       "                    height: 100.0%;\n",
       "                    left: 0.0%;\n",
       "                    top: 0.0%;\n",
       "                }\n",
       "                .leaflet-container { font-size: 1rem; }\n",
       "            &lt;/style&gt;\n",
       "        \n",
       "    \n",
       "                    &lt;style&gt;\n",
       "                        .foliumtooltip {\n",
       "                            \n",
       "                        }\n",
       "                       .foliumtooltip table{\n",
       "                            margin: auto;\n",
       "                        }\n",
       "                        .foliumtooltip tr{\n",
       "                            text-align: left;\n",
       "                        }\n",
       "                        .foliumtooltip th{\n",
       "                            padding: 2px; padding-right: 8px;\n",
       "                        }\n",
       "                    &lt;/style&gt;\n",
       "            \n",
       "&lt;/head&gt;\n",
       "&lt;body&gt;\n",
       "    \n",
       "    \n",
       "            &lt;div class=&quot;folium-map&quot; id=&quot;map_b1a5c69386b6f2b1d33d631c6c3a7955&quot; &gt;&lt;/div&gt;\n",
       "        \n",
       "&lt;/body&gt;\n",
       "&lt;script&gt;\n",
       "    \n",
       "    \n",
       "            var map_b1a5c69386b6f2b1d33d631c6c3a7955 = L.map(\n",
       "                &quot;map_b1a5c69386b6f2b1d33d631c6c3a7955&quot;,\n",
       "                {\n",
       "                    center: [37.240823827448196, 131.86627899999996],\n",
       "                    crs: L.CRS.EPSG3857,\n",
       "                    zoom: 10,\n",
       "                    zoomControl: true,\n",
       "                    preferCanvas: false,\n",
       "                }\n",
       "            );\n",
       "            L.control.scale().addTo(map_b1a5c69386b6f2b1d33d631c6c3a7955);\n",
       "\n",
       "            \n",
       "\n",
       "        \n",
       "    \n",
       "            var tile_layer_799e930de2cd3e3704576c0c4f30d3a5 = L.tileLayer(\n",
       "                &quot;https://{s}.tile.openstreetmap.org/{z}/{x}/{y}.png&quot;,\n",
       "                {&quot;attribution&quot;: &quot;Data by \\u0026copy; \\u003ca target=\\&quot;_blank\\&quot; href=\\&quot;http://openstreetmap.org\\&quot;\\u003eOpenStreetMap\\u003c/a\\u003e, under \\u003ca target=\\&quot;_blank\\&quot; href=\\&quot;http://www.openstreetmap.org/copyright\\&quot;\\u003eODbL\\u003c/a\\u003e.&quot;, &quot;detectRetina&quot;: false, &quot;maxNativeZoom&quot;: 18, &quot;maxZoom&quot;: 18, &quot;minZoom&quot;: 0, &quot;noWrap&quot;: false, &quot;opacity&quot;: 1, &quot;subdomains&quot;: &quot;abc&quot;, &quot;tms&quot;: false}\n",
       "            ).addTo(map_b1a5c69386b6f2b1d33d631c6c3a7955);\n",
       "        \n",
       "    \n",
       "            map_b1a5c69386b6f2b1d33d631c6c3a7955.fitBounds(\n",
       "                [[36.883254911532305, 131.4171213579402], [37.59839274336408, 132.31543664205972]],\n",
       "                {}\n",
       "            );\n",
       "        \n",
       "    \n",
       "        function geo_json_4ca469d12bbf58f5f132b4ba1670976d_styler(feature) {\n",
       "            switch(feature.id) {\n",
       "                default:\n",
       "                    return {&quot;fillOpacity&quot;: 0.5, &quot;weight&quot;: 2};\n",
       "            }\n",
       "        }\n",
       "        function geo_json_4ca469d12bbf58f5f132b4ba1670976d_highlighter(feature) {\n",
       "            switch(feature.id) {\n",
       "                default:\n",
       "                    return {&quot;fillOpacity&quot;: 0.75};\n",
       "            }\n",
       "        }\n",
       "        function geo_json_4ca469d12bbf58f5f132b4ba1670976d_pointToLayer(feature, latlng) {\n",
       "            var opts = {&quot;bubblingMouseEvents&quot;: true, &quot;color&quot;: &quot;#3388ff&quot;, &quot;dashArray&quot;: null, &quot;dashOffset&quot;: null, &quot;fill&quot;: true, &quot;fillColor&quot;: &quot;#3388ff&quot;, &quot;fillOpacity&quot;: 0.2, &quot;fillRule&quot;: &quot;evenodd&quot;, &quot;lineCap&quot;: &quot;round&quot;, &quot;lineJoin&quot;: &quot;round&quot;, &quot;opacity&quot;: 1.0, &quot;radius&quot;: 2, &quot;stroke&quot;: true, &quot;weight&quot;: 3};\n",
       "            \n",
       "            let style = geo_json_4ca469d12bbf58f5f132b4ba1670976d_styler(feature)\n",
       "            Object.assign(opts, style)\n",
       "            \n",
       "            return new L.CircleMarker(latlng, opts)\n",
       "        }\n",
       "\n",
       "        function geo_json_4ca469d12bbf58f5f132b4ba1670976d_onEachFeature(feature, layer) {\n",
       "            layer.on({\n",
       "                mouseout: function(e) {\n",
       "                    if(typeof e.target.setStyle === &quot;function&quot;){\n",
       "                        geo_json_4ca469d12bbf58f5f132b4ba1670976d.resetStyle(e.target);\n",
       "                    }\n",
       "                },\n",
       "                mouseover: function(e) {\n",
       "                    if(typeof e.target.setStyle === &quot;function&quot;){\n",
       "                        const highlightStyle = geo_json_4ca469d12bbf58f5f132b4ba1670976d_highlighter(e.target.feature)\n",
       "                        e.target.setStyle(highlightStyle);\n",
       "                    }\n",
       "                },\n",
       "            });\n",
       "        };\n",
       "        var geo_json_4ca469d12bbf58f5f132b4ba1670976d = L.geoJson(null, {\n",
       "                onEachFeature: geo_json_4ca469d12bbf58f5f132b4ba1670976d_onEachFeature,\n",
       "            \n",
       "                style: geo_json_4ca469d12bbf58f5f132b4ba1670976d_styler,\n",
       "                pointToLayer: geo_json_4ca469d12bbf58f5f132b4ba1670976d_pointToLayer\n",
       "        });\n",
       "\n",
       "        function geo_json_4ca469d12bbf58f5f132b4ba1670976d_add (data) {\n",
       "            geo_json_4ca469d12bbf58f5f132b4ba1670976d\n",
       "                .addData(data)\n",
       "                .addTo(map_b1a5c69386b6f2b1d33d631c6c3a7955);\n",
       "        }\n",
       "            geo_json_4ca469d12bbf58f5f132b4ba1670976d_add({&quot;bbox&quot;: [131.4171213579402, 36.883254911532305, 132.31543664205972, 37.59839274336408], &quot;features&quot;: [{&quot;bbox&quot;: [131.4171213579402, 36.883254911532305, 132.31543664205972, 37.59839274336408], &quot;geometry&quot;: {&quot;coordinates&quot;: [[[132.31543664205972, 37.241672], [132.31327382524597, 37.206615873464436], [132.30680620391283, 37.17188129909013], [132.2960960647893, 37.13780348983549], [132.28124655237002, 37.10471176639891], [132.26240067557706, 37.07292634194654], [132.23973993050615, 37.04275517965909], [132.21348255251993, 37.014490955627046], [132.1838814145222, 36.988408159088586], [132.15122159165347, 36.96476036105413], [132.11581761586163, 36.943777680993456], [132.0780104467874, 36.92566447947704], [132.03816418813642, 36.91059730247886], [131.99666258116164, 36.89872310048188], [131.95390530902543, 36.89015774261332], [131.91030414763185, 36.884984842811086], [131.866279, 36.883254911532305], [131.8222538523681, 36.884984842811086], [131.77865269097452, 36.89015774261332], [131.73589541883828, 36.89872310048188], [131.69439381186353, 36.91059730247886], [131.65454755321255, 36.92566447947704], [131.6167403841383, 36.943777680993456], [131.5813364083465, 36.96476036105413], [131.54867658547778, 36.988408159088586], [131.51907544748002, 37.014490955627046], [131.4928180694938, 37.04275517965909], [131.4701573244229, 37.07292634194654], [131.45131144762993, 37.10471176639891], [131.43646193521062, 37.13780348983549], [131.42575179608716, 37.17188129909013], [131.419284174754, 37.206615873464436], [131.4171213579402, 37.241672], [131.419284174754, 37.27671182890615], [131.42575179608716, 37.311398136727334], [131.43646193521062, 37.345397565436805], [131.45131144762993, 37.37838380656894], [131.4701573244229, 37.41004070071591], [131.4928180694938, 37.44006522417715], [131.51907544748002, 37.46817033622237], [131.54867658547778, 37.49408766227293], [131.5813364083465, 37.51756999028278], [131.6167403841383, 37.538393559676074], [131.65454755321255, 37.556360124340934], [131.69439381186353, 37.571298773363], [131.73589541883828, 37.583067495384796], [131.77865269097452, 37.59155447468285], [131.8222538523681, 37.59667910925139], [131.866279, 37.59839274336408], [131.91030414763185, 37.59667910925139], [131.95390530902543, 37.59155447468285], [131.99666258116164, 37.583067495384796], [132.03816418813642, 37.571298773363], [132.0780104467874, 37.556360124340934], [132.11581761586163, 37.538393559676074], [132.15122159165347, 37.51756999028278], [132.1838814145222, 37.49408766227293], [132.21348255251993, 37.46817033622237], [132.23973993050615, 37.44006522417715], [132.26240067557706, 37.41004070071591], [132.28124655237002, 37.37838380656894], [132.2960960647893, 37.345397565436805], [132.30680620391283, 37.311398136727334], [132.31327382524597, 37.27671182890615], [132.31543664205972, 37.241672]]], &quot;type&quot;: &quot;Polygon&quot;}, &quot;id&quot;: &quot;0&quot;, &quot;properties&quot;: {}, &quot;type&quot;: &quot;Feature&quot;}], &quot;type&quot;: &quot;FeatureCollection&quot;});\n",
       "\n",
       "        \n",
       "    \n",
       "    geo_json_4ca469d12bbf58f5f132b4ba1670976d.bindTooltip(\n",
       "    function(layer){\n",
       "    let div = L.DomUtil.create(&#x27;div&#x27;);\n",
       "    \n",
       "    return div\n",
       "    }\n",
       "    ,{&quot;className&quot;: &quot;foliumtooltip&quot;, &quot;sticky&quot;: true});\n",
       "                     \n",
       "&lt;/script&gt;\n",
       "&lt;/html&gt;\" style=\"position:absolute;width:100%;height:100%;left:0;top:0;border:none !important;\" allowfullscreen webkitallowfullscreen mozallowfullscreen></iframe></div></div>"
      ],
      "text/plain": [
       "<folium.folium.Map at 0x1f51d5c5750>"
      ]
     },
     "execution_count": 19,
     "metadata": {},
     "output_type": "execute_result"
    }
   ],
   "source": [
    "gdf_buf4326.explore()"
   ]
  },
  {
   "cell_type": "code",
   "execution_count": 20,
   "metadata": {},
   "outputs": [
    {
     "name": "stdout",
     "output_type": "stream",
     "text": [
      "<class 'geopandas.geodataframe.GeoDataFrame'>\n",
      "RangeIndex: 12 entries, 0 to 11\n",
      "Data columns (total 7 columns):\n",
      " #   Column       Non-Null Count  Dtype   \n",
      "---  ------       --------------  -----   \n",
      " 0   index        12 non-null     int64   \n",
      " 1   latitude     12 non-null     float32 \n",
      " 2   longitude    12 non-null     float32 \n",
      " 3   to           12 non-null     float32 \n",
      " 4   geometry     12 non-null     geometry\n",
      " 5   lat_lon      12 non-null     object  \n",
      " 6   index_right  12 non-null     int64   \n",
      "dtypes: float32(3), geometry(1), int64(2), object(1)\n",
      "memory usage: 660.0+ bytes\n"
     ]
    },
    {
     "data": {
      "text/html": [
       "<div>\n",
       "<style scoped>\n",
       "    .dataframe tbody tr th:only-of-type {\n",
       "        vertical-align: middle;\n",
       "    }\n",
       "\n",
       "    .dataframe tbody tr th {\n",
       "        vertical-align: top;\n",
       "    }\n",
       "\n",
       "    .dataframe thead th {\n",
       "        text-align: right;\n",
       "    }\n",
       "</style>\n",
       "<table border=\"1\" class=\"dataframe\">\n",
       "  <thead>\n",
       "    <tr style=\"text-align: right;\">\n",
       "      <th></th>\n",
       "      <th>index</th>\n",
       "      <th>latitude</th>\n",
       "      <th>longitude</th>\n",
       "      <th>to</th>\n",
       "      <th>geometry</th>\n",
       "      <th>lat_lon</th>\n",
       "      <th>index_right</th>\n",
       "    </tr>\n",
       "  </thead>\n",
       "  <tbody>\n",
       "    <tr>\n",
       "      <th>0</th>\n",
       "      <td>41</td>\n",
       "      <td>36.875000</td>\n",
       "      <td>131.375000</td>\n",
       "      <td>11.798624</td>\n",
       "      <td>POLYGON ((131.37500 36.87500, 131.62500 36.875...</td>\n",
       "      <td>36.875_131.375</td>\n",
       "      <td>0</td>\n",
       "    </tr>\n",
       "    <tr>\n",
       "      <th>1</th>\n",
       "      <td>42</td>\n",
       "      <td>36.875000</td>\n",
       "      <td>131.625000</td>\n",
       "      <td>11.864250</td>\n",
       "      <td>POLYGON ((131.62500 36.87500, 131.87500 36.875...</td>\n",
       "      <td>36.875_131.625</td>\n",
       "      <td>0</td>\n",
       "    </tr>\n",
       "    <tr>\n",
       "      <th>2</th>\n",
       "      <td>43</td>\n",
       "      <td>36.875000</td>\n",
       "      <td>131.875000</td>\n",
       "      <td>11.808374</td>\n",
       "      <td>POLYGON ((131.87500 36.87500, 132.12500 36.875...</td>\n",
       "      <td>36.875_131.875</td>\n",
       "      <td>0</td>\n",
       "    </tr>\n",
       "    <tr>\n",
       "      <th>3</th>\n",
       "      <td>44</td>\n",
       "      <td>36.875000</td>\n",
       "      <td>132.125000</td>\n",
       "      <td>11.551374</td>\n",
       "      <td>POLYGON ((132.12500 36.87500, 132.37500 36.875...</td>\n",
       "      <td>36.875_132.125</td>\n",
       "      <td>0</td>\n",
       "    </tr>\n",
       "    <tr>\n",
       "      <th>4</th>\n",
       "      <td>53</td>\n",
       "      <td>37.125000</td>\n",
       "      <td>131.375000</td>\n",
       "      <td>11.797874</td>\n",
       "      <td>POLYGON ((131.37500 37.12500, 131.62500 37.125...</td>\n",
       "      <td>37.125_131.375</td>\n",
       "      <td>0</td>\n",
       "    </tr>\n",
       "  </tbody>\n",
       "</table>\n",
       "</div>"
      ],
      "text/plain": [
       "   index  latitude  longitude        to  \\\n",
       "0     41 36.875000 131.375000 11.798624   \n",
       "1     42 36.875000 131.625000 11.864250   \n",
       "2     43 36.875000 131.875000 11.808374   \n",
       "3     44 36.875000 132.125000 11.551374   \n",
       "4     53 37.125000 131.375000 11.797874   \n",
       "\n",
       "                                            geometry         lat_lon  \\\n",
       "0  POLYGON ((131.37500 36.87500, 131.62500 36.875...  36.875_131.375   \n",
       "1  POLYGON ((131.62500 36.87500, 131.87500 36.875...  36.875_131.625   \n",
       "2  POLYGON ((131.87500 36.87500, 132.12500 36.875...  36.875_131.875   \n",
       "3  POLYGON ((132.12500 36.87500, 132.37500 36.875...  36.875_132.125   \n",
       "4  POLYGON ((131.37500 37.12500, 131.62500 37.125...  37.125_131.375   \n",
       "\n",
       "   index_right  \n",
       "0            0  \n",
       "1            0  \n",
       "2            0  \n",
       "3            0  \n",
       "4            0  "
      ]
     },
     "execution_count": 20,
     "metadata": {},
     "output_type": "execute_result"
    }
   ],
   "source": [
    "# 위도-경도를 이용한 고유ID 부여\n",
    "gdf_before['lat_lon'] = gdf_before['latitude'].astype(str) + '_' + gdf_before['longitude'].astype(str)\n",
    "# 이전 데이터에서 독도 반경 영역에 해당하는 데이터만 추출 \n",
    "gdf_before2 = gpd.sjoin(gdf_before, gdf_buf4326, how='inner', predicate='intersects', lsuffix='left' ).reset_index()\n",
    "gdf_before2.info()\n",
    "gdf_before2.head()"
   ]
  },
  {
   "cell_type": "code",
   "execution_count": 21,
   "metadata": {},
   "outputs": [
    {
     "name": "stderr",
     "output_type": "stream",
     "text": [
      "c:\\Users\\leesh\\AppData\\Local\\Programs\\Python\\Python311\\Lib\\site-packages\\geopandas\\explore.py:400: FutureWarning: is_categorical_dtype is deprecated and will be removed in a future version. Use isinstance(dtype, CategoricalDtype) instead\n",
      "  elif pd.api.types.is_categorical_dtype(gdf[column]):\n"
     ]
    },
    {
     "data": {
      "text/html": [
       "<div style=\"width:100%;\"><div style=\"position:relative;width:100%;height:0;padding-bottom:60%;\"><span style=\"color:#565656\">Make this Notebook Trusted to load map: File -> Trust Notebook</span><iframe srcdoc=\"&lt;!DOCTYPE html&gt;\n",
       "&lt;html&gt;\n",
       "&lt;head&gt;\n",
       "    \n",
       "    &lt;meta http-equiv=&quot;content-type&quot; content=&quot;text/html; charset=UTF-8&quot; /&gt;\n",
       "    \n",
       "        &lt;script&gt;\n",
       "            L_NO_TOUCH = false;\n",
       "            L_DISABLE_3D = false;\n",
       "        &lt;/script&gt;\n",
       "    \n",
       "    &lt;style&gt;html, body {width: 100%;height: 100%;margin: 0;padding: 0;}&lt;/style&gt;\n",
       "    &lt;style&gt;#map {position:absolute;top:0;bottom:0;right:0;left:0;}&lt;/style&gt;\n",
       "    &lt;script src=&quot;https://cdn.jsdelivr.net/npm/leaflet@1.9.3/dist/leaflet.js&quot;&gt;&lt;/script&gt;\n",
       "    &lt;script src=&quot;https://code.jquery.com/jquery-1.12.4.min.js&quot;&gt;&lt;/script&gt;\n",
       "    &lt;script src=&quot;https://cdn.jsdelivr.net/npm/bootstrap@5.2.2/dist/js/bootstrap.bundle.min.js&quot;&gt;&lt;/script&gt;\n",
       "    &lt;script src=&quot;https://cdnjs.cloudflare.com/ajax/libs/Leaflet.awesome-markers/2.0.2/leaflet.awesome-markers.js&quot;&gt;&lt;/script&gt;\n",
       "    &lt;link rel=&quot;stylesheet&quot; href=&quot;https://cdn.jsdelivr.net/npm/leaflet@1.9.3/dist/leaflet.css&quot;/&gt;\n",
       "    &lt;link rel=&quot;stylesheet&quot; href=&quot;https://cdn.jsdelivr.net/npm/bootstrap@5.2.2/dist/css/bootstrap.min.css&quot;/&gt;\n",
       "    &lt;link rel=&quot;stylesheet&quot; href=&quot;https://netdna.bootstrapcdn.com/bootstrap/3.0.0/css/bootstrap.min.css&quot;/&gt;\n",
       "    &lt;link rel=&quot;stylesheet&quot; href=&quot;https://cdn.jsdelivr.net/npm/@fortawesome/fontawesome-free@6.2.0/css/all.min.css&quot;/&gt;\n",
       "    &lt;link rel=&quot;stylesheet&quot; href=&quot;https://cdnjs.cloudflare.com/ajax/libs/Leaflet.awesome-markers/2.0.2/leaflet.awesome-markers.css&quot;/&gt;\n",
       "    &lt;link rel=&quot;stylesheet&quot; href=&quot;https://cdn.jsdelivr.net/gh/python-visualization/folium/folium/templates/leaflet.awesome.rotate.min.css&quot;/&gt;\n",
       "    \n",
       "            &lt;meta name=&quot;viewport&quot; content=&quot;width=device-width,\n",
       "                initial-scale=1.0, maximum-scale=1.0, user-scalable=no&quot; /&gt;\n",
       "            &lt;style&gt;\n",
       "                #map_b7d718cebda819e7213c2317e35a09fe {\n",
       "                    position: relative;\n",
       "                    width: 100.0%;\n",
       "                    height: 100.0%;\n",
       "                    left: 0.0%;\n",
       "                    top: 0.0%;\n",
       "                }\n",
       "                .leaflet-container { font-size: 1rem; }\n",
       "            &lt;/style&gt;\n",
       "        \n",
       "    \n",
       "                    &lt;style&gt;\n",
       "                        .foliumtooltip {\n",
       "                            \n",
       "                        }\n",
       "                       .foliumtooltip table{\n",
       "                            margin: auto;\n",
       "                        }\n",
       "                        .foliumtooltip tr{\n",
       "                            text-align: left;\n",
       "                        }\n",
       "                        .foliumtooltip th{\n",
       "                            padding: 2px; padding-right: 8px;\n",
       "                        }\n",
       "                    &lt;/style&gt;\n",
       "            \n",
       "    &lt;script src=&quot;https://cdnjs.cloudflare.com/ajax/libs/d3/3.5.5/d3.min.js&quot;&gt;&lt;/script&gt;\n",
       "&lt;/head&gt;\n",
       "&lt;body&gt;\n",
       "    \n",
       "    \n",
       "            &lt;div class=&quot;folium-map&quot; id=&quot;map_b7d718cebda819e7213c2317e35a09fe&quot; &gt;&lt;/div&gt;\n",
       "        \n",
       "&lt;/body&gt;\n",
       "&lt;script&gt;\n",
       "    \n",
       "    \n",
       "            var map_b7d718cebda819e7213c2317e35a09fe = L.map(\n",
       "                &quot;map_b7d718cebda819e7213c2317e35a09fe&quot;,\n",
       "                {\n",
       "                    center: [37.25, 131.875],\n",
       "                    crs: L.CRS.EPSG3857,\n",
       "                    zoom: 10,\n",
       "                    zoomControl: true,\n",
       "                    preferCanvas: false,\n",
       "                }\n",
       "            );\n",
       "            L.control.scale().addTo(map_b7d718cebda819e7213c2317e35a09fe);\n",
       "\n",
       "            \n",
       "\n",
       "        \n",
       "    \n",
       "            var tile_layer_aecaf0454441a83e4e6c213ded0a8a4c = L.tileLayer(\n",
       "                &quot;https://{s}.tile.openstreetmap.org/{z}/{x}/{y}.png&quot;,\n",
       "                {&quot;attribution&quot;: &quot;Data by \\u0026copy; \\u003ca target=\\&quot;_blank\\&quot; href=\\&quot;http://openstreetmap.org\\&quot;\\u003eOpenStreetMap\\u003c/a\\u003e, under \\u003ca target=\\&quot;_blank\\&quot; href=\\&quot;http://www.openstreetmap.org/copyright\\&quot;\\u003eODbL\\u003c/a\\u003e.&quot;, &quot;detectRetina&quot;: false, &quot;maxNativeZoom&quot;: 18, &quot;maxZoom&quot;: 18, &quot;minZoom&quot;: 0, &quot;noWrap&quot;: false, &quot;opacity&quot;: 1, &quot;subdomains&quot;: &quot;abc&quot;, &quot;tms&quot;: false}\n",
       "            ).addTo(map_b7d718cebda819e7213c2317e35a09fe);\n",
       "        \n",
       "    \n",
       "            map_b7d718cebda819e7213c2317e35a09fe.fitBounds(\n",
       "                [[36.875, 131.375], [37.625, 132.375]],\n",
       "                {}\n",
       "            );\n",
       "        \n",
       "    \n",
       "        function geo_json_a37839d09f8d2111ba2e6f388d3ca419_styler(feature) {\n",
       "            switch(feature.id) {\n",
       "                case &quot;1&quot;: \n",
       "                    return {&quot;color&quot;: &quot;#b21758&quot;, &quot;fillColor&quot;: &quot;#b21758&quot;, &quot;fillOpacity&quot;: 0.5, &quot;weight&quot;: 2};\n",
       "                case &quot;2&quot;: \n",
       "                    return {&quot;color&quot;: &quot;#901d5b&quot;, &quot;fillColor&quot;: &quot;#901d5b&quot;, &quot;fillOpacity&quot;: 0.5, &quot;weight&quot;: 2};\n",
       "                case &quot;3&quot;: \n",
       "                    return {&quot;color&quot;: &quot;#03051a&quot;, &quot;fillColor&quot;: &quot;#03051a&quot;, &quot;fillOpacity&quot;: 0.5, &quot;weight&quot;: 2};\n",
       "                case &quot;5&quot;: \n",
       "                    return {&quot;color&quot;: &quot;#f5976e&quot;, &quot;fillColor&quot;: &quot;#f5976e&quot;, &quot;fillOpacity&quot;: 0.5, &quot;weight&quot;: 2};\n",
       "                case &quot;6&quot;: \n",
       "                    return {&quot;color&quot;: &quot;#faebdd&quot;, &quot;fillColor&quot;: &quot;#faebdd&quot;, &quot;fillOpacity&quot;: 0.5, &quot;weight&quot;: 2};\n",
       "                case &quot;7&quot;: \n",
       "                    return {&quot;color&quot;: &quot;#9e1a5b&quot;, &quot;fillColor&quot;: &quot;#9e1a5b&quot;, &quot;fillOpacity&quot;: 0.5, &quot;weight&quot;: 2};\n",
       "                case &quot;8&quot;: \n",
       "                    return {&quot;color&quot;: &quot;#100b23&quot;, &quot;fillColor&quot;: &quot;#100b23&quot;, &quot;fillOpacity&quot;: 0.5, &quot;weight&quot;: 2};\n",
       "                case &quot;9&quot;: \n",
       "                    return {&quot;color&quot;: &quot;#e83f3f&quot;, &quot;fillColor&quot;: &quot;#e83f3f&quot;, &quot;fillOpacity&quot;: 0.5, &quot;weight&quot;: 2};\n",
       "                case &quot;10&quot;: \n",
       "                    return {&quot;color&quot;: &quot;#f5946b&quot;, &quot;fillColor&quot;: &quot;#f5946b&quot;, &quot;fillOpacity&quot;: 0.5, &quot;weight&quot;: 2};\n",
       "                case &quot;11&quot;: \n",
       "                    return {&quot;color&quot;: &quot;#170f28&quot;, &quot;fillColor&quot;: &quot;#170f28&quot;, &quot;fillOpacity&quot;: 0.5, &quot;weight&quot;: 2};\n",
       "                default:\n",
       "                    return {&quot;color&quot;: &quot;#891e5b&quot;, &quot;fillColor&quot;: &quot;#891e5b&quot;, &quot;fillOpacity&quot;: 0.5, &quot;weight&quot;: 2};\n",
       "            }\n",
       "        }\n",
       "        function geo_json_a37839d09f8d2111ba2e6f388d3ca419_highlighter(feature) {\n",
       "            switch(feature.id) {\n",
       "                default:\n",
       "                    return {&quot;fillOpacity&quot;: 0.75};\n",
       "            }\n",
       "        }\n",
       "        function geo_json_a37839d09f8d2111ba2e6f388d3ca419_pointToLayer(feature, latlng) {\n",
       "            var opts = {&quot;bubblingMouseEvents&quot;: true, &quot;color&quot;: &quot;#3388ff&quot;, &quot;dashArray&quot;: null, &quot;dashOffset&quot;: null, &quot;fill&quot;: true, &quot;fillColor&quot;: &quot;#3388ff&quot;, &quot;fillOpacity&quot;: 0.2, &quot;fillRule&quot;: &quot;evenodd&quot;, &quot;lineCap&quot;: &quot;round&quot;, &quot;lineJoin&quot;: &quot;round&quot;, &quot;opacity&quot;: 1.0, &quot;radius&quot;: 2, &quot;stroke&quot;: true, &quot;weight&quot;: 3};\n",
       "            \n",
       "            let style = geo_json_a37839d09f8d2111ba2e6f388d3ca419_styler(feature)\n",
       "            Object.assign(opts, style)\n",
       "            \n",
       "            return new L.CircleMarker(latlng, opts)\n",
       "        }\n",
       "\n",
       "        function geo_json_a37839d09f8d2111ba2e6f388d3ca419_onEachFeature(feature, layer) {\n",
       "            layer.on({\n",
       "                mouseout: function(e) {\n",
       "                    if(typeof e.target.setStyle === &quot;function&quot;){\n",
       "                        geo_json_a37839d09f8d2111ba2e6f388d3ca419.resetStyle(e.target);\n",
       "                    }\n",
       "                },\n",
       "                mouseover: function(e) {\n",
       "                    if(typeof e.target.setStyle === &quot;function&quot;){\n",
       "                        const highlightStyle = geo_json_a37839d09f8d2111ba2e6f388d3ca419_highlighter(e.target.feature)\n",
       "                        e.target.setStyle(highlightStyle);\n",
       "                    }\n",
       "                },\n",
       "            });\n",
       "        };\n",
       "        var geo_json_a37839d09f8d2111ba2e6f388d3ca419 = L.geoJson(null, {\n",
       "                onEachFeature: geo_json_a37839d09f8d2111ba2e6f388d3ca419_onEachFeature,\n",
       "            \n",
       "                style: geo_json_a37839d09f8d2111ba2e6f388d3ca419_styler,\n",
       "                pointToLayer: geo_json_a37839d09f8d2111ba2e6f388d3ca419_pointToLayer\n",
       "        });\n",
       "\n",
       "        function geo_json_a37839d09f8d2111ba2e6f388d3ca419_add (data) {\n",
       "            geo_json_a37839d09f8d2111ba2e6f388d3ca419\n",
       "                .addData(data)\n",
       "                .addTo(map_b7d718cebda819e7213c2317e35a09fe);\n",
       "        }\n",
       "            geo_json_a37839d09f8d2111ba2e6f388d3ca419_add({&quot;bbox&quot;: [131.375, 36.875, 132.375, 37.625], &quot;features&quot;: [{&quot;bbox&quot;: [131.375, 36.875, 131.625, 37.125], &quot;geometry&quot;: {&quot;coordinates&quot;: [[[131.375, 36.875], [131.625, 36.875], [131.625, 37.125], [131.375, 37.125], [131.375, 36.875]]], &quot;type&quot;: &quot;Polygon&quot;}, &quot;id&quot;: &quot;0&quot;, &quot;properties&quot;: {&quot;__folium_color&quot;: &quot;#891e5b&quot;, &quot;index&quot;: 41, &quot;index_right&quot;: 0, &quot;lat_lon&quot;: &quot;36.875_131.375&quot;, &quot;latitude&quot;: 36.875, &quot;longitude&quot;: 131.375, &quot;to&quot;: 11.798624038696289}, &quot;type&quot;: &quot;Feature&quot;}, {&quot;bbox&quot;: [131.625, 36.875, 131.875, 37.125], &quot;geometry&quot;: {&quot;coordinates&quot;: [[[131.625, 36.875], [131.875, 36.875], [131.875, 37.125], [131.625, 37.125], [131.625, 36.875]]], &quot;type&quot;: &quot;Polygon&quot;}, &quot;id&quot;: &quot;1&quot;, &quot;properties&quot;: {&quot;__folium_color&quot;: &quot;#b21758&quot;, &quot;index&quot;: 42, &quot;index_right&quot;: 0, &quot;lat_lon&quot;: &quot;36.875_131.625&quot;, &quot;latitude&quot;: 36.875, &quot;longitude&quot;: 131.625, &quot;to&quot;: 11.864250183105469}, &quot;type&quot;: &quot;Feature&quot;}, {&quot;bbox&quot;: [131.875, 36.875, 132.125, 37.125], &quot;geometry&quot;: {&quot;coordinates&quot;: [[[131.875, 36.875], [132.125, 36.875], [132.125, 37.125], [131.875, 37.125], [131.875, 36.875]]], &quot;type&quot;: &quot;Polygon&quot;}, &quot;id&quot;: &quot;2&quot;, &quot;properties&quot;: {&quot;__folium_color&quot;: &quot;#901d5b&quot;, &quot;index&quot;: 43, &quot;index_right&quot;: 0, &quot;lat_lon&quot;: &quot;36.875_131.875&quot;, &quot;latitude&quot;: 36.875, &quot;longitude&quot;: 131.875, &quot;to&quot;: 11.808374404907227}, &quot;type&quot;: &quot;Feature&quot;}, {&quot;bbox&quot;: [132.125, 36.875, 132.375, 37.125], &quot;geometry&quot;: {&quot;coordinates&quot;: [[[132.125, 36.875], [132.375, 36.875], [132.375, 37.125], [132.125, 37.125], [132.125, 36.875]]], &quot;type&quot;: &quot;Polygon&quot;}, &quot;id&quot;: &quot;3&quot;, &quot;properties&quot;: {&quot;__folium_color&quot;: &quot;#03051a&quot;, &quot;index&quot;: 44, &quot;index_right&quot;: 0, &quot;lat_lon&quot;: &quot;36.875_132.125&quot;, &quot;latitude&quot;: 36.875, &quot;longitude&quot;: 132.125, &quot;to&quot;: 11.551374435424805}, &quot;type&quot;: &quot;Feature&quot;}, {&quot;bbox&quot;: [131.375, 37.125, 131.625, 37.375], &quot;geometry&quot;: {&quot;coordinates&quot;: [[[131.375, 37.125], [131.625, 37.125], [131.625, 37.375], [131.375, 37.375], [131.375, 37.125]]], &quot;type&quot;: &quot;Polygon&quot;}, &quot;id&quot;: &quot;4&quot;, &quot;properties&quot;: {&quot;__folium_color&quot;: &quot;#891e5b&quot;, &quot;index&quot;: 53, &quot;index_right&quot;: 0, &quot;lat_lon&quot;: &quot;37.125_131.375&quot;, &quot;latitude&quot;: 37.125, &quot;longitude&quot;: 131.375, &quot;to&quot;: 11.797874450683594}, &quot;type&quot;: &quot;Feature&quot;}, {&quot;bbox&quot;: [131.625, 37.125, 131.875, 37.375], &quot;geometry&quot;: {&quot;coordinates&quot;: [[[131.625, 37.125], [131.875, 37.125], [131.875, 37.375], [131.625, 37.375], [131.625, 37.125]]], &quot;type&quot;: &quot;Polygon&quot;}, &quot;id&quot;: &quot;5&quot;, &quot;properties&quot;: {&quot;__folium_color&quot;: &quot;#f5976e&quot;, &quot;index&quot;: 54, &quot;index_right&quot;: 0, &quot;lat_lon&quot;: &quot;37.125_131.625&quot;, &quot;latitude&quot;: 37.125, &quot;longitude&quot;: 131.625, &quot;to&quot;: 12.112499237060547}, &quot;type&quot;: &quot;Feature&quot;}, {&quot;bbox&quot;: [131.875, 37.125, 132.125, 37.375], &quot;geometry&quot;: {&quot;coordinates&quot;: [[[131.875, 37.125], [132.125, 37.125], [132.125, 37.375], [131.875, 37.375], [131.875, 37.125]]], &quot;type&quot;: &quot;Polygon&quot;}, &quot;id&quot;: &quot;6&quot;, &quot;properties&quot;: {&quot;__folium_color&quot;: &quot;#faebdd&quot;, &quot;index&quot;: 55, &quot;index_right&quot;: 0, &quot;lat_lon&quot;: &quot;37.125_131.875&quot;, &quot;latitude&quot;: 37.125, &quot;longitude&quot;: 131.875, &quot;to&quot;: 12.264249801635742}, &quot;type&quot;: &quot;Feature&quot;}, {&quot;bbox&quot;: [132.125, 37.125, 132.375, 37.375], &quot;geometry&quot;: {&quot;coordinates&quot;: [[[132.125, 37.125], [132.375, 37.125], [132.375, 37.375], [132.125, 37.375], [132.125, 37.125]]], &quot;type&quot;: &quot;Polygon&quot;}, &quot;id&quot;: &quot;7&quot;, &quot;properties&quot;: {&quot;__folium_color&quot;: &quot;#9e1a5b&quot;, &quot;index&quot;: 56, &quot;index_right&quot;: 0, &quot;lat_lon&quot;: &quot;37.125_132.125&quot;, &quot;latitude&quot;: 37.125, &quot;longitude&quot;: 132.125, &quot;to&quot;: 11.831249237060547}, &quot;type&quot;: &quot;Feature&quot;}, {&quot;bbox&quot;: [131.375, 37.375, 131.625, 37.625], &quot;geometry&quot;: {&quot;coordinates&quot;: [[[131.375, 37.375], [131.625, 37.375], [131.625, 37.625], [131.375, 37.625], [131.375, 37.375]]], &quot;type&quot;: &quot;Polygon&quot;}, &quot;id&quot;: &quot;8&quot;, &quot;properties&quot;: {&quot;__folium_color&quot;: &quot;#100b23&quot;, &quot;index&quot;: 65, &quot;index_right&quot;: 0, &quot;lat_lon&quot;: &quot;37.375_131.375&quot;, &quot;latitude&quot;: 37.375, &quot;longitude&quot;: 131.375, &quot;to&quot;: 11.580374717712402}, &quot;type&quot;: &quot;Feature&quot;}, {&quot;bbox&quot;: [131.625, 37.375, 131.875, 37.625], &quot;geometry&quot;: {&quot;coordinates&quot;: [[[131.625, 37.375], [131.875, 37.375], [131.875, 37.625], [131.625, 37.625], [131.625, 37.375]]], &quot;type&quot;: &quot;Polygon&quot;}, &quot;id&quot;: &quot;9&quot;, &quot;properties&quot;: {&quot;__folium_color&quot;: &quot;#e83f3f&quot;, &quot;index&quot;: 66, &quot;index_right&quot;: 0, &quot;lat_lon&quot;: &quot;37.375_131.625&quot;, &quot;latitude&quot;: 37.375, &quot;longitude&quot;: 131.625, &quot;to&quot;: 11.979000091552734}, &quot;type&quot;: &quot;Feature&quot;}, {&quot;bbox&quot;: [131.875, 37.375, 132.125, 37.625], &quot;geometry&quot;: {&quot;coordinates&quot;: [[[131.875, 37.375], [132.125, 37.375], [132.125, 37.625], [131.875, 37.625], [131.875, 37.375]]], &quot;type&quot;: &quot;Polygon&quot;}, &quot;id&quot;: &quot;10&quot;, &quot;properties&quot;: {&quot;__folium_color&quot;: &quot;#f5946b&quot;, &quot;index&quot;: 67, &quot;index_right&quot;: 0, &quot;lat_lon&quot;: &quot;37.375_131.875&quot;, &quot;latitude&quot;: 37.375, &quot;longitude&quot;: 131.875, &quot;to&quot;: 12.107874870300293}, &quot;type&quot;: &quot;Feature&quot;}, {&quot;bbox&quot;: [132.125, 37.375, 132.375, 37.625], &quot;geometry&quot;: {&quot;coordinates&quot;: [[[132.125, 37.375], [132.375, 37.375], [132.375, 37.625], [132.125, 37.625], [132.125, 37.375]]], &quot;type&quot;: &quot;Polygon&quot;}, &quot;id&quot;: &quot;11&quot;, &quot;properties&quot;: {&quot;__folium_color&quot;: &quot;#170f28&quot;, &quot;index&quot;: 68, &quot;index_right&quot;: 0, &quot;lat_lon&quot;: &quot;37.375_132.125&quot;, &quot;latitude&quot;: 37.375, &quot;longitude&quot;: 132.125, &quot;to&quot;: 11.593500137329102}, &quot;type&quot;: &quot;Feature&quot;}], &quot;type&quot;: &quot;FeatureCollection&quot;});\n",
       "\n",
       "        \n",
       "    \n",
       "    geo_json_a37839d09f8d2111ba2e6f388d3ca419.bindTooltip(\n",
       "    function(layer){\n",
       "    let div = L.DomUtil.create(&#x27;div&#x27;);\n",
       "    \n",
       "    let handleObject = feature=&gt;typeof(feature)==&#x27;object&#x27; ? JSON.stringify(feature) : feature;\n",
       "    let fields = [&quot;index&quot;, &quot;latitude&quot;, &quot;longitude&quot;, &quot;to&quot;, &quot;lat_lon&quot;, &quot;index_right&quot;];\n",
       "    let aliases = [&quot;index&quot;, &quot;latitude&quot;, &quot;longitude&quot;, &quot;to&quot;, &quot;lat_lon&quot;, &quot;index_right&quot;];\n",
       "    let table = &#x27;&lt;table&gt;&#x27; +\n",
       "        String(\n",
       "        fields.map(\n",
       "        (v,i)=&gt;\n",
       "        `&lt;tr&gt;\n",
       "            &lt;th&gt;${aliases[i]}&lt;/th&gt;\n",
       "            \n",
       "            &lt;td&gt;${handleObject(layer.feature.properties[v])}&lt;/td&gt;\n",
       "        &lt;/tr&gt;`).join(&#x27;&#x27;))\n",
       "    +&#x27;&lt;/table&gt;&#x27;;\n",
       "    div.innerHTML=table;\n",
       "    \n",
       "    return div\n",
       "    }\n",
       "    ,{&quot;className&quot;: &quot;foliumtooltip&quot;, &quot;sticky&quot;: true});\n",
       "                     \n",
       "    \n",
       "    var color_map_cb94866a73ae21ff8b93cb48fa562a64 = {};\n",
       "\n",
       "    \n",
       "    color_map_cb94866a73ae21ff8b93cb48fa562a64.color = d3.scale.threshold()\n",
       "              .domain([11.551374435424805, 11.552803043373123, 11.554231651321441, 11.55566025926976, 11.557088867218079, 11.558517475166397, 11.559946083114715, 11.561374691063035, 11.562803299011353, 11.564231906959671, 11.56566051490799, 11.567089122856308, 11.568517730804627, 11.569946338752946, 11.571374946701264, 11.572803554649582, 11.574232162597902, 11.57566077054622, 11.577089378494538, 11.578517986442856, 11.579946594391174, 11.581375202339494, 11.582803810287812, 11.58423241823613, 11.585661026184448, 11.587089634132768, 11.588518242081086, 11.589946850029405, 11.591375457977723, 11.59280406592604, 11.59423267387436, 11.595661281822679, 11.597089889770997, 11.598518497719315, 11.599947105667635, 11.601375713615953, 11.602804321564271, 11.60423292951259, 11.605661537460907, 11.607090145409227, 11.608518753357545, 11.609947361305863, 11.611375969254182, 11.612804577202501, 11.61423318515082, 11.615661793099138, 11.617090401047456, 11.618519008995774, 11.619947616944094, 11.621376224892412, 11.62280483284073, 11.624233440789048, 11.625662048737368, 11.627090656685686, 11.628519264634004, 11.629947872582322, 11.63137648053064, 11.63280508847896, 11.634233696427279, 11.635662304375597, 11.637090912323915, 11.638519520272235, 11.639948128220553, 11.641376736168871, 11.642805344117189, 11.644233952065507, 11.645662560013827, 11.647091167962145, 11.648519775910463, 11.649948383858781, 11.651376991807101, 11.65280559975542, 11.654234207703738, 11.655662815652056, 11.657091423600374, 11.658520031548694, 11.659948639497012, 11.66137724744533, 11.662805855393648, 11.664234463341968, 11.665663071290286, 11.667091679238604, 11.668520287186922, 11.66994889513524, 11.67137750308356, 11.672806111031878, 11.674234718980196, 11.675663326928515, 11.677091934876835, 11.678520542825153, 11.67994915077347, 11.681377758721789, 11.682806366670107, 11.684234974618427, 11.685663582566745, 11.687092190515063, 11.688520798463381, 11.689949406411701, 11.69137801436002, 11.692806622308337, 11.694235230256655, 11.695663838204974, 11.697092446153293, 11.698521054101612, 11.69994966204993, 11.701378269998248, 11.702806877946568, 11.704235485894886, 11.705664093843204, 11.707092701791522, 11.70852130973984, 11.70994991768816, 11.711378525636478, 11.712807133584796, 11.714235741533114, 11.715664349481434, 11.717092957429752, 11.71852156537807, 11.719950173326389, 11.721378781274707, 11.722807389223027, 11.724235997171345, 11.725664605119663, 11.727093213067981, 11.728521821016301, 11.729950428964619, 11.731379036912937, 11.732807644861255, 11.734236252809573, 11.735664860757893, 11.737093468706211, 11.73852207665453, 11.739950684602848, 11.741379292551168, 11.742807900499486, 11.744236508447804, 11.745665116396122, 11.74709372434444, 11.74852233229276, 11.749950940241078, 11.751379548189396, 11.752808156137714, 11.754236764086034, 11.755665372034352, 11.75709397998267, 11.758522587930988, 11.759951195879307, 11.761379803827626, 11.762808411775945, 11.764237019724263, 11.76566562767258, 11.7670942356209, 11.768522843569219, 11.769951451517537, 11.771380059465855, 11.772808667414173, 11.774237275362493, 11.775665883310811, 11.77709449125913, 11.778523099207447, 11.779951707155767, 11.781380315104085, 11.782808923052404, 11.784237531000722, 11.78566613894904, 11.78709474689736, 11.788523354845678, 11.789951962793996, 11.791380570742314, 11.792809178690634, 11.794237786638952, 11.79566639458727, 11.797095002535588, 11.798523610483906, 11.799952218432226, 11.801380826380544, 11.802809434328863, 11.80423804227718, 11.8056666502255, 11.807095258173819, 11.808523866122137, 11.809952474070455, 11.811381082018773, 11.812809689967093, 11.814238297915411, 11.81566690586373, 11.817095513812047, 11.818524121760367, 11.819952729708685, 11.821381337657003, 11.822809945605322, 11.824238553553641, 11.82566716150196, 11.827095769450278, 11.828524377398596, 11.829952985346914, 11.831381593295234, 11.832810201243552, 11.83423880919187, 11.835667417140188, 11.837096025088506, 11.838524633036826, 11.839953240985144, 11.841381848933462, 11.84281045688178, 11.8442390648301, 11.845667672778418, 11.847096280726737, 11.848524888675055, 11.849953496623375, 11.851382104571693, 11.85281071252001, 11.854239320468329, 11.855667928416647, 11.857096536364967, 11.858525144313285, 11.859953752261603, 11.861382360209921, 11.86281096815824, 11.86423957610656, 11.865668184054877, 11.867096792003196, 11.868525399951514, 11.869954007899834, 11.871382615848152, 11.87281122379647, 11.874239831744788, 11.875668439693108, 11.877097047641426, 11.878525655589744, 11.879954263538062, 11.88138287148638, 11.8828114794347, 11.884240087383018, 11.885668695331336, 11.887097303279655, 11.888525911227973, 11.889954519176293, 11.89138312712461, 11.892811735072929, 11.894240343021247, 11.895668950969567, 11.897097558917885, 11.898526166866203, 11.899954774814521, 11.901383382762841, 11.90281199071116, 11.904240598659477, 11.905669206607795, 11.907097814556113, 11.908526422504433, 11.909955030452752, 11.91138363840107, 11.912812246349388, 11.914240854297706, 11.915669462246026, 11.917098070194344, 11.918526678142662, 11.91995528609098, 11.9213838940393, 11.922812501987618, 11.924241109935936, 11.925669717884254, 11.927098325832574, 11.928526933780892, 11.92995554172921, 11.931384149677529, 11.932812757625847, 11.934241365574167, 11.935669973522485, 11.937098581470803, 11.938527189419121, 11.939955797367439, 11.941384405315759, 11.942813013264077, 11.944241621212395, 11.945670229160713, 11.947098837109033, 11.948527445057351, 11.94995605300567, 11.951384660953988, 11.952813268902307, 11.954241876850626, 11.955670484798944, 11.957099092747262, 11.95852770069558, 11.9599563086439, 11.961384916592218, 11.962813524540536, 11.964242132488854, 11.965670740437172, 11.967099348385492, 11.96852795633381, 11.969956564282128, 11.971385172230447, 11.972813780178766, 11.974242388127085, 11.975670996075403, 11.97709960402372, 11.97852821197204, 11.979956819920359, 11.981385427868677, 11.982814035816995, 11.984242643765313, 11.985671251713633, 11.987099859661951, 11.98852846761027, 11.989957075558587, 11.991385683506905, 11.992814291455225, 11.994242899403543, 11.995671507351862, 11.99710011530018, 11.9985287232485, 11.999957331196818, 12.001385939145136, 12.002814547093454, 12.004243155041774, 12.005671762990092, 12.00710037093841, 12.008528978886728, 12.009957586835046, 12.011386194783366, 12.012814802731684, 12.014243410680002, 12.01567201862832, 12.01710062657664, 12.018529234524959, 12.019957842473277, 12.021386450421595, 12.022815058369913, 12.024243666318233, 12.025672274266551, 12.027100882214869, 12.028529490163187, 12.029958098111507, 12.031386706059825, 12.032815314008143, 12.034243921956461, 12.03567252990478, 12.0371011378531, 12.038529745801418, 12.039958353749736, 12.041386961698054, 12.042815569646374, 12.044244177594692, 12.04567278554301, 12.047101393491328, 12.048530001439646, 12.049958609387966, 12.051387217336284, 12.052815825284602, 12.05424443323292, 12.05567304118124, 12.057101649129558, 12.058530257077877, 12.059958865026195, 12.061387472974513, 12.062816080922833, 12.06424468887115, 12.065673296819469, 12.067101904767787, 12.068530512716105, 12.069959120664425, 12.071387728612743, 12.072816336561061, 12.07424494450938, 12.0756735524577, 12.077102160406017, 12.078530768354335, 12.079959376302654, 12.081387984250973, 12.082816592199292, 12.08424520014761, 12.085673808095928, 12.087102416044246, 12.088531023992566, 12.089959631940884, 12.091388239889202, 12.09281684783752, 12.094245455785838, 12.095674063734158, 12.097102671682476, 12.098531279630794, 12.099959887579113, 12.101388495527432, 12.10281710347575, 12.104245711424069, 12.105674319372387, 12.107102927320707, 12.108531535269025, 12.109960143217343, 12.111388751165661, 12.11281735911398, 12.114245967062299, 12.115674575010617, 12.117103182958935, 12.118531790907253, 12.119960398855573, 12.121389006803891, 12.12281761475221, 12.124246222700528, 12.125674830648846, 12.127103438597166, 12.128532046545484, 12.129960654493802, 12.13138926244212, 12.13281787039044, 12.134246478338758, 12.135675086287076, 12.137103694235394, 12.138532302183712, 12.139960910132032, 12.14138951808035, 12.142818126028669, 12.144246733976987, 12.145675341925307, 12.147103949873625, 12.148532557821943, 12.14996116577026, 12.151389773718579, 12.152818381666899, 12.154246989615217, 12.155675597563535, 12.157104205511853, 12.158532813460173, 12.159961421408491, 12.16139002935681, 12.162818637305127, 12.164247245253446, 12.165675853201765, 12.167104461150084, 12.168533069098402, 12.16996167704672, 12.17139028499504, 12.172818892943358, 12.174247500891676, 12.175676108839994, 12.177104716788312, 12.178533324736632, 12.17996193268495, 12.181390540633268, 12.182819148581586, 12.184247756529906, 12.185676364478224, 12.187104972426543, 12.18853358037486, 12.189962188323179, 12.191390796271499, 12.192819404219817, 12.194248012168135, 12.195676620116453, 12.197105228064773, 12.198533836013091, 12.19996244396141, 12.201391051909727, 12.202819659858045, 12.204248267806365, 12.205676875754683, 12.207105483703002, 12.20853409165132, 12.20996269959964, 12.211391307547958, 12.212819915496276, 12.214248523444594, 12.215677131392912, 12.217105739341232, 12.21853434728955, 12.219962955237868, 12.221391563186186, 12.222820171134506, 12.224248779082824, 12.225677387031142, 12.22710599497946, 12.228534602927779, 12.229963210876099, 12.231391818824417, 12.232820426772735, 12.234249034721053, 12.235677642669373, 12.23710625061769, 12.238534858566009, 12.239963466514327, 12.241392074462645, 12.242820682410965, 12.244249290359283, 12.245677898307601, 12.24710650625592, 12.24853511420424, 12.249963722152557, 12.251392330100876, 12.252820938049194, 12.254249545997512, 12.255678153945832, 12.25710676189415, 12.258535369842468, 12.259963977790786, 12.261392585739106, 12.262821193687424, 12.264249801635742])\n",
       "              .range([&#x27;#03051aff&#x27;, &#x27;#03051aff&#x27;, &#x27;#04051aff&#x27;, &#x27;#04051aff&#x27;, &#x27;#05061bff&#x27;, &#x27;#05061bff&#x27;, &#x27;#06071cff&#x27;, &#x27;#06071cff&#x27;, &#x27;#07071dff&#x27;, &#x27;#07071dff&#x27;, &#x27;#08081eff&#x27;, &#x27;#09081eff&#x27;, &#x27;#0a091fff&#x27;, &#x27;#0a091fff&#x27;, &#x27;#0b0920ff&#x27;, &#x27;#0c0920ff&#x27;, &#x27;#0d0a21ff&#x27;, &#x27;#0d0a21ff&#x27;, &#x27;#0e0b22ff&#x27;, &#x27;#0f0b22ff&#x27;, &#x27;#100b23ff&#x27;, &#x27;#100b23ff&#x27;, &#x27;#110c24ff&#x27;, &#x27;#120c24ff&#x27;, &#x27;#130d25ff&#x27;, &#x27;#130d25ff&#x27;, &#x27;#140e26ff&#x27;, &#x27;#150e26ff&#x27;, &#x27;#160e27ff&#x27;, &#x27;#160e27ff&#x27;, &#x27;#170f28ff&#x27;, &#x27;#170f29ff&#x27;, &#x27;#180f29ff&#x27;, &#x27;#190f2aff&#x27;, &#x27;#1a102aff&#x27;, &#x27;#1a102bff&#x27;, &#x27;#1b112bff&#x27;, &#x27;#1c112cff&#x27;, &#x27;#1d112cff&#x27;, &#x27;#1e122dff&#x27;, &#x27;#1f122dff&#x27;, &#x27;#20122eff&#x27;, &#x27;#20122fff&#x27;, &#x27;#211330ff&#x27;, &#x27;#211330ff&#x27;, &#x27;#221331ff&#x27;, &#x27;#231331ff&#x27;, &#x27;#241432ff&#x27;, &#x27;#241432ff&#x27;, &#x27;#251433ff&#x27;, &#x27;#261433ff&#x27;, &#x27;#271534ff&#x27;, &#x27;#271534ff&#x27;, &#x27;#281535ff&#x27;, &#x27;#291535ff&#x27;, &#x27;#2a1636ff&#x27;, &#x27;#2a1636ff&#x27;, &#x27;#2b1637ff&#x27;, &#x27;#2c1637ff&#x27;, &#x27;#2d1738ff&#x27;, &#x27;#2d1738ff&#x27;, &#x27;#2e1739ff&#x27;, &#x27;#2f1739ff&#x27;, &#x27;#30173aff&#x27;, &#x27;#30173aff&#x27;, &#x27;#31183bff&#x27;, &#x27;#32183bff&#x27;, &#x27;#33183cff&#x27;, &#x27;#33183cff&#x27;, &#x27;#34193dff&#x27;, &#x27;#34193eff&#x27;, &#x27;#35193eff&#x27;, &#x27;#36193fff&#x27;, &#x27;#37193fff&#x27;, &#x27;#381940ff&#x27;, &#x27;#381a40ff&#x27;, &#x27;#391a41ff&#x27;, &#x27;#3a1a41ff&#x27;, &#x27;#3b1a42ff&#x27;, &#x27;#3c1a42ff&#x27;, &#x27;#3d1a42ff&#x27;, &#x27;#3e1a42ff&#x27;, &#x27;#3f1b43ff&#x27;, &#x27;#3f1b43ff&#x27;, &#x27;#401b44ff&#x27;, &#x27;#411b44ff&#x27;, &#x27;#421b45ff&#x27;, &#x27;#421b45ff&#x27;, &#x27;#431c46ff&#x27;, &#x27;#441c46ff&#x27;, &#x27;#451c47ff&#x27;, &#x27;#451c47ff&#x27;, &#x27;#461c48ff&#x27;, &#x27;#471c48ff&#x27;, &#x27;#481c48ff&#x27;, &#x27;#481c48ff&#x27;, &#x27;#491d49ff&#x27;, &#x27;#4a1d49ff&#x27;, &#x27;#4b1d4aff&#x27;, &#x27;#4b1d4aff&#x27;, &#x27;#4c1d4bff&#x27;, &#x27;#4d1d4bff&#x27;, &#x27;#4e1d4bff&#x27;, &#x27;#4f1d4bff&#x27;, &#x27;#501d4cff&#x27;, &#x27;#501d4cff&#x27;, &#x27;#511e4dff&#x27;, &#x27;#521e4dff&#x27;, &#x27;#531e4dff&#x27;, &#x27;#541e4eff&#x27;, &#x27;#541e4eff&#x27;, &#x27;#551e4fff&#x27;, &#x27;#561e4fff&#x27;, &#x27;#571e4fff&#x27;, &#x27;#581e4fff&#x27;, &#x27;#591e50ff&#x27;, &#x27;#591e50ff&#x27;, &#x27;#5a1e51ff&#x27;, &#x27;#5b1e51ff&#x27;, &#x27;#5c1e51ff&#x27;, &#x27;#5d1e51ff&#x27;, &#x27;#5e1e52ff&#x27;, &#x27;#5f1f52ff&#x27;, &#x27;#601f52ff&#x27;, &#x27;#601f52ff&#x27;, &#x27;#611f53ff&#x27;, &#x27;#621f53ff&#x27;, &#x27;#631f53ff&#x27;, &#x27;#631f53ff&#x27;, &#x27;#641f54ff&#x27;, &#x27;#651f54ff&#x27;, &#x27;#661f54ff&#x27;, &#x27;#671f54ff&#x27;, &#x27;#681f55ff&#x27;, &#x27;#681f55ff&#x27;, &#x27;#691f55ff&#x27;, &#x27;#6a1f55ff&#x27;, &#x27;#6b1f56ff&#x27;, &#x27;#6c1f56ff&#x27;, &#x27;#6d1f56ff&#x27;, &#x27;#6d1f56ff&#x27;, &#x27;#6e1f57ff&#x27;, &#x27;#6f1f57ff&#x27;, &#x27;#701f57ff&#x27;, &#x27;#711f57ff&#x27;, &#x27;#711f57ff&#x27;, &#x27;#721f57ff&#x27;, &#x27;#731f58ff&#x27;, &#x27;#741f58ff&#x27;, &#x27;#751f58ff&#x27;, &#x27;#761f58ff&#x27;, &#x27;#761f58ff&#x27;, &#x27;#771f59ff&#x27;, &#x27;#781f59ff&#x27;, &#x27;#791f59ff&#x27;, &#x27;#7a1f59ff&#x27;, &#x27;#7b1f59ff&#x27;, &#x27;#7b1f59ff&#x27;, &#x27;#7c1f5aff&#x27;, &#x27;#7d1e5aff&#x27;, &#x27;#7f1e5aff&#x27;, &#x27;#801e5aff&#x27;, &#x27;#811e5aff&#x27;, &#x27;#811e5aff&#x27;, &#x27;#821e5aff&#x27;, &#x27;#831e5aff&#x27;, &#x27;#841e5aff&#x27;, &#x27;#851e5aff&#x27;, &#x27;#861e5bff&#x27;, &#x27;#861e5bff&#x27;, &#x27;#871e5bff&#x27;, &#x27;#881e5bff&#x27;, &#x27;#891e5bff&#x27;, &#x27;#8a1d5bff&#x27;, &#x27;#8b1d5bff&#x27;, &#x27;#8b1d5bff&#x27;, &#x27;#8c1d5bff&#x27;, &#x27;#8d1d5bff&#x27;, &#x27;#8e1d5bff&#x27;, &#x27;#8f1d5bff&#x27;, &#x27;#901d5bff&#x27;, &#x27;#911c5bff&#x27;, &#x27;#921c5bff&#x27;, &#x27;#931c5bff&#x27;, &#x27;#931c5bff&#x27;, &#x27;#941c5bff&#x27;, &#x27;#951c5bff&#x27;, &#x27;#961c5bff&#x27;, &#x27;#971c5bff&#x27;, &#x27;#981b5bff&#x27;, &#x27;#981b5bff&#x27;, &#x27;#991b5bff&#x27;, &#x27;#9a1b5bff&#x27;, &#x27;#9b1b5bff&#x27;, &#x27;#9c1a5bff&#x27;, &#x27;#9d1a5bff&#x27;, &#x27;#9e1a5bff&#x27;, &#x27;#9f1a5bff&#x27;, &#x27;#9f1a5bff&#x27;, &#x27;#a11a5bff&#x27;, &#x27;#a2195bff&#x27;, &#x27;#a3195bff&#x27;, &#x27;#a3195bff&#x27;, &#x27;#a4195bff&#x27;, &#x27;#a5195bff&#x27;, &#x27;#a6195aff&#x27;, &#x27;#a7185aff&#x27;, &#x27;#a8185aff&#x27;, &#x27;#a9185aff&#x27;, &#x27;#aa185aff&#x27;, &#x27;#aa185aff&#x27;, &#x27;#ab185aff&#x27;, &#x27;#ac175aff&#x27;, &#x27;#ad1759ff&#x27;, &#x27;#ae1759ff&#x27;, &#x27;#af1759ff&#x27;, &#x27;#b01759ff&#x27;, &#x27;#b01759ff&#x27;, &#x27;#b11758ff&#x27;, &#x27;#b21758ff&#x27;, &#x27;#b31658ff&#x27;, &#x27;#b41658ff&#x27;, &#x27;#b51657ff&#x27;, &#x27;#b51657ff&#x27;, &#x27;#b61657ff&#x27;, &#x27;#b71657ff&#x27;, &#x27;#b81657ff&#x27;, &#x27;#b91657ff&#x27;, &#x27;#ba1656ff&#x27;, &#x27;#ba1656ff&#x27;, &#x27;#bb1656ff&#x27;, &#x27;#bc1656ff&#x27;, &#x27;#bd1655ff&#x27;, &#x27;#bd1655ff&#x27;, &#x27;#be1654ff&#x27;, &#x27;#bf1654ff&#x27;, &#x27;#c01654ff&#x27;, &#x27;#c11754ff&#x27;, &#x27;#c21753ff&#x27;, &#x27;#c31753ff&#x27;, &#x27;#c41753ff&#x27;, &#x27;#c41753ff&#x27;, &#x27;#c51752ff&#x27;, &#x27;#c61852ff&#x27;, &#x27;#c71851ff&#x27;, &#x27;#c71951ff&#x27;, &#x27;#c81951ff&#x27;, &#x27;#c91951ff&#x27;, &#x27;#ca1950ff&#x27;, &#x27;#cb1a50ff&#x27;, &#x27;#cb1a4fff&#x27;, &#x27;#cc1b4fff&#x27;, &#x27;#cd1b4eff&#x27;, &#x27;#ce1c4eff&#x27;, &#x27;#ce1c4eff&#x27;, &#x27;#cf1d4dff&#x27;, &#x27;#cf1d4dff&#x27;, &#x27;#d01e4cff&#x27;, &#x27;#d11e4cff&#x27;, &#x27;#d21f4cff&#x27;, &#x27;#d21f4cff&#x27;, &#x27;#d3204bff&#x27;, &#x27;#d3214bff&#x27;, &#x27;#d4214aff&#x27;, &#x27;#d5224aff&#x27;, &#x27;#d62249ff&#x27;, &#x27;#d62449ff&#x27;, &#x27;#d72449ff&#x27;, &#x27;#d72549ff&#x27;, &#x27;#d82648ff&#x27;, &#x27;#d82748ff&#x27;, &#x27;#d92747ff&#x27;, &#x27;#d92847ff&#x27;, &#x27;#da2846ff&#x27;, &#x27;#db2946ff&#x27;, &#x27;#dc2a46ff&#x27;, &#x27;#dc2b46ff&#x27;, &#x27;#dd2b45ff&#x27;, &#x27;#dd2c45ff&#x27;, &#x27;#de2d44ff&#x27;, &#x27;#de2e44ff&#x27;, &#x27;#df2e44ff&#x27;, &#x27;#df2f44ff&#x27;, &#x27;#e03043ff&#x27;, &#x27;#e13143ff&#x27;, &#x27;#e13242ff&#x27;, &#x27;#e23342ff&#x27;, &#x27;#e23342ff&#x27;, &#x27;#e33442ff&#x27;, &#x27;#e33541ff&#x27;, &#x27;#e43641ff&#x27;, &#x27;#e43741ff&#x27;, &#x27;#e53841ff&#x27;, &#x27;#e53840ff&#x27;, &#x27;#e63940ff&#x27;, &#x27;#e63a40ff&#x27;, &#x27;#e73b3fff&#x27;, &#x27;#e73c3fff&#x27;, &#x27;#e83d3fff&#x27;, &#x27;#e83e3fff&#x27;, &#x27;#e83f3eff&#x27;, &#x27;#e8403eff&#x27;, &#x27;#e9403eff&#x27;, &#x27;#e9413eff&#x27;, &#x27;#ea423eff&#x27;, &#x27;#ea433eff&#x27;, &#x27;#eb453eff&#x27;, &#x27;#eb463eff&#x27;, &#x27;#eb473eff&#x27;, &#x27;#eb483eff&#x27;, &#x27;#ec493eff&#x27;, &#x27;#ec4a3eff&#x27;, &#x27;#ec4b3eff&#x27;, &#x27;#ec4c3eff&#x27;, &#x27;#ed4d3eff&#x27;, &#x27;#ed4e3eff&#x27;, &#x27;#ed4f3eff&#x27;, &#x27;#ed503eff&#x27;, &#x27;#ee513eff&#x27;, &#x27;#ee523fff&#x27;, &#x27;#ee533fff&#x27;, &#x27;#ee543fff&#x27;, &#x27;#ef553fff&#x27;, &#x27;#ef5640ff&#x27;, &#x27;#ef5740ff&#x27;, &#x27;#ef5840ff&#x27;, &#x27;#ef5940ff&#x27;, &#x27;#f05a41ff&#x27;, &#x27;#f05b41ff&#x27;, &#x27;#f05c42ff&#x27;, &#x27;#f05d42ff&#x27;, &#x27;#f05e42ff&#x27;, &#x27;#f05f42ff&#x27;, &#x27;#f16043ff&#x27;, &#x27;#f16143ff&#x27;, &#x27;#f16244ff&#x27;, &#x27;#f16344ff&#x27;, &#x27;#f16445ff&#x27;, &#x27;#f16545ff&#x27;, &#x27;#f26646ff&#x27;, &#x27;#f26747ff&#x27;, &#x27;#f26747ff&#x27;, &#x27;#f26848ff&#x27;, &#x27;#f26948ff&#x27;, &#x27;#f26b49ff&#x27;, &#x27;#f26c49ff&#x27;, &#x27;#f26d4aff&#x27;, &#x27;#f26e4bff&#x27;, &#x27;#f26f4cff&#x27;, &#x27;#f3704cff&#x27;, &#x27;#f3714dff&#x27;, &#x27;#f3724dff&#x27;, &#x27;#f3734eff&#x27;, &#x27;#f3734fff&#x27;, &#x27;#f37450ff&#x27;, &#x27;#f37550ff&#x27;, &#x27;#f37651ff&#x27;, &#x27;#f37751ff&#x27;, &#x27;#f37852ff&#x27;, &#x27;#f47953ff&#x27;, &#x27;#f47a54ff&#x27;, &#x27;#f47b54ff&#x27;, &#x27;#f47c55ff&#x27;, &#x27;#f47c56ff&#x27;, &#x27;#f47d57ff&#x27;, &#x27;#f47e57ff&#x27;, &#x27;#f47f58ff&#x27;, &#x27;#f48059ff&#x27;, &#x27;#f4815aff&#x27;, &#x27;#f4825aff&#x27;, &#x27;#f4835bff&#x27;, &#x27;#f4845cff&#x27;, &#x27;#f4845dff&#x27;, &#x27;#f4855dff&#x27;, &#x27;#f5865eff&#x27;, &#x27;#f5875fff&#x27;, &#x27;#f58860ff&#x27;, &#x27;#f58961ff&#x27;, &#x27;#f58a61ff&#x27;, &#x27;#f58b62ff&#x27;, &#x27;#f58b63ff&#x27;, &#x27;#f58c64ff&#x27;, &#x27;#f58d64ff&#x27;, &#x27;#f58f65ff&#x27;, &#x27;#f58f66ff&#x27;, &#x27;#f59067ff&#x27;, &#x27;#f59167ff&#x27;, &#x27;#f59268ff&#x27;, &#x27;#f59369ff&#x27;, &#x27;#f5946aff&#x27;, &#x27;#f5956bff&#x27;, &#x27;#f5966cff&#x27;, &#x27;#f5966dff&#x27;, &#x27;#f5976eff&#x27;, &#x27;#f5986fff&#x27;, &#x27;#f59970ff&#x27;, &#x27;#f69a70ff&#x27;, &#x27;#f69b71ff&#x27;, &#x27;#f69b72ff&#x27;, &#x27;#f69c73ff&#x27;, &#x27;#f69d74ff&#x27;, &#x27;#f69e75ff&#x27;, &#x27;#f69f76ff&#x27;, &#x27;#f6a077ff&#x27;, &#x27;#f6a177ff&#x27;, &#x27;#f6a178ff&#x27;, &#x27;#f6a279ff&#x27;, &#x27;#f6a37aff&#x27;, &#x27;#f6a47bff&#x27;, &#x27;#f6a47cff&#x27;, &#x27;#f6a57dff&#x27;, &#x27;#f6a67eff&#x27;, &#x27;#f6a77fff&#x27;, &#x27;#f6a880ff&#x27;, &#x27;#f6a981ff&#x27;, &#x27;#f6a981ff&#x27;, &#x27;#f6aa82ff&#x27;, &#x27;#f6ab83ff&#x27;, &#x27;#f6ac84ff&#x27;, &#x27;#f6ad85ff&#x27;, &#x27;#f6ae86ff&#x27;, &#x27;#f6ae87ff&#x27;, &#x27;#f6af88ff&#x27;, &#x27;#f6b089ff&#x27;, &#x27;#f6b18aff&#x27;, &#x27;#f6b28bff&#x27;, &#x27;#f6b38cff&#x27;, &#x27;#f6b38dff&#x27;, &#x27;#f6b48eff&#x27;, &#x27;#f6b590ff&#x27;, &#x27;#f6b691ff&#x27;, &#x27;#f6b792ff&#x27;, &#x27;#f6b893ff&#x27;, &#x27;#f6b894ff&#x27;, &#x27;#f6b995ff&#x27;, &#x27;#f6ba96ff&#x27;, &#x27;#f6bb97ff&#x27;, &#x27;#f6bc98ff&#x27;, &#x27;#f6bc99ff&#x27;, &#x27;#f6bd9aff&#x27;, &#x27;#f6be9bff&#x27;, &#x27;#f6bf9cff&#x27;, &#x27;#f6bf9dff&#x27;, &#x27;#f6c09eff&#x27;, &#x27;#f6c19fff&#x27;, &#x27;#f7c2a0ff&#x27;, &#x27;#f7c2a2ff&#x27;, &#x27;#f7c3a3ff&#x27;, &#x27;#f7c4a4ff&#x27;, &#x27;#f7c5a5ff&#x27;, &#x27;#f7c6a6ff&#x27;, &#x27;#f7c7a7ff&#x27;, &#x27;#f7c7a8ff&#x27;, &#x27;#f7c8a9ff&#x27;, &#x27;#f7c9aaff&#x27;, &#x27;#f7caabff&#x27;, &#x27;#f7caacff&#x27;, &#x27;#f7cbaeff&#x27;, &#x27;#f7ccafff&#x27;, &#x27;#f7cdb0ff&#x27;, &#x27;#f7cdb1ff&#x27;, &#x27;#f7ceb2ff&#x27;, &#x27;#f7cfb3ff&#x27;, &#x27;#f7d0b4ff&#x27;, &#x27;#f8d0b6ff&#x27;, &#x27;#f8d1b7ff&#x27;, &#x27;#f8d2b8ff&#x27;, &#x27;#f8d3baff&#x27;, &#x27;#f8d3bbff&#x27;, &#x27;#f8d4bcff&#x27;, &#x27;#f8d5bdff&#x27;, &#x27;#f8d6beff&#x27;, &#x27;#f8d7bfff&#x27;, &#x27;#f8d7c0ff&#x27;, &#x27;#f8d8c1ff&#x27;, &#x27;#f8d9c2ff&#x27;, &#x27;#f8dac4ff&#x27;, &#x27;#f8dac5ff&#x27;, &#x27;#f8dbc6ff&#x27;, &#x27;#f8dcc7ff&#x27;, &#x27;#f9ddc8ff&#x27;, &#x27;#f9ddc9ff&#x27;, &#x27;#f9decaff&#x27;, &#x27;#f9dfcbff&#x27;, &#x27;#f9e0ccff&#x27;, &#x27;#f9e0cdff&#x27;, &#x27;#f9e1ceff&#x27;, &#x27;#f9e2d0ff&#x27;, &#x27;#f9e3d1ff&#x27;, &#x27;#f9e3d2ff&#x27;, &#x27;#f9e4d3ff&#x27;, &#x27;#f9e5d4ff&#x27;, &#x27;#fae6d5ff&#x27;, &#x27;#fae6d6ff&#x27;, &#x27;#fae7d7ff&#x27;, &#x27;#fae8d8ff&#x27;, &#x27;#fae9d9ff&#x27;, &#x27;#fae9daff&#x27;, &#x27;#faeadcff&#x27;, &#x27;#faebddff&#x27;]);\n",
       "    \n",
       "\n",
       "    color_map_cb94866a73ae21ff8b93cb48fa562a64.x = d3.scale.linear()\n",
       "              .domain([11.551374435424805, 12.264249801635742])\n",
       "              .range([0, 450 - 50]);\n",
       "\n",
       "    color_map_cb94866a73ae21ff8b93cb48fa562a64.legend = L.control({position: &#x27;topright&#x27;});\n",
       "    color_map_cb94866a73ae21ff8b93cb48fa562a64.legend.onAdd = function (map) {var div = L.DomUtil.create(&#x27;div&#x27;, &#x27;legend&#x27;); return div};\n",
       "    color_map_cb94866a73ae21ff8b93cb48fa562a64.legend.addTo(map_b7d718cebda819e7213c2317e35a09fe);\n",
       "\n",
       "    color_map_cb94866a73ae21ff8b93cb48fa562a64.xAxis = d3.svg.axis()\n",
       "        .scale(color_map_cb94866a73ae21ff8b93cb48fa562a64.x)\n",
       "        .orient(&quot;top&quot;)\n",
       "        .tickSize(1)\n",
       "        .tickValues([11.551374435424805, &#x27;&#x27;, &#x27;&#x27;, &#x27;&#x27;, &#x27;&#x27;, &#x27;&#x27;, &#x27;&#x27;, &#x27;&#x27;, &#x27;&#x27;, &#x27;&#x27;, &#x27;&#x27;, &#x27;&#x27;, &#x27;&#x27;, &#x27;&#x27;, &#x27;&#x27;, &#x27;&#x27;, &#x27;&#x27;, &#x27;&#x27;, &#x27;&#x27;, &#x27;&#x27;, &#x27;&#x27;, &#x27;&#x27;, &#x27;&#x27;, &#x27;&#x27;, &#x27;&#x27;, &#x27;&#x27;, 11.624059766881606, &#x27;&#x27;, &#x27;&#x27;, &#x27;&#x27;, &#x27;&#x27;, &#x27;&#x27;, &#x27;&#x27;, &#x27;&#x27;, &#x27;&#x27;, &#x27;&#x27;, &#x27;&#x27;, &#x27;&#x27;, &#x27;&#x27;, &#x27;&#x27;, &#x27;&#x27;, &#x27;&#x27;, &#x27;&#x27;, &#x27;&#x27;, &#x27;&#x27;, &#x27;&#x27;, &#x27;&#x27;, &#x27;&#x27;, &#x27;&#x27;, &#x27;&#x27;, &#x27;&#x27;, &#x27;&#x27;, 11.696745098338408, &#x27;&#x27;, &#x27;&#x27;, &#x27;&#x27;, &#x27;&#x27;, &#x27;&#x27;, &#x27;&#x27;, &#x27;&#x27;, &#x27;&#x27;, &#x27;&#x27;, &#x27;&#x27;, &#x27;&#x27;, &#x27;&#x27;, &#x27;&#x27;, &#x27;&#x27;, &#x27;&#x27;, &#x27;&#x27;, &#x27;&#x27;, &#x27;&#x27;, &#x27;&#x27;, &#x27;&#x27;, &#x27;&#x27;, &#x27;&#x27;, &#x27;&#x27;, &#x27;&#x27;, &#x27;&#x27;, 11.769430429795209, &#x27;&#x27;, &#x27;&#x27;, &#x27;&#x27;, &#x27;&#x27;, &#x27;&#x27;, &#x27;&#x27;, &#x27;&#x27;, &#x27;&#x27;, &#x27;&#x27;, &#x27;&#x27;, &#x27;&#x27;, &#x27;&#x27;, &#x27;&#x27;, &#x27;&#x27;, &#x27;&#x27;, &#x27;&#x27;, &#x27;&#x27;, &#x27;&#x27;, &#x27;&#x27;, &#x27;&#x27;, &#x27;&#x27;, &#x27;&#x27;, &#x27;&#x27;, &#x27;&#x27;, &#x27;&#x27;, 11.84211576125201, &#x27;&#x27;, &#x27;&#x27;, &#x27;&#x27;, &#x27;&#x27;, &#x27;&#x27;, &#x27;&#x27;, &#x27;&#x27;, &#x27;&#x27;, &#x27;&#x27;, &#x27;&#x27;, &#x27;&#x27;, &#x27;&#x27;, &#x27;&#x27;, &#x27;&#x27;, &#x27;&#x27;, &#x27;&#x27;, &#x27;&#x27;, &#x27;&#x27;, &#x27;&#x27;, &#x27;&#x27;, &#x27;&#x27;, &#x27;&#x27;, &#x27;&#x27;, &#x27;&#x27;, &#x27;&#x27;, 11.914801092708812, &#x27;&#x27;, &#x27;&#x27;, &#x27;&#x27;, &#x27;&#x27;, &#x27;&#x27;, &#x27;&#x27;, &#x27;&#x27;, &#x27;&#x27;, &#x27;&#x27;, &#x27;&#x27;, &#x27;&#x27;, &#x27;&#x27;, &#x27;&#x27;, &#x27;&#x27;, &#x27;&#x27;, &#x27;&#x27;, &#x27;&#x27;, &#x27;&#x27;, &#x27;&#x27;, &#x27;&#x27;, &#x27;&#x27;, &#x27;&#x27;, &#x27;&#x27;, &#x27;&#x27;, &#x27;&#x27;, 11.987486424165613, &#x27;&#x27;, &#x27;&#x27;, &#x27;&#x27;, &#x27;&#x27;, &#x27;&#x27;, &#x27;&#x27;, &#x27;&#x27;, &#x27;&#x27;, &#x27;&#x27;, &#x27;&#x27;, &#x27;&#x27;, &#x27;&#x27;, &#x27;&#x27;, &#x27;&#x27;, &#x27;&#x27;, &#x27;&#x27;, &#x27;&#x27;, &#x27;&#x27;, &#x27;&#x27;, &#x27;&#x27;, &#x27;&#x27;, &#x27;&#x27;, &#x27;&#x27;, &#x27;&#x27;, &#x27;&#x27;, 12.060171755622415, &#x27;&#x27;, &#x27;&#x27;, &#x27;&#x27;, &#x27;&#x27;, &#x27;&#x27;, &#x27;&#x27;, &#x27;&#x27;, &#x27;&#x27;, &#x27;&#x27;, &#x27;&#x27;, &#x27;&#x27;, &#x27;&#x27;, &#x27;&#x27;, &#x27;&#x27;, &#x27;&#x27;, &#x27;&#x27;, &#x27;&#x27;, &#x27;&#x27;, &#x27;&#x27;, &#x27;&#x27;, &#x27;&#x27;, &#x27;&#x27;, &#x27;&#x27;, &#x27;&#x27;, &#x27;&#x27;, 12.132857087079216, &#x27;&#x27;, &#x27;&#x27;, &#x27;&#x27;, &#x27;&#x27;, &#x27;&#x27;, &#x27;&#x27;, &#x27;&#x27;, &#x27;&#x27;, &#x27;&#x27;, &#x27;&#x27;, &#x27;&#x27;, &#x27;&#x27;, &#x27;&#x27;, &#x27;&#x27;, &#x27;&#x27;, &#x27;&#x27;, &#x27;&#x27;, &#x27;&#x27;, &#x27;&#x27;, &#x27;&#x27;, &#x27;&#x27;, &#x27;&#x27;, &#x27;&#x27;, &#x27;&#x27;, &#x27;&#x27;, 12.205542418536018, &#x27;&#x27;, &#x27;&#x27;, &#x27;&#x27;, &#x27;&#x27;, &#x27;&#x27;, &#x27;&#x27;, &#x27;&#x27;, &#x27;&#x27;, &#x27;&#x27;, &#x27;&#x27;, &#x27;&#x27;, &#x27;&#x27;, &#x27;&#x27;, &#x27;&#x27;, &#x27;&#x27;, &#x27;&#x27;, &#x27;&#x27;, &#x27;&#x27;, &#x27;&#x27;, &#x27;&#x27;, &#x27;&#x27;, &#x27;&#x27;, &#x27;&#x27;, &#x27;&#x27;, &#x27;&#x27;]);\n",
       "\n",
       "    color_map_cb94866a73ae21ff8b93cb48fa562a64.svg = d3.select(&quot;.legend.leaflet-control&quot;).append(&quot;svg&quot;)\n",
       "        .attr(&quot;id&quot;, &#x27;legend&#x27;)\n",
       "        .attr(&quot;width&quot;, 450)\n",
       "        .attr(&quot;height&quot;, 40);\n",
       "\n",
       "    color_map_cb94866a73ae21ff8b93cb48fa562a64.g = color_map_cb94866a73ae21ff8b93cb48fa562a64.svg.append(&quot;g&quot;)\n",
       "        .attr(&quot;class&quot;, &quot;key&quot;)\n",
       "        .attr(&quot;transform&quot;, &quot;translate(25,16)&quot;);\n",
       "\n",
       "    color_map_cb94866a73ae21ff8b93cb48fa562a64.g.selectAll(&quot;rect&quot;)\n",
       "        .data(color_map_cb94866a73ae21ff8b93cb48fa562a64.color.range().map(function(d, i) {\n",
       "          return {\n",
       "            x0: i ? color_map_cb94866a73ae21ff8b93cb48fa562a64.x(color_map_cb94866a73ae21ff8b93cb48fa562a64.color.domain()[i - 1]) : color_map_cb94866a73ae21ff8b93cb48fa562a64.x.range()[0],\n",
       "            x1: i &lt; color_map_cb94866a73ae21ff8b93cb48fa562a64.color.domain().length ? color_map_cb94866a73ae21ff8b93cb48fa562a64.x(color_map_cb94866a73ae21ff8b93cb48fa562a64.color.domain()[i]) : color_map_cb94866a73ae21ff8b93cb48fa562a64.x.range()[1],\n",
       "            z: d\n",
       "          };\n",
       "        }))\n",
       "      .enter().append(&quot;rect&quot;)\n",
       "        .attr(&quot;height&quot;, 40 - 30)\n",
       "        .attr(&quot;x&quot;, function(d) { return d.x0; })\n",
       "        .attr(&quot;width&quot;, function(d) { return d.x1 - d.x0; })\n",
       "        .style(&quot;fill&quot;, function(d) { return d.z; });\n",
       "\n",
       "    color_map_cb94866a73ae21ff8b93cb48fa562a64.g.call(color_map_cb94866a73ae21ff8b93cb48fa562a64.xAxis).append(&quot;text&quot;)\n",
       "        .attr(&quot;class&quot;, &quot;caption&quot;)\n",
       "        .attr(&quot;y&quot;, 21)\n",
       "        .text(&quot;to&quot;);\n",
       "&lt;/script&gt;\n",
       "&lt;/html&gt;\" style=\"position:absolute;width:100%;height:100%;left:0;top:0;border:none !important;\" allowfullscreen webkitallowfullscreen mozallowfullscreen></iframe></div></div>"
      ],
      "text/plain": [
       "<folium.folium.Map at 0x1f519e2c050>"
      ]
     },
     "execution_count": 21,
     "metadata": {},
     "output_type": "execute_result"
    }
   ],
   "source": [
    "gdf_before2.explore('to')"
   ]
  },
  {
   "cell_type": "code",
   "execution_count": 22,
   "metadata": {},
   "outputs": [],
   "source": [
    "# 위도-경도를 이용한 고유ID 부여\n",
    "gdf_after['lat_lon'] = gdf_after['latitude'].astype(str) + '_' + gdf_after['longitude'].astype(str)\n",
    "# 이전 데이터에서 독도 반경 영역에 해당하는 데이터만 추출 \n",
    "gdf_after2 = gpd.sjoin(gdf_after, gdf_buf4326, how='inner', predicate='intersects', lsuffix='left' ).reset_index()"
   ]
  },
  {
   "cell_type": "code",
   "execution_count": 23,
   "metadata": {},
   "outputs": [
    {
     "name": "stderr",
     "output_type": "stream",
     "text": [
      "c:\\Users\\leesh\\AppData\\Local\\Programs\\Python\\Python311\\Lib\\site-packages\\geopandas\\explore.py:400: FutureWarning: is_categorical_dtype is deprecated and will be removed in a future version. Use isinstance(dtype, CategoricalDtype) instead\n",
      "  elif pd.api.types.is_categorical_dtype(gdf[column]):\n"
     ]
    },
    {
     "data": {
      "text/html": [
       "<div style=\"width:100%;\"><div style=\"position:relative;width:100%;height:0;padding-bottom:60%;\"><span style=\"color:#565656\">Make this Notebook Trusted to load map: File -> Trust Notebook</span><iframe srcdoc=\"&lt;!DOCTYPE html&gt;\n",
       "&lt;html&gt;\n",
       "&lt;head&gt;\n",
       "    \n",
       "    &lt;meta http-equiv=&quot;content-type&quot; content=&quot;text/html; charset=UTF-8&quot; /&gt;\n",
       "    \n",
       "        &lt;script&gt;\n",
       "            L_NO_TOUCH = false;\n",
       "            L_DISABLE_3D = false;\n",
       "        &lt;/script&gt;\n",
       "    \n",
       "    &lt;style&gt;html, body {width: 100%;height: 100%;margin: 0;padding: 0;}&lt;/style&gt;\n",
       "    &lt;style&gt;#map {position:absolute;top:0;bottom:0;right:0;left:0;}&lt;/style&gt;\n",
       "    &lt;script src=&quot;https://cdn.jsdelivr.net/npm/leaflet@1.9.3/dist/leaflet.js&quot;&gt;&lt;/script&gt;\n",
       "    &lt;script src=&quot;https://code.jquery.com/jquery-1.12.4.min.js&quot;&gt;&lt;/script&gt;\n",
       "    &lt;script src=&quot;https://cdn.jsdelivr.net/npm/bootstrap@5.2.2/dist/js/bootstrap.bundle.min.js&quot;&gt;&lt;/script&gt;\n",
       "    &lt;script src=&quot;https://cdnjs.cloudflare.com/ajax/libs/Leaflet.awesome-markers/2.0.2/leaflet.awesome-markers.js&quot;&gt;&lt;/script&gt;\n",
       "    &lt;link rel=&quot;stylesheet&quot; href=&quot;https://cdn.jsdelivr.net/npm/leaflet@1.9.3/dist/leaflet.css&quot;/&gt;\n",
       "    &lt;link rel=&quot;stylesheet&quot; href=&quot;https://cdn.jsdelivr.net/npm/bootstrap@5.2.2/dist/css/bootstrap.min.css&quot;/&gt;\n",
       "    &lt;link rel=&quot;stylesheet&quot; href=&quot;https://netdna.bootstrapcdn.com/bootstrap/3.0.0/css/bootstrap.min.css&quot;/&gt;\n",
       "    &lt;link rel=&quot;stylesheet&quot; href=&quot;https://cdn.jsdelivr.net/npm/@fortawesome/fontawesome-free@6.2.0/css/all.min.css&quot;/&gt;\n",
       "    &lt;link rel=&quot;stylesheet&quot; href=&quot;https://cdnjs.cloudflare.com/ajax/libs/Leaflet.awesome-markers/2.0.2/leaflet.awesome-markers.css&quot;/&gt;\n",
       "    &lt;link rel=&quot;stylesheet&quot; href=&quot;https://cdn.jsdelivr.net/gh/python-visualization/folium/folium/templates/leaflet.awesome.rotate.min.css&quot;/&gt;\n",
       "    \n",
       "            &lt;meta name=&quot;viewport&quot; content=&quot;width=device-width,\n",
       "                initial-scale=1.0, maximum-scale=1.0, user-scalable=no&quot; /&gt;\n",
       "            &lt;style&gt;\n",
       "                #map_3bada843e57615004fd9ba8ed00fbee1 {\n",
       "                    position: relative;\n",
       "                    width: 100.0%;\n",
       "                    height: 100.0%;\n",
       "                    left: 0.0%;\n",
       "                    top: 0.0%;\n",
       "                }\n",
       "                .leaflet-container { font-size: 1rem; }\n",
       "            &lt;/style&gt;\n",
       "        \n",
       "    \n",
       "                    &lt;style&gt;\n",
       "                        .foliumtooltip {\n",
       "                            \n",
       "                        }\n",
       "                       .foliumtooltip table{\n",
       "                            margin: auto;\n",
       "                        }\n",
       "                        .foliumtooltip tr{\n",
       "                            text-align: left;\n",
       "                        }\n",
       "                        .foliumtooltip th{\n",
       "                            padding: 2px; padding-right: 8px;\n",
       "                        }\n",
       "                    &lt;/style&gt;\n",
       "            \n",
       "    &lt;script src=&quot;https://cdnjs.cloudflare.com/ajax/libs/d3/3.5.5/d3.min.js&quot;&gt;&lt;/script&gt;\n",
       "&lt;/head&gt;\n",
       "&lt;body&gt;\n",
       "    \n",
       "    \n",
       "            &lt;div class=&quot;folium-map&quot; id=&quot;map_3bada843e57615004fd9ba8ed00fbee1&quot; &gt;&lt;/div&gt;\n",
       "        \n",
       "&lt;/body&gt;\n",
       "&lt;script&gt;\n",
       "    \n",
       "    \n",
       "            var map_3bada843e57615004fd9ba8ed00fbee1 = L.map(\n",
       "                &quot;map_3bada843e57615004fd9ba8ed00fbee1&quot;,\n",
       "                {\n",
       "                    center: [37.25, 131.875],\n",
       "                    crs: L.CRS.EPSG3857,\n",
       "                    zoom: 10,\n",
       "                    zoomControl: true,\n",
       "                    preferCanvas: false,\n",
       "                }\n",
       "            );\n",
       "            L.control.scale().addTo(map_3bada843e57615004fd9ba8ed00fbee1);\n",
       "\n",
       "            \n",
       "\n",
       "        \n",
       "    \n",
       "            var tile_layer_1f68e46c681e9200501648e70f974323 = L.tileLayer(\n",
       "                &quot;https://{s}.tile.openstreetmap.org/{z}/{x}/{y}.png&quot;,\n",
       "                {&quot;attribution&quot;: &quot;Data by \\u0026copy; \\u003ca target=\\&quot;_blank\\&quot; href=\\&quot;http://openstreetmap.org\\&quot;\\u003eOpenStreetMap\\u003c/a\\u003e, under \\u003ca target=\\&quot;_blank\\&quot; href=\\&quot;http://www.openstreetmap.org/copyright\\&quot;\\u003eODbL\\u003c/a\\u003e.&quot;, &quot;detectRetina&quot;: false, &quot;maxNativeZoom&quot;: 18, &quot;maxZoom&quot;: 18, &quot;minZoom&quot;: 0, &quot;noWrap&quot;: false, &quot;opacity&quot;: 1, &quot;subdomains&quot;: &quot;abc&quot;, &quot;tms&quot;: false}\n",
       "            ).addTo(map_3bada843e57615004fd9ba8ed00fbee1);\n",
       "        \n",
       "    \n",
       "            map_3bada843e57615004fd9ba8ed00fbee1.fitBounds(\n",
       "                [[36.875, 131.375], [37.625, 132.375]],\n",
       "                {}\n",
       "            );\n",
       "        \n",
       "    \n",
       "        function geo_json_c90d8054c7823ad4d186d4731c48410c_styler(feature) {\n",
       "            switch(feature.id) {\n",
       "                case &quot;0&quot;: \n",
       "                    return {&quot;color&quot;: &quot;#d3214b&quot;, &quot;fillColor&quot;: &quot;#d3214b&quot;, &quot;fillOpacity&quot;: 0.5, &quot;weight&quot;: 2};\n",
       "                case &quot;1&quot;: \n",
       "                    return {&quot;color&quot;: &quot;#f6b691&quot;, &quot;fillColor&quot;: &quot;#f6b691&quot;, &quot;fillOpacity&quot;: 0.5, &quot;weight&quot;: 2};\n",
       "                case &quot;2&quot;: \n",
       "                    return {&quot;color&quot;: &quot;#f26747&quot;, &quot;fillColor&quot;: &quot;#f26747&quot;, &quot;fillOpacity&quot;: 0.5, &quot;weight&quot;: 2};\n",
       "                case &quot;3&quot;: \n",
       "                    return {&quot;color&quot;: &quot;#f47a54&quot;, &quot;fillColor&quot;: &quot;#f47a54&quot;, &quot;fillOpacity&quot;: 0.5, &quot;weight&quot;: 2};\n",
       "                case &quot;4&quot;: \n",
       "                    return {&quot;color&quot;: &quot;#8c1d5b&quot;, &quot;fillColor&quot;: &quot;#8c1d5b&quot;, &quot;fillOpacity&quot;: 0.5, &quot;weight&quot;: 2};\n",
       "                case &quot;5&quot;: \n",
       "                    return {&quot;color&quot;: &quot;#f47f58&quot;, &quot;fillColor&quot;: &quot;#f47f58&quot;, &quot;fillOpacity&quot;: 0.5, &quot;weight&quot;: 2};\n",
       "                case &quot;6&quot;: \n",
       "                    return {&quot;color&quot;: &quot;#f6ab83&quot;, &quot;fillColor&quot;: &quot;#f6ab83&quot;, &quot;fillOpacity&quot;: 0.5, &quot;weight&quot;: 2};\n",
       "                case &quot;7&quot;: \n",
       "                    return {&quot;color&quot;: &quot;#f7c4a4&quot;, &quot;fillColor&quot;: &quot;#f7c4a4&quot;, &quot;fillOpacity&quot;: 0.5, &quot;weight&quot;: 2};\n",
       "                case &quot;8&quot;: \n",
       "                    return {&quot;color&quot;: &quot;#03051a&quot;, &quot;fillColor&quot;: &quot;#03051a&quot;, &quot;fillOpacity&quot;: 0.5, &quot;weight&quot;: 2};\n",
       "                case &quot;9&quot;: \n",
       "                    return {&quot;color&quot;: &quot;#ef5840&quot;, &quot;fillColor&quot;: &quot;#ef5840&quot;, &quot;fillOpacity&quot;: 0.5, &quot;weight&quot;: 2};\n",
       "                case &quot;11&quot;: \n",
       "                    return {&quot;color&quot;: &quot;#eb483e&quot;, &quot;fillColor&quot;: &quot;#eb483e&quot;, &quot;fillOpacity&quot;: 0.5, &quot;weight&quot;: 2};\n",
       "                default:\n",
       "                    return {&quot;color&quot;: &quot;#faebdd&quot;, &quot;fillColor&quot;: &quot;#faebdd&quot;, &quot;fillOpacity&quot;: 0.5, &quot;weight&quot;: 2};\n",
       "            }\n",
       "        }\n",
       "        function geo_json_c90d8054c7823ad4d186d4731c48410c_highlighter(feature) {\n",
       "            switch(feature.id) {\n",
       "                default:\n",
       "                    return {&quot;fillOpacity&quot;: 0.75};\n",
       "            }\n",
       "        }\n",
       "        function geo_json_c90d8054c7823ad4d186d4731c48410c_pointToLayer(feature, latlng) {\n",
       "            var opts = {&quot;bubblingMouseEvents&quot;: true, &quot;color&quot;: &quot;#3388ff&quot;, &quot;dashArray&quot;: null, &quot;dashOffset&quot;: null, &quot;fill&quot;: true, &quot;fillColor&quot;: &quot;#3388ff&quot;, &quot;fillOpacity&quot;: 0.2, &quot;fillRule&quot;: &quot;evenodd&quot;, &quot;lineCap&quot;: &quot;round&quot;, &quot;lineJoin&quot;: &quot;round&quot;, &quot;opacity&quot;: 1.0, &quot;radius&quot;: 2, &quot;stroke&quot;: true, &quot;weight&quot;: 3};\n",
       "            \n",
       "            let style = geo_json_c90d8054c7823ad4d186d4731c48410c_styler(feature)\n",
       "            Object.assign(opts, style)\n",
       "            \n",
       "            return new L.CircleMarker(latlng, opts)\n",
       "        }\n",
       "\n",
       "        function geo_json_c90d8054c7823ad4d186d4731c48410c_onEachFeature(feature, layer) {\n",
       "            layer.on({\n",
       "                mouseout: function(e) {\n",
       "                    if(typeof e.target.setStyle === &quot;function&quot;){\n",
       "                        geo_json_c90d8054c7823ad4d186d4731c48410c.resetStyle(e.target);\n",
       "                    }\n",
       "                },\n",
       "                mouseover: function(e) {\n",
       "                    if(typeof e.target.setStyle === &quot;function&quot;){\n",
       "                        const highlightStyle = geo_json_c90d8054c7823ad4d186d4731c48410c_highlighter(e.target.feature)\n",
       "                        e.target.setStyle(highlightStyle);\n",
       "                    }\n",
       "                },\n",
       "            });\n",
       "        };\n",
       "        var geo_json_c90d8054c7823ad4d186d4731c48410c = L.geoJson(null, {\n",
       "                onEachFeature: geo_json_c90d8054c7823ad4d186d4731c48410c_onEachFeature,\n",
       "            \n",
       "                style: geo_json_c90d8054c7823ad4d186d4731c48410c_styler,\n",
       "                pointToLayer: geo_json_c90d8054c7823ad4d186d4731c48410c_pointToLayer\n",
       "        });\n",
       "\n",
       "        function geo_json_c90d8054c7823ad4d186d4731c48410c_add (data) {\n",
       "            geo_json_c90d8054c7823ad4d186d4731c48410c\n",
       "                .addData(data)\n",
       "                .addTo(map_3bada843e57615004fd9ba8ed00fbee1);\n",
       "        }\n",
       "            geo_json_c90d8054c7823ad4d186d4731c48410c_add({&quot;bbox&quot;: [131.375, 36.875, 132.375, 37.625], &quot;features&quot;: [{&quot;bbox&quot;: [131.375, 36.875, 131.625, 37.125], &quot;geometry&quot;: {&quot;coordinates&quot;: [[[131.375, 36.875], [131.625, 36.875], [131.625, 37.125], [131.375, 37.125], [131.375, 36.875]]], &quot;type&quot;: &quot;Polygon&quot;}, &quot;id&quot;: &quot;0&quot;, &quot;properties&quot;: {&quot;__folium_color&quot;: &quot;#d3214b&quot;, &quot;index&quot;: 41, &quot;index_right&quot;: 0, &quot;lat_lon&quot;: &quot;36.875_131.375&quot;, &quot;latitude&quot;: 36.875, &quot;longitude&quot;: 131.375, &quot;to&quot;: 12.331250190734863}, &quot;type&quot;: &quot;Feature&quot;}, {&quot;bbox&quot;: [131.625, 36.875, 131.875, 37.125], &quot;geometry&quot;: {&quot;coordinates&quot;: [[[131.625, 36.875], [131.875, 36.875], [131.875, 37.125], [131.625, 37.125], [131.625, 36.875]]], &quot;type&quot;: &quot;Polygon&quot;}, &quot;id&quot;: &quot;1&quot;, &quot;properties&quot;: {&quot;__folium_color&quot;: &quot;#f6b691&quot;, &quot;index&quot;: 42, &quot;index_right&quot;: 0, &quot;lat_lon&quot;: &quot;36.875_131.625&quot;, &quot;latitude&quot;: 36.875, &quot;longitude&quot;: 131.625, &quot;to&quot;: 12.436749458312988}, &quot;type&quot;: &quot;Feature&quot;}, {&quot;bbox&quot;: [131.875, 36.875, 132.125, 37.125], &quot;geometry&quot;: {&quot;coordinates&quot;: [[[131.875, 36.875], [132.125, 36.875], [132.125, 37.125], [131.875, 37.125], [131.875, 36.875]]], &quot;type&quot;: &quot;Polygon&quot;}, &quot;id&quot;: &quot;2&quot;, &quot;properties&quot;: {&quot;__folium_color&quot;: &quot;#f26747&quot;, &quot;index&quot;: 43, &quot;index_right&quot;: 0, &quot;lat_lon&quot;: &quot;36.875_131.875&quot;, &quot;latitude&quot;: 36.875, &quot;longitude&quot;: 131.875, &quot;to&quot;: 12.379499435424805}, &quot;type&quot;: &quot;Feature&quot;}, {&quot;bbox&quot;: [132.125, 36.875, 132.375, 37.125], &quot;geometry&quot;: {&quot;coordinates&quot;: [[[132.125, 36.875], [132.375, 36.875], [132.375, 37.125], [132.125, 37.125], [132.125, 36.875]]], &quot;type&quot;: &quot;Polygon&quot;}, &quot;id&quot;: &quot;3&quot;, &quot;properties&quot;: {&quot;__folium_color&quot;: &quot;#f47a54&quot;, &quot;index&quot;: 44, &quot;index_right&quot;: 0, &quot;lat_lon&quot;: &quot;36.875_132.125&quot;, &quot;latitude&quot;: 36.875, &quot;longitude&quot;: 132.125, &quot;to&quot;: 12.391624450683594}, &quot;type&quot;: &quot;Feature&quot;}, {&quot;bbox&quot;: [131.375, 37.125, 131.625, 37.375], &quot;geometry&quot;: {&quot;coordinates&quot;: [[[131.375, 37.125], [131.625, 37.125], [131.625, 37.375], [131.375, 37.375], [131.375, 37.125]]], &quot;type&quot;: &quot;Polygon&quot;}, &quot;id&quot;: &quot;4&quot;, &quot;properties&quot;: {&quot;__folium_color&quot;: &quot;#8c1d5b&quot;, &quot;index&quot;: 53, &quot;index_right&quot;: 0, &quot;lat_lon&quot;: &quot;37.125_131.375&quot;, &quot;latitude&quot;: 37.125, &quot;longitude&quot;: 131.375, &quot;to&quot;: 12.276124954223633}, &quot;type&quot;: &quot;Feature&quot;}, {&quot;bbox&quot;: [131.625, 37.125, 131.875, 37.375], &quot;geometry&quot;: {&quot;coordinates&quot;: [[[131.625, 37.125], [131.875, 37.125], [131.875, 37.375], [131.625, 37.375], [131.625, 37.125]]], &quot;type&quot;: &quot;Polygon&quot;}, &quot;id&quot;: &quot;5&quot;, &quot;properties&quot;: {&quot;__folium_color&quot;: &quot;#f47f58&quot;, &quot;index&quot;: 54, &quot;index_right&quot;: 0, &quot;lat_lon&quot;: &quot;37.125_131.625&quot;, &quot;latitude&quot;: 37.125, &quot;longitude&quot;: 131.625, &quot;to&quot;: 12.395500183105469}, &quot;type&quot;: &quot;Feature&quot;}, {&quot;bbox&quot;: [131.875, 37.125, 132.125, 37.375], &quot;geometry&quot;: {&quot;coordinates&quot;: [[[131.875, 37.125], [132.125, 37.125], [132.125, 37.375], [131.875, 37.375], [131.875, 37.125]]], &quot;type&quot;: &quot;Polygon&quot;}, &quot;id&quot;: &quot;6&quot;, &quot;properties&quot;: {&quot;__folium_color&quot;: &quot;#f6ab83&quot;, &quot;index&quot;: 55, &quot;index_right&quot;: 0, &quot;lat_lon&quot;: &quot;37.125_131.875&quot;, &quot;latitude&quot;: 37.125, &quot;longitude&quot;: 131.875, &quot;to&quot;: 12.427874565124512}, &quot;type&quot;: &quot;Feature&quot;}, {&quot;bbox&quot;: [132.125, 37.125, 132.375, 37.375], &quot;geometry&quot;: {&quot;coordinates&quot;: [[[132.125, 37.125], [132.375, 37.125], [132.375, 37.375], [132.125, 37.375], [132.125, 37.125]]], &quot;type&quot;: &quot;Polygon&quot;}, &quot;id&quot;: &quot;7&quot;, &quot;properties&quot;: {&quot;__folium_color&quot;: &quot;#f7c4a4&quot;, &quot;index&quot;: 56, &quot;index_right&quot;: 0, &quot;lat_lon&quot;: &quot;37.125_132.125&quot;, &quot;latitude&quot;: 37.125, &quot;longitude&quot;: 132.125, &quot;to&quot;: 12.447124481201172}, &quot;type&quot;: &quot;Feature&quot;}, {&quot;bbox&quot;: [131.375, 37.375, 131.625, 37.625], &quot;geometry&quot;: {&quot;coordinates&quot;: [[[131.375, 37.375], [131.625, 37.375], [131.625, 37.625], [131.375, 37.625], [131.375, 37.375]]], &quot;type&quot;: &quot;Polygon&quot;}, &quot;id&quot;: &quot;8&quot;, &quot;properties&quot;: {&quot;__folium_color&quot;: &quot;#03051a&quot;, &quot;index&quot;: 65, &quot;index_right&quot;: 0, &quot;lat_lon&quot;: &quot;37.375_131.375&quot;, &quot;latitude&quot;: 37.375, &quot;longitude&quot;: 131.375, &quot;to&quot;: 12.165374755859375}, &quot;type&quot;: &quot;Feature&quot;}, {&quot;bbox&quot;: [131.625, 37.375, 131.875, 37.625], &quot;geometry&quot;: {&quot;coordinates&quot;: [[[131.625, 37.375], [131.875, 37.375], [131.875, 37.625], [131.625, 37.625], [131.625, 37.375]]], &quot;type&quot;: &quot;Polygon&quot;}, &quot;id&quot;: &quot;9&quot;, &quot;properties&quot;: {&quot;__folium_color&quot;: &quot;#ef5840&quot;, &quot;index&quot;: 66, &quot;index_right&quot;: 0, &quot;lat_lon&quot;: &quot;37.375_131.625&quot;, &quot;latitude&quot;: 37.375, &quot;longitude&quot;: 131.625, &quot;to&quot;: 12.37024974822998}, &quot;type&quot;: &quot;Feature&quot;}, {&quot;bbox&quot;: [131.875, 37.375, 132.125, 37.625], &quot;geometry&quot;: {&quot;coordinates&quot;: [[[131.875, 37.375], [132.125, 37.375], [132.125, 37.625], [131.875, 37.625], [131.875, 37.375]]], &quot;type&quot;: &quot;Polygon&quot;}, &quot;id&quot;: &quot;10&quot;, &quot;properties&quot;: {&quot;__folium_color&quot;: &quot;#faebdd&quot;, &quot;index&quot;: 67, &quot;index_right&quot;: 0, &quot;lat_lon&quot;: &quot;37.375_131.875&quot;, &quot;latitude&quot;: 37.375, &quot;longitude&quot;: 131.875, &quot;to&quot;: 12.480124473571777}, &quot;type&quot;: &quot;Feature&quot;}, {&quot;bbox&quot;: [132.125, 37.375, 132.375, 37.625], &quot;geometry&quot;: {&quot;coordinates&quot;: [[[132.125, 37.375], [132.375, 37.375], [132.375, 37.625], [132.125, 37.625], [132.125, 37.375]]], &quot;type&quot;: &quot;Polygon&quot;}, &quot;id&quot;: &quot;11&quot;, &quot;properties&quot;: {&quot;__folium_color&quot;: &quot;#eb483e&quot;, &quot;index&quot;: 68, &quot;index_right&quot;: 0, &quot;lat_lon&quot;: &quot;37.375_132.125&quot;, &quot;latitude&quot;: 37.375, &quot;longitude&quot;: 132.125, &quot;to&quot;: 12.360374450683594}, &quot;type&quot;: &quot;Feature&quot;}], &quot;type&quot;: &quot;FeatureCollection&quot;});\n",
       "\n",
       "        \n",
       "    \n",
       "    geo_json_c90d8054c7823ad4d186d4731c48410c.bindTooltip(\n",
       "    function(layer){\n",
       "    let div = L.DomUtil.create(&#x27;div&#x27;);\n",
       "    \n",
       "    let handleObject = feature=&gt;typeof(feature)==&#x27;object&#x27; ? JSON.stringify(feature) : feature;\n",
       "    let fields = [&quot;index&quot;, &quot;latitude&quot;, &quot;longitude&quot;, &quot;to&quot;, &quot;lat_lon&quot;, &quot;index_right&quot;];\n",
       "    let aliases = [&quot;index&quot;, &quot;latitude&quot;, &quot;longitude&quot;, &quot;to&quot;, &quot;lat_lon&quot;, &quot;index_right&quot;];\n",
       "    let table = &#x27;&lt;table&gt;&#x27; +\n",
       "        String(\n",
       "        fields.map(\n",
       "        (v,i)=&gt;\n",
       "        `&lt;tr&gt;\n",
       "            &lt;th&gt;${aliases[i]}&lt;/th&gt;\n",
       "            \n",
       "            &lt;td&gt;${handleObject(layer.feature.properties[v])}&lt;/td&gt;\n",
       "        &lt;/tr&gt;`).join(&#x27;&#x27;))\n",
       "    +&#x27;&lt;/table&gt;&#x27;;\n",
       "    div.innerHTML=table;\n",
       "    \n",
       "    return div\n",
       "    }\n",
       "    ,{&quot;className&quot;: &quot;foliumtooltip&quot;, &quot;sticky&quot;: true});\n",
       "                     \n",
       "    \n",
       "    var color_map_414cc0e009840afd3ab8f08fd7d3e6e0 = {};\n",
       "\n",
       "    \n",
       "    color_map_414cc0e009840afd3ab8f08fd7d3e6e0.color = d3.scale.threshold()\n",
       "              .domain([12.165374755859375, 12.166005516816714, 12.166636277774053, 12.167267038731394, 12.167897799688733, 12.168528560646072, 12.169159321603411, 12.169790082560752, 12.170420843518091, 12.17105160447543, 12.171682365432769, 12.17231312639011, 12.172943887347449, 12.173574648304788, 12.174205409262127, 12.174836170219468, 12.175466931176807, 12.176097692134146, 12.176728453091485, 12.177359214048826, 12.177989975006165, 12.178620735963504, 12.179251496920843, 12.179882257878184, 12.180513018835523, 12.181143779792862, 12.181774540750201, 12.182405301707542, 12.18303606266488, 12.18366682362222, 12.184297584579559, 12.1849283455369, 12.185559106494239, 12.186189867451578, 12.186820628408917, 12.187451389366258, 12.188082150323597, 12.188712911280936, 12.189343672238275, 12.189974433195616, 12.190605194152955, 12.191235955110294, 12.191866716067633, 12.192497477024974, 12.193128237982313, 12.193758998939652, 12.19438975989699, 12.19502052085433, 12.19565128181167, 12.19628204276901, 12.196912803726349, 12.197543564683688, 12.198174325641029, 12.198805086598368, 12.199435847555707, 12.200066608513046, 12.200697369470387, 12.201328130427726, 12.201958891385065, 12.202589652342404, 12.203220413299745, 12.203851174257084, 12.204481935214423, 12.205112696171762, 12.205743457129103, 12.206374218086442, 12.20700497904378, 12.20763574000112, 12.20826650095846, 12.2088972619158, 12.209528022873139, 12.210158783830478, 12.210789544787819, 12.211420305745158, 12.212051066702497, 12.212681827659836, 12.213312588617177, 12.213943349574516, 12.214574110531855, 12.215204871489194, 12.215835632446534, 12.216466393403874, 12.217097154361213, 12.217727915318552, 12.218358676275892, 12.218989437233231, 12.21962019819057, 12.22025095914791, 12.22088172010525, 12.22151248106259, 12.222143242019929, 12.222774002977268, 12.223404763934607, 12.224035524891947, 12.224666285849286, 12.225297046806626, 12.225927807763965, 12.226558568721305, 12.227189329678644, 12.227820090635984, 12.228450851593323, 12.229081612550663, 12.229712373508002, 12.230343134465341, 12.23097389542268, 12.231604656380021, 12.23223541733736, 12.2328661782947, 12.233496939252039, 12.23412770020938, 12.234758461166718, 12.235389222124057, 12.236019983081396, 12.236650744038737, 12.237281504996076, 12.237912265953415, 12.238543026910754, 12.239173787868095, 12.239804548825434, 12.240435309782773, 12.241066070740112, 12.241696831697453, 12.242327592654792, 12.242958353612131, 12.24358911456947, 12.244219875526811, 12.24485063648415, 12.24548139744149, 12.246112158398828, 12.24674291935617, 12.247373680313508, 12.248004441270847, 12.248635202228186, 12.249265963185527, 12.249896724142866, 12.250527485100205, 12.251158246057544, 12.251789007014883, 12.252419767972224, 12.253050528929563, 12.253681289886902, 12.254312050844241, 12.254942811801582, 12.255573572758921, 12.25620433371626, 12.2568350946736, 12.25746585563094, 12.25809661658828, 12.258727377545618, 12.259358138502957, 12.259988899460298, 12.260619660417637, 12.261250421374976, 12.261881182332315, 12.262511943289656, 12.263142704246995, 12.263773465204334, 12.264404226161673, 12.265034987119014, 12.265665748076353, 12.266296509033692, 12.266927269991031, 12.267558030948372, 12.268188791905711, 12.26881955286305, 12.26945031382039, 12.27008107477773, 12.270711835735069, 12.271342596692408, 12.271973357649747, 12.272604118607088, 12.273234879564427, 12.273865640521766, 12.274496401479105, 12.275127162436446, 12.275757923393785, 12.276388684351124, 12.277019445308463, 12.277650206265804, 12.278280967223143, 12.278911728180482, 12.279542489137821, 12.28017325009516, 12.280804011052501, 12.28143477200984, 12.282065532967179, 12.282696293924518, 12.283327054881859, 12.283957815839198, 12.284588576796537, 12.285219337753876, 12.285850098711217, 12.286480859668556, 12.287111620625895, 12.287742381583234, 12.288373142540575, 12.289003903497914, 12.289634664455253, 12.290265425412592, 12.290896186369933, 12.291526947327272, 12.292157708284611, 12.29278846924195, 12.29341923019929, 12.29404999115663, 12.294680752113969, 12.295311513071308, 12.295942274028649, 12.296573034985988, 12.297203795943327, 12.297834556900666, 12.298465317858007, 12.299096078815346, 12.299726839772685, 12.300357600730024, 12.300988361687365, 12.301619122644704, 12.302249883602043, 12.302880644559382, 12.303511405516723, 12.304142166474062, 12.3047729274314, 12.30540368838874, 12.30603444934608, 12.30666521030342, 12.307295971260759, 12.307926732218098, 12.308557493175439, 12.309188254132778, 12.309819015090117, 12.310449776047456, 12.311080537004795, 12.311711297962136, 12.312342058919475, 12.312972819876814, 12.313603580834153, 12.314234341791494, 12.314865102748833, 12.315495863706172, 12.31612662466351, 12.316757385620852, 12.31738814657819, 12.31801890753553, 12.318649668492869, 12.31928042945021, 12.319911190407549, 12.320541951364888, 12.321172712322227, 12.321803473279568, 12.322434234236907, 12.323064995194246, 12.323695756151585, 12.324326517108926, 12.324957278066265, 12.325588039023604, 12.326218799980943, 12.326849560938284, 12.327480321895623, 12.328111082852962, 12.3287418438103, 12.329372604767642, 12.33000336572498, 12.33063412668232, 12.331264887639659, 12.331895648597, 12.332526409554339, 12.333157170511678, 12.333787931469017, 12.334418692426357, 12.335049453383697, 12.335680214341036, 12.336310975298375, 12.336941736255714, 12.337572497213054, 12.338203258170394, 12.338834019127733, 12.339464780085072, 12.340095541042412, 12.340726301999752, 12.34135706295709, 12.34198782391443, 12.34261858487177, 12.34324934582911, 12.343880106786449, 12.344510867743788, 12.345141628701128, 12.345772389658467, 12.346403150615807, 12.347033911573146, 12.347664672530486, 12.348295433487825, 12.348926194445164, 12.349556955402504, 12.350187716359844, 12.350818477317183, 12.351449238274522, 12.352079999231862, 12.352710760189202, 12.353341521146541, 12.35397228210388, 12.35460304306122, 12.35523380401856, 12.3558645649759, 12.356495325933238, 12.357126086890577, 12.357756847847918, 12.358387608805257, 12.359018369762596, 12.359649130719935, 12.360279891677276, 12.360910652634615, 12.361541413591954, 12.362172174549293, 12.362802935506634, 12.363433696463973, 12.364064457421312, 12.364695218378651, 12.365325979335992, 12.365956740293331, 12.36658750125067, 12.36721826220801, 12.367849023165348, 12.36847978412269, 12.369110545080028, 12.369741306037367, 12.370372066994706, 12.371002827952047, 12.371633588909386, 12.372264349866725, 12.372895110824064, 12.373525871781405, 12.374156632738744, 12.374787393696083, 12.375418154653422, 12.376048915610763, 12.376679676568102, 12.377310437525441, 12.37794119848278, 12.378571959440121, 12.37920272039746, 12.3798334813548, 12.380464242312138, 12.381095003269479, 12.381725764226818, 12.382356525184157, 12.382987286141496, 12.383618047098837, 12.384248808056176, 12.384879569013515, 12.385510329970854, 12.386141090928195, 12.386771851885534, 12.387402612842873, 12.388033373800212, 12.388664134757553, 12.389294895714892, 12.389925656672231, 12.39055641762957, 12.391187178586911, 12.39181793954425, 12.392448700501589, 12.393079461458928, 12.393710222416267, 12.394340983373608, 12.394971744330947, 12.395602505288286, 12.396233266245625, 12.396864027202966, 12.397494788160305, 12.398125549117644, 12.398756310074983, 12.399387071032324, 12.400017831989663, 12.400648592947002, 12.401279353904341, 12.401910114861682, 12.402540875819021, 12.40317163677636, 12.403802397733699, 12.40443315869104, 12.405063919648379, 12.405694680605718, 12.406325441563057, 12.406956202520398, 12.407586963477737, 12.408217724435076, 12.408848485392415, 12.409479246349756, 12.410110007307095, 12.410740768264434, 12.411371529221773, 12.412002290179114, 12.412633051136453, 12.413263812093792, 12.413894573051131, 12.414525334008472, 12.41515609496581, 12.41578685592315, 12.416417616880489, 12.41704837783783, 12.417679138795169, 12.418309899752508, 12.418940660709847, 12.419571421667188, 12.420202182624527, 12.420832943581866, 12.421463704539205, 12.422094465496546, 12.422725226453885, 12.423355987411224, 12.423986748368563, 12.424617509325902, 12.425248270283243, 12.425879031240582, 12.42650979219792, 12.42714055315526, 12.4277713141126, 12.42840207506994, 12.429032836027279, 12.429663596984618, 12.430294357941959, 12.430925118899298, 12.431555879856637, 12.432186640813976, 12.432817401771317, 12.433448162728656, 12.434078923685995, 12.434709684643334, 12.435340445600675, 12.435971206558014, 12.436601967515353, 12.437232728472692, 12.437863489430033, 12.438494250387372, 12.43912501134471, 12.43975577230205, 12.44038653325939, 12.44101729421673, 12.441648055174069, 12.442278816131408, 12.442909577088749, 12.443540338046088, 12.444171099003427, 12.444801859960766, 12.445432620918107, 12.446063381875446, 12.446694142832785, 12.447324903790124, 12.447955664747465, 12.448586425704804, 12.449217186662143, 12.449847947619482, 12.45047870857682, 12.451109469534162, 12.4517402304915, 12.45237099144884, 12.45300175240618, 12.45363251336352, 12.454263274320859, 12.454894035278198, 12.455524796235537, 12.456155557192877, 12.456786318150217, 12.457417079107556, 12.458047840064895, 12.458678601022235, 12.459309361979575, 12.459940122936914, 12.460570883894253, 12.461201644851593, 12.461832405808932, 12.462463166766272, 12.46309392772361, 12.463724688680951, 12.46435544963829, 12.46498621059563, 12.465616971552969, 12.46624773251031, 12.466878493467648, 12.467509254424987, 12.468140015382327, 12.468770776339667, 12.469401537297006, 12.470032298254345, 12.470663059211684, 12.471293820169025, 12.471924581126364, 12.472555342083703, 12.473186103041042, 12.473816863998383, 12.474447624955722, 12.475078385913061, 12.4757091468704, 12.476339907827741, 12.47697066878508, 12.47760142974242, 12.478232190699758, 12.4788629516571, 12.479493712614438, 12.480124473571777])\n",
       "              .range([&#x27;#03051aff&#x27;, &#x27;#03051aff&#x27;, &#x27;#04051aff&#x27;, &#x27;#04051aff&#x27;, &#x27;#05061bff&#x27;, &#x27;#05061bff&#x27;, &#x27;#06071cff&#x27;, &#x27;#06071cff&#x27;, &#x27;#07071dff&#x27;, &#x27;#07071dff&#x27;, &#x27;#08081eff&#x27;, &#x27;#09081eff&#x27;, &#x27;#0a091fff&#x27;, &#x27;#0a091fff&#x27;, &#x27;#0b0920ff&#x27;, &#x27;#0c0920ff&#x27;, &#x27;#0d0a21ff&#x27;, &#x27;#0d0a21ff&#x27;, &#x27;#0e0b22ff&#x27;, &#x27;#0f0b22ff&#x27;, &#x27;#100b23ff&#x27;, &#x27;#100b23ff&#x27;, &#x27;#110c24ff&#x27;, &#x27;#120c24ff&#x27;, &#x27;#130d25ff&#x27;, &#x27;#130d25ff&#x27;, &#x27;#140e26ff&#x27;, &#x27;#150e26ff&#x27;, &#x27;#160e27ff&#x27;, &#x27;#160e27ff&#x27;, &#x27;#170f28ff&#x27;, &#x27;#170f29ff&#x27;, &#x27;#180f29ff&#x27;, &#x27;#190f2aff&#x27;, &#x27;#1a102aff&#x27;, &#x27;#1a102bff&#x27;, &#x27;#1b112bff&#x27;, &#x27;#1c112cff&#x27;, &#x27;#1d112cff&#x27;, &#x27;#1e122dff&#x27;, &#x27;#1f122dff&#x27;, &#x27;#20122eff&#x27;, &#x27;#20122fff&#x27;, &#x27;#211330ff&#x27;, &#x27;#211330ff&#x27;, &#x27;#221331ff&#x27;, &#x27;#231331ff&#x27;, &#x27;#241432ff&#x27;, &#x27;#241432ff&#x27;, &#x27;#251433ff&#x27;, &#x27;#261433ff&#x27;, &#x27;#271534ff&#x27;, &#x27;#271534ff&#x27;, &#x27;#281535ff&#x27;, &#x27;#291535ff&#x27;, &#x27;#2a1636ff&#x27;, &#x27;#2a1636ff&#x27;, &#x27;#2b1637ff&#x27;, &#x27;#2c1637ff&#x27;, &#x27;#2d1738ff&#x27;, &#x27;#2d1738ff&#x27;, &#x27;#2e1739ff&#x27;, &#x27;#2f1739ff&#x27;, &#x27;#30173aff&#x27;, &#x27;#30173aff&#x27;, &#x27;#31183bff&#x27;, &#x27;#32183bff&#x27;, &#x27;#33183cff&#x27;, &#x27;#33183cff&#x27;, &#x27;#34193dff&#x27;, &#x27;#34193eff&#x27;, &#x27;#35193eff&#x27;, &#x27;#36193fff&#x27;, &#x27;#37193fff&#x27;, &#x27;#381940ff&#x27;, &#x27;#381a40ff&#x27;, &#x27;#391a41ff&#x27;, &#x27;#3a1a41ff&#x27;, &#x27;#3b1a42ff&#x27;, &#x27;#3c1a42ff&#x27;, &#x27;#3d1a42ff&#x27;, &#x27;#3e1a42ff&#x27;, &#x27;#3f1b43ff&#x27;, &#x27;#3f1b43ff&#x27;, &#x27;#401b44ff&#x27;, &#x27;#411b44ff&#x27;, &#x27;#421b45ff&#x27;, &#x27;#421b45ff&#x27;, &#x27;#431c46ff&#x27;, &#x27;#441c46ff&#x27;, &#x27;#451c47ff&#x27;, &#x27;#451c47ff&#x27;, &#x27;#461c48ff&#x27;, &#x27;#471c48ff&#x27;, &#x27;#481c48ff&#x27;, &#x27;#481c48ff&#x27;, &#x27;#491d49ff&#x27;, &#x27;#4a1d49ff&#x27;, &#x27;#4b1d4aff&#x27;, &#x27;#4b1d4aff&#x27;, &#x27;#4c1d4bff&#x27;, &#x27;#4d1d4bff&#x27;, &#x27;#4e1d4bff&#x27;, &#x27;#4f1d4bff&#x27;, &#x27;#501d4cff&#x27;, &#x27;#501d4cff&#x27;, &#x27;#511e4dff&#x27;, &#x27;#521e4dff&#x27;, &#x27;#531e4dff&#x27;, &#x27;#541e4eff&#x27;, &#x27;#541e4eff&#x27;, &#x27;#551e4fff&#x27;, &#x27;#561e4fff&#x27;, &#x27;#571e4fff&#x27;, &#x27;#581e4fff&#x27;, &#x27;#591e50ff&#x27;, &#x27;#591e50ff&#x27;, &#x27;#5a1e51ff&#x27;, &#x27;#5b1e51ff&#x27;, &#x27;#5c1e51ff&#x27;, &#x27;#5d1e51ff&#x27;, &#x27;#5e1e52ff&#x27;, &#x27;#5f1f52ff&#x27;, &#x27;#601f52ff&#x27;, &#x27;#601f52ff&#x27;, &#x27;#611f53ff&#x27;, &#x27;#621f53ff&#x27;, &#x27;#631f53ff&#x27;, &#x27;#631f53ff&#x27;, &#x27;#641f54ff&#x27;, &#x27;#651f54ff&#x27;, &#x27;#661f54ff&#x27;, &#x27;#671f54ff&#x27;, &#x27;#681f55ff&#x27;, &#x27;#681f55ff&#x27;, &#x27;#691f55ff&#x27;, &#x27;#6a1f55ff&#x27;, &#x27;#6b1f56ff&#x27;, &#x27;#6c1f56ff&#x27;, &#x27;#6d1f56ff&#x27;, &#x27;#6d1f56ff&#x27;, &#x27;#6e1f57ff&#x27;, &#x27;#6f1f57ff&#x27;, &#x27;#701f57ff&#x27;, &#x27;#711f57ff&#x27;, &#x27;#711f57ff&#x27;, &#x27;#721f57ff&#x27;, &#x27;#731f58ff&#x27;, &#x27;#741f58ff&#x27;, &#x27;#751f58ff&#x27;, &#x27;#761f58ff&#x27;, &#x27;#761f58ff&#x27;, &#x27;#771f59ff&#x27;, &#x27;#781f59ff&#x27;, &#x27;#791f59ff&#x27;, &#x27;#7a1f59ff&#x27;, &#x27;#7b1f59ff&#x27;, &#x27;#7b1f59ff&#x27;, &#x27;#7c1f5aff&#x27;, &#x27;#7d1e5aff&#x27;, &#x27;#7f1e5aff&#x27;, &#x27;#801e5aff&#x27;, &#x27;#811e5aff&#x27;, &#x27;#811e5aff&#x27;, &#x27;#821e5aff&#x27;, &#x27;#831e5aff&#x27;, &#x27;#841e5aff&#x27;, &#x27;#851e5aff&#x27;, &#x27;#861e5bff&#x27;, &#x27;#861e5bff&#x27;, &#x27;#871e5bff&#x27;, &#x27;#881e5bff&#x27;, &#x27;#891e5bff&#x27;, &#x27;#8a1d5bff&#x27;, &#x27;#8b1d5bff&#x27;, &#x27;#8b1d5bff&#x27;, &#x27;#8c1d5bff&#x27;, &#x27;#8d1d5bff&#x27;, &#x27;#8e1d5bff&#x27;, &#x27;#8f1d5bff&#x27;, &#x27;#901d5bff&#x27;, &#x27;#911c5bff&#x27;, &#x27;#921c5bff&#x27;, &#x27;#931c5bff&#x27;, &#x27;#931c5bff&#x27;, &#x27;#941c5bff&#x27;, &#x27;#951c5bff&#x27;, &#x27;#961c5bff&#x27;, &#x27;#971c5bff&#x27;, &#x27;#981b5bff&#x27;, &#x27;#981b5bff&#x27;, &#x27;#991b5bff&#x27;, &#x27;#9a1b5bff&#x27;, &#x27;#9b1b5bff&#x27;, &#x27;#9c1a5bff&#x27;, &#x27;#9d1a5bff&#x27;, &#x27;#9e1a5bff&#x27;, &#x27;#9f1a5bff&#x27;, &#x27;#9f1a5bff&#x27;, &#x27;#a11a5bff&#x27;, &#x27;#a2195bff&#x27;, &#x27;#a3195bff&#x27;, &#x27;#a3195bff&#x27;, &#x27;#a4195bff&#x27;, &#x27;#a5195bff&#x27;, &#x27;#a6195aff&#x27;, &#x27;#a7185aff&#x27;, &#x27;#a8185aff&#x27;, &#x27;#a9185aff&#x27;, &#x27;#aa185aff&#x27;, &#x27;#aa185aff&#x27;, &#x27;#ab185aff&#x27;, &#x27;#ac175aff&#x27;, &#x27;#ad1759ff&#x27;, &#x27;#ae1759ff&#x27;, &#x27;#af1759ff&#x27;, &#x27;#b01759ff&#x27;, &#x27;#b01759ff&#x27;, &#x27;#b11758ff&#x27;, &#x27;#b21758ff&#x27;, &#x27;#b31658ff&#x27;, &#x27;#b41658ff&#x27;, &#x27;#b51657ff&#x27;, &#x27;#b51657ff&#x27;, &#x27;#b61657ff&#x27;, &#x27;#b71657ff&#x27;, &#x27;#b81657ff&#x27;, &#x27;#b91657ff&#x27;, &#x27;#ba1656ff&#x27;, &#x27;#ba1656ff&#x27;, &#x27;#bb1656ff&#x27;, &#x27;#bc1656ff&#x27;, &#x27;#bd1655ff&#x27;, &#x27;#bd1655ff&#x27;, &#x27;#be1654ff&#x27;, &#x27;#bf1654ff&#x27;, &#x27;#c01654ff&#x27;, &#x27;#c11754ff&#x27;, &#x27;#c21753ff&#x27;, &#x27;#c31753ff&#x27;, &#x27;#c41753ff&#x27;, &#x27;#c41753ff&#x27;, &#x27;#c51752ff&#x27;, &#x27;#c61852ff&#x27;, &#x27;#c71851ff&#x27;, &#x27;#c71951ff&#x27;, &#x27;#c81951ff&#x27;, &#x27;#c91951ff&#x27;, &#x27;#ca1950ff&#x27;, &#x27;#cb1a50ff&#x27;, &#x27;#cb1a4fff&#x27;, &#x27;#cc1b4fff&#x27;, &#x27;#cd1b4eff&#x27;, &#x27;#ce1c4eff&#x27;, &#x27;#ce1c4eff&#x27;, &#x27;#cf1d4dff&#x27;, &#x27;#cf1d4dff&#x27;, &#x27;#d01e4cff&#x27;, &#x27;#d11e4cff&#x27;, &#x27;#d21f4cff&#x27;, &#x27;#d21f4cff&#x27;, &#x27;#d3204bff&#x27;, &#x27;#d3214bff&#x27;, &#x27;#d4214aff&#x27;, &#x27;#d5224aff&#x27;, &#x27;#d62249ff&#x27;, &#x27;#d62449ff&#x27;, &#x27;#d72449ff&#x27;, &#x27;#d72549ff&#x27;, &#x27;#d82648ff&#x27;, &#x27;#d82748ff&#x27;, &#x27;#d92747ff&#x27;, &#x27;#d92847ff&#x27;, &#x27;#da2846ff&#x27;, &#x27;#db2946ff&#x27;, &#x27;#dc2a46ff&#x27;, &#x27;#dc2b46ff&#x27;, &#x27;#dd2b45ff&#x27;, &#x27;#dd2c45ff&#x27;, &#x27;#de2d44ff&#x27;, &#x27;#de2e44ff&#x27;, &#x27;#df2e44ff&#x27;, &#x27;#df2f44ff&#x27;, &#x27;#e03043ff&#x27;, &#x27;#e13143ff&#x27;, &#x27;#e13242ff&#x27;, &#x27;#e23342ff&#x27;, &#x27;#e23342ff&#x27;, &#x27;#e33442ff&#x27;, &#x27;#e33541ff&#x27;, &#x27;#e43641ff&#x27;, &#x27;#e43741ff&#x27;, &#x27;#e53841ff&#x27;, &#x27;#e53840ff&#x27;, &#x27;#e63940ff&#x27;, &#x27;#e63a40ff&#x27;, &#x27;#e73b3fff&#x27;, &#x27;#e73c3fff&#x27;, &#x27;#e83d3fff&#x27;, &#x27;#e83e3fff&#x27;, &#x27;#e83f3eff&#x27;, &#x27;#e8403eff&#x27;, &#x27;#e9403eff&#x27;, &#x27;#e9413eff&#x27;, &#x27;#ea423eff&#x27;, &#x27;#ea433eff&#x27;, &#x27;#eb453eff&#x27;, &#x27;#eb463eff&#x27;, &#x27;#eb473eff&#x27;, &#x27;#eb483eff&#x27;, &#x27;#ec493eff&#x27;, &#x27;#ec4a3eff&#x27;, &#x27;#ec4b3eff&#x27;, &#x27;#ec4c3eff&#x27;, &#x27;#ed4d3eff&#x27;, &#x27;#ed4e3eff&#x27;, &#x27;#ed4f3eff&#x27;, &#x27;#ed503eff&#x27;, &#x27;#ee513eff&#x27;, &#x27;#ee523fff&#x27;, &#x27;#ee533fff&#x27;, &#x27;#ee543fff&#x27;, &#x27;#ef553fff&#x27;, &#x27;#ef5640ff&#x27;, &#x27;#ef5740ff&#x27;, &#x27;#ef5840ff&#x27;, &#x27;#ef5940ff&#x27;, &#x27;#f05a41ff&#x27;, &#x27;#f05b41ff&#x27;, &#x27;#f05c42ff&#x27;, &#x27;#f05d42ff&#x27;, &#x27;#f05e42ff&#x27;, &#x27;#f05f42ff&#x27;, &#x27;#f16043ff&#x27;, &#x27;#f16143ff&#x27;, &#x27;#f16244ff&#x27;, &#x27;#f16344ff&#x27;, &#x27;#f16445ff&#x27;, &#x27;#f16545ff&#x27;, &#x27;#f26646ff&#x27;, &#x27;#f26747ff&#x27;, &#x27;#f26747ff&#x27;, &#x27;#f26848ff&#x27;, &#x27;#f26948ff&#x27;, &#x27;#f26b49ff&#x27;, &#x27;#f26c49ff&#x27;, &#x27;#f26d4aff&#x27;, &#x27;#f26e4bff&#x27;, &#x27;#f26f4cff&#x27;, &#x27;#f3704cff&#x27;, &#x27;#f3714dff&#x27;, &#x27;#f3724dff&#x27;, &#x27;#f3734eff&#x27;, &#x27;#f3734fff&#x27;, &#x27;#f37450ff&#x27;, &#x27;#f37550ff&#x27;, &#x27;#f37651ff&#x27;, &#x27;#f37751ff&#x27;, &#x27;#f37852ff&#x27;, &#x27;#f47953ff&#x27;, &#x27;#f47a54ff&#x27;, &#x27;#f47b54ff&#x27;, &#x27;#f47c55ff&#x27;, &#x27;#f47c56ff&#x27;, &#x27;#f47d57ff&#x27;, &#x27;#f47e57ff&#x27;, &#x27;#f47f58ff&#x27;, &#x27;#f48059ff&#x27;, &#x27;#f4815aff&#x27;, &#x27;#f4825aff&#x27;, &#x27;#f4835bff&#x27;, &#x27;#f4845cff&#x27;, &#x27;#f4845dff&#x27;, &#x27;#f4855dff&#x27;, &#x27;#f5865eff&#x27;, &#x27;#f5875fff&#x27;, &#x27;#f58860ff&#x27;, &#x27;#f58961ff&#x27;, &#x27;#f58a61ff&#x27;, &#x27;#f58b62ff&#x27;, &#x27;#f58b63ff&#x27;, &#x27;#f58c64ff&#x27;, &#x27;#f58d64ff&#x27;, &#x27;#f58f65ff&#x27;, &#x27;#f58f66ff&#x27;, &#x27;#f59067ff&#x27;, &#x27;#f59167ff&#x27;, &#x27;#f59268ff&#x27;, &#x27;#f59369ff&#x27;, &#x27;#f5946aff&#x27;, &#x27;#f5956bff&#x27;, &#x27;#f5966cff&#x27;, &#x27;#f5966dff&#x27;, &#x27;#f5976eff&#x27;, &#x27;#f5986fff&#x27;, &#x27;#f59970ff&#x27;, &#x27;#f69a70ff&#x27;, &#x27;#f69b71ff&#x27;, &#x27;#f69b72ff&#x27;, &#x27;#f69c73ff&#x27;, &#x27;#f69d74ff&#x27;, &#x27;#f69e75ff&#x27;, &#x27;#f69f76ff&#x27;, &#x27;#f6a077ff&#x27;, &#x27;#f6a177ff&#x27;, &#x27;#f6a178ff&#x27;, &#x27;#f6a279ff&#x27;, &#x27;#f6a37aff&#x27;, &#x27;#f6a47bff&#x27;, &#x27;#f6a47cff&#x27;, &#x27;#f6a57dff&#x27;, &#x27;#f6a67eff&#x27;, &#x27;#f6a77fff&#x27;, &#x27;#f6a880ff&#x27;, &#x27;#f6a981ff&#x27;, &#x27;#f6a981ff&#x27;, &#x27;#f6aa82ff&#x27;, &#x27;#f6ab83ff&#x27;, &#x27;#f6ac84ff&#x27;, &#x27;#f6ad85ff&#x27;, &#x27;#f6ae86ff&#x27;, &#x27;#f6ae87ff&#x27;, &#x27;#f6af88ff&#x27;, &#x27;#f6b089ff&#x27;, &#x27;#f6b18aff&#x27;, &#x27;#f6b28bff&#x27;, &#x27;#f6b38cff&#x27;, &#x27;#f6b38dff&#x27;, &#x27;#f6b48eff&#x27;, &#x27;#f6b590ff&#x27;, &#x27;#f6b691ff&#x27;, &#x27;#f6b792ff&#x27;, &#x27;#f6b893ff&#x27;, &#x27;#f6b894ff&#x27;, &#x27;#f6b995ff&#x27;, &#x27;#f6ba96ff&#x27;, &#x27;#f6bb97ff&#x27;, &#x27;#f6bc98ff&#x27;, &#x27;#f6bc99ff&#x27;, &#x27;#f6bd9aff&#x27;, &#x27;#f6be9bff&#x27;, &#x27;#f6bf9cff&#x27;, &#x27;#f6bf9dff&#x27;, &#x27;#f6c09eff&#x27;, &#x27;#f6c19fff&#x27;, &#x27;#f7c2a0ff&#x27;, &#x27;#f7c2a2ff&#x27;, &#x27;#f7c3a3ff&#x27;, &#x27;#f7c4a4ff&#x27;, &#x27;#f7c5a5ff&#x27;, &#x27;#f7c6a6ff&#x27;, &#x27;#f7c7a7ff&#x27;, &#x27;#f7c7a8ff&#x27;, &#x27;#f7c8a9ff&#x27;, &#x27;#f7c9aaff&#x27;, &#x27;#f7caabff&#x27;, &#x27;#f7caacff&#x27;, &#x27;#f7cbaeff&#x27;, &#x27;#f7ccafff&#x27;, &#x27;#f7cdb0ff&#x27;, &#x27;#f7cdb1ff&#x27;, &#x27;#f7ceb2ff&#x27;, &#x27;#f7cfb3ff&#x27;, &#x27;#f7d0b4ff&#x27;, &#x27;#f8d0b6ff&#x27;, &#x27;#f8d1b7ff&#x27;, &#x27;#f8d2b8ff&#x27;, &#x27;#f8d3baff&#x27;, &#x27;#f8d3bbff&#x27;, &#x27;#f8d4bcff&#x27;, &#x27;#f8d5bdff&#x27;, &#x27;#f8d6beff&#x27;, &#x27;#f8d7bfff&#x27;, &#x27;#f8d7c0ff&#x27;, &#x27;#f8d8c1ff&#x27;, &#x27;#f8d9c2ff&#x27;, &#x27;#f8dac4ff&#x27;, &#x27;#f8dac5ff&#x27;, &#x27;#f8dbc6ff&#x27;, &#x27;#f8dcc7ff&#x27;, &#x27;#f9ddc8ff&#x27;, &#x27;#f9ddc9ff&#x27;, &#x27;#f9decaff&#x27;, &#x27;#f9dfcbff&#x27;, &#x27;#f9e0ccff&#x27;, &#x27;#f9e0cdff&#x27;, &#x27;#f9e1ceff&#x27;, &#x27;#f9e2d0ff&#x27;, &#x27;#f9e3d1ff&#x27;, &#x27;#f9e3d2ff&#x27;, &#x27;#f9e4d3ff&#x27;, &#x27;#f9e5d4ff&#x27;, &#x27;#fae6d5ff&#x27;, &#x27;#fae6d6ff&#x27;, &#x27;#fae7d7ff&#x27;, &#x27;#fae8d8ff&#x27;, &#x27;#fae9d9ff&#x27;, &#x27;#fae9daff&#x27;, &#x27;#faeadcff&#x27;, &#x27;#faebddff&#x27;]);\n",
       "    \n",
       "\n",
       "    color_map_414cc0e009840afd3ab8f08fd7d3e6e0.x = d3.scale.linear()\n",
       "              .domain([12.165374755859375, 12.480124473571777])\n",
       "              .range([0, 450 - 50]);\n",
       "\n",
       "    color_map_414cc0e009840afd3ab8f08fd7d3e6e0.legend = L.control({position: &#x27;topright&#x27;});\n",
       "    color_map_414cc0e009840afd3ab8f08fd7d3e6e0.legend.onAdd = function (map) {var div = L.DomUtil.create(&#x27;div&#x27;, &#x27;legend&#x27;); return div};\n",
       "    color_map_414cc0e009840afd3ab8f08fd7d3e6e0.legend.addTo(map_3bada843e57615004fd9ba8ed00fbee1);\n",
       "\n",
       "    color_map_414cc0e009840afd3ab8f08fd7d3e6e0.xAxis = d3.svg.axis()\n",
       "        .scale(color_map_414cc0e009840afd3ab8f08fd7d3e6e0.x)\n",
       "        .orient(&quot;top&quot;)\n",
       "        .tickSize(1)\n",
       "        .tickValues([12.165374755859375, &#x27;&#x27;, &#x27;&#x27;, &#x27;&#x27;, &#x27;&#x27;, &#x27;&#x27;, &#x27;&#x27;, &#x27;&#x27;, &#x27;&#x27;, &#x27;&#x27;, &#x27;&#x27;, &#x27;&#x27;, &#x27;&#x27;, &#x27;&#x27;, &#x27;&#x27;, &#x27;&#x27;, &#x27;&#x27;, &#x27;&#x27;, &#x27;&#x27;, &#x27;&#x27;, &#x27;&#x27;, &#x27;&#x27;, &#x27;&#x27;, &#x27;&#x27;, &#x27;&#x27;, &#x27;&#x27;, 12.197466883939855, &#x27;&#x27;, &#x27;&#x27;, &#x27;&#x27;, &#x27;&#x27;, &#x27;&#x27;, &#x27;&#x27;, &#x27;&#x27;, &#x27;&#x27;, &#x27;&#x27;, &#x27;&#x27;, &#x27;&#x27;, &#x27;&#x27;, &#x27;&#x27;, &#x27;&#x27;, &#x27;&#x27;, &#x27;&#x27;, &#x27;&#x27;, &#x27;&#x27;, &#x27;&#x27;, &#x27;&#x27;, &#x27;&#x27;, &#x27;&#x27;, &#x27;&#x27;, &#x27;&#x27;, &#x27;&#x27;, 12.229559012020335, &#x27;&#x27;, &#x27;&#x27;, &#x27;&#x27;, &#x27;&#x27;, &#x27;&#x27;, &#x27;&#x27;, &#x27;&#x27;, &#x27;&#x27;, &#x27;&#x27;, &#x27;&#x27;, &#x27;&#x27;, &#x27;&#x27;, &#x27;&#x27;, &#x27;&#x27;, &#x27;&#x27;, &#x27;&#x27;, &#x27;&#x27;, &#x27;&#x27;, &#x27;&#x27;, &#x27;&#x27;, &#x27;&#x27;, &#x27;&#x27;, &#x27;&#x27;, &#x27;&#x27;, &#x27;&#x27;, 12.261651140100815, &#x27;&#x27;, &#x27;&#x27;, &#x27;&#x27;, &#x27;&#x27;, &#x27;&#x27;, &#x27;&#x27;, &#x27;&#x27;, &#x27;&#x27;, &#x27;&#x27;, &#x27;&#x27;, &#x27;&#x27;, &#x27;&#x27;, &#x27;&#x27;, &#x27;&#x27;, &#x27;&#x27;, &#x27;&#x27;, &#x27;&#x27;, &#x27;&#x27;, &#x27;&#x27;, &#x27;&#x27;, &#x27;&#x27;, &#x27;&#x27;, &#x27;&#x27;, &#x27;&#x27;, &#x27;&#x27;, 12.293743268181297, &#x27;&#x27;, &#x27;&#x27;, &#x27;&#x27;, &#x27;&#x27;, &#x27;&#x27;, &#x27;&#x27;, &#x27;&#x27;, &#x27;&#x27;, &#x27;&#x27;, &#x27;&#x27;, &#x27;&#x27;, &#x27;&#x27;, &#x27;&#x27;, &#x27;&#x27;, &#x27;&#x27;, &#x27;&#x27;, &#x27;&#x27;, &#x27;&#x27;, &#x27;&#x27;, &#x27;&#x27;, &#x27;&#x27;, &#x27;&#x27;, &#x27;&#x27;, &#x27;&#x27;, &#x27;&#x27;, 12.325835396261777, &#x27;&#x27;, &#x27;&#x27;, &#x27;&#x27;, &#x27;&#x27;, &#x27;&#x27;, &#x27;&#x27;, &#x27;&#x27;, &#x27;&#x27;, &#x27;&#x27;, &#x27;&#x27;, &#x27;&#x27;, &#x27;&#x27;, &#x27;&#x27;, &#x27;&#x27;, &#x27;&#x27;, &#x27;&#x27;, &#x27;&#x27;, &#x27;&#x27;, &#x27;&#x27;, &#x27;&#x27;, &#x27;&#x27;, &#x27;&#x27;, &#x27;&#x27;, &#x27;&#x27;, &#x27;&#x27;, 12.357927524342257, &#x27;&#x27;, &#x27;&#x27;, &#x27;&#x27;, &#x27;&#x27;, &#x27;&#x27;, &#x27;&#x27;, &#x27;&#x27;, &#x27;&#x27;, &#x27;&#x27;, &#x27;&#x27;, &#x27;&#x27;, &#x27;&#x27;, &#x27;&#x27;, &#x27;&#x27;, &#x27;&#x27;, &#x27;&#x27;, &#x27;&#x27;, &#x27;&#x27;, &#x27;&#x27;, &#x27;&#x27;, &#x27;&#x27;, &#x27;&#x27;, &#x27;&#x27;, &#x27;&#x27;, &#x27;&#x27;, 12.390019652422737, &#x27;&#x27;, &#x27;&#x27;, &#x27;&#x27;, &#x27;&#x27;, &#x27;&#x27;, &#x27;&#x27;, &#x27;&#x27;, &#x27;&#x27;, &#x27;&#x27;, &#x27;&#x27;, &#x27;&#x27;, &#x27;&#x27;, &#x27;&#x27;, &#x27;&#x27;, &#x27;&#x27;, &#x27;&#x27;, &#x27;&#x27;, &#x27;&#x27;, &#x27;&#x27;, &#x27;&#x27;, &#x27;&#x27;, &#x27;&#x27;, &#x27;&#x27;, &#x27;&#x27;, &#x27;&#x27;, 12.422111780503217, &#x27;&#x27;, &#x27;&#x27;, &#x27;&#x27;, &#x27;&#x27;, &#x27;&#x27;, &#x27;&#x27;, &#x27;&#x27;, &#x27;&#x27;, &#x27;&#x27;, &#x27;&#x27;, &#x27;&#x27;, &#x27;&#x27;, &#x27;&#x27;, &#x27;&#x27;, &#x27;&#x27;, &#x27;&#x27;, &#x27;&#x27;, &#x27;&#x27;, &#x27;&#x27;, &#x27;&#x27;, &#x27;&#x27;, &#x27;&#x27;, &#x27;&#x27;, &#x27;&#x27;, &#x27;&#x27;, 12.454203908583697, &#x27;&#x27;, &#x27;&#x27;, &#x27;&#x27;, &#x27;&#x27;, &#x27;&#x27;, &#x27;&#x27;, &#x27;&#x27;, &#x27;&#x27;, &#x27;&#x27;, &#x27;&#x27;, &#x27;&#x27;, &#x27;&#x27;, &#x27;&#x27;, &#x27;&#x27;, &#x27;&#x27;, &#x27;&#x27;, &#x27;&#x27;, &#x27;&#x27;, &#x27;&#x27;, &#x27;&#x27;, &#x27;&#x27;, &#x27;&#x27;, &#x27;&#x27;, &#x27;&#x27;, &#x27;&#x27;]);\n",
       "\n",
       "    color_map_414cc0e009840afd3ab8f08fd7d3e6e0.svg = d3.select(&quot;.legend.leaflet-control&quot;).append(&quot;svg&quot;)\n",
       "        .attr(&quot;id&quot;, &#x27;legend&#x27;)\n",
       "        .attr(&quot;width&quot;, 450)\n",
       "        .attr(&quot;height&quot;, 40);\n",
       "\n",
       "    color_map_414cc0e009840afd3ab8f08fd7d3e6e0.g = color_map_414cc0e009840afd3ab8f08fd7d3e6e0.svg.append(&quot;g&quot;)\n",
       "        .attr(&quot;class&quot;, &quot;key&quot;)\n",
       "        .attr(&quot;transform&quot;, &quot;translate(25,16)&quot;);\n",
       "\n",
       "    color_map_414cc0e009840afd3ab8f08fd7d3e6e0.g.selectAll(&quot;rect&quot;)\n",
       "        .data(color_map_414cc0e009840afd3ab8f08fd7d3e6e0.color.range().map(function(d, i) {\n",
       "          return {\n",
       "            x0: i ? color_map_414cc0e009840afd3ab8f08fd7d3e6e0.x(color_map_414cc0e009840afd3ab8f08fd7d3e6e0.color.domain()[i - 1]) : color_map_414cc0e009840afd3ab8f08fd7d3e6e0.x.range()[0],\n",
       "            x1: i &lt; color_map_414cc0e009840afd3ab8f08fd7d3e6e0.color.domain().length ? color_map_414cc0e009840afd3ab8f08fd7d3e6e0.x(color_map_414cc0e009840afd3ab8f08fd7d3e6e0.color.domain()[i]) : color_map_414cc0e009840afd3ab8f08fd7d3e6e0.x.range()[1],\n",
       "            z: d\n",
       "          };\n",
       "        }))\n",
       "      .enter().append(&quot;rect&quot;)\n",
       "        .attr(&quot;height&quot;, 40 - 30)\n",
       "        .attr(&quot;x&quot;, function(d) { return d.x0; })\n",
       "        .attr(&quot;width&quot;, function(d) { return d.x1 - d.x0; })\n",
       "        .style(&quot;fill&quot;, function(d) { return d.z; });\n",
       "\n",
       "    color_map_414cc0e009840afd3ab8f08fd7d3e6e0.g.call(color_map_414cc0e009840afd3ab8f08fd7d3e6e0.xAxis).append(&quot;text&quot;)\n",
       "        .attr(&quot;class&quot;, &quot;caption&quot;)\n",
       "        .attr(&quot;y&quot;, 21)\n",
       "        .text(&quot;to&quot;);\n",
       "&lt;/script&gt;\n",
       "&lt;/html&gt;\" style=\"position:absolute;width:100%;height:100%;left:0;top:0;border:none !important;\" allowfullscreen webkitallowfullscreen mozallowfullscreen></iframe></div></div>"
      ],
      "text/plain": [
       "<folium.folium.Map at 0x1f53168d990>"
      ]
     },
     "execution_count": 23,
     "metadata": {},
     "output_type": "execute_result"
    }
   ],
   "source": [
    "gdf_after2.explore('to')"
   ]
  },
  {
   "attachments": {},
   "cell_type": "markdown",
   "metadata": {},
   "source": [
    "증감률 = [(기준시점 이후의 측정값 - 기준시점 이전의 측정값) ÷ 기준시점 이전의 측정값] × 100    \n",
    "증감률이 100이면 2배 증가한 것 "
   ]
  },
  {
   "cell_type": "code",
   "execution_count": 24,
   "metadata": {},
   "outputs": [],
   "source": [
    "# lat_lon 값을 기준으로 이전과 이후 데이터 병합\n",
    "merged_df = gdf_before2.merge(gdf_after2, on='lat_lon', suffixes=('_b', '_a'))"
   ]
  },
  {
   "cell_type": "code",
   "execution_count": 25,
   "metadata": {},
   "outputs": [
    {
     "data": {
      "text/html": [
       "<div>\n",
       "<style scoped>\n",
       "    .dataframe tbody tr th:only-of-type {\n",
       "        vertical-align: middle;\n",
       "    }\n",
       "\n",
       "    .dataframe tbody tr th {\n",
       "        vertical-align: top;\n",
       "    }\n",
       "\n",
       "    .dataframe thead th {\n",
       "        text-align: right;\n",
       "    }\n",
       "</style>\n",
       "<table border=\"1\" class=\"dataframe\">\n",
       "  <thead>\n",
       "    <tr style=\"text-align: right;\">\n",
       "      <th></th>\n",
       "      <th>index_b</th>\n",
       "      <th>latitude_b</th>\n",
       "      <th>longitude_b</th>\n",
       "      <th>to_b</th>\n",
       "      <th>geometry_b</th>\n",
       "      <th>lat_lon</th>\n",
       "      <th>index_right_b</th>\n",
       "      <th>index_a</th>\n",
       "      <th>latitude_a</th>\n",
       "      <th>longitude_a</th>\n",
       "      <th>to_a</th>\n",
       "      <th>geometry_a</th>\n",
       "      <th>index_right_a</th>\n",
       "    </tr>\n",
       "  </thead>\n",
       "  <tbody>\n",
       "    <tr>\n",
       "      <th>0</th>\n",
       "      <td>41</td>\n",
       "      <td>36.875000</td>\n",
       "      <td>131.375000</td>\n",
       "      <td>11.798624</td>\n",
       "      <td>POLYGON ((131.37500 36.87500, 131.62500 36.875...</td>\n",
       "      <td>36.875_131.375</td>\n",
       "      <td>0</td>\n",
       "      <td>41</td>\n",
       "      <td>36.875000</td>\n",
       "      <td>131.375000</td>\n",
       "      <td>12.331250</td>\n",
       "      <td>POLYGON ((131.37500 36.87500, 131.62500 36.875...</td>\n",
       "      <td>0</td>\n",
       "    </tr>\n",
       "    <tr>\n",
       "      <th>1</th>\n",
       "      <td>42</td>\n",
       "      <td>36.875000</td>\n",
       "      <td>131.625000</td>\n",
       "      <td>11.864250</td>\n",
       "      <td>POLYGON ((131.62500 36.87500, 131.87500 36.875...</td>\n",
       "      <td>36.875_131.625</td>\n",
       "      <td>0</td>\n",
       "      <td>42</td>\n",
       "      <td>36.875000</td>\n",
       "      <td>131.625000</td>\n",
       "      <td>12.436749</td>\n",
       "      <td>POLYGON ((131.62500 36.87500, 131.87500 36.875...</td>\n",
       "      <td>0</td>\n",
       "    </tr>\n",
       "    <tr>\n",
       "      <th>2</th>\n",
       "      <td>43</td>\n",
       "      <td>36.875000</td>\n",
       "      <td>131.875000</td>\n",
       "      <td>11.808374</td>\n",
       "      <td>POLYGON ((131.87500 36.87500, 132.12500 36.875...</td>\n",
       "      <td>36.875_131.875</td>\n",
       "      <td>0</td>\n",
       "      <td>43</td>\n",
       "      <td>36.875000</td>\n",
       "      <td>131.875000</td>\n",
       "      <td>12.379499</td>\n",
       "      <td>POLYGON ((131.87500 36.87500, 132.12500 36.875...</td>\n",
       "      <td>0</td>\n",
       "    </tr>\n",
       "    <tr>\n",
       "      <th>3</th>\n",
       "      <td>44</td>\n",
       "      <td>36.875000</td>\n",
       "      <td>132.125000</td>\n",
       "      <td>11.551374</td>\n",
       "      <td>POLYGON ((132.12500 36.87500, 132.37500 36.875...</td>\n",
       "      <td>36.875_132.125</td>\n",
       "      <td>0</td>\n",
       "      <td>44</td>\n",
       "      <td>36.875000</td>\n",
       "      <td>132.125000</td>\n",
       "      <td>12.391624</td>\n",
       "      <td>POLYGON ((132.12500 36.87500, 132.37500 36.875...</td>\n",
       "      <td>0</td>\n",
       "    </tr>\n",
       "    <tr>\n",
       "      <th>4</th>\n",
       "      <td>53</td>\n",
       "      <td>37.125000</td>\n",
       "      <td>131.375000</td>\n",
       "      <td>11.797874</td>\n",
       "      <td>POLYGON ((131.37500 37.12500, 131.62500 37.125...</td>\n",
       "      <td>37.125_131.375</td>\n",
       "      <td>0</td>\n",
       "      <td>53</td>\n",
       "      <td>37.125000</td>\n",
       "      <td>131.375000</td>\n",
       "      <td>12.276125</td>\n",
       "      <td>POLYGON ((131.37500 37.12500, 131.62500 37.125...</td>\n",
       "      <td>0</td>\n",
       "    </tr>\n",
       "  </tbody>\n",
       "</table>\n",
       "</div>"
      ],
      "text/plain": [
       "   index_b  latitude_b  longitude_b      to_b  \\\n",
       "0       41   36.875000   131.375000 11.798624   \n",
       "1       42   36.875000   131.625000 11.864250   \n",
       "2       43   36.875000   131.875000 11.808374   \n",
       "3       44   36.875000   132.125000 11.551374   \n",
       "4       53   37.125000   131.375000 11.797874   \n",
       "\n",
       "                                          geometry_b         lat_lon  \\\n",
       "0  POLYGON ((131.37500 36.87500, 131.62500 36.875...  36.875_131.375   \n",
       "1  POLYGON ((131.62500 36.87500, 131.87500 36.875...  36.875_131.625   \n",
       "2  POLYGON ((131.87500 36.87500, 132.12500 36.875...  36.875_131.875   \n",
       "3  POLYGON ((132.12500 36.87500, 132.37500 36.875...  36.875_132.125   \n",
       "4  POLYGON ((131.37500 37.12500, 131.62500 37.125...  37.125_131.375   \n",
       "\n",
       "   index_right_b  index_a  latitude_a  longitude_a      to_a  \\\n",
       "0              0       41   36.875000   131.375000 12.331250   \n",
       "1              0       42   36.875000   131.625000 12.436749   \n",
       "2              0       43   36.875000   131.875000 12.379499   \n",
       "3              0       44   36.875000   132.125000 12.391624   \n",
       "4              0       53   37.125000   131.375000 12.276125   \n",
       "\n",
       "                                          geometry_a  index_right_a  \n",
       "0  POLYGON ((131.37500 36.87500, 131.62500 36.875...              0  \n",
       "1  POLYGON ((131.62500 36.87500, 131.87500 36.875...              0  \n",
       "2  POLYGON ((131.87500 36.87500, 132.12500 36.875...              0  \n",
       "3  POLYGON ((132.12500 36.87500, 132.37500 36.875...              0  \n",
       "4  POLYGON ((131.37500 37.12500, 131.62500 37.125...              0  "
      ]
     },
     "execution_count": 25,
     "metadata": {},
     "output_type": "execute_result"
    }
   ],
   "source": [
    "merged_df.head()"
   ]
  },
  {
   "cell_type": "code",
   "execution_count": 26,
   "metadata": {},
   "outputs": [
    {
     "name": "stdout",
     "output_type": "stream",
     "text": [
      "           lat_lon  growth_rate\n",
      "0   36.875_131.375     4.514307\n",
      "1   36.875_131.625     4.825415\n",
      "2   36.875_131.875     4.836610\n",
      "3   36.875_132.125     7.274026\n",
      "4   37.125_131.375     4.053701\n",
      "5   37.125_131.625     2.336437\n",
      "6   37.125_131.875     1.334160\n",
      "7   37.125_132.125     5.205496\n",
      "8   37.375_131.375     5.051651\n",
      "9   37.375_131.625     3.266130\n",
      "10  37.375_131.875     3.074442\n",
      "11  37.375_132.125     6.614692\n"
     ]
    }
   ],
   "source": [
    "# 증감률 계산: [(이후 데이터의 값 - 이전 데이터의 값) / 이전 데이터의 값] * 100\n",
    "merged_df['growth_rate'] = ((merged_df['to_a'] - merged_df['to_b']) / merged_df['to_b']) * 100\n",
    "print(merged_df[['lat_lon', 'growth_rate']])"
   ]
  },
  {
   "cell_type": "code",
   "execution_count": 27,
   "metadata": {},
   "outputs": [
    {
     "data": {
      "text/html": [
       "<div>\n",
       "<style scoped>\n",
       "    .dataframe tbody tr th:only-of-type {\n",
       "        vertical-align: middle;\n",
       "    }\n",
       "\n",
       "    .dataframe tbody tr th {\n",
       "        vertical-align: top;\n",
       "    }\n",
       "\n",
       "    .dataframe thead th {\n",
       "        text-align: right;\n",
       "    }\n",
       "</style>\n",
       "<table border=\"1\" class=\"dataframe\">\n",
       "  <thead>\n",
       "    <tr style=\"text-align: right;\">\n",
       "      <th></th>\n",
       "      <th>index_b</th>\n",
       "      <th>latitude_b</th>\n",
       "      <th>longitude_b</th>\n",
       "      <th>to_b</th>\n",
       "      <th>geometry_b</th>\n",
       "      <th>lat_lon</th>\n",
       "      <th>index_right_b</th>\n",
       "      <th>index_a</th>\n",
       "      <th>latitude_a</th>\n",
       "      <th>longitude_a</th>\n",
       "      <th>to_a</th>\n",
       "      <th>geometry_a</th>\n",
       "      <th>index_right_a</th>\n",
       "      <th>growth_rate</th>\n",
       "    </tr>\n",
       "  </thead>\n",
       "  <tbody>\n",
       "    <tr>\n",
       "      <th>3</th>\n",
       "      <td>44</td>\n",
       "      <td>36.875000</td>\n",
       "      <td>132.125000</td>\n",
       "      <td>11.551374</td>\n",
       "      <td>POLYGON ((132.12500 36.87500, 132.37500 36.875...</td>\n",
       "      <td>36.875_132.125</td>\n",
       "      <td>0</td>\n",
       "      <td>44</td>\n",
       "      <td>36.875000</td>\n",
       "      <td>132.125000</td>\n",
       "      <td>12.391624</td>\n",
       "      <td>POLYGON ((132.12500 36.87500, 132.37500 36.875...</td>\n",
       "      <td>0</td>\n",
       "      <td>7.274026</td>\n",
       "    </tr>\n",
       "    <tr>\n",
       "      <th>11</th>\n",
       "      <td>68</td>\n",
       "      <td>37.375000</td>\n",
       "      <td>132.125000</td>\n",
       "      <td>11.593500</td>\n",
       "      <td>POLYGON ((132.12500 37.37500, 132.37500 37.375...</td>\n",
       "      <td>37.375_132.125</td>\n",
       "      <td>0</td>\n",
       "      <td>68</td>\n",
       "      <td>37.375000</td>\n",
       "      <td>132.125000</td>\n",
       "      <td>12.360374</td>\n",
       "      <td>POLYGON ((132.12500 37.37500, 132.37500 37.375...</td>\n",
       "      <td>0</td>\n",
       "      <td>6.614692</td>\n",
       "    </tr>\n",
       "    <tr>\n",
       "      <th>7</th>\n",
       "      <td>56</td>\n",
       "      <td>37.125000</td>\n",
       "      <td>132.125000</td>\n",
       "      <td>11.831249</td>\n",
       "      <td>POLYGON ((132.12500 37.12500, 132.37500 37.125...</td>\n",
       "      <td>37.125_132.125</td>\n",
       "      <td>0</td>\n",
       "      <td>56</td>\n",
       "      <td>37.125000</td>\n",
       "      <td>132.125000</td>\n",
       "      <td>12.447124</td>\n",
       "      <td>POLYGON ((132.12500 37.12500, 132.37500 37.125...</td>\n",
       "      <td>0</td>\n",
       "      <td>5.205496</td>\n",
       "    </tr>\n",
       "    <tr>\n",
       "      <th>8</th>\n",
       "      <td>65</td>\n",
       "      <td>37.375000</td>\n",
       "      <td>131.375000</td>\n",
       "      <td>11.580375</td>\n",
       "      <td>POLYGON ((131.37500 37.37500, 131.62500 37.375...</td>\n",
       "      <td>37.375_131.375</td>\n",
       "      <td>0</td>\n",
       "      <td>65</td>\n",
       "      <td>37.375000</td>\n",
       "      <td>131.375000</td>\n",
       "      <td>12.165375</td>\n",
       "      <td>POLYGON ((131.37500 37.37500, 131.62500 37.375...</td>\n",
       "      <td>0</td>\n",
       "      <td>5.051651</td>\n",
       "    </tr>\n",
       "    <tr>\n",
       "      <th>2</th>\n",
       "      <td>43</td>\n",
       "      <td>36.875000</td>\n",
       "      <td>131.875000</td>\n",
       "      <td>11.808374</td>\n",
       "      <td>POLYGON ((131.87500 36.87500, 132.12500 36.875...</td>\n",
       "      <td>36.875_131.875</td>\n",
       "      <td>0</td>\n",
       "      <td>43</td>\n",
       "      <td>36.875000</td>\n",
       "      <td>131.875000</td>\n",
       "      <td>12.379499</td>\n",
       "      <td>POLYGON ((131.87500 36.87500, 132.12500 36.875...</td>\n",
       "      <td>0</td>\n",
       "      <td>4.836610</td>\n",
       "    </tr>\n",
       "  </tbody>\n",
       "</table>\n",
       "</div>"
      ],
      "text/plain": [
       "    index_b  latitude_b  longitude_b      to_b  \\\n",
       "3        44   36.875000   132.125000 11.551374   \n",
       "11       68   37.375000   132.125000 11.593500   \n",
       "7        56   37.125000   132.125000 11.831249   \n",
       "8        65   37.375000   131.375000 11.580375   \n",
       "2        43   36.875000   131.875000 11.808374   \n",
       "\n",
       "                                           geometry_b         lat_lon  \\\n",
       "3   POLYGON ((132.12500 36.87500, 132.37500 36.875...  36.875_132.125   \n",
       "11  POLYGON ((132.12500 37.37500, 132.37500 37.375...  37.375_132.125   \n",
       "7   POLYGON ((132.12500 37.12500, 132.37500 37.125...  37.125_132.125   \n",
       "8   POLYGON ((131.37500 37.37500, 131.62500 37.375...  37.375_131.375   \n",
       "2   POLYGON ((131.87500 36.87500, 132.12500 36.875...  36.875_131.875   \n",
       "\n",
       "    index_right_b  index_a  latitude_a  longitude_a      to_a  \\\n",
       "3               0       44   36.875000   132.125000 12.391624   \n",
       "11              0       68   37.375000   132.125000 12.360374   \n",
       "7               0       56   37.125000   132.125000 12.447124   \n",
       "8               0       65   37.375000   131.375000 12.165375   \n",
       "2               0       43   36.875000   131.875000 12.379499   \n",
       "\n",
       "                                           geometry_a  index_right_a  \\\n",
       "3   POLYGON ((132.12500 36.87500, 132.37500 36.875...              0   \n",
       "11  POLYGON ((132.12500 37.37500, 132.37500 37.375...              0   \n",
       "7   POLYGON ((132.12500 37.12500, 132.37500 37.125...              0   \n",
       "8   POLYGON ((131.37500 37.37500, 131.62500 37.375...              0   \n",
       "2   POLYGON ((131.87500 36.87500, 132.12500 36.875...              0   \n",
       "\n",
       "    growth_rate  \n",
       "3      7.274026  \n",
       "11     6.614692  \n",
       "7      5.205496  \n",
       "8      5.051651  \n",
       "2      4.836610  "
      ]
     },
     "execution_count": 27,
     "metadata": {},
     "output_type": "execute_result"
    }
   ],
   "source": [
    "# 증감률을 내림차순으로 정렬\n",
    "merged_df2 = merged_df.sort_values(by='growth_rate', ascending=False)\n",
    "merged_df2.head()"
   ]
  },
  {
   "cell_type": "code",
   "execution_count": 28,
   "metadata": {},
   "outputs": [
    {
     "data": {
      "application/vnd.plotly.v1+json": {
       "config": {
        "plotlyServerURL": "https://plot.ly"
       },
       "data": [
        {
         "alignmentgroup": "True",
         "hovertemplate": "lat_lon=%{x}<br>growth_rate=%{y}<extra></extra>",
         "legendgroup": "",
         "marker": {
          "color": "#636efa",
          "pattern": {
           "shape": ""
          }
         },
         "name": "",
         "offsetgroup": "",
         "orientation": "v",
         "showlegend": false,
         "textposition": "auto",
         "type": "bar",
         "x": [
          "36.875_132.125",
          "37.375_132.125",
          "37.125_132.125",
          "37.375_131.375",
          "36.875_131.875",
          "36.875_131.625",
          "36.875_131.375",
          "37.125_131.375",
          "37.375_131.625",
          "37.375_131.875",
          "37.125_131.625",
          "37.125_131.875"
         ],
         "xaxis": "x",
         "y": [
          7.274026393890381,
          6.614691734313965,
          5.205496311187744,
          5.051650524139404,
          4.836609840393066,
          4.825414657592773,
          4.514307498931885,
          4.053700923919678,
          3.266129732131958,
          3.074442148208618,
          2.336437225341797,
          1.334160327911377
         ],
         "yaxis": "y"
        }
       ],
       "layout": {
        "barmode": "relative",
        "legend": {
         "tracegroupgap": 0
        },
        "template": {
         "data": {
          "bar": [
           {
            "error_x": {
             "color": "#2a3f5f"
            },
            "error_y": {
             "color": "#2a3f5f"
            },
            "marker": {
             "line": {
              "color": "#E5ECF6",
              "width": 0.5
             },
             "pattern": {
              "fillmode": "overlay",
              "size": 10,
              "solidity": 0.2
             }
            },
            "type": "bar"
           }
          ],
          "barpolar": [
           {
            "marker": {
             "line": {
              "color": "#E5ECF6",
              "width": 0.5
             },
             "pattern": {
              "fillmode": "overlay",
              "size": 10,
              "solidity": 0.2
             }
            },
            "type": "barpolar"
           }
          ],
          "carpet": [
           {
            "aaxis": {
             "endlinecolor": "#2a3f5f",
             "gridcolor": "white",
             "linecolor": "white",
             "minorgridcolor": "white",
             "startlinecolor": "#2a3f5f"
            },
            "baxis": {
             "endlinecolor": "#2a3f5f",
             "gridcolor": "white",
             "linecolor": "white",
             "minorgridcolor": "white",
             "startlinecolor": "#2a3f5f"
            },
            "type": "carpet"
           }
          ],
          "choropleth": [
           {
            "colorbar": {
             "outlinewidth": 0,
             "ticks": ""
            },
            "type": "choropleth"
           }
          ],
          "contour": [
           {
            "colorbar": {
             "outlinewidth": 0,
             "ticks": ""
            },
            "colorscale": [
             [
              0,
              "#0d0887"
             ],
             [
              0.1111111111111111,
              "#46039f"
             ],
             [
              0.2222222222222222,
              "#7201a8"
             ],
             [
              0.3333333333333333,
              "#9c179e"
             ],
             [
              0.4444444444444444,
              "#bd3786"
             ],
             [
              0.5555555555555556,
              "#d8576b"
             ],
             [
              0.6666666666666666,
              "#ed7953"
             ],
             [
              0.7777777777777778,
              "#fb9f3a"
             ],
             [
              0.8888888888888888,
              "#fdca26"
             ],
             [
              1,
              "#f0f921"
             ]
            ],
            "type": "contour"
           }
          ],
          "contourcarpet": [
           {
            "colorbar": {
             "outlinewidth": 0,
             "ticks": ""
            },
            "type": "contourcarpet"
           }
          ],
          "heatmap": [
           {
            "colorbar": {
             "outlinewidth": 0,
             "ticks": ""
            },
            "colorscale": [
             [
              0,
              "#0d0887"
             ],
             [
              0.1111111111111111,
              "#46039f"
             ],
             [
              0.2222222222222222,
              "#7201a8"
             ],
             [
              0.3333333333333333,
              "#9c179e"
             ],
             [
              0.4444444444444444,
              "#bd3786"
             ],
             [
              0.5555555555555556,
              "#d8576b"
             ],
             [
              0.6666666666666666,
              "#ed7953"
             ],
             [
              0.7777777777777778,
              "#fb9f3a"
             ],
             [
              0.8888888888888888,
              "#fdca26"
             ],
             [
              1,
              "#f0f921"
             ]
            ],
            "type": "heatmap"
           }
          ],
          "heatmapgl": [
           {
            "colorbar": {
             "outlinewidth": 0,
             "ticks": ""
            },
            "colorscale": [
             [
              0,
              "#0d0887"
             ],
             [
              0.1111111111111111,
              "#46039f"
             ],
             [
              0.2222222222222222,
              "#7201a8"
             ],
             [
              0.3333333333333333,
              "#9c179e"
             ],
             [
              0.4444444444444444,
              "#bd3786"
             ],
             [
              0.5555555555555556,
              "#d8576b"
             ],
             [
              0.6666666666666666,
              "#ed7953"
             ],
             [
              0.7777777777777778,
              "#fb9f3a"
             ],
             [
              0.8888888888888888,
              "#fdca26"
             ],
             [
              1,
              "#f0f921"
             ]
            ],
            "type": "heatmapgl"
           }
          ],
          "histogram": [
           {
            "marker": {
             "pattern": {
              "fillmode": "overlay",
              "size": 10,
              "solidity": 0.2
             }
            },
            "type": "histogram"
           }
          ],
          "histogram2d": [
           {
            "colorbar": {
             "outlinewidth": 0,
             "ticks": ""
            },
            "colorscale": [
             [
              0,
              "#0d0887"
             ],
             [
              0.1111111111111111,
              "#46039f"
             ],
             [
              0.2222222222222222,
              "#7201a8"
             ],
             [
              0.3333333333333333,
              "#9c179e"
             ],
             [
              0.4444444444444444,
              "#bd3786"
             ],
             [
              0.5555555555555556,
              "#d8576b"
             ],
             [
              0.6666666666666666,
              "#ed7953"
             ],
             [
              0.7777777777777778,
              "#fb9f3a"
             ],
             [
              0.8888888888888888,
              "#fdca26"
             ],
             [
              1,
              "#f0f921"
             ]
            ],
            "type": "histogram2d"
           }
          ],
          "histogram2dcontour": [
           {
            "colorbar": {
             "outlinewidth": 0,
             "ticks": ""
            },
            "colorscale": [
             [
              0,
              "#0d0887"
             ],
             [
              0.1111111111111111,
              "#46039f"
             ],
             [
              0.2222222222222222,
              "#7201a8"
             ],
             [
              0.3333333333333333,
              "#9c179e"
             ],
             [
              0.4444444444444444,
              "#bd3786"
             ],
             [
              0.5555555555555556,
              "#d8576b"
             ],
             [
              0.6666666666666666,
              "#ed7953"
             ],
             [
              0.7777777777777778,
              "#fb9f3a"
             ],
             [
              0.8888888888888888,
              "#fdca26"
             ],
             [
              1,
              "#f0f921"
             ]
            ],
            "type": "histogram2dcontour"
           }
          ],
          "mesh3d": [
           {
            "colorbar": {
             "outlinewidth": 0,
             "ticks": ""
            },
            "type": "mesh3d"
           }
          ],
          "parcoords": [
           {
            "line": {
             "colorbar": {
              "outlinewidth": 0,
              "ticks": ""
             }
            },
            "type": "parcoords"
           }
          ],
          "pie": [
           {
            "automargin": true,
            "type": "pie"
           }
          ],
          "scatter": [
           {
            "fillpattern": {
             "fillmode": "overlay",
             "size": 10,
             "solidity": 0.2
            },
            "type": "scatter"
           }
          ],
          "scatter3d": [
           {
            "line": {
             "colorbar": {
              "outlinewidth": 0,
              "ticks": ""
             }
            },
            "marker": {
             "colorbar": {
              "outlinewidth": 0,
              "ticks": ""
             }
            },
            "type": "scatter3d"
           }
          ],
          "scattercarpet": [
           {
            "marker": {
             "colorbar": {
              "outlinewidth": 0,
              "ticks": ""
             }
            },
            "type": "scattercarpet"
           }
          ],
          "scattergeo": [
           {
            "marker": {
             "colorbar": {
              "outlinewidth": 0,
              "ticks": ""
             }
            },
            "type": "scattergeo"
           }
          ],
          "scattergl": [
           {
            "marker": {
             "colorbar": {
              "outlinewidth": 0,
              "ticks": ""
             }
            },
            "type": "scattergl"
           }
          ],
          "scattermapbox": [
           {
            "marker": {
             "colorbar": {
              "outlinewidth": 0,
              "ticks": ""
             }
            },
            "type": "scattermapbox"
           }
          ],
          "scatterpolar": [
           {
            "marker": {
             "colorbar": {
              "outlinewidth": 0,
              "ticks": ""
             }
            },
            "type": "scatterpolar"
           }
          ],
          "scatterpolargl": [
           {
            "marker": {
             "colorbar": {
              "outlinewidth": 0,
              "ticks": ""
             }
            },
            "type": "scatterpolargl"
           }
          ],
          "scatterternary": [
           {
            "marker": {
             "colorbar": {
              "outlinewidth": 0,
              "ticks": ""
             }
            },
            "type": "scatterternary"
           }
          ],
          "surface": [
           {
            "colorbar": {
             "outlinewidth": 0,
             "ticks": ""
            },
            "colorscale": [
             [
              0,
              "#0d0887"
             ],
             [
              0.1111111111111111,
              "#46039f"
             ],
             [
              0.2222222222222222,
              "#7201a8"
             ],
             [
              0.3333333333333333,
              "#9c179e"
             ],
             [
              0.4444444444444444,
              "#bd3786"
             ],
             [
              0.5555555555555556,
              "#d8576b"
             ],
             [
              0.6666666666666666,
              "#ed7953"
             ],
             [
              0.7777777777777778,
              "#fb9f3a"
             ],
             [
              0.8888888888888888,
              "#fdca26"
             ],
             [
              1,
              "#f0f921"
             ]
            ],
            "type": "surface"
           }
          ],
          "table": [
           {
            "cells": {
             "fill": {
              "color": "#EBF0F8"
             },
             "line": {
              "color": "white"
             }
            },
            "header": {
             "fill": {
              "color": "#C8D4E3"
             },
             "line": {
              "color": "white"
             }
            },
            "type": "table"
           }
          ]
         },
         "layout": {
          "annotationdefaults": {
           "arrowcolor": "#2a3f5f",
           "arrowhead": 0,
           "arrowwidth": 1
          },
          "autotypenumbers": "strict",
          "coloraxis": {
           "colorbar": {
            "outlinewidth": 0,
            "ticks": ""
           }
          },
          "colorscale": {
           "diverging": [
            [
             0,
             "#8e0152"
            ],
            [
             0.1,
             "#c51b7d"
            ],
            [
             0.2,
             "#de77ae"
            ],
            [
             0.3,
             "#f1b6da"
            ],
            [
             0.4,
             "#fde0ef"
            ],
            [
             0.5,
             "#f7f7f7"
            ],
            [
             0.6,
             "#e6f5d0"
            ],
            [
             0.7,
             "#b8e186"
            ],
            [
             0.8,
             "#7fbc41"
            ],
            [
             0.9,
             "#4d9221"
            ],
            [
             1,
             "#276419"
            ]
           ],
           "sequential": [
            [
             0,
             "#0d0887"
            ],
            [
             0.1111111111111111,
             "#46039f"
            ],
            [
             0.2222222222222222,
             "#7201a8"
            ],
            [
             0.3333333333333333,
             "#9c179e"
            ],
            [
             0.4444444444444444,
             "#bd3786"
            ],
            [
             0.5555555555555556,
             "#d8576b"
            ],
            [
             0.6666666666666666,
             "#ed7953"
            ],
            [
             0.7777777777777778,
             "#fb9f3a"
            ],
            [
             0.8888888888888888,
             "#fdca26"
            ],
            [
             1,
             "#f0f921"
            ]
           ],
           "sequentialminus": [
            [
             0,
             "#0d0887"
            ],
            [
             0.1111111111111111,
             "#46039f"
            ],
            [
             0.2222222222222222,
             "#7201a8"
            ],
            [
             0.3333333333333333,
             "#9c179e"
            ],
            [
             0.4444444444444444,
             "#bd3786"
            ],
            [
             0.5555555555555556,
             "#d8576b"
            ],
            [
             0.6666666666666666,
             "#ed7953"
            ],
            [
             0.7777777777777778,
             "#fb9f3a"
            ],
            [
             0.8888888888888888,
             "#fdca26"
            ],
            [
             1,
             "#f0f921"
            ]
           ]
          },
          "colorway": [
           "#636efa",
           "#EF553B",
           "#00cc96",
           "#ab63fa",
           "#FFA15A",
           "#19d3f3",
           "#FF6692",
           "#B6E880",
           "#FF97FF",
           "#FECB52"
          ],
          "font": {
           "color": "#2a3f5f"
          },
          "geo": {
           "bgcolor": "white",
           "lakecolor": "white",
           "landcolor": "#E5ECF6",
           "showlakes": true,
           "showland": true,
           "subunitcolor": "white"
          },
          "hoverlabel": {
           "align": "left"
          },
          "hovermode": "closest",
          "mapbox": {
           "style": "light"
          },
          "paper_bgcolor": "white",
          "plot_bgcolor": "#E5ECF6",
          "polar": {
           "angularaxis": {
            "gridcolor": "white",
            "linecolor": "white",
            "ticks": ""
           },
           "bgcolor": "#E5ECF6",
           "radialaxis": {
            "gridcolor": "white",
            "linecolor": "white",
            "ticks": ""
           }
          },
          "scene": {
           "xaxis": {
            "backgroundcolor": "#E5ECF6",
            "gridcolor": "white",
            "gridwidth": 2,
            "linecolor": "white",
            "showbackground": true,
            "ticks": "",
            "zerolinecolor": "white"
           },
           "yaxis": {
            "backgroundcolor": "#E5ECF6",
            "gridcolor": "white",
            "gridwidth": 2,
            "linecolor": "white",
            "showbackground": true,
            "ticks": "",
            "zerolinecolor": "white"
           },
           "zaxis": {
            "backgroundcolor": "#E5ECF6",
            "gridcolor": "white",
            "gridwidth": 2,
            "linecolor": "white",
            "showbackground": true,
            "ticks": "",
            "zerolinecolor": "white"
           }
          },
          "shapedefaults": {
           "line": {
            "color": "#2a3f5f"
           }
          },
          "ternary": {
           "aaxis": {
            "gridcolor": "white",
            "linecolor": "white",
            "ticks": ""
           },
           "baxis": {
            "gridcolor": "white",
            "linecolor": "white",
            "ticks": ""
           },
           "bgcolor": "#E5ECF6",
           "caxis": {
            "gridcolor": "white",
            "linecolor": "white",
            "ticks": ""
           }
          },
          "title": {
           "x": 0.05
          },
          "xaxis": {
           "automargin": true,
           "gridcolor": "white",
           "linecolor": "white",
           "ticks": "",
           "title": {
            "standoff": 15
           },
           "zerolinecolor": "white",
           "zerolinewidth": 2
          },
          "yaxis": {
           "automargin": true,
           "gridcolor": "white",
           "linecolor": "white",
           "ticks": "",
           "title": {
            "standoff": 15
           },
           "zerolinecolor": "white",
           "zerolinewidth": 2
          }
         }
        },
        "title": {
         "text": "2016~2018년과 2019~2021년의 1~3월 평균 수온 증감률"
        },
        "xaxis": {
         "anchor": "y",
         "domain": [
          0,
          1
         ],
         "title": {
          "text": "격자(위도_경도)"
         }
        },
        "yaxis": {
         "anchor": "x",
         "domain": [
          0,
          1
         ],
         "title": {
          "text": "증감률"
         }
        }
       }
      }
     },
     "metadata": {},
     "output_type": "display_data"
    }
   ],
   "source": [
    "# Plotly 막대 차트를 그립니다\n",
    "fig = px.bar(merged_df2, x='lat_lon', y='growth_rate', title='2016~2018년과 2019~2021년의 1~3월 평균 수온 증감률')\n",
    "\n",
    "# x축과 y축의 제목을 설정합니다.\n",
    "fig.update_layout(\n",
    "    xaxis_title=\"격자(위도_경도)\",\n",
    "    yaxis_title=\"증감률\",\n",
    ")\n",
    "\n",
    "fig.show()"
   ]
  },
  {
   "attachments": {},
   "cell_type": "markdown",
   "metadata": {},
   "source": [
    "### 지도 시각화"
   ]
  },
  {
   "cell_type": "code",
   "execution_count": 29,
   "metadata": {},
   "outputs": [],
   "source": [
    "# 증감률 데이터에서 필요한 항목만 추출\n",
    "merged_df3 = merged_df2[['lat_lon', 'growth_rate']]"
   ]
  },
  {
   "cell_type": "code",
   "execution_count": 30,
   "metadata": {},
   "outputs": [],
   "source": [
    "# 공간(격자)데이터와 증감률 데이터를 속성조인\n",
    "gdf_growth = pd.merge(gdf_after2, merged_df3, on='lat_lon', how='inner')"
   ]
  },
  {
   "cell_type": "code",
   "execution_count": 31,
   "metadata": {},
   "outputs": [
    {
     "name": "stderr",
     "output_type": "stream",
     "text": [
      "c:\\Users\\leesh\\AppData\\Local\\Programs\\Python\\Python311\\Lib\\site-packages\\geopandas\\explore.py:400: FutureWarning:\n",
      "\n",
      "is_categorical_dtype is deprecated and will be removed in a future version. Use isinstance(dtype, CategoricalDtype) instead\n",
      "\n"
     ]
    },
    {
     "data": {
      "text/html": [
       "<div style=\"width:100%;\"><div style=\"position:relative;width:100%;height:0;padding-bottom:60%;\"><span style=\"color:#565656\">Make this Notebook Trusted to load map: File -> Trust Notebook</span><iframe srcdoc=\"&lt;!DOCTYPE html&gt;\n",
       "&lt;html&gt;\n",
       "&lt;head&gt;\n",
       "    \n",
       "    &lt;meta http-equiv=&quot;content-type&quot; content=&quot;text/html; charset=UTF-8&quot; /&gt;\n",
       "    \n",
       "        &lt;script&gt;\n",
       "            L_NO_TOUCH = false;\n",
       "            L_DISABLE_3D = false;\n",
       "        &lt;/script&gt;\n",
       "    \n",
       "    &lt;style&gt;html, body {width: 100%;height: 100%;margin: 0;padding: 0;}&lt;/style&gt;\n",
       "    &lt;style&gt;#map {position:absolute;top:0;bottom:0;right:0;left:0;}&lt;/style&gt;\n",
       "    &lt;script src=&quot;https://cdn.jsdelivr.net/npm/leaflet@1.9.3/dist/leaflet.js&quot;&gt;&lt;/script&gt;\n",
       "    &lt;script src=&quot;https://code.jquery.com/jquery-1.12.4.min.js&quot;&gt;&lt;/script&gt;\n",
       "    &lt;script src=&quot;https://cdn.jsdelivr.net/npm/bootstrap@5.2.2/dist/js/bootstrap.bundle.min.js&quot;&gt;&lt;/script&gt;\n",
       "    &lt;script src=&quot;https://cdnjs.cloudflare.com/ajax/libs/Leaflet.awesome-markers/2.0.2/leaflet.awesome-markers.js&quot;&gt;&lt;/script&gt;\n",
       "    &lt;link rel=&quot;stylesheet&quot; href=&quot;https://cdn.jsdelivr.net/npm/leaflet@1.9.3/dist/leaflet.css&quot;/&gt;\n",
       "    &lt;link rel=&quot;stylesheet&quot; href=&quot;https://cdn.jsdelivr.net/npm/bootstrap@5.2.2/dist/css/bootstrap.min.css&quot;/&gt;\n",
       "    &lt;link rel=&quot;stylesheet&quot; href=&quot;https://netdna.bootstrapcdn.com/bootstrap/3.0.0/css/bootstrap.min.css&quot;/&gt;\n",
       "    &lt;link rel=&quot;stylesheet&quot; href=&quot;https://cdn.jsdelivr.net/npm/@fortawesome/fontawesome-free@6.2.0/css/all.min.css&quot;/&gt;\n",
       "    &lt;link rel=&quot;stylesheet&quot; href=&quot;https://cdnjs.cloudflare.com/ajax/libs/Leaflet.awesome-markers/2.0.2/leaflet.awesome-markers.css&quot;/&gt;\n",
       "    &lt;link rel=&quot;stylesheet&quot; href=&quot;https://cdn.jsdelivr.net/gh/python-visualization/folium/folium/templates/leaflet.awesome.rotate.min.css&quot;/&gt;\n",
       "    \n",
       "            &lt;meta name=&quot;viewport&quot; content=&quot;width=device-width,\n",
       "                initial-scale=1.0, maximum-scale=1.0, user-scalable=no&quot; /&gt;\n",
       "            &lt;style&gt;\n",
       "                #map_70733a592a3627880ce95399034b19a2 {\n",
       "                    position: relative;\n",
       "                    width: 100.0%;\n",
       "                    height: 100.0%;\n",
       "                    left: 0.0%;\n",
       "                    top: 0.0%;\n",
       "                }\n",
       "                .leaflet-container { font-size: 1rem; }\n",
       "            &lt;/style&gt;\n",
       "        \n",
       "    \n",
       "                    &lt;style&gt;\n",
       "                        .foliumtooltip {\n",
       "                            \n",
       "                        }\n",
       "                       .foliumtooltip table{\n",
       "                            margin: auto;\n",
       "                        }\n",
       "                        .foliumtooltip tr{\n",
       "                            text-align: left;\n",
       "                        }\n",
       "                        .foliumtooltip th{\n",
       "                            padding: 2px; padding-right: 8px;\n",
       "                        }\n",
       "                    &lt;/style&gt;\n",
       "            \n",
       "    &lt;script src=&quot;https://cdnjs.cloudflare.com/ajax/libs/d3/3.5.5/d3.min.js&quot;&gt;&lt;/script&gt;\n",
       "&lt;/head&gt;\n",
       "&lt;body&gt;\n",
       "    \n",
       "    \n",
       "            &lt;div class=&quot;folium-map&quot; id=&quot;map_70733a592a3627880ce95399034b19a2&quot; &gt;&lt;/div&gt;\n",
       "        \n",
       "&lt;/body&gt;\n",
       "&lt;script&gt;\n",
       "    \n",
       "    \n",
       "            var map_70733a592a3627880ce95399034b19a2 = L.map(\n",
       "                &quot;map_70733a592a3627880ce95399034b19a2&quot;,\n",
       "                {\n",
       "                    center: [37.25, 131.875],\n",
       "                    crs: L.CRS.EPSG3857,\n",
       "                    zoom: 10,\n",
       "                    zoomControl: true,\n",
       "                    preferCanvas: false,\n",
       "                }\n",
       "            );\n",
       "            L.control.scale().addTo(map_70733a592a3627880ce95399034b19a2);\n",
       "\n",
       "            \n",
       "\n",
       "        \n",
       "    \n",
       "            var tile_layer_e23d4fd14e2fcd96db4174cca5e41ea7 = L.tileLayer(\n",
       "                &quot;http://xdworld.vworld.kr:8080/2d/gray/service/{z}/{x}/{y}.png&quot;,\n",
       "                {&quot;attribution&quot;: &quot;\\ube0c\\uc774\\uc6d4\\ub4dc&quot;, &quot;detectRetina&quot;: false, &quot;maxNativeZoom&quot;: 18, &quot;maxZoom&quot;: 18, &quot;minZoom&quot;: 0, &quot;noWrap&quot;: false, &quot;opacity&quot;: 1, &quot;subdomains&quot;: &quot;abc&quot;, &quot;tms&quot;: false}\n",
       "            ).addTo(map_70733a592a3627880ce95399034b19a2);\n",
       "        \n",
       "    \n",
       "            map_70733a592a3627880ce95399034b19a2.fitBounds(\n",
       "                [[36.875, 131.375], [37.625, 132.375]],\n",
       "                {}\n",
       "            );\n",
       "        \n",
       "    \n",
       "        function geo_json_bd5c000719a7c0ba54b7a0a19a41e2b7_styler(feature) {\n",
       "            switch(feature.id) {\n",
       "                case &quot;0&quot;: \n",
       "                    return {&quot;color&quot;: &quot;#f9ede5&quot;, &quot;fillColor&quot;: &quot;#f9ede5&quot;, &quot;fillOpacity&quot;: 0.5, &quot;weight&quot;: 2};\n",
       "                case &quot;3&quot;: \n",
       "                    return {&quot;color&quot;: &quot;#67001f&quot;, &quot;fillColor&quot;: &quot;#67001f&quot;, &quot;fillOpacity&quot;: 0.5, &quot;weight&quot;: 2};\n",
       "                case &quot;4&quot;: \n",
       "                    return {&quot;color&quot;: &quot;#e7f0f4&quot;, &quot;fillColor&quot;: &quot;#e7f0f4&quot;, &quot;fillOpacity&quot;: 0.5, &quot;weight&quot;: 2};\n",
       "                case &quot;5&quot;: \n",
       "                    return {&quot;color&quot;: &quot;#3885bc&quot;, &quot;fillColor&quot;: &quot;#3885bc&quot;, &quot;fillOpacity&quot;: 0.5, &quot;weight&quot;: 2};\n",
       "                case &quot;6&quot;: \n",
       "                    return {&quot;color&quot;: &quot;#053061&quot;, &quot;fillColor&quot;: &quot;#053061&quot;, &quot;fillOpacity&quot;: 0.5, &quot;weight&quot;: 2};\n",
       "                case &quot;7&quot;: \n",
       "                    return {&quot;color&quot;: &quot;#f8bfa4&quot;, &quot;fillColor&quot;: &quot;#f8bfa4&quot;, &quot;fillOpacity&quot;: 0.5, &quot;weight&quot;: 2};\n",
       "                case &quot;8&quot;: \n",
       "                    return {&quot;color&quot;: &quot;#fbccb4&quot;, &quot;fillColor&quot;: &quot;#fbccb4&quot;, &quot;fillOpacity&quot;: 0.5, &quot;weight&quot;: 2};\n",
       "                case &quot;9&quot;: \n",
       "                    return {&quot;color&quot;: &quot;#a2cde3&quot;, &quot;fillColor&quot;: &quot;#a2cde3&quot;, &quot;fillOpacity&quot;: 0.5, &quot;weight&quot;: 2};\n",
       "                case &quot;10&quot;: \n",
       "                    return {&quot;color&quot;: &quot;#8dc2dc&quot;, &quot;fillColor&quot;: &quot;#8dc2dc&quot;, &quot;fillOpacity&quot;: 0.5, &quot;weight&quot;: 2};\n",
       "                case &quot;11&quot;: \n",
       "                    return {&quot;color&quot;: &quot;#b61f2e&quot;, &quot;fillColor&quot;: &quot;#b61f2e&quot;, &quot;fillOpacity&quot;: 0.5, &quot;weight&quot;: 2};\n",
       "                default:\n",
       "                    return {&quot;color&quot;: &quot;#fcdecd&quot;, &quot;fillColor&quot;: &quot;#fcdecd&quot;, &quot;fillOpacity&quot;: 0.5, &quot;weight&quot;: 2};\n",
       "            }\n",
       "        }\n",
       "        function geo_json_bd5c000719a7c0ba54b7a0a19a41e2b7_highlighter(feature) {\n",
       "            switch(feature.id) {\n",
       "                default:\n",
       "                    return {&quot;fillOpacity&quot;: 0.75};\n",
       "            }\n",
       "        }\n",
       "        function geo_json_bd5c000719a7c0ba54b7a0a19a41e2b7_pointToLayer(feature, latlng) {\n",
       "            var opts = {&quot;bubblingMouseEvents&quot;: true, &quot;color&quot;: &quot;#3388ff&quot;, &quot;dashArray&quot;: null, &quot;dashOffset&quot;: null, &quot;fill&quot;: true, &quot;fillColor&quot;: &quot;#3388ff&quot;, &quot;fillOpacity&quot;: 0.2, &quot;fillRule&quot;: &quot;evenodd&quot;, &quot;lineCap&quot;: &quot;round&quot;, &quot;lineJoin&quot;: &quot;round&quot;, &quot;opacity&quot;: 1.0, &quot;radius&quot;: 2, &quot;stroke&quot;: true, &quot;weight&quot;: 3};\n",
       "            \n",
       "            let style = geo_json_bd5c000719a7c0ba54b7a0a19a41e2b7_styler(feature)\n",
       "            Object.assign(opts, style)\n",
       "            \n",
       "            return new L.CircleMarker(latlng, opts)\n",
       "        }\n",
       "\n",
       "        function geo_json_bd5c000719a7c0ba54b7a0a19a41e2b7_onEachFeature(feature, layer) {\n",
       "            layer.on({\n",
       "                mouseout: function(e) {\n",
       "                    if(typeof e.target.setStyle === &quot;function&quot;){\n",
       "                        geo_json_bd5c000719a7c0ba54b7a0a19a41e2b7.resetStyle(e.target);\n",
       "                    }\n",
       "                },\n",
       "                mouseover: function(e) {\n",
       "                    if(typeof e.target.setStyle === &quot;function&quot;){\n",
       "                        const highlightStyle = geo_json_bd5c000719a7c0ba54b7a0a19a41e2b7_highlighter(e.target.feature)\n",
       "                        e.target.setStyle(highlightStyle);\n",
       "                    }\n",
       "                },\n",
       "            });\n",
       "        };\n",
       "        var geo_json_bd5c000719a7c0ba54b7a0a19a41e2b7 = L.geoJson(null, {\n",
       "                onEachFeature: geo_json_bd5c000719a7c0ba54b7a0a19a41e2b7_onEachFeature,\n",
       "            \n",
       "                style: geo_json_bd5c000719a7c0ba54b7a0a19a41e2b7_styler,\n",
       "                pointToLayer: geo_json_bd5c000719a7c0ba54b7a0a19a41e2b7_pointToLayer\n",
       "        });\n",
       "\n",
       "        function geo_json_bd5c000719a7c0ba54b7a0a19a41e2b7_add (data) {\n",
       "            geo_json_bd5c000719a7c0ba54b7a0a19a41e2b7\n",
       "                .addData(data)\n",
       "                .addTo(map_70733a592a3627880ce95399034b19a2);\n",
       "        }\n",
       "            geo_json_bd5c000719a7c0ba54b7a0a19a41e2b7_add({&quot;bbox&quot;: [131.375, 36.875, 132.375, 37.625], &quot;features&quot;: [{&quot;bbox&quot;: [131.375, 36.875, 131.625, 37.125], &quot;geometry&quot;: {&quot;coordinates&quot;: [[[131.375, 36.875], [131.625, 36.875], [131.625, 37.125], [131.375, 37.125], [131.375, 36.875]]], &quot;type&quot;: &quot;Polygon&quot;}, &quot;id&quot;: &quot;0&quot;, &quot;properties&quot;: {&quot;__folium_color&quot;: &quot;#f9ede5&quot;, &quot;growth_rate&quot;: 4.514307498931885, &quot;index&quot;: 41, &quot;index_right&quot;: 0, &quot;lat_lon&quot;: &quot;36.875_131.375&quot;, &quot;latitude&quot;: 36.875, &quot;longitude&quot;: 131.375, &quot;to&quot;: 12.331250190734863}, &quot;type&quot;: &quot;Feature&quot;}, {&quot;bbox&quot;: [131.625, 36.875, 131.875, 37.125], &quot;geometry&quot;: {&quot;coordinates&quot;: [[[131.625, 36.875], [131.875, 36.875], [131.875, 37.125], [131.625, 37.125], [131.625, 36.875]]], &quot;type&quot;: &quot;Polygon&quot;}, &quot;id&quot;: &quot;1&quot;, &quot;properties&quot;: {&quot;__folium_color&quot;: &quot;#fcdecd&quot;, &quot;growth_rate&quot;: 4.825414657592773, &quot;index&quot;: 42, &quot;index_right&quot;: 0, &quot;lat_lon&quot;: &quot;36.875_131.625&quot;, &quot;latitude&quot;: 36.875, &quot;longitude&quot;: 131.625, &quot;to&quot;: 12.436749458312988}, &quot;type&quot;: &quot;Feature&quot;}, {&quot;bbox&quot;: [131.875, 36.875, 132.125, 37.125], &quot;geometry&quot;: {&quot;coordinates&quot;: [[[131.875, 36.875], [132.125, 36.875], [132.125, 37.125], [131.875, 37.125], [131.875, 36.875]]], &quot;type&quot;: &quot;Polygon&quot;}, &quot;id&quot;: &quot;2&quot;, &quot;properties&quot;: {&quot;__folium_color&quot;: &quot;#fcdecd&quot;, &quot;growth_rate&quot;: 4.836609840393066, &quot;index&quot;: 43, &quot;index_right&quot;: 0, &quot;lat_lon&quot;: &quot;36.875_131.875&quot;, &quot;latitude&quot;: 36.875, &quot;longitude&quot;: 131.875, &quot;to&quot;: 12.379499435424805}, &quot;type&quot;: &quot;Feature&quot;}, {&quot;bbox&quot;: [132.125, 36.875, 132.375, 37.125], &quot;geometry&quot;: {&quot;coordinates&quot;: [[[132.125, 36.875], [132.375, 36.875], [132.375, 37.125], [132.125, 37.125], [132.125, 36.875]]], &quot;type&quot;: &quot;Polygon&quot;}, &quot;id&quot;: &quot;3&quot;, &quot;properties&quot;: {&quot;__folium_color&quot;: &quot;#67001f&quot;, &quot;growth_rate&quot;: 7.274026393890381, &quot;index&quot;: 44, &quot;index_right&quot;: 0, &quot;lat_lon&quot;: &quot;36.875_132.125&quot;, &quot;latitude&quot;: 36.875, &quot;longitude&quot;: 132.125, &quot;to&quot;: 12.391624450683594}, &quot;type&quot;: &quot;Feature&quot;}, {&quot;bbox&quot;: [131.375, 37.125, 131.625, 37.375], &quot;geometry&quot;: {&quot;coordinates&quot;: [[[131.375, 37.125], [131.625, 37.125], [131.625, 37.375], [131.375, 37.375], [131.375, 37.125]]], &quot;type&quot;: &quot;Polygon&quot;}, &quot;id&quot;: &quot;4&quot;, &quot;properties&quot;: {&quot;__folium_color&quot;: &quot;#e7f0f4&quot;, &quot;growth_rate&quot;: 4.053700923919678, &quot;index&quot;: 53, &quot;index_right&quot;: 0, &quot;lat_lon&quot;: &quot;37.125_131.375&quot;, &quot;latitude&quot;: 37.125, &quot;longitude&quot;: 131.375, &quot;to&quot;: 12.276124954223633}, &quot;type&quot;: &quot;Feature&quot;}, {&quot;bbox&quot;: [131.625, 37.125, 131.875, 37.375], &quot;geometry&quot;: {&quot;coordinates&quot;: [[[131.625, 37.125], [131.875, 37.125], [131.875, 37.375], [131.625, 37.375], [131.625, 37.125]]], &quot;type&quot;: &quot;Polygon&quot;}, &quot;id&quot;: &quot;5&quot;, &quot;properties&quot;: {&quot;__folium_color&quot;: &quot;#3885bc&quot;, &quot;growth_rate&quot;: 2.336437225341797, &quot;index&quot;: 54, &quot;index_right&quot;: 0, &quot;lat_lon&quot;: &quot;37.125_131.625&quot;, &quot;latitude&quot;: 37.125, &quot;longitude&quot;: 131.625, &quot;to&quot;: 12.395500183105469}, &quot;type&quot;: &quot;Feature&quot;}, {&quot;bbox&quot;: [131.875, 37.125, 132.125, 37.375], &quot;geometry&quot;: {&quot;coordinates&quot;: [[[131.875, 37.125], [132.125, 37.125], [132.125, 37.375], [131.875, 37.375], [131.875, 37.125]]], &quot;type&quot;: &quot;Polygon&quot;}, &quot;id&quot;: &quot;6&quot;, &quot;properties&quot;: {&quot;__folium_color&quot;: &quot;#053061&quot;, &quot;growth_rate&quot;: 1.334160327911377, &quot;index&quot;: 55, &quot;index_right&quot;: 0, &quot;lat_lon&quot;: &quot;37.125_131.875&quot;, &quot;latitude&quot;: 37.125, &quot;longitude&quot;: 131.875, &quot;to&quot;: 12.427874565124512}, &quot;type&quot;: &quot;Feature&quot;}, {&quot;bbox&quot;: [132.125, 37.125, 132.375, 37.375], &quot;geometry&quot;: {&quot;coordinates&quot;: [[[132.125, 37.125], [132.375, 37.125], [132.375, 37.375], [132.125, 37.375], [132.125, 37.125]]], &quot;type&quot;: &quot;Polygon&quot;}, &quot;id&quot;: &quot;7&quot;, &quot;properties&quot;: {&quot;__folium_color&quot;: &quot;#f8bfa4&quot;, &quot;growth_rate&quot;: 5.205496311187744, &quot;index&quot;: 56, &quot;index_right&quot;: 0, &quot;lat_lon&quot;: &quot;37.125_132.125&quot;, &quot;latitude&quot;: 37.125, &quot;longitude&quot;: 132.125, &quot;to&quot;: 12.447124481201172}, &quot;type&quot;: &quot;Feature&quot;}, {&quot;bbox&quot;: [131.375, 37.375, 131.625, 37.625], &quot;geometry&quot;: {&quot;coordinates&quot;: [[[131.375, 37.375], [131.625, 37.375], [131.625, 37.625], [131.375, 37.625], [131.375, 37.375]]], &quot;type&quot;: &quot;Polygon&quot;}, &quot;id&quot;: &quot;8&quot;, &quot;properties&quot;: {&quot;__folium_color&quot;: &quot;#fbccb4&quot;, &quot;growth_rate&quot;: 5.051650524139404, &quot;index&quot;: 65, &quot;index_right&quot;: 0, &quot;lat_lon&quot;: &quot;37.375_131.375&quot;, &quot;latitude&quot;: 37.375, &quot;longitude&quot;: 131.375, &quot;to&quot;: 12.165374755859375}, &quot;type&quot;: &quot;Feature&quot;}, {&quot;bbox&quot;: [131.625, 37.375, 131.875, 37.625], &quot;geometry&quot;: {&quot;coordinates&quot;: [[[131.625, 37.375], [131.875, 37.375], [131.875, 37.625], [131.625, 37.625], [131.625, 37.375]]], &quot;type&quot;: &quot;Polygon&quot;}, &quot;id&quot;: &quot;9&quot;, &quot;properties&quot;: {&quot;__folium_color&quot;: &quot;#a2cde3&quot;, &quot;growth_rate&quot;: 3.266129732131958, &quot;index&quot;: 66, &quot;index_right&quot;: 0, &quot;lat_lon&quot;: &quot;37.375_131.625&quot;, &quot;latitude&quot;: 37.375, &quot;longitude&quot;: 131.625, &quot;to&quot;: 12.37024974822998}, &quot;type&quot;: &quot;Feature&quot;}, {&quot;bbox&quot;: [131.875, 37.375, 132.125, 37.625], &quot;geometry&quot;: {&quot;coordinates&quot;: [[[131.875, 37.375], [132.125, 37.375], [132.125, 37.625], [131.875, 37.625], [131.875, 37.375]]], &quot;type&quot;: &quot;Polygon&quot;}, &quot;id&quot;: &quot;10&quot;, &quot;properties&quot;: {&quot;__folium_color&quot;: &quot;#8dc2dc&quot;, &quot;growth_rate&quot;: 3.074442148208618, &quot;index&quot;: 67, &quot;index_right&quot;: 0, &quot;lat_lon&quot;: &quot;37.375_131.875&quot;, &quot;latitude&quot;: 37.375, &quot;longitude&quot;: 131.875, &quot;to&quot;: 12.480124473571777}, &quot;type&quot;: &quot;Feature&quot;}, {&quot;bbox&quot;: [132.125, 37.375, 132.375, 37.625], &quot;geometry&quot;: {&quot;coordinates&quot;: [[[132.125, 37.375], [132.375, 37.375], [132.375, 37.625], [132.125, 37.625], [132.125, 37.375]]], &quot;type&quot;: &quot;Polygon&quot;}, &quot;id&quot;: &quot;11&quot;, &quot;properties&quot;: {&quot;__folium_color&quot;: &quot;#b61f2e&quot;, &quot;growth_rate&quot;: 6.614691734313965, &quot;index&quot;: 68, &quot;index_right&quot;: 0, &quot;lat_lon&quot;: &quot;37.375_132.125&quot;, &quot;latitude&quot;: 37.375, &quot;longitude&quot;: 132.125, &quot;to&quot;: 12.360374450683594}, &quot;type&quot;: &quot;Feature&quot;}], &quot;type&quot;: &quot;FeatureCollection&quot;});\n",
       "\n",
       "        \n",
       "    \n",
       "    geo_json_bd5c000719a7c0ba54b7a0a19a41e2b7.bindTooltip(\n",
       "    function(layer){\n",
       "    let div = L.DomUtil.create(&#x27;div&#x27;);\n",
       "    \n",
       "    let handleObject = feature=&gt;typeof(feature)==&#x27;object&#x27; ? JSON.stringify(feature) : feature;\n",
       "    let fields = [&quot;index&quot;, &quot;latitude&quot;, &quot;longitude&quot;, &quot;to&quot;, &quot;lat_lon&quot;, &quot;index_right&quot;, &quot;growth_rate&quot;];\n",
       "    let aliases = [&quot;index&quot;, &quot;latitude&quot;, &quot;longitude&quot;, &quot;to&quot;, &quot;lat_lon&quot;, &quot;index_right&quot;, &quot;growth_rate&quot;];\n",
       "    let table = &#x27;&lt;table&gt;&#x27; +\n",
       "        String(\n",
       "        fields.map(\n",
       "        (v,i)=&gt;\n",
       "        `&lt;tr&gt;\n",
       "            &lt;th&gt;${aliases[i]}&lt;/th&gt;\n",
       "            \n",
       "            &lt;td&gt;${handleObject(layer.feature.properties[v])}&lt;/td&gt;\n",
       "        &lt;/tr&gt;`).join(&#x27;&#x27;))\n",
       "    +&#x27;&lt;/table&gt;&#x27;;\n",
       "    div.innerHTML=table;\n",
       "    \n",
       "    return div\n",
       "    }\n",
       "    ,{&quot;className&quot;: &quot;foliumtooltip&quot;, &quot;sticky&quot;: true});\n",
       "                     \n",
       "    \n",
       "    var color_map_60b2fe4144ec7c30adcaf3c93f52827a = {};\n",
       "\n",
       "    \n",
       "    color_map_60b2fe4144ec7c30adcaf3c93f52827a.color = d3.scale.threshold()\n",
       "              .domain([1.334160327911377, 1.3460638671217557, 1.3579674063321345, 1.3698709455425133, 1.381774484752892, 1.3936780239632707, 1.4055815631736495, 1.4174851023840283, 1.429388641594407, 1.4412921808047858, 1.4531957200151646, 1.4650992592255434, 1.4770027984359222, 1.488906337646301, 1.5008098768566795, 1.5127134160670583, 1.5246169552774371, 1.536520494487816, 1.5484240336981947, 1.5603275729085735, 1.5722311121189523, 1.584134651329331, 1.5960381905397099, 1.6079417297500886, 1.6198452689604674, 1.6317488081708462, 1.6436523473812248, 1.6555558865916036, 1.6674594258019824, 1.6793629650123612, 1.69126650422274, 1.7031700434331187, 1.7150735826434975, 1.726977121853876, 1.7388806610642549, 1.7507842002746337, 1.7626877394850125, 1.7745912786953912, 1.78649481790577, 1.7983983571161488, 1.8103018963265276, 1.8222054355369064, 1.8341089747472852, 1.846012513957664, 1.8579160531680428, 1.8698195923784215, 1.8817231315888001, 1.893626670799179, 1.9055302100095577, 1.9174337492199365, 1.9293372884303153, 1.9412408276406938, 1.9531443668510726, 1.9650479060614514, 1.9769514452718302, 1.988854984482209, 2.0007585236925878, 2.0126620629029666, 2.0245656021133454, 2.036469141323724, 2.048372680534103, 2.0602762197444817, 2.0721797589548605, 2.0840832981652393, 2.095986837375618, 2.1078903765859964, 2.119793915796375, 2.131697455006754, 2.143600994217133, 2.1555045334275116, 2.1674080726378904, 2.179311611848269, 2.191215151058648, 2.2031186902690267, 2.2150222294794055, 2.2269257686897843, 2.238829307900163, 2.250732847110542, 2.2626363863209207, 2.2745399255312995, 2.2864434647416783, 2.298347003952057, 2.310250543162436, 2.3221540823728146, 2.3340576215831934, 2.345961160793572, 2.357864700003951, 2.3697682392143298, 2.3816717784247086, 2.3935753176350874, 2.405478856845466, 2.417382396055845, 2.4292859352662233, 2.441189474476602, 2.453093013686981, 2.4649965528973596, 2.4769000921077384, 2.488803631318117, 2.500707170528496, 2.512610709738875, 2.5245142489492536, 2.536417788159632, 2.5483213273700107, 2.5602248665803895, 2.5721284057907683, 2.584031945001147, 2.595935484211526, 2.6078390234219047, 2.6197425626322834, 2.6316461018426622, 2.643549641053041, 2.65545318026342, 2.6673567194737986, 2.6792602586841774, 2.691163797894556, 2.703067337104935, 2.7149708763153138, 2.7268744155256925, 2.7387779547360713, 2.75068149394645, 2.762585033156829, 2.7744885723672077, 2.7863921115775865, 2.7982956507879653, 2.810199189998344, 2.822102729208723, 2.8340062684191016, 2.8459098076294804, 2.857813346839859, 2.869716886050238, 2.8816204252606163, 2.893523964470995, 2.905427503681374, 2.9173310428917527, 2.9292345821021315, 2.9411381213125103, 2.953041660522889, 2.964945199733268, 2.9768487389436467, 2.9887522781540254, 3.000655817364404, 3.0125593565747826, 3.0244628957851614, 3.03636643499554, 3.048269974205919, 3.0601735134162977, 3.0720770526266765, 3.0839805918370553, 3.095884131047434, 3.107787670257813, 3.1196912094681917, 3.1315947486785705, 3.1434982878889492, 3.155401827099328, 3.167305366309707, 3.1792089055200856, 3.1911124447304644, 3.203015983940843, 3.214919523151222, 3.2268230623616008, 3.2387266015719796, 3.2506301407823583, 3.262533679992737, 3.274437219203116, 3.2863407584134947, 3.2982442976238735, 3.3101478368342523, 3.322051376044631, 3.3339549152550094, 3.345858454465388, 3.357761993675767, 3.369665532886146, 3.3815690720965246, 3.3934726113069034, 3.405376150517282, 3.417279689727661, 3.4291832289380397, 3.4410867681484185, 3.4529903073587973, 3.464893846569176, 3.476797385779555, 3.4887009249899337, 3.5006044642003125, 3.512508003410691, 3.5244115426210696, 3.5363150818314484, 3.548218621041827, 3.560122160252206, 3.5720256994625847, 3.5839292386729635, 3.5958327778833423, 3.607736317093721, 3.6196398563041, 3.6315433955144787, 3.6434469347248575, 3.6553504739352363, 3.667254013145615, 3.679157552355994, 3.6910610915663726, 3.7029646307767514, 3.71486816998713, 3.726771709197509, 3.7386752484078873, 3.750578787618266, 3.762482326828645, 3.7743858660390237, 3.7862894052494025, 3.7981929444597813, 3.81009648367016, 3.822000022880539, 3.8339035620909176, 3.8458071013012964, 3.8577106405116752, 3.869614179722054, 3.881517718932433, 3.8934212581428116, 3.9053247973531904, 3.917228336563569, 3.929131875773948, 3.9410354149843267, 3.9529389541947055, 3.964842493405084, 3.9767460326154627, 3.9886495718258415, 4.00055311103622, 4.012456650246599, 4.024360189456978, 4.036263728667357, 4.048167267877735, 4.060070807088114, 4.071974346298493, 4.083877885508872, 4.0957814247192506, 4.107684963929629, 4.119588503140008, 4.131492042350387, 4.143395581560766, 4.1552991207711445, 4.167202659981523, 4.179106199191902, 4.191009738402281, 4.202913277612659, 4.214816816823038, 4.226720356033416, 4.238623895243796, 4.250527434454174, 4.262430973664554, 4.2743345128749315, 4.286238052085311, 4.298141591295689, 4.310045130506069, 4.321948669716447, 4.333852208926826, 4.345755748137204, 4.357659287347584, 4.369562826557962, 4.3814663657683415, 4.393369904978719, 4.405273444189099, 4.417176983399477, 4.429080522609856, 4.4409840618202345, 4.452887601030613, 4.464791140240992, 4.476694679451371, 4.48859821866175, 4.5005017578721285, 4.512405297082507, 4.524308836292886, 4.536212375503265, 4.548115914713644, 4.560019453924022, 4.571922993134401, 4.58382653234478, 4.595730071555159, 4.607633610765538, 4.619537149975916, 4.631440689186295, 4.643344228396674, 4.655247767607053, 4.667151306817431, 4.67905484602781, 4.690958385238188, 4.702861924448568, 4.714765463658946, 4.7266690028693255, 4.738572542079703, 4.750476081290083, 4.762379620500461, 4.774283159710841, 4.7861866989212185, 4.798090238131598, 4.809993777341976, 4.821897316552356, 4.833800855762734, 4.845704394973113, 4.857607934183491, 4.869511473393871, 4.881415012604249, 4.893318551814628, 4.905222091025006, 4.917125630235385, 4.929029169445764, 4.940932708656143, 4.9528362478665215, 4.9647397870769, 4.976643326287279, 4.988546865497658, 5.000450404708037, 5.0123539439184155, 5.024257483128794, 5.036161022339173, 5.048064561549552, 5.059968100759931, 5.071871639970309, 5.083775179180688, 5.095678718391067, 5.107582257601445, 5.119485796811825, 5.1313893360222025, 5.143292875232582, 5.15519641444296, 5.16709995365334, 5.179003492863718, 5.190907032074097, 5.202810571284475, 5.214714110494855, 5.226617649705233, 5.2385211889156125, 5.25042472812599, 5.26232826733637, 5.274231806546748, 5.286135345757128, 5.2980388849675055, 5.309942424177885, 5.321845963388263, 5.333749502598642, 5.345653041809021, 5.3575565810193995, 5.369460120229778, 5.381363659440157, 5.393267198650536, 5.405170737860915, 5.417074277071293, 5.428977816281672, 5.440881355492051, 5.45278489470243, 5.464688433912809, 5.476591973123187, 5.488495512333566, 5.500399051543945, 5.512302590754324, 5.5242061299647025, 5.536109669175081, 5.54801320838546, 5.559916747595839, 5.571820286806218, 5.5837238260165964, 5.595627365226975, 5.607530904437354, 5.619434443647733, 5.631337982858112, 5.64324152206849, 5.655145061278869, 5.667048600489248, 5.678952139699626, 5.690855678910005, 5.7027592181203834, 5.714662757330762, 5.726566296541141, 5.73846983575152, 5.750373374961899, 5.762276914172277, 5.774180453382656, 5.786083992593035, 5.797987531803414, 5.8098910710137925, 5.821794610224171, 5.83369814943455, 5.845601688644929, 5.857505227855308, 5.8694087670656865, 5.881312306276065, 5.893215845486444, 5.905119384696823, 5.917022923907202, 5.92892646311758, 5.940830002327959, 5.952733541538338, 5.964637080748717, 5.976540619959096, 5.988444159169474, 6.000347698379853, 6.012251237590232, 6.024154776800611, 6.0360583160109895, 6.047961855221368, 6.059865394431747, 6.071768933642126, 6.083672472852505, 6.0955760120628835, 6.107479551273262, 6.119383090483641, 6.13128662969402, 6.143190168904398, 6.1550937081147765, 6.166997247325155, 6.178900786535534, 6.190804325745913, 6.202707864956292, 6.2146114041666705, 6.226514943377049, 6.238418482587428, 6.250322021797807, 6.262225561008186, 6.274129100218564, 6.286032639428943, 6.297936178639322, 6.309839717849701, 6.32174325706008, 6.333646796270458, 6.345550335480837, 6.357453874691216, 6.369357413901595, 6.3812609531119735, 6.393164492322352, 6.405068031532731, 6.41697157074311, 6.428875109953489, 6.440778649163867, 6.452682188374246, 6.464585727584625, 6.476489266795004, 6.488392806005383, 6.500296345215761, 6.51219988442614, 6.524103423636519, 6.536006962846898, 6.5479105020572765, 6.559814041267655, 6.571717580478034, 6.583621119688413, 6.595524658898791, 6.60742819810917, 6.619331737319548, 6.631235276529927, 6.643138815740306, 6.655042354950685, 6.6669458941610635, 6.678849433371442, 6.690752972581821, 6.7026565117922, 6.714560051002579, 6.7264635902129575, 6.738367129423336, 6.750270668633715, 6.762174207844094, 6.774077747054473, 6.785981286264851, 6.79788482547523, 6.809788364685609, 6.821691903895988, 6.833595443106367, 6.845498982316745, 6.857402521527124, 6.869306060737503, 6.881209599947882, 6.8931131391582605, 6.905016678368639, 6.916920217579018, 6.928823756789397, 6.940727295999776, 6.9526308352101545, 6.964534374420533, 6.976437913630912, 6.988341452841291, 7.00024499205167, 7.012148531262048, 7.024052070472427, 7.035955609682806, 7.047859148893184, 7.059762688103563, 7.0716662273139415, 7.08356976652432, 7.095473305734699, 7.107376844945078, 7.119280384155457, 7.131183923365835, 7.143087462576214, 7.154991001786593, 7.166894540996972, 7.1787980802073506, 7.190701619417729, 7.202605158628108, 7.214508697838487, 7.226412237048866, 7.2383157762592445, 7.250219315469623, 7.262122854680002, 7.274026393890381])\n",
       "              .range([&#x27;#053061ff&#x27;, &#x27;#053162ff&#x27;, &#x27;#063264ff&#x27;, &#x27;#063365ff&#x27;, &#x27;#073467ff&#x27;, &#x27;#073569ff&#x27;, &#x27;#08366aff&#x27;, &#x27;#08376cff&#x27;, &#x27;#09386dff&#x27;, &#x27;#093a6fff&#x27;, &#x27;#0a3b70ff&#x27;, &#x27;#0b3c72ff&#x27;, &#x27;#0c3d73ff&#x27;, &#x27;#0c3e75ff&#x27;, &#x27;#0d3f76ff&#x27;, &#x27;#0d4078ff&#x27;, &#x27;#0e4179ff&#x27;, &#x27;#0e427aff&#x27;, &#x27;#0f437cff&#x27;, &#x27;#0f447dff&#x27;, &#x27;#10457fff&#x27;, &#x27;#104680ff&#x27;, &#x27;#114782ff&#x27;, &#x27;#114883ff&#x27;, &#x27;#124a85ff&#x27;, &#x27;#124b86ff&#x27;, &#x27;#134c88ff&#x27;, &#x27;#134d89ff&#x27;, &#x27;#144e8bff&#x27;, &#x27;#144f8dff&#x27;, &#x27;#15508eff&#x27;, &#x27;#165290ff&#x27;, &#x27;#175391ff&#x27;, &#x27;#175493ff&#x27;, &#x27;#185594ff&#x27;, &#x27;#185696ff&#x27;, &#x27;#195797ff&#x27;, &#x27;#1a5899ff&#x27;, &#x27;#1a599aff&#x27;, &#x27;#1b5a9cff&#x27;, &#x27;#1b5b9dff&#x27;, &#x27;#1c5c9fff&#x27;, &#x27;#1c5da1ff&#x27;, &#x27;#1d5fa2ff&#x27;, &#x27;#1d60a4ff&#x27;, &#x27;#1e61a5ff&#x27;, &#x27;#1e62a7ff&#x27;, &#x27;#1f63a8ff&#x27;, &#x27;#1f64aaff&#x27;, &#x27;#2065abff&#x27;, &#x27;#2166acff&#x27;, &#x27;#2267acff&#x27;, &#x27;#2268adff&#x27;, &#x27;#2369adff&#x27;, &#x27;#236aaeff&#x27;, &#x27;#246aaeff&#x27;, &#x27;#256bafff&#x27;, &#x27;#266cafff&#x27;, &#x27;#266db0ff&#x27;, &#x27;#276eb0ff&#x27;, &#x27;#276fb1ff&#x27;, &#x27;#2870b1ff&#x27;, &#x27;#2971b2ff&#x27;, &#x27;#2a71b2ff&#x27;, &#x27;#2a72b3ff&#x27;, &#x27;#2b73b3ff&#x27;, &#x27;#2b74b4ff&#x27;, &#x27;#2c75b4ff&#x27;, &#x27;#2d76b5ff&#x27;, &#x27;#2e77b5ff&#x27;, &#x27;#2e79b5ff&#x27;, &#x27;#2f79b5ff&#x27;, &#x27;#2f7ab6ff&#x27;, &#x27;#307bb7ff&#x27;, &#x27;#317cb7ff&#x27;, &#x27;#327db8ff&#x27;, &#x27;#337eb8ff&#x27;, &#x27;#337fb9ff&#x27;, &#x27;#3480b9ff&#x27;, &#x27;#3480baff&#x27;, &#x27;#3581baff&#x27;, &#x27;#3682bbff&#x27;, &#x27;#3783bbff&#x27;, &#x27;#3784bcff&#x27;, &#x27;#3885bcff&#x27;, &#x27;#3986bdff&#x27;, &#x27;#3a87bdff&#x27;, &#x27;#3a87beff&#x27;, &#x27;#3b88beff&#x27;, &#x27;#3b89beff&#x27;, &#x27;#3c8abeff&#x27;, &#x27;#3d8bbfff&#x27;, &#x27;#3e8cbfff&#x27;, &#x27;#3e8dc0ff&#x27;, &#x27;#3f8ec0ff&#x27;, &#x27;#3f8fc1ff&#x27;, &#x27;#408fc1ff&#x27;, &#x27;#4190c2ff&#x27;, &#x27;#4291c2ff&#x27;, &#x27;#4292c3ff&#x27;, &#x27;#4393c3ff&#x27;, &#x27;#4594c4ff&#x27;, &#x27;#4695c4ff&#x27;, &#x27;#4896c5ff&#x27;, &#x27;#4997c5ff&#x27;, &#x27;#4b98c6ff&#x27;, &#x27;#4c99c6ff&#x27;, &#x27;#4e9ac7ff&#x27;, &#x27;#4f9bc7ff&#x27;, &#x27;#519dc8ff&#x27;, &#x27;#539ec8ff&#x27;, &#x27;#559fc9ff&#x27;, &#x27;#57a0caff&#x27;, &#x27;#58a1caff&#x27;, &#x27;#5aa2cbff&#x27;, &#x27;#5ba3cbff&#x27;, &#x27;#5da4ccff&#x27;, &#x27;#5ea5cdff&#x27;, &#x27;#60a6ceff&#x27;, &#x27;#61a7ceff&#x27;, &#x27;#63a8cfff&#x27;, &#x27;#64a9cfff&#x27;, &#x27;#66aad0ff&#x27;, &#x27;#67abd0ff&#x27;, &#x27;#69acd1ff&#x27;, &#x27;#6bacd1ff&#x27;, &#x27;#6cadd2ff&#x27;, &#x27;#6eaed2ff&#x27;, &#x27;#6fafd3ff&#x27;, &#x27;#71b0d3ff&#x27;, &#x27;#73b1d4ff&#x27;, &#x27;#75b2d4ff&#x27;, &#x27;#76b3d5ff&#x27;, &#x27;#78b4d5ff&#x27;, &#x27;#79b5d6ff&#x27;, &#x27;#7bb6d6ff&#x27;, &#x27;#7cb7d7ff&#x27;, &#x27;#7eb8d7ff&#x27;, &#x27;#80b9d8ff&#x27;, &#x27;#81bad8ff&#x27;, &#x27;#83bbd9ff&#x27;, &#x27;#84bcd9ff&#x27;, &#x27;#86bddaff&#x27;, &#x27;#87bedaff&#x27;, &#x27;#89bfdbff&#x27;, &#x27;#8ac0dbff&#x27;, &#x27;#8cc1dcff&#x27;, &#x27;#8dc3dcff&#x27;, &#x27;#8fc4ddff&#x27;, &#x27;#90c5deff&#x27;, &#x27;#92c6deff&#x27;, &#x27;#94c6dfff&#x27;, &#x27;#95c7dfff&#x27;, &#x27;#96c7e0ff&#x27;, &#x27;#97c8e0ff&#x27;, &#x27;#99c8e0ff&#x27;, &#x27;#9ac9e0ff&#x27;, &#x27;#9ccae1ff&#x27;, &#x27;#9dcbe1ff&#x27;, &#x27;#9ecce2ff&#x27;, &#x27;#9fcce2ff&#x27;, &#x27;#a1cde3ff&#x27;, &#x27;#a2cde3ff&#x27;, &#x27;#a3cee3ff&#x27;, &#x27;#a5cee3ff&#x27;, &#x27;#a6cfe4ff&#x27;, &#x27;#a7d0e4ff&#x27;, &#x27;#a8d1e5ff&#x27;, &#x27;#a9d1e5ff&#x27;, &#x27;#aad2e5ff&#x27;, &#x27;#acd2e5ff&#x27;, &#x27;#add3e6ff&#x27;, &#x27;#aed3e6ff&#x27;, &#x27;#afd4e7ff&#x27;, &#x27;#b1d5e7ff&#x27;, &#x27;#b2d6e8ff&#x27;, &#x27;#b3d6e8ff&#x27;, &#x27;#b5d7e8ff&#x27;, &#x27;#b6d7e8ff&#x27;, &#x27;#b7d8e9ff&#x27;, &#x27;#b8d8e9ff&#x27;, &#x27;#bad9eaff&#x27;, &#x27;#bbdaeaff&#x27;, &#x27;#bcdbeaff&#x27;, &#x27;#bddbeaff&#x27;, &#x27;#bfdcebff&#x27;, &#x27;#c0dcebff&#x27;, &#x27;#c1ddecff&#x27;, &#x27;#c2deecff&#x27;, &#x27;#c4dfecff&#x27;, &#x27;#c5dfedff&#x27;, &#x27;#c6e0edff&#x27;, &#x27;#c8e0eeff&#x27;, &#x27;#c9e1eeff&#x27;, &#x27;#cbe2efff&#x27;, &#x27;#cce2efff&#x27;, &#x27;#cde3efff&#x27;, &#x27;#cee4efff&#x27;, &#x27;#d0e5f0ff&#x27;, &#x27;#d1e5f0ff&#x27;, &#x27;#d2e6f0ff&#x27;, &#x27;#d2e6f0ff&#x27;, &#x27;#d3e6f1ff&#x27;, &#x27;#d4e6f1ff&#x27;, &#x27;#d5e7f1ff&#x27;, &#x27;#d5e7f1ff&#x27;, &#x27;#d6e8f1ff&#x27;, &#x27;#d7e8f1ff&#x27;, &#x27;#d8e9f1ff&#x27;, &#x27;#d8e9f1ff&#x27;, &#x27;#d9e9f2ff&#x27;, &#x27;#dae9f2ff&#x27;, &#x27;#dbeaf2ff&#x27;, &#x27;#dbeaf2ff&#x27;, &#x27;#dcebf2ff&#x27;, &#x27;#ddebf2ff&#x27;, &#x27;#deebf2ff&#x27;, &#x27;#deebf2ff&#x27;, &#x27;#dfecf3ff&#x27;, &#x27;#e0ecf3ff&#x27;, &#x27;#e1edf3ff&#x27;, &#x27;#e1edf3ff&#x27;, &#x27;#e2edf3ff&#x27;, &#x27;#e3edf3ff&#x27;, &#x27;#e4eef4ff&#x27;, &#x27;#e4eef4ff&#x27;, &#x27;#e5eff4ff&#x27;, &#x27;#e6eff4ff&#x27;, &#x27;#e7f0f4ff&#x27;, &#x27;#e7f0f4ff&#x27;, &#x27;#e8f0f4ff&#x27;, &#x27;#e9f0f5ff&#x27;, &#x27;#eaf1f5ff&#x27;, &#x27;#ebf2f5ff&#x27;, &#x27;#ecf2f5ff&#x27;, &#x27;#edf2f5ff&#x27;, &#x27;#edf2f5ff&#x27;, &#x27;#eef3f5ff&#x27;, &#x27;#eff3f5ff&#x27;, &#x27;#f0f4f6ff&#x27;, &#x27;#f0f4f6ff&#x27;, &#x27;#f1f5f6ff&#x27;, &#x27;#f2f5f6ff&#x27;, &#x27;#f3f5f6ff&#x27;, &#x27;#f3f5f6ff&#x27;, &#x27;#f4f6f7ff&#x27;, &#x27;#f5f6f7ff&#x27;, &#x27;#f6f7f7ff&#x27;, &#x27;#f6f7f7ff&#x27;, &#x27;#f7f7f7ff&#x27;, &#x27;#f7f7f7ff&#x27;, &#x27;#f7f6f6ff&#x27;, &#x27;#f7f6f5ff&#x27;, &#x27;#f8f5f4ff&#x27;, &#x27;#f8f5f3ff&#x27;, &#x27;#f8f4f2ff&#x27;, &#x27;#f8f4f1ff&#x27;, &#x27;#f8f3f0ff&#x27;, &#x27;#f8f3f0ff&#x27;, &#x27;#f8f2efff&#x27;, &#x27;#f8f2eeff&#x27;, &#x27;#f9f1edff&#x27;, &#x27;#f9f1ecff&#x27;, &#x27;#f9f0ebff&#x27;, &#x27;#f9f0eaff&#x27;, &#x27;#f9efe9ff&#x27;, &#x27;#f9efe8ff&#x27;, &#x27;#f9eee7ff&#x27;, &#x27;#f9ede5ff&#x27;, &#x27;#f9ece4ff&#x27;, &#x27;#f9ebe3ff&#x27;, &#x27;#faebe2ff&#x27;, &#x27;#faeae1ff&#x27;, &#x27;#faeae0ff&#x27;, &#x27;#fae9dfff&#x27;, &#x27;#fae9dfff&#x27;, &#x27;#fae8deff&#x27;, &#x27;#fae8ddff&#x27;, &#x27;#fbe7dcff&#x27;, &#x27;#fbe7dbff&#x27;, &#x27;#fbe6daff&#x27;, &#x27;#fbe6d9ff&#x27;, &#x27;#fbe5d8ff&#x27;, &#x27;#fbe5d7ff&#x27;, &#x27;#fbe4d6ff&#x27;, &#x27;#fbe4d5ff&#x27;, &#x27;#fce3d4ff&#x27;, &#x27;#fce3d3ff&#x27;, &#x27;#fce2d2ff&#x27;, &#x27;#fce1d1ff&#x27;, &#x27;#fce0d0ff&#x27;, &#x27;#fce0d0ff&#x27;, &#x27;#fcdfcfff&#x27;, &#x27;#fcdfceff&#x27;, &#x27;#fddecdff&#x27;, &#x27;#fddeccff&#x27;, &#x27;#fdddcbff&#x27;, &#x27;#fdddcaff&#x27;, &#x27;#fddcc9ff&#x27;, &#x27;#fddcc8ff&#x27;, &#x27;#fddbc6ff&#x27;, &#x27;#fddac5ff&#x27;, &#x27;#fdd9c4ff&#x27;, &#x27;#fdd8c3ff&#x27;, &#x27;#fcd7c1ff&#x27;, &#x27;#fcd6c0ff&#x27;, &#x27;#fcd5beff&#x27;, &#x27;#fcd4bdff&#x27;, &#x27;#fcd2bbff&#x27;, &#x27;#fcd1baff&#x27;, &#x27;#fbcfb8ff&#x27;, &#x27;#fbceb7ff&#x27;, &#x27;#fbcdb6ff&#x27;, &#x27;#fbccb4ff&#x27;, &#x27;#fbcbb3ff&#x27;, &#x27;#fbcab1ff&#x27;, &#x27;#fac9b0ff&#x27;, &#x27;#fac8afff&#x27;, &#x27;#fac7aeff&#x27;, &#x27;#f9c6acff&#x27;, &#x27;#f9c5abff&#x27;, &#x27;#f9c4a9ff&#x27;, &#x27;#f9c3a8ff&#x27;, &#x27;#f9c2a7ff&#x27;, &#x27;#f9c1a5ff&#x27;, &#x27;#f8bfa4ff&#x27;, &#x27;#f8bea2ff&#x27;, &#x27;#f8bda1ff&#x27;, &#x27;#f8bc9fff&#x27;, &#x27;#f8bb9eff&#x27;, &#x27;#f8ba9dff&#x27;, &#x27;#f7b99cff&#x27;, &#x27;#f7b89aff&#x27;, &#x27;#f7b799ff&#x27;, &#x27;#f7b697ff&#x27;, &#x27;#f7b596ff&#x27;, &#x27;#f7b495ff&#x27;, &#x27;#f6b393ff&#x27;, &#x27;#f6b292ff&#x27;, &#x27;#f6b190ff&#x27;, &#x27;#f6b08fff&#x27;, &#x27;#f6ae8dff&#x27;, &#x27;#f6ad8cff&#x27;, &#x27;#f5ac8aff&#x27;, &#x27;#f5ab89ff&#x27;, &#x27;#f5aa88ff&#x27;, &#x27;#f5a987ff&#x27;, &#x27;#f5a885ff&#x27;, &#x27;#f5a684ff&#x27;, &#x27;#f4a582ff&#x27;, &#x27;#f4a481ff&#x27;, &#x27;#f3a380ff&#x27;, &#x27;#f3a17fff&#x27;, &#x27;#f2a07eff&#x27;, &#x27;#f29e7dff&#x27;, &#x27;#f19d7cff&#x27;, &#x27;#f19c7bff&#x27;, &#x27;#f09b7aff&#x27;, &#x27;#ef9979ff&#x27;, &#x27;#ef9878ff&#x27;, &#x27;#ee9677ff&#x27;, &#x27;#ed9576ff&#x27;, &#x27;#ec9374ff&#x27;, &#x27;#ec9273ff&#x27;, &#x27;#eb9172ff&#x27;, &#x27;#eb8f71ff&#x27;, &#x27;#ea8e70ff&#x27;, &#x27;#ea8c6fff&#x27;, &#x27;#e98b6eff&#x27;, &#x27;#e98a6dff&#x27;, &#x27;#e8896cff&#x27;, &#x27;#e7876bff&#x27;, &#x27;#e6866aff&#x27;, &#x27;#e68469ff&#x27;, &#x27;#e58368ff&#x27;, &#x27;#e58167ff&#x27;, &#x27;#e48066ff&#x27;, &#x27;#e47f65ff&#x27;, &#x27;#e37d64ff&#x27;, &#x27;#e37c63ff&#x27;, &#x27;#e27a62ff&#x27;, &#x27;#e27960ff&#x27;, &#x27;#e1785fff&#x27;, &#x27;#e0775eff&#x27;, &#x27;#df755dff&#x27;, &#x27;#df745cff&#x27;, &#x27;#de725bff&#x27;, &#x27;#de715aff&#x27;, &#x27;#dd6f58ff&#x27;, &#x27;#dd6e57ff&#x27;, &#x27;#dc6d56ff&#x27;, &#x27;#dc6b55ff&#x27;, &#x27;#db6a54ff&#x27;, &#x27;#db6853ff&#x27;, &#x27;#da6752ff&#x27;, &#x27;#d96551ff&#x27;, &#x27;#d86450ff&#x27;, &#x27;#d7634fff&#x27;, &#x27;#d7624eff&#x27;, &#x27;#d6604dff&#x27;, &#x27;#d65f4cff&#x27;, &#x27;#d55d4cff&#x27;, &#x27;#d45c4bff&#x27;, &#x27;#d35a4aff&#x27;, &#x27;#d35949ff&#x27;, &#x27;#d25849ff&#x27;, &#x27;#d15648ff&#x27;, &#x27;#d05548ff&#x27;, &#x27;#d05347ff&#x27;, &#x27;#cf5246ff&#x27;, &#x27;#cf5045ff&#x27;, &#x27;#ce4f45ff&#x27;, &#x27;#cd4d44ff&#x27;, &#x27;#cc4c44ff&#x27;, &#x27;#cc4a43ff&#x27;, &#x27;#cb4942ff&#x27;, &#x27;#ca4841ff&#x27;, &#x27;#c94641ff&#x27;, &#x27;#c94540ff&#x27;, &#x27;#c84340ff&#x27;, &#x27;#c7423eff&#x27;, &#x27;#c6403eff&#x27;, &#x27;#c63f3dff&#x27;, &#x27;#c53d3dff&#x27;, &#x27;#c53c3cff&#x27;, &#x27;#c43a3bff&#x27;, &#x27;#c3393aff&#x27;, &#x27;#c2373aff&#x27;, &#x27;#c23639ff&#x27;, &#x27;#c13538ff&#x27;, &#x27;#c03338ff&#x27;, &#x27;#bf3237ff&#x27;, &#x27;#be3036ff&#x27;, &#x27;#be2f35ff&#x27;, &#x27;#bd2d35ff&#x27;, &#x27;#bd2c34ff&#x27;, &#x27;#bc2a34ff&#x27;, &#x27;#bb2933ff&#x27;, &#x27;#ba2832ff&#x27;, &#x27;#ba2731ff&#x27;, &#x27;#b92531ff&#x27;, &#x27;#b82430ff&#x27;, &#x27;#b72230ff&#x27;, &#x27;#b7202fff&#x27;, &#x27;#b61f2eff&#x27;, &#x27;#b51d2dff&#x27;, &#x27;#b41c2dff&#x27;, &#x27;#b41a2cff&#x27;, &#x27;#b3192cff&#x27;, &#x27;#b2182bff&#x27;, &#x27;#b1182bff&#x27;, &#x27;#b0172aff&#x27;, &#x27;#ae172aff&#x27;, &#x27;#ad162aff&#x27;, &#x27;#ab162aff&#x27;, &#x27;#aa1529ff&#x27;, &#x27;#a81529ff&#x27;, &#x27;#a71429ff&#x27;, &#x27;#a51429ff&#x27;, &#x27;#a31328ff&#x27;, &#x27;#a21328ff&#x27;, &#x27;#a01228ff&#x27;, &#x27;#9f1128ff&#x27;, &#x27;#9d1127ff&#x27;, &#x27;#9c1027ff&#x27;, &#x27;#9a1027ff&#x27;, &#x27;#990f27ff&#x27;, &#x27;#970f27ff&#x27;, &#x27;#960e26ff&#x27;, &#x27;#940e26ff&#x27;, &#x27;#930d26ff&#x27;, &#x27;#910d26ff&#x27;, &#x27;#8f0c25ff&#x27;, &#x27;#8e0c25ff&#x27;, &#x27;#8c0b25ff&#x27;, &#x27;#8b0b25ff&#x27;, &#x27;#890a24ff&#x27;, &#x27;#880a24ff&#x27;, &#x27;#860924ff&#x27;, &#x27;#850924ff&#x27;, &#x27;#830823ff&#x27;, &#x27;#820823ff&#x27;, &#x27;#800823ff&#x27;, &#x27;#7f0823ff&#x27;, &#x27;#7e0722ff&#x27;, &#x27;#7c0722ff&#x27;, &#x27;#7b0622ff&#x27;, &#x27;#790622ff&#x27;, &#x27;#780521ff&#x27;, &#x27;#760521ff&#x27;, &#x27;#750421ff&#x27;, &#x27;#730421ff&#x27;, &#x27;#720320ff&#x27;, &#x27;#700320ff&#x27;, &#x27;#6f0220ff&#x27;, &#x27;#6d0220ff&#x27;, &#x27;#6c011fff&#x27;, &#x27;#6a011fff&#x27;, &#x27;#68001fff&#x27;, &#x27;#67001fff&#x27;]);\n",
       "    \n",
       "\n",
       "    color_map_60b2fe4144ec7c30adcaf3c93f52827a.x = d3.scale.linear()\n",
       "              .domain([1.334160327911377, 7.274026393890381])\n",
       "              .range([0, 450 - 50]);\n",
       "\n",
       "    color_map_60b2fe4144ec7c30adcaf3c93f52827a.legend = L.control({position: &#x27;topright&#x27;});\n",
       "    color_map_60b2fe4144ec7c30adcaf3c93f52827a.legend.onAdd = function (map) {var div = L.DomUtil.create(&#x27;div&#x27;, &#x27;legend&#x27;); return div};\n",
       "    color_map_60b2fe4144ec7c30adcaf3c93f52827a.legend.addTo(map_70733a592a3627880ce95399034b19a2);\n",
       "\n",
       "    color_map_60b2fe4144ec7c30adcaf3c93f52827a.xAxis = d3.svg.axis()\n",
       "        .scale(color_map_60b2fe4144ec7c30adcaf3c93f52827a.x)\n",
       "        .orient(&quot;top&quot;)\n",
       "        .tickSize(1)\n",
       "        .tickValues([1.334160327911377, &#x27;&#x27;, &#x27;&#x27;, &#x27;&#x27;, &#x27;&#x27;, &#x27;&#x27;, &#x27;&#x27;, &#x27;&#x27;, &#x27;&#x27;, &#x27;&#x27;, &#x27;&#x27;, &#x27;&#x27;, &#x27;&#x27;, &#x27;&#x27;, &#x27;&#x27;, &#x27;&#x27;, &#x27;&#x27;, &#x27;&#x27;, &#x27;&#x27;, &#x27;&#x27;, &#x27;&#x27;, &#x27;&#x27;, &#x27;&#x27;, &#x27;&#x27;, &#x27;&#x27;, &#x27;&#x27;, 1.9397937307170792, &#x27;&#x27;, &#x27;&#x27;, &#x27;&#x27;, &#x27;&#x27;, &#x27;&#x27;, &#x27;&#x27;, &#x27;&#x27;, &#x27;&#x27;, &#x27;&#x27;, &#x27;&#x27;, &#x27;&#x27;, &#x27;&#x27;, &#x27;&#x27;, &#x27;&#x27;, &#x27;&#x27;, &#x27;&#x27;, &#x27;&#x27;, &#x27;&#x27;, &#x27;&#x27;, &#x27;&#x27;, &#x27;&#x27;, &#x27;&#x27;, &#x27;&#x27;, &#x27;&#x27;, &#x27;&#x27;, 2.5454271335227814, &#x27;&#x27;, &#x27;&#x27;, &#x27;&#x27;, &#x27;&#x27;, &#x27;&#x27;, &#x27;&#x27;, &#x27;&#x27;, &#x27;&#x27;, &#x27;&#x27;, &#x27;&#x27;, &#x27;&#x27;, &#x27;&#x27;, &#x27;&#x27;, &#x27;&#x27;, &#x27;&#x27;, &#x27;&#x27;, &#x27;&#x27;, &#x27;&#x27;, &#x27;&#x27;, &#x27;&#x27;, &#x27;&#x27;, &#x27;&#x27;, &#x27;&#x27;, &#x27;&#x27;, &#x27;&#x27;, 3.151060536328484, &#x27;&#x27;, &#x27;&#x27;, &#x27;&#x27;, &#x27;&#x27;, &#x27;&#x27;, &#x27;&#x27;, &#x27;&#x27;, &#x27;&#x27;, &#x27;&#x27;, &#x27;&#x27;, &#x27;&#x27;, &#x27;&#x27;, &#x27;&#x27;, &#x27;&#x27;, &#x27;&#x27;, &#x27;&#x27;, &#x27;&#x27;, &#x27;&#x27;, &#x27;&#x27;, &#x27;&#x27;, &#x27;&#x27;, &#x27;&#x27;, &#x27;&#x27;, &#x27;&#x27;, &#x27;&#x27;, 3.7566939391341863, &#x27;&#x27;, &#x27;&#x27;, &#x27;&#x27;, &#x27;&#x27;, &#x27;&#x27;, &#x27;&#x27;, &#x27;&#x27;, &#x27;&#x27;, &#x27;&#x27;, &#x27;&#x27;, &#x27;&#x27;, &#x27;&#x27;, &#x27;&#x27;, &#x27;&#x27;, &#x27;&#x27;, &#x27;&#x27;, &#x27;&#x27;, &#x27;&#x27;, &#x27;&#x27;, &#x27;&#x27;, &#x27;&#x27;, &#x27;&#x27;, &#x27;&#x27;, &#x27;&#x27;, &#x27;&#x27;, 4.3623273419398885, &#x27;&#x27;, &#x27;&#x27;, &#x27;&#x27;, &#x27;&#x27;, &#x27;&#x27;, &#x27;&#x27;, &#x27;&#x27;, &#x27;&#x27;, &#x27;&#x27;, &#x27;&#x27;, &#x27;&#x27;, &#x27;&#x27;, &#x27;&#x27;, &#x27;&#x27;, &#x27;&#x27;, &#x27;&#x27;, &#x27;&#x27;, &#x27;&#x27;, &#x27;&#x27;, &#x27;&#x27;, &#x27;&#x27;, &#x27;&#x27;, &#x27;&#x27;, &#x27;&#x27;, &#x27;&#x27;, 4.967960744745591, &#x27;&#x27;, &#x27;&#x27;, &#x27;&#x27;, &#x27;&#x27;, &#x27;&#x27;, &#x27;&#x27;, &#x27;&#x27;, &#x27;&#x27;, &#x27;&#x27;, &#x27;&#x27;, &#x27;&#x27;, &#x27;&#x27;, &#x27;&#x27;, &#x27;&#x27;, &#x27;&#x27;, &#x27;&#x27;, &#x27;&#x27;, &#x27;&#x27;, &#x27;&#x27;, &#x27;&#x27;, &#x27;&#x27;, &#x27;&#x27;, &#x27;&#x27;, &#x27;&#x27;, &#x27;&#x27;, 5.573594147551294, &#x27;&#x27;, &#x27;&#x27;, &#x27;&#x27;, &#x27;&#x27;, &#x27;&#x27;, &#x27;&#x27;, &#x27;&#x27;, &#x27;&#x27;, &#x27;&#x27;, &#x27;&#x27;, &#x27;&#x27;, &#x27;&#x27;, &#x27;&#x27;, &#x27;&#x27;, &#x27;&#x27;, &#x27;&#x27;, &#x27;&#x27;, &#x27;&#x27;, &#x27;&#x27;, &#x27;&#x27;, &#x27;&#x27;, &#x27;&#x27;, &#x27;&#x27;, &#x27;&#x27;, &#x27;&#x27;, 6.179227550356996, &#x27;&#x27;, &#x27;&#x27;, &#x27;&#x27;, &#x27;&#x27;, &#x27;&#x27;, &#x27;&#x27;, &#x27;&#x27;, &#x27;&#x27;, &#x27;&#x27;, &#x27;&#x27;, &#x27;&#x27;, &#x27;&#x27;, &#x27;&#x27;, &#x27;&#x27;, &#x27;&#x27;, &#x27;&#x27;, &#x27;&#x27;, &#x27;&#x27;, &#x27;&#x27;, &#x27;&#x27;, &#x27;&#x27;, &#x27;&#x27;, &#x27;&#x27;, &#x27;&#x27;, &#x27;&#x27;, 6.784860953162698, &#x27;&#x27;, &#x27;&#x27;, &#x27;&#x27;, &#x27;&#x27;, &#x27;&#x27;, &#x27;&#x27;, &#x27;&#x27;, &#x27;&#x27;, &#x27;&#x27;, &#x27;&#x27;, &#x27;&#x27;, &#x27;&#x27;, &#x27;&#x27;, &#x27;&#x27;, &#x27;&#x27;, &#x27;&#x27;, &#x27;&#x27;, &#x27;&#x27;, &#x27;&#x27;, &#x27;&#x27;, &#x27;&#x27;, &#x27;&#x27;, &#x27;&#x27;, &#x27;&#x27;, &#x27;&#x27;]);\n",
       "\n",
       "    color_map_60b2fe4144ec7c30adcaf3c93f52827a.svg = d3.select(&quot;.legend.leaflet-control&quot;).append(&quot;svg&quot;)\n",
       "        .attr(&quot;id&quot;, &#x27;legend&#x27;)\n",
       "        .attr(&quot;width&quot;, 450)\n",
       "        .attr(&quot;height&quot;, 40);\n",
       "\n",
       "    color_map_60b2fe4144ec7c30adcaf3c93f52827a.g = color_map_60b2fe4144ec7c30adcaf3c93f52827a.svg.append(&quot;g&quot;)\n",
       "        .attr(&quot;class&quot;, &quot;key&quot;)\n",
       "        .attr(&quot;transform&quot;, &quot;translate(25,16)&quot;);\n",
       "\n",
       "    color_map_60b2fe4144ec7c30adcaf3c93f52827a.g.selectAll(&quot;rect&quot;)\n",
       "        .data(color_map_60b2fe4144ec7c30adcaf3c93f52827a.color.range().map(function(d, i) {\n",
       "          return {\n",
       "            x0: i ? color_map_60b2fe4144ec7c30adcaf3c93f52827a.x(color_map_60b2fe4144ec7c30adcaf3c93f52827a.color.domain()[i - 1]) : color_map_60b2fe4144ec7c30adcaf3c93f52827a.x.range()[0],\n",
       "            x1: i &lt; color_map_60b2fe4144ec7c30adcaf3c93f52827a.color.domain().length ? color_map_60b2fe4144ec7c30adcaf3c93f52827a.x(color_map_60b2fe4144ec7c30adcaf3c93f52827a.color.domain()[i]) : color_map_60b2fe4144ec7c30adcaf3c93f52827a.x.range()[1],\n",
       "            z: d\n",
       "          };\n",
       "        }))\n",
       "      .enter().append(&quot;rect&quot;)\n",
       "        .attr(&quot;height&quot;, 40 - 30)\n",
       "        .attr(&quot;x&quot;, function(d) { return d.x0; })\n",
       "        .attr(&quot;width&quot;, function(d) { return d.x1 - d.x0; })\n",
       "        .style(&quot;fill&quot;, function(d) { return d.z; });\n",
       "\n",
       "    color_map_60b2fe4144ec7c30adcaf3c93f52827a.g.call(color_map_60b2fe4144ec7c30adcaf3c93f52827a.xAxis).append(&quot;text&quot;)\n",
       "        .attr(&quot;class&quot;, &quot;caption&quot;)\n",
       "        .attr(&quot;y&quot;, 21)\n",
       "        .text(&quot;growth_rate&quot;);\n",
       "&lt;/script&gt;\n",
       "&lt;/html&gt;\" style=\"position:absolute;width:100%;height:100%;left:0;top:0;border:none !important;\" allowfullscreen webkitallowfullscreen mozallowfullscreen></iframe></div></div>"
      ],
      "text/plain": [
       "<folium.folium.Map at 0x1f53173ecd0>"
      ]
     },
     "execution_count": 31,
     "metadata": {},
     "output_type": "execute_result"
    }
   ],
   "source": [
    "# 증감률을 지도시각화 \n",
    "gdf_growth.explore('growth_rate', cmap='RdBu_r', tiles='http://xdworld.vworld.kr:8080/2d/gray/service/{z}/{x}/{y}.png', attr='브이월드')"
   ]
  },
  {
   "cell_type": "markdown",
   "metadata": {},
   "source": [
    "#### 이전과 이후를 동일한 기준 범위의 단계구분도로 시각화하여 비교해 보기   "
   ]
  },
  {
   "cell_type": "code",
   "execution_count": 32,
   "metadata": {},
   "outputs": [],
   "source": [
    "# 두 데이터 세트의 최소값과 최대값 찾기\n",
    "vmin = min(gdf_before2['to'].min(), gdf_after2['to'].min())\n",
    "vmax = max(gdf_before2['to'].max(), gdf_after2['to'].max())"
   ]
  },
  {
   "cell_type": "code",
   "execution_count": 33,
   "metadata": {},
   "outputs": [
    {
     "data": {
      "text/plain": [
       "(11.551374, 12.480124)"
      ]
     },
     "execution_count": 33,
     "metadata": {},
     "output_type": "execute_result"
    }
   ],
   "source": [
    "vmin, vmax"
   ]
  },
  {
   "cell_type": "code",
   "execution_count": 39,
   "metadata": {},
   "outputs": [],
   "source": [
    "# pip install contextily\n",
    "import contextily as ctx"
   ]
  },
  {
   "cell_type": "code",
   "execution_count": 40,
   "metadata": {},
   "outputs": [],
   "source": [
    "gdf_b3857 = gdf_before2.to_crs(3857)\n",
    "gdf_a3857 = gdf_after2.to_crs(3857)"
   ]
  },
  {
   "cell_type": "code",
   "execution_count": 41,
   "metadata": {},
   "outputs": [
    {
     "name": "stderr",
     "output_type": "stream",
     "text": [
      "c:\\Users\\leesh\\AppData\\Local\\Programs\\Python\\Python311\\Lib\\site-packages\\geopandas\\plotting.py:732: FutureWarning:\n",
      "\n",
      "is_categorical_dtype is deprecated and will be removed in a future version. Use isinstance(dtype, CategoricalDtype) instead\n",
      "\n"
     ]
    },
    {
     "data": {
      "image/png": "[encoded data removed]",
      "text/plain": [
       "<Figure size 600x600 with 1 Axes>"
      ]
     },
     "metadata": {
      "image/png": {
       "height": 458,
       "width": 484
      }
     },
     "output_type": "display_data"
    }
   ],
   "source": [
    "ax = gdf_b3857.plot(column='to', k=5, cmap='RdBu_r', figsize=(6, 6), alpha=0.8, vmin=vmin, vmax=vmax)   \n",
    "ctx.add_basemap(ax, source=ctx.providers.Stamen.TonerLite)    # 'http://xdworld.vworld.kr:8080/2d/gray/service/{z}/{x}/{y}.png'\n",
    "ax.set_axis_off()\n",
    "plt.show()"
   ]
  },
  {
   "cell_type": "code",
   "execution_count": 43,
   "metadata": {},
   "outputs": [
    {
     "name": "stderr",
     "output_type": "stream",
     "text": [
      "c:\\Users\\leesh\\AppData\\Local\\Programs\\Python\\Python311\\Lib\\site-packages\\geopandas\\plotting.py:732: FutureWarning:\n",
      "\n",
      "is_categorical_dtype is deprecated and will be removed in a future version. Use isinstance(dtype, CategoricalDtype) instead\n",
      "\n"
     ]
    },
    {
     "data": {
      "image/png": "[encoded data removed]",
      "text/plain": [
       "<Figure size 600x600 with 1 Axes>"
      ]
     },
     "metadata": {
      "image/png": {
       "height": 458,
       "width": 484
      }
     },
     "output_type": "display_data"
    }
   ],
   "source": [
    "ax = gdf_a3857.plot(column='to', k=5, cmap='RdBu_r', figsize=(6, 6), alpha=0.5, vmin=vmin, vmax=vmax)   \n",
    "ctx.add_basemap(ax, source=ctx.providers.Stamen.TonerLite)  \n",
    "ax.set_axis_off()\n",
    "plt.show()"
   ]
  }
 ],
 "metadata": {
  "kernelspec": {
   "display_name": "Python 3",
   "language": "python",
   "name": "python3"
  },
  "language_info": {
   "codemirror_mode": {
    "name": "ipython",
    "version": 3
   },
   "file_extension": ".py",
   "mimetype": "text/x-python",
   "name": "python",
   "nbconvert_exporter": "python",
   "pygments_lexer": "ipython3",
   "version": "3.11.5"
  },
  "orig_nbformat": 4
 },
 "nbformat": 4,
 "nbformat_minor": 2
}
