{
 "cells": [
  {
   "cell_type": "code",
   "execution_count": 3,
   "id": "5ff99438",
   "metadata": {},
   "outputs": [],
   "source": [
    "import matplotlib.pyplot as plt\n",
    "%matplotlib inline\n",
    "plt.rc('font', family='Malgun Gothic') #한글 폰트 적용시"
   ]
  },
  {
   "cell_type": "code",
   "execution_count": 4,
   "id": "26f3c656",
   "metadata": {},
   "outputs": [],
   "source": [
    "import pandas as pd"
   ]
  },
  {
   "cell_type": "code",
   "execution_count": 5,
   "id": "c9678138",
   "metadata": {},
   "outputs": [
    {
     "name": "stdout",
     "output_type": "stream",
     "text": [
      "<class 'pandas.core.frame.DataFrame'>\n",
      "RangeIndex: 392 entries, 0 to 391\n",
      "Data columns (total 11 columns):\n",
      " #   Column  Non-Null Count  Dtype  \n",
      "---  ------  --------------  -----  \n",
      " 0   sstn    392 non-null    object \n",
      " 1   sdep    392 non-null    int64  \n",
      " 2   stmp    392 non-null    float64\n",
      " 3   ssal    392 non-null    float64\n",
      " 4   sden    392 non-null    float64\n",
      " 5   spHa    392 non-null    float64\n",
      " 6   stub    392 non-null    float64\n",
      " 7   sflu    392 non-null    float64\n",
      " 8   ssig    392 non-null    float64\n",
      " 9   oxys    392 non-null    float64\n",
      " 10  oxyc    392 non-null    float64\n",
      "dtypes: float64(9), int64(1), object(1)\n",
      "memory usage: 33.8+ KB\n"
     ]
    },
    {
     "data": {
      "text/html": [
       "<div>\n",
       "<style scoped>\n",
       "    .dataframe tbody tr th:only-of-type {\n",
       "        vertical-align: middle;\n",
       "    }\n",
       "\n",
       "    .dataframe tbody tr th {\n",
       "        vertical-align: top;\n",
       "    }\n",
       "\n",
       "    .dataframe thead th {\n",
       "        text-align: right;\n",
       "    }\n",
       "</style>\n",
       "<table border=\"1\" class=\"dataframe\">\n",
       "  <thead>\n",
       "    <tr style=\"text-align: right;\">\n",
       "      <th></th>\n",
       "      <th>sstn</th>\n",
       "      <th>sdep</th>\n",
       "      <th>stmp</th>\n",
       "      <th>ssal</th>\n",
       "      <th>sden</th>\n",
       "      <th>spHa</th>\n",
       "      <th>stub</th>\n",
       "      <th>sflu</th>\n",
       "      <th>ssig</th>\n",
       "      <th>oxys</th>\n",
       "      <th>oxyc</th>\n",
       "    </tr>\n",
       "  </thead>\n",
       "  <tbody>\n",
       "    <tr>\n",
       "      <th>0</th>\n",
       "      <td>St.1</td>\n",
       "      <td>1</td>\n",
       "      <td>24.166200</td>\n",
       "      <td>32.408900</td>\n",
       "      <td>1021.638000</td>\n",
       "      <td>9.139500</td>\n",
       "      <td>3.911350</td>\n",
       "      <td>1.671250</td>\n",
       "      <td>21.632350</td>\n",
       "      <td>93.278500</td>\n",
       "      <td>4.550200</td>\n",
       "    </tr>\n",
       "    <tr>\n",
       "      <th>1</th>\n",
       "      <td>St.1</td>\n",
       "      <td>2</td>\n",
       "      <td>24.169157</td>\n",
       "      <td>32.409829</td>\n",
       "      <td>1021.641000</td>\n",
       "      <td>9.139571</td>\n",
       "      <td>0.413857</td>\n",
       "      <td>1.686200</td>\n",
       "      <td>21.632157</td>\n",
       "      <td>98.182857</td>\n",
       "      <td>4.789171</td>\n",
       "    </tr>\n",
       "    <tr>\n",
       "      <th>2</th>\n",
       "      <td>St.1</td>\n",
       "      <td>3</td>\n",
       "      <td>24.173420</td>\n",
       "      <td>32.399820</td>\n",
       "      <td>1021.636360</td>\n",
       "      <td>9.139600</td>\n",
       "      <td>0.477920</td>\n",
       "      <td>1.679240</td>\n",
       "      <td>21.623380</td>\n",
       "      <td>91.215400</td>\n",
       "      <td>4.449220</td>\n",
       "    </tr>\n",
       "    <tr>\n",
       "      <th>3</th>\n",
       "      <td>St.1</td>\n",
       "      <td>4</td>\n",
       "      <td>24.181357</td>\n",
       "      <td>32.410657</td>\n",
       "      <td>1021.646929</td>\n",
       "      <td>9.139500</td>\n",
       "      <td>0.470100</td>\n",
       "      <td>1.646807</td>\n",
       "      <td>21.629207</td>\n",
       "      <td>101.966429</td>\n",
       "      <td>4.972650</td>\n",
       "    </tr>\n",
       "    <tr>\n",
       "      <th>4</th>\n",
       "      <td>St.1</td>\n",
       "      <td>5</td>\n",
       "      <td>24.189100</td>\n",
       "      <td>32.410180</td>\n",
       "      <td>1021.648020</td>\n",
       "      <td>9.139600</td>\n",
       "      <td>0.543520</td>\n",
       "      <td>1.616060</td>\n",
       "      <td>21.626600</td>\n",
       "      <td>102.514400</td>\n",
       "      <td>4.998720</td>\n",
       "    </tr>\n",
       "  </tbody>\n",
       "</table>\n",
       "</div>"
      ],
      "text/plain": [
       "   sstn  sdep       stmp       ssal         sden      spHa      stub  \\\n",
       "0  St.1     1  24.166200  32.408900  1021.638000  9.139500  3.911350   \n",
       "1  St.1     2  24.169157  32.409829  1021.641000  9.139571  0.413857   \n",
       "2  St.1     3  24.173420  32.399820  1021.636360  9.139600  0.477920   \n",
       "3  St.1     4  24.181357  32.410657  1021.646929  9.139500  0.470100   \n",
       "4  St.1     5  24.189100  32.410180  1021.648020  9.139600  0.543520   \n",
       "\n",
       "       sflu       ssig        oxys      oxyc  \n",
       "0  1.671250  21.632350   93.278500  4.550200  \n",
       "1  1.686200  21.632157   98.182857  4.789171  \n",
       "2  1.679240  21.623380   91.215400  4.449220  \n",
       "3  1.646807  21.629207  101.966429  4.972650  \n",
       "4  1.616060  21.626600  102.514400  4.998720  "
      ]
     },
     "execution_count": 5,
     "metadata": {},
     "output_type": "execute_result"
    }
   ],
   "source": [
    "# CTD 데이터\n",
    "df = pd.read_csv('../data/CTD/현장조사자료.csv', encoding=\"UTF-8\")\n",
    "df.info()\n",
    "df.head()"
   ]
  },
  {
   "cell_type": "code",
   "execution_count": 6,
   "id": "8ea8bb57",
   "metadata": {},
   "outputs": [
    {
     "data": {
      "text/html": [
       "<div>\n",
       "<style scoped>\n",
       "    .dataframe tbody tr th:only-of-type {\n",
       "        vertical-align: middle;\n",
       "    }\n",
       "\n",
       "    .dataframe tbody tr th {\n",
       "        vertical-align: top;\n",
       "    }\n",
       "\n",
       "    .dataframe thead th {\n",
       "        text-align: right;\n",
       "    }\n",
       "</style>\n",
       "<table border=\"1\" class=\"dataframe\">\n",
       "  <thead>\n",
       "    <tr style=\"text-align: right;\">\n",
       "      <th></th>\n",
       "      <th>sdep</th>\n",
       "      <th>stmp</th>\n",
       "      <th>ssal</th>\n",
       "      <th>sden</th>\n",
       "      <th>spHa</th>\n",
       "      <th>stub</th>\n",
       "      <th>sflu</th>\n",
       "      <th>ssig</th>\n",
       "      <th>oxys</th>\n",
       "      <th>oxyc</th>\n",
       "    </tr>\n",
       "  </thead>\n",
       "  <tbody>\n",
       "    <tr>\n",
       "      <th>count</th>\n",
       "      <td>392.000000</td>\n",
       "      <td>392.000000</td>\n",
       "      <td>392.000000</td>\n",
       "      <td>392.000000</td>\n",
       "      <td>392.000000</td>\n",
       "      <td>392.000000</td>\n",
       "      <td>392.000000</td>\n",
       "      <td>392.000000</td>\n",
       "      <td>392.000000</td>\n",
       "      <td>392.000000</td>\n",
       "    </tr>\n",
       "    <tr>\n",
       "      <th>mean</th>\n",
       "      <td>35.012755</td>\n",
       "      <td>18.377780</td>\n",
       "      <td>33.190897</td>\n",
       "      <td>1023.909432</td>\n",
       "      <td>9.088718</td>\n",
       "      <td>0.943103</td>\n",
       "      <td>0.442605</td>\n",
       "      <td>23.753948</td>\n",
       "      <td>73.189163</td>\n",
       "      <td>3.920062</td>\n",
       "    </tr>\n",
       "    <tr>\n",
       "      <th>std</th>\n",
       "      <td>21.739856</td>\n",
       "      <td>3.262204</td>\n",
       "      <td>1.099302</td>\n",
       "      <td>1.717146</td>\n",
       "      <td>0.053401</td>\n",
       "      <td>2.838726</td>\n",
       "      <td>0.512400</td>\n",
       "      <td>1.641557</td>\n",
       "      <td>14.724398</td>\n",
       "      <td>0.595958</td>\n",
       "    </tr>\n",
       "    <tr>\n",
       "      <th>min</th>\n",
       "      <td>1.000000</td>\n",
       "      <td>15.003750</td>\n",
       "      <td>29.931000</td>\n",
       "      <td>1019.012450</td>\n",
       "      <td>9.007000</td>\n",
       "      <td>0.061020</td>\n",
       "      <td>0.021940</td>\n",
       "      <td>19.006750</td>\n",
       "      <td>55.801000</td>\n",
       "      <td>3.112600</td>\n",
       "    </tr>\n",
       "    <tr>\n",
       "      <th>25%</th>\n",
       "      <td>17.000000</td>\n",
       "      <td>15.932889</td>\n",
       "      <td>32.558272</td>\n",
       "      <td>1022.952333</td>\n",
       "      <td>9.051300</td>\n",
       "      <td>0.235686</td>\n",
       "      <td>0.094244</td>\n",
       "      <td>22.888784</td>\n",
       "      <td>61.127619</td>\n",
       "      <td>3.397919</td>\n",
       "    </tr>\n",
       "    <tr>\n",
       "      <th>50%</th>\n",
       "      <td>33.000000</td>\n",
       "      <td>17.206800</td>\n",
       "      <td>33.506269</td>\n",
       "      <td>1024.595857</td>\n",
       "      <td>9.073533</td>\n",
       "      <td>0.461277</td>\n",
       "      <td>0.193575</td>\n",
       "      <td>24.430019</td>\n",
       "      <td>68.350864</td>\n",
       "      <td>3.814925</td>\n",
       "    </tr>\n",
       "    <tr>\n",
       "      <th>75%</th>\n",
       "      <td>50.250000</td>\n",
       "      <td>19.967821</td>\n",
       "      <td>33.994060</td>\n",
       "      <td>1025.231606</td>\n",
       "      <td>9.122000</td>\n",
       "      <td>0.908579</td>\n",
       "      <td>0.631356</td>\n",
       "      <td>25.046518</td>\n",
       "      <td>87.197714</td>\n",
       "      <td>4.354793</td>\n",
       "    </tr>\n",
       "    <tr>\n",
       "      <th>max</th>\n",
       "      <td>83.000000</td>\n",
       "      <td>26.785300</td>\n",
       "      <td>34.411000</td>\n",
       "      <td>1025.746278</td>\n",
       "      <td>9.219579</td>\n",
       "      <td>52.068000</td>\n",
       "      <td>2.479200</td>\n",
       "      <td>25.433667</td>\n",
       "      <td>117.861500</td>\n",
       "      <td>5.945800</td>\n",
       "    </tr>\n",
       "  </tbody>\n",
       "</table>\n",
       "</div>"
      ],
      "text/plain": [
       "             sdep        stmp        ssal         sden        spHa  \\\n",
       "count  392.000000  392.000000  392.000000   392.000000  392.000000   \n",
       "mean    35.012755   18.377780   33.190897  1023.909432    9.088718   \n",
       "std     21.739856    3.262204    1.099302     1.717146    0.053401   \n",
       "min      1.000000   15.003750   29.931000  1019.012450    9.007000   \n",
       "25%     17.000000   15.932889   32.558272  1022.952333    9.051300   \n",
       "50%     33.000000   17.206800   33.506269  1024.595857    9.073533   \n",
       "75%     50.250000   19.967821   33.994060  1025.231606    9.122000   \n",
       "max     83.000000   26.785300   34.411000  1025.746278    9.219579   \n",
       "\n",
       "             stub        sflu        ssig        oxys        oxyc  \n",
       "count  392.000000  392.000000  392.000000  392.000000  392.000000  \n",
       "mean     0.943103    0.442605   23.753948   73.189163    3.920062  \n",
       "std      2.838726    0.512400    1.641557   14.724398    0.595958  \n",
       "min      0.061020    0.021940   19.006750   55.801000    3.112600  \n",
       "25%      0.235686    0.094244   22.888784   61.127619    3.397919  \n",
       "50%      0.461277    0.193575   24.430019   68.350864    3.814925  \n",
       "75%      0.908579    0.631356   25.046518   87.197714    4.354793  \n",
       "max     52.068000    2.479200   25.433667  117.861500    5.945800  "
      ]
     },
     "execution_count": 6,
     "metadata": {},
     "output_type": "execute_result"
    }
   ],
   "source": [
    "df.describe()"
   ]
  },
  {
   "cell_type": "markdown",
   "id": "1bbdc0a6",
   "metadata": {},
   "source": [
    "### sstn에서 St.1\t만 추출"
   ]
  },
  {
   "cell_type": "code",
   "execution_count": 7,
   "id": "a80529c9",
   "metadata": {},
   "outputs": [
    {
     "name": "stdout",
     "output_type": "stream",
     "text": [
      "<class 'pandas.core.frame.DataFrame'>\n",
      "Index: 48 entries, 0 to 47\n",
      "Data columns (total 11 columns):\n",
      " #   Column  Non-Null Count  Dtype  \n",
      "---  ------  --------------  -----  \n",
      " 0   sstn    48 non-null     object \n",
      " 1   sdep    48 non-null     int64  \n",
      " 2   stmp    48 non-null     float64\n",
      " 3   ssal    48 non-null     float64\n",
      " 4   sden    48 non-null     float64\n",
      " 5   spHa    48 non-null     float64\n",
      " 6   stub    48 non-null     float64\n",
      " 7   sflu    48 non-null     float64\n",
      " 8   ssig    48 non-null     float64\n",
      " 9   oxys    48 non-null     float64\n",
      " 10  oxyc    48 non-null     float64\n",
      "dtypes: float64(9), int64(1), object(1)\n",
      "memory usage: 4.5+ KB\n"
     ]
    },
    {
     "data": {
      "text/html": [
       "<div>\n",
       "<style scoped>\n",
       "    .dataframe tbody tr th:only-of-type {\n",
       "        vertical-align: middle;\n",
       "    }\n",
       "\n",
       "    .dataframe tbody tr th {\n",
       "        vertical-align: top;\n",
       "    }\n",
       "\n",
       "    .dataframe thead th {\n",
       "        text-align: right;\n",
       "    }\n",
       "</style>\n",
       "<table border=\"1\" class=\"dataframe\">\n",
       "  <thead>\n",
       "    <tr style=\"text-align: right;\">\n",
       "      <th></th>\n",
       "      <th>sstn</th>\n",
       "      <th>sdep</th>\n",
       "      <th>stmp</th>\n",
       "      <th>ssal</th>\n",
       "      <th>sden</th>\n",
       "      <th>spHa</th>\n",
       "      <th>stub</th>\n",
       "      <th>sflu</th>\n",
       "      <th>ssig</th>\n",
       "      <th>oxys</th>\n",
       "      <th>oxyc</th>\n",
       "    </tr>\n",
       "  </thead>\n",
       "  <tbody>\n",
       "    <tr>\n",
       "      <th>0</th>\n",
       "      <td>St.1</td>\n",
       "      <td>1</td>\n",
       "      <td>24.166200</td>\n",
       "      <td>32.408900</td>\n",
       "      <td>1021.638000</td>\n",
       "      <td>9.139500</td>\n",
       "      <td>3.911350</td>\n",
       "      <td>1.671250</td>\n",
       "      <td>21.632350</td>\n",
       "      <td>93.278500</td>\n",
       "      <td>4.550200</td>\n",
       "    </tr>\n",
       "    <tr>\n",
       "      <th>1</th>\n",
       "      <td>St.1</td>\n",
       "      <td>2</td>\n",
       "      <td>24.169157</td>\n",
       "      <td>32.409829</td>\n",
       "      <td>1021.641000</td>\n",
       "      <td>9.139571</td>\n",
       "      <td>0.413857</td>\n",
       "      <td>1.686200</td>\n",
       "      <td>21.632157</td>\n",
       "      <td>98.182857</td>\n",
       "      <td>4.789171</td>\n",
       "    </tr>\n",
       "    <tr>\n",
       "      <th>2</th>\n",
       "      <td>St.1</td>\n",
       "      <td>3</td>\n",
       "      <td>24.173420</td>\n",
       "      <td>32.399820</td>\n",
       "      <td>1021.636360</td>\n",
       "      <td>9.139600</td>\n",
       "      <td>0.477920</td>\n",
       "      <td>1.679240</td>\n",
       "      <td>21.623380</td>\n",
       "      <td>91.215400</td>\n",
       "      <td>4.449220</td>\n",
       "    </tr>\n",
       "    <tr>\n",
       "      <th>3</th>\n",
       "      <td>St.1</td>\n",
       "      <td>4</td>\n",
       "      <td>24.181357</td>\n",
       "      <td>32.410657</td>\n",
       "      <td>1021.646929</td>\n",
       "      <td>9.139500</td>\n",
       "      <td>0.470100</td>\n",
       "      <td>1.646807</td>\n",
       "      <td>21.629207</td>\n",
       "      <td>101.966429</td>\n",
       "      <td>4.972650</td>\n",
       "    </tr>\n",
       "    <tr>\n",
       "      <th>4</th>\n",
       "      <td>St.1</td>\n",
       "      <td>5</td>\n",
       "      <td>24.189100</td>\n",
       "      <td>32.410180</td>\n",
       "      <td>1021.648020</td>\n",
       "      <td>9.139600</td>\n",
       "      <td>0.543520</td>\n",
       "      <td>1.616060</td>\n",
       "      <td>21.626600</td>\n",
       "      <td>102.514400</td>\n",
       "      <td>4.998720</td>\n",
       "    </tr>\n",
       "  </tbody>\n",
       "</table>\n",
       "</div>"
      ],
      "text/plain": [
       "   sstn  sdep       stmp       ssal         sden      spHa      stub  \\\n",
       "0  St.1     1  24.166200  32.408900  1021.638000  9.139500  3.911350   \n",
       "1  St.1     2  24.169157  32.409829  1021.641000  9.139571  0.413857   \n",
       "2  St.1     3  24.173420  32.399820  1021.636360  9.139600  0.477920   \n",
       "3  St.1     4  24.181357  32.410657  1021.646929  9.139500  0.470100   \n",
       "4  St.1     5  24.189100  32.410180  1021.648020  9.139600  0.543520   \n",
       "\n",
       "       sflu       ssig        oxys      oxyc  \n",
       "0  1.671250  21.632350   93.278500  4.550200  \n",
       "1  1.686200  21.632157   98.182857  4.789171  \n",
       "2  1.679240  21.623380   91.215400  4.449220  \n",
       "3  1.646807  21.629207  101.966429  4.972650  \n",
       "4  1.616060  21.626600  102.514400  4.998720  "
      ]
     },
     "execution_count": 7,
     "metadata": {},
     "output_type": "execute_result"
    }
   ],
   "source": [
    "df1 = df[ df.sstn == 'St.1' ]\n",
    "df1.info()\n",
    "df1.head()"
   ]
  },
  {
   "cell_type": "markdown",
   "id": "ca70c359",
   "metadata": {},
   "source": [
    "read me.txt에 항목에 대한 설명이 있음 \n",
    "sstn: station number  \n",
    "sdep: Depth [m]  \n",
    "stmp: Temperature [deg C]   \n",
    "ssal: Salinity, Practical [PSU]   \n",
    "sden: Density [kg/m^3]   \n",
    "spHa: ph: pH   \n",
    "stub: Turbidity, WET Labs ECO [NTU]  \n",
    "sflu: Fluorescence [mg/m^3]   \n",
    "ssig: Sigma-t [kg/m^3 ]    \n",
    "oxys: Oxygen [% saturation]   \n",
    "oxyc: Oxygen [ml/l]   "
   ]
  },
  {
   "cell_type": "code",
   "execution_count": 8,
   "id": "223e7fcb",
   "metadata": {},
   "outputs": [
    {
     "data": {
      "image/png": "[encoded data removed]",
      "text/plain": [
       "<Figure size 1000x1000 with 1 Axes>"
      ]
     },
     "metadata": {},
     "output_type": "display_data"
    }
   ],
   "source": [
    "fig1 = plt.figure( figsize=(10,10))\n",
    "ax1 = fig1.add_subplot(111)\n",
    "ax1.plot(df1.stmp, df1.sdep,'o-')\n",
    " \n",
    "# Draw x label\n",
    "ax1.set_xlabel('Temperature (C)')\n",
    "ax1.xaxis.set_label_position('top') # this moves the label to the top\n",
    "ax1.xaxis.set_ticks_position('top') # this moves the ticks to the top\n",
    "#ax1.xaxis.tick_top() # ANOTHER way to move the ticks to the top\n",
    " \n",
    "# Draw y label\n",
    "ax1.set_ylabel('Depth (m)')\n",
    "ax1.set_ylim(ax1.get_ylim()[::-1]) #this reverses the yaxis (i.e. deep at the bottom)\n",
    " \n",
    "plt.show()"
   ]
  },
  {
   "cell_type": "code",
   "execution_count": 9,
   "id": "c0e4c6e1",
   "metadata": {},
   "outputs": [
    {
     "data": {
      "image/png": "[encoded data removed]",
      "text/plain": [
       "<Figure size 3000x800 with 9 Axes>"
      ]
     },
     "metadata": {},
     "output_type": "display_data"
    }
   ],
   "source": [
    "# Three-panel plot\n",
    "fig2, (ax2, ax3, ax4, ax5, ax6, ax7, ax8, ax9, ax10) = plt.subplots(1,9,sharey=True, figsize=(30, 8))\n",
    "\n",
    "# Temperature\n",
    "ax2.plot(df1.stmp, df1.sdep,'o-')\n",
    "ax2.set_ylabel('Depth [m]')\n",
    "ax2.set_ylim(ax2.get_ylim()[::-1]) #this reverses the yaxis (i.e. deep at the bottom)\n",
    "ax2.set_xlabel('Temperature [deg C]')\n",
    "ax2.xaxis.set_label_position('top') # this moves the label to the top\n",
    "ax2.xaxis.set_ticks_position('top') # this moves the ticks to the top\n",
    "\n",
    "# Salinity\n",
    "ax3.plot(df1.ssal, df1.sdep,'o-r')\n",
    "ax3.set_xlabel('Salinity, Practical [PSU]')\n",
    "ax3.xaxis.set_label_position('top') # this moves the label to the top\n",
    "ax3.xaxis.set_ticks_position('top') # this moves the ticks to the top\n",
    "ax3.yaxis.set_visible(False) # This erases the y ticks\n",
    "\n",
    "# Density\n",
    "ax4.plot(df1.sden, df1.sdep,'o-g')\n",
    "ax4.set_xlabel('Density [kg/m^3]')\n",
    "ax4.xaxis.set_label_position('top') # this moves the label to the top\n",
    "ax4.xaxis.set_ticks_position('top') # this moves the ticks to the top\n",
    "ax4.yaxis.set_visible(False) # This erases the y ticks\n",
    "\n",
    "# pH\n",
    "ax5.plot(df1.spHa, df1.sdep,'o-b')\n",
    "ax5.set_xlabel('pH')\n",
    "ax5.xaxis.set_label_position('top') # this moves the label to the top\n",
    "ax5.xaxis.set_ticks_position('top') # this moves the ticks to the top\n",
    "ax5.yaxis.set_visible(False) # This erases the y ticks\n",
    "\n",
    "# Turbidity\n",
    "ax6.plot(df1.stub, df1.sdep,'o-k')\n",
    "ax6.set_xlabel('Turbidity')\n",
    "ax6.xaxis.set_label_position('top') # this moves the label to the top\n",
    "ax6.xaxis.set_ticks_position('top') # this moves the ticks to the top\n",
    "ax6.yaxis.set_visible(False) # This erases the y ticks\n",
    "\n",
    "# Fluorescence\n",
    "ax7.plot(df1.sflu, df1.sdep,'o-')\n",
    "ax7.set_xlabel('Fluorescence')\n",
    "ax7.xaxis.set_label_position('top') # this moves the label to the top\n",
    "ax7.xaxis.set_ticks_position('top') # this moves the ticks to the top\n",
    "ax7.yaxis.set_visible(False) # This erases the y ticks\n",
    "\n",
    "# Sigma-t [kg/m^3 ]\n",
    "ax8.plot(df1.ssig, df1.sdep,'o-r')\n",
    "ax8.set_xlabel('Sigma-t [kg/m^3 ]')\n",
    "ax8.xaxis.set_label_position('top') # this moves the label to the top\n",
    "ax8.xaxis.set_ticks_position('top') # this moves the ticks to the top\n",
    "ax8.yaxis.set_visible(False) # This erases the y ticks\n",
    "\n",
    "# Oxygen [% saturation]\n",
    "ax9.plot(df1.oxys, df1.sdep,'o-g')\n",
    "ax9.set_xlabel('Oxygen [% saturation]')\n",
    "ax9.xaxis.set_label_position('top') # this moves the label to the top\n",
    "ax9.xaxis.set_ticks_position('top') # this moves the ticks to the top\n",
    "ax9.yaxis.set_visible(False) # This erases the y ticks\n",
    "\n",
    "# Oxygen [ml/l]\n",
    "ax10.plot(df1.oxyc, df1.sdep,'o-b')\n",
    "ax10.set_xlabel('Oxygen [ml/l]')\n",
    "ax10.xaxis.set_label_position('top') # this moves the label to the top\n",
    "ax10.xaxis.set_ticks_position('top') # this moves the ticks to the top\n",
    "ax10.yaxis.set_visible(False) # This erases the y ticks\n",
    "\n",
    "fig = plt.gcf()\n",
    "plt.savefig(\"result/CTD_St.1.png\", bbox_inches='tight', pad_inches=0.01)"
   ]
  },
  {
   "cell_type": "markdown",
   "id": "ecce3765",
   "metadata": {},
   "source": [
    "### plotly 시각화 패키지를 이용하면 interactive한 3차원 차트 시각화도 할 수 있습니다 "
   ]
  },
  {
   "cell_type": "code",
   "execution_count": 10,
   "id": "20d39dae",
   "metadata": {},
   "outputs": [],
   "source": [
    "import plotly.express as px"
   ]
  },
  {
   "cell_type": "code",
   "execution_count": 17,
   "id": "d6d0bebd",
   "metadata": {},
   "outputs": [
    {
     "data": {
      "application/vnd.plotly.v1+json": {
       "config": {
        "plotlyServerURL": "https://plot.ly"
       },
       "data": [
        {
         "hovertemplate": "stmp=%{x}<br>ssal=%{y}<br>sdep=%{z}<extra></extra>",
         "legendgroup": "",
         "marker": {
          "color": "#636efa",
          "symbol": "circle"
         },
         "mode": "markers",
         "name": "",
         "scene": "scene",
         "showlegend": false,
         "type": "scatter3d",
         "x": [
          24.1662,
          24.16915714,
          24.17342,
          24.18135714,
          24.1891,
          24.171275,
          24.05426667,
          24.07853333,
          23.8843,
          23.609375,
          23.741775,
          23.6175125,
          22.82713846,
          21.9912,
          20.5946,
          19.13757273,
          18.59118571,
          18.540075,
          18.57223333,
          18.6310125,
          18.56504,
          18.37634,
          17.99997778,
          17.61583529,
          17.41235,
          17.2034375,
          16.830775,
          16.76152,
          16.52608,
          16.24328182,
          15.93377188,
          15.88627931,
          15.85048095,
          15.81685,
          15.76616667,
          15.63231667,
          15.45797143,
          15.19388571,
          15.07882857,
          15.02736667,
          15.01224,
          15.007275,
          15.00997,
          15.01193333,
          15.00784,
          15.00375,
          15.0042931,
          15.0078
         ],
         "y": [
          32.4089,
          32.40982857,
          32.39982,
          32.41065714,
          32.41018,
          32.3766,
          32.44826667,
          32.43442667,
          32.3958375,
          32.513675,
          32.533575,
          32.414125,
          32.50273846,
          32.41986667,
          31.9787,
          32.62833636,
          32.80842857,
          33.1004,
          33.25595,
          33.28666875,
          33.29816,
          33.31432,
          33.33117778,
          33.44701176,
          33.51561667,
          33.4972875,
          33.6349875,
          33.65794,
          33.62484,
          33.75672727,
          33.84634063,
          33.86113103,
          33.86624762,
          33.8705,
          33.78603333,
          33.89335,
          33.96555714,
          34.15565714,
          34.24958571,
          34.2879,
          34.29622,
          34.300825,
          34.30203,
          34.29875,
          34.3012,
          34.30288333,
          34.30266552,
          34.30185
         ],
         "z": [
          1,
          2,
          3,
          4,
          5,
          6,
          7,
          8,
          9,
          10,
          11,
          12,
          13,
          14,
          15,
          16,
          17,
          18,
          19,
          20,
          21,
          22,
          23,
          24,
          25,
          26,
          27,
          28,
          29,
          30,
          31,
          32,
          33,
          34,
          35,
          36,
          37,
          38,
          39,
          40,
          41,
          42,
          43,
          44,
          45,
          46,
          47,
          48
         ]
        }
       ],
       "layout": {
        "height": 800,
        "legend": {
         "tracegroupgap": 0
        },
        "margin": {
         "t": 60
        },
        "scene": {
         "domain": {
          "x": [
           0,
           1
          ],
          "y": [
           0,
           1
          ]
         },
         "xaxis": {
          "title": {
           "text": "Temperature (C)"
          }
         },
         "yaxis": {
          "title": {
           "text": "Salinity"
          }
         },
         "zaxis": {
          "autorange": "reversed",
          "title": {
           "text": "Depth (m)"
          }
         }
        },
        "template": {
         "data": {
          "bar": [
           {
            "error_x": {
             "color": "#2a3f5f"
            },
            "error_y": {
             "color": "#2a3f5f"
            },
            "marker": {
             "line": {
              "color": "#E5ECF6",
              "width": 0.5
             },
             "pattern": {
              "fillmode": "overlay",
              "size": 10,
              "solidity": 0.2
             }
            },
            "type": "bar"
           }
          ],
          "barpolar": [
           {
            "marker": {
             "line": {
              "color": "#E5ECF6",
              "width": 0.5
             },
             "pattern": {
              "fillmode": "overlay",
              "size": 10,
              "solidity": 0.2
             }
            },
            "type": "barpolar"
           }
          ],
          "carpet": [
           {
            "aaxis": {
             "endlinecolor": "#2a3f5f",
             "gridcolor": "white",
             "linecolor": "white",
             "minorgridcolor": "white",
             "startlinecolor": "#2a3f5f"
            },
            "baxis": {
             "endlinecolor": "#2a3f5f",
             "gridcolor": "white",
             "linecolor": "white",
             "minorgridcolor": "white",
             "startlinecolor": "#2a3f5f"
            },
            "type": "carpet"
           }
          ],
          "choropleth": [
           {
            "colorbar": {
             "outlinewidth": 0,
             "ticks": ""
            },
            "type": "choropleth"
           }
          ],
          "contour": [
           {
            "colorbar": {
             "outlinewidth": 0,
             "ticks": ""
            },
            "colorscale": [
             [
              0,
              "#0d0887"
             ],
             [
              0.1111111111111111,
              "#46039f"
             ],
             [
              0.2222222222222222,
              "#7201a8"
             ],
             [
              0.3333333333333333,
              "#9c179e"
             ],
             [
              0.4444444444444444,
              "#bd3786"
             ],
             [
              0.5555555555555556,
              "#d8576b"
             ],
             [
              0.6666666666666666,
              "#ed7953"
             ],
             [
              0.7777777777777778,
              "#fb9f3a"
             ],
             [
              0.8888888888888888,
              "#fdca26"
             ],
             [
              1,
              "#f0f921"
             ]
            ],
            "type": "contour"
           }
          ],
          "contourcarpet": [
           {
            "colorbar": {
             "outlinewidth": 0,
             "ticks": ""
            },
            "type": "contourcarpet"
           }
          ],
          "heatmap": [
           {
            "colorbar": {
             "outlinewidth": 0,
             "ticks": ""
            },
            "colorscale": [
             [
              0,
              "#0d0887"
             ],
             [
              0.1111111111111111,
              "#46039f"
             ],
             [
              0.2222222222222222,
              "#7201a8"
             ],
             [
              0.3333333333333333,
              "#9c179e"
             ],
             [
              0.4444444444444444,
              "#bd3786"
             ],
             [
              0.5555555555555556,
              "#d8576b"
             ],
             [
              0.6666666666666666,
              "#ed7953"
             ],
             [
              0.7777777777777778,
              "#fb9f3a"
             ],
             [
              0.8888888888888888,
              "#fdca26"
             ],
             [
              1,
              "#f0f921"
             ]
            ],
            "type": "heatmap"
           }
          ],
          "heatmapgl": [
           {
            "colorbar": {
             "outlinewidth": 0,
             "ticks": ""
            },
            "colorscale": [
             [
              0,
              "#0d0887"
             ],
             [
              0.1111111111111111,
              "#46039f"
             ],
             [
              0.2222222222222222,
              "#7201a8"
             ],
             [
              0.3333333333333333,
              "#9c179e"
             ],
             [
              0.4444444444444444,
              "#bd3786"
             ],
             [
              0.5555555555555556,
              "#d8576b"
             ],
             [
              0.6666666666666666,
              "#ed7953"
             ],
             [
              0.7777777777777778,
              "#fb9f3a"
             ],
             [
              0.8888888888888888,
              "#fdca26"
             ],
             [
              1,
              "#f0f921"
             ]
            ],
            "type": "heatmapgl"
           }
          ],
          "histogram": [
           {
            "marker": {
             "pattern": {
              "fillmode": "overlay",
              "size": 10,
              "solidity": 0.2
             }
            },
            "type": "histogram"
           }
          ],
          "histogram2d": [
           {
            "colorbar": {
             "outlinewidth": 0,
             "ticks": ""
            },
            "colorscale": [
             [
              0,
              "#0d0887"
             ],
             [
              0.1111111111111111,
              "#46039f"
             ],
             [
              0.2222222222222222,
              "#7201a8"
             ],
             [
              0.3333333333333333,
              "#9c179e"
             ],
             [
              0.4444444444444444,
              "#bd3786"
             ],
             [
              0.5555555555555556,
              "#d8576b"
             ],
             [
              0.6666666666666666,
              "#ed7953"
             ],
             [
              0.7777777777777778,
              "#fb9f3a"
             ],
             [
              0.8888888888888888,
              "#fdca26"
             ],
             [
              1,
              "#f0f921"
             ]
            ],
            "type": "histogram2d"
           }
          ],
          "histogram2dcontour": [
           {
            "colorbar": {
             "outlinewidth": 0,
             "ticks": ""
            },
            "colorscale": [
             [
              0,
              "#0d0887"
             ],
             [
              0.1111111111111111,
              "#46039f"
             ],
             [
              0.2222222222222222,
              "#7201a8"
             ],
             [
              0.3333333333333333,
              "#9c179e"
             ],
             [
              0.4444444444444444,
              "#bd3786"
             ],
             [
              0.5555555555555556,
              "#d8576b"
             ],
             [
              0.6666666666666666,
              "#ed7953"
             ],
             [
              0.7777777777777778,
              "#fb9f3a"
             ],
             [
              0.8888888888888888,
              "#fdca26"
             ],
             [
              1,
              "#f0f921"
             ]
            ],
            "type": "histogram2dcontour"
           }
          ],
          "mesh3d": [
           {
            "colorbar": {
             "outlinewidth": 0,
             "ticks": ""
            },
            "type": "mesh3d"
           }
          ],
          "parcoords": [
           {
            "line": {
             "colorbar": {
              "outlinewidth": 0,
              "ticks": ""
             }
            },
            "type": "parcoords"
           }
          ],
          "pie": [
           {
            "automargin": true,
            "type": "pie"
           }
          ],
          "scatter": [
           {
            "fillpattern": {
             "fillmode": "overlay",
             "size": 10,
             "solidity": 0.2
            },
            "type": "scatter"
           }
          ],
          "scatter3d": [
           {
            "line": {
             "colorbar": {
              "outlinewidth": 0,
              "ticks": ""
             }
            },
            "marker": {
             "colorbar": {
              "outlinewidth": 0,
              "ticks": ""
             }
            },
            "type": "scatter3d"
           }
          ],
          "scattercarpet": [
           {
            "marker": {
             "colorbar": {
              "outlinewidth": 0,
              "ticks": ""
             }
            },
            "type": "scattercarpet"
           }
          ],
          "scattergeo": [
           {
            "marker": {
             "colorbar": {
              "outlinewidth": 0,
              "ticks": ""
             }
            },
            "type": "scattergeo"
           }
          ],
          "scattergl": [
           {
            "marker": {
             "colorbar": {
              "outlinewidth": 0,
              "ticks": ""
             }
            },
            "type": "scattergl"
           }
          ],
          "scattermapbox": [
           {
            "marker": {
             "colorbar": {
              "outlinewidth": 0,
              "ticks": ""
             }
            },
            "type": "scattermapbox"
           }
          ],
          "scatterpolar": [
           {
            "marker": {
             "colorbar": {
              "outlinewidth": 0,
              "ticks": ""
             }
            },
            "type": "scatterpolar"
           }
          ],
          "scatterpolargl": [
           {
            "marker": {
             "colorbar": {
              "outlinewidth": 0,
              "ticks": ""
             }
            },
            "type": "scatterpolargl"
           }
          ],
          "scatterternary": [
           {
            "marker": {
             "colorbar": {
              "outlinewidth": 0,
              "ticks": ""
             }
            },
            "type": "scatterternary"
           }
          ],
          "surface": [
           {
            "colorbar": {
             "outlinewidth": 0,
             "ticks": ""
            },
            "colorscale": [
             [
              0,
              "#0d0887"
             ],
             [
              0.1111111111111111,
              "#46039f"
             ],
             [
              0.2222222222222222,
              "#7201a8"
             ],
             [
              0.3333333333333333,
              "#9c179e"
             ],
             [
              0.4444444444444444,
              "#bd3786"
             ],
             [
              0.5555555555555556,
              "#d8576b"
             ],
             [
              0.6666666666666666,
              "#ed7953"
             ],
             [
              0.7777777777777778,
              "#fb9f3a"
             ],
             [
              0.8888888888888888,
              "#fdca26"
             ],
             [
              1,
              "#f0f921"
             ]
            ],
            "type": "surface"
           }
          ],
          "table": [
           {
            "cells": {
             "fill": {
              "color": "#EBF0F8"
             },
             "line": {
              "color": "white"
             }
            },
            "header": {
             "fill": {
              "color": "#C8D4E3"
             },
             "line": {
              "color": "white"
             }
            },
            "type": "table"
           }
          ]
         },
         "layout": {
          "annotationdefaults": {
           "arrowcolor": "#2a3f5f",
           "arrowhead": 0,
           "arrowwidth": 1
          },
          "autotypenumbers": "strict",
          "coloraxis": {
           "colorbar": {
            "outlinewidth": 0,
            "ticks": ""
           }
          },
          "colorscale": {
           "diverging": [
            [
             0,
             "#8e0152"
            ],
            [
             0.1,
             "#c51b7d"
            ],
            [
             0.2,
             "#de77ae"
            ],
            [
             0.3,
             "#f1b6da"
            ],
            [
             0.4,
             "#fde0ef"
            ],
            [
             0.5,
             "#f7f7f7"
            ],
            [
             0.6,
             "#e6f5d0"
            ],
            [
             0.7,
             "#b8e186"
            ],
            [
             0.8,
             "#7fbc41"
            ],
            [
             0.9,
             "#4d9221"
            ],
            [
             1,
             "#276419"
            ]
           ],
           "sequential": [
            [
             0,
             "#0d0887"
            ],
            [
             0.1111111111111111,
             "#46039f"
            ],
            [
             0.2222222222222222,
             "#7201a8"
            ],
            [
             0.3333333333333333,
             "#9c179e"
            ],
            [
             0.4444444444444444,
             "#bd3786"
            ],
            [
             0.5555555555555556,
             "#d8576b"
            ],
            [
             0.6666666666666666,
             "#ed7953"
            ],
            [
             0.7777777777777778,
             "#fb9f3a"
            ],
            [
             0.8888888888888888,
             "#fdca26"
            ],
            [
             1,
             "#f0f921"
            ]
           ],
           "sequentialminus": [
            [
             0,
             "#0d0887"
            ],
            [
             0.1111111111111111,
             "#46039f"
            ],
            [
             0.2222222222222222,
             "#7201a8"
            ],
            [
             0.3333333333333333,
             "#9c179e"
            ],
            [
             0.4444444444444444,
             "#bd3786"
            ],
            [
             0.5555555555555556,
             "#d8576b"
            ],
            [
             0.6666666666666666,
             "#ed7953"
            ],
            [
             0.7777777777777778,
             "#fb9f3a"
            ],
            [
             0.8888888888888888,
             "#fdca26"
            ],
            [
             1,
             "#f0f921"
            ]
           ]
          },
          "colorway": [
           "#636efa",
           "#EF553B",
           "#00cc96",
           "#ab63fa",
           "#FFA15A",
           "#19d3f3",
           "#FF6692",
           "#B6E880",
           "#FF97FF",
           "#FECB52"
          ],
          "font": {
           "color": "#2a3f5f"
          },
          "geo": {
           "bgcolor": "white",
           "lakecolor": "white",
           "landcolor": "#E5ECF6",
           "showlakes": true,
           "showland": true,
           "subunitcolor": "white"
          },
          "hoverlabel": {
           "align": "left"
          },
          "hovermode": "closest",
          "mapbox": {
           "style": "light"
          },
          "paper_bgcolor": "white",
          "plot_bgcolor": "#E5ECF6",
          "polar": {
           "angularaxis": {
            "gridcolor": "white",
            "linecolor": "white",
            "ticks": ""
           },
           "bgcolor": "#E5ECF6",
           "radialaxis": {
            "gridcolor": "white",
            "linecolor": "white",
            "ticks": ""
           }
          },
          "scene": {
           "xaxis": {
            "backgroundcolor": "#E5ECF6",
            "gridcolor": "white",
            "gridwidth": 2,
            "linecolor": "white",
            "showbackground": true,
            "ticks": "",
            "zerolinecolor": "white"
           },
           "yaxis": {
            "backgroundcolor": "#E5ECF6",
            "gridcolor": "white",
            "gridwidth": 2,
            "linecolor": "white",
            "showbackground": true,
            "ticks": "",
            "zerolinecolor": "white"
           },
           "zaxis": {
            "backgroundcolor": "#E5ECF6",
            "gridcolor": "white",
            "gridwidth": 2,
            "linecolor": "white",
            "showbackground": true,
            "ticks": "",
            "zerolinecolor": "white"
           }
          },
          "shapedefaults": {
           "line": {
            "color": "#2a3f5f"
           }
          },
          "ternary": {
           "aaxis": {
            "gridcolor": "white",
            "linecolor": "white",
            "ticks": ""
           },
           "baxis": {
            "gridcolor": "white",
            "linecolor": "white",
            "ticks": ""
           },
           "bgcolor": "#E5ECF6",
           "caxis": {
            "gridcolor": "white",
            "linecolor": "white",
            "ticks": ""
           }
          },
          "title": {
           "x": 0.05
          },
          "xaxis": {
           "automargin": true,
           "gridcolor": "white",
           "linecolor": "white",
           "ticks": "",
           "title": {
            "standoff": 15
           },
           "zerolinecolor": "white",
           "zerolinewidth": 2
          },
          "yaxis": {
           "automargin": true,
           "gridcolor": "white",
           "linecolor": "white",
           "ticks": "",
           "title": {
            "standoff": 15
           },
           "zerolinecolor": "white",
           "zerolinewidth": 2
          }
         }
        },
        "width": 1200
       }
      }
     },
     "metadata": {},
     "output_type": "display_data"
    }
   ],
   "source": [
    "# 3D 스캐터 플롯 생성\n",
    "fig = px.scatter_3d(df1, x='stmp', y='ssal', z='sdep')\n",
    "\n",
    "# x, y, z 레이블 설정\n",
    "fig.update_layout(scene=dict(\n",
    "                    xaxis_title='Temperature (C)',\n",
    "                    yaxis_title='Salinity',\n",
    "                    zaxis_title='Depth (m)'), width=1200, height=800\n",
    "                  )\n",
    "\n",
    "# z축 역순 설정 (깊이)\n",
    "fig.update_layout(scene=dict(zaxis=dict(autorange=\"reversed\")))\n",
    "\n",
    "# 차트 보여주기\n",
    "fig.show()"
   ]
  },
  {
   "cell_type": "code",
   "execution_count": 12,
   "id": "e06ec826",
   "metadata": {},
   "outputs": [],
   "source": [
    "import plotly.graph_objects as go"
   ]
  },
  {
   "cell_type": "code",
   "execution_count": 19,
   "id": "862ffbd6",
   "metadata": {},
   "outputs": [
    {
     "data": {
      "application/vnd.plotly.v1+json": {
       "config": {
        "plotlyServerURL": "https://plot.ly"
       },
       "data": [
        {
         "marker": {
          "color": "red",
          "size": 6
         },
         "mode": "markers",
         "type": "scatter3d",
         "x": [
          24.1662,
          24.16915714,
          24.17342,
          24.18135714,
          24.1891,
          24.171275,
          24.05426667,
          24.07853333,
          23.8843,
          23.609375,
          23.741775,
          23.6175125,
          22.82713846,
          21.9912,
          20.5946,
          19.13757273,
          18.59118571,
          18.540075,
          18.57223333,
          18.6310125,
          18.56504,
          18.37634,
          17.99997778,
          17.61583529,
          17.41235,
          17.2034375,
          16.830775,
          16.76152,
          16.52608,
          16.24328182,
          15.93377188,
          15.88627931,
          15.85048095,
          15.81685,
          15.76616667,
          15.63231667,
          15.45797143,
          15.19388571,
          15.07882857,
          15.02736667,
          15.01224,
          15.007275,
          15.00997,
          15.01193333,
          15.00784,
          15.00375,
          15.0042931,
          15.0078
         ],
         "y": [
          32.4089,
          32.40982857,
          32.39982,
          32.41065714,
          32.41018,
          32.3766,
          32.44826667,
          32.43442667,
          32.3958375,
          32.513675,
          32.533575,
          32.414125,
          32.50273846,
          32.41986667,
          31.9787,
          32.62833636,
          32.80842857,
          33.1004,
          33.25595,
          33.28666875,
          33.29816,
          33.31432,
          33.33117778,
          33.44701176,
          33.51561667,
          33.4972875,
          33.6349875,
          33.65794,
          33.62484,
          33.75672727,
          33.84634063,
          33.86113103,
          33.86624762,
          33.8705,
          33.78603333,
          33.89335,
          33.96555714,
          34.15565714,
          34.24958571,
          34.2879,
          34.29622,
          34.300825,
          34.30203,
          34.29875,
          34.3012,
          34.30288333,
          34.30266552,
          34.30185
         ],
         "z": [
          1,
          2,
          3,
          4,
          5,
          6,
          7,
          8,
          9,
          10,
          11,
          12,
          13,
          14,
          15,
          16,
          17,
          18,
          19,
          20,
          21,
          22,
          23,
          24,
          25,
          26,
          27,
          28,
          29,
          30,
          31,
          32,
          33,
          34,
          35,
          36,
          37,
          38,
          39,
          40,
          41,
          42,
          43,
          44,
          45,
          46,
          47,
          48
         ]
        },
        {
         "line": {
          "color": "blue"
         },
         "mode": "lines",
         "type": "scatter3d",
         "x": [
          24.1662,
          24.16915714,
          24.17342,
          24.18135714,
          24.1891,
          24.171275,
          24.05426667,
          24.07853333,
          23.8843,
          23.609375,
          23.741775,
          23.6175125,
          22.82713846,
          21.9912,
          20.5946,
          19.13757273,
          18.59118571,
          18.540075,
          18.57223333,
          18.6310125,
          18.56504,
          18.37634,
          17.99997778,
          17.61583529,
          17.41235,
          17.2034375,
          16.830775,
          16.76152,
          16.52608,
          16.24328182,
          15.93377188,
          15.88627931,
          15.85048095,
          15.81685,
          15.76616667,
          15.63231667,
          15.45797143,
          15.19388571,
          15.07882857,
          15.02736667,
          15.01224,
          15.007275,
          15.00997,
          15.01193333,
          15.00784,
          15.00375,
          15.0042931,
          15.0078
         ],
         "y": [
          32.4089,
          32.40982857,
          32.39982,
          32.41065714,
          32.41018,
          32.3766,
          32.44826667,
          32.43442667,
          32.3958375,
          32.513675,
          32.533575,
          32.414125,
          32.50273846,
          32.41986667,
          31.9787,
          32.62833636,
          32.80842857,
          33.1004,
          33.25595,
          33.28666875,
          33.29816,
          33.31432,
          33.33117778,
          33.44701176,
          33.51561667,
          33.4972875,
          33.6349875,
          33.65794,
          33.62484,
          33.75672727,
          33.84634063,
          33.86113103,
          33.86624762,
          33.8705,
          33.78603333,
          33.89335,
          33.96555714,
          34.15565714,
          34.24958571,
          34.2879,
          34.29622,
          34.300825,
          34.30203,
          34.29875,
          34.3012,
          34.30288333,
          34.30266552,
          34.30185
         ],
         "z": [
          1,
          2,
          3,
          4,
          5,
          6,
          7,
          8,
          9,
          10,
          11,
          12,
          13,
          14,
          15,
          16,
          17,
          18,
          19,
          20,
          21,
          22,
          23,
          24,
          25,
          26,
          27,
          28,
          29,
          30,
          31,
          32,
          33,
          34,
          35,
          36,
          37,
          38,
          39,
          40,
          41,
          42,
          43,
          44,
          45,
          46,
          47,
          48
         ]
        }
       ],
       "layout": {
        "height": 800,
        "scene": {
         "xaxis": {
          "title": {
           "text": "Temperature (C)"
          }
         },
         "yaxis": {
          "title": {
           "text": "Salinity"
          }
         },
         "zaxis": {
          "autorange": "reversed",
          "title": {
           "text": "Depth (m)"
          }
         }
        },
        "template": {
         "data": {
          "bar": [
           {
            "error_x": {
             "color": "#2a3f5f"
            },
            "error_y": {
             "color": "#2a3f5f"
            },
            "marker": {
             "line": {
              "color": "#E5ECF6",
              "width": 0.5
             },
             "pattern": {
              "fillmode": "overlay",
              "size": 10,
              "solidity": 0.2
             }
            },
            "type": "bar"
           }
          ],
          "barpolar": [
           {
            "marker": {
             "line": {
              "color": "#E5ECF6",
              "width": 0.5
             },
             "pattern": {
              "fillmode": "overlay",
              "size": 10,
              "solidity": 0.2
             }
            },
            "type": "barpolar"
           }
          ],
          "carpet": [
           {
            "aaxis": {
             "endlinecolor": "#2a3f5f",
             "gridcolor": "white",
             "linecolor": "white",
             "minorgridcolor": "white",
             "startlinecolor": "#2a3f5f"
            },
            "baxis": {
             "endlinecolor": "#2a3f5f",
             "gridcolor": "white",
             "linecolor": "white",
             "minorgridcolor": "white",
             "startlinecolor": "#2a3f5f"
            },
            "type": "carpet"
           }
          ],
          "choropleth": [
           {
            "colorbar": {
             "outlinewidth": 0,
             "ticks": ""
            },
            "type": "choropleth"
           }
          ],
          "contour": [
           {
            "colorbar": {
             "outlinewidth": 0,
             "ticks": ""
            },
            "colorscale": [
             [
              0,
              "#0d0887"
             ],
             [
              0.1111111111111111,
              "#46039f"
             ],
             [
              0.2222222222222222,
              "#7201a8"
             ],
             [
              0.3333333333333333,
              "#9c179e"
             ],
             [
              0.4444444444444444,
              "#bd3786"
             ],
             [
              0.5555555555555556,
              "#d8576b"
             ],
             [
              0.6666666666666666,
              "#ed7953"
             ],
             [
              0.7777777777777778,
              "#fb9f3a"
             ],
             [
              0.8888888888888888,
              "#fdca26"
             ],
             [
              1,
              "#f0f921"
             ]
            ],
            "type": "contour"
           }
          ],
          "contourcarpet": [
           {
            "colorbar": {
             "outlinewidth": 0,
             "ticks": ""
            },
            "type": "contourcarpet"
           }
          ],
          "heatmap": [
           {
            "colorbar": {
             "outlinewidth": 0,
             "ticks": ""
            },
            "colorscale": [
             [
              0,
              "#0d0887"
             ],
             [
              0.1111111111111111,
              "#46039f"
             ],
             [
              0.2222222222222222,
              "#7201a8"
             ],
             [
              0.3333333333333333,
              "#9c179e"
             ],
             [
              0.4444444444444444,
              "#bd3786"
             ],
             [
              0.5555555555555556,
              "#d8576b"
             ],
             [
              0.6666666666666666,
              "#ed7953"
             ],
             [
              0.7777777777777778,
              "#fb9f3a"
             ],
             [
              0.8888888888888888,
              "#fdca26"
             ],
             [
              1,
              "#f0f921"
             ]
            ],
            "type": "heatmap"
           }
          ],
          "heatmapgl": [
           {
            "colorbar": {
             "outlinewidth": 0,
             "ticks": ""
            },
            "colorscale": [
             [
              0,
              "#0d0887"
             ],
             [
              0.1111111111111111,
              "#46039f"
             ],
             [
              0.2222222222222222,
              "#7201a8"
             ],
             [
              0.3333333333333333,
              "#9c179e"
             ],
             [
              0.4444444444444444,
              "#bd3786"
             ],
             [
              0.5555555555555556,
              "#d8576b"
             ],
             [
              0.6666666666666666,
              "#ed7953"
             ],
             [
              0.7777777777777778,
              "#fb9f3a"
             ],
             [
              0.8888888888888888,
              "#fdca26"
             ],
             [
              1,
              "#f0f921"
             ]
            ],
            "type": "heatmapgl"
           }
          ],
          "histogram": [
           {
            "marker": {
             "pattern": {
              "fillmode": "overlay",
              "size": 10,
              "solidity": 0.2
             }
            },
            "type": "histogram"
           }
          ],
          "histogram2d": [
           {
            "colorbar": {
             "outlinewidth": 0,
             "ticks": ""
            },
            "colorscale": [
             [
              0,
              "#0d0887"
             ],
             [
              0.1111111111111111,
              "#46039f"
             ],
             [
              0.2222222222222222,
              "#7201a8"
             ],
             [
              0.3333333333333333,
              "#9c179e"
             ],
             [
              0.4444444444444444,
              "#bd3786"
             ],
             [
              0.5555555555555556,
              "#d8576b"
             ],
             [
              0.6666666666666666,
              "#ed7953"
             ],
             [
              0.7777777777777778,
              "#fb9f3a"
             ],
             [
              0.8888888888888888,
              "#fdca26"
             ],
             [
              1,
              "#f0f921"
             ]
            ],
            "type": "histogram2d"
           }
          ],
          "histogram2dcontour": [
           {
            "colorbar": {
             "outlinewidth": 0,
             "ticks": ""
            },
            "colorscale": [
             [
              0,
              "#0d0887"
             ],
             [
              0.1111111111111111,
              "#46039f"
             ],
             [
              0.2222222222222222,
              "#7201a8"
             ],
             [
              0.3333333333333333,
              "#9c179e"
             ],
             [
              0.4444444444444444,
              "#bd3786"
             ],
             [
              0.5555555555555556,
              "#d8576b"
             ],
             [
              0.6666666666666666,
              "#ed7953"
             ],
             [
              0.7777777777777778,
              "#fb9f3a"
             ],
             [
              0.8888888888888888,
              "#fdca26"
             ],
             [
              1,
              "#f0f921"
             ]
            ],
            "type": "histogram2dcontour"
           }
          ],
          "mesh3d": [
           {
            "colorbar": {
             "outlinewidth": 0,
             "ticks": ""
            },
            "type": "mesh3d"
           }
          ],
          "parcoords": [
           {
            "line": {
             "colorbar": {
              "outlinewidth": 0,
              "ticks": ""
             }
            },
            "type": "parcoords"
           }
          ],
          "pie": [
           {
            "automargin": true,
            "type": "pie"
           }
          ],
          "scatter": [
           {
            "fillpattern": {
             "fillmode": "overlay",
             "size": 10,
             "solidity": 0.2
            },
            "type": "scatter"
           }
          ],
          "scatter3d": [
           {
            "line": {
             "colorbar": {
              "outlinewidth": 0,
              "ticks": ""
             }
            },
            "marker": {
             "colorbar": {
              "outlinewidth": 0,
              "ticks": ""
             }
            },
            "type": "scatter3d"
           }
          ],
          "scattercarpet": [
           {
            "marker": {
             "colorbar": {
              "outlinewidth": 0,
              "ticks": ""
             }
            },
            "type": "scattercarpet"
           }
          ],
          "scattergeo": [
           {
            "marker": {
             "colorbar": {
              "outlinewidth": 0,
              "ticks": ""
             }
            },
            "type": "scattergeo"
           }
          ],
          "scattergl": [
           {
            "marker": {
             "colorbar": {
              "outlinewidth": 0,
              "ticks": ""
             }
            },
            "type": "scattergl"
           }
          ],
          "scattermapbox": [
           {
            "marker": {
             "colorbar": {
              "outlinewidth": 0,
              "ticks": ""
             }
            },
            "type": "scattermapbox"
           }
          ],
          "scatterpolar": [
           {
            "marker": {
             "colorbar": {
              "outlinewidth": 0,
              "ticks": ""
             }
            },
            "type": "scatterpolar"
           }
          ],
          "scatterpolargl": [
           {
            "marker": {
             "colorbar": {
              "outlinewidth": 0,
              "ticks": ""
             }
            },
            "type": "scatterpolargl"
           }
          ],
          "scatterternary": [
           {
            "marker": {
             "colorbar": {
              "outlinewidth": 0,
              "ticks": ""
             }
            },
            "type": "scatterternary"
           }
          ],
          "surface": [
           {
            "colorbar": {
             "outlinewidth": 0,
             "ticks": ""
            },
            "colorscale": [
             [
              0,
              "#0d0887"
             ],
             [
              0.1111111111111111,
              "#46039f"
             ],
             [
              0.2222222222222222,
              "#7201a8"
             ],
             [
              0.3333333333333333,
              "#9c179e"
             ],
             [
              0.4444444444444444,
              "#bd3786"
             ],
             [
              0.5555555555555556,
              "#d8576b"
             ],
             [
              0.6666666666666666,
              "#ed7953"
             ],
             [
              0.7777777777777778,
              "#fb9f3a"
             ],
             [
              0.8888888888888888,
              "#fdca26"
             ],
             [
              1,
              "#f0f921"
             ]
            ],
            "type": "surface"
           }
          ],
          "table": [
           {
            "cells": {
             "fill": {
              "color": "#EBF0F8"
             },
             "line": {
              "color": "white"
             }
            },
            "header": {
             "fill": {
              "color": "#C8D4E3"
             },
             "line": {
              "color": "white"
             }
            },
            "type": "table"
           }
          ]
         },
         "layout": {
          "annotationdefaults": {
           "arrowcolor": "#2a3f5f",
           "arrowhead": 0,
           "arrowwidth": 1
          },
          "autotypenumbers": "strict",
          "coloraxis": {
           "colorbar": {
            "outlinewidth": 0,
            "ticks": ""
           }
          },
          "colorscale": {
           "diverging": [
            [
             0,
             "#8e0152"
            ],
            [
             0.1,
             "#c51b7d"
            ],
            [
             0.2,
             "#de77ae"
            ],
            [
             0.3,
             "#f1b6da"
            ],
            [
             0.4,
             "#fde0ef"
            ],
            [
             0.5,
             "#f7f7f7"
            ],
            [
             0.6,
             "#e6f5d0"
            ],
            [
             0.7,
             "#b8e186"
            ],
            [
             0.8,
             "#7fbc41"
            ],
            [
             0.9,
             "#4d9221"
            ],
            [
             1,
             "#276419"
            ]
           ],
           "sequential": [
            [
             0,
             "#0d0887"
            ],
            [
             0.1111111111111111,
             "#46039f"
            ],
            [
             0.2222222222222222,
             "#7201a8"
            ],
            [
             0.3333333333333333,
             "#9c179e"
            ],
            [
             0.4444444444444444,
             "#bd3786"
            ],
            [
             0.5555555555555556,
             "#d8576b"
            ],
            [
             0.6666666666666666,
             "#ed7953"
            ],
            [
             0.7777777777777778,
             "#fb9f3a"
            ],
            [
             0.8888888888888888,
             "#fdca26"
            ],
            [
             1,
             "#f0f921"
            ]
           ],
           "sequentialminus": [
            [
             0,
             "#0d0887"
            ],
            [
             0.1111111111111111,
             "#46039f"
            ],
            [
             0.2222222222222222,
             "#7201a8"
            ],
            [
             0.3333333333333333,
             "#9c179e"
            ],
            [
             0.4444444444444444,
             "#bd3786"
            ],
            [
             0.5555555555555556,
             "#d8576b"
            ],
            [
             0.6666666666666666,
             "#ed7953"
            ],
            [
             0.7777777777777778,
             "#fb9f3a"
            ],
            [
             0.8888888888888888,
             "#fdca26"
            ],
            [
             1,
             "#f0f921"
            ]
           ]
          },
          "colorway": [
           "#636efa",
           "#EF553B",
           "#00cc96",
           "#ab63fa",
           "#FFA15A",
           "#19d3f3",
           "#FF6692",
           "#B6E880",
           "#FF97FF",
           "#FECB52"
          ],
          "font": {
           "color": "#2a3f5f"
          },
          "geo": {
           "bgcolor": "white",
           "lakecolor": "white",
           "landcolor": "#E5ECF6",
           "showlakes": true,
           "showland": true,
           "subunitcolor": "white"
          },
          "hoverlabel": {
           "align": "left"
          },
          "hovermode": "closest",
          "mapbox": {
           "style": "light"
          },
          "paper_bgcolor": "white",
          "plot_bgcolor": "#E5ECF6",
          "polar": {
           "angularaxis": {
            "gridcolor": "white",
            "linecolor": "white",
            "ticks": ""
           },
           "bgcolor": "#E5ECF6",
           "radialaxis": {
            "gridcolor": "white",
            "linecolor": "white",
            "ticks": ""
           }
          },
          "scene": {
           "xaxis": {
            "backgroundcolor": "#E5ECF6",
            "gridcolor": "white",
            "gridwidth": 2,
            "linecolor": "white",
            "showbackground": true,
            "ticks": "",
            "zerolinecolor": "white"
           },
           "yaxis": {
            "backgroundcolor": "#E5ECF6",
            "gridcolor": "white",
            "gridwidth": 2,
            "linecolor": "white",
            "showbackground": true,
            "ticks": "",
            "zerolinecolor": "white"
           },
           "zaxis": {
            "backgroundcolor": "#E5ECF6",
            "gridcolor": "white",
            "gridwidth": 2,
            "linecolor": "white",
            "showbackground": true,
            "ticks": "",
            "zerolinecolor": "white"
           }
          },
          "shapedefaults": {
           "line": {
            "color": "#2a3f5f"
           }
          },
          "ternary": {
           "aaxis": {
            "gridcolor": "white",
            "linecolor": "white",
            "ticks": ""
           },
           "baxis": {
            "gridcolor": "white",
            "linecolor": "white",
            "ticks": ""
           },
           "bgcolor": "#E5ECF6",
           "caxis": {
            "gridcolor": "white",
            "linecolor": "white",
            "ticks": ""
           }
          },
          "title": {
           "x": 0.05
          },
          "xaxis": {
           "automargin": true,
           "gridcolor": "white",
           "linecolor": "white",
           "ticks": "",
           "title": {
            "standoff": 15
           },
           "zerolinecolor": "white",
           "zerolinewidth": 2
          },
          "yaxis": {
           "automargin": true,
           "gridcolor": "white",
           "linecolor": "white",
           "ticks": "",
           "title": {
            "standoff": 15
           },
           "zerolinecolor": "white",
           "zerolinewidth": 2
          }
         }
        },
        "width": 1200
       }
      }
     },
     "metadata": {},
     "output_type": "display_data"
    }
   ],
   "source": [
    "# 3D 스캐터 플롯 및 선 추가\n",
    "fig = go.Figure()\n",
    "\n",
    "# 점을 추가\n",
    "fig.add_trace(go.Scatter3d(x=df1['stmp'], y=df1['ssal'], z=df1['sdep'],\n",
    "                    mode='markers',\n",
    "                    marker=dict(size=6, color='red')))\n",
    "\n",
    "# 선을 추가\n",
    "fig.add_trace(go.Scatter3d(x=df1['stmp'], y=df1['ssal'], z=df1['sdep'],\n",
    "                    mode='lines',\n",
    "                    line=dict(color='blue')))\n",
    "\n",
    "# 축 레이블 설정\n",
    "fig.update_layout(scene=dict(\n",
    "                    xaxis_title='Temperature (C)',\n",
    "                    yaxis_title='Salinity',\n",
    "                    zaxis_title='Depth (m)'), width=1200, height=800\n",
    "                  )\n",
    "\n",
    "# z축 역순 설정 (깊이)\n",
    "fig.update_layout(scene=dict(zaxis=dict(autorange=\"reversed\")))\n",
    "\n",
    "# 차트 보여주기\n",
    "fig.show()"
   ]
  }
 ],
 "metadata": {
  "kernelspec": {
   "display_name": "Python 3 (ipykernel)",
   "language": "python",
   "name": "python3"
  },
  "language_info": {
   "codemirror_mode": {
    "name": "ipython",
    "version": 3
   },
   "file_extension": ".py",
   "mimetype": "text/x-python",
   "name": "python",
   "nbconvert_exporter": "python",
   "pygments_lexer": "ipython3",
   "version": "3.11.4"
  }
 },
 "nbformat": 4,
 "nbformat_minor": 5
}
